{
 "cells": [
  {
   "cell_type": "code",
   "execution_count": 1,
   "metadata": {},
   "outputs": [
    {
     "data": {
      "text/html": [
       "<style>.container { width:90% !important; }</style>"
      ],
      "text/plain": [
       "<IPython.core.display.HTML object>"
      ]
     },
     "metadata": {},
     "output_type": "display_data"
    }
   ],
   "source": [
    "from IPython.display import display, HTML\n",
    "display(HTML('<style>.container { width:90% !important; }</style>'))  # makes it wider"
   ]
  },
  {
   "cell_type": "code",
   "execution_count": 3,
   "metadata": {},
   "outputs": [],
   "source": [
    "import ad_execute\n",
    "\n",
    "\n",
    "jobs = {\n",
    "    'train': {'description': 'this is for test',\n",
    "              'dates': '2020-06-05 18:35:00',\n",
    "              'groups': 'event_type_and_category',\n",
    "              'time_indicator': 'date',\n",
    "              'feature': 'time_diff',\n",
    "              'days': 'once'},\n",
    "    'prediction': {'description': None,\n",
    "                   'dates': '2020-06-05 01:00:00',\n",
    "                   'groups': 'event_type_and_category',\n",
    "                   'time_indicator': 'date',\n",
    "                   'feature': 'time_diff',\n",
    "                   'days': 'daily'},\n",
    "    'parameter_tuning': {'description': None,\n",
    "                         'dates': '2020-06-05 01:00:00',\n",
    "                         'groups': 'event_type_and_category',\n",
    "                         'time_indicator': 'date',\n",
    "                         'feature': 'time_diff',\n",
    "                         'days': 'thursdays'}\n",
    "}\n"
   ]
  },
  {
   "cell_type": "code",
   "execution_count": 4,
   "metadata": {
    "scrolled": true
   },
   "outputs": [
    {
     "name": "stdout",
     "output_type": "stream",
     "text": [
      "local\n",
      "available port for service : model_iso_f  -  6000\n",
      "available port for service : model_lstm  -  6005\n",
      "available port for service : model_prophet  -  6006\n",
      "available port for service : ml_execute  -  6011\n",
      "Configuration process is completed!!!\n",
      "platform is initialized!!!\n",
      "port : 6011\n",
      "host : mac.local\n",
      " * Serving Flask app \"create_api\" (lazy loading)\n",
      " * Environment: production\n",
      "   WARNING: This is a development server. Do not use it in a production deployment.\n",
      "   Use a production WSGI server instead.\n",
      " * Debug mode: off\n"
     ]
    },
    {
     "name": "stderr",
     "output_type": "stream",
     "text": [
      " * Running on http://mac.local:6011/ (Press CTRL+C to quit)\n"
     ]
    },
    {
     "name": "stdout",
     "output_type": "stream",
     "text": [
      "platform is up!!!\n",
      "*****  WEB APPLICATION  *****\n",
      "Running on  http://0.0.0.0:7004/\n",
      "\n",
      "None\n",
      "'>=' not supported between instances of 'list' and 'int'\n",
      " * Serving Flask app \"web.main\" (lazy loading)\n",
      " * Environment: production\n",
      "   WARNING: This is a development server. Do not use it in a production deployment.\n",
      "   Use a production WSGI server instead.\n",
      " * Debug mode: off\n"
     ]
    },
    {
     "name": "stderr",
     "output_type": "stream",
     "text": [
      " * Running on http://127.0.0.1:7004/ (Press CTRL+C to quit)\n",
      "127.0.0.1 - - [05/Jun/2020 20:41:42] \"\u001b[37mGET / HTTP/1.1\u001b[0m\" 200 -\n"
     ]
    },
    {
     "name": "stdout",
     "output_type": "stream",
     "text": [
      "port :port :port :  6006\n",
      "host : mac.local\n",
      " * Serving Flask app \"create_api\" (lazy loading)\n",
      "6005\n",
      "host : mac.local\n",
      " * Serving Flask app \"create_api\" (lazy loading)\n",
      " 6000\n",
      "host : mac.local\n",
      " * Environment: production\n",
      " * Serving Flask app \"create_api\" (lazy loading)\n",
      " * Environment: production\n",
      "   WARNING: This is a development server. Do not use it in a production deployment.\n",
      "   WARNING: This is a development server. Do not use it in a production deployment.\n",
      "   Use a production WSGI server instead.\n",
      "   Use a production WSGI server instead.\n",
      " * Debug mode: off\n",
      " * Debug mode: off\n",
      " * Environment: production\n"
     ]
    },
    {
     "name": "stderr",
     "output_type": "stream",
     "text": [
      " * Running on http://mac.local:6005/ (Press CTRL+C to quit)\n",
      " * Running on http://mac.local:6006/ (Press CTRL+C to quit)\n"
     ]
    },
    {
     "name": "stdout",
     "output_type": "stream",
     "text": [
      "   WARNING: This is a development server. Do not use it in a production deployment.\n",
      "   Use a production WSGI server instead.\n",
      " * Debug mode: off\n"
     ]
    },
    {
     "name": "stderr",
     "output_type": "stream",
     "text": [
      " * Running on http://mac.local:6000/ (Press CTRL+C to quit)\n",
      "127.0.0.1 - - [05/Jun/2020 20:41:42] \"\u001b[33mGET /favicon.ico HTTP/1.1\u001b[0m\" 404 -\n",
      "127.0.0.1 - - [05/Jun/2020 20:41:56] \"\u001b[37mGET / HTTP/1.1\u001b[0m\" 200 -\n",
      "127.0.0.1 - - [05/Jun/2020 20:41:58] \"\u001b[37mGET /home HTTP/1.1\u001b[0m\" 200 -\n",
      "127.0.0.1 - - [05/Jun/2020 20:42:01] \"\u001b[32mGET /query?messages=True HTTP/1.1\u001b[0m\" 302 -\n",
      "127.0.0.1 - - [05/Jun/2020 20:42:01] \"\u001b[37mGET /configs HTTP/1.1\u001b[0m\" 200 -\n"
     ]
    },
    {
     "name": "stdout",
     "output_type": "stream",
     "text": [
      "yessssssssss\n",
      "join() argument must be str or bytes, not 'NoneType'\n",
      "True\n",
      "{'db': 'flash-clover-268917-c90dc06757de.json', 'password': '', 'port': '', 'server': '', 'user': ''}\n",
      "yeesssss\n",
      "yesssadadadadadadasdadda\n",
      "update :\n",
      "yessssssssss\n",
      "db connection is done!\n"
     ]
    },
    {
     "name": "stderr",
     "output_type": "stream",
     "text": [
      "127.0.0.1 - - [05/Jun/2020 20:42:36] \"\u001b[32mPOST /configs HTTP/1.1\u001b[0m\" 302 -\n"
     ]
    },
    {
     "name": "stdout",
     "output_type": "stream",
     "text": [
      "True\n",
      "yessssssssss\n",
      "db connection is done!\n"
     ]
    },
    {
     "name": "stderr",
     "output_type": "stream",
     "text": [
      "127.0.0.1 - - [05/Jun/2020 20:42:46] \"\u001b[37mGET /query?messages=True HTTP/1.1\u001b[0m\" 200 -\n"
     ]
    },
    {
     "name": "stdout",
     "output_type": "stream",
     "text": [
      "True\n",
      "browser time:  Fri Jun 05 2020 20:45:06 GMT 0300 (GMT 03:00)\n",
      "server time :  Friday June, 05 2020 20:45:06\n",
      "Fri Jun 05 2020 20:45:06\n",
      "2020-06-05 20:45:06\n"
     ]
    },
    {
     "name": "stderr",
     "output_type": "stream",
     "text": [
      "127.0.0.1 - - [05/Jun/2020 20:45:06] \"\u001b[37mGET /timer?messages=True&time=Fri%20Jun%2005%202020%2020:45:06%20GMT+0300%20(GMT+03:00) HTTP/1.1\u001b[0m\" 200 -\n"
     ]
    },
    {
     "name": "stdout",
     "output_type": "stream",
     "text": [
      "yessssssssss\n",
      "db connection is done!\n"
     ]
    },
    {
     "name": "stderr",
     "output_type": "stream",
     "text": [
      "127.0.0.1 - - [05/Jun/2020 20:45:18] \"\u001b[37mPOST /query?messages=True HTTP/1.1\u001b[0m\" 200 -\n",
      "127.0.0.1 - - [05/Jun/2020 20:45:18] \"\u001b[37mGET /ml_execute HTTP/1.1\u001b[0m\" 200 -\n"
     ]
    },
    {
     "name": "stdout",
     "output_type": "stream",
     "text": [
      "True\n",
      "yeesssss\n",
      "yesssadadadadadadasdadda\n",
      "update :\n",
      "{'parameter_tuning': {'iso_f': 0, 'lstm': 0, 'prophet': 0}, 'prediction': {'iso_f': 0, 'lstm': 0, 'prophet': 0}, 'train': {'iso_f': 0, 'lstm': 0, 'prophet': 0}}\n",
      "*****\n",
      "[]\n",
      "[]\n",
      "[]\n",
      "{'parameter_tuning': {'status': 'init', 'process': 'stop', 'active': False, 'start_time': datetime.datetime(2020, 6, 6, 20, 48), 'percent': 0}, 'prediction': {'status': 'waiting', 'process': 'start', 'active': True, 'start_time': datetime.datetime(2020, 6, 5, 23, 0), 'percent': 0}, 'train': {'status': 'init', 'process': 'stop', 'active': False, 'start_time': datetime.datetime(2020, 6, 5, 20, 48), 'percent': 0}}\n",
      "browser time:  Fri Jun 05 2020 20:45:20 GMT 0300 (GMT 03:00)\n",
      "server time :  Friday June, 05 2020 20:45:20\n",
      "Fri Jun 05 2020 20:45:20\n",
      "2020-06-05 20:45:20\n"
     ]
    },
    {
     "name": "stderr",
     "output_type": "stream",
     "text": [
      "127.0.0.1 - - [05/Jun/2020 20:45:20] \"\u001b[37mGET /timer?time=Fri%20Jun%2005%202020%2020:45:20%20GMT+0300%20(GMT+03:00) HTTP/1.1\u001b[0m\" 200 -\n"
     ]
    },
    {
     "name": "stdout",
     "output_type": "stream",
     "text": [
      "{'parameter_tuning': {'iso_f': 0, 'lstm': 0, 'prophet': 0}, 'prediction': {'iso_f': 0, 'lstm': 0, 'prophet': 0}, 'train': {'iso_f': 0, 'lstm': 0, 'prophet': 0}}\n",
      "*****\n",
      "['prediction']\n",
      "['prediction']\n",
      "fact :\n",
      "Job was initialized before..\n",
      "request : stop\n",
      "None\n",
      "browser_time : 2020-06-05 20:00:00  || start_time : 2020-06-05 23:00:00  || diff : 0  ||  time : 23:00 current time : 2020-06-05 20:45:20.685285\n",
      "request for stop !!!\n"
     ]
    },
    {
     "name": "stderr",
     "output_type": "stream",
     "text": [
      "192.168.0.34 - - [05/Jun/2020 20:45:20] \"\u001b[37mGET /ml?job=stop&model=train& HTTP/1.1\u001b[0m\" 200 -\n"
     ]
    },
    {
     "name": "stdout",
     "output_type": "stream",
     "text": [
      "sent : {'job': 'stop', 'model': 'train', 'groups': None, 'date': None, 'time_indicator': None, 'feature': None, 'data_source': None, 'data_query_path': None, 'time_period': None}\n",
      "\n"
     ]
    },
    {
     "name": "stderr",
     "output_type": "stream",
     "text": [
      "127.0.0.1 - - [05/Jun/2020 20:45:23] \"\u001b[37mPOST /ml_execute HTTP/1.1\u001b[0m\" 200 -\n"
     ]
    },
    {
     "name": "stdout",
     "output_type": "stream",
     "text": [
      "['prediction']\n",
      "{'parameter_tuning': {'status': 'init', 'process': 'stop', 'active': False, 'start_time': datetime.datetime(2020, 6, 6, 20, 48), 'percent': 0}, 'prediction': {'status': 'init', 'process': 'stop', 'active': True, 'start_time': datetime.datetime(2020, 6, 5, 23, 0), 'percent': 0}, 'train': {'status': 'init', 'process': 'stop', 'active': False, 'start_time': datetime.datetime(2020, 6, 5, 20, 48), 'percent': 0}}\n"
     ]
    },
    {
     "name": "stderr",
     "output_type": "stream",
     "text": [
      "127.0.0.1 - - [05/Jun/2020 20:45:24] \"\u001b[37mGET /timer?time=Fri%20Jun%2005%202020%2020:45:24%20GMT+0300%20(GMT+03:00) HTTP/1.1\u001b[0m\" 200 -\n"
     ]
    },
    {
     "name": "stdout",
     "output_type": "stream",
     "text": [
      "browser time:  Fri Jun 05 2020 20:45:24 GMT 0300 (GMT 03:00)\n",
      "server time :  Friday June, 05 2020 20:45:24\n",
      "Fri Jun 05 2020 20:45:24\n",
      "2020-06-05 20:45:24\n",
      "{'parameter_tuning': {'iso_f': 0, 'lstm': 0, 'prophet': 0}, 'prediction': {'iso_f': 0, 'lstm': 0, 'prophet': 0}, 'train': {'iso_f': 0, 'lstm': 0, 'prophet': 0}}\n",
      "*****\n",
      "['train']\n",
      "['train']\n",
      "['train']\n",
      "fact :\n",
      "job was stopped or even was not started before..\n",
      "request : start\n",
      "None\n",
      "browser_time : 2020-06-05 20:00:00  || start_time : 2020-06-05 20:48:00  || diff : 0  ||  time : 20:48 current time : 2020-06-05 20:45:24.886174\n",
      "stop if there is existed running task\n",
      "request for start !!!\n"
     ]
    },
    {
     "name": "stderr",
     "output_type": "stream",
     "text": [
      "192.168.0.34 - - [05/Jun/2020 20:45:24] \"\u001b[37mGET /ml_execute?job=train& HTTP/1.1\u001b[0m\" 200 -\n"
     ]
    },
    {
     "name": "stdout",
     "output_type": "stream",
     "text": [
      "sent : {'job': 'train'}\n",
      "received : {'job': 'train', 'process': 'start'}  time : 2020-06-05 20:45:25.004686\n",
      "None\n",
      "browser_time : 2020-06-05 20:00:00  || start_time : 2020-06-05 20:48:00  || diff : 0  ||  time : 20:48 current time : 2020-06-05 20:45:25.099090\n"
     ]
    },
    {
     "name": "stderr",
     "output_type": "stream",
     "text": [
      "127.0.0.1 - - [05/Jun/2020 20:45:26] \"\u001b[37mPOST /ml_execute HTTP/1.1\u001b[0m\" 200 -\n"
     ]
    },
    {
     "name": "stdout",
     "output_type": "stream",
     "text": [
      "{'parameter_tuning': {'status': 'init', 'process': 'stop', 'active': False, 'start_time': datetime.datetime(2020, 6, 6, 20, 48), 'percent': 0}, 'prediction': {'status': 'init', 'process': 'stop', 'active': False, 'start_time': datetime.datetime(2020, 6, 5, 23, 0), 'percent': 0}, 'train': {'status': 'waiting', 'process': 'start', 'active': False, 'start_time': datetime.datetime(2020, 6, 5, 20, 48), 'percent': 0}}\n",
      "browser time:  Fri Jun 05 2020 20:45:28 GMT 0300 (GMT 03:00)\n",
      "server time :  Friday June, 05 2020 20:45:28\n",
      "Fri Jun 05 2020 20:45:28\n",
      "2020-06-05 20:45:28\n"
     ]
    },
    {
     "name": "stderr",
     "output_type": "stream",
     "text": [
      "127.0.0.1 - - [05/Jun/2020 20:45:28] \"\u001b[37mGET /timer?time=Fri%20Jun%2005%202020%2020:45:28%20GMT+0300%20(GMT+03:00) HTTP/1.1\u001b[0m\" 200 -\n"
     ]
    },
    {
     "name": "stdout",
     "output_type": "stream",
     "text": [
      "{'parameter_tuning': {'iso_f': 0, 'lstm': 0, 'prophet': 0}, 'prediction': {'iso_f': 0, 'lstm': 0, 'prophet': 0}, 'train': {'iso_f': 0, 'lstm': 0, 'prophet': 0}}\n",
      "*****\n",
      "['prediction']\n",
      "['prediction']\n",
      "fact :\n",
      "job was stopped or even was not started before..\n",
      "request : start\n",
      "None\n",
      "browser_time : 2020-06-05 20:00:00  || start_time : 2020-06-05 23:00:00  || diff : 0  ||  time : 23:00 current time : 2020-06-05 20:45:28.892060\n",
      "stop if there is existed running task\n",
      "request for start !!!\n"
     ]
    },
    {
     "name": "stderr",
     "output_type": "stream",
     "text": [
      "192.168.0.34 - - [05/Jun/2020 20:45:28] \"\u001b[37mGET /ml_execute?job=prediction& HTTP/1.1\u001b[0m\" 200 -\n"
     ]
    },
    {
     "name": "stdout",
     "output_type": "stream",
     "text": [
      "sent : {'job': 'prediction'}\n",
      "received : {'job': 'prediction', 'process': 'start'}  time : 2020-06-05 20:45:29.053178\n",
      "None\n",
      "browser_time : 2020-06-05 20:00:00  || start_time : 2020-06-05 23:00:00  || diff : 0  ||  time : 23:00 current time : 2020-06-05 20:45:29.163311\n"
     ]
    },
    {
     "name": "stderr",
     "output_type": "stream",
     "text": [
      "127.0.0.1 - - [05/Jun/2020 20:45:31] \"\u001b[37mPOST /ml_execute HTTP/1.1\u001b[0m\" 200 -\n"
     ]
    },
    {
     "name": "stdout",
     "output_type": "stream",
     "text": [
      "['prediction']\n",
      "{'parameter_tuning': {'status': 'init', 'process': 'stop', 'active': False, 'start_time': datetime.datetime(2020, 6, 6, 20, 48), 'percent': 0}, 'prediction': {'status': 'waiting', 'process': 'start', 'active': False, 'start_time': datetime.datetime(2020, 6, 5, 23, 0), 'percent': 0}, 'train': {'status': 'waiting', 'process': 'start', 'active': True, 'start_time': datetime.datetime(2020, 6, 5, 20, 48), 'percent': 0}}\n"
     ]
    },
    {
     "name": "stderr",
     "output_type": "stream",
     "text": [
      "192.168.0.34 - - [05/Jun/2020 20:48:00] \"\u001b[37mGET /ml?data_query_path=++++++++++++++++++++++++++++++++++++++++++++SELECT++++++++++++++++++++++++++++++++++++++++++++++++fullVisitorId,++++++++++++++++++++++++++++++++++++++++++++++++TIMESTAMP_SECONDS(visitStartTime)+as+date,+++++++++++++++++++++++++++++++++++++++++++++++++CASE+WHEN+type+=+'PAGE'+THEN+'PAGE'++++++++++++++++++++++++++++++++++++++++++++++++ELSE+eventAction+END+as+event_type_and_category,++++++++++++++++++++++++++++++++++++++++++++++++MIN(time)+/+1000+as+time_diff++++++++++++++++++++++++++++++++++++++++++++++FROM+(SELECT+++++++++++++++++++++++++++++++++++++++++++++++++++++++geoNetwork.city+as+city,++++++++++++++++++++++++++++++++++++++++++++++++++++++device.browser+browser,++++++++++++++++++++++++++++++++++++++++++++++++++++++device.deviceCategory+deviceCategory,++++++++++++++++++++++++++++++++++++++++++++++++++++++visitStartTime,++++++++++++++++++++++++++++++++++++++++++++++++++++++hits.eventInfo.eventAction+eventAction,+++++++++++++++++++++++++++++++++++++++++++++++++++++++hits.eventInfo.eventCategory+eventCategory,+++++++++++++++++++++++++++++++++++++++++++++++++++++++hits.type+type,+++++++++++++++++++++++++++++++++++++++++++++++++++++++hits.page.pageTitle+pageTitle,+++++++++++++++++++++++++++++++++++++++++++++++++++++++hits.time+time,++++++++++++++++++++++++++++++++++++++++++++++++++++++fullVisitorId+as+fullVisitorId++++++++++++++++++++++++++++++++++++++++++++++++++++FROM+`bigquery-public-data.google_analytics_sample.ga_sessions_*`,+++++++++++++++++++++++++++++++++++++++++++++++++++++++++UNNEST(hits)+as+hits+++++++++++++++++++++++++++++++++++++++++++++++++++)+as+a++++++++++++++++++++++++++++++++++++++++++++++WHERE+pageTitle+!=+'Home'++++++++++++++++++++++++++++++++++++++++++++++GROUP+BY++++++++++++++++++++++++++++++++++++++++++++++++++++++++++++++visitStartTime,++++++++++++++++++++++++++++++++++++++++++++++++++++++++++deviceCategory,++++++++++++++++++++++++++++++++++++++++++++++++++++++++++browser,++++++++++++++++++++++++++++++++++++++++++++++++++++++++++city,++++++++++++++++++++++++++++++++++++++++++++++++++++++++++eventAction,+++++++++++++++++++++++++++++++++++++++++++++++++++++++++++eventCategory,+++++++++++++++++++++++++++++++++++++++++++++++++++++++++++type,+++++++++++++++++++++++++++++++++++++++++++++++++++++++++++pageTitle,++++++++++++++++++++++++++++++++++++++++++++++++++++++++++eventCategory,++++++++++++++++++++++++++++++++++++++++++++++++++++++++++fullVisitorId++++++++++++++++++++++++++++++++++++++++++++++ORDER+BY+fullVisitorId,+visitStartTime+&data_source=googlebigquery&date=None&feature=time_diff&groups=event_type_and_category&job=train&model=lstm&time_indicator=date&time_period=only+once& HTTP/1.1\u001b[0m\" 200 -\n"
     ]
    },
    {
     "name": "stdout",
     "output_type": "stream",
     "text": [
      "sent : {'job': 'train', 'model': 'lstm', 'groups': 'event_type_and_category', 'date': 'None', 'time_indicator': 'date', 'feature': 'time_diff', 'data_source': 'googlebigquery', 'data_query_path': \"                                            SELECT                                                fullVisitorId,                                                TIMESTAMP_SECONDS(visitStartTime) as date,                                                 CASE WHEN type = 'PAGE' THEN 'PAGE'                                                ELSE eventAction END as event_type_and_category,                                                MIN(time) / 1000 as time_diff                                              FROM (SELECT                                                       geoNetwork.city as city,                                                      device.browser browser,                                                      device.deviceCategory deviceCategory,                                                      visitStartTime,                                                      hits.eventInfo.eventAction eventAction,                                                       hits.eventInfo.eventCategory eventCategory,                                                       hits.type type,                                                       hits.page.pageTitle pageTitle,                                                       hits.time time,                                                      fullVisitorId as fullVisitorId                                                    FROM `bigquery-public-data.google_analytics_sample.ga_sessions_*`,                                                         UNNEST(hits) as hits                                                   ) as a                                              WHERE pageTitle != 'Home'                                              GROUP BY                                                              visitStartTime,                                                          deviceCategory,                                                          browser,                                                          city,                                                          eventAction,                                                           eventCategory,                                                           type,                                                           pageTitle,                                                          eventCategory,                                                          fullVisitorId                                              ORDER BY fullVisitorId, visitStartTime \", 'time_period': 'only once'}\n",
      "received : {'job': 'train', 'model': 'lstm', 'groups': 'event_type_and_category', 'date': 'None', 'time_indicator': 'date', 'feature': 'time_diff', 'data_source': 'googlebigquery', 'data_query_path': \"                                            SELECT                                                fullVisitorId,                                                TIMESTAMP_SECONDS(visitStartTime) as date,                                                 CASE WHEN type = 'PAGE' THEN 'PAGE'                                                ELSE eventAction END as event_type_and_category,                                                MIN(time) / 1000 as time_diff                                              FROM (SELECT                                                       geoNetwork.city as city,                                                      device.browser browser,                                                      device.deviceCategory deviceCategory,                                                      visitStartTime,                                                      hits.eventInfo.eventAction eventAction,                                                       hits.eventInfo.eventCategory eventCategory,                                                       hits.type type,                                                       hits.page.pageTitle pageTitle,                                                       hits.time time,                                                      fullVisitorId as fullVisitorId                                                    FROM `bigquery-public-data.google_analytics_sample.ga_sessions_*`,                                                         UNNEST(hits) as hits                                                   ) as a                                              WHERE pageTitle != 'Home'                                              GROUP BY                                                              visitStartTime,                                                          deviceCategory,                                                          browser,                                                          city,                                                          eventAction,                                                           eventCategory,                                                           type,                                                           pageTitle,                                                          eventCategory,                                                          fullVisitorId                                              ORDER BY fullVisitorId, visitStartTime \", 'time_period': 'only once'}  time : 2020-06-05 20:48:00.044866\n",
      "db connection is done!\n"
     ]
    },
    {
     "name": "stderr",
     "output_type": "stream",
     "text": [
      "192.168.0.34 - - [05/Jun/2020 20:48:02] \"\u001b[37mGET /ml?data_query_path=++++++++++++++++++++++++++++++++++++++++++++SELECT++++++++++++++++++++++++++++++++++++++++++++++++fullVisitorId,++++++++++++++++++++++++++++++++++++++++++++++++TIMESTAMP_SECONDS(visitStartTime)+as+date,+++++++++++++++++++++++++++++++++++++++++++++++++CASE+WHEN+type+=+'PAGE'+THEN+'PAGE'++++++++++++++++++++++++++++++++++++++++++++++++ELSE+eventAction+END+as+event_type_and_category,++++++++++++++++++++++++++++++++++++++++++++++++MIN(time)+/+1000+as+time_diff++++++++++++++++++++++++++++++++++++++++++++++FROM+(SELECT+++++++++++++++++++++++++++++++++++++++++++++++++++++++geoNetwork.city+as+city,++++++++++++++++++++++++++++++++++++++++++++++++++++++device.browser+browser,++++++++++++++++++++++++++++++++++++++++++++++++++++++device.deviceCategory+deviceCategory,++++++++++++++++++++++++++++++++++++++++++++++++++++++visitStartTime,++++++++++++++++++++++++++++++++++++++++++++++++++++++hits.eventInfo.eventAction+eventAction,+++++++++++++++++++++++++++++++++++++++++++++++++++++++hits.eventInfo.eventCategory+eventCategory,+++++++++++++++++++++++++++++++++++++++++++++++++++++++hits.type+type,+++++++++++++++++++++++++++++++++++++++++++++++++++++++hits.page.pageTitle+pageTitle,+++++++++++++++++++++++++++++++++++++++++++++++++++++++hits.time+time,++++++++++++++++++++++++++++++++++++++++++++++++++++++fullVisitorId+as+fullVisitorId++++++++++++++++++++++++++++++++++++++++++++++++++++FROM+`bigquery-public-data.google_analytics_sample.ga_sessions_*`,+++++++++++++++++++++++++++++++++++++++++++++++++++++++++UNNEST(hits)+as+hits+++++++++++++++++++++++++++++++++++++++++++++++++++)+as+a++++++++++++++++++++++++++++++++++++++++++++++WHERE+pageTitle+!=+'Home'++++++++++++++++++++++++++++++++++++++++++++++GROUP+BY++++++++++++++++++++++++++++++++++++++++++++++++++++++++++++++visitStartTime,++++++++++++++++++++++++++++++++++++++++++++++++++++++++++deviceCategory,++++++++++++++++++++++++++++++++++++++++++++++++++++++++++browser,++++++++++++++++++++++++++++++++++++++++++++++++++++++++++city,++++++++++++++++++++++++++++++++++++++++++++++++++++++++++eventAction,+++++++++++++++++++++++++++++++++++++++++++++++++++++++++++eventCategory,+++++++++++++++++++++++++++++++++++++++++++++++++++++++++++type,+++++++++++++++++++++++++++++++++++++++++++++++++++++++++++pageTitle,++++++++++++++++++++++++++++++++++++++++++++++++++++++++++eventCategory,++++++++++++++++++++++++++++++++++++++++++++++++++++++++++fullVisitorId++++++++++++++++++++++++++++++++++++++++++++++ORDER+BY+fullVisitorId,+visitStartTime+&data_source=googlebigquery&date=None&feature=time_diff&groups=event_type_and_category&job=train&model=iso_f&time_indicator=date&time_period=only+once& HTTP/1.1\u001b[0m\" 200 -\n"
     ]
    },
    {
     "name": "stdout",
     "output_type": "stream",
     "text": [
      "sent : {'job': 'train', 'model': 'iso_f', 'groups': 'event_type_and_category', 'date': 'None', 'time_indicator': 'date', 'feature': 'time_diff', 'data_source': 'googlebigquery', 'data_query_path': \"                                            SELECT                                                fullVisitorId,                                                TIMESTAMP_SECONDS(visitStartTime) as date,                                                 CASE WHEN type = 'PAGE' THEN 'PAGE'                                                ELSE eventAction END as event_type_and_category,                                                MIN(time) / 1000 as time_diff                                              FROM (SELECT                                                       geoNetwork.city as city,                                                      device.browser browser,                                                      device.deviceCategory deviceCategory,                                                      visitStartTime,                                                      hits.eventInfo.eventAction eventAction,                                                       hits.eventInfo.eventCategory eventCategory,                                                       hits.type type,                                                       hits.page.pageTitle pageTitle,                                                       hits.time time,                                                      fullVisitorId as fullVisitorId                                                    FROM `bigquery-public-data.google_analytics_sample.ga_sessions_*`,                                                         UNNEST(hits) as hits                                                   ) as a                                              WHERE pageTitle != 'Home'                                              GROUP BY                                                              visitStartTime,                                                          deviceCategory,                                                          browser,                                                          city,                                                          eventAction,                                                           eventCategory,                                                           type,                                                           pageTitle,                                                          eventCategory,                                                          fullVisitorId                                              ORDER BY fullVisitorId, visitStartTime \", 'time_period': 'only once'}\n",
      "received : {'job': 'train', 'model': 'iso_f', 'groups': 'event_type_and_category', 'date': 'None', 'time_indicator': 'date', 'feature': 'time_diff', 'data_source': 'googlebigquery', 'data_query_path': \"                                            SELECT                                                fullVisitorId,                                                TIMESTAMP_SECONDS(visitStartTime) as date,                                                 CASE WHEN type = 'PAGE' THEN 'PAGE'                                                ELSE eventAction END as event_type_and_category,                                                MIN(time) / 1000 as time_diff                                              FROM (SELECT                                                       geoNetwork.city as city,                                                      device.browser browser,                                                      device.deviceCategory deviceCategory,                                                      visitStartTime,                                                      hits.eventInfo.eventAction eventAction,                                                       hits.eventInfo.eventCategory eventCategory,                                                       hits.type type,                                                       hits.page.pageTitle pageTitle,                                                       hits.time time,                                                      fullVisitorId as fullVisitorId                                                    FROM `bigquery-public-data.google_analytics_sample.ga_sessions_*`,                                                         UNNEST(hits) as hits                                                   ) as a                                              WHERE pageTitle != 'Home'                                              GROUP BY                                                              visitStartTime,                                                          deviceCategory,                                                          browser,                                                          city,                                                          eventAction,                                                           eventCategory,                                                           type,                                                           pageTitle,                                                          eventCategory,                                                          fullVisitorId                                              ORDER BY fullVisitorId, visitStartTime \", 'time_period': 'only once'}  time : 2020-06-05 20:48:02.067510\n",
      "db connection is done!\n"
     ]
    },
    {
     "name": "stderr",
     "output_type": "stream",
     "text": [
      "192.168.0.34 - - [05/Jun/2020 20:48:04] \"\u001b[37mGET /ml?data_query_path=++++++++++++++++++++++++++++++++++++++++++++SELECT++++++++++++++++++++++++++++++++++++++++++++++++fullVisitorId,++++++++++++++++++++++++++++++++++++++++++++++++TIMESTAMP_SECONDS(visitStartTime)+as+date,+++++++++++++++++++++++++++++++++++++++++++++++++CASE+WHEN+type+=+'PAGE'+THEN+'PAGE'++++++++++++++++++++++++++++++++++++++++++++++++ELSE+eventAction+END+as+event_type_and_category,++++++++++++++++++++++++++++++++++++++++++++++++MIN(time)+/+1000+as+time_diff++++++++++++++++++++++++++++++++++++++++++++++FROM+(SELECT+++++++++++++++++++++++++++++++++++++++++++++++++++++++geoNetwork.city+as+city,++++++++++++++++++++++++++++++++++++++++++++++++++++++device.browser+browser,++++++++++++++++++++++++++++++++++++++++++++++++++++++device.deviceCategory+deviceCategory,++++++++++++++++++++++++++++++++++++++++++++++++++++++visitStartTime,++++++++++++++++++++++++++++++++++++++++++++++++++++++hits.eventInfo.eventAction+eventAction,+++++++++++++++++++++++++++++++++++++++++++++++++++++++hits.eventInfo.eventCategory+eventCategory,+++++++++++++++++++++++++++++++++++++++++++++++++++++++hits.type+type,+++++++++++++++++++++++++++++++++++++++++++++++++++++++hits.page.pageTitle+pageTitle,+++++++++++++++++++++++++++++++++++++++++++++++++++++++hits.time+time,++++++++++++++++++++++++++++++++++++++++++++++++++++++fullVisitorId+as+fullVisitorId++++++++++++++++++++++++++++++++++++++++++++++++++++FROM+`bigquery-public-data.google_analytics_sample.ga_sessions_*`,+++++++++++++++++++++++++++++++++++++++++++++++++++++++++UNNEST(hits)+as+hits+++++++++++++++++++++++++++++++++++++++++++++++++++)+as+a++++++++++++++++++++++++++++++++++++++++++++++WHERE+pageTitle+!=+'Home'++++++++++++++++++++++++++++++++++++++++++++++GROUP+BY++++++++++++++++++++++++++++++++++++++++++++++++++++++++++++++visitStartTime,++++++++++++++++++++++++++++++++++++++++++++++++++++++++++deviceCategory,++++++++++++++++++++++++++++++++++++++++++++++++++++++++++browser,++++++++++++++++++++++++++++++++++++++++++++++++++++++++++city,++++++++++++++++++++++++++++++++++++++++++++++++++++++++++eventAction,+++++++++++++++++++++++++++++++++++++++++++++++++++++++++++eventCategory,+++++++++++++++++++++++++++++++++++++++++++++++++++++++++++type,+++++++++++++++++++++++++++++++++++++++++++++++++++++++++++pageTitle,++++++++++++++++++++++++++++++++++++++++++++++++++++++++++eventCategory,++++++++++++++++++++++++++++++++++++++++++++++++++++++++++fullVisitorId++++++++++++++++++++++++++++++++++++++++++++++ORDER+BY+fullVisitorId,+visitStartTime+&data_source=googlebigquery&date=None&feature=time_diff&groups=event_type_and_category&job=train&model=prophet&time_indicator=date&time_period=only+once& HTTP/1.1\u001b[0m\" 200 -\n"
     ]
    },
    {
     "name": "stdout",
     "output_type": "stream",
     "text": [
      "sent : {'job': 'train', 'model': 'prophet', 'groups': 'event_type_and_category', 'date': 'None', 'time_indicator': 'date', 'feature': 'time_diff', 'data_source': 'googlebigquery', 'data_query_path': \"                                            SELECT                                                fullVisitorId,                                                TIMESTAMP_SECONDS(visitStartTime) as date,                                                 CASE WHEN type = 'PAGE' THEN 'PAGE'                                                ELSE eventAction END as event_type_and_category,                                                MIN(time) / 1000 as time_diff                                              FROM (SELECT                                                       geoNetwork.city as city,                                                      device.browser browser,                                                      device.deviceCategory deviceCategory,                                                      visitStartTime,                                                      hits.eventInfo.eventAction eventAction,                                                       hits.eventInfo.eventCategory eventCategory,                                                       hits.type type,                                                       hits.page.pageTitle pageTitle,                                                       hits.time time,                                                      fullVisitorId as fullVisitorId                                                    FROM `bigquery-public-data.google_analytics_sample.ga_sessions_*`,                                                         UNNEST(hits) as hits                                                   ) as a                                              WHERE pageTitle != 'Home'                                              GROUP BY                                                              visitStartTime,                                                          deviceCategory,                                                          browser,                                                          city,                                                          eventAction,                                                           eventCategory,                                                           type,                                                           pageTitle,                                                          eventCategory,                                                          fullVisitorId                                              ORDER BY fullVisitorId, visitStartTime \", 'time_period': 'only once'}\n",
      "received : {'job': 'train', 'model': 'prophet', 'groups': 'event_type_and_category', 'date': 'None', 'time_indicator': 'date', 'feature': 'time_diff', 'data_source': 'googlebigquery', 'data_query_path': \"                                            SELECT                                                fullVisitorId,                                                TIMESTAMP_SECONDS(visitStartTime) as date,                                                 CASE WHEN type = 'PAGE' THEN 'PAGE'                                                ELSE eventAction END as event_type_and_category,                                                MIN(time) / 1000 as time_diff                                              FROM (SELECT                                                       geoNetwork.city as city,                                                      device.browser browser,                                                      device.deviceCategory deviceCategory,                                                      visitStartTime,                                                      hits.eventInfo.eventAction eventAction,                                                       hits.eventInfo.eventCategory eventCategory,                                                       hits.type type,                                                       hits.page.pageTitle pageTitle,                                                       hits.time time,                                                      fullVisitorId as fullVisitorId                                                    FROM `bigquery-public-data.google_analytics_sample.ga_sessions_*`,                                                         UNNEST(hits) as hits                                                   ) as a                                              WHERE pageTitle != 'Home'                                              GROUP BY                                                              visitStartTime,                                                          deviceCategory,                                                          browser,                                                          city,                                                          eventAction,                                                           eventCategory,                                                           type,                                                           pageTitle,                                                          eventCategory,                                                          fullVisitorId                                              ORDER BY fullVisitorId, visitStartTime \", 'time_period': 'only once'}  time : 2020-06-05 20:48:04.093820\n",
      "db connection is done!\n",
      "requests are sent!!!\n",
      "browser time:  Fri Jun 05 2020 20:48:51 GMT 0300 (GMT 03:00)\n",
      "server time :  Friday June, 05 2020 20:48:51\n",
      "Fri Jun 05 2020 20:48:51\n",
      "2020-06-05 20:48:51\n"
     ]
    },
    {
     "name": "stderr",
     "output_type": "stream",
     "text": [
      "127.0.0.1 - - [05/Jun/2020 20:48:53] \"\u001b[37mGET /timer?time=Fri%20Jun%2005%202020%2020:48:51%20GMT+0300%20(GMT+03:00) HTTP/1.1\u001b[0m\" 200 -\n"
     ]
    },
    {
     "name": "stdout",
     "output_type": "stream",
     "text": [
      "{'parameter_tuning': {'iso_f': 0, 'lstm': 0, 'prophet': 0}, 'prediction': {'iso_f': 0, 'lstm': 0, 'prophet': 0}, 'train': {'iso_f': 0, 'lstm': 0, 'prophet': 0}}\n",
      "*****\n",
      "['prediction']\n",
      "['prediction']\n",
      "fact :\n",
      "Job was initialized before..\n",
      "request : stop\n",
      "None\n",
      "browser_time : 2020-06-05 20:00:00  || start_time : 2020-06-05 23:00:00  || diff : 0  ||  time : 23:00 current time : 2020-06-05 20:48:54.772311\n",
      "request for stop !!!\n"
     ]
    },
    {
     "name": "stderr",
     "output_type": "stream",
     "text": [
      "192.168.0.34 - - [05/Jun/2020 20:48:56] \"\u001b[37mGET /ml?job=stop&model=train& HTTP/1.1\u001b[0m\" 200 -\n"
     ]
    },
    {
     "name": "stdout",
     "output_type": "stream",
     "text": [
      "sent : {'job': 'stop', 'model': 'train', 'groups': None, 'date': None, 'time_indicator': None, 'feature': None, 'data_source': None, 'data_query_path': None, 'time_period': None}\n",
      "\n"
     ]
    },
    {
     "name": "stderr",
     "output_type": "stream",
     "text": [
      "127.0.0.1 - - [05/Jun/2020 20:48:58] \"\u001b[37mPOST /ml_execute HTTP/1.1\u001b[0m\" 200 -\n"
     ]
    },
    {
     "name": "stdout",
     "output_type": "stream",
     "text": [
      "['prediction']\n",
      "{'parameter_tuning': {'status': 'init', 'process': 'stop', 'active': False, 'start_time': datetime.datetime(2020, 6, 6, 20, 48), 'percent': 0}, 'prediction': {'status': 'init', 'process': 'stop', 'active': True, 'start_time': datetime.datetime(2020, 6, 5, 23, 0), 'percent': 0}, 'train': {'status': 'waiting', 'process': 'start', 'active': True, 'start_time': datetime.datetime(2020, 6, 5, 20, 48), 'percent': 0}}\n"
     ]
    }
   ],
   "source": [
    "ad = ad_execute.AnomalyDetection(path='/Users/mac/Desktop/test_ad/test_4', environment='local')\n",
    "ad.init()\n",
    "ad.run_platform()"
   ]
  },
  {
   "cell_type": "code",
   "execution_count": null,
   "metadata": {
    "scrolled": true
   },
   "outputs": [],
   "source": [
    "ad = ad_execute.AnomalyDetection(path='/Users/mac/Desktop/test_ad/test_4', environment='local')\n",
    "ad.init()\n",
    "ad.run_platform()\n",
    "# you must put google connection .json file into the data folder where you create with given path\n",
    "ad.create_data_source(data_source_type='googlebigquery',\n",
    "                      data_query_path=\"\"\"\n",
    "                                            SELECT\n",
    "                                              fullVisitorId,\n",
    "                                              TIMESTAMP_SECONDS(visitStartTime) as date, \n",
    "                                              CASE WHEN type = 'PAGE' THEN 'PAGE'\n",
    "                                              ELSE eventAction END as event_type_and_category,\n",
    "                                              MIN(time) / 1000 as time_diff\n",
    "                                            FROM (SELECT \n",
    "                                                    geoNetwork.city as city,\n",
    "                                                    device.browser browser,\n",
    "                                                    device.deviceCategory deviceCategory,\n",
    "                                                    visitStartTime,\n",
    "                                                    hits.eventInfo.eventAction eventAction, \n",
    "                                                    hits.eventInfo.eventCategory eventCategory, \n",
    "                                                    hits.type type, \n",
    "                                                    hits.page.pageTitle pageTitle, \n",
    "                                                    hits.time time,\n",
    "                                                    fullVisitorId as fullVisitorId\n",
    "                                                  FROM `bigquery-public-data.google_analytics_sample.ga_sessions_*`,\n",
    "                                                       UNNEST(hits) as hits\n",
    "                                                 ) as a\n",
    "                                            WHERE pageTitle != 'Home'\n",
    "                                            GROUP BY    \n",
    "                                                        visitStartTime,\n",
    "                                                        deviceCategory,\n",
    "                                                        browser,\n",
    "                                                        city,\n",
    "                                                        eventAction, \n",
    "                                                        eventCategory, \n",
    "                                                        type, \n",
    "                                                        pageTitle,\n",
    "                                                        eventCategory,\n",
    "                                                        fullVisitorId\n",
    "                                            ORDER BY fullVisitorId, visitStartTime \n",
    "                      \"\"\",\n",
    "                      db='flash-clover-268917-c90dc06757de.json',\n",
    "                      host=None,\n",
    "                      port=None,\n",
    "                      user=None,\n",
    "                      pw=None)\n",
    "\n",
    "ad.create_jobs(jobs=jobs)\n"
   ]
  },
  {
   "cell_type": "code",
   "execution_count": null,
   "metadata": {},
   "outputs": [],
   "source": [
    "ad.manage_train(run=False)"
   ]
  },
  {
   "cell_type": "code",
   "execution_count": null,
   "metadata": {},
   "outputs": [],
   "source": []
  },
  {
   "cell_type": "code",
   "execution_count": null,
   "metadata": {},
   "outputs": [],
   "source": [
    "ad = ad_execute.AnomalyDetection(path='/Users/mac/Desktop/test_ad/test_4', environment='local')"
   ]
  },
  {
   "cell_type": "code",
   "execution_count": null,
   "metadata": {},
   "outputs": [],
   "source": [
    "ad.init()"
   ]
  },
  {
   "cell_type": "code",
   "execution_count": null,
   "metadata": {},
   "outputs": [],
   "source": [
    "ad.run_platform()"
   ]
  },
  {
   "cell_type": "code",
   "execution_count": null,
   "metadata": {
    "scrolled": true
   },
   "outputs": [],
   "source": [
    "# you must put google connection .json file into the data folder where you create with given path\n",
    "ad.create_data_source(data_source_type='googlebigquery',\n",
    "                      data_query_path = \"\"\"\n",
    "                                            SELECT\n",
    "                                              fullVisitorId,\n",
    "                                              TIMESTAMP_SECONDS(visitStartTime) as date, \n",
    "                                              CASE WHEN type = 'PAGE' THEN 'PAGE'\n",
    "                                              ELSE eventAction END as event_type_and_category,\n",
    "                                              MIN(time) / 1000 as time_diff\n",
    "                                            FROM (SELECT \n",
    "                                                    geoNetwork.city as city,\n",
    "                                                    device.browser browser,\n",
    "                                                    device.deviceCategory deviceCategory,\n",
    "                                                    visitStartTime,\n",
    "                                                    hits.eventInfo.eventAction eventAction, \n",
    "                                                    hits.eventInfo.eventCategory eventCategory, \n",
    "                                                    hits.type type, \n",
    "                                                    hits.page.pageTitle pageTitle, \n",
    "                                                    hits.time time,\n",
    "                                                    fullVisitorId as fullVisitorId\n",
    "                                                  FROM `bigquery-public-data.google_analytics_sample.ga_sessions_*`,\n",
    "                                                       UNNEST(hits) as hits\n",
    "                                                 ) as a\n",
    "                                            WHERE pageTitle != 'Home'\n",
    "                                            GROUP BY    \n",
    "                                                        visitStartTime,\n",
    "                                                        deviceCategory,\n",
    "                                                        browser,\n",
    "                                                        city,\n",
    "                                                        eventAction, \n",
    "                                                        eventCategory, \n",
    "                                                        type, \n",
    "                                                        pageTitle,\n",
    "                                                        eventCategory,\n",
    "                                                        fullVisitorId\n",
    "                                            ORDER BY fullVisitorId, visitStartTime \n",
    "                      \"\"\",\n",
    "                      db='flash-clover-268917-c90dc06757de.json',\n",
    "                      host=None,\n",
    "                      port=None,\n",
    "                      user=None,\n",
    "                      pw=None)"
   ]
  },
  {
   "cell_type": "code",
   "execution_count": null,
   "metadata": {},
   "outputs": [],
   "source": [
    "ad.get_ml_dictionary({})"
   ]
  },
  {
   "cell_type": "code",
   "execution_count": null,
   "metadata": {},
   "outputs": [],
   "source": [
    "jobs = {\n",
    "    'train': {'description': 'this is for test',\n",
    "              'dates': '2020-06-05 01:00:00',\n",
    "              'groups': 'event_type_and_category',\n",
    "              'time_indicator': None,\n",
    "              'feature': 'time_diff',\n",
    "              'days': 'fridays'},\n",
    "    'prediction': {'description': None,\n",
    "                   'dates': '2020-06-05 01:00:00',\n",
    "                   'groups': 'event_type_and_category',\n",
    "                   'time_indicator': None,\n",
    "                   'feature': 'time_diff',\n",
    "                   'days': 'daily'},\n",
    "    'parameter_tuning': {'description': None,\n",
    "                         'dates': '2020-06-05 01:00:00',\n",
    "                         'groups': 'event_type_and_category',\n",
    "                         'time_indicator': 'date',\n",
    "                         'feature': 'time_diff',\n",
    "                         'days': 'thursdays'}\n",
    "}"
   ]
  },
  {
   "cell_type": "code",
   "execution_count": null,
   "metadata": {
    "scrolled": true
   },
   "outputs": [],
   "source": [
    "ad.create_jobs(jobs = jobs)"
   ]
  },
  {
   "cell_type": "code",
   "execution_count": null,
   "metadata": {
    "scrolled": true
   },
   "outputs": [],
   "source": [
    "ad.manage_train()"
   ]
  },
  {
   "cell_type": "code",
   "execution_count": null,
   "metadata": {},
   "outputs": [],
   "source": [
    "import ad_execute\n",
    "\n",
    "\n",
    "jobs = {\n",
    "    'train': {'description': 'this is for test',\n",
    "              'dates': '2020-06-05 18:04:00',\n",
    "              'groups': 'event_type_and_category',\n",
    "              'time_indicator': 'date',\n",
    "              'feature': 'time_diff',\n",
    "              'days': 'once'},\n",
    "    'prediction': {'description': None,\n",
    "                   'dates': '2020-06-05 01:00:00',\n",
    "                   'groups': 'event_type_and_category',\n",
    "                   'time_indicator': 'date',\n",
    "                   'feature': 'time_diff',\n",
    "                   'days': 'daily'},\n",
    "    'parameter_tuning': {'description': None,\n",
    "                         'dates': '2020-06-05 01:00:00',\n",
    "                         'groups': 'event_type_and_category',\n",
    "                         'time_indicator': 'date',\n",
    "                         'feature': 'time_diff',\n",
    "                         'days': 'thursdays'}\n",
    "}\n",
    "\n",
    "\n",
    "if __name__ == '__main__':\n",
    "    ad = ad_execute.AnomalyDetection(path='/Users/mac/Desktop/test_ad/test_4', environment='local')\n",
    "    ad.init()\n",
    "    ad.run_platform()\n",
    "    # you must put google connection .json file into the data folder where you create with given path\n",
    "    ad.create_data_source(data_source_type='googlebigquery',\n",
    "                          data_query_path=\"\"\"\n",
    "                                                SELECT\n",
    "                                                  fullVisitorId,\n",
    "                                                  TIMESTAMP_SECONDS(visitStartTime) as date, \n",
    "                                                  CASE WHEN type = 'PAGE' THEN 'PAGE'\n",
    "                                                  ELSE eventAction END as event_type_and_category,\n",
    "                                                  MIN(time) / 1000 as time_diff\n",
    "                                                FROM (SELECT \n",
    "                                                        geoNetwork.city as city,\n",
    "                                                        device.browser browser,\n",
    "                                                        device.deviceCategory deviceCategory,\n",
    "                                                        visitStartTime,\n",
    "                                                        hits.eventInfo.eventAction eventAction, \n",
    "                                                        hits.eventInfo.eventCategory eventCategory, \n",
    "                                                        hits.type type, \n",
    "                                                        hits.page.pageTitle pageTitle, \n",
    "                                                        hits.time time,\n",
    "                                                        fullVisitorId as fullVisitorId\n",
    "                                                      FROM `bigquery-public-data.google_analytics_sample.ga_sessions_*`,\n",
    "                                                           UNNEST(hits) as hits\n",
    "                                                     ) as a\n",
    "                                                WHERE pageTitle != 'Home'\n",
    "                                                GROUP BY    \n",
    "                                                            visitStartTime,\n",
    "                                                            deviceCategory,\n",
    "                                                            browser,\n",
    "                                                            city,\n",
    "                                                            eventAction, \n",
    "                                                            eventCategory, \n",
    "                                                            type, \n",
    "                                                            pageTitle,\n",
    "                                                            eventCategory,\n",
    "                                                            fullVisitorId\n",
    "                                                ORDER BY fullVisitorId, visitStartTime \n",
    "                          \"\"\",\n",
    "                          db='flash-clover-268917-c90dc06757de.json',\n",
    "                          host=None,\n",
    "                          port=None,\n",
    "                          user=None,\n",
    "                          pw=None)\n",
    "\n",
    "    ad.create_jobs(jobs=jobs)\n",
    "    ad.manage_train()\n"
   ]
  },
  {
   "cell_type": "code",
   "execution_count": null,
   "metadata": {},
   "outputs": [],
   "source": []
  }
 ],
 "metadata": {
  "kernelspec": {
   "display_name": "Python 3",
   "language": "python",
   "name": "python3"
  },
  "language_info": {
   "codemirror_mode": {
    "name": "ipython",
    "version": 3
   },
   "file_extension": ".py",
   "mimetype": "text/x-python",
   "name": "python",
   "nbconvert_exporter": "python",
   "pygments_lexer": "ipython3",
   "version": "3.7.4"
  }
 },
 "nbformat": 4,
 "nbformat_minor": 2
}
