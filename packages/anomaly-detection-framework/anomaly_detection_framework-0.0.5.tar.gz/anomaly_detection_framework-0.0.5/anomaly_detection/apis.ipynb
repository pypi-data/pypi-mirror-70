{
 "cells": [
  {
   "cell_type": "code",
   "execution_count": 36,
   "metadata": {},
   "outputs": [
    {
     "data": {
      "text/html": [
       "<style>.container { width:90% !important; }</style>"
      ],
      "text/plain": [
       "<IPython.core.display.HTML object>"
      ]
     },
     "metadata": {},
     "output_type": "display_data"
    }
   ],
   "source": [
    "from IPython.display import display, HTML\n",
    "display(HTML('<style>.container { width:90% !important; }</style>'))  # makes it wider\n",
    "import requests\n",
    "from multiprocessing import Pool\n",
    "from main import main\n",
    "import yaml\n",
    "from flask import Flask, request, Response\n",
    "from multiprocessing import Pool, Process\n",
    "from os.path import join, dirname\n",
    "from inspect import getmembers, getargspec\n",
    "from create_api import CreateApi\n",
    "from utils import callfunc\n",
    "import threading\n",
    "import random"
   ]
  },
  {
   "cell_type": "code",
   "execution_count": 37,
   "metadata": {},
   "outputs": [],
   "source": [
    "def read_yaml(path):\n",
    "    with open(path) as file:\n",
    "        docs = yaml.full_load(file)\n",
    "    return docs"
   ]
  },
  {
   "cell_type": "code",
   "execution_count": 12,
   "metadata": {},
   "outputs": [],
   "source": [
    "def api_executor(api_info):\n",
    "    _file_path = join(dirname(\"\"), api_info['py_file'])\n",
    "    _py = callfunc(_file_path)\n",
    "    print(_py)\n",
    "    _func = [o[1] for o in getmembers(_py) if o[0] == api_info['function']][0]\n",
    "    print(_file_path, _py,  _func)\n",
    "    api = CreateApi(host=api_info['host'],\n",
    "                    port=api_info['port'],\n",
    "                    function=_func,\n",
    "                    api_name=api_info['api_name'],\n",
    "                    parameters=list(getargspec(_func)[0]))\n",
    "    api.init_api()"
   ]
  },
  {
   "cell_type": "code",
   "execution_count": 13,
   "metadata": {},
   "outputs": [],
   "source": [
    "def run_api_thread(api_info):\n",
    "    global kill\n",
    "    api_executor(api_info)\n",
    "    while not kill:\n",
    "        pass"
   ]
  },
  {
   "cell_type": "code",
   "execution_count": 14,
   "metadata": {
    "scrolled": true
   },
   "outputs": [
    {
     "data": {
      "text/plain": [
       "{'model_iso_f': {'port': 7080,\n",
       "  'host_create': '0.0.0.0',\n",
       "  'host': '0.0.0.0',\n",
       "  'api_name': 'ml',\n",
       "  'py_file': 'main',\n",
       "  'function': 'main',\n",
       "  'params': ['data_query_path',\n",
       "   'data_source',\n",
       "   'date',\n",
       "   'feature',\n",
       "   'groups',\n",
       "   'job',\n",
       "   'model',\n",
       "   'time_indicator',\n",
       "   'time_period']},\n",
       " 'model_lstm': {'active': False,\n",
       "  'port': 7072,\n",
       "  'host_create': '0.0.0.0',\n",
       "  'host': '0.0.0.0',\n",
       "  'api_name': 'ml',\n",
       "  'py_file': 'main',\n",
       "  'function': 'main',\n",
       "  'params': ['data_query_path',\n",
       "   'data_source',\n",
       "   'feature',\n",
       "   'groups',\n",
       "   'job',\n",
       "   'model',\n",
       "   'time_indicator',\n",
       "   'time_period']},\n",
       " 'model_prophet': {'port': 7085,\n",
       "  'host_create': '0.0.0.0',\n",
       "  'host': '0.0.0.0',\n",
       "  'api_name': 'ml',\n",
       "  'py_file': 'main',\n",
       "  'function': 'main',\n",
       "  'params': ['data_query_path',\n",
       "   'data_source',\n",
       "   'feature',\n",
       "   'groups',\n",
       "   'job',\n",
       "   'model',\n",
       "   'time_indicator',\n",
       "   'time_period']},\n",
       " 'ml_execute': {'port': 7082,\n",
       "  'host_create': '0.0.0.0',\n",
       "  'host': '0.0.0.0',\n",
       "  'api_name': 'ml_execute',\n",
       "  'py_file': 'ml_executor',\n",
       "  'function': 'start_job',\n",
       "  'params': ['job']}}"
      ]
     },
     "execution_count": 14,
     "metadata": {},
     "output_type": "execute_result"
    }
   ],
   "source": [
    "apis = read_yaml('docs/apis.yaml')\n",
    "for api in apis:\n",
    "    apis[api]['port'] = list(random.sample(list(range(7050, 7100)), 1))[0]\n",
    "apis"
   ]
  },
  {
   "cell_type": "code",
   "execution_count": 15,
   "metadata": {},
   "outputs": [],
   "source": [
    "kill = False"
   ]
  },
  {
   "cell_type": "code",
   "execution_count": 16,
   "metadata": {
    "scrolled": true
   },
   "outputs": [
    {
     "name": "stdout",
     "output_type": "stream",
     "text": [
      "<module 'main' from '/Users/mac/Documents/GitHub/anomaly_detection_framework/main.py'>{'port': 7080, 'host_create': '0.0.0.0', 'host': '0.0.0.0', 'api_name': 'ml', 'py_file': 'main', 'function': 'main', 'params': ['data_query_path', 'data_source', 'date', 'feature', 'groups', 'job', 'model', 'time_indicator', 'time_period']}\n",
      "main\n",
      " <module 'main' from '/Users/mac/Documents/GitHub/anomaly_detection_framework/main.py'> <function main at 0x1a4aeb9950>\n",
      " * Serving Flask app \"create_api\" (lazy loading)\n",
      "<module 'main' from '/Users/mac/Documents/GitHub/anomaly_detection_framework/main.py'>{'active': False, 'port': 7072, 'host_create': '0.0.0.0', 'host': '0.0.0.0', 'api_name': 'ml', 'py_file': 'main', 'function': 'main', 'params': ['data_query_path', 'data_source', 'feature', 'groups', 'job', 'model', 'time_indicator', 'time_period']}\n",
      "\n",
      "{'port': 7085, 'host_create': '0.0.0.0', 'host': '0.0.0.0', 'api_name': 'ml', 'py_file': 'main', 'function': 'main', 'params': ['data_query_path', 'data_source', 'feature', 'groups', 'job', 'model', 'time_indicator', 'time_period']}<module 'main' from '/Users/mac/Documents/GitHub/anomaly_detection_framework/main.py'>\n",
      "main\n",
      " <module 'main' from '/Users/mac/Documents/GitHub/anomaly_detection_framework/main.py'>main <module 'main' from '/Users/mac/Documents/GitHub/anomaly_detection_framework/main.py'> <function main at 0x1a4aeb9950>\n",
      " * Serving Flask app \"create_api\" (lazy loading)\n",
      " <function main at 0x1a4aeb9950>\n",
      " * Serving Flask app \"create_api\" (lazy loading)\n",
      "<module 'ml_executor' from '/Users/mac/Documents/GitHub/anomaly_detection_framework/ml_executor.py'>{'port': 7082, 'host_create': '0.0.0.0', 'host': '0.0.0.0', 'api_name': 'ml_execute', 'py_file': 'ml_executor', 'function': 'start_job', 'params': ['job']}\n",
      "\n",
      "ml_executor <module 'ml_executor' from '/Users/mac/Documents/GitHub/anomaly_detection_framework/ml_executor.py'> <function start_job at 0x1a4ba05680>\n",
      " * Environment: production\n",
      " * Serving Flask app \"create_api\" (lazy loading)\n",
      " * Environment: production\n",
      " * Environment: production\n",
      "   WARNING: This is a development server. Do not use it in a production deployment.\n",
      " * Environment: production\n",
      "   WARNING: This is a development server. Do not use it in a production deployment.\n",
      "   WARNING: This is a development server. Do not use it in a production deployment.\n",
      "   Use a production WSGI server instead.\n",
      "   WARNING: This is a development server. Do not use it in a production deployment.\n",
      "   Use a production WSGI server instead.\n",
      "   Use a production WSGI server instead.\n",
      " * Debug mode: off\n",
      "   Use a production WSGI server instead.\n",
      " * Debug mode: off\n",
      " * Debug mode: off\n",
      " * Debug mode: off\n"
     ]
    },
    {
     "name": "stderr",
     "output_type": "stream",
     "text": [
      "INFO:werkzeug: * Running on http://0.0.0.0:7085/ (Press CTRL+C to quit)\n",
      "INFO:werkzeug: * Running on http://0.0.0.0:7082/ (Press CTRL+C to quit)\n",
      "INFO:werkzeug: * Running on http://0.0.0.0:7072/ (Press CTRL+C to quit)\n",
      "INFO:werkzeug: * Running on http://0.0.0.0:7080/ (Press CTRL+C to quit)\n"
     ]
    }
   ],
   "source": [
    "threads = {}\n",
    "for api in apis:\n",
    "    thr = threading.Thread(target=api_executor, args=(apis[api],))\n",
    "    thr.start() # Will run \"api_executor\"\n",
    "    threads[api] = thr\n",
    "    print(apis[api])"
   ]
  },
  {
   "cell_type": "code",
   "execution_count": 23,
   "metadata": {
    "scrolled": true
   },
   "outputs": [
    {
     "data": {
      "text/plain": [
       "<Response [200]>"
      ]
     },
     "execution_count": 23,
     "metadata": {},
     "output_type": "execute_result"
    }
   ],
   "source": [
    "requests.post(url='http://0.0.0.0:7001/shutdown')"
   ]
  },
  {
   "cell_type": "code",
   "execution_count": 38,
   "metadata": {
    "scrolled": true
   },
   "outputs": [],
   "source": [
    "import os\n",
    "stream = os.popen(\"docker-compose up\")"
   ]
  },
  {
   "cell_type": "code",
   "execution_count": null,
   "metadata": {},
   "outputs": [],
   "source": [
    "stream = os.popen('ps aux | grep ml_execute')\n",
    "output = stream.read().splitlines()\n",
    "for line in output:\n",
    "    stream = os.popen('ps aux | grep ml_execute')\n",
    "    \n",
    "    print(line.split())"
   ]
  },
  {
   "cell_type": "code",
   "execution_count": null,
   "metadata": {
    "scrolled": true
   },
   "outputs": [],
   "source": [
    "request.environ.get('werkzeug.server.shutdown')\n",
    "            "
   ]
  },
  {
   "cell_type": "code",
   "execution_count": null,
   "metadata": {},
   "outputs": [],
   "source": [
    "def get_running_pids(process_name, argument=None):\n",
    "    pids = []\n",
    "    p = subprocess.Popen(['ps', '-A'], stdout=subprocess.PIPE)\n",
    "    out, err = p.communicate()\n",
    "    for line in out.splitlines():\n",
    "        if process_name in line.decode('utf-8'):\n",
    "            print(line.decode('utf-8'))\n",
    "            pid = int(line.decode('utf-8').split(None, 1)[0])\n",
    "            if argument:\n",
    "                if len(line.decode('utf-8').split(process_name)) != 0:\n",
    "                    args = line.decode('utf-8').split(process_name)[1].split(None, 1)\n",
    "                    if str(argument) in args:\n",
    "                        print(\"running job :\", line.decode('utf-8'))\n",
    "                        pids.append(pid)\n",
    "            else:\n",
    "                print(\"running job :\", line.decode('utf-8'))\n",
    "                pids.append(pid)\n",
    "        else:\n",
    "            print(\"no initialized \", argument, \" is detected\")\n",
    "    return pids"
   ]
  },
  {
   "cell_type": "code",
   "execution_count": null,
   "metadata": {},
   "outputs": [],
   "source": [
    "get_running_pids('ml_executor.py', argument=None)"
   ]
  },
  {
   "cell_type": "code",
   "execution_count": null,
   "metadata": {},
   "outputs": [],
   "source": [
    "from os.path import join, abspath, split\n",
    "directory = abspath(\"\")\n",
    "directory"
   ]
  },
  {
   "cell_type": "code",
   "execution_count": null,
   "metadata": {},
   "outputs": [],
   "source": [
    "request.environ.get('werkzeug.server.shutdown')"
   ]
  },
  {
   "cell_type": "code",
   "execution_count": null,
   "metadata": {
    "scrolled": true
   },
   "outputs": [],
   "source": [
    "def execute(param):\n",
    "    _param = {'job': None, 'franchise_ids': param, 'date': None, 'delete': None}\n",
    "    requests.get(url=url, params=_param)\n",
    "    \n",
    "pool = Pool(3)\n",
    "pool.map(execute, list(range(10)))\n",
    "pool.close()"
   ]
  },
  {
   "cell_type": "code",
   "execution_count": null,
   "metadata": {},
   "outputs": [],
   "source": [
    "import schedule"
   ]
  },
  {
   "cell_type": "code",
   "execution_count": null,
   "metadata": {},
   "outputs": [],
   "source": [
    "def get_api_url(host=None, port=None, api_name=None):\n",
    "    host = host if host is not None else \"0.0.0.0\"\n",
    "    return \"http://\" + host + \":\" + str(port) + \"/\" + api_name\n",
    "\n",
    "\n",
    "def read_yaml(path):\n",
    "    with open(path) as file:\n",
    "        docs = yaml.full_load(file)\n",
    "    return docs\n",
    "\n",
    "\n",
    "class CreateJobs:\n",
    "    def __init__(self, job):\n",
    "        self.job = read_yaml('ml_execute.yaml')[job]\n",
    "        self.api_info = list(filter(lambda x: x['api_name'] == self.job['api'], read_yaml('apis.yaml')))[0]\n",
    "        self.url = get_api_url(host=self.api_info['host'],\n",
    "                               port=self.api_info['port'],\n",
    "                               api_name=self.api_info['api_name'])\n",
    "        self.time = str(self.job['time'])\n",
    "        self.schedule = None\n",
    "\n",
    "    def jobs(self):\n",
    "        if self.job['day'] != 'month':\n",
    "            for j in self.job['execute']:\n",
    "                requests.get(url=self.url, params=j['params'])\n",
    "        else:\n",
    "            if datetime.datetime.now().day == 1:\n",
    "                for j in self.job['execute']:\n",
    "                    requests.get(url=self.url, params=j['params'])\n",
    "\n",
    "    def job_schedule(self):\n",
    "        print(\"job is initialized!!!\")\n",
    "        print(self.time)\n",
    "        {'monday': schedule.every().monday,\n",
    "         'tuesday': schedule.every().tuesday,\n",
    "         'wednesday': schedule.every().wednesday,\n",
    "         'thursday': schedule.every().thursday,\n",
    "         'friday': schedule.every().friday,\n",
    "         'saturday': schedule.every().saturday,\n",
    "         'sunday': schedule.every().sunday,\n",
    "         'day': schedule.every().day,\n",
    "         'month': schedule.every(30).days}[self.job['day']].at(self.time).do(self.jobs)"
   ]
  },
  {
   "cell_type": "code",
   "execution_count": null,
   "metadata": {},
   "outputs": [],
   "source": [
    "train = CreateJobs('parameter_tuning')\n",
    "train.job_schedule()"
   ]
  },
  {
   "cell_type": "code",
   "execution_count": null,
   "metadata": {},
   "outputs": [],
   "source": [
    "socket.gethostbyname(socket.gethostname())"
   ]
  },
  {
   "cell_type": "code",
   "execution_count": null,
   "metadata": {},
   "outputs": [],
   "source": [
    "import platform\n",
    "platform.node()"
   ]
  },
  {
   "cell_type": "code",
   "execution_count": null,
   "metadata": {},
   "outputs": [],
   "source": [
    "asd = schedule.every().period.days(30)"
   ]
  },
  {
   "cell_type": "code",
   "execution_count": null,
   "metadata": {},
   "outputs": [],
   "source": [
    "asd.at(\"01:00\").do(train.jobs)"
   ]
  },
  {
   "cell_type": "code",
   "execution_count": null,
   "metadata": {},
   "outputs": [],
   "source": [
    "import yaml"
   ]
  },
  {
   "cell_type": "code",
   "execution_count": null,
   "metadata": {},
   "outputs": [],
   "source": [
    "with open(\"configs.yaml\") as file:\n",
    "    config = yaml.full_load(file)"
   ]
  },
  {
   "cell_type": "code",
   "execution_count": null,
   "metadata": {},
   "outputs": [],
   "source": [
    "parameter_tuning = config['parameter_tuning']\n",
    "parameters = config['hyper_parameters']['lstm']\n",
    "parameter_tuning, parameters"
   ]
  },
  {
   "cell_type": "code",
   "execution_count": null,
   "metadata": {},
   "outputs": [],
   "source": [
    "def get_tuning_params(parameter_tuning, params):\n",
    "    p_t = {}\n",
    "    for p in parameter_tuning:\n",
    "        print()\n",
    "        p_t[p] = np.arange(int(parameter_tuning[p].split(\"*\"))[0], int(parameter_tuning[p].split(\"*\"))[1], int(parameter_tuning[p].split(\"*\"))[0]).to_list()"
   ]
  },
  {
   "cell_type": "code",
   "execution_count": null,
   "metadata": {},
   "outputs": [],
   "source": [
    "import numpy as np\n",
    "np.arange([int(i) for i in \"2*4\".split(\"*\")] + [1])"
   ]
  },
  {
   "cell_type": "code",
   "execution_count": null,
   "metadata": {},
   "outputs": [],
   "source": [
    "p_t_ = parameter_tuning['lstm']\n",
    "p_t = {}\n",
    "for p in p_t_:\n",
    "    \n",
    "    p_t[p] = np.arange(float(p_t_[p].split(\"*\")[0]), float(p_t_[p].split(\"*\")[1]), float(p_t_[p].split(\"*\")[0])).tolist()\n",
    "p_t\n",
    "    "
   ]
  },
  {
   "cell_type": "code",
   "execution_count": null,
   "metadata": {},
   "outputs": [],
   "source": [
    "np.arange(2,4,2)"
   ]
  },
  {
   "cell_type": "code",
   "execution_count": null,
   "metadata": {},
   "outputs": [],
   "source": [
    "import itertools"
   ]
  },
  {
   "cell_type": "code",
   "execution_count": null,
   "metadata": {},
   "outputs": [],
   "source": [
    "import itertools\n",
    "list1=['a','b','c']\n",
    "list2=[1,2]\n",
    "asd = (list1, list2)\n",
    "list(itertools.product((p_t[p] for p in p_t)))"
   ]
  },
  {
   "cell_type": "code",
   "execution_count": null,
   "metadata": {},
   "outputs": [],
   "source": [
    "p_t"
   ]
  },
  {
   "cell_type": "code",
   "execution_count": null,
   "metadata": {},
   "outputs": [],
   "source": [
    "(p_t[p] for p in p_t)"
   ]
  },
  {
   "cell_type": "code",
   "execution_count": null,
   "metadata": {},
   "outputs": [],
   "source": [
    "list(parameter_tuning['lstm'].keys())"
   ]
  },
  {
   "cell_type": "code",
   "execution_count": null,
   "metadata": {},
   "outputs": [],
   "source": [
    "arrays = [[1,2,3], [1,2,4], [1,2,3]]\n",
    "list(itertools.product(*arrays))"
   ]
  },
  {
   "cell_type": "code",
   "execution_count": null,
   "metadata": {},
   "outputs": [],
   "source": [
    "import schedule"
   ]
  },
  {
   "cell_type": "code",
   "execution_count": null,
   "metadata": {},
   "outputs": [],
   "source": [
    "schedule.clear('daily-tasks')"
   ]
  },
  {
   "cell_type": "code",
   "execution_count": null,
   "metadata": {},
   "outputs": [],
   "source": [
    "import subprocess\n",
    "import os\n",
    "import signal"
   ]
  },
  {
   "cell_type": "code",
   "execution_count": null,
   "metadata": {},
   "outputs": [],
   "source": [
    "def get_running_pids(process_name, argument=None):\n",
    "    pids = []\n",
    "    p = subprocess.Popen(['ps', '-A'], stdout=subprocess.PIPE)\n",
    "    out, err = p.communicate()\n",
    "    for line in out.splitlines():\n",
    "        if process_name in line.decode('utf-8'):\n",
    "            pid = int(line.decode('utf-8').split(None, 1)[0])\n",
    "            if argument:\n",
    "                if len(line.decode('utf-8').split(process_name)) != 0:\n",
    "                    args = line.decode('utf-8').split(process_name)[1].split(None, 1) \n",
    "                    if str(argument) in args:\n",
    "                        print(\"yesss\")\n",
    "                        pids.append(pid)\n",
    "            else:\n",
    "                pids.append(pid)\n",
    "            \n",
    "    return pids\n",
    "\n",
    "def kill_process_with_name(process_name, argument=None):\n",
    "        pids = get_running_pids(process_name, argument=argument)\n",
    "        for pid in pids:\n",
    "            os.kill(pid, signal.SIGKILL)"
   ]
  },
  {
   "cell_type": "code",
   "execution_count": null,
   "metadata": {},
   "outputs": [],
   "source": [
    "get_running_pids(\"test.py\", 4)"
   ]
  },
  {
   "cell_type": "code",
   "execution_count": null,
   "metadata": {},
   "outputs": [],
   "source": [
    "kill_process_with_name(\"test.py\", 4)"
   ]
  },
  {
   "cell_type": "code",
   "execution_count": null,
   "metadata": {},
   "outputs": [],
   "source": [
    "diff = int((datetime.datetime.now() - datetime.datetime.now()).total_seconds() / 60 / 60)\n",
    "diff"
   ]
  },
  {
   "cell_type": "code",
   "execution_count": null,
   "metadata": {},
   "outputs": [],
   "source": [
    "str(datetime.datetime.now())[0:13]"
   ]
  },
  {
   "cell_type": "code",
   "execution_count": null,
   "metadata": {},
   "outputs": [],
   "source": [
    "len('%Y-%m-%d %H')"
   ]
  },
  {
   "cell_type": "code",
   "execution_count": null,
   "metadata": {},
   "outputs": [],
   "source": [
    "datepart = 'Hour'[0]"
   ]
  },
  {
   "cell_type": "code",
   "execution_count": null,
   "metadata": {},
   "outputs": [],
   "source": [
    "v = \" \".join(\"Sat May 09 2020 19:03:03 GMT 0300 (GMT 03:00)\".split()[0:5])\n",
    "v"
   ]
  },
  {
   "cell_type": "code",
   "execution_count": null,
   "metadata": {},
   "outputs": [],
   "source": [
    "print(date_parser.parse(\"Sat May 09 2020 19:03:03\"))"
   ]
  },
  {
   "cell_type": "code",
   "execution_count": null,
   "metadata": {},
   "outputs": [],
   "source": [
    "format_str[:filter(lambda x: x[0] == datepart, zip(list(format_str), range(len(format_str))))]"
   ]
  },
  {
   "cell_type": "code",
   "execution_count": null,
   "metadata": {},
   "outputs": [],
   "source": [
    "diff = datetime.datetime.now().hour - datetime.datetime.now().hour\n"
   ]
  },
  {
   "cell_type": "code",
   "execution_count": null,
   "metadata": {},
   "outputs": [],
   "source": [
    "time = str(datetime.datetime.now())[11:16]\n",
    "time"
   ]
  },
  {
   "cell_type": "code",
   "execution_count": null,
   "metadata": {},
   "outputs": [],
   "source": [
    "str(datetime.datetime.strptime(time, '%H:%M') + datetime.timedelta(hours=diff))[11:16]"
   ]
  },
  {
   "cell_type": "code",
   "execution_count": null,
   "metadata": {},
   "outputs": [],
   "source": [
    "from dateutil.parser import parse"
   ]
  },
  {
   "cell_type": "code",
   "execution_count": null,
   "metadata": {},
   "outputs": [],
   "source": [
    "parse(\"2020-10-10\")"
   ]
  },
  {
   "cell_type": "code",
   "execution_count": null,
   "metadata": {},
   "outputs": [],
   "source": [
    "def test():\n",
    "    print(\"adasdsa\")\n",
    "    return 'b'\n",
    "    yield 'a'"
   ]
  },
  {
   "cell_type": "code",
   "execution_count": null,
   "metadata": {},
   "outputs": [],
   "source": [
    "c = test()"
   ]
  },
  {
   "cell_type": "code",
   "execution_count": null,
   "metadata": {},
   "outputs": [],
   "source": [
    "c.throw"
   ]
  },
  {
   "cell_type": "code",
   "execution_count": null,
   "metadata": {},
   "outputs": [],
   "source": [
    "from random import random\n",
    "import threading\n",
    "import time\n",
    "\n",
    "result = None\n",
    "\n",
    "def background_calculation():\n",
    "    # here goes some long calculation\n",
    "    time.sleep(3)\n",
    "    print(\"yess\")\n",
    "    # when the calculation is done, the result is stored in a global variable\n",
    "    global result\n",
    "    result = 42\n",
    "\n",
    "def main():\n",
    "    thread = threading.Thread(target=background_calculation)\n",
    "    thread.start()\n",
    "\n",
    "    # wait here for the result to be available before continuing\n",
    "    while result is None:\n",
    "        pass\n",
    "\n",
    "    print('The result is', result)"
   ]
  },
  {
   "cell_type": "code",
   "execution_count": null,
   "metadata": {},
   "outputs": [],
   "source": [
    "for i in range(3):\n",
    "    main()"
   ]
  },
  {
   "cell_type": "code",
   "execution_count": null,
   "metadata": {},
   "outputs": [],
   "source": [
    "os.path.abspath(\"\").split(\"/\")[-1]"
   ]
  },
  {
   "cell_type": "code",
   "execution_count": null,
   "metadata": {},
   "outputs": [],
   "source": [
    "type('asdas') "
   ]
  },
  {
   "cell_type": "code",
   "execution_count": null,
   "metadata": {},
   "outputs": [],
   "source": [
    "d = datetime.datetime.now()"
   ]
  },
  {
   "cell_type": "code",
   "execution_count": null,
   "metadata": {},
   "outputs": [],
   "source": [
    "d.second"
   ]
  },
  {
   "cell_type": "code",
   "execution_count": null,
   "metadata": {},
   "outputs": [],
   "source": [
    "import numpy as np"
   ]
  },
  {
   "cell_type": "code",
   "execution_count": null,
   "metadata": {},
   "outputs": [],
   "source": [
    "time_dimensions = ['year', 'quarter', 'month', 'week', 'week_part', 'week_day', 'day', 'hour', 'min', 'second']"
   ]
  },
  {
   "cell_type": "code",
   "execution_count": null,
   "metadata": {},
   "outputs": [],
   "source": [
    "(unique, counts) = np.unique([1, 1, 1, 1] , return_counts=True)"
   ]
  },
  {
   "cell_type": "code",
   "execution_count": null,
   "metadata": {},
   "outputs": [],
   "source": [
    "(unique, counts)"
   ]
  },
  {
   "cell_type": "code",
   "execution_count": null,
   "metadata": {},
   "outputs": [],
   "source": [
    "from itertools import product, combinations\n",
    "list(combinations([0,1], 2))"
   ]
  },
  {
   "cell_type": "code",
   "execution_count": null,
   "metadata": {},
   "outputs": [],
   "source": [
    "len(list(combinations([1,2,3,4,5], 3)))"
   ]
  },
  {
   "cell_type": "code",
   "execution_count": null,
   "metadata": {},
   "outputs": [],
   "source": [
    "int(min(len([1,2,3,4,5]), len([1,4,5])) * 4 / 5)"
   ]
  },
  {
   "cell_type": "code",
   "execution_count": null,
   "metadata": {},
   "outputs": [],
   "source": [
    "str(datetime.datetime.now())[11:16]"
   ]
  },
  {
   "cell_type": "code",
   "execution_count": null,
   "metadata": {},
   "outputs": [],
   "source": [
    "import socket\n",
    "print(socket.gethostname())\n"
   ]
  },
  {
   "cell_type": "code",
   "execution_count": null,
   "metadata": {},
   "outputs": [],
   "source": [
    "import requests"
   ]
  },
  {
   "cell_type": "code",
   "execution_count": 33,
   "metadata": {},
   "outputs": [
    {
     "data": {
      "text/plain": [
       "'Mac-MacBook-Air.local'"
      ]
     },
     "execution_count": 33,
     "metadata": {},
     "output_type": "execute_result"
    }
   ],
   "source": [
    "import socket\n",
    "socket.gethostname() "
   ]
  },
  {
   "cell_type": "code",
   "execution_count": null,
   "metadata": {},
   "outputs": [],
   "source": [
    "import time\n",
    "def test2():\n",
    "    while True:\n",
    "        print(\"I am working!!1\")\n",
    "        time.sleep(3)"
   ]
  },
  {
   "cell_type": "code",
   "execution_count": null,
   "metadata": {},
   "outputs": [],
   "source": [
    "\n",
    "def test1():\n",
    "    test2()"
   ]
  },
  {
   "cell_type": "code",
   "execution_count": null,
   "metadata": {},
   "outputs": [],
   "source": [
    "import anomaly-detection-framework"
   ]
  },
  {
   "cell_type": "code",
   "execution_count": null,
   "metadata": {},
   "outputs": [],
   "source": [
    "from anomaly_detection import src"
   ]
  },
  {
   "cell_type": "code",
   "execution_count": null,
   "metadata": {},
   "outputs": [],
   "source": [
    "from src import run"
   ]
  },
  {
   "cell_type": "code",
   "execution_count": null,
   "metadata": {},
   "outputs": [],
   "source": [
    "d = run.DockerSource(\"/Documents/test\")"
   ]
  },
  {
   "cell_type": "code",
   "execution_count": null,
   "metadata": {},
   "outputs": [],
   "source": [
    "import os"
   ]
  },
  {
   "cell_type": "code",
   "execution_count": null,
   "metadata": {},
   "outputs": [],
   "source": [
    "path = os.path.abspath(\"\")"
   ]
  },
  {
   "cell_type": "code",
   "execution_count": null,
   "metadata": {},
   "outputs": [],
   "source": [
    "folders = []\n",
    "while 1:\n",
    "    path, folder = os.path.split(path)\n",
    "\n",
    "    if folder != \"\":\n",
    "        folders.append(folder)\n",
    "    else:\n",
    "        if path != \"\":\n",
    "            folders.append(path)\n",
    "\n",
    "        break\n",
    "\n",
    "folders.reverse()"
   ]
  },
  {
   "cell_type": "code",
   "execution_count": null,
   "metadata": {},
   "outputs": [],
   "source": [
    "list(\"\"\"\\ /  \"\"\"  )"
   ]
  },
  {
   "cell_type": "code",
   "execution_count": null,
   "metadata": {},
   "outputs": [],
   "source": [
    "import requests"
   ]
  },
  {
   "cell_type": "code",
   "execution_count": null,
   "metadata": {},
   "outputs": [],
   "source": [
    "requests.get(url='http://mac-macbook-air.local:6000/ml', params={'job': 'prediction', 'model': 'lstm'})"
   ]
  },
  {
   "cell_type": "code",
   "execution_count": null,
   "metadata": {},
   "outputs": [],
   "source": [
    "import multiprocessing "
   ]
  },
  {
   "cell_type": "code",
   "execution_count": null,
   "metadata": {},
   "outputs": [],
   "source": []
  },
  {
   "cell_type": "code",
   "execution_count": null,
   "metadata": {},
   "outputs": [],
   "source": [
    "thr.name"
   ]
  },
  {
   "cell_type": "code",
   "execution_count": null,
   "metadata": {},
   "outputs": [],
   "source": [
    "threading.enumerate()"
   ]
  },
  {
   "cell_type": "code",
   "execution_count": null,
   "metadata": {},
   "outputs": [],
   "source": [
    "threading.Thread._delete()"
   ]
  },
  {
   "cell_type": "code",
   "execution_count": null,
   "metadata": {},
   "outputs": [],
   "source": [
    "stop_threads = True"
   ]
  },
  {
   "cell_type": "code",
   "execution_count": null,
   "metadata": {},
   "outputs": [],
   "source": []
  }
 ],
 "metadata": {
  "kernelspec": {
   "display_name": "Python 3",
   "language": "python",
   "name": "python3"
  },
  "language_info": {
   "codemirror_mode": {
    "name": "ipython",
    "version": 3
   },
   "file_extension": ".py",
   "mimetype": "text/x-python",
   "name": "python",
   "nbconvert_exporter": "python",
   "pygments_lexer": "ipython3",
   "version": "3.7.4"
  }
 },
 "nbformat": 4,
 "nbformat_minor": 2
}
