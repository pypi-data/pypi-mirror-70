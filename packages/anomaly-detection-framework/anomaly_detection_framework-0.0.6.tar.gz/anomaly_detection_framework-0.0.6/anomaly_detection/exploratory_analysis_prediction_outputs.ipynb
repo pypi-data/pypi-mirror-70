{
 "cells": [
  {
   "cell_type": "code",
   "execution_count": 25,
   "metadata": {},
   "outputs": [
    {
     "data": {
      "text/html": [
       "<style>.container { width:90% !important; }</style>"
      ],
      "text/plain": [
       "<IPython.core.display.HTML object>"
      ]
     },
     "metadata": {},
     "output_type": "display_data"
    }
   ],
   "source": [
    "from IPython.display import display, HTML\n",
    "display(HTML('<style>.container { width:90% !important; }</style>'))  # makes it wider\n",
    "import datetime\n",
    "import math\n",
    "import pandas as pd\n",
    "import numpy as np\n",
    "from os import listdir\n",
    "from os.path import dirname\n",
    "import plotly.express as px\n",
    "import random\n",
    "import itertools\n",
    "from sklearn.metrics import confusion_matrix"
   ]
  },
  {
   "cell_type": "markdown",
   "metadata": {},
   "source": [
    "### functions"
   ]
  },
  {
   "cell_type": "code",
   "execution_count": 26,
   "metadata": {},
   "outputs": [],
   "source": [
    "def convert_str_to_date(row):\n",
    "    if '-' in list(row):\n",
    "        return datetime.datetime.strptime(str(row)[0:10] , '%Y-%m-%d')\n",
    "    else:\n",
    "        if len(row) in (9, 10):\n",
    "            row = '0' + row if len(row) == 9 else row\n",
    "            return datetime.datetime.strptime(\"-\".join([row[6:], row[3:5], row[0:2]]), '%Y-%m-%d')\n",
    "        else:\n",
    "            return None"
   ]
  },
  {
   "cell_type": "code",
   "execution_count": 89,
   "metadata": {
    "scrolled": true
   },
   "outputs": [
    {
     "name": "stdout",
     "output_type": "stream",
     "text": [
      "7000186\n",
      "1095039\n",
      "4042154\n",
      "7000179\n",
      "4034571\n",
      "4009155\n",
      "7000347\n",
      "7000435\n",
      "4046118\n",
      "64760\n",
      "4048653\n",
      "4037458(1)\n",
      "63621\n",
      "4035900\n",
      "7000227\n",
      "4041717\n",
      "4044486\n",
      "60843\n",
      "501032\n",
      "501026\n",
      "1500809\n",
      "4016317\n",
      "7000025\n",
      "7000018\n",
      "63350\n",
      "7000024\n",
      "65053\n",
      "1095158\n",
      "62933\n",
      "1060648\n",
      "4044120\n",
      "500661\n",
      "4041104\n",
      "7000408\n",
      "1500203\n",
      "4046119\n",
      "7000420\n",
      "500715\n",
      "4042394\n",
      "1095038\n",
      "4045809\n",
      "501621\n",
      "7000193\n",
      "1095010\n",
      "1095012\n",
      "7000191\n",
      "501145\n",
      "1500759\n",
      "4044240\n",
      "7000146\n",
      "4015033\n",
      "4040768\n",
      "500703\n",
      "501435\n",
      "64978\n",
      "501421\n",
      "7000350\n",
      "7000422\n",
      "1500201\n",
      "4046669\n",
      "500677\n",
      "64818\n",
      "501555\n",
      "4046286\n",
      "4040807\n",
      "4037331\n",
      "65045\n",
      "4044452\n",
      "4042989\n",
      "501794\n",
      "1060474\n",
      "7000033\n",
      "7000027\n",
      "4040806\n",
      "1500823\n",
      "500845\n",
      "501583\n",
      "7000219\n",
      "64164\n",
      "4040345\n",
      "7000225\n",
      "4039651\n",
      "4041113\n",
      "7000423\n",
      "7000437\n",
      "501346\n",
      "501434\n",
      "4046683\n",
      "501408\n",
      "4035679\n",
      "4036370\n",
      "1500764\n",
      "60712\n",
      "7000147\n",
      "1500758\n",
      "1095007\n",
      "7000184\n",
      "7000190\n",
      "1095013\n",
      "4037397(1)\n",
      "501140\n",
      "1095017\n",
      "7000157\n",
      "1500748\n",
      "7000433\n",
      "7000427\n",
      "7000341\n",
      "4037644\n",
      "7000209\n",
      "61742\n",
      "501020\n",
      "4040802\n",
      "1500172\n",
      "501791\n",
      "60844\n",
      "4040803\n",
      "501579\n",
      "7000426\n",
      "1500211\n",
      "4048654\n",
      "501800\n",
      "4046309\n",
      "1095016\n",
      "501157\n",
      "1095014\n",
      "500275\n",
      "1500011\n",
      "1500005\n",
      "4042623\n",
      "4019633\n",
      "501816\n",
      "4034560\n",
      "1500561\n",
      "7000342\n",
      "7000424\n",
      "7000356\n",
      "63181\n",
      "4040395\n",
      "4044118\n",
      "1500373\n",
      "1500429\n",
      "4040801\n",
      "1095148\n",
      "7000034\n",
      "4039333\n",
      "4007587\n",
      "1095149\n",
      "4044119\n",
      "501208\n",
      "501234\n",
      "4038207\n",
      "7000431\n",
      "7000357\n",
      "7000343\n",
      "7000425\n",
      "4041115\n",
      "7000419\n",
      "501432\n",
      "4040747\n",
      "1095015\n",
      "501618\n",
      "7000182\n",
      "1095029\n",
      "501156\n",
      "1095072\n",
      "4037589(1)\n",
      "500549\n",
      "1095099\n",
      "4041402\n",
      "500005\n",
      "1500513\n",
      "500617\n",
      "502028\n",
      "4023132\n",
      "1500329\n",
      "4040330\n",
      "4042527\n",
      "501290\n",
      "1500301\n",
      "1095112\n",
      "1095106\n",
      "501737\n",
      "4037351\n",
      "1500659\n",
      "4040132\n",
      "4042043\n",
      "4010739\n",
      "501093\n",
      "1095107\n",
      "501078\n",
      "1095113\n",
      "501291\n",
      "7000245\n",
      "4035745\n",
      "502015\n",
      "4040494\n",
      "1500499\n",
      "502001\n",
      "1500506\n",
      "1500512\n",
      "7000457\n",
      "63045\n",
      "1500248\n",
      "501454\n",
      "4037775(1)\n",
      "1095098\n",
      "1500738\n",
      "64528\n",
      "7000127\n",
      "501656\n",
      "4040906\n",
      "1095073\n",
      "500574\n",
      "1095067\n",
      "1095071\n",
      "501126\n",
      "1095059\n",
      "501873\n",
      "501697\n",
      "4037018\n",
      "500990\n",
      "1500538\n",
      "7000455\n",
      "1500262\n",
      "4016029\n",
      "502003\n",
      "500628\n",
      "4040333\n",
      "500827\n",
      "500833\n",
      "1095105\n",
      "1500699\n",
      "7000092\n",
      "501708\n",
      "1095139\n",
      "4037346\n",
      "4038075\n",
      "501734\n",
      "4040131\n",
      "7000045\n",
      "7000051\n",
      "60610\n",
      "1500667\n",
      "60611\n",
      "1500101\n",
      "4047105\n",
      "1500115\n",
      "4041212\n",
      "7000050\n",
      "7000044\n",
      "4040865\n",
      "1095138\n",
      "60836\n",
      "501709\n",
      "1095104\n",
      "1500317\n",
      "64649\n",
      "4040326\n",
      "4037360(1)\n",
      "7000468\n",
      "500952\n",
      "7000440\n",
      "64729\n",
      "501325\n",
      "500749\n",
      "500761\n",
      "4036313\n",
      "4046409\n",
      "501872\n",
      "7000130\n",
      "1095058\n",
      "501641\n",
      "1095064\n",
      "4036677\n",
      "1095070\n",
      "4013381\n",
      "1095048\n",
      "501651\n",
      "4021441\n",
      "1095074\n",
      "4039554\n",
      "1095060\n",
      "4011555\n",
      "7000108\n",
      "4041376\n",
      "4047049\n",
      "501335\n",
      "501447\n",
      "500771\n",
      "4042482\n",
      "1500267\n",
      "7000478\n",
      "7000450\n",
      "7000444\n",
      "501241\n",
      "7000256\n",
      "1095128\n",
      "1095100\n",
      "4039434\n",
      "62943\n",
      "1500663\n",
      "4042723\n",
      "4034879\n",
      "1500138\n",
      "1500662\n",
      "1500110\n",
      "7000096\n",
      "4018389\n",
      "1095115\n",
      "1095101\n",
      "4015849\n",
      "1095129\n",
      "4037356\n",
      "4037815\n",
      "1500448\n",
      "1500306\n",
      "501283\n",
      "1500474\n",
      "501240\n",
      "61898\n",
      "7000445\n",
      "7000451\n",
      "4007120\n",
      "501485\n",
      "1500500\n",
      "7000121\n",
      "501877\n",
      "501693\n",
      "4045850\n",
      "1095061\n",
      "1095075\n",
      "4036672\n",
      "63282\n",
      "1095049\n",
      "501650\n",
      "501646\n",
      "1095063\n",
      "1095077\n",
      "4041375\n",
      "4041361\n",
      "1095088\n",
      "501875\n",
      "7000137\n",
      "500941\n",
      "7000447\n",
      "4035812\n",
      "7000321\n",
      "4010476\n",
      "502005\n",
      "4038259\n",
      "1500489\n",
      "1500304\n",
      "500835\n",
      "4037354\n",
      "501732\n",
      "501726\n",
      "1095117\n",
      "501068\n",
      "7000080\n",
      "1095103\n",
      "4037397\n",
      "1060363\n",
      "4015644\n",
      "7000057\n",
      "7000042\n",
      "1060410\n",
      "1095102\n",
      "7000081\n",
      "1095116\n",
      "4040334\n",
      "500808\n",
      "4047467\n",
      "4011147\n",
      "1500305\n",
      "1060612\n",
      "501294\n",
      "501257\n",
      "1500259\n",
      "4041162\n",
      "501486\n",
      "4045476\n",
      "501479\n",
      "500767\n",
      "4041189\n",
      "501323\n",
      "1060558\n",
      "4041348\n",
      "1095089\n",
      "4009318\n",
      "1500073\n",
      "501684\n",
      "1095076\n",
      "501109\n",
      "1095062\n",
      "1095053\n",
      "501892\n",
      "4036668\n",
      "1095084\n",
      "7000113\n",
      "4037644(1)\n",
      "1095090\n",
      "4037589\n",
      "64508\n",
      "4047046\n",
      "7000305\n",
      "64078\n",
      "4044003\n",
      "7000311\n",
      "4036536\n",
      "1500485\n",
      "4025210\n",
      "501500\n",
      "501299\n",
      "1095127\n",
      "4037358\n",
      "4019927\n",
      "64483\n",
      "1060353\n",
      "4047655\n",
      "500390\n",
      "7000072\n",
      "1500692\n",
      "501717\n",
      "1095126\n",
      "1500321\n",
      "1060150\n",
      "1500309\n",
      "4036292\n",
      "1500241\n",
      "7000476\n",
      "7000310\n",
      "4037775\n",
      "4039980\n",
      "4010679\n",
      "1095085\n",
      "501111\n",
      "4041387\n",
      "501677\n",
      "1095052\n",
      "1095046\n",
      "501649\n",
      "1095050\n",
      "1095044\n",
      "501885\n",
      "1095078\n",
      "7000110\n",
      "1095087\n",
      "501339\n",
      "1500294\n",
      "7000474\n",
      "500796\n",
      "7000460\n",
      "7000306\n",
      "1500257\n",
      "1500531\n",
      "500621\n",
      "1095130\n",
      "4043380\n",
      "1095118\n",
      "7000064\n",
      "4034685\n",
      "1500135\n",
      "4047657\n",
      "1060350\n",
      "1500652\n",
      "7000071\n",
      "4025004\n",
      "1095119\n",
      "1095125\n",
      "1500322\n",
      "64654\n",
      "4045243\n",
      "4041019\n",
      "501264\n",
      "4035029\n",
      "7000449\n",
      "500973\n",
      "7000307\n",
      "4045479\n",
      "1500281\n",
      "64522\n",
      "4047044\n",
      "7000105\n",
      "1095086\n",
      "501853\n",
      "1095092\n",
      "1095079\n",
      "1095045\n",
      "500556\n",
      "501670\n",
      "1095055\n",
      "1095041\n",
      "1095096\n",
      "4038864\n",
      "1095082\n",
      "4040075\n",
      "4039987\n",
      "500750\n",
      "1500246\n",
      "4035818\n",
      "500963\n",
      "1500252\n",
      "7000471\n",
      "7000317\n",
      "64718\n",
      "1500497\n",
      "1500483\n",
      "501512\n",
      "501248\n",
      "500630\n",
      "1500332\n",
      "501704\n",
      "1095109\n",
      "501738\n",
      "1095135\n",
      "1500656\n",
      "1500119\n",
      "7000074\n",
      "4036082\n",
      "501922\n",
      "7000048\n",
      "1095134\n",
      "1095120\n",
      "1095108\n",
      "1060618\n",
      "1500333\n",
      "501249\n",
      "501507\n",
      "501261\n",
      "7000302\n",
      "7000470\n",
      "1060744\n",
      "1500253\n",
      "64725\n",
      "500976\n",
      "500745\n",
      "500751\n",
      "1500290\n",
      "501473\n",
      "1095083\n",
      "1095097\n",
      "4041418\n",
      "501856\n",
      "1060546\n",
      "501881\n",
      "1095040\n",
      "1095054\n",
      "1095068\n",
      "1095056\n",
      "4041354\n",
      "1500735\n",
      "4047043\n",
      "1500721\n",
      "1095081\n",
      "7000102\n",
      "63276\n",
      "501854\n",
      "1095095\n",
      "60596\n",
      "4043741\n",
      "1060752\n",
      "500974\n",
      "7000466\n",
      "7000300\n",
      "500948\n",
      "64848\n",
      "4040499\n",
      "501505\n",
      "4038536\n",
      "61924\n",
      "502024\n",
      "4036527\n",
      "4017502\n",
      "7000248\n",
      "4040472\n",
      "7000089\n",
      "4021271\n",
      "4037361\n",
      "4023314\n",
      "4036057\n",
      "1095136\n",
      "1095122\n",
      "4041220\n",
      "4040895\n",
      "1500126\n",
      "1095123\n",
      "1095137\n",
      "501060\n",
      "4037360\n",
      "7000088\n",
      "1500456\n",
      "4040329\n",
      "502031\n",
      "500632\n",
      "4040498\n",
      "4038245\n",
      "501276\n",
      "7000473\n",
      "7000467\n",
      "7000301\n",
      "500975\n",
      "1500244\n",
      "4014195\n",
      "1095094\n",
      "1095080\n",
      "501699\n",
      "4047056\n",
      "4047042\n",
      "1095057\n",
      "1095043\n",
      "4036678\n",
      "1095024\n",
      "1095030\n",
      "1095018\n",
      "1500009\n",
      "501826\n",
      "4026381\n",
      "4037361(1)\n",
      "1500747\n",
      "501359\n",
      "checkpoints\n"
     ]
    },
    {
     "ename": "ParserError",
     "evalue": "Error tokenizing data. C error: Calling read(nbytes) on source failed. Try engine='python'.",
     "output_type": "error",
     "traceback": [
      "\u001b[0;31m---------------------------------------------------------------------------\u001b[0m",
      "\u001b[0;31mParserError\u001b[0m                               Traceback (most recent call last)",
      "\u001b[0;32m<ipython-input-89-5f8be693e327>\u001b[0m in \u001b[0;36m<module>\u001b[0;34m\u001b[0m\n\u001b[1;32m      4\u001b[0m     \u001b[0mprint\u001b[0m\u001b[0;34m(\u001b[0m\u001b[0mf\u001b[0m\u001b[0;34m.\u001b[0m\u001b[0msplit\u001b[0m\u001b[0;34m(\u001b[0m\u001b[0;34m\"_\"\u001b[0m\u001b[0;34m)\u001b[0m\u001b[0;34m[\u001b[0m\u001b[0;36m1\u001b[0m\u001b[0;34m]\u001b[0m\u001b[0;34m.\u001b[0m\u001b[0msplit\u001b[0m\u001b[0;34m(\u001b[0m\u001b[0;34m\".\"\u001b[0m\u001b[0;34m)\u001b[0m\u001b[0;34m[\u001b[0m\u001b[0;36m0\u001b[0m\u001b[0;34m]\u001b[0m\u001b[0;34m)\u001b[0m\u001b[0;34m\u001b[0m\u001b[0;34m\u001b[0m\u001b[0m\n\u001b[1;32m      5\u001b[0m     \u001b[0;32mif\u001b[0m \u001b[0;34m'('\u001b[0m \u001b[0;32mnot\u001b[0m \u001b[0;32min\u001b[0m \u001b[0mf\u001b[0m\u001b[0;34m.\u001b[0m\u001b[0msplit\u001b[0m\u001b[0;34m(\u001b[0m\u001b[0;34m\"_\"\u001b[0m\u001b[0;34m)\u001b[0m\u001b[0;34m[\u001b[0m\u001b[0;36m1\u001b[0m\u001b[0;34m]\u001b[0m\u001b[0;34m.\u001b[0m\u001b[0msplit\u001b[0m\u001b[0;34m(\u001b[0m\u001b[0;34m\".\"\u001b[0m\u001b[0;34m)\u001b[0m\u001b[0;34m[\u001b[0m\u001b[0;36m0\u001b[0m\u001b[0;34m]\u001b[0m\u001b[0;34m:\u001b[0m\u001b[0;34m\u001b[0m\u001b[0;34m\u001b[0m\u001b[0m\n\u001b[0;32m----> 6\u001b[0;31m         \u001b[0m_pred\u001b[0m \u001b[0;34m=\u001b[0m \u001b[0mpd\u001b[0m\u001b[0;34m.\u001b[0m\u001b[0mread_csv\u001b[0m\u001b[0;34m(\u001b[0m\u001b[0mpath\u001b[0m \u001b[0;34m+\u001b[0m \u001b[0mf\u001b[0m\u001b[0;34m)\u001b[0m\u001b[0;34m.\u001b[0m\u001b[0mrename\u001b[0m\u001b[0;34m(\u001b[0m\u001b[0mcolumns\u001b[0m\u001b[0;34m=\u001b[0m\u001b[0;34m{\u001b[0m\u001b[0;34m'ds'\u001b[0m\u001b[0;34m:\u001b[0m \u001b[0;34m'Tarih'\u001b[0m\u001b[0;34m,\u001b[0m \u001b[0;34m'anomaly'\u001b[0m\u001b[0;34m:\u001b[0m \u001b[0;34m'ad_label_3'\u001b[0m\u001b[0;34m,\u001b[0m \u001b[0;34m'importance'\u001b[0m\u001b[0;34m:\u001b[0m \u001b[0;34m'anomaly_score_3'\u001b[0m\u001b[0;34m}\u001b[0m\u001b[0;34m)\u001b[0m\u001b[0;34m\u001b[0m\u001b[0;34m\u001b[0m\u001b[0m\n\u001b[0m\u001b[1;32m      7\u001b[0m         \u001b[0m_pred\u001b[0m\u001b[0;34m[\u001b[0m\u001b[0;34m'BayiKodu'\u001b[0m\u001b[0;34m]\u001b[0m \u001b[0;34m=\u001b[0m \u001b[0mint\u001b[0m\u001b[0;34m(\u001b[0m\u001b[0mf\u001b[0m\u001b[0;34m.\u001b[0m\u001b[0msplit\u001b[0m\u001b[0;34m(\u001b[0m\u001b[0;34m\"_\"\u001b[0m\u001b[0;34m)\u001b[0m\u001b[0;34m[\u001b[0m\u001b[0;36m1\u001b[0m\u001b[0;34m]\u001b[0m\u001b[0;34m.\u001b[0m\u001b[0msplit\u001b[0m\u001b[0;34m(\u001b[0m\u001b[0;34m\".\"\u001b[0m\u001b[0;34m)\u001b[0m\u001b[0;34m[\u001b[0m\u001b[0;36m0\u001b[0m\u001b[0;34m]\u001b[0m\u001b[0;34m)\u001b[0m\u001b[0;34m\u001b[0m\u001b[0;34m\u001b[0m\u001b[0m\n\u001b[1;32m      8\u001b[0m     \u001b[0mprediction\u001b[0m \u001b[0;34m+=\u001b[0m \u001b[0m_pred\u001b[0m\u001b[0;34m.\u001b[0m\u001b[0mto_dict\u001b[0m\u001b[0;34m(\u001b[0m\u001b[0;34m'results'\u001b[0m\u001b[0;34m)\u001b[0m\u001b[0;34m\u001b[0m\u001b[0;34m\u001b[0m\u001b[0m\n",
      "\u001b[0;32m~/opt/anaconda3/lib/python3.7/site-packages/pandas/io/parsers.py\u001b[0m in \u001b[0;36mparser_f\u001b[0;34m(filepath_or_buffer, sep, delimiter, header, names, index_col, usecols, squeeze, prefix, mangle_dupe_cols, dtype, engine, converters, true_values, false_values, skipinitialspace, skiprows, skipfooter, nrows, na_values, keep_default_na, na_filter, verbose, skip_blank_lines, parse_dates, infer_datetime_format, keep_date_col, date_parser, dayfirst, cache_dates, iterator, chunksize, compression, thousands, decimal, lineterminator, quotechar, quoting, doublequote, escapechar, comment, encoding, dialect, error_bad_lines, warn_bad_lines, delim_whitespace, low_memory, memory_map, float_precision)\u001b[0m\n\u001b[1;32m    683\u001b[0m         )\n\u001b[1;32m    684\u001b[0m \u001b[0;34m\u001b[0m\u001b[0m\n\u001b[0;32m--> 685\u001b[0;31m         \u001b[0;32mreturn\u001b[0m \u001b[0m_read\u001b[0m\u001b[0;34m(\u001b[0m\u001b[0mfilepath_or_buffer\u001b[0m\u001b[0;34m,\u001b[0m \u001b[0mkwds\u001b[0m\u001b[0;34m)\u001b[0m\u001b[0;34m\u001b[0m\u001b[0;34m\u001b[0m\u001b[0m\n\u001b[0m\u001b[1;32m    686\u001b[0m \u001b[0;34m\u001b[0m\u001b[0m\n\u001b[1;32m    687\u001b[0m     \u001b[0mparser_f\u001b[0m\u001b[0;34m.\u001b[0m\u001b[0m__name__\u001b[0m \u001b[0;34m=\u001b[0m \u001b[0mname\u001b[0m\u001b[0;34m\u001b[0m\u001b[0;34m\u001b[0m\u001b[0m\n",
      "\u001b[0;32m~/opt/anaconda3/lib/python3.7/site-packages/pandas/io/parsers.py\u001b[0m in \u001b[0;36m_read\u001b[0;34m(filepath_or_buffer, kwds)\u001b[0m\n\u001b[1;32m    455\u001b[0m \u001b[0;34m\u001b[0m\u001b[0m\n\u001b[1;32m    456\u001b[0m     \u001b[0;31m# Create the parser.\u001b[0m\u001b[0;34m\u001b[0m\u001b[0;34m\u001b[0m\u001b[0;34m\u001b[0m\u001b[0m\n\u001b[0;32m--> 457\u001b[0;31m     \u001b[0mparser\u001b[0m \u001b[0;34m=\u001b[0m \u001b[0mTextFileReader\u001b[0m\u001b[0;34m(\u001b[0m\u001b[0mfp_or_buf\u001b[0m\u001b[0;34m,\u001b[0m \u001b[0;34m**\u001b[0m\u001b[0mkwds\u001b[0m\u001b[0;34m)\u001b[0m\u001b[0;34m\u001b[0m\u001b[0;34m\u001b[0m\u001b[0m\n\u001b[0m\u001b[1;32m    458\u001b[0m \u001b[0;34m\u001b[0m\u001b[0m\n\u001b[1;32m    459\u001b[0m     \u001b[0;32mif\u001b[0m \u001b[0mchunksize\u001b[0m \u001b[0;32mor\u001b[0m \u001b[0miterator\u001b[0m\u001b[0;34m:\u001b[0m\u001b[0;34m\u001b[0m\u001b[0;34m\u001b[0m\u001b[0m\n",
      "\u001b[0;32m~/opt/anaconda3/lib/python3.7/site-packages/pandas/io/parsers.py\u001b[0m in \u001b[0;36m__init__\u001b[0;34m(self, f, engine, **kwds)\u001b[0m\n\u001b[1;32m    893\u001b[0m             \u001b[0mself\u001b[0m\u001b[0;34m.\u001b[0m\u001b[0moptions\u001b[0m\u001b[0;34m[\u001b[0m\u001b[0;34m\"has_index_names\"\u001b[0m\u001b[0;34m]\u001b[0m \u001b[0;34m=\u001b[0m \u001b[0mkwds\u001b[0m\u001b[0;34m[\u001b[0m\u001b[0;34m\"has_index_names\"\u001b[0m\u001b[0;34m]\u001b[0m\u001b[0;34m\u001b[0m\u001b[0;34m\u001b[0m\u001b[0m\n\u001b[1;32m    894\u001b[0m \u001b[0;34m\u001b[0m\u001b[0m\n\u001b[0;32m--> 895\u001b[0;31m         \u001b[0mself\u001b[0m\u001b[0;34m.\u001b[0m\u001b[0m_make_engine\u001b[0m\u001b[0;34m(\u001b[0m\u001b[0mself\u001b[0m\u001b[0;34m.\u001b[0m\u001b[0mengine\u001b[0m\u001b[0;34m)\u001b[0m\u001b[0;34m\u001b[0m\u001b[0;34m\u001b[0m\u001b[0m\n\u001b[0m\u001b[1;32m    896\u001b[0m \u001b[0;34m\u001b[0m\u001b[0m\n\u001b[1;32m    897\u001b[0m     \u001b[0;32mdef\u001b[0m \u001b[0mclose\u001b[0m\u001b[0;34m(\u001b[0m\u001b[0mself\u001b[0m\u001b[0;34m)\u001b[0m\u001b[0;34m:\u001b[0m\u001b[0;34m\u001b[0m\u001b[0;34m\u001b[0m\u001b[0m\n",
      "\u001b[0;32m~/opt/anaconda3/lib/python3.7/site-packages/pandas/io/parsers.py\u001b[0m in \u001b[0;36m_make_engine\u001b[0;34m(self, engine)\u001b[0m\n\u001b[1;32m   1133\u001b[0m     \u001b[0;32mdef\u001b[0m \u001b[0m_make_engine\u001b[0m\u001b[0;34m(\u001b[0m\u001b[0mself\u001b[0m\u001b[0;34m,\u001b[0m \u001b[0mengine\u001b[0m\u001b[0;34m=\u001b[0m\u001b[0;34m\"c\"\u001b[0m\u001b[0;34m)\u001b[0m\u001b[0;34m:\u001b[0m\u001b[0;34m\u001b[0m\u001b[0;34m\u001b[0m\u001b[0m\n\u001b[1;32m   1134\u001b[0m         \u001b[0;32mif\u001b[0m \u001b[0mengine\u001b[0m \u001b[0;34m==\u001b[0m \u001b[0;34m\"c\"\u001b[0m\u001b[0;34m:\u001b[0m\u001b[0;34m\u001b[0m\u001b[0;34m\u001b[0m\u001b[0m\n\u001b[0;32m-> 1135\u001b[0;31m             \u001b[0mself\u001b[0m\u001b[0;34m.\u001b[0m\u001b[0m_engine\u001b[0m \u001b[0;34m=\u001b[0m \u001b[0mCParserWrapper\u001b[0m\u001b[0;34m(\u001b[0m\u001b[0mself\u001b[0m\u001b[0;34m.\u001b[0m\u001b[0mf\u001b[0m\u001b[0;34m,\u001b[0m \u001b[0;34m**\u001b[0m\u001b[0mself\u001b[0m\u001b[0;34m.\u001b[0m\u001b[0moptions\u001b[0m\u001b[0;34m)\u001b[0m\u001b[0;34m\u001b[0m\u001b[0;34m\u001b[0m\u001b[0m\n\u001b[0m\u001b[1;32m   1136\u001b[0m         \u001b[0;32melse\u001b[0m\u001b[0;34m:\u001b[0m\u001b[0;34m\u001b[0m\u001b[0;34m\u001b[0m\u001b[0m\n\u001b[1;32m   1137\u001b[0m             \u001b[0;32mif\u001b[0m \u001b[0mengine\u001b[0m \u001b[0;34m==\u001b[0m \u001b[0;34m\"python\"\u001b[0m\u001b[0;34m:\u001b[0m\u001b[0;34m\u001b[0m\u001b[0;34m\u001b[0m\u001b[0m\n",
      "\u001b[0;32m~/opt/anaconda3/lib/python3.7/site-packages/pandas/io/parsers.py\u001b[0m in \u001b[0;36m__init__\u001b[0;34m(self, src, **kwds)\u001b[0m\n\u001b[1;32m   1915\u001b[0m         \u001b[0mkwds\u001b[0m\u001b[0;34m[\u001b[0m\u001b[0;34m\"usecols\"\u001b[0m\u001b[0;34m]\u001b[0m \u001b[0;34m=\u001b[0m \u001b[0mself\u001b[0m\u001b[0;34m.\u001b[0m\u001b[0musecols\u001b[0m\u001b[0;34m\u001b[0m\u001b[0;34m\u001b[0m\u001b[0m\n\u001b[1;32m   1916\u001b[0m \u001b[0;34m\u001b[0m\u001b[0m\n\u001b[0;32m-> 1917\u001b[0;31m         \u001b[0mself\u001b[0m\u001b[0;34m.\u001b[0m\u001b[0m_reader\u001b[0m \u001b[0;34m=\u001b[0m \u001b[0mparsers\u001b[0m\u001b[0;34m.\u001b[0m\u001b[0mTextReader\u001b[0m\u001b[0;34m(\u001b[0m\u001b[0msrc\u001b[0m\u001b[0;34m,\u001b[0m \u001b[0;34m**\u001b[0m\u001b[0mkwds\u001b[0m\u001b[0;34m)\u001b[0m\u001b[0;34m\u001b[0m\u001b[0;34m\u001b[0m\u001b[0m\n\u001b[0m\u001b[1;32m   1918\u001b[0m         \u001b[0mself\u001b[0m\u001b[0;34m.\u001b[0m\u001b[0munnamed_cols\u001b[0m \u001b[0;34m=\u001b[0m \u001b[0mself\u001b[0m\u001b[0;34m.\u001b[0m\u001b[0m_reader\u001b[0m\u001b[0;34m.\u001b[0m\u001b[0munnamed_cols\u001b[0m\u001b[0;34m\u001b[0m\u001b[0;34m\u001b[0m\u001b[0m\n\u001b[1;32m   1919\u001b[0m \u001b[0;34m\u001b[0m\u001b[0m\n",
      "\u001b[0;32mpandas/_libs/parsers.pyx\u001b[0m in \u001b[0;36mpandas._libs.parsers.TextReader.__cinit__\u001b[0;34m()\u001b[0m\n",
      "\u001b[0;32mpandas/_libs/parsers.pyx\u001b[0m in \u001b[0;36mpandas._libs.parsers.TextReader._get_header\u001b[0;34m()\u001b[0m\n",
      "\u001b[0;32mpandas/_libs/parsers.pyx\u001b[0m in \u001b[0;36mpandas._libs.parsers.TextReader._tokenize_rows\u001b[0;34m()\u001b[0m\n",
      "\u001b[0;32mpandas/_libs/parsers.pyx\u001b[0m in \u001b[0;36mpandas._libs.parsers.raise_parser_error\u001b[0;34m()\u001b[0m\n",
      "\u001b[0;31mParserError\u001b[0m: Error tokenizing data. C error: Calling read(nbytes) on source failed. Try engine='python'."
     ]
    }
   ],
   "source": [
    "path = 'Sonuc/'\n",
    "prediction = []\n",
    "for f in listdir(dirname(path)):\n",
    "    print(f.split(\"_\")[1].split(\".\")[0])\n",
    "    if '(' not in f.split(\"_\")[1].split(\".\")[0]:\n",
    "        _pred = pd.read_csv(path + f).rename(columns={'ds': 'Tarih', 'anomaly': 'ad_label_3', 'importance': 'anomaly_score_3'})\n",
    "        _pred['BayiKodu'] = int(f.split(\"_\")[1].split(\".\")[0])\n",
    "    prediction += _pred.to_dict('results')\n",
    "results = pd.DataFrame(prediction)\n",
    "results['ad_label_2'] = results['ad_label_2'].apply(lambda x: 1 if x in [1, -1] else 0)\n",
    "results.to_csv(\"data/result_volkan.csv\")"
   ]
  },
  {
   "cell_type": "markdown",
   "metadata": {},
   "source": [
    "### config"
   ]
  },
  {
   "cell_type": "code",
   "execution_count": 87,
   "metadata": {},
   "outputs": [],
   "source": [
    "local_run = True\n",
    "data_main_path = \"data/\" if local_run else \"/tmp/mnt/data/\"\n",
    "prediction_main_path = \"prediction/\" if local_run else \"/tmp/mnt/prediction/\"\n",
    "model_main_path = \"models/\" if local_run else \"/tmp/mnt/models/\"\n",
    "data_read_paths = {'raw': 'ml3yil.csv',\n",
    "                   'franchise_info': 'BayiIlkVeriGoderimTarihi.csv',\n",
    "                   'model_data': 'data_for_lstm.csv',\n",
    "                   'merged_results': \"results\" + \"\".join(str(datetime.datetime.now())[0:10].split(\"-\")) + \".csv\",\n",
    "                   'results': \"results.csv\",\n",
    "                   \"external\": \"result_selim.csv\",\n",
    "                   \"external_2\": \"result_volkan.csv\",\n",
    "                   \"actual_values\": \"actual_results.csv\",\n",
    "                   \"prediction_data\": \"prediction_data.xlsx\"}\n",
    "date_col = 'Tarih'\n",
    "feature = 'KisiSayimi'"
   ]
  },
  {
   "cell_type": "markdown",
   "metadata": {},
   "source": [
    "### data access"
   ]
  },
  {
   "cell_type": "code",
   "execution_count": 90,
   "metadata": {},
   "outputs": [],
   "source": [
    "def get_data(path):\n",
    "    if path.split(\"/\")[-1] == data_read_paths['raw']:\n",
    "        data = pd.read_csv(path, error_bad_lines=False, encoding=\"ISO-8859-1\", sep=';')\n",
    "        data[date_col] = data[date_col].apply(lambda x: convert_str_to_date(x))\n",
    "        data['isoweekday'] = data[date_col].apply(lambda x: x.isoweekday())\n",
    "        data['week_parts'] = data['isoweekday'].apply(lambda x: 1 if x in [1, 2, 3, 4, 5] else 0)\n",
    "        franchise_Iot_starts = pd.read_csv(data_main_path + data_read_paths['franchise_info'], sep=';')\n",
    "        franchise_Iot_starts = franchise_Iot_starts.rename(columns={'ilkverigonderimtarihi': 'd_r_start_date'})\n",
    "        franchise_Iot_starts['d_r_start_date'] = franchise_Iot_starts['d_r_start_date'].apply(lambda x:\n",
    "                                                                                              convert_str_to_date(\n",
    "                                                                                                  x) if x == x else min(\n",
    "                                                                                                  data['Tarih']))\n",
    "        data = pd.merge(data, franchise_Iot_starts[['BayiKodu', 'd_r_start_date']], on='BayiKodu', how='left')\n",
    "        data = data.query(\"d_r_start_date <= Tarih\")\n",
    "        return data, franchise_Iot_starts\n",
    "    if path.split(\"/\")[-1] == data_read_paths['prediction_data']:\n",
    "        data = pd.read_excel(path)\n",
    "        data['isoweekday'] = data[date_col].apply(lambda x: x.isoweekday())\n",
    "        data['week_parts'] = data['isoweekday'].apply(lambda x: 1 if x in [1, 2, 3, 4, 5] else 0)\n",
    "        return data\n",
    "    if path.split(\"/\")[-1] not in [data_read_paths['raw'], data_read_paths['prediction_data']]:\n",
    "        data = pd.read_csv(path)\n",
    "        if date_col not in data.columns:\n",
    "            data = pd.read_csv(path, sep=';')\n",
    "        data[date_col] = data[date_col].apply(lambda x: convert_str_to_date(x))\n",
    "        return data"
   ]
  },
  {
   "cell_type": "code",
   "execution_count": 177,
   "metadata": {
    "scrolled": true
   },
   "outputs": [],
   "source": [
    "data_external = get_data(data_main_path + data_read_paths['external'])\n",
    "data_external_2 = get_data(data_main_path + data_read_paths['external_2'])\n",
    "prediction = get_data(data_main_path + data_read_paths['results'])\n",
    "raw_data = get_data(data_main_path+data_read_paths['raw'])[0]\n",
    "\n",
    "# external 1\n",
    "prediction = pd.merge(prediction,\n",
    "                         data_external[['BayiKodu', 'Tarih', 'anomaly', 'ops']].rename(\n",
    "                             columns={'anomaly': 'ad_label_2', 'ops': 'anomaly_score_2'}),\n",
    "                         on=['BayiKodu', 'Tarih'], how='left')\n",
    "prediction['ad_label_2'] = prediction['ad_label_2'].apply(lambda x: 1 if x == -1 else 0)\n",
    "prediction['ad_label_2'] = prediction['ad_label_2'].fillna(0)\n",
    "prediction['anomaly_score_2'] = prediction['anomaly_score_2'].fillna(0)\n",
    "\n",
    "\n",
    "predicted_franchises = list(prediction['BayiKodu'].unique())\n",
    "data = pd.merge(raw_data, prediction[['BayiKodu', date_col, 'predict', 'anomaly_score',\n",
    "                                  'ad_label', 'ad_label_2', 'anomaly_score_2']],\n",
    "                on=['BayiKodu', date_col], how='left').sort_values(by='Tarih', ascending=True)\n",
    "\n",
    "# external 2\n",
    "data = pd.merge(data, data_external_2[['Tarih', 'BayiKodu', 'ad_label_3', 'anomaly_score_3']], \n",
    "                on=['Tarih', 'BayiKodu'], how='left')\n",
    "\n",
    "data = data.fillna(0)\n",
    "data = data.query(\"BayiKodu in @predicted_franchises\")\n",
    "\n",
    "\n",
    "for label in ['ad_label', 'ad_label_2', 'ad_label_3']:\n",
    "    data[label] = data.apply(lambda row: row[label]\n",
    "                                                            if row['Tarih'] > \n",
    "                                  datetime.datetime.strptime('2020-01-05', '%Y-%m-%d') else 0, axis=1)\n",
    "    data[label] = data.apply(lambda row: 1 if row['KisiSayimi'] < 50 or\n",
    "                                                               row['KisiSayimi'] > 2000 else row[label], axis=1)\n",
    "\n",
    "    "
   ]
  },
  {
   "cell_type": "code",
   "execution_count": 178,
   "metadata": {
    "scrolled": true
   },
   "outputs": [
    {
     "data": {
      "text/html": [
       "<div>\n",
       "<style scoped>\n",
       "    .dataframe tbody tr th:only-of-type {\n",
       "        vertical-align: middle;\n",
       "    }\n",
       "\n",
       "    .dataframe tbody tr th {\n",
       "        vertical-align: top;\n",
       "    }\n",
       "\n",
       "    .dataframe thead th {\n",
       "        text-align: right;\n",
       "    }\n",
       "</style>\n",
       "<table border=\"1\" class=\"dataframe\">\n",
       "  <thead>\n",
       "    <tr style=\"text-align: right;\">\n",
       "      <th></th>\n",
       "      <th>anomaly_score</th>\n",
       "      <th>ad_label</th>\n",
       "      <th>predict</th>\n",
       "      <th>BayiKodu</th>\n",
       "      <th>Tarih</th>\n",
       "      <th>ad_label_2</th>\n",
       "      <th>anomaly_score_2</th>\n",
       "      <th>ad_label_3</th>\n",
       "      <th>anomaly_score_3</th>\n",
       "      <th>KisiSayimi</th>\n",
       "    </tr>\n",
       "  </thead>\n",
       "  <tbody>\n",
       "    <tr>\n",
       "      <td>736768</td>\n",
       "      <td>0.625455</td>\n",
       "      <td>0.0</td>\n",
       "      <td>361.621307</td>\n",
       "      <td>1500101</td>\n",
       "      <td>2020-03-02</td>\n",
       "      <td>0.0</td>\n",
       "      <td>0.000000</td>\n",
       "      <td>0.0</td>\n",
       "      <td>0.000000</td>\n",
       "      <td>473.0</td>\n",
       "    </tr>\n",
       "    <tr>\n",
       "      <td>736769</td>\n",
       "      <td>1.000000</td>\n",
       "      <td>1.0</td>\n",
       "      <td>424.696198</td>\n",
       "      <td>1500652</td>\n",
       "      <td>2020-03-02</td>\n",
       "      <td>1.0</td>\n",
       "      <td>0.588316</td>\n",
       "      <td>0.0</td>\n",
       "      <td>0.000000</td>\n",
       "      <td>88.0</td>\n",
       "    </tr>\n",
       "    <tr>\n",
       "      <td>736770</td>\n",
       "      <td>1.000000</td>\n",
       "      <td>1.0</td>\n",
       "      <td>335.913452</td>\n",
       "      <td>1500663</td>\n",
       "      <td>2020-03-02</td>\n",
       "      <td>0.0</td>\n",
       "      <td>0.000000</td>\n",
       "      <td>1.0</td>\n",
       "      <td>0.005393</td>\n",
       "      <td>622.0</td>\n",
       "    </tr>\n",
       "    <tr>\n",
       "      <td>736771</td>\n",
       "      <td>0.207611</td>\n",
       "      <td>0.0</td>\n",
       "      <td>1061.486206</td>\n",
       "      <td>7000449</td>\n",
       "      <td>2020-03-02</td>\n",
       "      <td>0.0</td>\n",
       "      <td>0.000000</td>\n",
       "      <td>0.0</td>\n",
       "      <td>0.000000</td>\n",
       "      <td>1348.0</td>\n",
       "    </tr>\n",
       "    <tr>\n",
       "      <td>736772</td>\n",
       "      <td>0.449738</td>\n",
       "      <td>0.0</td>\n",
       "      <td>471.784302</td>\n",
       "      <td>1500241</td>\n",
       "      <td>2020-03-02</td>\n",
       "      <td>0.0</td>\n",
       "      <td>0.000000</td>\n",
       "      <td>0.0</td>\n",
       "      <td>0.000000</td>\n",
       "      <td>642.0</td>\n",
       "    </tr>\n",
       "    <tr>\n",
       "      <td>...</td>\n",
       "      <td>...</td>\n",
       "      <td>...</td>\n",
       "      <td>...</td>\n",
       "      <td>...</td>\n",
       "      <td>...</td>\n",
       "      <td>...</td>\n",
       "      <td>...</td>\n",
       "      <td>...</td>\n",
       "      <td>...</td>\n",
       "      <td>...</td>\n",
       "    </tr>\n",
       "    <tr>\n",
       "      <td>751296</td>\n",
       "      <td>0.000000</td>\n",
       "      <td>0.0</td>\n",
       "      <td>0.000000</td>\n",
       "      <td>1095064</td>\n",
       "      <td>2020-03-19</td>\n",
       "      <td>0.0</td>\n",
       "      <td>0.000000</td>\n",
       "      <td>0.0</td>\n",
       "      <td>0.000000</td>\n",
       "      <td>158.0</td>\n",
       "    </tr>\n",
       "    <tr>\n",
       "      <td>751297</td>\n",
       "      <td>0.000000</td>\n",
       "      <td>0.0</td>\n",
       "      <td>0.000000</td>\n",
       "      <td>4042989</td>\n",
       "      <td>2020-03-19</td>\n",
       "      <td>0.0</td>\n",
       "      <td>0.000000</td>\n",
       "      <td>0.0</td>\n",
       "      <td>0.000000</td>\n",
       "      <td>214.0</td>\n",
       "    </tr>\n",
       "    <tr>\n",
       "      <td>751298</td>\n",
       "      <td>0.000000</td>\n",
       "      <td>0.0</td>\n",
       "      <td>0.000000</td>\n",
       "      <td>501599</td>\n",
       "      <td>2020-03-19</td>\n",
       "      <td>0.0</td>\n",
       "      <td>0.000000</td>\n",
       "      <td>0.0</td>\n",
       "      <td>0.000000</td>\n",
       "      <td>278.0</td>\n",
       "    </tr>\n",
       "    <tr>\n",
       "      <td>751299</td>\n",
       "      <td>0.000000</td>\n",
       "      <td>0.0</td>\n",
       "      <td>0.000000</td>\n",
       "      <td>1500230</td>\n",
       "      <td>2020-03-19</td>\n",
       "      <td>0.0</td>\n",
       "      <td>0.000000</td>\n",
       "      <td>0.0</td>\n",
       "      <td>0.000000</td>\n",
       "      <td>277.0</td>\n",
       "    </tr>\n",
       "    <tr>\n",
       "      <td>751300</td>\n",
       "      <td>0.000000</td>\n",
       "      <td>0.0</td>\n",
       "      <td>0.000000</td>\n",
       "      <td>4024810</td>\n",
       "      <td>2020-03-19</td>\n",
       "      <td>0.0</td>\n",
       "      <td>0.000000</td>\n",
       "      <td>1.0</td>\n",
       "      <td>0.675159</td>\n",
       "      <td>205.0</td>\n",
       "    </tr>\n",
       "  </tbody>\n",
       "</table>\n",
       "<p>12006 rows × 10 columns</p>\n",
       "</div>"
      ],
      "text/plain": [
       "        anomaly_score  ad_label      predict  BayiKodu      Tarih  ad_label_2  \\\n",
       "736768       0.625455       0.0   361.621307   1500101 2020-03-02         0.0   \n",
       "736769       1.000000       1.0   424.696198   1500652 2020-03-02         1.0   \n",
       "736770       1.000000       1.0   335.913452   1500663 2020-03-02         0.0   \n",
       "736771       0.207611       0.0  1061.486206   7000449 2020-03-02         0.0   \n",
       "736772       0.449738       0.0   471.784302   1500241 2020-03-02         0.0   \n",
       "...               ...       ...          ...       ...        ...         ...   \n",
       "751296       0.000000       0.0     0.000000   1095064 2020-03-19         0.0   \n",
       "751297       0.000000       0.0     0.000000   4042989 2020-03-19         0.0   \n",
       "751298       0.000000       0.0     0.000000    501599 2020-03-19         0.0   \n",
       "751299       0.000000       0.0     0.000000   1500230 2020-03-19         0.0   \n",
       "751300       0.000000       0.0     0.000000   4024810 2020-03-19         0.0   \n",
       "\n",
       "        anomaly_score_2  ad_label_3  anomaly_score_3  KisiSayimi  \n",
       "736768         0.000000         0.0         0.000000       473.0  \n",
       "736769         0.588316         0.0         0.000000        88.0  \n",
       "736770         0.000000         1.0         0.005393       622.0  \n",
       "736771         0.000000         0.0         0.000000      1348.0  \n",
       "736772         0.000000         0.0         0.000000       642.0  \n",
       "...                 ...         ...              ...         ...  \n",
       "751296         0.000000         0.0         0.000000       158.0  \n",
       "751297         0.000000         0.0         0.000000       214.0  \n",
       "751298         0.000000         0.0         0.000000       278.0  \n",
       "751299         0.000000         0.0         0.000000       277.0  \n",
       "751300         0.000000         1.0         0.675159       205.0  \n",
       "\n",
       "[12006 rows x 10 columns]"
      ]
     },
     "execution_count": 178,
     "metadata": {},
     "output_type": "execute_result"
    }
   ],
   "source": [
    "results = data.query(\"Tarih > '2020-03-01'\"\n",
    "                    )[['anomaly_score', 'ad_label', 'predict', 'BayiKodu', 'Tarih', \n",
    "                       'ad_label_2', 'anomaly_score_2', 'ad_label_3', 'anomaly_score_3', 'KisiSayimi']]\n",
    "results"
   ]
  },
  {
   "cell_type": "code",
   "execution_count": 176,
   "metadata": {},
   "outputs": [],
   "source": [
    "#actual = pd.read_excel(\"data/ML1-12MartSonucu.xlsx\")\n",
    "#results = pd.merge(actual.drop('KisiSayimi', axis=1), results, on=['BayiKodu', 'Tarih'], how='left')"
   ]
  },
  {
   "cell_type": "code",
   "execution_count": 179,
   "metadata": {},
   "outputs": [
    {
     "data": {
      "text/html": [
       "<div>\n",
       "<style scoped>\n",
       "    .dataframe tbody tr th:only-of-type {\n",
       "        vertical-align: middle;\n",
       "    }\n",
       "\n",
       "    .dataframe tbody tr th {\n",
       "        vertical-align: top;\n",
       "    }\n",
       "\n",
       "    .dataframe thead th {\n",
       "        text-align: right;\n",
       "    }\n",
       "</style>\n",
       "<table border=\"1\" class=\"dataframe\">\n",
       "  <thead>\n",
       "    <tr style=\"text-align: right;\">\n",
       "      <th></th>\n",
       "      <th>BayiKodu</th>\n",
       "      <th>ad_label</th>\n",
       "      <th>ad_label_2</th>\n",
       "      <th>ad_label_3</th>\n",
       "    </tr>\n",
       "  </thead>\n",
       "  <tbody>\n",
       "    <tr>\n",
       "      <td>624</td>\n",
       "      <td>7000302</td>\n",
       "      <td>18.0</td>\n",
       "      <td>18.0</td>\n",
       "      <td>18.0</td>\n",
       "    </tr>\n",
       "    <tr>\n",
       "      <td>335</td>\n",
       "      <td>1500253</td>\n",
       "      <td>18.0</td>\n",
       "      <td>18.0</td>\n",
       "      <td>18.0</td>\n",
       "    </tr>\n",
       "    <tr>\n",
       "      <td>445</td>\n",
       "      <td>4034560</td>\n",
       "      <td>18.0</td>\n",
       "      <td>18.0</td>\n",
       "      <td>18.0</td>\n",
       "    </tr>\n",
       "    <tr>\n",
       "      <td>390</td>\n",
       "      <td>1500743</td>\n",
       "      <td>18.0</td>\n",
       "      <td>18.0</td>\n",
       "      <td>18.0</td>\n",
       "    </tr>\n",
       "    <tr>\n",
       "      <td>313</td>\n",
       "      <td>1500110</td>\n",
       "      <td>18.0</td>\n",
       "      <td>18.0</td>\n",
       "      <td>18.0</td>\n",
       "    </tr>\n",
       "    <tr>\n",
       "      <td>...</td>\n",
       "      <td>...</td>\n",
       "      <td>...</td>\n",
       "      <td>...</td>\n",
       "      <td>...</td>\n",
       "    </tr>\n",
       "    <tr>\n",
       "      <td>349</td>\n",
       "      <td>1500332</td>\n",
       "      <td>1.0</td>\n",
       "      <td>0.0</td>\n",
       "      <td>0.0</td>\n",
       "    </tr>\n",
       "    <tr>\n",
       "      <td>348</td>\n",
       "      <td>1500329</td>\n",
       "      <td>0.0</td>\n",
       "      <td>0.0</td>\n",
       "      <td>0.0</td>\n",
       "    </tr>\n",
       "    <tr>\n",
       "      <td>345</td>\n",
       "      <td>1500317</td>\n",
       "      <td>0.0</td>\n",
       "      <td>0.0</td>\n",
       "      <td>0.0</td>\n",
       "    </tr>\n",
       "    <tr>\n",
       "      <td>343</td>\n",
       "      <td>1500306</td>\n",
       "      <td>1.0</td>\n",
       "      <td>0.0</td>\n",
       "      <td>0.0</td>\n",
       "    </tr>\n",
       "    <tr>\n",
       "      <td>333</td>\n",
       "      <td>1500248</td>\n",
       "      <td>0.0</td>\n",
       "      <td>0.0</td>\n",
       "      <td>0.0</td>\n",
       "    </tr>\n",
       "  </tbody>\n",
       "</table>\n",
       "<p>667 rows × 4 columns</p>\n",
       "</div>"
      ],
      "text/plain": [
       "     BayiKodu  ad_label  ad_label_2  ad_label_3\n",
       "624   7000302      18.0        18.0        18.0\n",
       "335   1500253      18.0        18.0        18.0\n",
       "445   4034560      18.0        18.0        18.0\n",
       "390   1500743      18.0        18.0        18.0\n",
       "313   1500110      18.0        18.0        18.0\n",
       "..        ...       ...         ...         ...\n",
       "349   1500332       1.0         0.0         0.0\n",
       "348   1500329       0.0         0.0         0.0\n",
       "345   1500317       0.0         0.0         0.0\n",
       "343   1500306       1.0         0.0         0.0\n",
       "333   1500248       0.0         0.0         0.0\n",
       "\n",
       "[667 rows x 4 columns]"
      ]
     },
     "execution_count": 179,
     "metadata": {},
     "output_type": "execute_result"
    }
   ],
   "source": [
    "results.pivot_table(index='BayiKodu', aggfunc={'ad_label': 'sum', \n",
    "                                               'ad_label_2': 'sum',\n",
    "                                              'ad_label_3': 'sum'}\n",
    "                   ).reset_index().sort_values(by='ad_label_3', ascending=False)"
   ]
  },
  {
   "cell_type": "code",
   "execution_count": 180,
   "metadata": {},
   "outputs": [
    {
     "name": "stdout",
     "output_type": "stream",
     "text": [
      "number of data removed from train set :\n",
      "142397\n",
      "ratio :\n",
      "0.18953388854799874\n"
     ]
    }
   ],
   "source": [
    "print(\"number of data removed from train set :\")\n",
    "print(len(raw_data.query(\"KisiSayimi > 2000 or KisiSayimi < 50 or KisiSayimi != KisiSayimi\")))\n",
    "print(\"ratio :\")\n",
    "print(len(raw_data.query(\"KisiSayimi > 2000 or KisiSayimi < 50 or KisiSayimi != KisiSayimi\")) / len(raw_data))"
   ]
  },
  {
   "cell_type": "code",
   "execution_count": 181,
   "metadata": {},
   "outputs": [
    {
     "name": "stdout",
     "output_type": "stream",
     "text": [
      "number of total observing data :\n",
      "12006\n",
      "number of franchises : \n",
      "667\n",
      "number of days which has null or 0 values :\n",
      "number of data point KisiSayimi > 2k or < 50 :\n",
      "1626\n",
      "toatl label 1 anomaly result count \n",
      "265\n",
      "toatl label 2 anomaly result count \n",
      "124\n",
      "toatl label 3 anomaly result count \n",
      "224\n"
     ]
    }
   ],
   "source": [
    "print(\"number of total observing data :\")\n",
    "print(len(results))\n",
    "print(\"number of franchises : \")\n",
    "print(len(results['BayiKodu'].unique()))\n",
    "print(\"number of days which has null or 0 values :\")\n",
    "len(results[results['KisiSayimi'] == 0])\n",
    "print(\"number of data point KisiSayimi > 2k or < 50 :\")\n",
    "print(len(results.query(\"KisiSayimi > 2000 or KisiSayimi < 50\")))\n",
    "print(\"toatl label 1 anomaly result count \")\n",
    "print(len(results.query(\"ad_label == 1 and KisiSayimi < 2000 and KisiSayimi > 50\")))\n",
    "print(\"toatl label 2 anomaly result count \")\n",
    "print(len(results.query(\"ad_label_2 == 1 and KisiSayimi < 2000 and KisiSayimi > 50\")))\n",
    "print(\"toatl label 3 anomaly result count \")\n",
    "print(len(results.query(\"ad_label_3 == 1 and KisiSayimi < 2000 and KisiSayimi > 50\")))"
   ]
  },
  {
   "cell_type": "code",
   "execution_count": 182,
   "metadata": {
    "scrolled": false
   },
   "outputs": [
    {
     "data": {
      "application/vnd.plotly.v1+json": {
       "config": {
        "plotlyServerURL": "https://plot.ly"
       },
       "data": [
        {
         "alignmentgroup": "True",
         "bingroup": "x",
         "hoverlabel": {
          "namelength": 0
         },
         "hovertemplate": "anomaly_score=%{x}<br>count=%{y}",
         "legendgroup": "",
         "marker": {
          "color": "#636efa"
         },
         "name": "",
         "nbinsx": 500,
         "offsetgroup": "",
         "orientation": "v",
         "showlegend": false,
         "type": "histogram",
         "x": [
          1,
          1,
          1,
          1,
          1,
          1,
          1,
          1,
          0.009130111137689587,
          1,
          0.04488722227168896,
          1,
          0.030465758271708613,
          1,
          1,
          1,
          0.004389256188511266,
          1,
          1,
          1,
          0.04054165373696783,
          1,
          1,
          0.04454245331916551,
          0.037314792231772254,
          0.0316041913264824,
          0.00482395769647857,
          1,
          0.03641146426533515,
          1,
          0.04117255280139531,
          1,
          1,
          1,
          0.04473139947545579,
          0.025530773674946602,
          0.005150994616133497,
          1,
          0.03172760785635631,
          0.04753445593390615,
          0.03512035959910265,
          1,
          0.029997372129105138,
          1,
          0.026630663299843985,
          0.029278017551960574,
          0.027065686110220644,
          1,
          1,
          0.008331428480023547,
          0.0388047950853343,
          0.024601729131797482,
          1,
          1,
          1,
          0.004698488588840112,
          1,
          0.004939751828390241,
          1,
          1,
          0.025517795275879832,
          0.038665924444633785,
          0.0063501004068228575,
          0.02879952009971276,
          0.04029743561041999,
          0.015783101983951154,
          1,
          1,
          1,
          1,
          0.029553154018431838,
          0.01536891103835683,
          0.01383643237400332,
          1,
          0.024563857641741068,
          0.012998508958096688,
          0.025433852406619103,
          0.028840520289574963,
          0.012164308391387673,
          0.023595642716318185,
          1,
          1,
          0.032584556785036245,
          1,
          0.01973842733569429,
          1,
          1,
          0.02697769809495476,
          0.04353085697775698,
          1,
          0.014023757814621441,
          0.02433504155472166,
          0.03825445727199128,
          1,
          1,
          1,
          1,
          1,
          1,
          1,
          1,
          0.025369090925385737,
          0.048481312381198016,
          1,
          0.028404156418321943,
          0.031478751459184995,
          1,
          1,
          0.033112444556787905,
          1,
          1,
          0.018462533473582652,
          0.01817942691205329,
          0.02425902275144776,
          0.04893349042951578,
          1,
          1,
          1,
          1,
          1,
          1,
          1,
          1,
          0.016703090313852857,
          0.04416460119057408,
          1,
          0.03772150462929525,
          0.01561443079789594,
          1,
          1,
          1,
          1,
          1,
          1,
          1,
          1,
          0.01518218108899045,
          1,
          0.032817470293265434,
          1,
          0.044960982538220666,
          0.03719737941784485,
          1,
          1,
          1,
          0.024634138411439244,
          0.024911420906586827,
          1,
          1,
          1,
          1,
          0.022772884919425085,
          0.019604971194145396,
          1,
          0.03191748117236659,
          1,
          0.045791520074607066,
          1,
          1,
          1,
          0.015009036934290674,
          0.01626798567895208,
          1,
          1,
          0.028889907656643014,
          1,
          0.0425571991257061,
          0.026329104729337142,
          0.016326476280998564,
          1,
          1,
          0.016795043995068246,
          0.025732227710952186,
          0.03438473267363329,
          1,
          1,
          0.0188483120735488,
          1,
          1,
          1,
          1,
          0.04113346670952678,
          0.015026601213090778,
          0.039192490710288415,
          0.013585400601050564,
          0.015674550210743217,
          0.03132816787310155,
          1,
          0.031587496785923534,
          1,
          0.04011982427475691,
          0.012569091166258916,
          0.02513589446940168,
          1,
          0.013131283072307504,
          0.012172540996179959,
          0.028180982647525443,
          0.030727096225780626,
          0.048641396387783885,
          0.029658346022444437,
          1,
          0.02360665056227203,
          0.03305123326181392,
          0.03680518026087976,
          0.018458965500045717,
          0.02418903145192885,
          0.0493177611739295,
          0.040465239310282786,
          0.046785996479428486,
          0.01972936398249423,
          0.02187760514106883,
          0.025774432566206856,
          1,
          0.017855600960261085,
          1,
          0.04408817543113397,
          0.015783784331982742,
          0.023485009031685336,
          0.04688386665895772,
          0.020851072497612286,
          0.019223534485141684,
          0.013927844888299646,
          0.039152911995648736,
          0.04463565764858013,
          0.039174317035641726,
          0.006719263010173685,
          0.03808848832379419,
          0.03038652485653348,
          0.006168018726542379,
          1,
          1,
          1,
          0.033393351935791515,
          1,
          0.02446401239616813,
          1,
          0.025211307922956228,
          0.004773723271064575,
          1,
          1,
          1,
          0.01808191047160612,
          0.02851609675773703,
          0.006507357801725112,
          1,
          0.004384931459677304,
          0.040827363658970106,
          0.006988302399899963,
          1,
          1,
          0.031971262303304604,
          0.009037474576835012,
          1,
          1,
          0,
          0.041357375457152463,
          1,
          1,
          0.034266630880424365,
          0.048451290843919526,
          0.02288705268380331,
          1,
          0.04668639241751571,
          1,
          1
         ],
         "xaxis": "x",
         "yaxis": "y"
        }
       ],
       "layout": {
        "barmode": "relative",
        "height": 600,
        "legend": {
         "tracegroupgap": 0
        },
        "margin": {
         "t": 60
        },
        "template": {
         "data": {
          "bar": [
           {
            "error_x": {
             "color": "#2a3f5f"
            },
            "error_y": {
             "color": "#2a3f5f"
            },
            "marker": {
             "line": {
              "color": "#E5ECF6",
              "width": 0.5
             }
            },
            "type": "bar"
           }
          ],
          "barpolar": [
           {
            "marker": {
             "line": {
              "color": "#E5ECF6",
              "width": 0.5
             }
            },
            "type": "barpolar"
           }
          ],
          "carpet": [
           {
            "aaxis": {
             "endlinecolor": "#2a3f5f",
             "gridcolor": "white",
             "linecolor": "white",
             "minorgridcolor": "white",
             "startlinecolor": "#2a3f5f"
            },
            "baxis": {
             "endlinecolor": "#2a3f5f",
             "gridcolor": "white",
             "linecolor": "white",
             "minorgridcolor": "white",
             "startlinecolor": "#2a3f5f"
            },
            "type": "carpet"
           }
          ],
          "choropleth": [
           {
            "colorbar": {
             "outlinewidth": 0,
             "ticks": ""
            },
            "type": "choropleth"
           }
          ],
          "contour": [
           {
            "colorbar": {
             "outlinewidth": 0,
             "ticks": ""
            },
            "colorscale": [
             [
              0,
              "#0d0887"
             ],
             [
              0.1111111111111111,
              "#46039f"
             ],
             [
              0.2222222222222222,
              "#7201a8"
             ],
             [
              0.3333333333333333,
              "#9c179e"
             ],
             [
              0.4444444444444444,
              "#bd3786"
             ],
             [
              0.5555555555555556,
              "#d8576b"
             ],
             [
              0.6666666666666666,
              "#ed7953"
             ],
             [
              0.7777777777777778,
              "#fb9f3a"
             ],
             [
              0.8888888888888888,
              "#fdca26"
             ],
             [
              1,
              "#f0f921"
             ]
            ],
            "type": "contour"
           }
          ],
          "contourcarpet": [
           {
            "colorbar": {
             "outlinewidth": 0,
             "ticks": ""
            },
            "type": "contourcarpet"
           }
          ],
          "heatmap": [
           {
            "colorbar": {
             "outlinewidth": 0,
             "ticks": ""
            },
            "colorscale": [
             [
              0,
              "#0d0887"
             ],
             [
              0.1111111111111111,
              "#46039f"
             ],
             [
              0.2222222222222222,
              "#7201a8"
             ],
             [
              0.3333333333333333,
              "#9c179e"
             ],
             [
              0.4444444444444444,
              "#bd3786"
             ],
             [
              0.5555555555555556,
              "#d8576b"
             ],
             [
              0.6666666666666666,
              "#ed7953"
             ],
             [
              0.7777777777777778,
              "#fb9f3a"
             ],
             [
              0.8888888888888888,
              "#fdca26"
             ],
             [
              1,
              "#f0f921"
             ]
            ],
            "type": "heatmap"
           }
          ],
          "heatmapgl": [
           {
            "colorbar": {
             "outlinewidth": 0,
             "ticks": ""
            },
            "colorscale": [
             [
              0,
              "#0d0887"
             ],
             [
              0.1111111111111111,
              "#46039f"
             ],
             [
              0.2222222222222222,
              "#7201a8"
             ],
             [
              0.3333333333333333,
              "#9c179e"
             ],
             [
              0.4444444444444444,
              "#bd3786"
             ],
             [
              0.5555555555555556,
              "#d8576b"
             ],
             [
              0.6666666666666666,
              "#ed7953"
             ],
             [
              0.7777777777777778,
              "#fb9f3a"
             ],
             [
              0.8888888888888888,
              "#fdca26"
             ],
             [
              1,
              "#f0f921"
             ]
            ],
            "type": "heatmapgl"
           }
          ],
          "histogram": [
           {
            "marker": {
             "colorbar": {
              "outlinewidth": 0,
              "ticks": ""
             }
            },
            "type": "histogram"
           }
          ],
          "histogram2d": [
           {
            "colorbar": {
             "outlinewidth": 0,
             "ticks": ""
            },
            "colorscale": [
             [
              0,
              "#0d0887"
             ],
             [
              0.1111111111111111,
              "#46039f"
             ],
             [
              0.2222222222222222,
              "#7201a8"
             ],
             [
              0.3333333333333333,
              "#9c179e"
             ],
             [
              0.4444444444444444,
              "#bd3786"
             ],
             [
              0.5555555555555556,
              "#d8576b"
             ],
             [
              0.6666666666666666,
              "#ed7953"
             ],
             [
              0.7777777777777778,
              "#fb9f3a"
             ],
             [
              0.8888888888888888,
              "#fdca26"
             ],
             [
              1,
              "#f0f921"
             ]
            ],
            "type": "histogram2d"
           }
          ],
          "histogram2dcontour": [
           {
            "colorbar": {
             "outlinewidth": 0,
             "ticks": ""
            },
            "colorscale": [
             [
              0,
              "#0d0887"
             ],
             [
              0.1111111111111111,
              "#46039f"
             ],
             [
              0.2222222222222222,
              "#7201a8"
             ],
             [
              0.3333333333333333,
              "#9c179e"
             ],
             [
              0.4444444444444444,
              "#bd3786"
             ],
             [
              0.5555555555555556,
              "#d8576b"
             ],
             [
              0.6666666666666666,
              "#ed7953"
             ],
             [
              0.7777777777777778,
              "#fb9f3a"
             ],
             [
              0.8888888888888888,
              "#fdca26"
             ],
             [
              1,
              "#f0f921"
             ]
            ],
            "type": "histogram2dcontour"
           }
          ],
          "mesh3d": [
           {
            "colorbar": {
             "outlinewidth": 0,
             "ticks": ""
            },
            "type": "mesh3d"
           }
          ],
          "parcoords": [
           {
            "line": {
             "colorbar": {
              "outlinewidth": 0,
              "ticks": ""
             }
            },
            "type": "parcoords"
           }
          ],
          "pie": [
           {
            "automargin": true,
            "type": "pie"
           }
          ],
          "scatter": [
           {
            "marker": {
             "colorbar": {
              "outlinewidth": 0,
              "ticks": ""
             }
            },
            "type": "scatter"
           }
          ],
          "scatter3d": [
           {
            "line": {
             "colorbar": {
              "outlinewidth": 0,
              "ticks": ""
             }
            },
            "marker": {
             "colorbar": {
              "outlinewidth": 0,
              "ticks": ""
             }
            },
            "type": "scatter3d"
           }
          ],
          "scattercarpet": [
           {
            "marker": {
             "colorbar": {
              "outlinewidth": 0,
              "ticks": ""
             }
            },
            "type": "scattercarpet"
           }
          ],
          "scattergeo": [
           {
            "marker": {
             "colorbar": {
              "outlinewidth": 0,
              "ticks": ""
             }
            },
            "type": "scattergeo"
           }
          ],
          "scattergl": [
           {
            "marker": {
             "colorbar": {
              "outlinewidth": 0,
              "ticks": ""
             }
            },
            "type": "scattergl"
           }
          ],
          "scattermapbox": [
           {
            "marker": {
             "colorbar": {
              "outlinewidth": 0,
              "ticks": ""
             }
            },
            "type": "scattermapbox"
           }
          ],
          "scatterpolar": [
           {
            "marker": {
             "colorbar": {
              "outlinewidth": 0,
              "ticks": ""
             }
            },
            "type": "scatterpolar"
           }
          ],
          "scatterpolargl": [
           {
            "marker": {
             "colorbar": {
              "outlinewidth": 0,
              "ticks": ""
             }
            },
            "type": "scatterpolargl"
           }
          ],
          "scatterternary": [
           {
            "marker": {
             "colorbar": {
              "outlinewidth": 0,
              "ticks": ""
             }
            },
            "type": "scatterternary"
           }
          ],
          "surface": [
           {
            "colorbar": {
             "outlinewidth": 0,
             "ticks": ""
            },
            "colorscale": [
             [
              0,
              "#0d0887"
             ],
             [
              0.1111111111111111,
              "#46039f"
             ],
             [
              0.2222222222222222,
              "#7201a8"
             ],
             [
              0.3333333333333333,
              "#9c179e"
             ],
             [
              0.4444444444444444,
              "#bd3786"
             ],
             [
              0.5555555555555556,
              "#d8576b"
             ],
             [
              0.6666666666666666,
              "#ed7953"
             ],
             [
              0.7777777777777778,
              "#fb9f3a"
             ],
             [
              0.8888888888888888,
              "#fdca26"
             ],
             [
              1,
              "#f0f921"
             ]
            ],
            "type": "surface"
           }
          ],
          "table": [
           {
            "cells": {
             "fill": {
              "color": "#EBF0F8"
             },
             "line": {
              "color": "white"
             }
            },
            "header": {
             "fill": {
              "color": "#C8D4E3"
             },
             "line": {
              "color": "white"
             }
            },
            "type": "table"
           }
          ]
         },
         "layout": {
          "annotationdefaults": {
           "arrowcolor": "#2a3f5f",
           "arrowhead": 0,
           "arrowwidth": 1
          },
          "coloraxis": {
           "colorbar": {
            "outlinewidth": 0,
            "ticks": ""
           }
          },
          "colorscale": {
           "diverging": [
            [
             0,
             "#8e0152"
            ],
            [
             0.1,
             "#c51b7d"
            ],
            [
             0.2,
             "#de77ae"
            ],
            [
             0.3,
             "#f1b6da"
            ],
            [
             0.4,
             "#fde0ef"
            ],
            [
             0.5,
             "#f7f7f7"
            ],
            [
             0.6,
             "#e6f5d0"
            ],
            [
             0.7,
             "#b8e186"
            ],
            [
             0.8,
             "#7fbc41"
            ],
            [
             0.9,
             "#4d9221"
            ],
            [
             1,
             "#276419"
            ]
           ],
           "sequential": [
            [
             0,
             "#0d0887"
            ],
            [
             0.1111111111111111,
             "#46039f"
            ],
            [
             0.2222222222222222,
             "#7201a8"
            ],
            [
             0.3333333333333333,
             "#9c179e"
            ],
            [
             0.4444444444444444,
             "#bd3786"
            ],
            [
             0.5555555555555556,
             "#d8576b"
            ],
            [
             0.6666666666666666,
             "#ed7953"
            ],
            [
             0.7777777777777778,
             "#fb9f3a"
            ],
            [
             0.8888888888888888,
             "#fdca26"
            ],
            [
             1,
             "#f0f921"
            ]
           ],
           "sequentialminus": [
            [
             0,
             "#0d0887"
            ],
            [
             0.1111111111111111,
             "#46039f"
            ],
            [
             0.2222222222222222,
             "#7201a8"
            ],
            [
             0.3333333333333333,
             "#9c179e"
            ],
            [
             0.4444444444444444,
             "#bd3786"
            ],
            [
             0.5555555555555556,
             "#d8576b"
            ],
            [
             0.6666666666666666,
             "#ed7953"
            ],
            [
             0.7777777777777778,
             "#fb9f3a"
            ],
            [
             0.8888888888888888,
             "#fdca26"
            ],
            [
             1,
             "#f0f921"
            ]
           ]
          },
          "colorway": [
           "#636efa",
           "#EF553B",
           "#00cc96",
           "#ab63fa",
           "#FFA15A",
           "#19d3f3",
           "#FF6692",
           "#B6E880",
           "#FF97FF",
           "#FECB52"
          ],
          "font": {
           "color": "#2a3f5f"
          },
          "geo": {
           "bgcolor": "white",
           "lakecolor": "white",
           "landcolor": "#E5ECF6",
           "showlakes": true,
           "showland": true,
           "subunitcolor": "white"
          },
          "hoverlabel": {
           "align": "left"
          },
          "hovermode": "closest",
          "mapbox": {
           "style": "light"
          },
          "paper_bgcolor": "white",
          "plot_bgcolor": "#E5ECF6",
          "polar": {
           "angularaxis": {
            "gridcolor": "white",
            "linecolor": "white",
            "ticks": ""
           },
           "bgcolor": "#E5ECF6",
           "radialaxis": {
            "gridcolor": "white",
            "linecolor": "white",
            "ticks": ""
           }
          },
          "scene": {
           "xaxis": {
            "backgroundcolor": "#E5ECF6",
            "gridcolor": "white",
            "gridwidth": 2,
            "linecolor": "white",
            "showbackground": true,
            "ticks": "",
            "zerolinecolor": "white"
           },
           "yaxis": {
            "backgroundcolor": "#E5ECF6",
            "gridcolor": "white",
            "gridwidth": 2,
            "linecolor": "white",
            "showbackground": true,
            "ticks": "",
            "zerolinecolor": "white"
           },
           "zaxis": {
            "backgroundcolor": "#E5ECF6",
            "gridcolor": "white",
            "gridwidth": 2,
            "linecolor": "white",
            "showbackground": true,
            "ticks": "",
            "zerolinecolor": "white"
           }
          },
          "shapedefaults": {
           "line": {
            "color": "#2a3f5f"
           }
          },
          "ternary": {
           "aaxis": {
            "gridcolor": "white",
            "linecolor": "white",
            "ticks": ""
           },
           "baxis": {
            "gridcolor": "white",
            "linecolor": "white",
            "ticks": ""
           },
           "bgcolor": "#E5ECF6",
           "caxis": {
            "gridcolor": "white",
            "linecolor": "white",
            "ticks": ""
           }
          },
          "title": {
           "x": 0.05
          },
          "xaxis": {
           "automargin": true,
           "gridcolor": "white",
           "linecolor": "white",
           "ticks": "",
           "title": {
            "standoff": 15
           },
           "zerolinecolor": "white",
           "zerolinewidth": 2
          },
          "yaxis": {
           "automargin": true,
           "gridcolor": "white",
           "linecolor": "white",
           "ticks": "",
           "title": {
            "standoff": 15
           },
           "zerolinecolor": "white",
           "zerolinewidth": 2
          }
         }
        },
        "xaxis": {
         "anchor": "y",
         "domain": [
          0,
          1
         ],
         "title": {
          "text": "anomaly_score"
         }
        },
        "yaxis": {
         "anchor": "x",
         "domain": [
          0,
          1
         ],
         "title": {
          "text": "count"
         }
        }
       }
      },
      "text/html": [
       "<div>\n",
       "        \n",
       "        \n",
       "            <div id=\"571b690f-f409-4a4c-b83b-6dbe139f3ded\" class=\"plotly-graph-div\" style=\"height:600px; width:100%;\"></div>\n",
       "            <script type=\"text/javascript\">\n",
       "                require([\"plotly\"], function(Plotly) {\n",
       "                    window.PLOTLYENV=window.PLOTLYENV || {};\n",
       "                    \n",
       "                if (document.getElementById(\"571b690f-f409-4a4c-b83b-6dbe139f3ded\")) {\n",
       "                    Plotly.newPlot(\n",
       "                        '571b690f-f409-4a4c-b83b-6dbe139f3ded',\n",
       "                        [{\"alignmentgroup\": \"True\", \"bingroup\": \"x\", \"hoverlabel\": {\"namelength\": 0}, \"hovertemplate\": \"anomaly_score=%{x}<br>count=%{y}\", \"legendgroup\": \"\", \"marker\": {\"color\": \"#636efa\"}, \"name\": \"\", \"nbinsx\": 500, \"offsetgroup\": \"\", \"orientation\": \"v\", \"showlegend\": false, \"type\": \"histogram\", \"x\": [1.0, 1.0, 1.0, 1.0, 1.0, 1.0, 1.0, 1.0, 0.009130111137689587, 1.0, 0.04488722227168896, 1.0, 0.030465758271708613, 1.0, 1.0, 1.0, 0.004389256188511266, 1.0, 1.0, 1.0, 0.04054165373696783, 1.0, 1.0, 0.04454245331916551, 0.037314792231772254, 0.0316041913264824, 0.00482395769647857, 1.0, 0.03641146426533515, 1.0, 0.04117255280139531, 1.0, 1.0, 1.0, 0.04473139947545579, 0.025530773674946602, 0.005150994616133497, 1.0, 0.03172760785635631, 0.04753445593390615, 0.03512035959910265, 1.0, 0.029997372129105138, 1.0, 0.026630663299843985, 0.029278017551960574, 0.027065686110220644, 1.0, 1.0, 0.008331428480023547, 0.0388047950853343, 0.024601729131797482, 1.0, 1.0, 1.0, 0.004698488588840112, 1.0, 0.004939751828390241, 1.0, 1.0, 0.025517795275879832, 0.038665924444633785, 0.0063501004068228575, 0.02879952009971276, 0.04029743561041999, 0.015783101983951154, 1.0, 1.0, 1.0, 1.0, 0.029553154018431838, 0.01536891103835683, 0.01383643237400332, 1.0, 0.024563857641741068, 0.012998508958096688, 0.025433852406619103, 0.028840520289574963, 0.012164308391387673, 0.023595642716318185, 1.0, 1.0, 0.032584556785036245, 1.0, 0.01973842733569429, 1.0, 1.0, 0.02697769809495476, 0.04353085697775698, 1.0, 0.014023757814621441, 0.02433504155472166, 0.03825445727199128, 1.0, 1.0, 1.0, 1.0, 1.0, 1.0, 1.0, 1.0, 0.025369090925385737, 0.048481312381198016, 1.0, 0.028404156418321943, 0.031478751459184995, 1.0, 1.0, 0.033112444556787905, 1.0, 1.0, 0.018462533473582652, 0.01817942691205329, 0.02425902275144776, 0.04893349042951578, 1.0, 1.0, 1.0, 1.0, 1.0, 1.0, 1.0, 1.0, 0.016703090313852857, 0.04416460119057408, 1.0, 0.03772150462929525, 0.01561443079789594, 1.0, 1.0, 1.0, 1.0, 1.0, 1.0, 1.0, 1.0, 0.01518218108899045, 1.0, 0.032817470293265434, 1.0, 0.044960982538220666, 0.03719737941784485, 1.0, 1.0, 1.0, 0.024634138411439244, 0.024911420906586827, 1.0, 1.0, 1.0, 1.0, 0.022772884919425085, 0.019604971194145396, 1.0, 0.03191748117236659, 1.0, 0.045791520074607066, 1.0, 1.0, 1.0, 0.015009036934290674, 0.01626798567895208, 1.0, 1.0, 0.028889907656643014, 1.0, 0.0425571991257061, 0.026329104729337142, 0.016326476280998564, 1.0, 1.0, 0.016795043995068246, 0.025732227710952186, 0.03438473267363329, 1.0, 1.0, 0.0188483120735488, 1.0, 1.0, 1.0, 1.0, 0.04113346670952678, 0.015026601213090778, 0.039192490710288415, 0.013585400601050564, 0.015674550210743217, 0.03132816787310155, 1.0, 0.031587496785923534, 1.0, 0.04011982427475691, 0.012569091166258916, 0.02513589446940168, 1.0, 0.013131283072307504, 0.012172540996179959, 0.028180982647525443, 0.030727096225780626, 0.048641396387783885, 0.029658346022444437, 1.0, 0.02360665056227203, 0.03305123326181392, 0.03680518026087976, 0.018458965500045717, 0.02418903145192885, 0.0493177611739295, 0.040465239310282786, 0.046785996479428486, 0.01972936398249423, 0.02187760514106883, 0.025774432566206856, 1.0, 0.017855600960261085, 1.0, 0.04408817543113397, 0.015783784331982742, 0.023485009031685336, 0.04688386665895772, 0.020851072497612286, 0.019223534485141684, 0.013927844888299646, 0.039152911995648736, 0.04463565764858013, 0.039174317035641726, 0.006719263010173685, 0.03808848832379419, 0.03038652485653348, 0.006168018726542379, 1.0, 1.0, 1.0, 0.033393351935791515, 1.0, 0.02446401239616813, 1.0, 0.025211307922956228, 0.004773723271064575, 1.0, 1.0, 1.0, 0.01808191047160612, 0.02851609675773703, 0.006507357801725112, 1.0, 0.004384931459677304, 0.040827363658970106, 0.006988302399899963, 1.0, 1.0, 0.031971262303304604, 0.009037474576835012, 1.0, 1.0, 0.0, 0.041357375457152463, 1.0, 1.0, 0.034266630880424365, 0.048451290843919526, 0.02288705268380331, 1.0, 0.04668639241751571, 1.0, 1.0], \"xaxis\": \"x\", \"yaxis\": \"y\"}],\n",
       "                        {\"barmode\": \"relative\", \"height\": 600, \"legend\": {\"tracegroupgap\": 0}, \"margin\": {\"t\": 60}, \"template\": {\"data\": {\"bar\": [{\"error_x\": {\"color\": \"#2a3f5f\"}, \"error_y\": {\"color\": \"#2a3f5f\"}, \"marker\": {\"line\": {\"color\": \"#E5ECF6\", \"width\": 0.5}}, \"type\": \"bar\"}], \"barpolar\": [{\"marker\": {\"line\": {\"color\": \"#E5ECF6\", \"width\": 0.5}}, \"type\": \"barpolar\"}], \"carpet\": [{\"aaxis\": {\"endlinecolor\": \"#2a3f5f\", \"gridcolor\": \"white\", \"linecolor\": \"white\", \"minorgridcolor\": \"white\", \"startlinecolor\": \"#2a3f5f\"}, \"baxis\": {\"endlinecolor\": \"#2a3f5f\", \"gridcolor\": \"white\", \"linecolor\": \"white\", \"minorgridcolor\": \"white\", \"startlinecolor\": \"#2a3f5f\"}, \"type\": \"carpet\"}], \"choropleth\": [{\"colorbar\": {\"outlinewidth\": 0, \"ticks\": \"\"}, \"type\": \"choropleth\"}], \"contour\": [{\"colorbar\": {\"outlinewidth\": 0, \"ticks\": \"\"}, \"colorscale\": [[0.0, \"#0d0887\"], [0.1111111111111111, \"#46039f\"], [0.2222222222222222, \"#7201a8\"], [0.3333333333333333, \"#9c179e\"], [0.4444444444444444, \"#bd3786\"], [0.5555555555555556, \"#d8576b\"], [0.6666666666666666, \"#ed7953\"], [0.7777777777777778, \"#fb9f3a\"], [0.8888888888888888, \"#fdca26\"], [1.0, \"#f0f921\"]], \"type\": \"contour\"}], \"contourcarpet\": [{\"colorbar\": {\"outlinewidth\": 0, \"ticks\": \"\"}, \"type\": \"contourcarpet\"}], \"heatmap\": [{\"colorbar\": {\"outlinewidth\": 0, \"ticks\": \"\"}, \"colorscale\": [[0.0, \"#0d0887\"], [0.1111111111111111, \"#46039f\"], [0.2222222222222222, \"#7201a8\"], [0.3333333333333333, \"#9c179e\"], [0.4444444444444444, \"#bd3786\"], [0.5555555555555556, \"#d8576b\"], [0.6666666666666666, \"#ed7953\"], [0.7777777777777778, \"#fb9f3a\"], [0.8888888888888888, \"#fdca26\"], [1.0, \"#f0f921\"]], \"type\": \"heatmap\"}], \"heatmapgl\": [{\"colorbar\": {\"outlinewidth\": 0, \"ticks\": \"\"}, \"colorscale\": [[0.0, \"#0d0887\"], [0.1111111111111111, \"#46039f\"], [0.2222222222222222, \"#7201a8\"], [0.3333333333333333, \"#9c179e\"], [0.4444444444444444, \"#bd3786\"], [0.5555555555555556, \"#d8576b\"], [0.6666666666666666, \"#ed7953\"], [0.7777777777777778, \"#fb9f3a\"], [0.8888888888888888, \"#fdca26\"], [1.0, \"#f0f921\"]], \"type\": \"heatmapgl\"}], \"histogram\": [{\"marker\": {\"colorbar\": {\"outlinewidth\": 0, \"ticks\": \"\"}}, \"type\": \"histogram\"}], \"histogram2d\": [{\"colorbar\": {\"outlinewidth\": 0, \"ticks\": \"\"}, \"colorscale\": [[0.0, \"#0d0887\"], [0.1111111111111111, \"#46039f\"], [0.2222222222222222, \"#7201a8\"], [0.3333333333333333, \"#9c179e\"], [0.4444444444444444, \"#bd3786\"], [0.5555555555555556, \"#d8576b\"], [0.6666666666666666, \"#ed7953\"], [0.7777777777777778, \"#fb9f3a\"], [0.8888888888888888, \"#fdca26\"], [1.0, \"#f0f921\"]], \"type\": \"histogram2d\"}], \"histogram2dcontour\": [{\"colorbar\": {\"outlinewidth\": 0, \"ticks\": \"\"}, \"colorscale\": [[0.0, \"#0d0887\"], [0.1111111111111111, \"#46039f\"], [0.2222222222222222, \"#7201a8\"], [0.3333333333333333, \"#9c179e\"], [0.4444444444444444, \"#bd3786\"], [0.5555555555555556, \"#d8576b\"], [0.6666666666666666, \"#ed7953\"], [0.7777777777777778, \"#fb9f3a\"], [0.8888888888888888, \"#fdca26\"], [1.0, \"#f0f921\"]], \"type\": \"histogram2dcontour\"}], \"mesh3d\": [{\"colorbar\": {\"outlinewidth\": 0, \"ticks\": \"\"}, \"type\": \"mesh3d\"}], \"parcoords\": [{\"line\": {\"colorbar\": {\"outlinewidth\": 0, \"ticks\": \"\"}}, \"type\": \"parcoords\"}], \"pie\": [{\"automargin\": true, \"type\": \"pie\"}], \"scatter\": [{\"marker\": {\"colorbar\": {\"outlinewidth\": 0, \"ticks\": \"\"}}, \"type\": \"scatter\"}], \"scatter3d\": [{\"line\": {\"colorbar\": {\"outlinewidth\": 0, \"ticks\": \"\"}}, \"marker\": {\"colorbar\": {\"outlinewidth\": 0, \"ticks\": \"\"}}, \"type\": \"scatter3d\"}], \"scattercarpet\": [{\"marker\": {\"colorbar\": {\"outlinewidth\": 0, \"ticks\": \"\"}}, \"type\": \"scattercarpet\"}], \"scattergeo\": [{\"marker\": {\"colorbar\": {\"outlinewidth\": 0, \"ticks\": \"\"}}, \"type\": \"scattergeo\"}], \"scattergl\": [{\"marker\": {\"colorbar\": {\"outlinewidth\": 0, \"ticks\": \"\"}}, \"type\": \"scattergl\"}], \"scattermapbox\": [{\"marker\": {\"colorbar\": {\"outlinewidth\": 0, \"ticks\": \"\"}}, \"type\": \"scattermapbox\"}], \"scatterpolar\": [{\"marker\": {\"colorbar\": {\"outlinewidth\": 0, \"ticks\": \"\"}}, \"type\": \"scatterpolar\"}], \"scatterpolargl\": [{\"marker\": {\"colorbar\": {\"outlinewidth\": 0, \"ticks\": \"\"}}, \"type\": \"scatterpolargl\"}], \"scatterternary\": [{\"marker\": {\"colorbar\": {\"outlinewidth\": 0, \"ticks\": \"\"}}, \"type\": \"scatterternary\"}], \"surface\": [{\"colorbar\": {\"outlinewidth\": 0, \"ticks\": \"\"}, \"colorscale\": [[0.0, \"#0d0887\"], [0.1111111111111111, \"#46039f\"], [0.2222222222222222, \"#7201a8\"], [0.3333333333333333, \"#9c179e\"], [0.4444444444444444, \"#bd3786\"], [0.5555555555555556, \"#d8576b\"], [0.6666666666666666, \"#ed7953\"], [0.7777777777777778, \"#fb9f3a\"], [0.8888888888888888, \"#fdca26\"], [1.0, \"#f0f921\"]], \"type\": \"surface\"}], \"table\": [{\"cells\": {\"fill\": {\"color\": \"#EBF0F8\"}, \"line\": {\"color\": \"white\"}}, \"header\": {\"fill\": {\"color\": \"#C8D4E3\"}, \"line\": {\"color\": \"white\"}}, \"type\": \"table\"}]}, \"layout\": {\"annotationdefaults\": {\"arrowcolor\": \"#2a3f5f\", \"arrowhead\": 0, \"arrowwidth\": 1}, \"coloraxis\": {\"colorbar\": {\"outlinewidth\": 0, \"ticks\": \"\"}}, \"colorscale\": {\"diverging\": [[0, \"#8e0152\"], [0.1, \"#c51b7d\"], [0.2, \"#de77ae\"], [0.3, \"#f1b6da\"], [0.4, \"#fde0ef\"], [0.5, \"#f7f7f7\"], [0.6, \"#e6f5d0\"], [0.7, \"#b8e186\"], [0.8, \"#7fbc41\"], [0.9, \"#4d9221\"], [1, \"#276419\"]], \"sequential\": [[0.0, \"#0d0887\"], [0.1111111111111111, \"#46039f\"], [0.2222222222222222, \"#7201a8\"], [0.3333333333333333, \"#9c179e\"], [0.4444444444444444, \"#bd3786\"], [0.5555555555555556, \"#d8576b\"], [0.6666666666666666, \"#ed7953\"], [0.7777777777777778, \"#fb9f3a\"], [0.8888888888888888, \"#fdca26\"], [1.0, \"#f0f921\"]], \"sequentialminus\": [[0.0, \"#0d0887\"], [0.1111111111111111, \"#46039f\"], [0.2222222222222222, \"#7201a8\"], [0.3333333333333333, \"#9c179e\"], [0.4444444444444444, \"#bd3786\"], [0.5555555555555556, \"#d8576b\"], [0.6666666666666666, \"#ed7953\"], [0.7777777777777778, \"#fb9f3a\"], [0.8888888888888888, \"#fdca26\"], [1.0, \"#f0f921\"]]}, \"colorway\": [\"#636efa\", \"#EF553B\", \"#00cc96\", \"#ab63fa\", \"#FFA15A\", \"#19d3f3\", \"#FF6692\", \"#B6E880\", \"#FF97FF\", \"#FECB52\"], \"font\": {\"color\": \"#2a3f5f\"}, \"geo\": {\"bgcolor\": \"white\", \"lakecolor\": \"white\", \"landcolor\": \"#E5ECF6\", \"showlakes\": true, \"showland\": true, \"subunitcolor\": \"white\"}, \"hoverlabel\": {\"align\": \"left\"}, \"hovermode\": \"closest\", \"mapbox\": {\"style\": \"light\"}, \"paper_bgcolor\": \"white\", \"plot_bgcolor\": \"#E5ECF6\", \"polar\": {\"angularaxis\": {\"gridcolor\": \"white\", \"linecolor\": \"white\", \"ticks\": \"\"}, \"bgcolor\": \"#E5ECF6\", \"radialaxis\": {\"gridcolor\": \"white\", \"linecolor\": \"white\", \"ticks\": \"\"}}, \"scene\": {\"xaxis\": {\"backgroundcolor\": \"#E5ECF6\", \"gridcolor\": \"white\", \"gridwidth\": 2, \"linecolor\": \"white\", \"showbackground\": true, \"ticks\": \"\", \"zerolinecolor\": \"white\"}, \"yaxis\": {\"backgroundcolor\": \"#E5ECF6\", \"gridcolor\": \"white\", \"gridwidth\": 2, \"linecolor\": \"white\", \"showbackground\": true, \"ticks\": \"\", \"zerolinecolor\": \"white\"}, \"zaxis\": {\"backgroundcolor\": \"#E5ECF6\", \"gridcolor\": \"white\", \"gridwidth\": 2, \"linecolor\": \"white\", \"showbackground\": true, \"ticks\": \"\", \"zerolinecolor\": \"white\"}}, \"shapedefaults\": {\"line\": {\"color\": \"#2a3f5f\"}}, \"ternary\": {\"aaxis\": {\"gridcolor\": \"white\", \"linecolor\": \"white\", \"ticks\": \"\"}, \"baxis\": {\"gridcolor\": \"white\", \"linecolor\": \"white\", \"ticks\": \"\"}, \"bgcolor\": \"#E5ECF6\", \"caxis\": {\"gridcolor\": \"white\", \"linecolor\": \"white\", \"ticks\": \"\"}}, \"title\": {\"x\": 0.05}, \"xaxis\": {\"automargin\": true, \"gridcolor\": \"white\", \"linecolor\": \"white\", \"ticks\": \"\", \"title\": {\"standoff\": 15}, \"zerolinecolor\": \"white\", \"zerolinewidth\": 2}, \"yaxis\": {\"automargin\": true, \"gridcolor\": \"white\", \"linecolor\": \"white\", \"ticks\": \"\", \"title\": {\"standoff\": 15}, \"zerolinecolor\": \"white\", \"zerolinewidth\": 2}}}, \"xaxis\": {\"anchor\": \"y\", \"domain\": [0.0, 1.0], \"title\": {\"text\": \"anomaly_score\"}}, \"yaxis\": {\"anchor\": \"x\", \"domain\": [0.0, 1.0], \"title\": {\"text\": \"count\"}}},\n",
       "                        {\"responsive\": true}\n",
       "                    ).then(function(){\n",
       "                            \n",
       "var gd = document.getElementById('571b690f-f409-4a4c-b83b-6dbe139f3ded');\n",
       "var x = new MutationObserver(function (mutations, observer) {{\n",
       "        var display = window.getComputedStyle(gd).display;\n",
       "        if (!display || display === 'none') {{\n",
       "            console.log([gd, 'removed!']);\n",
       "            Plotly.purge(gd);\n",
       "            observer.disconnect();\n",
       "        }}\n",
       "}});\n",
       "\n",
       "// Listen for the removal of the full notebook cells\n",
       "var notebookContainer = gd.closest('#notebook-container');\n",
       "if (notebookContainer) {{\n",
       "    x.observe(notebookContainer, {childList: true});\n",
       "}}\n",
       "\n",
       "// Listen for the clearing of the current output cell\n",
       "var outputEl = gd.closest('.output');\n",
       "if (outputEl) {{\n",
       "    x.observe(outputEl, {childList: true});\n",
       "}}\n",
       "\n",
       "                        })\n",
       "                };\n",
       "                });\n",
       "            </script>\n",
       "        </div>"
      ]
     },
     "metadata": {},
     "output_type": "display_data"
    }
   ],
   "source": [
    "import plotly.express as px\n",
    "fig = px.histogram(results.query(\"ad_label == 1 and KisiSayimi < 2000 and KisiSayimi > 50\"), \n",
    "                   x=\"anomaly_score\", nbins=500)\n",
    "fig.show()"
   ]
  },
  {
   "cell_type": "code",
   "execution_count": 246,
   "metadata": {},
   "outputs": [],
   "source": [
    "results.query(\"actual == actual\").to_csv(\"results\" + \"\".join(str(datetime.datetime.now())[0:10].split(\"-\")) + \".csv\", index=False)"
   ]
  },
  {
   "cell_type": "code",
   "execution_count": 27,
   "metadata": {},
   "outputs": [
    {
     "data": {
      "text/plain": [
       "'models/'"
      ]
     },
     "execution_count": 27,
     "metadata": {},
     "output_type": "execute_result"
    }
   ],
   "source": [
    "f.split(\".\")[0] + '_lstm.json'"
   ]
  },
  {
   "cell_type": "code",
   "execution_count": 31,
   "metadata": {},
   "outputs": [],
   "source": [
    "for f in listdir(dirname(model_main_path)):\n",
    "    os.rename(model_main_path + f, f.split(\".\")[0] + '_lstm.json')"
   ]
  },
  {
   "cell_type": "code",
   "execution_count": 30,
   "metadata": {},
   "outputs": [],
   "source": [
    "import os\n",
    "os.rename(model_main_path + '4040499_1.json', model_main_path + '4040499_1_lstm.json')"
   ]
  },
  {
   "cell_type": "code",
   "execution_count": 294,
   "metadata": {},
   "outputs": [
    {
     "name": "stdout",
     "output_type": "stream",
     "text": [
      "25\n"
     ]
    }
   ],
   "source": [
    "batches = 25\n",
    "if 20 < batches <= 30:\n",
    "    print(batches)"
   ]
  },
  {
   "cell_type": "code",
   "execution_count": 297,
   "metadata": {},
   "outputs": [
    {
     "data": {
      "text/plain": [
       "Timestamp('2016-06-01 00:00:00')"
      ]
     },
     "execution_count": 297,
     "metadata": {},
     "output_type": "execute_result"
    }
   ],
   "source": [
    "min(raw_data['Tarih'])"
   ]
  },
  {
   "cell_type": "code",
   "execution_count": 306,
   "metadata": {
    "scrolled": true
   },
   "outputs": [],
   "source": [
    "import yaml\n",
    "with open(\"configs.yaml\") as file:\n",
    "    config = yaml.full_load(file)"
   ]
  },
  {
   "cell_type": "code",
   "execution_count": 316,
   "metadata": {},
   "outputs": [
    {
     "ename": "KeyError",
     "evalue": "'data_read_paths'",
     "output_type": "error",
     "traceback": [
      "\u001b[0;31m---------------------------------------------------------------------------\u001b[0m",
      "\u001b[0;31mKeyError\u001b[0m                                  Traceback (most recent call last)",
      "\u001b[0;32m<ipython-input-316-3308efb08b58>\u001b[0m in \u001b[0;36m<module>\u001b[0;34m\u001b[0m\n\u001b[0;32m----> 1\u001b[0;31m \u001b[0mconfig\u001b[0m\u001b[0;34m[\u001b[0m\u001b[0;34m'data_read_paths'\u001b[0m\u001b[0;34m]\u001b[0m\u001b[0;34m\u001b[0m\u001b[0;34m\u001b[0m\u001b[0m\n\u001b[0m",
      "\u001b[0;31mKeyError\u001b[0m: 'data_read_paths'"
     ]
    }
   ],
   "source": [
    "config['data_read_paths']"
   ]
  },
  {
   "cell_type": "code",
   "execution_count": 317,
   "metadata": {},
   "outputs": [
    {
     "data": {
      "text/plain": [
       "{'db_connection': {'host': None,\n",
       "  'port': None,\n",
       "  'db': None,\n",
       "  'user': None,\n",
       "  'password': None},\n",
       " 'csv_paths': {'data_read_paths': {'raw': 'ml3yil.csv',\n",
       "   'franchise_info': 'BayiIlkVeriGoderimTarihi.csv',\n",
       "   'model_data': 'data_for_lstm.csv',\n",
       "   'results': 'results.csv',\n",
       "   'external': 'result_selim.csv',\n",
       "   'external_2': 'result_volkan.csv',\n",
       "   'actual_values': 'actual_results.csv'},\n",
       "  'data_main_path': {'local': 'data/', 'server': '/tmp/mnt/data/'},\n",
       "  'model_main_path': {'local': 'data/', 'server': '/tmp/mnt/data/'}},\n",
       " 'min_weeks': 4,\n",
       " 'accepted_weeks_after_store_open': 5,\n",
       " 'accepted_null_ratio': 0.4,\n",
       " 'is_from_db': True,\n",
       " 'hyper_parameters': {'lstm': {0: {'tsteps': 2,\n",
       "    'lahead': 4,\n",
       "    'lag': 2,\n",
       "    'batch_size': 16,\n",
       "    'batch_count': 16,\n",
       "    'units': 4,\n",
       "    'l1': 0.01,\n",
       "    'l2': 0.01,\n",
       "    'epochs': 5,\n",
       "    'lr': 0.05,\n",
       "    'activation': 'relu',\n",
       "    'split_ratio': 0.8},\n",
       "   1: {'tsteps': 3,\n",
       "    'lahead': 10,\n",
       "    'lag': 2,\n",
       "    'batch_size': 32,\n",
       "    'batch_count': 32,\n",
       "    'units': 4,\n",
       "    'l1': 0.01,\n",
       "    'l2': 0.01,\n",
       "    'epochs': 10,\n",
       "    'lr': 0.05,\n",
       "    'activation': 'relu',\n",
       "    'split_ratio': 0.8}},\n",
       "  'prophet': {'interval_width': 0.99, 'changepoint_range': 0.8}},\n",
       " 'train_end_date': datetime.date(2020, 1, 1),\n",
       " 'prediction_date': datetime.date(2020, 3, 1)}"
      ]
     },
     "execution_count": 317,
     "metadata": {},
     "output_type": "execute_result"
    }
   ],
   "source": [
    "config"
   ]
  },
  {
   "cell_type": "code",
   "execution_count": 319,
   "metadata": {},
   "outputs": [
    {
     "name": "stdout",
     "output_type": "stream",
     "text": [
      "2019-10-31 00:00:00\n",
      "Type:  <class 'datetime.datetime'>\n"
     ]
    }
   ],
   "source": [
    "my_string = '2019-10-31'\n",
    "\n",
    "# Create date object in given time format yyyy-mm-dd\n",
    "my_date = datetime.strptime(my_string, \"%Y-%m-%d\")\n",
    "\n",
    "print(my_date)\n",
    "print('Type: ',type(my_date))"
   ]
  },
  {
   "cell_type": "code",
   "execution_count": 327,
   "metadata": {},
   "outputs": [
    {
     "data": {
      "text/plain": [
       "'2.0'"
      ]
     },
     "execution_count": 327,
     "metadata": {},
     "output_type": "execute_result"
    }
   ],
   "source": [
    "type(\"0.1\")(2.0)"
   ]
  },
  {
   "cell_type": "code",
   "execution_count": 322,
   "metadata": {},
   "outputs": [
    {
     "data": {
      "text/plain": [
       "'-'"
      ]
     },
     "execution_count": 322,
     "metadata": {},
     "output_type": "execute_result"
    }
   ],
   "source": [
    "a"
   ]
  },
  {
   "cell_type": "code",
   "execution_count": null,
   "metadata": {},
   "outputs": [],
   "source": []
  }
 ],
 "metadata": {
  "kernelspec": {
   "display_name": "Python 3",
   "language": "python",
   "name": "python3"
  },
  "language_info": {
   "codemirror_mode": {
    "name": "ipython",
    "version": 3
   },
   "file_extension": ".py",
   "mimetype": "text/x-python",
   "name": "python",
   "nbconvert_exporter": "python",
   "pygments_lexer": "ipython3",
   "version": "3.7.4"
  }
 },
 "nbformat": 4,
 "nbformat_minor": 2
}
