{
 "cells": [
  {
   "cell_type": "code",
   "execution_count": 1,
   "metadata": {},
   "outputs": [
    {
     "data": {
      "text/html": [
       "<style>.container { width:90% !important; }</style>"
      ],
      "text/plain": [
       "<IPython.core.display.HTML object>"
      ]
     },
     "metadata": {},
     "output_type": "display_data"
    }
   ],
   "source": [
    "from IPython.display import display, HTML\n",
    "display(HTML('<style>.container { width:90% !important; }</style>'))  # makes it wider"
   ]
  },
  {
   "cell_type": "code",
   "execution_count": 2,
   "metadata": {},
   "outputs": [],
   "source": [
    "import ad_execute"
   ]
  },
  {
   "cell_type": "code",
   "execution_count": 3,
   "metadata": {},
   "outputs": [],
   "source": [
    "ad = ad_execute.AnomalyDetection(path='/Users/mac/Desktop/test_ad/test_3', environment='local')"
   ]
  },
  {
   "cell_type": "code",
   "execution_count": 4,
   "metadata": {},
   "outputs": [
    {
     "name": "stdout",
     "output_type": "stream",
     "text": [
      "local\n",
      "available port for service : ml_execute  -  6007\n",
      "available port for service : model_iso_f  -  6008\n",
      "available port for service : model_lstm  -  6009\n",
      "available port for service : model_prophet  -  6010\n",
      "Configuration process is completed!!!\n",
      "platform is initialized!!!\n"
     ]
    }
   ],
   "source": [
    "ad.init()"
   ]
  },
  {
   "cell_type": "code",
   "execution_count": 5,
   "metadata": {},
   "outputs": [
    {
     "name": "stdout",
     "output_type": "stream",
     "text": [
      "port : 6007\n",
      "host : Mac-MacBook-Air.local\n",
      " * Serving Flask app \"create_api\" (lazy loading)\n",
      " * Environment: production\n",
      "   WARNING: This is a development server. Do not use it in a production deployment.\n",
      "   Use a production WSGI server instead.\n",
      " * Debug mode: off\n"
     ]
    },
    {
     "name": "stderr",
     "output_type": "stream",
     "text": [
      " * Running on http://Mac-MacBook-Air.local:6007/ (Press CTRL+C to quit)\n"
     ]
    },
    {
     "name": "stdout",
     "output_type": "stream",
     "text": [
      "platform is up!!!\n",
      "*****  WEB APPLICATION  *****\n",
      "Running on  http://0.0.0.0:7003/\n",
      "\n",
      "None\n",
      "'>=' not supported between instances of 'list' and 'int'\n",
      " * Serving Flask app \"web.main\" (lazy loading)\n",
      " * Environment: production\n",
      "   WARNING: This is a development server. Do not use it in a production deployment.\n",
      "   Use a production WSGI server instead.\n",
      " * Debug mode: off\n"
     ]
    },
    {
     "name": "stderr",
     "output_type": "stream",
     "text": [
      " * Running on http://127.0.0.1:7003/ (Press CTRL+C to quit)\n"
     ]
    },
    {
     "name": "stdout",
     "output_type": "stream",
     "text": [
      "port :port :port :  6008\n",
      "host : Mac-MacBook-Air.local\n",
      " 6010\n",
      "host : Mac-MacBook-Air.local\n",
      "6009\n",
      "host : Mac-MacBook-Air.local\n",
      " * Serving Flask app \"create_api\" (lazy loading)\n",
      " * Serving Flask app \"create_api\" (lazy loading)\n",
      " * Serving Flask app \"create_api\" (lazy loading)\n",
      " * Environment: production\n",
      " * Environment: production\n",
      " * Environment: production\n",
      "   WARNING: This is a development server. Do not use it in a production deployment.\n",
      "   WARNING: This is a development server. Do not use it in a production deployment.\n",
      "   WARNING: This is a development server. Do not use it in a production deployment.\n",
      "   Use a production WSGI server instead.\n",
      "   Use a production WSGI server instead.\n",
      "   Use a production WSGI server instead.\n",
      " * Debug mode: off\n",
      " * Debug mode: off\n",
      " * Debug mode: off\n"
     ]
    },
    {
     "name": "stderr",
     "output_type": "stream",
     "text": [
      " * Running on http://Mac-MacBook-Air.local:6009/ (Press CTRL+C to quit)\n",
      " * Running on http://Mac-MacBook-Air.local:6010/ (Press CTRL+C to quit)\n",
      " * Running on http://Mac-MacBook-Air.local:6008/ (Press CTRL+C to quit)\n"
     ]
    },
    {
     "name": "stdout",
     "output_type": "stream",
     "text": [
      "update :\n",
      "yessssssssss\n",
      "db connection is done!\n"
     ]
    },
    {
     "name": "stderr",
     "output_type": "stream",
     "text": [
      "127.0.0.1 - - [02/Jun/2020 23:38:03] \"\u001b[32mPOST /configs HTTP/1.1\u001b[0m\" 302 -\n"
     ]
    },
    {
     "name": "stdout",
     "output_type": "stream",
     "text": [
      "yessssssssss\n",
      "db connection is done!\n"
     ]
    },
    {
     "name": "stderr",
     "output_type": "stream",
     "text": [
      "127.0.0.1 - - [02/Jun/2020 23:38:16] \"\u001b[37mGET /query?messages=True HTTP/1.1\u001b[0m\" 200 -\n",
      "127.0.0.1 - - [02/Jun/2020 23:40:20] \"\u001b[37mGET /timer?messages=True&time=Tue%20Jun%2002%202020%2023:40:20%20GMT+0300%20(GMT+03:00) HTTP/1.1\u001b[0m\" 200 -\n"
     ]
    },
    {
     "name": "stdout",
     "output_type": "stream",
     "text": [
      "browser time:  Tue Jun 02 2020 23:40:20 GMT 0300 (GMT 03:00)\n",
      "server time :  Tuesday June, 02 2020 23:40:20\n",
      "Tue Jun 02 2020 23:40:20\n",
      "2020-06-02 23:40:20\n",
      "yessssssssss\n",
      "db connection is done!\n"
     ]
    },
    {
     "name": "stderr",
     "output_type": "stream",
     "text": [
      "127.0.0.1 - - [02/Jun/2020 23:40:33] \"\u001b[37mPOST /query?messages=True HTTP/1.1\u001b[0m\" 200 -\n"
     ]
    },
    {
     "name": "stdout",
     "output_type": "stream",
     "text": [
      "update :\n"
     ]
    },
    {
     "name": "stderr",
     "output_type": "stream",
     "text": [
      "127.0.0.1 - - [02/Jun/2020 23:40:35] \"\u001b[37mGET /ml_execute HTTP/1.1\u001b[0m\" 200 -\n"
     ]
    },
    {
     "name": "stdout",
     "output_type": "stream",
     "text": [
      "{'parameter_tuning': {'iso_f': 0, 'lstm': 0, 'prophet': 0}, 'prediction': {'iso_f': 0, 'lstm': 0, 'prophet': 0}, 'train': {'iso_f': 0, 'lstm': 0, 'prophet': 0}}\n",
      "*****\n",
      "[]\n",
      "[]\n",
      "[]\n",
      "{'parameter_tuning': {'status': 'init', 'process': 'stop', 'active': False, 'start_time': datetime.datetime(2020, 6, 5, 4, 0), 'percent': 0}, 'prediction': {'status': 'waiting', 'process': 'start', 'active': True, 'start_time': datetime.datetime(2020, 6, 4, 8, 0), 'percent': 0}, 'train': {'status': 'init', 'process': 'stop', 'active': False, 'start_time': datetime.datetime(2020, 6, 4, 4, 0), 'percent': 0}}\n"
     ]
    },
    {
     "name": "stderr",
     "output_type": "stream",
     "text": [
      "127.0.0.1 - - [02/Jun/2020 23:40:37] \"\u001b[37mGET /timer?time=Tue%20Jun%2002%202020%2023:40:37%20GMT+0300%20(GMT+03:00) HTTP/1.1\u001b[0m\" 200 -\n"
     ]
    },
    {
     "name": "stdout",
     "output_type": "stream",
     "text": [
      "browser time:  Tue Jun 02 2020 23:40:37 GMT 0300 (GMT 03:00)\n",
      "server time :  Tuesday June, 02 2020 23:40:37\n",
      "Tue Jun 02 2020 23:40:37\n",
      "2020-06-02 23:40:37\n",
      "{'parameter_tuning': {'iso_f': 0, 'lstm': 0, 'prophet': 0}, 'prediction': {'iso_f': 0, 'lstm': 0, 'prophet': 0}, 'train': {'iso_f': 0, 'lstm': 0, 'prophet': 0}}\n",
      "*****\n",
      "['prediction']\n",
      "['prediction']\n",
      "fact :\n",
      "Job was initialized before..\n",
      "request : stop\n",
      "None\n",
      "browser_time : 2020-06-02 23:00:00  || start_time : 2020-06-04 08:00:00  || diff : 0  ||  time : 08:00 current time : 2020-06-02 23:40:37.594494\n",
      "request for stop !!!\n"
     ]
    },
    {
     "name": "stderr",
     "output_type": "stream",
     "text": [
      "127.0.0.1 - - [02/Jun/2020 23:40:37] \"\u001b[37mGET /ml?job=stop&model=train& HTTP/1.1\u001b[0m\" 200 -\n"
     ]
    },
    {
     "name": "stdout",
     "output_type": "stream",
     "text": [
      "sent : {'job': 'stop', 'model': 'train', 'groups': None, 'date': None, 'time_indicator': None, 'feature': None, 'data_source': None, 'data_query_path': None, 'time_period': None}\n",
      "\n"
     ]
    },
    {
     "name": "stderr",
     "output_type": "stream",
     "text": [
      "127.0.0.1 - - [02/Jun/2020 23:40:39] \"\u001b[37mPOST /ml_execute HTTP/1.1\u001b[0m\" 200 -\n"
     ]
    },
    {
     "name": "stdout",
     "output_type": "stream",
     "text": [
      "['prediction']\n",
      "{'parameter_tuning': {'status': 'init', 'process': 'stop', 'active': False, 'start_time': datetime.datetime(2020, 6, 5, 4, 0), 'percent': 0}, 'prediction': {'status': 'init', 'process': 'stop', 'active': True, 'start_time': datetime.datetime(2020, 6, 4, 8, 0), 'percent': 0}, 'train': {'status': 'init', 'process': 'stop', 'active': False, 'start_time': datetime.datetime(2020, 6, 4, 4, 0), 'percent': 0}}\n"
     ]
    },
    {
     "name": "stderr",
     "output_type": "stream",
     "text": [
      "127.0.0.1 - - [02/Jun/2020 23:40:41] \"\u001b[37mGET /timer?time=Tue%20Jun%2002%202020%2023:40:40%20GMT+0300%20(GMT+03:00) HTTP/1.1\u001b[0m\" 200 -\n"
     ]
    },
    {
     "name": "stdout",
     "output_type": "stream",
     "text": [
      "browser time:  Tue Jun 02 2020 23:40:40 GMT 0300 (GMT 03:00)\n",
      "server time :  Tuesday June, 02 2020 23:40:40\n",
      "Tue Jun 02 2020 23:40:40\n",
      "2020-06-02 23:40:40\n",
      "{'parameter_tuning': {'iso_f': 0, 'lstm': 0, 'prophet': 0}, 'prediction': {'iso_f': 0, 'lstm': 0, 'prophet': 0}, 'train': {'iso_f': 0, 'lstm': 0, 'prophet': 0}}\n",
      "*****\n",
      "['prediction']\n",
      "['prediction']\n",
      "fact :\n",
      "job was stopped or even was not started before..\n",
      "request : start\n",
      "None\n",
      "browser_time : 2020-06-02 23:00:00  || start_time : 2020-06-04 08:00:00  || diff : 0  ||  time : 08:00 current time : 2020-06-02 23:40:41.179434\n",
      "stop if there is existed running task\n",
      "request for start !!!\n"
     ]
    },
    {
     "name": "stderr",
     "output_type": "stream",
     "text": [
      "127.0.0.1 - - [02/Jun/2020 23:40:41] \"\u001b[37mGET /ml_execute?job=prediction& HTTP/1.1\u001b[0m\" 200 -\n"
     ]
    },
    {
     "name": "stdout",
     "output_type": "stream",
     "text": [
      "sent : {'job': 'prediction'}\n",
      "received : {'job': 'prediction', 'process': 'start'}  time : 2020-06-02 23:40:41.316637\n",
      "None\n",
      "browser_time : 2020-06-02 23:00:00  || start_time : 2020-06-04 08:00:00  || diff : 0  ||  time : 08:00 current time : 2020-06-02 23:40:41.387942\n"
     ]
    },
    {
     "name": "stderr",
     "output_type": "stream",
     "text": [
      "127.0.0.1 - - [02/Jun/2020 23:40:43] \"\u001b[37mPOST /ml_execute HTTP/1.1\u001b[0m\" 200 -\n"
     ]
    },
    {
     "name": "stdout",
     "output_type": "stream",
     "text": [
      "['prediction']\n",
      "{'parameter_tuning': {'status': 'init', 'process': 'stop', 'active': False, 'start_time': datetime.datetime(2020, 6, 5, 4, 0), 'percent': 0}, 'prediction': {'status': 'waiting', 'process': 'start', 'active': False, 'start_time': datetime.datetime(2020, 6, 4, 8, 0), 'percent': 0}, 'train': {'status': 'init', 'process': 'stop', 'active': False, 'start_time': datetime.datetime(2020, 6, 4, 4, 0), 'percent': 0}}\n"
     ]
    },
    {
     "name": "stderr",
     "output_type": "stream",
     "text": [
      "127.0.0.1 - - [02/Jun/2020 23:40:44] \"\u001b[37mGET /timer?time=Tue%20Jun%2002%202020%2023:40:44%20GMT+0300%20(GMT+03:00) HTTP/1.1\u001b[0m\" 200 -\n"
     ]
    },
    {
     "name": "stdout",
     "output_type": "stream",
     "text": [
      "browser time:  Tue Jun 02 2020 23:40:44 GMT 0300 (GMT 03:00)\n",
      "server time :  Tuesday June, 02 2020 23:40:44\n",
      "Tue Jun 02 2020 23:40:44\n",
      "2020-06-02 23:40:44\n",
      "{'parameter_tuning': {'iso_f': 0, 'lstm': 0, 'prophet': 0}, 'prediction': {'iso_f': 0, 'lstm': 0, 'prophet': 0}, 'train': {'iso_f': 0, 'lstm': 0, 'prophet': 0}}\n",
      "*****\n",
      "['train']\n",
      "['train']\n",
      "['train']\n",
      "fact :\n",
      "job was stopped or even was not started before..\n",
      "request : start\n",
      "None\n",
      "browser_time : 2020-06-02 23:00:00  || start_time : 2020-06-04 04:00:00  || diff : 0  ||  time : 04:00 current time : 2020-06-02 23:40:44.953123\n",
      "stop if there is existed running task\n",
      "request for start !!!\n"
     ]
    },
    {
     "name": "stderr",
     "output_type": "stream",
     "text": [
      "127.0.0.1 - - [02/Jun/2020 23:40:45] \"\u001b[37mGET /ml_execute?job=train& HTTP/1.1\u001b[0m\" 200 -\n"
     ]
    },
    {
     "name": "stdout",
     "output_type": "stream",
     "text": [
      "sent : {'job': 'train'}\n",
      "received : {'job': 'train', 'process': 'start'}  time : 2020-06-02 23:40:45.055493\n",
      "None\n",
      "browser_time : 2020-06-02 23:00:00  || start_time : 2020-06-04 04:00:00  || diff : 0  ||  time : 04:00 current time : 2020-06-02 23:40:45.121786\n"
     ]
    },
    {
     "name": "stderr",
     "output_type": "stream",
     "text": [
      "127.0.0.1 - - [02/Jun/2020 23:40:47] \"\u001b[37mPOST /ml_execute HTTP/1.1\u001b[0m\" 200 -\n"
     ]
    },
    {
     "name": "stdout",
     "output_type": "stream",
     "text": [
      "{'parameter_tuning': {'status': 'init', 'process': 'stop', 'active': False, 'start_time': datetime.datetime(2020, 6, 5, 4, 0), 'percent': 0}, 'prediction': {'status': 'waiting', 'process': 'start', 'active': True, 'start_time': datetime.datetime(2020, 6, 4, 8, 0), 'percent': 0}, 'train': {'status': 'waiting', 'process': 'start', 'active': False, 'start_time': datetime.datetime(2020, 6, 4, 4, 0), 'percent': 0}}\n"
     ]
    },
    {
     "name": "stderr",
     "output_type": "stream",
     "text": [
      "127.0.0.1 - - [02/Jun/2020 23:56:28] \"\u001b[37mGET /configs HTTP/1.1\u001b[0m\" 200 -\n",
      "127.0.0.1 - - [02/Jun/2020 23:56:35] \"\u001b[37mGET /home HTTP/1.1\u001b[0m\" 200 -\n"
     ]
    }
   ],
   "source": [
    "ad.run_platform()"
   ]
  },
  {
   "cell_type": "code",
   "execution_count": null,
   "metadata": {},
   "outputs": [],
   "source": []
  },
  {
   "cell_type": "code",
   "execution_count": null,
   "metadata": {},
   "outputs": [],
   "source": []
  },
  {
   "cell_type": "code",
   "execution_count": null,
   "metadata": {},
   "outputs": [],
   "source": [
    "ad.stop_platform(reset_docs=False)"
   ]
  },
  {
   "cell_type": "code",
   "execution_count": null,
   "metadata": {},
   "outputs": [],
   "source": []
  }
 ],
 "metadata": {
  "kernelspec": {
   "display_name": "Python 3",
   "language": "python",
   "name": "python3"
  },
  "language_info": {
   "codemirror_mode": {
    "name": "ipython",
    "version": 3
   },
   "file_extension": ".py",
   "mimetype": "text/x-python",
   "name": "python",
   "nbconvert_exporter": "python",
   "pygments_lexer": "ipython3",
   "version": "3.7.4"
  }
 },
 "nbformat": 4,
 "nbformat_minor": 2
}
