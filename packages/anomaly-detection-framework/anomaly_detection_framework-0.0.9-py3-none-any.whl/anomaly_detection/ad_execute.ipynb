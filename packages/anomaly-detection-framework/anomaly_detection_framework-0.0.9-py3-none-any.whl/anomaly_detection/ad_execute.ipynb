{
 "cells": [
  {
   "cell_type": "code",
   "execution_count": 1,
   "metadata": {},
   "outputs": [
    {
     "data": {
      "text/html": [
       "<style>.container { width:90% !important; }</style>"
      ],
      "text/plain": [
       "<IPython.core.display.HTML object>"
      ]
     },
     "metadata": {},
     "output_type": "display_data"
    }
   ],
   "source": [
    "from IPython.display import display, HTML\n",
    "display(HTML('<style>.container { width:90% !important; }</style>'))  # makes it wider"
   ]
  },
  {
   "cell_type": "code",
   "execution_count": 2,
   "metadata": {},
   "outputs": [],
   "source": [
    "import ad_execute"
   ]
  },
  {
   "cell_type": "code",
   "execution_count": 3,
   "metadata": {},
   "outputs": [],
   "source": [
    "ad = ad_execute.AnomalyDetection(path='/Users/mac/Desktop/tsad_test', environment='local')"
   ]
  },
  {
   "cell_type": "code",
   "execution_count": 4,
   "metadata": {},
   "outputs": [
    {
     "name": "stdout",
     "output_type": "stream",
     "text": [
      "local\n",
      "available port for service : ml_execute  -  6001\n",
      "available port for service : model_iso_f  -  6002\n",
      "available port for service : model_lstm  -  6003\n",
      "available port for service : model_prophet  -  6004\n",
      "Configuration process is completed!!!\n",
      "platform is initialized!!!\n"
     ]
    }
   ],
   "source": [
    "ad.init()"
   ]
  },
  {
   "cell_type": "code",
   "execution_count": 5,
   "metadata": {
    "scrolled": true
   },
   "outputs": [
    {
     "name": "stdout",
     "output_type": "stream",
     "text": [
      "port : 6001\n",
      "host : Mac-MacBook-Air.local\n",
      " * Serving Flask app \"create_api\" (lazy loading)\n",
      " * Environment: production\n",
      "   WARNING: This is a development server. Do not use it in a production deployment.\n",
      "   Use a production WSGI server instead.\n",
      " * Debug mode: off\n"
     ]
    },
    {
     "name": "stderr",
     "output_type": "stream",
     "text": [
      " * Running on http://Mac-MacBook-Air.local:6001/ (Press CTRL+C to quit)\n"
     ]
    },
    {
     "name": "stdout",
     "output_type": "stream",
     "text": [
      "platform is up!!!\n",
      "*****  WEB APPLICATION  *****\n",
      "Running on  http://0.0.0.0:7002/\n",
      "\n",
      "filters : ['transactions_type']\n",
      "\n",
      "filters : ['transactions_type']\n",
      "\n",
      "filters : ['transactions_type']\n",
      "\n",
      "filters : ['transactions_type']\n",
      " * Serving Flask app \"web.main\" (lazy loading)\n",
      " * Environment: production\n",
      "   WARNING: This is a development server. Do not use it in a production deployment.\n",
      "   Use a production WSGI server instead.\n",
      " * Debug mode: off\n"
     ]
    },
    {
     "name": "stderr",
     "output_type": "stream",
     "text": [
      " * Running on http://127.0.0.1:7002/ (Press CTRL+C to quit)\n"
     ]
    },
    {
     "name": "stdout",
     "output_type": "stream",
     "text": [
      "port : 6002\n",
      "host : Mac-MacBook-Air.local\n",
      "port :port : 6003\n",
      "host : Mac-MacBook-Air.local\n",
      " * Serving Flask app \"create_api\" (lazy loading)\n",
      " 6004\n",
      "host : Mac-MacBook-Air.local\n",
      " * Serving Flask app \"create_api\" (lazy loading)\n",
      " * Serving Flask app \"create_api\" (lazy loading)\n",
      " * Environment: production\n",
      " * Environment: production\n",
      " * Environment: production\n",
      "   WARNING: This is a development server. Do not use it in a production deployment.\n",
      "   WARNING: This is a development server. Do not use it in a production deployment.\n",
      "   WARNING: This is a development server. Do not use it in a production deployment.\n",
      "   Use a production WSGI server instead.\n",
      "   Use a production WSGI server instead.\n",
      "   Use a production WSGI server instead.\n",
      " * Debug mode: off\n",
      " * Debug mode: off\n",
      " * Debug mode: off\n"
     ]
    },
    {
     "name": "stderr",
     "output_type": "stream",
     "text": [
      " * Running on http://Mac-MacBook-Air.local:6002/ (Press CTRL+C to quit)\n",
      " * Running on http://Mac-MacBook-Air.local:6003/ (Press CTRL+C to quit)\n",
      " * Running on http://Mac-MacBook-Air.local:6004/ (Press CTRL+C to quit)\n",
      "127.0.0.1 - - [02/Jun/2020 22:53:15] \"\u001b[37mGET /configs HTTP/1.1\u001b[0m\" 200 -\n",
      "127.0.0.1 - - [02/Jun/2020 22:53:20] \"\u001b[37mGET /ml_execute HTTP/1.1\u001b[0m\" 200 -\n"
     ]
    },
    {
     "name": "stdout",
     "output_type": "stream",
     "text": [
      "{'parameter_tuning': {'iso_f': 0, 'lstm': 0, 'prophet': 0}, 'prediction': {'iso_f': 0, 'lstm': 0, 'prophet': 0}, 'train': {'iso_f': 0, 'lstm': 0, 'prophet': 0}}\n",
      "*****\n",
      "[]\n",
      "[]\n",
      "[]\n",
      "{'parameter_tuning': {'status': 'init', 'process': 'stop', 'active': False, 'start_time': datetime.datetime(2020, 6, 3, 4, 0), 'percent': 0}, 'prediction': {'status': 'waiting', 'process': 'start', 'active': True, 'start_time': datetime.datetime(2020, 6, 2, 8, 0), 'percent': 0}, 'train': {'status': 'init', 'process': 'stop', 'active': False, 'start_time': datetime.datetime(2020, 6, 2, 4, 0), 'percent': 0}}\n"
     ]
    },
    {
     "name": "stderr",
     "output_type": "stream",
     "text": [
      "127.0.0.1 - - [02/Jun/2020 22:53:28] \"\u001b[37mGET /timer?time=Tue%20Jun%2002%202020%2022:53:28%20GMT+0300%20(GMT+03:00) HTTP/1.1\u001b[0m\" 200 -\n"
     ]
    },
    {
     "name": "stdout",
     "output_type": "stream",
     "text": [
      "browser time:  Tue Jun 02 2020 22:53:28 GMT 0300 (GMT 03:00)\n",
      "server time :  Tuesday June, 02 2020 22:53:28\n",
      "Tue Jun 02 2020 22:53:28\n",
      "2020-06-02 22:53:28\n",
      "{'parameter_tuning': {'iso_f': 0, 'lstm': 0, 'prophet': 0}, 'prediction': {'iso_f': 0, 'lstm': 0, 'prophet': 0}, 'train': {'iso_f': 0, 'lstm': 0, 'prophet': 0}}\n",
      "*****\n",
      "['prediction']\n",
      "['prediction']\n",
      "fact :\n",
      "Job was initialized before..\n",
      "request : stop\n",
      "None\n",
      "browser_time : 2020-06-02 22:00:00  || start_time : 2020-06-02 08:00:00  || diff : 0  ||  time : 08:00 current time : 2020-06-02 22:53:29.080656\n",
      "request for stop !!!\n"
     ]
    },
    {
     "name": "stderr",
     "output_type": "stream",
     "text": [
      "127.0.0.1 - - [02/Jun/2020 22:53:29] \"\u001b[37mGET /ml?job=stop&model=train& HTTP/1.1\u001b[0m\" 200 -\n"
     ]
    },
    {
     "name": "stdout",
     "output_type": "stream",
     "text": [
      "sent : {'job': 'stop', 'model': 'train', 'groups': None, 'date': None, 'time_indicator': None, 'feature': None, 'data_source': None, 'data_query_path': None, 'time_period': None}\n",
      "\n"
     ]
    },
    {
     "name": "stderr",
     "output_type": "stream",
     "text": [
      "127.0.0.1 - - [02/Jun/2020 22:53:31] \"\u001b[37mPOST /ml_execute HTTP/1.1\u001b[0m\" 200 -\n"
     ]
    },
    {
     "name": "stdout",
     "output_type": "stream",
     "text": [
      "['prediction']\n",
      "{'parameter_tuning': {'status': 'init', 'process': 'stop', 'active': False, 'start_time': datetime.datetime(2020, 6, 3, 4, 0), 'percent': 0}, 'prediction': {'status': 'init', 'process': 'stop', 'active': True, 'start_time': datetime.datetime(2020, 6, 2, 8, 0), 'percent': 0}, 'train': {'status': 'init', 'process': 'stop', 'active': False, 'start_time': datetime.datetime(2020, 6, 2, 4, 0), 'percent': 0}}\n"
     ]
    },
    {
     "name": "stderr",
     "output_type": "stream",
     "text": [
      "127.0.0.1 - - [02/Jun/2020 22:53:32] \"\u001b[37mGET /timer?time=Tue%20Jun%2002%202020%2022:53:32%20GMT+0300%20(GMT+03:00) HTTP/1.1\u001b[0m\" 200 -\n"
     ]
    },
    {
     "name": "stdout",
     "output_type": "stream",
     "text": [
      "browser time:  Tue Jun 02 2020 22:53:32 GMT 0300 (GMT 03:00)\n",
      "server time :  Tuesday June, 02 2020 22:53:32\n",
      "Tue Jun 02 2020 22:53:32\n",
      "2020-06-02 22:53:32\n",
      "{'parameter_tuning': {'iso_f': 0, 'lstm': 0, 'prophet': 0}, 'prediction': {'iso_f': 0, 'lstm': 0, 'prophet': 0}, 'train': {'iso_f': 0, 'lstm': 0, 'prophet': 0}}\n",
      "*****\n",
      "['train']\n",
      "['train']\n",
      "['train']\n",
      "fact :\n",
      "job was stopped or even was not started before..\n",
      "request : start\n",
      "None\n",
      "browser_time : 2020-06-02 22:00:00  || start_time : 2020-06-02 04:00:00  || diff : 0  ||  time : 04:00 current time : 2020-06-02 22:53:32.573177\n",
      "stop if there is existed running task\n",
      "request for start !!!\n"
     ]
    },
    {
     "name": "stderr",
     "output_type": "stream",
     "text": [
      "127.0.0.1 - - [02/Jun/2020 22:53:32] \"\u001b[37mGET /ml_execute?job=train& HTTP/1.1\u001b[0m\" 200 -\n"
     ]
    },
    {
     "name": "stdout",
     "output_type": "stream",
     "text": [
      "sent : {'job': 'train'}\n",
      "received : {'job': 'train', 'process': 'start'}  time : 2020-06-02 22:53:32.661566\n",
      "None\n",
      "browser_time : 2020-06-02 22:00:00  || start_time : 2020-06-02 04:00:00  || diff : 0  ||  time : 04:00 current time : 2020-06-02 22:53:32.718810\n"
     ]
    },
    {
     "name": "stderr",
     "output_type": "stream",
     "text": [
      "127.0.0.1 - - [02/Jun/2020 22:53:34] \"\u001b[37mPOST /ml_execute HTTP/1.1\u001b[0m\" 200 -\n"
     ]
    },
    {
     "name": "stdout",
     "output_type": "stream",
     "text": [
      "{'parameter_tuning': {'status': 'init', 'process': 'stop', 'active': False, 'start_time': datetime.datetime(2020, 6, 3, 4, 0), 'percent': 0}, 'prediction': {'status': 'init', 'process': 'stop', 'active': False, 'start_time': datetime.datetime(2020, 6, 2, 8, 0), 'percent': 0}, 'train': {'status': 'waiting', 'process': 'start', 'active': False, 'start_time': datetime.datetime(2020, 6, 2, 4, 0), 'percent': 0}}\n"
     ]
    },
    {
     "name": "stderr",
     "output_type": "stream",
     "text": [
      "127.0.0.1 - - [02/Jun/2020 22:53:36] \"\u001b[37mGET /timer?time=Tue%20Jun%2002%202020%2022:53:36%20GMT+0300%20(GMT+03:00) HTTP/1.1\u001b[0m\" 200 -\n"
     ]
    },
    {
     "name": "stdout",
     "output_type": "stream",
     "text": [
      "browser time:  Tue Jun 02 2020 22:53:36 GMT 0300 (GMT 03:00)\n",
      "server time :  Tuesday June, 02 2020 22:53:36\n",
      "Tue Jun 02 2020 22:53:36\n",
      "2020-06-02 22:53:36\n",
      "{'parameter_tuning': {'iso_f': 0, 'lstm': 0, 'prophet': 0}, 'prediction': {'iso_f': 0, 'lstm': 0, 'prophet': 0}, 'train': {'iso_f': 0, 'lstm': 0, 'prophet': 0}}\n",
      "*****\n",
      "['prediction']\n",
      "['prediction']\n",
      "fact :\n",
      "job was stopped or even was not started before..\n",
      "request : start\n",
      "None\n",
      "browser_time : 2020-06-02 22:00:00  || start_time : 2020-06-02 08:00:00  || diff : 0  ||  time : 08:00 current time : 2020-06-02 22:53:36.755994\n",
      "stop if there is existed running task\n",
      "request for start !!!\n"
     ]
    },
    {
     "name": "stderr",
     "output_type": "stream",
     "text": [
      "127.0.0.1 - - [02/Jun/2020 22:53:36] \"\u001b[37mGET /ml_execute?job=prediction& HTTP/1.1\u001b[0m\" 200 -\n"
     ]
    },
    {
     "name": "stdout",
     "output_type": "stream",
     "text": [
      "sent : {'job': 'prediction'}\n",
      "received : {'job': 'prediction', 'process': 'start'}  time : 2020-06-02 22:53:36.841118\n",
      "None\n",
      "browser_time : 2020-06-02 22:00:00  || start_time : 2020-06-02 08:00:00  || diff : 0  ||  time : 08:00 current time : 2020-06-02 22:53:36.901740\n"
     ]
    },
    {
     "name": "stderr",
     "output_type": "stream",
     "text": [
      "127.0.0.1 - - [02/Jun/2020 22:53:38] \"\u001b[37mPOST /ml_execute HTTP/1.1\u001b[0m\" 200 -\n"
     ]
    },
    {
     "name": "stdout",
     "output_type": "stream",
     "text": [
      "['prediction']\n",
      "{'parameter_tuning': {'status': 'init', 'process': 'stop', 'active': False, 'start_time': datetime.datetime(2020, 6, 3, 4, 0), 'percent': 0}, 'prediction': {'status': 'waiting', 'process': 'start', 'active': False, 'start_time': datetime.datetime(2020, 6, 2, 8, 0), 'percent': 0}, 'train': {'status': 'waiting', 'process': 'start', 'active': True, 'start_time': datetime.datetime(2020, 6, 2, 4, 0), 'percent': 0}}\n"
     ]
    }
   ],
   "source": [
    "ad.run_platform()"
   ]
  },
  {
   "cell_type": "code",
   "execution_count": null,
   "metadata": {},
   "outputs": [],
   "source": []
  },
  {
   "cell_type": "code",
   "execution_count": null,
   "metadata": {},
   "outputs": [],
   "source": [
    "ad.stop_platform(reset_docs=False)"
   ]
  },
  {
   "cell_type": "code",
   "execution_count": null,
   "metadata": {},
   "outputs": [],
   "source": [
    "ad.platform.down_web()"
   ]
  },
  {
   "cell_type": "code",
   "execution_count": null,
   "metadata": {},
   "outputs": [],
   "source": []
  },
  {
   "cell_type": "code",
   "execution_count": null,
   "metadata": {},
   "outputs": [],
   "source": [
    "import subprocess\n",
    "result = subprocess.run(['docker', 'images'], stdout=subprocess.PIPE)"
   ]
  },
  {
   "cell_type": "code",
   "execution_count": null,
   "metadata": {},
   "outputs": [],
   "source": [
    "result.stdout"
   ]
  },
  {
   "cell_type": "code",
   "execution_count": null,
   "metadata": {},
   "outputs": [],
   "source": [
    "stream = popen(\"docker images\")\n",
    "stream."
   ]
  },
  {
   "cell_type": "code",
   "execution_count": null,
   "metadata": {},
   "outputs": [],
   "source": [
    "import socket\n",
    "def is_port_in_use(port):\n",
    "    s = socket.socket(socket.AF_INET, socket.SOCK_STREAM)\n",
    "    use = False\n",
    "    try:\n",
    "        s.bind((\"0.0.0.0\", port))\n",
    "    except socket.error as e:\n",
    "        if e.errno == errno.EADDRINUSE:\n",
    "            use = True\n",
    "    return use"
   ]
  },
  {
   "cell_type": "code",
   "execution_count": null,
   "metadata": {},
   "outputs": [],
   "source": [
    "is_port_in_use(6003)"
   ]
  },
  {
   "cell_type": "code",
   "execution_count": null,
   "metadata": {},
   "outputs": [],
   "source": []
  }
 ],
 "metadata": {
  "kernelspec": {
   "display_name": "Python 3",
   "language": "python",
   "name": "python3"
  },
  "language_info": {
   "codemirror_mode": {
    "name": "ipython",
    "version": 3
   },
   "file_extension": ".py",
   "mimetype": "text/x-python",
   "name": "python",
   "nbconvert_exporter": "python",
   "pygments_lexer": "ipython3",
   "version": "3.7.4"
  }
 },
 "nbformat": 4,
 "nbformat_minor": 2
}
