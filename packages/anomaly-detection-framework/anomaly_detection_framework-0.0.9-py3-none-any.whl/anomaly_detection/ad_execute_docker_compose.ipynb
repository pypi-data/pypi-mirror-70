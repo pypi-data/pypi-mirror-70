{
 "cells": [
  {
   "cell_type": "code",
   "execution_count": 1,
   "metadata": {},
   "outputs": [
    {
     "data": {
      "text/html": [
       "<style>.container { width:90% !important; }</style>"
      ],
      "text/plain": [
       "<IPython.core.display.HTML object>"
      ]
     },
     "metadata": {},
     "output_type": "display_data"
    }
   ],
   "source": [
    "from IPython.display import display, HTML\n",
    "display(HTML('<style>.container { width:90% !important; }</style>'))  # makes it wider"
   ]
  },
  {
   "cell_type": "code",
   "execution_count": 2,
   "metadata": {},
   "outputs": [],
   "source": [
    "import ad_execute"
   ]
  },
  {
   "cell_type": "code",
   "execution_count": 3,
   "metadata": {},
   "outputs": [],
   "source": [
    "ad = ad_execute.AnomalyDetection(path='/Users/mac/Desktop/test_ad/test_2', host='local')"
   ]
  },
  {
   "cell_type": "code",
   "execution_count": 4,
   "metadata": {},
   "outputs": [
    {
     "name": "stdout",
     "output_type": "stream",
     "text": [
      "local\n",
      "available port for service : model_iso_f  -  6000\n",
      "available port for service : model_lstm  -  6005\n",
      "available port for service : model_prophet  -  6006\n",
      "available port for service : ml_execute  -  6007\n",
      "Configuration process is completed!!!\n",
      "platform is initialized!!!\n"
     ]
    }
   ],
   "source": [
    "ad.init()"
   ]
  },
  {
   "cell_type": "code",
   "execution_count": 5,
   "metadata": {
    "scrolled": true
   },
   "outputs": [
    {
     "name": "stdout",
     "output_type": "stream",
     "text": [
      "platform is up!!!\n",
      "*****  WEB APPLICATION  *****\n",
      "Running on  http://0.0.0.0:7003/\n"
     ]
    }
   ],
   "source": [
    "ad.run_platform()"
   ]
  },
  {
   "cell_type": "code",
   "execution_count": null,
   "metadata": {},
   "outputs": [],
   "source": []
  },
  {
   "cell_type": "code",
   "execution_count": null,
   "metadata": {},
   "outputs": [],
   "source": [
    "global asd"
   ]
  },
  {
   "cell_type": "code",
   "execution_count": null,
   "metadata": {},
   "outputs": [],
   "source": [
    "print(asd)"
   ]
  },
  {
   "cell_type": "code",
   "execution_count": null,
   "metadata": {},
   "outputs": [],
   "source": []
  },
  {
   "cell_type": "code",
   "execution_count": null,
   "metadata": {
    "scrolled": true
   },
   "outputs": [],
   "source": [
    "ad.stop_platform(reset_docs=True)"
   ]
  },
  {
   "cell_type": "code",
   "execution_count": null,
   "metadata": {},
   "outputs": [],
   "source": []
  },
  {
   "cell_type": "code",
   "execution_count": null,
   "metadata": {},
   "outputs": [],
   "source": [
    "import subprocess\n",
    "result = subprocess.run(['docker', 'images'], stdout=subprocess.PIPE)"
   ]
  },
  {
   "cell_type": "code",
   "execution_count": null,
   "metadata": {},
   "outputs": [],
   "source": [
    "result.stdout"
   ]
  },
  {
   "cell_type": "code",
   "execution_count": null,
   "metadata": {},
   "outputs": [],
   "source": []
  },
  {
   "cell_type": "code",
   "execution_count": null,
   "metadata": {},
   "outputs": [],
   "source": [
    "def url_string(value, res=False):\n",
    "    if value is not None:\n",
    "        if res:\n",
    "            return value.replace(\"\\r\", \" \").replace(\"\\n\", \" \").replace(\" \", \"+\")\n",
    "        else:\n",
    "            return value.replace(\"+\", \" \")\n",
    "    else:\n",
    "        return None"
   ]
  },
  {
   "cell_type": "code",
   "execution_count": null,
   "metadata": {},
   "outputs": [],
   "source": [
    "params = ad_execute.read_yaml(ad_execute.conf(\"docs_main_path\"), \"ml_execute.yaml\")['train']['execute'][2]['params']\n",
    "params['data_query_path'] = url_string(params['data_query_path'], res=True)\n",
    "params"
   ]
  },
  {
   "cell_type": "code",
   "execution_count": null,
   "metadata": {},
   "outputs": [],
   "source": [
    "ad.reset_web_app()"
   ]
  },
  {
   "cell_type": "code",
   "execution_count": null,
   "metadata": {
    "scrolled": true
   },
   "outputs": [],
   "source": [
    "ad.platform.create_web()"
   ]
  },
  {
   "cell_type": "code",
   "execution_count": null,
   "metadata": {
    "scrolled": true
   },
   "outputs": [],
   "source": [
    "ad.show_lstm_prediction(filter=\"transactions_type == 'CARD_PAYMENT'\")"
   ]
  },
  {
   "cell_type": "code",
   "execution_count": null,
   "metadata": {},
   "outputs": [],
   "source": [
    "results = pd.read_csv(ad.conf.cd.folder + \"/data/\" + \"results_20200531.csv\")\n",
    "results.head()"
   ]
  },
  {
   "cell_type": "code",
   "execution_count": null,
   "metadata": {},
   "outputs": [],
   "source": [
    "results = results.rename(columns={'created_date': 'date', 'amount_usd': 'amount'})"
   ]
  },
  {
   "cell_type": "code",
   "execution_count": null,
   "metadata": {},
   "outputs": [],
   "source": [
    "results.to_csv(ad.conf.cd.folder + \"/data/\" + \"results_20200531.csv\")"
   ]
  },
  {
   "cell_type": "code",
   "execution_count": null,
   "metadata": {},
   "outputs": [],
   "source": [
    "print(len(results.query(\"predicted_label == 1\")) / len(results))\n",
    "print(len(results.query(\"ad_label_1 == 1\")) / len(results))\n",
    "print(len(results.query(\"ad_label_3 == 1\")) / len(results))"
   ]
  },
  {
   "cell_type": "code",
   "execution_count": null,
   "metadata": {},
   "outputs": [],
   "source": [
    "from dateutil.parser import parse\n",
    "results['created_date'] = results['created_date'].apply(lambda x: parse(x))\n",
    "results['year'] = results['created_date'].apply(lambda x: x.year)"
   ]
  },
  {
   "cell_type": "code",
   "execution_count": null,
   "metadata": {},
   "outputs": [],
   "source": [
    "results.query(\"transactions_type == 'CARD_PAYMENT'\").sort_values(by=\"created_date\", ascending=True)"
   ]
  },
  {
   "cell_type": "code",
   "execution_count": null,
   "metadata": {},
   "outputs": [],
   "source": [
    "min(results['created_date']), max(results['created_date'])"
   ]
  },
  {
   "cell_type": "code",
   "execution_count": null,
   "metadata": {},
   "outputs": [],
   "source": [
    "min(results['created_date']), max(results['created_date'])"
   ]
  },
  {
   "cell_type": "code",
   "execution_count": null,
   "metadata": {},
   "outputs": [],
   "source": [
    "def show_chart_2(df, x, y1, y2, y3, is_bar_chart, is_sorted):\n",
    "    \"\"\"\n",
    "    plots line chart with to lines\n",
    "    params: df; x, y1, y2 fields included, x: x axis of data set, y1, y2 and y3; y axis of data sets\n",
    "    params: is_bar_chart if True shows Bar chart, is_sorted: if True sorts y1, y2 and y3\n",
    "    return: return multi dimensional line chart or bar chart on plotly\n",
    "    \"\"\"\n",
    "    chart = go.Bar if is_bar_chart else go.Scatter\n",
    "    marker = {'size': 15, 'opacity': 0.5, 'line': {'width': 0.5, 'color': 'white'}}\n",
    "    x =  sorted(df[x])\n",
    "    _y1 = df[y1] if not is_sorted else sorted(df[y1])\n",
    "    _y2 = df[y2] if not is_sorted else sorted(df[y2])\n",
    "    _y3 = df[y3] if not is_sorted else sorted(df[y3])\n",
    "    trace = []\n",
    "    names = [y1, y2, y3]\n",
    "    counter = 0\n",
    "    for _y in [_y1, _y2, _y3]:\n",
    "        if not is_bar_chart:\n",
    "            trace.append(chart(x=x, y=_y, mode= 'lines+markers', name= names[counter], marker=marker))\n",
    "        else:\n",
    "            trace.append(chart(x=x, y=_y, name= names[counter]))\n",
    "        counter += 1\n",
    "    offline.iplot(trace)"
   ]
  },
  {
   "cell_type": "code",
   "execution_count": null,
   "metadata": {},
   "outputs": [],
   "source": [
    "show_chart_2(ab_result_df, 'week_date', 'ratio_experiment', 'ratio_test', 'ratio_diff', False, True)"
   ]
  },
  {
   "cell_type": "code",
   "execution_count": null,
   "metadata": {},
   "outputs": [],
   "source": []
  },
  {
   "cell_type": "code",
   "execution_count": null,
   "metadata": {
    "scrolled": true
   },
   "outputs": [],
   "source": [
    "req = urllib.request.Request(url)\n",
    "response = urllib.request.urlopen(url)\n",
    "html = response.read()"
   ]
  },
  {
   "cell_type": "code",
   "execution_count": null,
   "metadata": {},
   "outputs": [],
   "source": []
  },
  {
   "cell_type": "code",
   "execution_count": null,
   "metadata": {},
   "outputs": [],
   "source": []
  },
  {
   "cell_type": "code",
   "execution_count": null,
   "metadata": {},
   "outputs": [],
   "source": [
    "r.status_code"
   ]
  },
  {
   "cell_type": "code",
   "execution_count": null,
   "metadata": {},
   "outputs": [],
   "source": [
    "import pandas as pd"
   ]
  },
  {
   "cell_type": "code",
   "execution_count": null,
   "metadata": {},
   "outputs": [],
   "source": [
    "data = pd.read_csv(\"/Users/mac/Desktop/anomaly_detection_framework/data/ml3yil_20200429.csv\")"
   ]
  },
  {
   "cell_type": "code",
   "execution_count": null,
   "metadata": {},
   "outputs": [],
   "source": [
    "len(data.query(\"BayiKodu == 1095018 and KisiSayimi != KisiSayimi \")) / len(data.query(\"BayiKodu == 1095018\"))"
   ]
  },
  {
   "cell_type": "code",
   "execution_count": null,
   "metadata": {},
   "outputs": [],
   "source": [
    "data.query(\"BayiKodu == 1095018 and KisiSayimi == KisiSayimi\")[['KisiSayimi', 'Tarih']].sort_values(by='Tarih', ascending=True)"
   ]
  },
  {
   "cell_type": "code",
   "execution_count": null,
   "metadata": {},
   "outputs": [],
   "source": [
    "data"
   ]
  },
  {
   "cell_type": "code",
   "execution_count": null,
   "metadata": {},
   "outputs": [],
   "source": [
    "from urllib.request importRequest\n",
    "\n",
    "req = Request(\"http://mac-macbook-air.local:6002/ml?data_query_path=ml3yil.csv&data_source=csv&feature=KisiSayimi&groups=BayiKodu&job=train&model=prophet&time_indicator=Tarih\")"
   ]
  },
  {
   "cell_type": "code",
   "execution_count": null,
   "metadata": {
    "scrolled": true
   },
   "outputs": [],
   "source": [
    "response = urllib.request.urlopen(req)\n",
    "the_page = response.read()"
   ]
  },
  {
   "cell_type": "code",
   "execution_count": null,
   "metadata": {},
   "outputs": [],
   "source": []
  },
  {
   "cell_type": "code",
   "execution_count": null,
   "metadata": {},
   "outputs": [],
   "source": [
    "folder = '/Users/mac/Desktop/anomaly_detection_framework'"
   ]
  },
  {
   "cell_type": "code",
   "execution_count": null,
   "metadata": {},
   "outputs": [],
   "source": [
    "instance = ad_execute.read_yaml(ad_execute.init_directory, \"instance.yaml\")\n",
    "instance"
   ]
  },
  {
   "cell_type": "code",
   "execution_count": null,
   "metadata": {},
   "outputs": [],
   "source": [
    "sorted([(2, 20), (1, 35), (5, 3)])"
   ]
  },
  {
   "cell_type": "code",
   "execution_count": null,
   "metadata": {},
   "outputs": [],
   "source": [
    "from datetime import datetime as dt\n",
    " "
   ]
  },
  {
   "cell_type": "code",
   "execution_count": null,
   "metadata": {},
   "outputs": [],
   "source": [
    "datetime.now()"
   ]
  },
  {
   "cell_type": "code",
   "execution_count": null,
   "metadata": {},
   "outputs": [],
   "source": [
    "import numpy as np"
   ]
  },
  {
   "cell_type": "code",
   "execution_count": null,
   "metadata": {},
   "outputs": [],
   "source": [
    "(unique, counts) = np.unique(list(results['year']), return_counts=True)"
   ]
  },
  {
   "cell_type": "code",
   "execution_count": null,
   "metadata": {},
   "outputs": [],
   "source": [
    "if 1 not in counts:\n",
    "    print(\"yess\")"
   ]
  },
  {
   "cell_type": "code",
   "execution_count": null,
   "metadata": {},
   "outputs": [],
   "source": [
    "int(min(1300000, 1400000) * 0.0002)"
   ]
  },
  {
   "cell_type": "code",
   "execution_count": null,
   "metadata": {},
   "outputs": [],
   "source": [
    "data = pd.read_csv(ad_execute.conf('data_main_path') + \"/\" + \"ml3yil.csv\")"
   ]
  },
  {
   "cell_type": "code",
   "execution_count": null,
   "metadata": {},
   "outputs": [],
   "source": [
    "data.columns"
   ]
  },
  {
   "cell_type": "code",
   "execution_count": null,
   "metadata": {},
   "outputs": [],
   "source": [
    "data = data[['BayiKodu', 'Tarih', 'KisiSayimi']]"
   ]
  },
  {
   "cell_type": "code",
   "execution_count": null,
   "metadata": {
    "scrolled": true
   },
   "outputs": [],
   "source": [
    "data = data.rename(columns={'BayiKodu': 'type', 'Tarih': 'date', 'KisiSayimi': 'feature'})\n",
    "data"
   ]
  },
  {
   "cell_type": "code",
   "execution_count": null,
   "metadata": {},
   "outputs": [],
   "source": [
    "data.to_csv(ad_execute.conf('data_main_path') + \"/\" + \"ml3yil.csv\")"
   ]
  },
  {
   "cell_type": "code",
   "execution_count": null,
   "metadata": {},
   "outputs": [],
   "source": [
    "train\n",
    "lstm\n",
    "type\n",
    "-\n",
    "date\n",
    "feature\n",
    "csv\n",
    "ml3yil.csv\n",
    "Monthly"
   ]
  }
 ],
 "metadata": {
  "kernelspec": {
   "display_name": "Python 3",
   "language": "python",
   "name": "python3"
  },
  "language_info": {
   "codemirror_mode": {
    "name": "ipython",
    "version": 3
   },
   "file_extension": ".py",
   "mimetype": "text/x-python",
   "name": "python",
   "nbconvert_exporter": "python",
   "pygments_lexer": "ipython3",
   "version": "3.7.4"
  }
 },
 "nbformat": 4,
 "nbformat_minor": 2
}
