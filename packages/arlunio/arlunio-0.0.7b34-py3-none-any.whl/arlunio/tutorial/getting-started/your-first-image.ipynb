{
 "cells": [
  {
   "cell_type": "markdown",
   "metadata": {},
   "source": [
    "# Your First Image\n",
    "\n",
    "Drawing an image with `arlunio` can be as simple as a few lines of\n",
    "code:\n"
   ]
  },
  {
   "cell_type": "code",
   "execution_count": null,
   "metadata": {},
   "outputs": [],
   "source": [
    "import arlunio as ar\n",
    "from arlunio.lib import Circle\n",
    "\n",
    "circle = Circle()\n",
    "ar.fill(circle(width=1920, height=1080), color=\"red\")"
   ]
  },
  {
   "cell_type": "markdown",
   "metadata": {},
   "source": []
  }
 ],
 "metadata": {},
 "nbformat": 4,
 "nbformat_minor": 4
}