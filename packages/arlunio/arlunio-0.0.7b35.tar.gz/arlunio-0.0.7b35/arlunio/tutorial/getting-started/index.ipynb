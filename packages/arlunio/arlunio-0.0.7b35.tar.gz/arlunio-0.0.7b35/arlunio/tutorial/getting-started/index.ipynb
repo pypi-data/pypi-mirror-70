{
 "cells": [
  {
   "cell_type": "markdown",
   "metadata": {},
   "source": [
    "# Getting Started\n",
    "\n",
    "This section is aimed at taking you from not knowing anything about how to use\n",
    "`arlunio` to your first images and animations, as well as giving you\n",
    "enough information to start exploring the other sections.\n",
    "- [Your First Image](your-first-image.ipynb)"
   ]
  }
 ],
 "metadata": {},
 "nbformat": 4,
 "nbformat_minor": 4
}