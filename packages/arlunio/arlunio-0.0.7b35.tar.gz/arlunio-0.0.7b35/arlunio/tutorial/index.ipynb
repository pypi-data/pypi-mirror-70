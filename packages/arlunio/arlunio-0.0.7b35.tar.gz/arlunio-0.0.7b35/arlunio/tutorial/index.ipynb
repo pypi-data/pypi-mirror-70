{
 "cells": [
  {
   "cell_type": "markdown",
   "metadata": {},
   "source": [
    "# User Guide\n",
    "\n",
    "Welcome to the user guide! It is made up from a number of sections each focused\n",
    "on a particular aspect of `arlunio`. Each section tries to be self\n",
    "contained so feel free to visit them in whichever order you fancy. However if\n",
    "this is your first time using `arlunio` then it is recommended to start\n",
    "with the [[Getting Started]](getting-started/index.ipynb#users-getting-started) section.\n",
    "\n",
    "Where possible we have tried to include examples and short excercises that aim\n",
    "to demonstrate particular concepts and to encourage experimentation - while\n",
    "solutions to these excercises are available keep in mind that there is often\n",
    "more than one way to achieve the same outcome!\n",
    "> **Note**\n",
    "\n",
    "> Being an interactive guide you are of course free to play around with and\n",
    "> change **any** of the code you see here - in fact we encourage it! The\n",
    "> only way to truly gain an intuition for how the concepts introduced here\n",
    "> work will be to experiment.\n",
    "> \n",
    "> There’s no need to worry about breaking anything either, if you ever get\n",
    "> to the point where you wish you could start over you can! At any time you\n",
    "> can close and re-launch the tutorial with the command\n",
    "> `arlunio tutorial --reset` which will reset this folder back to its\n",
    "> default state.\n",
    "> \n",
    "> **This command will revert any changes to this folder - including\n",
    "> deleting any additional notebooks you have created. Be sure to back up\n",
    "> anything important before running this command.**\n",
    "> \n",
    "The user guide is made up of the following sections\n",
    "- [[Getting Started]](getting-started/index.ipynb#users-getting-started): If you are new to arlunio start here.\n"
   ]
  }
 ],
 "metadata": {},
 "nbformat": 4,
 "nbformat_minor": 4
}