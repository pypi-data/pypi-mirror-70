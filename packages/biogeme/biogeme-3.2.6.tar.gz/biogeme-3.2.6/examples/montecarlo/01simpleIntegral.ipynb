{
  "cells": [
    {
      "cell_type": "code",
      "metadata": {},
      "source": [
        "#%%\n",
        "\"\"\"File: 01simpleIntegral.py\n",
        " Author: Michel Bierlaire, EPFL\n",
        " Date: Wed Dec 11 16:20:24 2019\n",
        "\n",
        "Calculation of a simple integral using Monte-Carlo integration.\n",
        "\n",
        "\"\"\"\n",
        "\n",
        "# pylint: disable=invalid-name, undefined-variable\n",
        "\n",
        "import pandas as pd\n",
        "import biogeme.database as db\n",
        "import biogeme.biogeme as bio\n",
        "from biogeme.expressions import exp, bioDraws, MonteCarlo\n",
        "\n",
        "# We create a fake database with one entry, as it is required\n",
        "# to store the draws\n",
        "pandas = pd.DataFrame()\n",
        "pandas['FakeColumn'] = [1.0]\n",
        "database = db.Database('fakeDatabase', pandas)\n",
        "\n",
        "integrand = exp(bioDraws('U', 'UNIFORM'))\n",
        "simulatedI = MonteCarlo(integrand)\n",
        "\n",
        "trueI = exp(1.0) - 1.0\n",
        "\n",
        "R = 2000\n",
        "\n",
        "sampleVariance = MonteCarlo(integrand*integrand) - simulatedI * simulatedI\n",
        "stderr = (sampleVariance / R)**0.5\n",
        "error = simulatedI - trueI\n",
        "\n",
        "simulate = {'Analytical Integral': trueI,\n",
        "            'Simulated Integral': simulatedI,\n",
        "            'Sample variance   ': sampleVariance,\n",
        "            'Std Error         ': stderr,\n",
        "            'Error             ': error}\n",
        "\n",
        "biogeme = bio.BIOGEME(database, simulate, numberOfDraws=R)\n",
        "biogeme.modelName = f'01simpleIntegral_{R}'\n",
        "results = biogeme.simulate()\n",
        "print(f'Number of draws: {R}')\n",
        "for c in results.columns:\n",
        "    print(f'{c}: {results.loc[0,c]}')\n",
        "\n",
        "# With 10 times more draws\n",
        "biogeme2 = bio.BIOGEME(database, simulate, numberOfDraws=10 * R)\n",
        "biogeme2.modelName = '01simpleIntegral_{10*R}'\n",
        "results2 = biogeme2.simulate()\n",
        "print(f'Number of draws: {10 * R}')\n",
        "for c in results.columns:\n",
        "    print(f'{c}: {results2.loc[0, c]}')\n"
      ],
      "outputs": [],
      "execution_count": null
    }
  ],
  "metadata": {
    "anaconda-cloud": {},
    "kernelspec": {
      "display_name": "Python 3",
      "language": "python",
      "name": "python3"
    },
    "language_info": {
      "codemirror_mode": {
        "name": "ipython",
        "version": 3
      },
      "file_extension": ".py",
      "mimetype": "text/x-python",
      "name": "python",
      "nbconvert_exporter": "python",
      "pygments_lexer": "ipython3",
      "version": "3.6.1"
    }
  },
  "nbformat": 4,
  "nbformat_minor": 1
}