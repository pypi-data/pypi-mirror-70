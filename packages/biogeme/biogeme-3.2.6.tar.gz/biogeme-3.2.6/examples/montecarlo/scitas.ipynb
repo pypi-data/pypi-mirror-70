{
  "cells": [
    {
      "cell_type": "code",
      "metadata": {},
      "source": [
        "#%%\n",
        "files = ['01simpleIntegral.py',\n",
        "         '02simpleIntegral.py',\n",
        "         '03antithetic.py',\n",
        "         '03antitheticExplicit.py',\n",
        "         '04normalMixtureNumerical.py',\n",
        "         '05normalMixtureMonteCarlo.py',\n",
        "         '06estimationIntegral.py',\n",
        "         '07estimationMonteCarlo.py',\n",
        "         '07estimationMonteCarlo_500.py',\n",
        "         '07estimationMonteCarlo_anti.py',\n",
        "         '07estimationMonteCarlo_anti_500.py',\n",
        "         '07estimationMonteCarlo_halton.py',\n",
        "         '07estimationMonteCarlo_halton_500.py',\n",
        "         '07estimationMonteCarlo_mlhs.py',\n",
        "         '07estimationMonteCarlo_mlhs_500.py',\n",
        "         '07estimationMonteCarlo_mlhs_anti.py',\n",
        "         '07estimationMonteCarlo_mlhs_anti_500.py']\n",
        "\n",
        "for f in files:\n",
        "    name = f.rsplit('.', 1)[0]\n",
        "    print(name)\n",
        "    content = (f'#!/bin/bash -l\\n'\n",
        "               f'#SBATCH --chdir /home/bierlair/montecarlo\\n'\n",
        "               f'#SBATCH --nodes 1\\n'\n",
        "               f'#SBATCH --ntasks 1\\n'\n",
        "               f'#SBATCH --cpus-per-task 24\\n'\n",
        "               f'#SBATCH --mem 192000\\n'\n",
        "               f'#SBATCH --time 20:00:00\\n'\n",
        "               f'\\n'\n",
        "               f'source ~/env_biogeme/bin/activate\\n'\n",
        "               f'echo STARTING AT `date`\\n'\n",
        "               f'srun python -u {name}.py\\n'\n",
        "               f'echo FINISHED AT `date`\\n')\n",
        "    ff = open(f'{name}.run', 'w')\n",
        "    ff.write(content)\n",
        "    ff.close()\n"
      ],
      "outputs": [],
      "execution_count": null
    }
  ],
  "metadata": {
    "anaconda-cloud": {},
    "kernelspec": {
      "display_name": "Python 3",
      "language": "python",
      "name": "python3"
    },
    "language_info": {
      "codemirror_mode": {
        "name": "ipython",
        "version": 3
      },
      "file_extension": ".py",
      "mimetype": "text/x-python",
      "name": "python",
      "nbconvert_exporter": "python",
      "pygments_lexer": "ipython3",
      "version": "3.6.1"
    }
  },
  "nbformat": 4,
  "nbformat_minor": 1
}