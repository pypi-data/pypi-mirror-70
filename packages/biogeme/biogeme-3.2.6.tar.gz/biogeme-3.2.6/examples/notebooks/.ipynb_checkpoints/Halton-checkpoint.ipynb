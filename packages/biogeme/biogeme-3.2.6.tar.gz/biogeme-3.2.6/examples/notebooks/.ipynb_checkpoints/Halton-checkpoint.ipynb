{
 "cells": [
  {
   "cell_type": "code",
   "execution_count": 1,
   "metadata": {},
   "outputs": [],
   "source": [
    "import biogeme.tools as tools\n",
    "import numpy as np"
   ]
  },
  {
   "cell_type": "code",
   "execution_count": 2,
   "metadata": {},
   "outputs": [
    {
     "data": {
      "text/plain": [
       "[2,\n",
       " 3,\n",
       " 5,\n",
       " 7,\n",
       " 11,\n",
       " 13,\n",
       " 17,\n",
       " 19,\n",
       " 23,\n",
       " 29,\n",
       " 31,\n",
       " 37,\n",
       " 41,\n",
       " 43,\n",
       " 47,\n",
       " 53,\n",
       " 59,\n",
       " 61,\n",
       " 67,\n",
       " 71,\n",
       " 73,\n",
       " 79,\n",
       " 83,\n",
       " 89,\n",
       " 97]"
      ]
     },
     "execution_count": 2,
     "metadata": {},
     "output_type": "execute_result"
    }
   ],
   "source": [
    "maxPrimes = 100\n",
    "primes = tools.calculatePrimeNumbers(upperBound=maxPrimes)\n",
    "primes"
   ]
  },
  {
   "cell_type": "code",
   "execution_count": 3,
   "metadata": {},
   "outputs": [],
   "source": [
    "drawsPerSeries = 100\n",
    "nSeries = 3\n",
    "currentNumber = np.array([1]*nSeries)"
   ]
  },
  {
   "cell_type": "code",
   "execution_count": 4,
   "metadata": {},
   "outputs": [],
   "source": [
    "def computeHalton(base,number):\n",
    "    decomposition = []\n",
    "    ratio = number\n",
    "    while ratio != 0:\n",
    "        modulo = ratio % base\n",
    "        decomposition += [modulo]\n",
    "        ratio = int(ratio / base)\n",
    "    hh = 0.0\n",
    "    exponent = -1.0\n",
    "    for i in decomposition:\n",
    "        hh += i * base ** exponent\n",
    "        exponent -= 1.0\n",
    "    return hh"
   ]
  },
  {
   "cell_type": "code",
   "execution_count": 5,
   "metadata": {},
   "outputs": [
    {
     "data": {
      "text/plain": [
       "[0.0,\n",
       " 0.5,\n",
       " 0.25,\n",
       " 0.75,\n",
       " 0.125,\n",
       " 0.625,\n",
       " 0.375,\n",
       " 0.875,\n",
       " 0.0625,\n",
       " 0.5625,\n",
       " 0.3125,\n",
       " 0.8125,\n",
       " 0.1875,\n",
       " 0.6875,\n",
       " 0.4375,\n",
       " 0.9375,\n",
       " 0.03125,\n",
       " 0.53125,\n",
       " 0.28125,\n",
       " 0.78125,\n",
       " 0.15625,\n",
       " 0.65625,\n",
       " 0.40625,\n",
       " 0.90625,\n",
       " 0.09375,\n",
       " 0.59375,\n",
       " 0.34375,\n",
       " 0.84375,\n",
       " 0.21875,\n",
       " 0.71875,\n",
       " 0.46875,\n",
       " 0.96875,\n",
       " 0.015625,\n",
       " 0.515625,\n",
       " 0.265625,\n",
       " 0.765625,\n",
       " 0.140625,\n",
       " 0.640625,\n",
       " 0.390625,\n",
       " 0.890625,\n",
       " 0.078125,\n",
       " 0.578125,\n",
       " 0.328125,\n",
       " 0.828125,\n",
       " 0.203125,\n",
       " 0.703125,\n",
       " 0.453125,\n",
       " 0.953125,\n",
       " 0.046875,\n",
       " 0.546875,\n",
       " 0.296875,\n",
       " 0.796875,\n",
       " 0.171875,\n",
       " 0.671875,\n",
       " 0.421875,\n",
       " 0.921875,\n",
       " 0.109375,\n",
       " 0.609375,\n",
       " 0.359375,\n",
       " 0.859375,\n",
       " 0.234375,\n",
       " 0.734375,\n",
       " 0.484375,\n",
       " 0.984375,\n",
       " 0.0078125,\n",
       " 0.5078125,\n",
       " 0.2578125,\n",
       " 0.7578125,\n",
       " 0.1328125,\n",
       " 0.6328125,\n",
       " 0.3828125,\n",
       " 0.8828125,\n",
       " 0.0703125,\n",
       " 0.5703125,\n",
       " 0.3203125,\n",
       " 0.8203125,\n",
       " 0.1953125,\n",
       " 0.6953125,\n",
       " 0.4453125,\n",
       " 0.9453125,\n",
       " 0.0390625,\n",
       " 0.5390625,\n",
       " 0.2890625,\n",
       " 0.7890625,\n",
       " 0.1640625,\n",
       " 0.6640625,\n",
       " 0.4140625,\n",
       " 0.9140625,\n",
       " 0.1015625,\n",
       " 0.6015625,\n",
       " 0.3515625,\n",
       " 0.8515625,\n",
       " 0.2265625,\n",
       " 0.7265625,\n",
       " 0.4765625,\n",
       " 0.9765625,\n",
       " 0.0234375,\n",
       " 0.5234375,\n",
       " 0.2734375,\n",
       " 0.7734375]"
      ]
     },
     "execution_count": 5,
     "metadata": {},
     "output_type": "execute_result"
    }
   ],
   "source": [
    "base = 2\n",
    "draws = [computeHalton(base,i) for i in range(drawsPerSeries)]\n",
    "draws"
   ]
  },
  {
   "cell_type": "code",
   "execution_count": 6,
   "metadata": {},
   "outputs": [
    {
     "ename": "NameError",
     "evalue": "name 'hh' is not defined",
     "output_type": "error",
     "traceback": [
      "\u001b[0;31m---------------------------------------------------------------------------\u001b[0m",
      "\u001b[0;31mNameError\u001b[0m                                 Traceback (most recent call last)",
      "\u001b[0;32m<ipython-input-6-9ecdcaba8dbe>\u001b[0m in \u001b[0;36m<module>\u001b[0;34m\u001b[0m\n\u001b[0;32m----> 1\u001b[0;31m \u001b[0mhh\u001b[0m\u001b[0;34m\u001b[0m\u001b[0;34m\u001b[0m\u001b[0m\n\u001b[0m",
      "\u001b[0;31mNameError\u001b[0m: name 'hh' is not defined"
     ]
    }
   ],
   "source": [
    "hh"
   ]
  },
  {
   "cell_type": "code",
   "execution_count": null,
   "metadata": {},
   "outputs": [],
   "source": []
  }
 ],
 "metadata": {
  "kernelspec": {
   "display_name": "Python 3",
   "language": "python",
   "name": "python3"
  },
  "language_info": {
   "codemirror_mode": {
    "name": "ipython",
    "version": 3
   },
   "file_extension": ".py",
   "mimetype": "text/x-python",
   "name": "python",
   "nbconvert_exporter": "python",
   "pygments_lexer": "ipython3",
   "version": "3.7.4"
  }
 },
 "nbformat": 4,
 "nbformat_minor": 2
}
