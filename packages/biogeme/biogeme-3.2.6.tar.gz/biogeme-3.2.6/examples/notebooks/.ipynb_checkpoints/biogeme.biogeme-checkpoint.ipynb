{
 "cells": [
  {
   "cell_type": "markdown",
   "metadata": {},
   "source": [
    "# class BIOGEME: examples of use of each function"
   ]
  },
  {
   "cell_type": "markdown",
   "metadata": {},
   "source": [
    "This webpage is for programmers who need examples of use of the functions of the class. The examples are designed to illustrate the syntax. They do not correspond to any meaningful model. For examples of models, visit  [biogeme.epfl.ch](http://biogeme.epfl.ch)."
   ]
  },
  {
   "cell_type": "code",
   "execution_count": 1,
   "metadata": {},
   "outputs": [
    {
     "name": "stdout",
     "output_type": "stream",
     "text": [
      "2020-03-10 16:27:38.266919\n"
     ]
    }
   ],
   "source": [
    "import datetime\n",
    "print(datetime.datetime.now())"
   ]
  },
  {
   "cell_type": "code",
   "execution_count": 2,
   "metadata": {},
   "outputs": [
    {
     "name": "stdout",
     "output_type": "stream",
     "text": [
      "biogeme 3.2.6a [2020-03-10]\n",
      "Version entirely written in Python\n",
      "Home page: http://biogeme.epfl.ch\n",
      "Submit questions to https://groups.google.com/d/forum/biogeme\n",
      "Michel Bierlaire, Transport and Mobility Laboratory, Ecole Polytechnique Fédérale de Lausanne (EPFL)\n",
      "\n"
     ]
    }
   ],
   "source": [
    "import biogeme.version as ver\n",
    "print(ver.getText())"
   ]
  },
  {
   "cell_type": "code",
   "execution_count": 3,
   "metadata": {},
   "outputs": [],
   "source": [
    "import biogeme.biogeme as bio\n",
    "import biogeme.database as db\n",
    "import pandas as pd\n",
    "import numpy as np\n",
    "from biogeme.expressions import Beta, Variable, exp"
   ]
  },
  {
   "cell_type": "markdown",
   "metadata": {},
   "source": [
    "Define the verbosity of Biogeme"
   ]
  },
  {
   "cell_type": "code",
   "execution_count": 4,
   "metadata": {},
   "outputs": [],
   "source": [
    "import biogeme.messaging as msg\n",
    "logger = msg.bioMessage()\n",
    "logger.setDetailed()"
   ]
  },
  {
   "cell_type": "markdown",
   "metadata": {},
   "source": [
    "##  Definition of a database"
   ]
  },
  {
   "cell_type": "code",
   "execution_count": 5,
   "metadata": {},
   "outputs": [],
   "source": [
    "df = pd.DataFrame({'Person':[1,1,1,2,2],\n",
    "                   'Exclude':[0,0,1,0,1],\n",
    "                   'Variable1':[1,2,3,4,5],\n",
    "                   'Variable2':[10,20,30,40,50],\n",
    "                   'Choice':[1,2,3,1,2],\n",
    "                   'Av1':[0,1,1,1,1],\n",
    "                   'Av2':[1,1,1,1,1],\n",
    "                   'Av3':[0,1,1,1,1]})\n",
    "myData = db.Database('test',df)"
   ]
  },
  {
   "cell_type": "markdown",
   "metadata": {},
   "source": [
    "## Definition of various expressions"
   ]
  },
  {
   "cell_type": "code",
   "execution_count": 6,
   "metadata": {},
   "outputs": [],
   "source": [
    "Variable1=Variable('Variable1')\n",
    "Variable2=Variable('Variable2')\n",
    "beta1 = Beta('beta1',-1.0,-3,3,0)\n",
    "beta2 = Beta('beta2',2.0,-3,10,0)\n",
    "likelihood = -beta1**2 * Variable1 - exp(beta2*beta1) * Variable2 - beta2**4\n",
    "simul = beta1 / Variable1 + beta2 / Variable2\n",
    "dictOfExpressions = {'loglike':likelihood,'beta1':beta1,'simul':simul}"
   ]
  },
  {
   "cell_type": "markdown",
   "metadata": {},
   "source": [
    "## Creation of the BIOGEME object"
   ]
  },
  {
   "cell_type": "code",
   "execution_count": 7,
   "metadata": {},
   "outputs": [
    {
     "name": "stdout",
     "output_type": "stream",
     "text": [
      "[16:27:38] < General >   Remove 6 unused variables from the database as only 2 are used.\n",
      "simpleExample: database [test]{'loglike': ((((-(beta1(-1.0) ** `2`)) * Variable1) - (exp((beta2(2.0) * beta1(-1.0))) * Variable2)) - (beta2(2.0) ** `4`)), 'beta1': beta1(-1.0), 'simul': ((beta1(-1.0) / Variable1) + (beta2(2.0) / Variable2))}\n",
      "simpleExample: database [test]{'loglike': ((((-(beta1(-1.0) ** `2`)) * Variable1) - (exp((beta2(2.0) * beta1(-1.0))) * Variable2)) - (beta2(2.0) ** `4`)), 'beta1': beta1(-1.0), 'simul': ((beta1(-1.0) / Variable1) + (beta2(2.0) / Variable2))}\n"
     ]
    }
   ],
   "source": [
    "myBiogeme = bio.BIOGEME(myData,dictOfExpressions)\n",
    "myBiogeme.modelName = 'simpleExample'\n",
    "print(myBiogeme)"
   ]
  },
  {
   "cell_type": "markdown",
   "metadata": {},
   "source": [
    "Note that, by default, Biogeme removes the unused variables from the database to optimize space."
   ]
  },
  {
   "cell_type": "code",
   "execution_count": 8,
   "metadata": {},
   "outputs": [
    {
     "data": {
      "text/plain": [
       "Index(['Person', 'Exclude', 'Variable1', 'Variable2', 'Choice', 'Av1', 'Av2',\n",
       "       'Av3'],\n",
       "      dtype='object')"
      ]
     },
     "execution_count": 8,
     "metadata": {},
     "output_type": "execute_result"
    }
   ],
   "source": [
    "myBiogeme.database.data.columns"
   ]
  },
  {
   "cell_type": "markdown",
   "metadata": {},
   "source": [
    "## calculateInitLikelihood"
   ]
  },
  {
   "cell_type": "code",
   "execution_count": 9,
   "metadata": {},
   "outputs": [
    {
     "name": "stdout",
     "output_type": "stream",
     "text": [
      "[16:27:38] < General >   Log likelihood (N=5):  -115.3003\n"
     ]
    },
    {
     "data": {
      "text/plain": [
       "-115.30029248549191"
      ]
     },
     "execution_count": 9,
     "metadata": {},
     "output_type": "execute_result"
    }
   ],
   "source": [
    "myBiogeme.calculateInitLikelihood()"
   ]
  },
  {
   "cell_type": "markdown",
   "metadata": {},
   "source": [
    "## calculateLikelihood"
   ]
  },
  {
   "cell_type": "code",
   "execution_count": 10,
   "metadata": {},
   "outputs": [
    {
     "name": "stdout",
     "output_type": "stream",
     "text": [
      "[0.0, 3.0]\n"
     ]
    }
   ],
   "source": [
    "x = myBiogeme.betaInitValues\n",
    "xplus = [v+1 for v in x]\n",
    "print(xplus)"
   ]
  },
  {
   "cell_type": "code",
   "execution_count": 11,
   "metadata": {},
   "outputs": [
    {
     "name": "stdout",
     "output_type": "stream",
     "text": [
      "[16:27:38] < General >   Log likelihood (N=5):       -555\n"
     ]
    },
    {
     "data": {
      "text/plain": [
       "-111.0"
      ]
     },
     "execution_count": 11,
     "metadata": {},
     "output_type": "execute_result"
    }
   ],
   "source": [
    "myBiogeme.calculateLikelihood(xplus,scaled=True)"
   ]
  },
  {
   "cell_type": "markdown",
   "metadata": {},
   "source": [
    "It is possible to calculate the likelihood based only on a sample of the data"
   ]
  },
  {
   "cell_type": "code",
   "execution_count": 12,
   "metadata": {},
   "outputs": [
    {
     "name": "stdout",
     "output_type": "stream",
     "text": [
      "[16:27:38] < Detailed >  Use 50.0% of the data.\n",
      "[16:27:38] < General >   Log likelihood (N=2):       -212\n"
     ]
    },
    {
     "data": {
      "text/plain": [
       "-106.0"
      ]
     },
     "execution_count": 12,
     "metadata": {},
     "output_type": "execute_result"
    }
   ],
   "source": [
    "myBiogeme.calculateLikelihood(xplus, scaled=True, batch=0.5)"
   ]
  },
  {
   "cell_type": "code",
   "execution_count": 13,
   "metadata": {},
   "outputs": [
    {
     "data": {
      "text/html": [
       "<div>\n",
       "<style scoped>\n",
       "    .dataframe tbody tr th:only-of-type {\n",
       "        vertical-align: middle;\n",
       "    }\n",
       "\n",
       "    .dataframe tbody tr th {\n",
       "        vertical-align: top;\n",
       "    }\n",
       "\n",
       "    .dataframe thead th {\n",
       "        text-align: right;\n",
       "    }\n",
       "</style>\n",
       "<table border=\"1\" class=\"dataframe\">\n",
       "  <thead>\n",
       "    <tr style=\"text-align: right;\">\n",
       "      <th></th>\n",
       "      <th>Person</th>\n",
       "      <th>Exclude</th>\n",
       "      <th>Variable1</th>\n",
       "      <th>Variable2</th>\n",
       "      <th>Choice</th>\n",
       "      <th>Av1</th>\n",
       "      <th>Av2</th>\n",
       "      <th>Av3</th>\n",
       "    </tr>\n",
       "  </thead>\n",
       "  <tbody>\n",
       "    <tr>\n",
       "      <th>1</th>\n",
       "      <td>1</td>\n",
       "      <td>0</td>\n",
       "      <td>2</td>\n",
       "      <td>20</td>\n",
       "      <td>2</td>\n",
       "      <td>1</td>\n",
       "      <td>1</td>\n",
       "      <td>1</td>\n",
       "    </tr>\n",
       "    <tr>\n",
       "      <th>2</th>\n",
       "      <td>1</td>\n",
       "      <td>1</td>\n",
       "      <td>3</td>\n",
       "      <td>30</td>\n",
       "      <td>3</td>\n",
       "      <td>1</td>\n",
       "      <td>1</td>\n",
       "      <td>1</td>\n",
       "    </tr>\n",
       "  </tbody>\n",
       "</table>\n",
       "</div>"
      ],
      "text/plain": [
       "   Person  Exclude  Variable1  Variable2  Choice  Av1  Av2  Av3\n",
       "1       1        0          2         20       2    1    1    1\n",
       "2       1        1          3         30       3    1    1    1"
      ]
     },
     "execution_count": 13,
     "metadata": {},
     "output_type": "execute_result"
    }
   ],
   "source": [
    "myBiogeme.database.data"
   ]
  },
  {
   "cell_type": "code",
   "execution_count": 14,
   "metadata": {},
   "outputs": [
    {
     "name": "stdout",
     "output_type": "stream",
     "text": [
      "[16:27:38] < Detailed >  Use 60.0% of the data.\n",
      "[16:27:38] < General >   Log likelihood (N=3):       -303\n"
     ]
    },
    {
     "data": {
      "text/plain": [
       "-101.0"
      ]
     },
     "execution_count": 14,
     "metadata": {},
     "output_type": "execute_result"
    }
   ],
   "source": [
    "myBiogeme.calculateLikelihood(xplus, scaled=True, batch=0.6)"
   ]
  },
  {
   "cell_type": "code",
   "execution_count": 15,
   "metadata": {},
   "outputs": [
    {
     "data": {
      "text/html": [
       "<div>\n",
       "<style scoped>\n",
       "    .dataframe tbody tr th:only-of-type {\n",
       "        vertical-align: middle;\n",
       "    }\n",
       "\n",
       "    .dataframe tbody tr th {\n",
       "        vertical-align: top;\n",
       "    }\n",
       "\n",
       "    .dataframe thead th {\n",
       "        text-align: right;\n",
       "    }\n",
       "</style>\n",
       "<table border=\"1\" class=\"dataframe\">\n",
       "  <thead>\n",
       "    <tr style=\"text-align: right;\">\n",
       "      <th></th>\n",
       "      <th>Person</th>\n",
       "      <th>Exclude</th>\n",
       "      <th>Variable1</th>\n",
       "      <th>Variable2</th>\n",
       "      <th>Choice</th>\n",
       "      <th>Av1</th>\n",
       "      <th>Av2</th>\n",
       "      <th>Av3</th>\n",
       "    </tr>\n",
       "  </thead>\n",
       "  <tbody>\n",
       "    <tr>\n",
       "      <th>2</th>\n",
       "      <td>1</td>\n",
       "      <td>1</td>\n",
       "      <td>3</td>\n",
       "      <td>30</td>\n",
       "      <td>3</td>\n",
       "      <td>1</td>\n",
       "      <td>1</td>\n",
       "      <td>1</td>\n",
       "    </tr>\n",
       "    <tr>\n",
       "      <th>0</th>\n",
       "      <td>1</td>\n",
       "      <td>0</td>\n",
       "      <td>1</td>\n",
       "      <td>10</td>\n",
       "      <td>1</td>\n",
       "      <td>0</td>\n",
       "      <td>1</td>\n",
       "      <td>0</td>\n",
       "    </tr>\n",
       "    <tr>\n",
       "      <th>1</th>\n",
       "      <td>1</td>\n",
       "      <td>0</td>\n",
       "      <td>2</td>\n",
       "      <td>20</td>\n",
       "      <td>2</td>\n",
       "      <td>1</td>\n",
       "      <td>1</td>\n",
       "      <td>1</td>\n",
       "    </tr>\n",
       "  </tbody>\n",
       "</table>\n",
       "</div>"
      ],
      "text/plain": [
       "   Person  Exclude  Variable1  Variable2  Choice  Av1  Av2  Av3\n",
       "2       1        1          3         30       3    1    1    1\n",
       "0       1        0          1         10       1    0    1    0\n",
       "1       1        0          2         20       2    1    1    1"
      ]
     },
     "execution_count": 15,
     "metadata": {},
     "output_type": "execute_result"
    }
   ],
   "source": [
    "myBiogeme.database.data"
   ]
  },
  {
   "cell_type": "markdown",
   "metadata": {},
   "source": [
    "By default, each observation has the same probability to be selected in the sample. It is possible to define the selection probability to be proportional to the values of a column of the database, using the parameter 'weights'. "
   ]
  },
  {
   "cell_type": "code",
   "execution_count": 16,
   "metadata": {},
   "outputs": [
    {
     "name": "stdout",
     "output_type": "stream",
     "text": [
      "[16:27:38] < Detailed >  Use 60.0% of the data.\n",
      "[16:27:38] < General >   Log likelihood (N=3):       -303\n"
     ]
    },
    {
     "data": {
      "text/plain": [
       "-101.0"
      ]
     },
     "execution_count": 16,
     "metadata": {},
     "output_type": "execute_result"
    }
   ],
   "source": [
    "myBiogeme.columnForBatchSamplingWeights = 'Variable2'\n",
    "myBiogeme.calculateLikelihood(xplus, scaled=True, batch=0.6)"
   ]
  },
  {
   "cell_type": "code",
   "execution_count": 17,
   "metadata": {},
   "outputs": [
    {
     "data": {
      "text/html": [
       "<div>\n",
       "<style scoped>\n",
       "    .dataframe tbody tr th:only-of-type {\n",
       "        vertical-align: middle;\n",
       "    }\n",
       "\n",
       "    .dataframe tbody tr th {\n",
       "        vertical-align: top;\n",
       "    }\n",
       "\n",
       "    .dataframe thead th {\n",
       "        text-align: right;\n",
       "    }\n",
       "</style>\n",
       "<table border=\"1\" class=\"dataframe\">\n",
       "  <thead>\n",
       "    <tr style=\"text-align: right;\">\n",
       "      <th></th>\n",
       "      <th>Person</th>\n",
       "      <th>Exclude</th>\n",
       "      <th>Variable1</th>\n",
       "      <th>Variable2</th>\n",
       "      <th>Choice</th>\n",
       "      <th>Av1</th>\n",
       "      <th>Av2</th>\n",
       "      <th>Av3</th>\n",
       "    </tr>\n",
       "  </thead>\n",
       "  <tbody>\n",
       "    <tr>\n",
       "      <th>2</th>\n",
       "      <td>1</td>\n",
       "      <td>1</td>\n",
       "      <td>3</td>\n",
       "      <td>30</td>\n",
       "      <td>3</td>\n",
       "      <td>1</td>\n",
       "      <td>1</td>\n",
       "      <td>1</td>\n",
       "    </tr>\n",
       "    <tr>\n",
       "      <th>0</th>\n",
       "      <td>1</td>\n",
       "      <td>0</td>\n",
       "      <td>1</td>\n",
       "      <td>10</td>\n",
       "      <td>1</td>\n",
       "      <td>0</td>\n",
       "      <td>1</td>\n",
       "      <td>0</td>\n",
       "    </tr>\n",
       "    <tr>\n",
       "      <th>1</th>\n",
       "      <td>1</td>\n",
       "      <td>0</td>\n",
       "      <td>2</td>\n",
       "      <td>20</td>\n",
       "      <td>2</td>\n",
       "      <td>1</td>\n",
       "      <td>1</td>\n",
       "      <td>1</td>\n",
       "    </tr>\n",
       "  </tbody>\n",
       "</table>\n",
       "</div>"
      ],
      "text/plain": [
       "   Person  Exclude  Variable1  Variable2  Choice  Av1  Av2  Av3\n",
       "2       1        1          3         30       3    1    1    1\n",
       "0       1        0          1         10       1    0    1    0\n",
       "1       1        0          2         20       2    1    1    1"
      ]
     },
     "execution_count": 17,
     "metadata": {},
     "output_type": "execute_result"
    }
   ],
   "source": [
    "myBiogeme.database.data"
   ]
  },
  {
   "cell_type": "markdown",
   "metadata": {},
   "source": [
    "## calculateLikelihoodAndDerivatives"
   ]
  },
  {
   "cell_type": "code",
   "execution_count": 18,
   "metadata": {},
   "outputs": [
    {
     "name": "stdout",
     "output_type": "stream",
     "text": [
      "[16:27:38] < General >   Log likelihood (N=5):       -555 Gradient norm:      7e+02 Hessian norm:       1e+03 BHHH norm:       1e+05\n",
      "f=-111.0\n",
      "g=[ -90. -108.]\n",
      "h=[[-270.  -30.]\n",
      " [ -30. -108.]]\n",
      "bhhh=[[ 9900.  9720.]\n",
      " [ 9720. 11664.]]\n"
     ]
    }
   ],
   "source": [
    "f,g,h,bhhh = myBiogeme.calculateLikelihoodAndDerivatives(xplus,scaled=True,hessian=True,bhhh=True)\n",
    "print(f'f={f}')\n",
    "print(f'g={g}')\n",
    "print(f'h={h}')\n",
    "print(f'bhhh={bhhh}')"
   ]
  },
  {
   "cell_type": "markdown",
   "metadata": {},
   "source": [
    "Now the unscaled version"
   ]
  },
  {
   "cell_type": "code",
   "execution_count": 19,
   "metadata": {},
   "outputs": [
    {
     "name": "stdout",
     "output_type": "stream",
     "text": [
      "[16:27:38] < General >   Log likelihood (N=5):       -555 Gradient norm:      7e+02 Hessian norm:       1e+03 BHHH norm:       1e+05\n",
      "f=-555.0\n",
      "g=[-450. -540.]\n",
      "h=[[-1350.  -150.]\n",
      " [ -150.  -540.]]\n",
      "bhhh=[[49500. 48600.]\n",
      " [48600. 58320.]]\n"
     ]
    }
   ],
   "source": [
    "f,g,h,bhhh = myBiogeme.calculateLikelihoodAndDerivatives(xplus,scaled=False,hessian=True,bhhh=True)\n",
    "print(f'f={f}')\n",
    "print(f'g={g}')\n",
    "print(f'h={h}')\n",
    "print(f'bhhh={bhhh}')"
   ]
  },
  {
   "cell_type": "markdown",
   "metadata": {},
   "source": [
    "Using only a sample of the data"
   ]
  },
  {
   "cell_type": "code",
   "execution_count": 20,
   "metadata": {},
   "outputs": [
    {
     "name": "stdout",
     "output_type": "stream",
     "text": [
      "[16:27:39] < Detailed >  Use 50.0% of the data.\n",
      "[16:27:39] < General >   Log likelihood (N=2):       -252 Gradient norm:      3e+02 Hessian norm:       8e+02 BHHH norm:       6e+04\n",
      "f=-126.0\n",
      "g=[-135. -108.]\n",
      "h=[[-405.  -45.]\n",
      " [ -45. -108.]]\n",
      "bhhh=[[18450. 14580.]\n",
      " [14580. 11664.]]\n"
     ]
    }
   ],
   "source": [
    "f,g,h,bhhh = myBiogeme.calculateLikelihoodAndDerivatives(xplus,scaled=True,batch=0.5,hessian=True,bhhh=True)\n",
    "print(f'f={f}')\n",
    "print(f'g={g}')\n",
    "print(f'h={h}')\n",
    "print(f'bhhh={bhhh}')"
   ]
  },
  {
   "cell_type": "markdown",
   "metadata": {},
   "source": [
    "## likelihoodFiniteDifferenceHessian"
   ]
  },
  {
   "cell_type": "code",
   "execution_count": 21,
   "metadata": {},
   "outputs": [
    {
     "name": "stdout",
     "output_type": "stream",
     "text": [
      "[16:27:39] < General >   Log likelihood (N=5):       -555 Gradient norm:      7e+02  \n",
      "[16:27:39] < General >   Log likelihood (N=5):       -555 Gradient norm:      7e+02  \n",
      "[16:27:39] < General >   Log likelihood (N=5):  -555.0002 Gradient norm:      7e+02  \n"
     ]
    },
    {
     "data": {
      "text/plain": [
       "array([[-1380.00020229,  -150.        ],\n",
       "       [ -150.0000451 ,  -540.00005396]])"
      ]
     },
     "execution_count": 21,
     "metadata": {},
     "output_type": "execute_result"
    }
   ],
   "source": [
    "myBiogeme.likelihoodFiniteDifferenceHessian(xplus)"
   ]
  },
  {
   "cell_type": "markdown",
   "metadata": {},
   "source": [
    "## checkDerivatives"
   ]
  },
  {
   "cell_type": "code",
   "execution_count": 22,
   "metadata": {},
   "outputs": [
    {
     "name": "stdout",
     "output_type": "stream",
     "text": [
      "[16:27:39] < General >   Log likelihood (N=5):  -115.3003 Gradient norm:      1e+02 Hessian norm:       3e+02 \n",
      "[16:27:39] < General >   Log likelihood (N=5):  -115.3003 Gradient norm:      1e+02 Hessian norm:       3e+02 \n",
      "[16:27:39] < General >   Log likelihood (N=5):  -115.3003 Gradient norm:      1e+02 Hessian norm:       3e+02 \n",
      "[16:27:39] < General >   Log likelihood (N=5):  -115.3003 Gradient norm:      1e+02 Hessian norm:       3e+02 \n",
      "[16:27:39] < Detailed >  x\t\tGradient\tFinDiff\t\tDifference\n",
      "[16:27:39] < Detailed >  beta1          \t-1.060058E+01\t-1.060058E+01\t-5.427932E-06\n",
      "[16:27:39] < Detailed >  beta2          \t-1.396997E+02\t-1.396997E+02\t+2.608000E-05\n",
      "[16:27:39] < General >   Log likelihood (N=5):  -115.3003 Gradient norm:      1e+02 Hessian norm:       3e+02 \n",
      "[16:27:39] < General >   Log likelihood (N=5):  -115.3003 Gradient norm:      1e+02 Hessian norm:       3e+02 \n",
      "[16:27:39] < General >   Log likelihood (N=5):  -115.3003 Gradient norm:      1e+02 Hessian norm:       3e+02 \n",
      "[16:27:39] < Detailed >  Row\t\tCol\t\tHessian\tFinDiff\t\tDifference\n",
      "[16:27:39] < Detailed >  beta1          \tbeta1          \t-1.112012E+02\t-1.112012E+02\t-8.045522E-06\n",
      "[16:27:39] < Detailed >  beta1          \tbeta2          \t+2.030029E+01\t+2.030029E+01\t+7.365980E-09\n",
      "[16:27:39] < Detailed >  beta2          \tbeta1          \t+2.030029E+01\t+2.030029E+01\t-1.613879E-07\n",
      "[16:27:39] < Detailed >  beta2          \tbeta2          \t-2.603003E+02\t-2.603003E+02\t+2.229281E-05\n"
     ]
    }
   ],
   "source": [
    "f,g,h,gdiff,hdiff = myBiogeme.checkDerivatives(verbose=True)"
   ]
  },
  {
   "cell_type": "code",
   "execution_count": 23,
   "metadata": {},
   "outputs": [
    {
     "name": "stdout",
     "output_type": "stream",
     "text": [
      "f=-115.30029248549191\n",
      "g=[ -10.60058497 -139.69970751]\n",
      "h=[[-111.20116994   20.30029249]\n",
      " [  20.30029249 -260.30029249]]\n",
      "gdiff=[-5.42793187e-06  2.60800035e-05]\n",
      "hdiff=[[-8.04552172e-06  7.36597983e-09]\n",
      " [-1.61387920e-07  2.22928137e-05]]\n"
     ]
    },
    {
     "data": {
      "text/plain": [
       "array([[-8.04552172e-06,  7.36597983e-09],\n",
       "       [-1.61387920e-07,  2.22928137e-05]])"
      ]
     },
     "execution_count": 23,
     "metadata": {},
     "output_type": "execute_result"
    }
   ],
   "source": [
    "print(f'f={f}')\n",
    "print(f'g={g}')\n",
    "print(f'h={h}')\n",
    "print(f'gdiff={gdiff}')\n",
    "print(f'hdiff={hdiff}')\n",
    "hdiff"
   ]
  },
  {
   "cell_type": "markdown",
   "metadata": {},
   "source": [
    "## estimate"
   ]
  },
  {
   "cell_type": "markdown",
   "metadata": {},
   "source": [
    "During estimation, it is possible to save intermediate results, in case the estimation must be interrupted. "
   ]
  },
  {
   "cell_type": "code",
   "execution_count": 24,
   "metadata": {},
   "outputs": [
    {
     "name": "stdout",
     "output_type": "stream",
     "text": [
      "[16:27:39] < General >   Log likelihood (N=5):  -115.3003\n",
      "[16:27:39] < General >   Minimize with tol 1e-07\n",
      "[16:27:39] < General >   Log likelihood (N=5):  -115.3003 Gradient norm:      1e+02  \n",
      "[16:27:39] < General >   Log likelihood (N=5):   -1216003 Gradient norm:      5e+06  \n",
      "[16:27:39] < General >   Log likelihood (N=5):  -115.6422 Gradient norm:      1e+02  \n",
      "[16:27:39] < General >   Log likelihood (N=5):  -67.11418 Gradient norm:          3  \n",
      "[16:27:39] < General >   Log likelihood (N=5):  -67.07432 Gradient norm:          1  \n",
      "[16:27:39] < General >   Log likelihood (N=5):   -67.0655 Gradient norm:       0.06  \n",
      "[16:27:39] < General >   Log likelihood (N=5):  -67.06549 Gradient norm:      0.001  \n",
      "[16:27:39] < General >   Log likelihood (N=5):  -67.06549 Gradient norm:      3e-07  \n",
      "[16:27:39] < General >   Log likelihood (N=5):  -67.06549 Gradient norm:      3e-07 Hessian norm:       2e+02 BHHH norm:       7e+01\n",
      "[16:27:39] < General >   Re-estimate the model 10 times for bootstrapping\n",
      "[16:27:39] < General >   Minimize with tol 1e-07\n",
      "[16:27:39] < General >   Log likelihood (N=5):  -98.82682 Gradient norm:      1e+02  \n",
      "[16:27:39] < General >   Log likelihood (N=5):  -48214.22 Gradient norm:      2e+05  \n",
      "[16:27:39] < General >   Log likelihood (N=5):  -58.16108 Gradient norm:      6e+01  \n",
      "[16:27:39] < General >   Log likelihood (N=5):  -42.12986 Gradient norm:      2e+01  \n",
      "[16:27:39] < General >   Log likelihood (N=5):  -40.00331 Gradient norm:          2  \n",
      "[16:27:39] < General >   Log likelihood (N=5):  -39.97691 Gradient norm:        0.8  \n",
      "[16:27:39] < General >   Log likelihood (N=5):  -39.96982 Gradient norm:        0.3  \n",
      "[16:27:39] < General >   Log likelihood (N=5):  -39.96883 Gradient norm:      0.003  \n",
      "[16:27:39] < General >   Log likelihood (N=5):  -39.96883 Gradient norm:     0.0001  \n",
      "[16:27:39] < General >   Log likelihood (N=5):  -39.96883 Gradient norm:      3e-07  \n",
      "[16:27:39] < General >   Minimize with tol 1e-07\n",
      "[16:27:39] < General >   Log likelihood (N=5):  -127.0671 Gradient norm:      1e+02  \n",
      "[16:27:39] < General >   Log likelihood (N=5):   -1621202 Gradient norm:      7e+06  \n",
      "[16:27:39] < General >   Log likelihood (N=5):  -154.1036 Gradient norm:      2e+02  \n",
      "[16:27:39] < General >   Log likelihood (N=5):  -84.93354 Gradient norm:          5  \n",
      "[16:27:39] < General >   Log likelihood (N=5):  -84.83276 Gradient norm:          1  \n",
      "[16:27:39] < General >   Log likelihood (N=5):  -84.82673 Gradient norm:       0.03  \n",
      "[16:27:39] < General >   Log likelihood (N=5):  -84.82672 Gradient norm:      0.001  \n",
      "[16:27:39] < General >   Log likelihood (N=5):  -84.82672 Gradient norm:      5e-06  \n",
      "[16:27:39] < General >   Log likelihood (N=5):  -84.82672 Gradient norm:      6e-08  \n",
      "[16:27:39] < General >   Minimize with tol 1e-07\n",
      "[16:27:39] < General >   Log likelihood (N=5):  -115.3003 Gradient norm:      1e+02  \n",
      "[16:27:39] < General >   Log likelihood (N=5):   -1216003 Gradient norm:      5e+06  \n",
      "[16:27:39] < General >   Log likelihood (N=5):  -115.6422 Gradient norm:      1e+02  \n",
      "[16:27:39] < General >   Log likelihood (N=5):  -67.11418 Gradient norm:          3  \n",
      "[16:27:39] < General >   Log likelihood (N=5):  -67.07432 Gradient norm:          1  \n",
      "[16:27:39] < General >   Log likelihood (N=5):   -67.0655 Gradient norm:       0.06  \n",
      "[16:27:39] < General >   Log likelihood (N=5):  -67.06549 Gradient norm:      0.001  \n",
      "[16:27:39] < General >   Log likelihood (N=5):  -67.06549 Gradient norm:      3e-07  \n",
      "[16:27:39] < General >   Minimize with tol 1e-07\n",
      "[16:27:39] < General >   Log likelihood (N=5):  -117.6536 Gradient norm:      1e+02  \n",
      "[16:27:39] < General >   Log likelihood (N=5):   -1297042 Gradient norm:      6e+06  \n",
      "[16:27:39] < General >   Log likelihood (N=5):  -123.3345 Gradient norm:      1e+02  \n",
      "[16:27:39] < General >   Log likelihood (N=5):  -70.75787 Gradient norm:          3  \n",
      "[16:27:39] < General >   Log likelihood (N=5):  -70.70991 Gradient norm:          1  \n",
      "[16:27:39] < General >   Log likelihood (N=5):  -70.70227 Gradient norm:       0.05  \n",
      "[16:27:39] < General >   Log likelihood (N=5):  -70.70226 Gradient norm:      0.004  \n",
      "[16:27:39] < General >   Log likelihood (N=5):  -70.70226 Gradient norm:      7e-07  \n",
      "[16:27:39] < General >   Log likelihood (N=5):  -70.70226 Gradient norm:      2e-09  \n",
      "[16:27:39] < General >   Minimize with tol 1e-07\n",
      "[16:27:39] < General >   Log likelihood (N=5):  -122.3604 Gradient norm:      1e+02  \n",
      "[16:27:39] < General >   Log likelihood (N=5):   -1459122 Gradient norm:      6e+06  \n",
      "[16:27:39] < General >   Log likelihood (N=5):   -138.719 Gradient norm:      1e+02  \n",
      "[16:27:39] < General >   Log likelihood (N=5):  -77.92015 Gradient norm:          4  \n",
      "[16:27:39] < General >   Log likelihood (N=5):  -77.84983 Gradient norm:          1  \n",
      "[16:27:39] < General >   Log likelihood (N=5):  -77.84349 Gradient norm:       0.04  \n",
      "[16:27:39] < General >   Log likelihood (N=5):  -77.84349 Gradient norm:      0.004  \n",
      "[16:27:39] < General >   Log likelihood (N=5):  -77.84349 Gradient norm:      6e-07  \n",
      "[16:27:39] < General >   Log likelihood (N=5):  -77.84349 Gradient norm:      3e-09  \n",
      "[16:27:39] < General >   Minimize with tol 1e-07\n",
      "[16:27:39] < General >   Log likelihood (N=5):   -120.007 Gradient norm:      1e+02  \n",
      "[16:27:39] < General >   Log likelihood (N=5):   -1378082 Gradient norm:      6e+06  \n",
      "[16:27:39] < General >   Log likelihood (N=5):  -131.0268 Gradient norm:      1e+02  \n",
      "[16:27:39] < General >   Log likelihood (N=5):  -74.35888 Gradient norm:          4  \n",
      "[16:27:39] < General >   Log likelihood (N=5):  -74.30076 Gradient norm:          1  \n",
      "[16:27:39] < General >   Log likelihood (N=5):  -74.29393 Gradient norm:       0.05  \n",
      "[16:27:39] < General >   Log likelihood (N=5):  -74.29392 Gradient norm:      0.004  \n",
      "[16:27:39] < General >   Log likelihood (N=5):  -74.29392 Gradient norm:      4e-07  \n",
      "[16:27:39] < General >   Minimize with tol 1e-07\n",
      "[16:27:39] < General >   Log likelihood (N=5):  -110.5936 Gradient norm:      1e+02  \n",
      "[16:27:39] < General >   Log likelihood (N=5):  -647339.6 Gradient norm:      3e+06  \n",
      "[16:27:39] < General >   Log likelihood (N=5):  -98.89788 Gradient norm:      1e+02  \n",
      "[16:27:39] < General >   Log likelihood (N=5):  -60.49517 Gradient norm:      1e+01  \n",
      "[16:27:39] < General >   Log likelihood (N=5):   -59.6489 Gradient norm:          1  \n",
      "[16:27:39] < General >   Log likelihood (N=5):  -59.64234 Gradient norm:       0.06  \n",
      "[16:27:39] < General >   Log likelihood (N=5):  -59.64231 Gradient norm:       0.03  \n",
      "[16:27:39] < General >   Log likelihood (N=5):  -59.64231 Gradient norm:     0.0002  \n",
      "[16:27:39] < General >   Log likelihood (N=5):  -59.64231 Gradient norm:      4e-06  \n",
      "[16:27:39] < General >   Log likelihood (N=5):  -59.64231 Gradient norm:      8e-08  \n",
      "[16:27:39] < General >   Minimize with tol 1e-07\n",
      "[16:27:39] < General >   Log likelihood (N=5):  -115.3003 Gradient norm:      1e+02  \n",
      "[16:27:39] < General >   Log likelihood (N=5):   -1216003 Gradient norm:      5e+06  \n",
      "[16:27:39] < General >   Log likelihood (N=5):  -115.6422 Gradient norm:      1e+02  \n",
      "[16:27:39] < General >   Log likelihood (N=5):  -67.11418 Gradient norm:          3  \n",
      "[16:27:39] < General >   Log likelihood (N=5):  -67.07432 Gradient norm:          1  \n",
      "[16:27:39] < General >   Log likelihood (N=5):   -67.0655 Gradient norm:       0.06  \n",
      "[16:27:39] < General >   Log likelihood (N=5):  -67.06549 Gradient norm:      0.001  \n",
      "[16:27:39] < General >   Log likelihood (N=5):  -67.06549 Gradient norm:      3e-07  \n",
      "[16:27:39] < General >   Minimize with tol 1e-07\n",
      "[16:27:39] < General >   Log likelihood (N=5):  -117.6536 Gradient norm:      1e+02  \n",
      "[16:27:39] < General >   Log likelihood (N=5):   -1297042 Gradient norm:      6e+06  \n",
      "[16:27:39] < General >   Log likelihood (N=5):  -123.3345 Gradient norm:      1e+02  \n",
      "[16:27:39] < General >   Log likelihood (N=5):  -70.75787 Gradient norm:          3  \n",
      "[16:27:39] < General >   Log likelihood (N=5):  -70.70991 Gradient norm:          1  \n",
      "[16:27:39] < General >   Log likelihood (N=5):  -70.70227 Gradient norm:       0.05  \n",
      "[16:27:39] < General >   Log likelihood (N=5):  -70.70226 Gradient norm:      0.004  \n",
      "[16:27:39] < General >   Log likelihood (N=5):  -70.70226 Gradient norm:      7e-07  \n",
      "[16:27:39] < General >   Log likelihood (N=5):  -70.70226 Gradient norm:      2e-09  \n",
      "[16:27:39] < General >   Minimize with tol 1e-07\n",
      "[16:27:39] < General >   Log likelihood (N=5):  -117.6536 Gradient norm:      1e+02  \n"
     ]
    },
    {
     "name": "stdout",
     "output_type": "stream",
     "text": [
      "[16:27:39] < General >   Log likelihood (N=5):   -1297042 Gradient norm:      6e+06  \n",
      "[16:27:39] < General >   Log likelihood (N=5):  -123.3345 Gradient norm:      1e+02  \n",
      "[16:27:39] < General >   Log likelihood (N=5):  -70.75787 Gradient norm:          3  \n",
      "[16:27:39] < General >   Log likelihood (N=5):  -70.70991 Gradient norm:          1  \n",
      "[16:27:39] < General >   Log likelihood (N=5):  -70.70227 Gradient norm:       0.05  \n",
      "[16:27:39] < General >   Log likelihood (N=5):  -70.70226 Gradient norm:      0.004  \n",
      "[16:27:39] < General >   Log likelihood (N=5):  -70.70226 Gradient norm:      7e-07  \n",
      "[16:27:39] < General >   Log likelihood (N=5):  -70.70226 Gradient norm:      2e-09  \n",
      "[16:27:39] < General >   Results saved in file simpleExample~11.html\n",
      "[16:27:39] < General >   Results saved in file simpleExample~12.pickle\n"
     ]
    }
   ],
   "source": [
    "results = myBiogeme.estimate(bootstrap=10,saveIterations=True)"
   ]
  },
  {
   "cell_type": "code",
   "execution_count": 25,
   "metadata": {},
   "outputs": [
    {
     "data": {
      "text/html": [
       "<div>\n",
       "<style scoped>\n",
       "    .dataframe tbody tr th:only-of-type {\n",
       "        vertical-align: middle;\n",
       "    }\n",
       "\n",
       "    .dataframe tbody tr th {\n",
       "        vertical-align: top;\n",
       "    }\n",
       "\n",
       "    .dataframe thead th {\n",
       "        text-align: right;\n",
       "    }\n",
       "</style>\n",
       "<table border=\"1\" class=\"dataframe\">\n",
       "  <thead>\n",
       "    <tr style=\"text-align: right;\">\n",
       "      <th></th>\n",
       "      <th>Value</th>\n",
       "      <th>Std err</th>\n",
       "      <th>t-test</th>\n",
       "      <th>p-value</th>\n",
       "      <th>Rob. Std err</th>\n",
       "      <th>Rob. t-test</th>\n",
       "      <th>Rob. p-value</th>\n",
       "      <th>Bootstrap[10] Std err</th>\n",
       "      <th>Bootstrap t-test</th>\n",
       "      <th>Bootstrap p-value</th>\n",
       "    </tr>\n",
       "  </thead>\n",
       "  <tbody>\n",
       "    <tr>\n",
       "      <th>beta1</th>\n",
       "      <td>-1.273264</td>\n",
       "      <td>0.115144</td>\n",
       "      <td>-11.057997</td>\n",
       "      <td>0.0</td>\n",
       "      <td>0.013724</td>\n",
       "      <td>-92.776669</td>\n",
       "      <td>0.0</td>\n",
       "      <td>0.015274</td>\n",
       "      <td>-83.361706</td>\n",
       "      <td>0.0</td>\n",
       "    </tr>\n",
       "    <tr>\n",
       "      <th>beta2</th>\n",
       "      <td>1.248769</td>\n",
       "      <td>0.084830</td>\n",
       "      <td>14.720836</td>\n",
       "      <td>0.0</td>\n",
       "      <td>0.059086</td>\n",
       "      <td>21.134794</td>\n",
       "      <td>0.0</td>\n",
       "      <td>0.067467</td>\n",
       "      <td>18.509232</td>\n",
       "      <td>0.0</td>\n",
       "    </tr>\n",
       "  </tbody>\n",
       "</table>\n",
       "</div>"
      ],
      "text/plain": [
       "          Value   Std err     t-test  p-value  Rob. Std err  Rob. t-test  \\\n",
       "beta1 -1.273264  0.115144 -11.057997      0.0      0.013724   -92.776669   \n",
       "beta2  1.248769  0.084830  14.720836      0.0      0.059086    21.134794   \n",
       "\n",
       "       Rob. p-value  Bootstrap[10] Std err  Bootstrap t-test  \\\n",
       "beta1           0.0               0.015274        -83.361706   \n",
       "beta2           0.0               0.067467         18.509232   \n",
       "\n",
       "       Bootstrap p-value  \n",
       "beta1                0.0  \n",
       "beta2                0.0  "
      ]
     },
     "execution_count": 25,
     "metadata": {},
     "output_type": "execute_result"
    }
   ],
   "source": [
    "results.getEstimatedParameters()"
   ]
  },
  {
   "cell_type": "markdown",
   "metadata": {},
   "source": [
    "The values of the intermediate results saved can be retrieved as follows. "
   ]
  },
  {
   "cell_type": "markdown",
   "metadata": {},
   "source": [
    "Formula before"
   ]
  },
  {
   "cell_type": "code",
   "execution_count": 26,
   "metadata": {},
   "outputs": [
    {
     "data": {
      "text/plain": [
       "((((-(beta1(-1.0) ** `2`)) * Variable1) - (exp((beta2(2.0) * beta1(-1.0))) * Variable2)) - (beta2(2.0) ** `4`))"
      ]
     },
     "execution_count": 26,
     "metadata": {},
     "output_type": "execute_result"
    }
   ],
   "source": [
    "myBiogeme.loglike"
   ]
  },
  {
   "cell_type": "markdown",
   "metadata": {},
   "source": [
    "Retrieving the values"
   ]
  },
  {
   "cell_type": "code",
   "execution_count": 27,
   "metadata": {},
   "outputs": [
    {
     "name": "stdout",
     "output_type": "stream",
     "text": [
      "[16:27:39] < Detailed >  Parameter values restored from __savedIterations.txt\n"
     ]
    },
    {
     "data": {
      "text/plain": [
       "((((-(beta1(-1.269026040514541) ** `2`)) * Variable1) - (exp((beta2(1.2669668816397543) * beta1(-1.269026040514541))) * Variable2)) - (beta2(1.2669668816397543) ** `4`))"
      ]
     },
     "execution_count": 27,
     "metadata": {},
     "output_type": "execute_result"
    }
   ],
   "source": [
    "myBiogeme.loadSavedIteration()\n",
    "myBiogeme.loglike"
   ]
  },
  {
   "cell_type": "markdown",
   "metadata": {},
   "source": [
    "A file name can be given. If the file does not exist, the statement is ignored. "
   ]
  },
  {
   "cell_type": "code",
   "execution_count": 28,
   "metadata": {},
   "outputs": [
    {
     "name": "stdout",
     "output_type": "stream",
     "text": [
      "[16:27:39] < Warning >   Cannot read file fileThatDoesNotExist.txt. Statement is ignored.\n"
     ]
    }
   ],
   "source": [
    "myBiogeme.loadSavedIteration(filename='fileThatDoesNotExist.txt')"
   ]
  },
  {
   "cell_type": "markdown",
   "metadata": {},
   "source": [
    "## simulate"
   ]
  },
  {
   "cell_type": "code",
   "execution_count": 29,
   "metadata": {},
   "outputs": [
    {
     "data": {
      "text/html": [
       "<div>\n",
       "<style scoped>\n",
       "    .dataframe tbody tr th:only-of-type {\n",
       "        vertical-align: middle;\n",
       "    }\n",
       "\n",
       "    .dataframe tbody tr th {\n",
       "        vertical-align: top;\n",
       "    }\n",
       "\n",
       "    .dataframe thead th {\n",
       "        text-align: right;\n",
       "    }\n",
       "</style>\n",
       "<table border=\"1\" class=\"dataframe\">\n",
       "  <thead>\n",
       "    <tr style=\"text-align: right;\">\n",
       "      <th></th>\n",
       "      <th>loglike</th>\n",
       "      <th>beta1</th>\n",
       "      <th>simul</th>\n",
       "    </tr>\n",
       "  </thead>\n",
       "  <tbody>\n",
       "    <tr>\n",
       "      <th>0</th>\n",
       "      <td>-6.190361</td>\n",
       "      <td>-1.269026</td>\n",
       "      <td>-1.142329</td>\n",
       "    </tr>\n",
       "    <tr>\n",
       "      <th>1</th>\n",
       "      <td>-9.804039</td>\n",
       "      <td>-1.269026</td>\n",
       "      <td>-0.571165</td>\n",
       "    </tr>\n",
       "    <tr>\n",
       "      <th>2</th>\n",
       "      <td>-13.417716</td>\n",
       "      <td>-1.269026</td>\n",
       "      <td>-0.380776</td>\n",
       "    </tr>\n",
       "    <tr>\n",
       "      <th>3</th>\n",
       "      <td>-17.031394</td>\n",
       "      <td>-1.269026</td>\n",
       "      <td>-0.285582</td>\n",
       "    </tr>\n",
       "    <tr>\n",
       "      <th>4</th>\n",
       "      <td>-20.645071</td>\n",
       "      <td>-1.269026</td>\n",
       "      <td>-0.228466</td>\n",
       "    </tr>\n",
       "  </tbody>\n",
       "</table>\n",
       "</div>"
      ],
      "text/plain": [
       "     loglike     beta1     simul\n",
       "0  -6.190361 -1.269026 -1.142329\n",
       "1  -9.804039 -1.269026 -0.571165\n",
       "2 -13.417716 -1.269026 -0.380776\n",
       "3 -17.031394 -1.269026 -0.285582\n",
       "4 -20.645071 -1.269026 -0.228466"
      ]
     },
     "execution_count": 29,
     "metadata": {},
     "output_type": "execute_result"
    }
   ],
   "source": [
    "# Simulate with the default values for the parameters\n",
    "simulationWithDefaultBetas = myBiogeme.simulate()\n",
    "simulationWithDefaultBetas"
   ]
  },
  {
   "cell_type": "code",
   "execution_count": 30,
   "metadata": {},
   "outputs": [
    {
     "name": "stdout",
     "output_type": "stream",
     "text": [
      "{'beta1': -1.2732639841254711, 'beta2': 1.248768808907056}\n"
     ]
    },
    {
     "data": {
      "text/html": [
       "<div>\n",
       "<style scoped>\n",
       "    .dataframe tbody tr th:only-of-type {\n",
       "        vertical-align: middle;\n",
       "    }\n",
       "\n",
       "    .dataframe tbody tr th {\n",
       "        vertical-align: top;\n",
       "    }\n",
       "\n",
       "    .dataframe thead th {\n",
       "        text-align: right;\n",
       "    }\n",
       "</style>\n",
       "<table border=\"1\" class=\"dataframe\">\n",
       "  <thead>\n",
       "    <tr style=\"text-align: right;\">\n",
       "      <th></th>\n",
       "      <th>loglike</th>\n",
       "      <th>beta1</th>\n",
       "      <th>simul</th>\n",
       "    </tr>\n",
       "  </thead>\n",
       "  <tbody>\n",
       "    <tr>\n",
       "      <th>0</th>\n",
       "      <td>-6.092234</td>\n",
       "      <td>-1.273264</td>\n",
       "      <td>-1.148387</td>\n",
       "    </tr>\n",
       "    <tr>\n",
       "      <th>1</th>\n",
       "      <td>-9.752666</td>\n",
       "      <td>-1.273264</td>\n",
       "      <td>-0.574194</td>\n",
       "    </tr>\n",
       "    <tr>\n",
       "      <th>2</th>\n",
       "      <td>-13.413098</td>\n",
       "      <td>-1.273264</td>\n",
       "      <td>-0.382796</td>\n",
       "    </tr>\n",
       "    <tr>\n",
       "      <th>3</th>\n",
       "      <td>-17.073530</td>\n",
       "      <td>-1.273264</td>\n",
       "      <td>-0.287097</td>\n",
       "    </tr>\n",
       "    <tr>\n",
       "      <th>4</th>\n",
       "      <td>-20.733962</td>\n",
       "      <td>-1.273264</td>\n",
       "      <td>-0.229677</td>\n",
       "    </tr>\n",
       "  </tbody>\n",
       "</table>\n",
       "</div>"
      ],
      "text/plain": [
       "     loglike     beta1     simul\n",
       "0  -6.092234 -1.273264 -1.148387\n",
       "1  -9.752666 -1.273264 -0.574194\n",
       "2 -13.413098 -1.273264 -0.382796\n",
       "3 -17.073530 -1.273264 -0.287097\n",
       "4 -20.733962 -1.273264 -0.229677"
      ]
     },
     "execution_count": 30,
     "metadata": {},
     "output_type": "execute_result"
    }
   ],
   "source": [
    "# Simulate with the estimated values for the parameters\n",
    "print(results.getBetaValues())\n",
    "simulationWithEstimatedBetas = myBiogeme.simulate(results.getBetaValues())\n",
    "simulationWithEstimatedBetas"
   ]
  },
  {
   "cell_type": "markdown",
   "metadata": {},
   "source": [
    "## confidenceIntervals"
   ]
  },
  {
   "cell_type": "code",
   "execution_count": 31,
   "metadata": {},
   "outputs": [
    {
     "data": {
      "text/html": [
       "<div>\n",
       "<style scoped>\n",
       "    .dataframe tbody tr th:only-of-type {\n",
       "        vertical-align: middle;\n",
       "    }\n",
       "\n",
       "    .dataframe tbody tr th {\n",
       "        vertical-align: top;\n",
       "    }\n",
       "\n",
       "    .dataframe thead th {\n",
       "        text-align: right;\n",
       "    }\n",
       "</style>\n",
       "<table border=\"1\" class=\"dataframe\">\n",
       "  <thead>\n",
       "    <tr style=\"text-align: right;\">\n",
       "      <th></th>\n",
       "      <th>loglike</th>\n",
       "      <th>beta1</th>\n",
       "      <th>simul</th>\n",
       "    </tr>\n",
       "  </thead>\n",
       "  <tbody>\n",
       "    <tr>\n",
       "      <th>0</th>\n",
       "      <td>-6.765699</td>\n",
       "      <td>-1.293482</td>\n",
       "      <td>-1.177310</td>\n",
       "    </tr>\n",
       "    <tr>\n",
       "      <th>1</th>\n",
       "      <td>-10.168313</td>\n",
       "      <td>-1.293482</td>\n",
       "      <td>-0.588655</td>\n",
       "    </tr>\n",
       "    <tr>\n",
       "      <th>2</th>\n",
       "      <td>-13.616007</td>\n",
       "      <td>-1.293482</td>\n",
       "      <td>-0.392437</td>\n",
       "    </tr>\n",
       "    <tr>\n",
       "      <th>3</th>\n",
       "      <td>-17.415256</td>\n",
       "      <td>-1.293482</td>\n",
       "      <td>-0.294327</td>\n",
       "    </tr>\n",
       "    <tr>\n",
       "      <th>4</th>\n",
       "      <td>-21.313712</td>\n",
       "      <td>-1.293482</td>\n",
       "      <td>-0.235462</td>\n",
       "    </tr>\n",
       "  </tbody>\n",
       "</table>\n",
       "</div>"
      ],
      "text/plain": [
       "     loglike     beta1     simul\n",
       "0  -6.765699 -1.293482 -1.177310\n",
       "1 -10.168313 -1.293482 -0.588655\n",
       "2 -13.616007 -1.293482 -0.392437\n",
       "3 -17.415256 -1.293482 -0.294327\n",
       "4 -21.313712 -1.293482 -0.235462"
      ]
     },
     "execution_count": 31,
     "metadata": {},
     "output_type": "execute_result"
    }
   ],
   "source": [
    "drawsFromBetas = results.getBetasForSensitivityAnalysis(myBiogeme.freeBetaNames)\n",
    "left, right = myBiogeme.confidenceIntervals(drawsFromBetas)\n",
    "left"
   ]
  },
  {
   "cell_type": "code",
   "execution_count": 32,
   "metadata": {},
   "outputs": [
    {
     "data": {
      "text/html": [
       "<div>\n",
       "<style scoped>\n",
       "    .dataframe tbody tr th:only-of-type {\n",
       "        vertical-align: middle;\n",
       "    }\n",
       "\n",
       "    .dataframe tbody tr th {\n",
       "        vertical-align: top;\n",
       "    }\n",
       "\n",
       "    .dataframe thead th {\n",
       "        text-align: right;\n",
       "    }\n",
       "</style>\n",
       "<table border=\"1\" class=\"dataframe\">\n",
       "  <thead>\n",
       "    <tr style=\"text-align: right;\">\n",
       "      <th></th>\n",
       "      <th>loglike</th>\n",
       "      <th>beta1</th>\n",
       "      <th>simul</th>\n",
       "    </tr>\n",
       "  </thead>\n",
       "  <tbody>\n",
       "    <tr>\n",
       "      <th>0</th>\n",
       "      <td>-5.719889</td>\n",
       "      <td>-1.248774</td>\n",
       "      <td>-1.113354</td>\n",
       "    </tr>\n",
       "    <tr>\n",
       "      <th>1</th>\n",
       "      <td>-9.619631</td>\n",
       "      <td>-1.248774</td>\n",
       "      <td>-0.556677</td>\n",
       "    </tr>\n",
       "    <tr>\n",
       "      <th>2</th>\n",
       "      <td>-13.413488</td>\n",
       "      <td>-1.248774</td>\n",
       "      <td>-0.371118</td>\n",
       "    </tr>\n",
       "    <tr>\n",
       "      <th>3</th>\n",
       "      <td>-16.967995</td>\n",
       "      <td>-1.248774</td>\n",
       "      <td>-0.278338</td>\n",
       "    </tr>\n",
       "    <tr>\n",
       "      <th>4</th>\n",
       "      <td>-20.376152</td>\n",
       "      <td>-1.248774</td>\n",
       "      <td>-0.222671</td>\n",
       "    </tr>\n",
       "  </tbody>\n",
       "</table>\n",
       "</div>"
      ],
      "text/plain": [
       "     loglike     beta1     simul\n",
       "0  -5.719889 -1.248774 -1.113354\n",
       "1  -9.619631 -1.248774 -0.556677\n",
       "2 -13.413488 -1.248774 -0.371118\n",
       "3 -16.967995 -1.248774 -0.278338\n",
       "4 -20.376152 -1.248774 -0.222671"
      ]
     },
     "execution_count": 32,
     "metadata": {},
     "output_type": "execute_result"
    }
   ],
   "source": [
    "right"
   ]
  },
  {
   "cell_type": "markdown",
   "metadata": {},
   "source": [
    "## validate"
   ]
  },
  {
   "cell_type": "code",
   "execution_count": null,
   "metadata": {},
   "outputs": [],
   "source": []
  },
  {
   "cell_type": "code",
   "execution_count": null,
   "metadata": {},
   "outputs": [],
   "source": []
  },
  {
   "cell_type": "code",
   "execution_count": null,
   "metadata": {},
   "outputs": [],
   "source": []
  },
  {
   "cell_type": "code",
   "execution_count": 33,
   "metadata": {},
   "outputs": [
    {
     "ename": "TypeError",
     "evalue": "'module' object is not callable",
     "output_type": "error",
     "traceback": [
      "\u001b[0;31m---------------------------------------------------------------------------\u001b[0m",
      "\u001b[0;31mTypeError\u001b[0m                                 Traceback (most recent call last)",
      "\u001b[0;32m<ipython-input-33-ce584f04f56a>\u001b[0m in \u001b[0;36m<module>\u001b[0;34m\u001b[0m\n\u001b[0;32m----> 1\u001b[0;31m \u001b[0mvalidationResults\u001b[0m \u001b[0;34m=\u001b[0m \u001b[0mmyBiogeme\u001b[0m\u001b[0;34m.\u001b[0m\u001b[0mvalidate\u001b[0m\u001b[0;34m(\u001b[0m\u001b[0mresults\u001b[0m\u001b[0;34m,\u001b[0m \u001b[0mslices\u001b[0m \u001b[0;34m=\u001b[0m \u001b[0;36m2\u001b[0m\u001b[0;34m)\u001b[0m\u001b[0;34m\u001b[0m\u001b[0;34m\u001b[0m\u001b[0m\n\u001b[0m",
      "\u001b[0;32m~/opt/anaconda3/envs/python38/lib/python3.8/site-packages/biogeme-3.2.6a0-py3.8-macosx-10.9-x86_64.egg/biogeme/biogeme.py\u001b[0m in \u001b[0;36mvalidate\u001b[0;34m(self, estimationResults, slices)\u001b[0m\n\u001b[1;32m    691\u001b[0m         \u001b[0;32mfor\u001b[0m \u001b[0mv\u001b[0m \u001b[0;32min\u001b[0m \u001b[0mvalidationData\u001b[0m\u001b[0;34m:\u001b[0m\u001b[0;34m\u001b[0m\u001b[0;34m\u001b[0m\u001b[0m\n\u001b[1;32m    692\u001b[0m             \u001b[0;31m# v[0] is the estimation data set\u001b[0m\u001b[0;34m\u001b[0m\u001b[0;34m\u001b[0m\u001b[0;34m\u001b[0m\u001b[0m\n\u001b[0;32m--> 693\u001b[0;31m             \u001b[0mself\u001b[0m\u001b[0;34m.\u001b[0m\u001b[0mdatabase\u001b[0m \u001b[0;34m=\u001b[0m \u001b[0mdb\u001b[0m\u001b[0;34m(\u001b[0m\u001b[0;34m'Estimation data'\u001b[0m\u001b[0;34m,\u001b[0m \u001b[0mv\u001b[0m\u001b[0;34m[\u001b[0m\u001b[0;36m0\u001b[0m\u001b[0;34m]\u001b[0m\u001b[0;34m)\u001b[0m\u001b[0;34m\u001b[0m\u001b[0;34m\u001b[0m\u001b[0m\n\u001b[0m\u001b[1;32m    694\u001b[0m             \u001b[0mself\u001b[0m\u001b[0;34m.\u001b[0m\u001b[0mloglike\u001b[0m\u001b[0;34m.\u001b[0m\u001b[0mchangeInitValues\u001b[0m\u001b[0;34m(\u001b[0m\u001b[0mestimationResults\u001b[0m\u001b[0;34m.\u001b[0m\u001b[0mgetBetaValues\u001b[0m\u001b[0;34m(\u001b[0m\u001b[0;34m)\u001b[0m\u001b[0;34m)\u001b[0m\u001b[0;34m\u001b[0m\u001b[0;34m\u001b[0m\u001b[0m\n\u001b[1;32m    695\u001b[0m             \u001b[0mresults\u001b[0m \u001b[0;34m=\u001b[0m \u001b[0mself\u001b[0m\u001b[0;34m.\u001b[0m\u001b[0mestimate\u001b[0m\u001b[0;34m(\u001b[0m\u001b[0;34m)\u001b[0m\u001b[0;34m\u001b[0m\u001b[0;34m\u001b[0m\u001b[0m\n",
      "\u001b[0;31mTypeError\u001b[0m: 'module' object is not callable"
     ]
    }
   ],
   "source": [
    "validationResults = myBiogeme.validate(results, slices = 2)"
   ]
  }
 ],
 "metadata": {
  "kernelspec": {
   "display_name": "Python 3",
   "language": "python",
   "name": "python3"
  },
  "language_info": {
   "codemirror_mode": {
    "name": "ipython",
    "version": 3
   },
   "file_extension": ".py",
   "mimetype": "text/x-python",
   "name": "python",
   "nbconvert_exporter": "python",
   "pygments_lexer": "ipython3",
   "version": "3.8.0"
  }
 },
 "nbformat": 4,
 "nbformat_minor": 2
}
