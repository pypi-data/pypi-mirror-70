{
 "cells": [
  {
   "cell_type": "markdown",
   "metadata": {},
   "source": [
    "# class Database: examples of use of each function"
   ]
  },
  {
   "cell_type": "code",
   "execution_count": 1,
   "metadata": {},
   "outputs": [
    {
     "name": "stdout",
     "output_type": "stream",
     "text": [
      "biogeme 3.1.3beta [March 14, 2019]\n",
      "Version entirely written in Python\n",
      "Home page: http://biogeme.epfl.ch\n",
      "Submit questions to https://groups.google.com/d/forum/biogeme\n",
      "Michel Bierlaire, Transport and Mobility Laboratory, Ecole Polytechnique Fédérale de Lausanne (EPFL)\n",
      "\n"
     ]
    }
   ],
   "source": [
    "import biogeme.version as ver\n",
    "print(ver.getText())"
   ]
  },
  {
   "cell_type": "markdown",
   "metadata": {},
   "source": [
    "This webpage is for programmers who need examples of use of the functions of the class. The examples are designed to illustrate the syntax. They do not correspond to any meaningful model. For examples of models, visit  [biogeme.epfl.ch](http://biogeme.epfl.ch)."
   ]
  },
  {
   "cell_type": "code",
   "execution_count": 2,
   "metadata": {},
   "outputs": [],
   "source": [
    "import biogeme.database as db\n",
    "import pandas as pd\n",
    "import numpy as np\n",
    "from biogeme.expressions import *\n",
    "np.random.seed(90267) "
   ]
  },
  {
   "cell_type": "markdown",
   "metadata": {},
   "source": [
    "## Create a database from a pandas data frame"
   ]
  },
  {
   "cell_type": "code",
   "execution_count": 3,
   "metadata": {},
   "outputs": [
    {
     "name": "stdout",
     "output_type": "stream",
     "text": [
      "biogeme database test:\n",
      "   Person  Exclude  Variable1  Variable2  Choice  Av1  Av2  Av3\n",
      "0       1        0          1         10       1    0    1    0\n",
      "1       1        0          2         20       2    1    1    1\n",
      "2       1        1          3         30       3    1    1    1\n",
      "3       2        0          4         40       1    1    1    1\n",
      "4       2        1          5         50       2    1    1    1\n"
     ]
    }
   ],
   "source": [
    "df = pd.DataFrame({'Person':[1,1,1,2,2],'Exclude':[0,0,1,0,1],'Variable1':[1,2,3,4,5],'Variable2':[10,20,30,40,50],'Choice':[1,2,3,1,2],'Av1':[0,1,1,1,1],'Av2':[1,1,1,1,1],'Av3':[0,1,1,1,1]})\n",
    "myData = db.Database('test',df)\n",
    "print(myData)"
   ]
  },
  {
   "cell_type": "markdown",
   "metadata": {},
   "source": [
    "## valuesFromDatabase"
   ]
  },
  {
   "cell_type": "markdown",
   "metadata": {},
   "source": [
    "Evaluates an expression for each entry of the database.\n",
    "\n",
    "        Args:\n",
    "           expression: object of type biogeme.expressions. \n",
    "\n",
    "        Returns: \n",
    "           numpy series, long as the number of entries in the database, containing the calculated quantities."
   ]
  },
  {
   "cell_type": "code",
   "execution_count": 4,
   "metadata": {},
   "outputs": [
    {
     "name": "stdout",
     "output_type": "stream",
     "text": [
      "0    11\n",
      "1    22\n",
      "2    33\n",
      "3    44\n",
      "4    55\n",
      "dtype: int64\n"
     ]
    }
   ],
   "source": [
    "Variable1=Variable('Variable1')\n",
    "Variable2=Variable('Variable2')\n",
    "expr = Variable1 + Variable2\n",
    "result = myData.valuesFromDatabase(expr)\n",
    "print(result)"
   ]
  },
  {
   "cell_type": "markdown",
   "metadata": {},
   "source": [
    "## checkAvailabilityOfChosenAlt"
   ]
  },
  {
   "cell_type": "markdown",
   "metadata": {},
   "source": [
    "Check if the chosen alternative is available for each entry in the database.\n",
    "\n",
    "        Args: \n",
    "            avail: list of biogeme.expressions to evaluate the availability conditions for each alternative.\n",
    "            choice: biogeme.expressions to evaluate the chosen alternative.\n",
    "                \n",
    "        Returns:\n",
    "           numpy series of bool, long as the number of entries in the database, containing True is the chosen alternative is available, False otherwise.\n"
   ]
  },
  {
   "cell_type": "code",
   "execution_count": 5,
   "metadata": {},
   "outputs": [
    {
     "name": "stdout",
     "output_type": "stream",
     "text": [
      "0    False\n",
      "1     True\n",
      "2     True\n",
      "3     True\n",
      "4     True\n",
      "dtype: bool\n"
     ]
    }
   ],
   "source": [
    "Av1=Variable('Av1')\n",
    "Av2=Variable('Av2')\n",
    "Av3=Variable('Av3')\n",
    "Choice=Variable('Choice')\n",
    "avail = {1:Av1,2:Av2,3:Av3}\n",
    "result = myData.checkAvailabilityOfChosenAlt(avail,Choice)\n",
    "print(result)"
   ]
  },
  {
   "cell_type": "markdown",
   "metadata": {},
   "source": [
    "## sumFromDatabase"
   ]
  },
  {
   "cell_type": "markdown",
   "metadata": {},
   "source": [
    "Calculates the value of an expression for each entry in the database, and retturns the sum.\n",
    "\n",
    "        Args:\n",
    "            expression: object of type biogeme.expressions \n",
    "            \n",
    "        Returns:\n",
    "            Sum of the expressions over the database.\n"
   ]
  },
  {
   "cell_type": "code",
   "execution_count": 6,
   "metadata": {},
   "outputs": [
    {
     "name": "stdout",
     "output_type": "stream",
     "text": [
      "50.0\n"
     ]
    }
   ],
   "source": [
    "Variable1=Variable('Variable1')\n",
    "Variable2=Variable('Variable2')\n",
    "expression = Variable2 / Variable1\n",
    "result = myData.sumFromDatabase(expression)\n",
    "print(result)"
   ]
  },
  {
   "cell_type": "markdown",
   "metadata": {},
   "source": [
    "## Suggest scaling"
   ]
  },
  {
   "cell_type": "markdown",
   "metadata": {},
   "source": [
    "Suggest a scaling of the variables in the database \n",
    "           \n",
    "    Returns: \n",
    "\n",
    "        A Pandas dataframe where each row contains the name of\n",
    "        the variable and the suggested scale s. Ideally, the column\n",
    "        should be multiplied by s.\n"
   ]
  },
  {
   "cell_type": "code",
   "execution_count": 7,
   "metadata": {},
   "outputs": [
    {
     "data": {
      "text/html": [
       "<div>\n",
       "<style scoped>\n",
       "    .dataframe tbody tr th:only-of-type {\n",
       "        vertical-align: middle;\n",
       "    }\n",
       "\n",
       "    .dataframe tbody tr th {\n",
       "        vertical-align: top;\n",
       "    }\n",
       "\n",
       "    .dataframe thead th {\n",
       "        text-align: right;\n",
       "    }\n",
       "</style>\n",
       "<table border=\"1\" class=\"dataframe\">\n",
       "  <thead>\n",
       "    <tr style=\"text-align: right;\">\n",
       "      <th></th>\n",
       "      <th>Column</th>\n",
       "      <th>Scale</th>\n",
       "    </tr>\n",
       "  </thead>\n",
       "  <tbody>\n",
       "    <tr>\n",
       "      <th>2</th>\n",
       "      <td>Variable1</td>\n",
       "      <td>0.10</td>\n",
       "    </tr>\n",
       "    <tr>\n",
       "      <th>3</th>\n",
       "      <td>Variable2</td>\n",
       "      <td>0.01</td>\n",
       "    </tr>\n",
       "  </tbody>\n",
       "</table>\n",
       "</div>"
      ],
      "text/plain": [
       "      Column  Scale\n",
       "2  Variable1   0.10\n",
       "3  Variable2   0.01"
      ]
     },
     "execution_count": 7,
     "metadata": {},
     "output_type": "execute_result"
    }
   ],
   "source": [
    "myData.suggestScaling()"
   ]
  },
  {
   "cell_type": "markdown",
   "metadata": {},
   "source": [
    "## scaleColumn"
   ]
  },
  {
   "cell_type": "markdown",
   "metadata": {},
   "source": [
    "Divide an entire column by a scale value\n",
    "\n",
    "           Args:\n",
    "              column: name of the column\n",
    "\n",
    "              scale: value of the scale. All values of the column will\n",
    "              be multiplied by that scale.\n"
   ]
  },
  {
   "cell_type": "code",
   "execution_count": 8,
   "metadata": {},
   "outputs": [
    {
     "data": {
      "text/html": [
       "<div>\n",
       "<style scoped>\n",
       "    .dataframe tbody tr th:only-of-type {\n",
       "        vertical-align: middle;\n",
       "    }\n",
       "\n",
       "    .dataframe tbody tr th {\n",
       "        vertical-align: top;\n",
       "    }\n",
       "\n",
       "    .dataframe thead th {\n",
       "        text-align: right;\n",
       "    }\n",
       "</style>\n",
       "<table border=\"1\" class=\"dataframe\">\n",
       "  <thead>\n",
       "    <tr style=\"text-align: right;\">\n",
       "      <th></th>\n",
       "      <th>Person</th>\n",
       "      <th>Exclude</th>\n",
       "      <th>Variable1</th>\n",
       "      <th>Variable2</th>\n",
       "      <th>Choice</th>\n",
       "      <th>Av1</th>\n",
       "      <th>Av2</th>\n",
       "      <th>Av3</th>\n",
       "    </tr>\n",
       "  </thead>\n",
       "  <tbody>\n",
       "    <tr>\n",
       "      <th>0</th>\n",
       "      <td>1</td>\n",
       "      <td>0</td>\n",
       "      <td>1</td>\n",
       "      <td>10</td>\n",
       "      <td>1</td>\n",
       "      <td>0</td>\n",
       "      <td>1</td>\n",
       "      <td>0</td>\n",
       "    </tr>\n",
       "    <tr>\n",
       "      <th>1</th>\n",
       "      <td>1</td>\n",
       "      <td>0</td>\n",
       "      <td>2</td>\n",
       "      <td>20</td>\n",
       "      <td>2</td>\n",
       "      <td>1</td>\n",
       "      <td>1</td>\n",
       "      <td>1</td>\n",
       "    </tr>\n",
       "    <tr>\n",
       "      <th>2</th>\n",
       "      <td>1</td>\n",
       "      <td>1</td>\n",
       "      <td>3</td>\n",
       "      <td>30</td>\n",
       "      <td>3</td>\n",
       "      <td>1</td>\n",
       "      <td>1</td>\n",
       "      <td>1</td>\n",
       "    </tr>\n",
       "    <tr>\n",
       "      <th>3</th>\n",
       "      <td>2</td>\n",
       "      <td>0</td>\n",
       "      <td>4</td>\n",
       "      <td>40</td>\n",
       "      <td>1</td>\n",
       "      <td>1</td>\n",
       "      <td>1</td>\n",
       "      <td>1</td>\n",
       "    </tr>\n",
       "    <tr>\n",
       "      <th>4</th>\n",
       "      <td>2</td>\n",
       "      <td>1</td>\n",
       "      <td>5</td>\n",
       "      <td>50</td>\n",
       "      <td>2</td>\n",
       "      <td>1</td>\n",
       "      <td>1</td>\n",
       "      <td>1</td>\n",
       "    </tr>\n",
       "  </tbody>\n",
       "</table>\n",
       "</div>"
      ],
      "text/plain": [
       "   Person  Exclude  Variable1  Variable2  Choice  Av1  Av2  Av3\n",
       "0       1        0          1         10       1    0    1    0\n",
       "1       1        0          2         20       2    1    1    1\n",
       "2       1        1          3         30       3    1    1    1\n",
       "3       2        0          4         40       1    1    1    1\n",
       "4       2        1          5         50       2    1    1    1"
      ]
     },
     "execution_count": 8,
     "metadata": {},
     "output_type": "execute_result"
    }
   ],
   "source": [
    "myData.data"
   ]
  },
  {
   "cell_type": "code",
   "execution_count": 9,
   "metadata": {},
   "outputs": [],
   "source": [
    "myData.scaleColumn('Variable2',0.01)"
   ]
  },
  {
   "cell_type": "code",
   "execution_count": 10,
   "metadata": {},
   "outputs": [
    {
     "data": {
      "text/html": [
       "<div>\n",
       "<style scoped>\n",
       "    .dataframe tbody tr th:only-of-type {\n",
       "        vertical-align: middle;\n",
       "    }\n",
       "\n",
       "    .dataframe tbody tr th {\n",
       "        vertical-align: top;\n",
       "    }\n",
       "\n",
       "    .dataframe thead th {\n",
       "        text-align: right;\n",
       "    }\n",
       "</style>\n",
       "<table border=\"1\" class=\"dataframe\">\n",
       "  <thead>\n",
       "    <tr style=\"text-align: right;\">\n",
       "      <th></th>\n",
       "      <th>Person</th>\n",
       "      <th>Exclude</th>\n",
       "      <th>Variable1</th>\n",
       "      <th>Variable2</th>\n",
       "      <th>Choice</th>\n",
       "      <th>Av1</th>\n",
       "      <th>Av2</th>\n",
       "      <th>Av3</th>\n",
       "    </tr>\n",
       "  </thead>\n",
       "  <tbody>\n",
       "    <tr>\n",
       "      <th>0</th>\n",
       "      <td>1</td>\n",
       "      <td>0</td>\n",
       "      <td>1</td>\n",
       "      <td>0.1</td>\n",
       "      <td>1</td>\n",
       "      <td>0</td>\n",
       "      <td>1</td>\n",
       "      <td>0</td>\n",
       "    </tr>\n",
       "    <tr>\n",
       "      <th>1</th>\n",
       "      <td>1</td>\n",
       "      <td>0</td>\n",
       "      <td>2</td>\n",
       "      <td>0.2</td>\n",
       "      <td>2</td>\n",
       "      <td>1</td>\n",
       "      <td>1</td>\n",
       "      <td>1</td>\n",
       "    </tr>\n",
       "    <tr>\n",
       "      <th>2</th>\n",
       "      <td>1</td>\n",
       "      <td>1</td>\n",
       "      <td>3</td>\n",
       "      <td>0.3</td>\n",
       "      <td>3</td>\n",
       "      <td>1</td>\n",
       "      <td>1</td>\n",
       "      <td>1</td>\n",
       "    </tr>\n",
       "    <tr>\n",
       "      <th>3</th>\n",
       "      <td>2</td>\n",
       "      <td>0</td>\n",
       "      <td>4</td>\n",
       "      <td>0.4</td>\n",
       "      <td>1</td>\n",
       "      <td>1</td>\n",
       "      <td>1</td>\n",
       "      <td>1</td>\n",
       "    </tr>\n",
       "    <tr>\n",
       "      <th>4</th>\n",
       "      <td>2</td>\n",
       "      <td>1</td>\n",
       "      <td>5</td>\n",
       "      <td>0.5</td>\n",
       "      <td>2</td>\n",
       "      <td>1</td>\n",
       "      <td>1</td>\n",
       "      <td>1</td>\n",
       "    </tr>\n",
       "  </tbody>\n",
       "</table>\n",
       "</div>"
      ],
      "text/plain": [
       "   Person  Exclude  Variable1  Variable2  Choice  Av1  Av2  Av3\n",
       "0       1        0          1        0.1       1    0    1    0\n",
       "1       1        0          2        0.2       2    1    1    1\n",
       "2       1        1          3        0.3       3    1    1    1\n",
       "3       2        0          4        0.4       1    1    1    1\n",
       "4       2        1          5        0.5       2    1    1    1"
      ]
     },
     "execution_count": 10,
     "metadata": {},
     "output_type": "execute_result"
    }
   ],
   "source": [
    "myData.data"
   ]
  },
  {
   "cell_type": "markdown",
   "metadata": {},
   "source": [
    "## addColumn"
   ]
  },
  {
   "cell_type": "markdown",
   "metadata": {},
   "source": [
    "Add a new column in the database, calculated from an expression.\n",
    "\n",
    "        Args:\n",
    "           expression: object of type biogeme.expressions describing the expression to evaluate\n",
    "           column: name of the column to add.\n",
    "\n",
    "        Returns:\n",
    "           nothing\n",
    "\n",
    "        Raises:\n",
    "              ValueError: if the column name already exists."
   ]
  },
  {
   "cell_type": "code",
   "execution_count": 11,
   "metadata": {},
   "outputs": [
    {
     "name": "stdout",
     "output_type": "stream",
     "text": [
      "[0.1, 0.4, 0.8999999999999999, 1.6, 2.5]\n"
     ]
    }
   ],
   "source": [
    "Variable1=Variable('Variable1')\n",
    "Variable2=Variable('Variable2')\n",
    "expression = exp(0.5*Variable2) / Variable1\n",
    "expression = Variable2 * Variable1\n",
    "result = myData.addColumn(expression,'NewVariable')\n",
    "print(myData.data['NewVariable'].tolist())"
   ]
  },
  {
   "cell_type": "markdown",
   "metadata": {},
   "source": [
    "## count"
   ]
  },
  {
   "cell_type": "markdown",
   "metadata": {},
   "source": [
    "Counts the number of observations that have a specific value in a given column.\n",
    "\n",
    "        Args:\n",
    "            columnName: name of the column.\n",
    "            value: value that is seeked.\n",
    "\n",
    "        Returns: \n",
    "            Number of times that the value appears in the column.\n"
   ]
  },
  {
   "cell_type": "code",
   "execution_count": 12,
   "metadata": {},
   "outputs": [
    {
     "data": {
      "text/plain": [
       "3"
      ]
     },
     "execution_count": 12,
     "metadata": {},
     "output_type": "execute_result"
    }
   ],
   "source": [
    "# Count the number of entries for individual 1.\n",
    "myData.count('Person',1)"
   ]
  },
  {
   "cell_type": "markdown",
   "metadata": {},
   "source": [
    "## remove"
   ]
  },
  {
   "cell_type": "markdown",
   "metadata": {},
   "source": [
    "Removes from the database all entries such that the value of the expression is not 0. \n",
    "        \n",
    "        Args:\n",
    "           expression: object of type biogeme.expressions describing the expression to evaluate\n",
    "        Returns:\n",
    "           Nothing."
   ]
  },
  {
   "cell_type": "code",
   "execution_count": 13,
   "metadata": {},
   "outputs": [
    {
     "data": {
      "text/html": [
       "<div>\n",
       "<style scoped>\n",
       "    .dataframe tbody tr th:only-of-type {\n",
       "        vertical-align: middle;\n",
       "    }\n",
       "\n",
       "    .dataframe tbody tr th {\n",
       "        vertical-align: top;\n",
       "    }\n",
       "\n",
       "    .dataframe thead th {\n",
       "        text-align: right;\n",
       "    }\n",
       "</style>\n",
       "<table border=\"1\" class=\"dataframe\">\n",
       "  <thead>\n",
       "    <tr style=\"text-align: right;\">\n",
       "      <th></th>\n",
       "      <th>Person</th>\n",
       "      <th>Exclude</th>\n",
       "      <th>Variable1</th>\n",
       "      <th>Variable2</th>\n",
       "      <th>Choice</th>\n",
       "      <th>Av1</th>\n",
       "      <th>Av2</th>\n",
       "      <th>Av3</th>\n",
       "      <th>NewVariable</th>\n",
       "    </tr>\n",
       "  </thead>\n",
       "  <tbody>\n",
       "    <tr>\n",
       "      <th>0</th>\n",
       "      <td>1</td>\n",
       "      <td>0</td>\n",
       "      <td>1</td>\n",
       "      <td>0.1</td>\n",
       "      <td>1</td>\n",
       "      <td>0</td>\n",
       "      <td>1</td>\n",
       "      <td>0</td>\n",
       "      <td>0.1</td>\n",
       "    </tr>\n",
       "    <tr>\n",
       "      <th>1</th>\n",
       "      <td>1</td>\n",
       "      <td>0</td>\n",
       "      <td>2</td>\n",
       "      <td>0.2</td>\n",
       "      <td>2</td>\n",
       "      <td>1</td>\n",
       "      <td>1</td>\n",
       "      <td>1</td>\n",
       "      <td>0.4</td>\n",
       "    </tr>\n",
       "    <tr>\n",
       "      <th>3</th>\n",
       "      <td>2</td>\n",
       "      <td>0</td>\n",
       "      <td>4</td>\n",
       "      <td>0.4</td>\n",
       "      <td>1</td>\n",
       "      <td>1</td>\n",
       "      <td>1</td>\n",
       "      <td>1</td>\n",
       "      <td>1.6</td>\n",
       "    </tr>\n",
       "  </tbody>\n",
       "</table>\n",
       "</div>"
      ],
      "text/plain": [
       "   Person  Exclude  Variable1  Variable2  Choice  Av1  Av2  Av3  NewVariable\n",
       "0       1        0          1        0.1       1    0    1    0          0.1\n",
       "1       1        0          2        0.2       2    1    1    1          0.4\n",
       "3       2        0          4        0.4       1    1    1    1          1.6"
      ]
     },
     "execution_count": 13,
     "metadata": {},
     "output_type": "execute_result"
    }
   ],
   "source": [
    "Exclude=Variable('Exclude')\n",
    "myData.remove(Exclude)\n",
    "myData.data"
   ]
  },
  {
   "cell_type": "markdown",
   "metadata": {},
   "source": [
    "## dumpOnFile"
   ]
  },
  {
   "cell_type": "markdown",
   "metadata": {},
   "source": [
    "Dumps the database in a CSV formatted file.\n",
    "\n",
    "        Returns:  name of the file"
   ]
  },
  {
   "cell_type": "code",
   "execution_count": 14,
   "metadata": {},
   "outputs": [
    {
     "data": {
      "text/plain": [
       "'test_dumped~21.dat'"
      ]
     },
     "execution_count": 14,
     "metadata": {},
     "output_type": "execute_result"
    }
   ],
   "source": [
    "myData.dumpOnFile()"
   ]
  },
  {
   "cell_type": "code",
   "execution_count": 15,
   "metadata": {},
   "outputs": [
    {
     "name": "stdout",
     "output_type": "stream",
     "text": [
      "__rowId\tPerson\tExclude\tVariable1\tVariable2\tChoice\tAv1\tAv2\tAv3\tNewVariable\n",
      "0\t1\t0\t1\t10\t1\t0\t1\t0\t10\n",
      "1\t1\t0\t2\t20\t2\t1\t1\t1\t40\n",
      "3\t2\t0\t4\t40\t1\t1\t1\t1\t160\n"
     ]
    }
   ],
   "source": [
    "%%bash\n",
    "cat test_dumped.dat"
   ]
  },
  {
   "cell_type": "markdown",
   "metadata": {},
   "source": [
    "## generateDraws"
   ]
  },
  {
   "cell_type": "markdown",
   "metadata": {},
   "source": [
    "Generate draws for each variable.\n",
    "        \n",
    "        Args:\n",
    "             types:\n",
    "                 A dict indexed by the names of the variables,\n",
    "                 describing the types of draws. Each of them can be a\n",
    "                 native type or any type defined by the function\n",
    "                 database.setRandomNumberGenerators\n",
    "\n",
    "             names: \n",
    "                 the list of names of the variables that require draws to be generated.\n",
    "             numberOfDraws: \n",
    "                 number of draws to generate.\n",
    "\n",
    "        Returns: \n",
    "             a 3-dimensional table with draws. The 3 dimensions are\n",
    "              1. number of individuals\n",
    "              2. number of draws\n",
    "              3. number of variables\n"
   ]
  },
  {
   "cell_type": "markdown",
   "metadata": {},
   "source": [
    "List native types and their description"
   ]
  },
  {
   "cell_type": "code",
   "execution_count": 16,
   "metadata": {},
   "outputs": [
    {
     "data": {
      "text/plain": [
       "['UNIFORM: Uniform U[0,1]',\n",
       " 'UNIFORM_ANTI: Antithetic uniform U[0,1]',\n",
       " 'UNIFORM_HALTON2: Halton draws with base 2, skipping the first 10',\n",
       " 'UNIFORM_HALTON3: Halton draws with base 3, skipping the first 10',\n",
       " 'UNIFORM_HALTON5: Halton draws with base 5, skipping the first 10',\n",
       " 'UNIFORM_MLHS: Modified Latin Hypercube Sampling on [0,1]',\n",
       " 'UNIFORM_MLHS_ANTI: Antithetic Modified Latin Hypercube Sampling on [0,1]',\n",
       " 'UNIFORMSYM: Uniform U[-1,1]',\n",
       " 'UNIFORMSYM_ANTI: Antithetic uniform U[-1,1]',\n",
       " 'UNIFORMSYM_HALTON2: Halton draws on [-1,1] with base 2, skipping the first 10',\n",
       " 'UNIFORMSYM_HALTON3: Halton draws on [-1,1] with base 3, skipping the first 10',\n",
       " 'UNIFORMSYM_HALTON5: Halton draws on [-1,1] with base 5, skipping the first 10',\n",
       " 'UNIFORMSYM_MLHS: Modified Latin Hypercube Sampling on [-1,1]',\n",
       " 'UNIFORMSYM_MLHS_ANTI: Antithetic Modified Latin Hypercube Sampling on [-1,1]',\n",
       " 'NORMAL: Normal N(0,1) draws',\n",
       " 'NORMAL_ANTI: Antithetic normal draws',\n",
       " 'NORMAL_HALTON2: Normal draws from Halton base 2 sequence',\n",
       " 'NORMAL_HALTON3: Normal draws from Halton base 3 sequence',\n",
       " 'NORMAL_HALTON5: Normal draws from Halton base 5 sequence',\n",
       " 'NORMAL_MLHS: Normal draws from Modified Latin Hypercube Sampling',\n",
       " 'NORMAL_MLHS_ANTI: Antithetic normal draws from Modified Latin Hypercube Sampling']"
      ]
     },
     "execution_count": 16,
     "metadata": {},
     "output_type": "execute_result"
    }
   ],
   "source": [
    "myData.descriptionOfNativeDraws()"
   ]
  },
  {
   "cell_type": "code",
   "execution_count": 17,
   "metadata": {},
   "outputs": [
    {
     "name": "stdout",
     "output_type": "stream",
     "text": [
      "{'randomDraws1': 'NORMAL_MLHS_ANTI', 'randomDraws2': 'UNIFORM_MLHS_ANTI', 'randomDraws3': 'UNIFORMSYM_MLHS_ANTI'}\n"
     ]
    }
   ],
   "source": [
    "randomDraws1 = bioDraws('randomDraws1','NORMAL_MLHS_ANTI')\n",
    "randomDraws2 = bioDraws('randomDraws2','UNIFORM_MLHS_ANTI')\n",
    "randomDraws3 = bioDraws('randomDraws3','UNIFORMSYM_MLHS_ANTI')\n",
    "# We build an expression that involves the three random variables\n",
    "x = randomDraws1 + randomDraws2 + randomDraws3\n",
    "types = x.dictOfDraws()\n",
    "print(types)"
   ]
  },
  {
   "cell_type": "code",
   "execution_count": 18,
   "metadata": {},
   "outputs": [
    {
     "data": {
      "text/plain": [
       "array([[[-1.12573246,  0.93262683,  0.70857146],\n",
       "        [-1.92470618,  0.13390071, -0.55461327],\n",
       "        [-0.74491474,  0.71369664,  0.50241637],\n",
       "        [ 1.33576487,  0.96002502,  0.8463998 ],\n",
       "        [-0.03641225,  0.01997585,  0.25911123],\n",
       "        [ 1.12573246,  0.06737317, -0.70857146],\n",
       "        [ 1.92470618,  0.86609929,  0.55461327],\n",
       "        [ 0.74491474,  0.28630336, -0.50241637],\n",
       "        [-1.33576487,  0.03997498, -0.8463998 ],\n",
       "        [ 0.03641225,  0.98002415, -0.25911123]],\n",
       "\n",
       "       [[-0.54516235,  0.78855215,  0.04809018],\n",
       "        [-0.99629534,  0.45168533, -0.20964249],\n",
       "        [ 0.56701476,  0.27813892, -0.09528222],\n",
       "        [ 0.13318064,  0.3898702 , -0.83334911],\n",
       "        [-0.31319   ,  0.48227605,  0.93865361],\n",
       "        [ 0.54516235,  0.21144785, -0.04809018],\n",
       "        [ 0.99629534,  0.54831467,  0.20964249],\n",
       "        [-0.56701476,  0.72186108,  0.09528222],\n",
       "        [-0.13318064,  0.6101298 ,  0.83334911],\n",
       "        [ 0.31319   ,  0.51772395, -0.93865361]],\n",
       "\n",
       "       [[-0.24097234,  0.06821618, -0.67465188],\n",
       "        [ 1.06841955,  0.58471984,  0.42538689],\n",
       "        [ 0.83603143,  0.61288538, -0.4196572 ],\n",
       "        [ 0.30449664,  0.22061102,  0.11025077],\n",
       "        [ 1.5535143 ,  0.82074407, -0.95678773],\n",
       "        [ 0.24097234,  0.93178382,  0.67465188],\n",
       "        [-1.06841955,  0.41528016, -0.42538689],\n",
       "        [-0.83603143,  0.38711462,  0.4196572 ],\n",
       "        [-0.30449664,  0.77938898, -0.11025077],\n",
       "        [-1.5535143 ,  0.17925593,  0.95678773]]])"
      ]
     },
     "execution_count": 18,
     "metadata": {},
     "output_type": "execute_result"
    }
   ],
   "source": [
    "theDrawsTable = myData.generateDraws(types,\n",
    "                                     ['randomDraws1','randomDraws2','randomDraws3'],\n",
    "                                     10)\n",
    "theDrawsTable"
   ]
  },
  {
   "cell_type": "markdown",
   "metadata": {},
   "source": [
    "## setRandomNumberGenerators"
   ]
  },
  {
   "cell_type": "markdown",
   "metadata": {},
   "source": [
    "Defines user-defined random numbers generators.\n",
    "        \n",
    "        Args:\n",
    "\n",
    "           rng: a dictionary of generators. The keys of the dictionary\n",
    "           characterize the name of the generators, and must be\n",
    "           different from the pre-defined generators in Biogeme:\n",
    "           NORMAL, UNIFORM and UNIFORMSYM. The elements of the\n",
    "           dictionary are functions that take two arguments: the\n",
    "           number of series to generate (typically, the size of the\n",
    "           database), and the number of draws per series.\n",
    " \n",
    "        Returns: \n",
    "             nothing."
   ]
  },
  {
   "cell_type": "code",
   "execution_count": 19,
   "metadata": {},
   "outputs": [
    {
     "name": "stdout",
     "output_type": "stream",
     "text": [
      "[[[2.6541064  1.72040543]\n",
      "  [1.02928192 0.62725734]\n",
      "  [2.15336577 0.35541854]\n",
      "  [0.92036707 0.38330687]\n",
      "  [1.35125462 2.83842826]\n",
      "  [0.27817501 0.46249413]\n",
      "  [0.5007549  0.6961861 ]\n",
      "  [1.11902088 1.05840875]\n",
      "  [0.6539865  0.15909907]\n",
      "  [0.11955894 0.38886736]]\n",
      "\n",
      " [[0.60108954 0.40525196]\n",
      "  [3.93153651 0.35868107]\n",
      "  [4.60723253 0.18021421]\n",
      "  [1.27062239 2.2373742 ]\n",
      "  [2.73460167 1.17203962]\n",
      "  [5.61600938 1.8920716 ]\n",
      "  [2.54756523 0.07930524]\n",
      "  [0.77284243 2.56028383]\n",
      "  [5.16153268 0.59225528]\n",
      "  [0.58972275 0.67940422]]\n",
      "\n",
      " [[0.88324351 0.63497716]\n",
      "  [3.67625403 3.030641  ]\n",
      "  [2.24536739 0.70518133]\n",
      "  [0.46930501 0.67990918]\n",
      "  [4.86579395 0.4097506 ]\n",
      "  [2.14129298 0.8086017 ]\n",
      "  [0.20614091 0.06963184]\n",
      "  [0.2096891  0.02382351]\n",
      "  [1.70933977 0.78170648]\n",
      "  [0.63660909 1.83653019]]]\n"
     ]
    }
   ],
   "source": [
    "# We first define functions returning draws, given the number of observations, and the number of draws\n",
    "def logNormalDraws(sampleSize,numberOfDraws):\n",
    "    return np.exp(np.random.randn(sampleSize,numberOfDraws))\n",
    "\n",
    "def exponentialDraws(sampleSize,numberOfDraws):\n",
    "    return -1.0 * np.log(np.random.rand(sampleSize,numberOfDraws))\n",
    "\n",
    "# We associate these functions with a name\n",
    "dict = {'LOGNORMAL':(logNormalDraws,'Draws from lognormal distribution'),'EXP':(exponentialDraws,'Draws from exponential distributions')}\n",
    "myData.setRandomNumberGenerators(dict)\n",
    "\n",
    "# We can now generate draws from these distributions\n",
    "randomDraws1 = bioDraws('randomDraws1','LOGNORMAL')\n",
    "randomDraws2 = bioDraws('randomDraws2','EXP')\n",
    "x = randomDraws1 + randomDraws2\n",
    "types = x.dictOfDraws()\n",
    "theDrawsTable = myData.generateDraws(types,['randomDraws1','randomDraws2'],10)\n",
    "print(theDrawsTable)"
   ]
  },
  {
   "cell_type": "markdown",
   "metadata": {},
   "source": [
    "## sampleWithReplacement"
   ]
  },
  {
   "cell_type": "markdown",
   "metadata": {},
   "source": [
    "Extract a random sample from the database, with replacement. Useful for bootstrapping. \n",
    "        Args:\n",
    "            size: size of the sample. If None, a sample of the same size as the database will be generated.\n",
    "\n",
    "        Returns:\n",
    "            pandas dataframe with the sample.\n"
   ]
  },
  {
   "cell_type": "code",
   "execution_count": 20,
   "metadata": {},
   "outputs": [
    {
     "data": {
      "text/html": [
       "<div>\n",
       "<style scoped>\n",
       "    .dataframe tbody tr th:only-of-type {\n",
       "        vertical-align: middle;\n",
       "    }\n",
       "\n",
       "    .dataframe tbody tr th {\n",
       "        vertical-align: top;\n",
       "    }\n",
       "\n",
       "    .dataframe thead th {\n",
       "        text-align: right;\n",
       "    }\n",
       "</style>\n",
       "<table border=\"1\" class=\"dataframe\">\n",
       "  <thead>\n",
       "    <tr style=\"text-align: right;\">\n",
       "      <th></th>\n",
       "      <th>Person</th>\n",
       "      <th>Exclude</th>\n",
       "      <th>Variable1</th>\n",
       "      <th>Variable2</th>\n",
       "      <th>Choice</th>\n",
       "      <th>Av1</th>\n",
       "      <th>Av2</th>\n",
       "      <th>Av3</th>\n",
       "      <th>NewVariable</th>\n",
       "    </tr>\n",
       "  </thead>\n",
       "  <tbody>\n",
       "    <tr>\n",
       "      <th>1</th>\n",
       "      <td>1</td>\n",
       "      <td>0</td>\n",
       "      <td>2</td>\n",
       "      <td>0.2</td>\n",
       "      <td>2</td>\n",
       "      <td>1</td>\n",
       "      <td>1</td>\n",
       "      <td>1</td>\n",
       "      <td>0.4</td>\n",
       "    </tr>\n",
       "    <tr>\n",
       "      <th>0</th>\n",
       "      <td>1</td>\n",
       "      <td>0</td>\n",
       "      <td>1</td>\n",
       "      <td>0.1</td>\n",
       "      <td>1</td>\n",
       "      <td>0</td>\n",
       "      <td>1</td>\n",
       "      <td>0</td>\n",
       "      <td>0.1</td>\n",
       "    </tr>\n",
       "    <tr>\n",
       "      <th>0</th>\n",
       "      <td>1</td>\n",
       "      <td>0</td>\n",
       "      <td>1</td>\n",
       "      <td>0.1</td>\n",
       "      <td>1</td>\n",
       "      <td>0</td>\n",
       "      <td>1</td>\n",
       "      <td>0</td>\n",
       "      <td>0.1</td>\n",
       "    </tr>\n",
       "  </tbody>\n",
       "</table>\n",
       "</div>"
      ],
      "text/plain": [
       "   Person  Exclude  Variable1  Variable2  Choice  Av1  Av2  Av3  NewVariable\n",
       "1       1        0          2        0.2       2    1    1    1          0.4\n",
       "0       1        0          1        0.1       1    0    1    0          0.1\n",
       "0       1        0          1        0.1       1    0    1    0          0.1"
      ]
     },
     "execution_count": 20,
     "metadata": {},
     "output_type": "execute_result"
    }
   ],
   "source": [
    "myData.sampleWithReplacement()"
   ]
  },
  {
   "cell_type": "code",
   "execution_count": 21,
   "metadata": {},
   "outputs": [
    {
     "data": {
      "text/html": [
       "<div>\n",
       "<style scoped>\n",
       "    .dataframe tbody tr th:only-of-type {\n",
       "        vertical-align: middle;\n",
       "    }\n",
       "\n",
       "    .dataframe tbody tr th {\n",
       "        vertical-align: top;\n",
       "    }\n",
       "\n",
       "    .dataframe thead th {\n",
       "        text-align: right;\n",
       "    }\n",
       "</style>\n",
       "<table border=\"1\" class=\"dataframe\">\n",
       "  <thead>\n",
       "    <tr style=\"text-align: right;\">\n",
       "      <th></th>\n",
       "      <th>Person</th>\n",
       "      <th>Exclude</th>\n",
       "      <th>Variable1</th>\n",
       "      <th>Variable2</th>\n",
       "      <th>Choice</th>\n",
       "      <th>Av1</th>\n",
       "      <th>Av2</th>\n",
       "      <th>Av3</th>\n",
       "      <th>NewVariable</th>\n",
       "    </tr>\n",
       "  </thead>\n",
       "  <tbody>\n",
       "    <tr>\n",
       "      <th>3</th>\n",
       "      <td>2</td>\n",
       "      <td>0</td>\n",
       "      <td>4</td>\n",
       "      <td>0.4</td>\n",
       "      <td>1</td>\n",
       "      <td>1</td>\n",
       "      <td>1</td>\n",
       "      <td>1</td>\n",
       "      <td>1.6</td>\n",
       "    </tr>\n",
       "    <tr>\n",
       "      <th>3</th>\n",
       "      <td>2</td>\n",
       "      <td>0</td>\n",
       "      <td>4</td>\n",
       "      <td>0.4</td>\n",
       "      <td>1</td>\n",
       "      <td>1</td>\n",
       "      <td>1</td>\n",
       "      <td>1</td>\n",
       "      <td>1.6</td>\n",
       "    </tr>\n",
       "    <tr>\n",
       "      <th>1</th>\n",
       "      <td>1</td>\n",
       "      <td>0</td>\n",
       "      <td>2</td>\n",
       "      <td>0.2</td>\n",
       "      <td>2</td>\n",
       "      <td>1</td>\n",
       "      <td>1</td>\n",
       "      <td>1</td>\n",
       "      <td>0.4</td>\n",
       "    </tr>\n",
       "    <tr>\n",
       "      <th>3</th>\n",
       "      <td>2</td>\n",
       "      <td>0</td>\n",
       "      <td>4</td>\n",
       "      <td>0.4</td>\n",
       "      <td>1</td>\n",
       "      <td>1</td>\n",
       "      <td>1</td>\n",
       "      <td>1</td>\n",
       "      <td>1.6</td>\n",
       "    </tr>\n",
       "    <tr>\n",
       "      <th>0</th>\n",
       "      <td>1</td>\n",
       "      <td>0</td>\n",
       "      <td>1</td>\n",
       "      <td>0.1</td>\n",
       "      <td>1</td>\n",
       "      <td>0</td>\n",
       "      <td>1</td>\n",
       "      <td>0</td>\n",
       "      <td>0.1</td>\n",
       "    </tr>\n",
       "    <tr>\n",
       "      <th>0</th>\n",
       "      <td>1</td>\n",
       "      <td>0</td>\n",
       "      <td>1</td>\n",
       "      <td>0.1</td>\n",
       "      <td>1</td>\n",
       "      <td>0</td>\n",
       "      <td>1</td>\n",
       "      <td>0</td>\n",
       "      <td>0.1</td>\n",
       "    </tr>\n",
       "  </tbody>\n",
       "</table>\n",
       "</div>"
      ],
      "text/plain": [
       "   Person  Exclude  Variable1  Variable2  Choice  Av1  Av2  Av3  NewVariable\n",
       "3       2        0          4        0.4       1    1    1    1          1.6\n",
       "3       2        0          4        0.4       1    1    1    1          1.6\n",
       "1       1        0          2        0.2       2    1    1    1          0.4\n",
       "3       2        0          4        0.4       1    1    1    1          1.6\n",
       "0       1        0          1        0.1       1    0    1    0          0.1\n",
       "0       1        0          1        0.1       1    0    1    0          0.1"
      ]
     },
     "execution_count": 21,
     "metadata": {},
     "output_type": "execute_result"
    }
   ],
   "source": [
    "myData.sampleWithReplacement(6)"
   ]
  },
  {
   "cell_type": "markdown",
   "metadata": {},
   "source": [
    "## panel"
   ]
  },
  {
   "cell_type": "markdown",
   "metadata": {},
   "source": [
    "Defines the data as panel data\n",
    "\n",
    "        Args:\n",
    "           columnName: name of the columns that identifies individuals.\n"
   ]
  },
  {
   "cell_type": "code",
   "execution_count": 22,
   "metadata": {},
   "outputs": [
    {
     "data": {
      "text/plain": [
       "False"
      ]
     },
     "execution_count": 22,
     "metadata": {},
     "output_type": "execute_result"
    }
   ],
   "source": [
    "myPanelData = db.Database('test',df)\n",
    "# Data is not considered panel yet\n",
    "myPanelData.isPanel()"
   ]
  },
  {
   "cell_type": "code",
   "execution_count": 23,
   "metadata": {},
   "outputs": [
    {
     "name": "stdout",
     "output_type": "stream",
     "text": [
      "True\n",
      "biogeme database test:\n",
      "   Person  Exclude  Variable1  Variable2  Choice  Av1  Av2  Av3  NewVariable\n",
      "0       1        0          1        0.1       1    0    1    0          0.1\n",
      "1       1        0          2        0.2       2    1    1    1          0.4\n",
      "2       2        0          4        0.4       1    1    1    1          1.6\n",
      "Panel data\n",
      "   0  1\n",
      "1  0  1\n",
      "2  2  2\n"
     ]
    }
   ],
   "source": [
    "myPanelData.panel('Person')\n",
    "# Now it is panel\n",
    "print(myPanelData.isPanel())\n",
    "print(myPanelData)"
   ]
  },
  {
   "cell_type": "markdown",
   "metadata": {},
   "source": [
    "When draws are generated for panel data, a set of draws is generated per person, not per observation."
   ]
  },
  {
   "cell_type": "code",
   "execution_count": 24,
   "metadata": {},
   "outputs": [
    {
     "name": "stdout",
     "output_type": "stream",
     "text": [
      "[[[ 0.87940272  0.33333333]\n",
      "  [-0.41629853  0.66666667]\n",
      "  [-1.57792232  0.11111111]\n",
      "  [ 0.10870961  0.44444444]\n",
      "  [ 0.05140378  0.77777778]\n",
      "  [ 1.800922    0.22222222]\n",
      "  [-1.85148982  0.55555556]\n",
      "  [ 0.87938314  0.88888889]\n",
      "  [ 1.353763    0.03703704]\n",
      "  [-0.46741631  0.37037037]]\n",
      "\n",
      " [[-1.09546279  0.7037037 ]\n",
      "  [-0.09265338  0.14814815]\n",
      "  [ 1.92991243  0.48148148]\n",
      "  [-0.29388122  0.81481481]\n",
      "  [-0.49084943  0.25925926]\n",
      "  [ 0.2439256   0.59259259]\n",
      "  [ 0.42498657  0.92592593]\n",
      "  [-2.72496968  0.07407407]\n",
      "  [ 2.0755831   0.40740741]\n",
      "  [ 0.44793057  0.74074074]]]\n"
     ]
    }
   ],
   "source": [
    "randomDraws1 = bioDraws('randomDraws1','NORMAL')\n",
    "randomDraws2 = bioDraws('randomDraws2','UNIFORM_HALTON3')\n",
    "# We build an expression that involves the two random variables\n",
    "x = randomDraws1 + randomDraws2\n",
    "types = x.dictOfDraws()\n",
    "theDrawsTable = myPanelData.generateDraws(types,['randomDraws1','randomDraws2'],10)\n",
    "print(theDrawsTable)"
   ]
  },
  {
   "cell_type": "markdown",
   "metadata": {},
   "source": [
    "## getNumberOfObservations"
   ]
  },
  {
   "cell_type": "markdown",
   "metadata": {},
   "source": [
    "Reports the number of observations in the database. Note that it returns the same value, irrespectively if the database contains panel data or not.  \n",
    "\n",
    "        Returns:\n",
    "            Number of observations.\n",
    "\n",
    "        See:  getSampleSize()\n"
   ]
  },
  {
   "cell_type": "code",
   "execution_count": 25,
   "metadata": {},
   "outputs": [
    {
     "data": {
      "text/plain": [
       "3"
      ]
     },
     "execution_count": 25,
     "metadata": {},
     "output_type": "execute_result"
    }
   ],
   "source": [
    "myData.getNumberOfObservations()"
   ]
  },
  {
   "cell_type": "code",
   "execution_count": 26,
   "metadata": {},
   "outputs": [
    {
     "data": {
      "text/plain": [
       "3"
      ]
     },
     "execution_count": 26,
     "metadata": {},
     "output_type": "execute_result"
    }
   ],
   "source": [
    "myPanelData.getNumberOfObservations()"
   ]
  },
  {
   "cell_type": "markdown",
   "metadata": {},
   "source": [
    "## getSampleSize"
   ]
  },
  {
   "cell_type": "markdown",
   "metadata": {},
   "source": [
    "Reports the size of the sample. If the data is cross-sectional, it\n",
    "        is the number of observations in the database. If the data is panel,\n",
    "        it is the number of individuals.\n",
    "\n",
    "        Returns: \n",
    "           Sample size.\n",
    "\n",
    "        See: getNumberOfObservations()\n"
   ]
  },
  {
   "cell_type": "code",
   "execution_count": 27,
   "metadata": {},
   "outputs": [
    {
     "data": {
      "text/plain": [
       "3"
      ]
     },
     "execution_count": 27,
     "metadata": {},
     "output_type": "execute_result"
    }
   ],
   "source": [
    "myData.getSampleSize()"
   ]
  },
  {
   "cell_type": "code",
   "execution_count": 28,
   "metadata": {},
   "outputs": [
    {
     "data": {
      "text/plain": [
       "2"
      ]
     },
     "execution_count": 28,
     "metadata": {},
     "output_type": "execute_result"
    }
   ],
   "source": [
    "myPanelData.getSampleSize()"
   ]
  },
  {
   "cell_type": "markdown",
   "metadata": {},
   "source": [
    "## sampleIndividualMapWithReplacement"
   ]
  },
  {
   "cell_type": "markdown",
   "metadata": {},
   "source": [
    "Extract a random sample of the individual map from a panel data database, with replacement. Useful for bootstrapping. \n",
    "\n",
    "        Args:\n",
    "            size: size of the sample. If None, a sample of the same size as the database will be generated.\n",
    "\n",
    "        Returns:\n",
    "            pandas dataframe with the sample.\n"
   ]
  },
  {
   "cell_type": "code",
   "execution_count": 29,
   "metadata": {},
   "outputs": [
    {
     "data": {
      "text/html": [
       "<div>\n",
       "<style scoped>\n",
       "    .dataframe tbody tr th:only-of-type {\n",
       "        vertical-align: middle;\n",
       "    }\n",
       "\n",
       "    .dataframe tbody tr th {\n",
       "        vertical-align: top;\n",
       "    }\n",
       "\n",
       "    .dataframe thead th {\n",
       "        text-align: right;\n",
       "    }\n",
       "</style>\n",
       "<table border=\"1\" class=\"dataframe\">\n",
       "  <thead>\n",
       "    <tr style=\"text-align: right;\">\n",
       "      <th></th>\n",
       "      <th>0</th>\n",
       "      <th>1</th>\n",
       "    </tr>\n",
       "  </thead>\n",
       "  <tbody>\n",
       "    <tr>\n",
       "      <th>1</th>\n",
       "      <td>0</td>\n",
       "      <td>1</td>\n",
       "    </tr>\n",
       "    <tr>\n",
       "      <th>1</th>\n",
       "      <td>0</td>\n",
       "      <td>1</td>\n",
       "    </tr>\n",
       "    <tr>\n",
       "      <th>1</th>\n",
       "      <td>0</td>\n",
       "      <td>1</td>\n",
       "    </tr>\n",
       "    <tr>\n",
       "      <th>2</th>\n",
       "      <td>2</td>\n",
       "      <td>2</td>\n",
       "    </tr>\n",
       "    <tr>\n",
       "      <th>2</th>\n",
       "      <td>2</td>\n",
       "      <td>2</td>\n",
       "    </tr>\n",
       "    <tr>\n",
       "      <th>1</th>\n",
       "      <td>0</td>\n",
       "      <td>1</td>\n",
       "    </tr>\n",
       "    <tr>\n",
       "      <th>1</th>\n",
       "      <td>0</td>\n",
       "      <td>1</td>\n",
       "    </tr>\n",
       "    <tr>\n",
       "      <th>1</th>\n",
       "      <td>0</td>\n",
       "      <td>1</td>\n",
       "    </tr>\n",
       "    <tr>\n",
       "      <th>1</th>\n",
       "      <td>0</td>\n",
       "      <td>1</td>\n",
       "    </tr>\n",
       "    <tr>\n",
       "      <th>1</th>\n",
       "      <td>0</td>\n",
       "      <td>1</td>\n",
       "    </tr>\n",
       "  </tbody>\n",
       "</table>\n",
       "</div>"
      ],
      "text/plain": [
       "   0  1\n",
       "1  0  1\n",
       "1  0  1\n",
       "1  0  1\n",
       "2  2  2\n",
       "2  2  2\n",
       "1  0  1\n",
       "1  0  1\n",
       "1  0  1\n",
       "1  0  1\n",
       "1  0  1"
      ]
     },
     "execution_count": 29,
     "metadata": {},
     "output_type": "execute_result"
    }
   ],
   "source": [
    "myPanelData.sampleIndividualMapWithReplacement(10)"
   ]
  }
 ],
 "metadata": {
  "kernelspec": {
   "display_name": "Python 3",
   "language": "python",
   "name": "python3"
  },
  "language_info": {
   "codemirror_mode": {
    "name": "ipython",
    "version": 3
   },
   "file_extension": ".py",
   "mimetype": "text/x-python",
   "name": "python",
   "nbconvert_exporter": "python",
   "pygments_lexer": "ipython3",
   "version": "3.6.8"
  }
 },
 "nbformat": 4,
 "nbformat_minor": 2
}
