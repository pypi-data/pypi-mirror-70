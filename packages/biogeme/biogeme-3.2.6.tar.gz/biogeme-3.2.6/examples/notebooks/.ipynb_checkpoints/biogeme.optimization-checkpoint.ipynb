{
 "cells": [
  {
   "cell_type": "markdown",
   "metadata": {},
   "source": [
    "# module optimization: examples of use of each function"
   ]
  },
  {
   "cell_type": "markdown",
   "metadata": {},
   "source": [
    "This webpage is for programmers who need examples of use of the functions of the class. The examples are designed to illustrate the syntax. They do not correspond to any meaningful model. For examples of models, visit  [biogeme.epfl.ch](http://biogeme.epfl.ch)."
   ]
  },
  {
   "cell_type": "code",
   "execution_count": 1,
   "metadata": {},
   "outputs": [
    {
     "name": "stdout",
     "output_type": "stream",
     "text": [
      "2019-09-11 17:22:54.132686\n"
     ]
    }
   ],
   "source": [
    "import datetime\n",
    "print(datetime.datetime.now())"
   ]
  },
  {
   "cell_type": "code",
   "execution_count": 2,
   "metadata": {},
   "outputs": [
    {
     "name": "stdout",
     "output_type": "stream",
     "text": [
      "biogeme 3.2.1 [September 7, 2019]\n",
      "Version entirely written in Python\n",
      "Home page: http://biogeme.epfl.ch\n",
      "Submit questions to https://groups.google.com/d/forum/biogeme\n",
      "Michel Bierlaire, Transport and Mobility Laboratory, Ecole Polytechnique Fédérale de Lausanne (EPFL)\n",
      "\n"
     ]
    }
   ],
   "source": [
    "import biogeme.version as ver\n",
    "print(ver.getText())"
   ]
  },
  {
   "cell_type": "code",
   "execution_count": 3,
   "metadata": {},
   "outputs": [],
   "source": [
    "import biogeme.optimization as opt"
   ]
  },
  {
   "cell_type": "code",
   "execution_count": 4,
   "metadata": {},
   "outputs": [],
   "source": [
    "import numpy as np"
   ]
  },
  {
   "cell_type": "code",
   "execution_count": 5,
   "metadata": {},
   "outputs": [],
   "source": [
    "import biogeme.messaging as msg\n",
    "logger = msg.bioMessage()\n",
    "logger.setDetailed()"
   ]
  },
  {
   "cell_type": "markdown",
   "metadata": {},
   "source": [
    "# Modified Cholesky factorization by Schnabel and Eskow (1999)"
   ]
  },
  {
   "cell_type": "markdown",
   "metadata": {},
   "source": [
    "## Example by Eskow and Schnabel, 1991"
   ]
  },
  {
   "cell_type": "code",
   "execution_count": 6,
   "metadata": {},
   "outputs": [
    {
     "data": {
      "text/plain": [
       "array([[ 0.3571, -0.103 ,  0.0274, -0.0459],\n",
       "       [-0.103 ,  0.2525,  0.0736, -0.3845],\n",
       "       [ 0.0274,  0.0736,  0.234 , -0.2878],\n",
       "       [-0.0459, -0.3845, -0.2878,  0.5549]])"
      ]
     },
     "execution_count": 6,
     "metadata": {},
     "output_type": "execute_result"
    }
   ],
   "source": [
    "A = np.array([[0.3571,-0.1030,0.0274,-0.0459],[-0.1030,0.2525,0.0736,-0.3845],[0.0274,0.0736,0.2340,-0.2878],[-0.0459,-0.3845,-0.2878,0.5549]])\n",
    "A"
   ]
  },
  {
   "cell_type": "code",
   "execution_count": 7,
   "metadata": {},
   "outputs": [
    {
     "data": {
      "text/plain": [
       "array([[ 0.7449161 ,  0.        ,  0.        ,  0.        ],\n",
       "       [-0.06161768,  0.59439319,  0.        ,  0.        ],\n",
       "       [-0.38635223,  0.00604629,  0.46941286,  0.        ],\n",
       "       [-0.51616551, -0.22679419, -0.26511936,  0.00152451]])"
      ]
     },
     "execution_count": 7,
     "metadata": {},
     "output_type": "execute_result"
    }
   ],
   "source": [
    "L,E,P = opt.schnabelEskow(A)\n",
    "L"
   ]
  },
  {
   "cell_type": "markdown",
   "metadata": {},
   "source": [
    "The factor $L$ is such that $A + E = PLL^TP^T$. Therefore, the expression below should be the null matrix."
   ]
  },
  {
   "cell_type": "code",
   "execution_count": 8,
   "metadata": {},
   "outputs": [
    {
     "data": {
      "text/plain": [
       "array([[-5.55111512e-17, -1.38777878e-17,  0.00000000e+00,\n",
       "         0.00000000e+00],\n",
       "       [-1.38777878e-17,  5.55111512e-17,  0.00000000e+00,\n",
       "         0.00000000e+00],\n",
       "       [ 0.00000000e+00,  0.00000000e+00,  0.00000000e+00,\n",
       "         0.00000000e+00],\n",
       "       [ 0.00000000e+00,  0.00000000e+00,  0.00000000e+00,\n",
       "         0.00000000e+00]])"
      ]
     },
     "execution_count": 8,
     "metadata": {},
     "output_type": "execute_result"
    }
   ],
   "source": [
    "P @ L @ L.T @ P.T - E - A"
   ]
  },
  {
   "cell_type": "markdown",
   "metadata": {},
   "source": [
    "## Example by Schnabel and Eskow (1999)"
   ]
  },
  {
   "cell_type": "code",
   "execution_count": 9,
   "metadata": {},
   "outputs": [
    {
     "data": {
      "text/plain": [
       "array([[ 1890.3, -1705.6,  -315.8,  3000.3],\n",
       "       [-1705.6,  1538.3,   284.9, -2706.6],\n",
       "       [ -315.8,   284.9,    52.5,  -501.2],\n",
       "       [ 3000.3, -2706.6,  -501.2,  4760.8]])"
      ]
     },
     "execution_count": 9,
     "metadata": {},
     "output_type": "execute_result"
    }
   ],
   "source": [
    "A2 = np.array([[1890.3,-1705.6,-315.8,3000.3],[-1705.6,1538.3,284.9,-2706.6],[-315.8,284.9,52.5,-501.2],[3000.3,-2706.6,-501.2,4760.8]])\n",
    "A2"
   ]
  },
  {
   "cell_type": "code",
   "execution_count": 10,
   "metadata": {},
   "outputs": [
    {
     "data": {
      "text/plain": [
       "array([[ 6.89985507e+01,  0.00000000e+00,  0.00000000e+00,\n",
       "         0.00000000e+00],\n",
       "       [-7.26392069e+00,  3.19413321e-01,  0.00000000e+00,\n",
       "         0.00000000e+00],\n",
       "       [-3.92269109e+01, -1.28891153e-01,  4.44731720e-01,\n",
       "         0.00000000e+00],\n",
       "       [ 4.34835220e+01,  1.90522168e-01,  3.34584739e-01,\n",
       "         1.71484739e-03]])"
      ]
     },
     "execution_count": 10,
     "metadata": {},
     "output_type": "execute_result"
    }
   ],
   "source": [
    "L,E,P = opt.schnabelEskow(A2)\n",
    "L"
   ]
  },
  {
   "cell_type": "markdown",
   "metadata": {},
   "source": [
    "The factor $L$ is such that $A + E = PLL^TP^T$. Therefore, the expression below should be the null matrix."
   ]
  },
  {
   "cell_type": "code",
   "execution_count": 11,
   "metadata": {},
   "outputs": [
    {
     "data": {
      "text/plain": [
       "array([[ 0.00000000e+00,  0.00000000e+00,  0.00000000e+00,\n",
       "         0.00000000e+00],\n",
       "       [ 0.00000000e+00,  0.00000000e+00,  0.00000000e+00,\n",
       "         0.00000000e+00],\n",
       "       [ 0.00000000e+00,  0.00000000e+00,  0.00000000e+00,\n",
       "         0.00000000e+00],\n",
       "       [ 0.00000000e+00,  0.00000000e+00,  0.00000000e+00,\n",
       "        -9.09494702e-13]])"
      ]
     },
     "execution_count": 11,
     "metadata": {},
     "output_type": "execute_result"
    }
   ],
   "source": [
    "P @ L @ L.T @ P.T - E - A2"
   ]
  },
  {
   "cell_type": "markdown",
   "metadata": {},
   "source": [
    "# Rosenbrock problem"
   ]
  },
  {
   "cell_type": "code",
   "execution_count": 12,
   "metadata": {},
   "outputs": [],
   "source": [
    "def rosenbrock(x,hessian=False):\n",
    "    n = len(x)\n",
    "    f = sum(100.0 * (x[i+1]-x[i]**2)**2 + (1.0-x[i])**2 for i in range(n-1))\n",
    "    g = np.zeros(n)\n",
    "    for i in range(n-1):\n",
    "        g[i] = g[i] - 400 * x[i] * (x[i+1]-x[i]**2)  - 2 * (1-x[i])\n",
    "        g[i+1] = g[i+1] + 200 * (x[i+1]-x[i]**2)\n",
    "    if hessian:\n",
    "        H = np.zeros((n,n))\n",
    "        for i in range(n-1):\n",
    "            H[[i],[i]] = H[[i],[i]] - 400 * x[i+1] + 1200 * x[i]**2 + 2\n",
    "            H[[i+1],[i]] = H[[i+1],[i]] - 400 * x[i]\n",
    "            H[[i],[i+1]] = H[[i],[i+1]] - 400 * x[i]\n",
    "            H[[i+1],[i+1]] = H[[i+1],[i+1]] + 200\n",
    "        return f,g,H\n",
    "    else:\n",
    "        return f,g,None\n"
   ]
  },
  {
   "cell_type": "markdown",
   "metadata": {},
   "source": [
    "# Line search algorithm"
   ]
  },
  {
   "cell_type": "code",
   "execution_count": 13,
   "metadata": {},
   "outputs": [
    {
     "name": "stdout",
     "output_type": "stream",
     "text": [
      "alpha=0.0009765625 nfev=12\n"
     ]
    }
   ],
   "source": [
    "x = np.array([-1.5,1.5])\n",
    "def function(x):\n",
    "    f,g,h = rosenbrock(x)\n",
    "    return f,g\n",
    "f,g = function(x)\n",
    "alpha,nfev = opt.lineSearch(function,x,-g)\n",
    "print(f\"alpha={alpha} nfev={nfev}\")"
   ]
  },
  {
   "cell_type": "markdown",
   "metadata": {},
   "source": [
    "# Newton with line search"
   ]
  },
  {
   "cell_type": "code",
   "execution_count": 14,
   "metadata": {},
   "outputs": [
    {
     "data": {
      "text/plain": [
       "array([1., 1.])"
      ]
     },
     "execution_count": 14,
     "metadata": {},
     "output_type": "execute_result"
    }
   ],
   "source": [
    "x0 = np.array([-1.5,1.5])\n",
    "xstar,nit,nfev,msg = opt.newtonLineSearch(rosenbrock,x0)\n",
    "xstar"
   ]
  },
  {
   "cell_type": "code",
   "execution_count": 15,
   "metadata": {},
   "outputs": [
    {
     "name": "stdout",
     "output_type": "stream",
     "text": [
      "nit=23 nfev=79 Relative gradient = 8.914327054272941e-11 <= 6.06273418136464e-06\n"
     ]
    }
   ],
   "source": [
    "print(f\"nit={nit} nfev={nfev} {msg}\")"
   ]
  },
  {
   "cell_type": "markdown",
   "metadata": {},
   "source": [
    "# Biogeme example"
   ]
  },
  {
   "cell_type": "code",
   "execution_count": 16,
   "metadata": {},
   "outputs": [
    {
     "name": "stdout",
     "output_type": "stream",
     "text": [
      "[17:22:55] < General >   Remove 5 unused variables from the database as only 3 are used.\n",
      "simpleExample: database [test]{'loglike': bioLogLogit1:(beta1(0) * Variable1),2:(beta2(0) * Variable2),3:`0`)}\n",
      "simpleExample: database [test]{'loglike': bioLogLogit1:(beta1(0) * Variable1),2:(beta2(0) * Variable2),3:`0`)}\n"
     ]
    }
   ],
   "source": [
    "import pandas as pd\n",
    "import biogeme.biogeme as bio\n",
    "import biogeme.database as db\n",
    "from biogeme.expressions import *\n",
    "df = pd.DataFrame({'Person':[1,1,1,2,2],\n",
    "                   'Exclude':[0,0,1,0,1],\n",
    "                   'Variable1':[1,2,3,4,5],\n",
    "                   'Variable2':[10,20,30,40,50],\n",
    "                   'Choice':[1,2,3,1,2],\n",
    "                   'Av1':[0,1,1,1,1],\n",
    "                   'Av2':[1,1,1,1,1],\n",
    "                   'Av3':[0,1,1,1,1]})\n",
    "myData = db.Database('test',df)\n",
    "\n",
    "Choice=Variable('Choice')\n",
    "Variable1=Variable('Variable1')\n",
    "Variable2=Variable('Variable2')\n",
    "beta1 = Beta('beta1',0,None,None,0)\n",
    "beta2 = Beta('beta2',0,None,None,0)\n",
    "V1 = beta1 * Variable1\n",
    "V2 = beta2 * Variable2\n",
    "V3 = 0\n",
    "V ={1:V1,2:V2,3:V3}\n",
    "\n",
    "likelihood = bioLogLogit(V,av=None,choice=Choice)\n",
    "myBiogeme = bio.BIOGEME(myData,likelihood)\n",
    "myBiogeme.modelName = 'simpleExample'\n",
    "print(myBiogeme)\n"
   ]
  },
  {
   "cell_type": "markdown",
   "metadata": {},
   "source": [
    "First with the default optimization algorithm, from scipy. We include an irrelevant parameter to illustrate the warning. "
   ]
  },
  {
   "cell_type": "code",
   "execution_count": 17,
   "metadata": {},
   "outputs": [
    {
     "name": "stdout",
     "output_type": "stream",
     "text": [
      "[17:22:55] < General >   Log likelihood:  -5.493061\n",
      "[17:22:55] < General >   Minimize with tol 9.999999999999999e-05\n",
      "[17:22:55] < General >   Log likelihood:  -5.493061 Gradient norm:      2e+01\n",
      "[17:22:55] < General >   Log likelihood:  -80.00009 Gradient norm:      8e+01\n",
      "[17:22:55] < General >   Log likelihood:  -6.407938 Gradient norm:      5e+01\n",
      "[17:22:55] < General >   Log likelihood:  -5.338499 Gradient norm:          1\n",
      "[17:22:55] < General >   Log likelihood:  -5.337302 Gradient norm:          1\n",
      "[17:22:55] < General >   Log likelihood:  -5.335695 Gradient norm:          1\n",
      "[17:22:55] < General >   Log likelihood:  -5.329761 Gradient norm:          3\n",
      "[17:22:55] < General >   Log likelihood:  -5.318083 Gradient norm:          5\n",
      "[17:22:55] < General >   Log likelihood:  -5.295959 Gradient norm:          6\n",
      "[17:22:55] < General >   Log likelihood:  -5.274077 Gradient norm:          4\n",
      "[17:22:55] < General >   Log likelihood:   -5.26784 Gradient norm:          1\n",
      "[17:22:55] < General >   Log likelihood:  -5.266889 Gradient norm:        0.3\n",
      "[17:22:55] < General >   Log likelihood:    -5.2668 Gradient norm:       0.01\n",
      "[17:22:55] < General >   Log likelihood:  -5.266799 Gradient norm:      0.002\n",
      "[17:22:55] < General >   Log likelihood:  -5.266799 Gradient norm:      2e-05\n",
      "[17:22:55] < General >   Log likelihood:  -5.266799 Gradient norm:      2e-05\n",
      "[17:22:55] < General >   Results saved in file simpleExample~04.html\n",
      "[17:22:55] < General >   Results saved in file simpleExample~06.pickle\n"
     ]
    },
    {
     "name": "stderr",
     "output_type": "stream",
     "text": [
      "/Users/michelbierlaire/anaconda3/envs/python37/lib/python3.7/site-packages/biogeme-3.2.1-py3.7-macosx-10.9-x86_64.egg/biogeme/optimization.py:89: OptimizeWarning: Unknown solver options: myparam\n",
      "  results =  sc.minimize(f_and_grad,initBetas,bounds=bounds,jac=True,options=opts)\n"
     ]
    },
    {
     "data": {
      "text/html": [
       "<div>\n",
       "<style scoped>\n",
       "    .dataframe tbody tr th:only-of-type {\n",
       "        vertical-align: middle;\n",
       "    }\n",
       "\n",
       "    .dataframe tbody tr th {\n",
       "        vertical-align: top;\n",
       "    }\n",
       "\n",
       "    .dataframe thead th {\n",
       "        text-align: right;\n",
       "    }\n",
       "</style>\n",
       "<table border=\"1\" class=\"dataframe\">\n",
       "  <thead>\n",
       "    <tr style=\"text-align: right;\">\n",
       "      <th></th>\n",
       "      <th>Value</th>\n",
       "      <th>Std err</th>\n",
       "      <th>t-test</th>\n",
       "      <th>p-value</th>\n",
       "      <th>Rob. Std err</th>\n",
       "      <th>Rob. t-test</th>\n",
       "      <th>Rob. p-value</th>\n",
       "    </tr>\n",
       "  </thead>\n",
       "  <tbody>\n",
       "    <tr>\n",
       "      <th>beta1</th>\n",
       "      <td>0.144546</td>\n",
       "      <td>0.391017</td>\n",
       "      <td>0.369666</td>\n",
       "      <td>0.711632</td>\n",
       "      <td>0.366198</td>\n",
       "      <td>0.394720</td>\n",
       "      <td>0.693049</td>\n",
       "    </tr>\n",
       "    <tr>\n",
       "      <th>beta2</th>\n",
       "      <td>0.023502</td>\n",
       "      <td>0.036947</td>\n",
       "      <td>0.636086</td>\n",
       "      <td>0.524720</td>\n",
       "      <td>0.034280</td>\n",
       "      <td>0.685573</td>\n",
       "      <td>0.492982</td>\n",
       "    </tr>\n",
       "  </tbody>\n",
       "</table>\n",
       "</div>"
      ],
      "text/plain": [
       "          Value   Std err    t-test   p-value  Rob. Std err  Rob. t-test  \\\n",
       "beta1  0.144546  0.391017  0.369666  0.711632      0.366198     0.394720   \n",
       "beta2  0.023502  0.036947  0.636086  0.524720      0.034280     0.685573   \n",
       "\n",
       "       Rob. p-value  \n",
       "beta1      0.693049  \n",
       "beta2      0.492982  "
      ]
     },
     "execution_count": 17,
     "metadata": {},
     "output_type": "execute_result"
    }
   ],
   "source": [
    "\n",
    "results = myBiogeme.estimate(algoParameters={'myparam':3})\n",
    "results.getEstimatedParameters()"
   ]
  },
  {
   "cell_type": "code",
   "execution_count": 18,
   "metadata": {},
   "outputs": [
    {
     "name": "stdout",
     "output_type": "stream",
     "text": [
      "nit=12 nfev=15: b'CONVERGENCE: NORM_OF_PROJECTED_GRADIENT_<=_PGTOL'\n"
     ]
    }
   ],
   "source": [
    "print(f\"nit={results.data.numberOfIterations} nfev={results.data.numberOfFunctionEval}: {results.data.optimizationMessage}\")"
   ]
  },
  {
   "cell_type": "code",
   "execution_count": 19,
   "metadata": {},
   "outputs": [
    {
     "name": "stdout",
     "output_type": "stream",
     "text": [
      "[17:22:55] < General >   Log likelihood:  -5.493061\n",
      "[17:22:55] < General >   Log likelihood:  -5.493061 Gradient norm:      2e+01\n",
      "[17:22:55] < General >   Log likelihood:  -5.493061 Gradient norm:      2e+01\n",
      "[17:22:55] < General >   Log likelihood:  -5.271161 Gradient norm:        0.8\n",
      "[17:22:55] < General >   Log likelihood:  -5.271161 Gradient norm:        0.8\n",
      "[17:22:55] < General >   Log likelihood:  -5.271161 Gradient norm:        0.8\n",
      "[17:22:55] < General >   Log likelihood:  -5.266802 Gradient norm:       0.08\n",
      "[17:22:55] < General >   Log likelihood:  -5.266802 Gradient norm:       0.08\n",
      "[17:22:55] < General >   Log likelihood:  -5.266802 Gradient norm:       0.08\n",
      "[17:22:55] < General >   Log likelihood:  -5.266799 Gradient norm:      2e-06\n",
      "[17:22:55] < General >   Log likelihood:  -5.266799 Gradient norm:      2e-06\n",
      "[17:22:55] < General >   Log likelihood:  -5.266799 Gradient norm:      2e-06\n",
      "[17:22:55] < General >   Results saved in file simpleExample~05.html\n",
      "[17:22:55] < General >   Results saved in file simpleExample~07.pickle\n"
     ]
    },
    {
     "data": {
      "text/html": [
       "<div>\n",
       "<style scoped>\n",
       "    .dataframe tbody tr th:only-of-type {\n",
       "        vertical-align: middle;\n",
       "    }\n",
       "\n",
       "    .dataframe tbody tr th {\n",
       "        vertical-align: top;\n",
       "    }\n",
       "\n",
       "    .dataframe thead th {\n",
       "        text-align: right;\n",
       "    }\n",
       "</style>\n",
       "<table border=\"1\" class=\"dataframe\">\n",
       "  <thead>\n",
       "    <tr style=\"text-align: right;\">\n",
       "      <th></th>\n",
       "      <th>Value</th>\n",
       "      <th>Std err</th>\n",
       "      <th>t-test</th>\n",
       "      <th>p-value</th>\n",
       "      <th>Rob. Std err</th>\n",
       "      <th>Rob. t-test</th>\n",
       "      <th>Rob. p-value</th>\n",
       "    </tr>\n",
       "  </thead>\n",
       "  <tbody>\n",
       "    <tr>\n",
       "      <th>beta1</th>\n",
       "      <td>0.144545</td>\n",
       "      <td>0.391017</td>\n",
       "      <td>0.369665</td>\n",
       "      <td>0.711632</td>\n",
       "      <td>0.366198</td>\n",
       "      <td>0.394720</td>\n",
       "      <td>0.693050</td>\n",
       "    </tr>\n",
       "    <tr>\n",
       "      <th>beta2</th>\n",
       "      <td>0.023502</td>\n",
       "      <td>0.036947</td>\n",
       "      <td>0.636086</td>\n",
       "      <td>0.524720</td>\n",
       "      <td>0.034280</td>\n",
       "      <td>0.685573</td>\n",
       "      <td>0.492982</td>\n",
       "    </tr>\n",
       "  </tbody>\n",
       "</table>\n",
       "</div>"
      ],
      "text/plain": [
       "          Value   Std err    t-test   p-value  Rob. Std err  Rob. t-test  \\\n",
       "beta1  0.144545  0.391017  0.369665  0.711632      0.366198     0.394720   \n",
       "beta2  0.023502  0.036947  0.636086  0.524720      0.034280     0.685573   \n",
       "\n",
       "       Rob. p-value  \n",
       "beta1      0.693050  \n",
       "beta2      0.492982  "
      ]
     },
     "execution_count": 19,
     "metadata": {},
     "output_type": "execute_result"
    }
   ],
   "source": [
    "results = myBiogeme.estimate(algorithm=opt.newtonLineSearchForBiogeme)\n",
    "results.getEstimatedParameters()"
   ]
  },
  {
   "cell_type": "code",
   "execution_count": 20,
   "metadata": {},
   "outputs": [
    {
     "name": "stdout",
     "output_type": "stream",
     "text": [
      "nit=3 nfev=9: Relative gradient = 3.4306790844032097e-07 <= 6.06273418136464e-06\n"
     ]
    }
   ],
   "source": [
    "print(f\"nit={results.data.numberOfIterations} nfev={results.data.numberOfFunctionEval}: {results.data.optimizationMessage}\")"
   ]
  },
  {
   "cell_type": "markdown",
   "metadata": {},
   "source": [
    "Changing the requested precision\n"
   ]
  },
  {
   "cell_type": "code",
   "execution_count": 21,
   "metadata": {},
   "outputs": [
    {
     "name": "stdout",
     "output_type": "stream",
     "text": [
      "[17:22:55] < General >   Log likelihood:  -5.493061\n",
      "[17:22:55] < General >   Log likelihood:  -5.493061 Gradient norm:      2e+01\n",
      "[17:22:55] < General >   Log likelihood:  -5.493061 Gradient norm:      2e+01\n",
      "[17:22:55] < General >   Log likelihood:  -5.271161 Gradient norm:        0.8\n",
      "[17:22:55] < General >   Log likelihood:  -5.271161 Gradient norm:        0.8\n",
      "[17:22:55] < General >   Log likelihood:  -5.271161 Gradient norm:        0.8\n",
      "[17:22:55] < General >   Log likelihood:  -5.266802 Gradient norm:       0.08\n",
      "[17:22:55] < General >   Log likelihood:  -5.266802 Gradient norm:       0.08\n",
      "[17:22:55] < General >   Log likelihood:  -5.266802 Gradient norm:       0.08\n",
      "[17:22:55] < General >   Results saved in file simpleExample~06.html\n",
      "[17:22:55] < General >   Results saved in file simpleExample~08.pickle\n"
     ]
    },
    {
     "data": {
      "text/html": [
       "<div>\n",
       "<style scoped>\n",
       "    .dataframe tbody tr th:only-of-type {\n",
       "        vertical-align: middle;\n",
       "    }\n",
       "\n",
       "    .dataframe tbody tr th {\n",
       "        vertical-align: top;\n",
       "    }\n",
       "\n",
       "    .dataframe thead th {\n",
       "        text-align: right;\n",
       "    }\n",
       "</style>\n",
       "<table border=\"1\" class=\"dataframe\">\n",
       "  <thead>\n",
       "    <tr style=\"text-align: right;\">\n",
       "      <th></th>\n",
       "      <th>Value</th>\n",
       "      <th>Std err</th>\n",
       "      <th>t-test</th>\n",
       "      <th>p-value</th>\n",
       "      <th>Rob. Std err</th>\n",
       "      <th>Rob. t-test</th>\n",
       "      <th>Rob. p-value</th>\n",
       "    </tr>\n",
       "  </thead>\n",
       "  <tbody>\n",
       "    <tr>\n",
       "      <th>beta1</th>\n",
       "      <td>0.144317</td>\n",
       "      <td>0.390742</td>\n",
       "      <td>0.369340</td>\n",
       "      <td>0.711874</td>\n",
       "      <td>0.365691</td>\n",
       "      <td>0.394641</td>\n",
       "      <td>0.693108</td>\n",
       "    </tr>\n",
       "    <tr>\n",
       "      <th>beta2</th>\n",
       "      <td>0.023428</td>\n",
       "      <td>0.036930</td>\n",
       "      <td>0.634377</td>\n",
       "      <td>0.525835</td>\n",
       "      <td>0.034256</td>\n",
       "      <td>0.683887</td>\n",
       "      <td>0.494047</td>\n",
       "    </tr>\n",
       "  </tbody>\n",
       "</table>\n",
       "</div>"
      ],
      "text/plain": [
       "          Value   Std err    t-test   p-value  Rob. Std err  Rob. t-test  \\\n",
       "beta1  0.144317  0.390742  0.369340  0.711874      0.365691     0.394641   \n",
       "beta2  0.023428  0.036930  0.634377  0.525835      0.034256     0.683887   \n",
       "\n",
       "       Rob. p-value  \n",
       "beta1      0.693108  \n",
       "beta2      0.494047  "
      ]
     },
     "execution_count": 21,
     "metadata": {},
     "output_type": "execute_result"
    }
   ],
   "source": [
    "results = myBiogeme.estimate(algorithm=opt.newtonLineSearchForBiogeme,algoParameters = {'tolerance': 0.1})\n",
    "results.getEstimatedParameters()"
   ]
  },
  {
   "cell_type": "code",
   "execution_count": 22,
   "metadata": {},
   "outputs": [
    {
     "name": "stdout",
     "output_type": "stream",
     "text": [
      "nit=2 nfev=6: Relative gradient = 0.015380029144199428 <= 0.1\n"
     ]
    }
   ],
   "source": [
    "print(f\"nit={results.data.numberOfIterations} nfev={results.data.numberOfFunctionEval}: {results.data.optimizationMessage}\")"
   ]
  },
  {
   "cell_type": "markdown",
   "metadata": {},
   "source": [
    "CFSQP algorithm"
   ]
  },
  {
   "cell_type": "code",
   "execution_count": 23,
   "metadata": {},
   "outputs": [
    {
     "name": "stdout",
     "output_type": "stream",
     "text": [
      "[17:22:55] < General >   Log likelihood:  -5.493061\n",
      "[17:22:55] < General >   Log likelihood:  -5.266799 Gradient norm:     0.0003\n",
      "[17:22:55] < General >   Results saved in file simpleExample~07.html\n",
      "[17:22:55] < General >   Results saved in file simpleExample~09.pickle\n"
     ]
    },
    {
     "data": {
      "text/html": [
       "<div>\n",
       "<style scoped>\n",
       "    .dataframe tbody tr th:only-of-type {\n",
       "        vertical-align: middle;\n",
       "    }\n",
       "\n",
       "    .dataframe tbody tr th {\n",
       "        vertical-align: top;\n",
       "    }\n",
       "\n",
       "    .dataframe thead th {\n",
       "        text-align: right;\n",
       "    }\n",
       "</style>\n",
       "<table border=\"1\" class=\"dataframe\">\n",
       "  <thead>\n",
       "    <tr style=\"text-align: right;\">\n",
       "      <th></th>\n",
       "      <th>Value</th>\n",
       "      <th>Std err</th>\n",
       "      <th>t-test</th>\n",
       "      <th>p-value</th>\n",
       "      <th>Rob. Std err</th>\n",
       "      <th>Rob. t-test</th>\n",
       "      <th>Rob. p-value</th>\n",
       "    </tr>\n",
       "  </thead>\n",
       "  <tbody>\n",
       "    <tr>\n",
       "      <th>beta1</th>\n",
       "      <td>0.144544</td>\n",
       "      <td>0.391018</td>\n",
       "      <td>0.369661</td>\n",
       "      <td>0.711635</td>\n",
       "      <td>0.366199</td>\n",
       "      <td>0.394714</td>\n",
       "      <td>0.693054</td>\n",
       "    </tr>\n",
       "    <tr>\n",
       "      <th>beta2</th>\n",
       "      <td>0.023502</td>\n",
       "      <td>0.036947</td>\n",
       "      <td>0.636090</td>\n",
       "      <td>0.524718</td>\n",
       "      <td>0.034280</td>\n",
       "      <td>0.685578</td>\n",
       "      <td>0.492979</td>\n",
       "    </tr>\n",
       "  </tbody>\n",
       "</table>\n",
       "</div>"
      ],
      "text/plain": [
       "          Value   Std err    t-test   p-value  Rob. Std err  Rob. t-test  \\\n",
       "beta1  0.144544  0.391018  0.369661  0.711635      0.366199     0.394714   \n",
       "beta2  0.023502  0.036947  0.636090  0.524718      0.034280     0.685578   \n",
       "\n",
       "       Rob. p-value  \n",
       "beta1      0.693054  \n",
       "beta2      0.492979  "
      ]
     },
     "execution_count": 23,
     "metadata": {},
     "output_type": "execute_result"
    }
   ],
   "source": [
    "results = myBiogeme.estimate(algorithm=None)\n",
    "results.getEstimatedParameters()"
   ]
  },
  {
   "cell_type": "code",
   "execution_count": 24,
   "metadata": {},
   "outputs": [
    {
     "name": "stdout",
     "output_type": "stream",
     "text": [
      "nit=7 nfev=20: b'Normal termination. Obj: 6.05545e-06 Const: 6.05545e-06'\n"
     ]
    }
   ],
   "source": [
    "print(f\"nit={results.data.numberOfIterations} nfev={results.data.numberOfFunctionEval}: {results.data.optimizationMessage}\")"
   ]
  },
  {
   "cell_type": "markdown",
   "metadata": {},
   "source": [
    "# Newton with trust region"
   ]
  },
  {
   "cell_type": "code",
   "execution_count": 25,
   "metadata": {},
   "outputs": [
    {
     "name": "stdout",
     "output_type": "stream",
     "text": [
      "[17:22:55] < Detailed >  f=    6.1675 relgrad=   1.2 delta= 2e+02 ++\n",
      "[17:22:55] < Detailed >  f=    6.1675 relgrad=   1.2 delta=   3.7 -\n",
      "[17:22:55] < Detailed >  f=    6.1675 relgrad=   1.2 delta=   1.8 -\n",
      "[17:22:55] < Detailed >  f=    6.1675 relgrad=   1.2 delta=  0.92 -\n",
      "[17:22:55] < Detailed >  f=  5.433107 relgrad=   9.3 delta=  0.92 +\n",
      "[17:22:55] < Detailed >  f=  4.266973 relgrad=   2.7 delta=   1.8 ++\n",
      "[17:22:55] < Detailed >  f=  4.266973 relgrad=   2.7 delta=  0.56 -\n",
      "[17:22:55] < Detailed >  f=  3.606177 relgrad=   6.1 delta=  0.56 +\n",
      "[17:22:55] < Detailed >  f=  2.820959 relgrad=   3.2 delta=   1.1 ++\n",
      "[17:22:55] < Detailed >  f=  2.783838 relgrad=     7 delta=   1.1 +\n",
      "[17:22:55] < Detailed >  f=  1.658737 relgrad=   1.9 delta=   2.2 ++\n",
      "[17:22:55] < Detailed >  f=  1.658737 relgrad=   1.9 delta=   0.4 -\n",
      "[17:22:55] < Detailed >  f=  1.658737 relgrad=   1.9 delta=   0.2 -\n",
      "[17:22:55] < Detailed >  f=  1.272544 relgrad=   3.2 delta=   0.4 ++\n",
      "[17:22:55] < Detailed >  f=  1.018202 relgrad=   9.3 delta=   0.4 +\n",
      "[17:22:55] < Detailed >  f= 0.6558529 relgrad=   2.2 delta=  0.79 ++\n",
      "[17:22:55] < Detailed >  f= 0.6558529 relgrad=   2.2 delta=  0.18 -\n",
      "[17:22:55] < Detailed >  f= 0.4644766 relgrad=     7 delta=  0.35 ++\n",
      "[17:22:55] < Detailed >  f= 0.2968939 relgrad=   4.6 delta=  0.71 ++\n",
      "[17:22:55] < Detailed >  f= 0.1855262 relgrad=   5.8 delta=   1.4 ++\n",
      "[17:22:55] < Detailed >  f=0.09881178 relgrad=   2.3 delta=   2.8 ++\n",
      "[17:22:55] < Detailed >  f=0.05800672 relgrad=   7.9 delta=   5.7 ++\n",
      "[17:22:55] < Detailed >  f=0.01907516 relgrad=  0.58 delta=    11 ++\n",
      "[17:22:55] < Detailed >  f= 0.0114917 relgrad=   6.1 delta=    11 +\n",
      "[17:22:55] < Detailed >  f=0.0005979128 relgrad= 0.047 delta=    23 ++\n",
      "[17:22:55] < Detailed >  f=3.210182e-05 relgrad=  0.36 delta=    45 ++\n",
      "[17:22:55] < Detailed >  f=4.95668e-09 relgrad=0.00013 delta=    91 ++\n",
      "[17:22:55] < Detailed >  f=2.471163e-15 relgrad=3.1e-06 delta=1.8e+02 ++\n"
     ]
    },
    {
     "data": {
      "text/plain": [
       "array([0.99999999, 0.99999998])"
      ]
     },
     "execution_count": 25,
     "metadata": {},
     "output_type": "execute_result"
    }
   ],
   "source": [
    "x0 = np.array([-1.5,1.5])\n",
    "xstar,nit,nfev,msg = opt.newtonTrustRegion(rosenbrock,x0)\n",
    "xstar"
   ]
  },
  {
   "cell_type": "code",
   "execution_count": 26,
   "metadata": {},
   "outputs": [
    {
     "name": "stdout",
     "output_type": "stream",
     "text": [
      "nit=28 nfev=28 Relative gradient = 3.1444351059358915e-06 <= 6.06273418136464e-06\n"
     ]
    }
   ],
   "source": [
    "print(f\"nit={nit} nfev={nfev} {msg}\")"
   ]
  },
  {
   "cell_type": "markdown",
   "metadata": {},
   "source": [
    "# Biogeme example"
   ]
  },
  {
   "cell_type": "code",
   "execution_count": 27,
   "metadata": {},
   "outputs": [
    {
     "name": "stdout",
     "output_type": "stream",
     "text": [
      "[17:22:55] < General >   Remove 0 unused variables from the database as only 3 are used.\n"
     ]
    }
   ],
   "source": [
    "trBiogeme = bio.BIOGEME(myData,likelihood)"
   ]
  },
  {
   "cell_type": "code",
   "execution_count": 28,
   "metadata": {},
   "outputs": [
    {
     "name": "stdout",
     "output_type": "stream",
     "text": [
      "[17:22:55] < General >   Log likelihood:  -5.493061\n",
      "[17:22:55] < General >   Log likelihood:  -5.493061 Gradient norm:      2e+01\n",
      "[17:22:55] < General >   Log likelihood:  -5.271161 Gradient norm:        0.8\n",
      "[17:22:55] < Detailed >  f=  5.271161 relgrad=  0.14 delta= 2e+02 ++\n",
      "[17:22:55] < General >   Log likelihood:  -5.266802 Gradient norm:       0.08\n",
      "[17:22:55] < Detailed >  f=  5.266802 relgrad= 0.015 delta= 4e+02 ++\n",
      "[17:22:55] < General >   Log likelihood:  -5.266799 Gradient norm:      2e-06\n",
      "[17:22:55] < Detailed >  f=  5.266799 relgrad=3.4e-07 delta= 8e+02 ++\n",
      "[17:22:55] < General >   Log likelihood:  -5.266799 Gradient norm:      2e-06\n",
      "[17:22:55] < General >   Results saved in file biogemeModelDefaultName.html\n",
      "[17:22:55] < General >   Results saved in file biogemeModelDefaultName.pickle\n"
     ]
    },
    {
     "data": {
      "text/html": [
       "<div>\n",
       "<style scoped>\n",
       "    .dataframe tbody tr th:only-of-type {\n",
       "        vertical-align: middle;\n",
       "    }\n",
       "\n",
       "    .dataframe tbody tr th {\n",
       "        vertical-align: top;\n",
       "    }\n",
       "\n",
       "    .dataframe thead th {\n",
       "        text-align: right;\n",
       "    }\n",
       "</style>\n",
       "<table border=\"1\" class=\"dataframe\">\n",
       "  <thead>\n",
       "    <tr style=\"text-align: right;\">\n",
       "      <th></th>\n",
       "      <th>Value</th>\n",
       "      <th>Std err</th>\n",
       "      <th>t-test</th>\n",
       "      <th>p-value</th>\n",
       "      <th>Rob. Std err</th>\n",
       "      <th>Rob. t-test</th>\n",
       "      <th>Rob. p-value</th>\n",
       "    </tr>\n",
       "  </thead>\n",
       "  <tbody>\n",
       "    <tr>\n",
       "      <th>beta1</th>\n",
       "      <td>0.144545</td>\n",
       "      <td>0.391017</td>\n",
       "      <td>0.369665</td>\n",
       "      <td>0.711632</td>\n",
       "      <td>0.366198</td>\n",
       "      <td>0.394720</td>\n",
       "      <td>0.693050</td>\n",
       "    </tr>\n",
       "    <tr>\n",
       "      <th>beta2</th>\n",
       "      <td>0.023502</td>\n",
       "      <td>0.036947</td>\n",
       "      <td>0.636086</td>\n",
       "      <td>0.524720</td>\n",
       "      <td>0.034280</td>\n",
       "      <td>0.685573</td>\n",
       "      <td>0.492982</td>\n",
       "    </tr>\n",
       "  </tbody>\n",
       "</table>\n",
       "</div>"
      ],
      "text/plain": [
       "          Value   Std err    t-test   p-value  Rob. Std err  Rob. t-test  \\\n",
       "beta1  0.144545  0.391017  0.369665  0.711632      0.366198     0.394720   \n",
       "beta2  0.023502  0.036947  0.636086  0.524720      0.034280     0.685573   \n",
       "\n",
       "       Rob. p-value  \n",
       "beta1      0.693050  \n",
       "beta2      0.492982  "
      ]
     },
     "execution_count": 28,
     "metadata": {},
     "output_type": "execute_result"
    }
   ],
   "source": [
    "results = trBiogeme.estimate(algorithm=opt.newtonTrustRegionForBiogeme)\n",
    "results.getEstimatedParameters()"
   ]
  },
  {
   "cell_type": "code",
   "execution_count": 29,
   "metadata": {},
   "outputs": [
    {
     "name": "stdout",
     "output_type": "stream",
     "text": [
      "nit=3 nfev=3: Relative gradient = 3.4306790844032097e-07 <= 6.06273418136464e-06\n"
     ]
    }
   ],
   "source": [
    "print(f\"nit={results.data.numberOfIterations} nfev={results.data.numberOfFunctionEval}: {results.data.optimizationMessage}\")"
   ]
  },
  {
   "cell_type": "markdown",
   "metadata": {},
   "source": [
    "We illustrate the parameters. We use the truncated conjugate gradient instead of dogleg for the trust region subproblem, starting with a small trust region of radius 0.001, and a maximum of 3 iterations."
   ]
  },
  {
   "cell_type": "code",
   "execution_count": 30,
   "metadata": {},
   "outputs": [
    {
     "name": "stdout",
     "output_type": "stream",
     "text": [
      "[17:22:55] < General >   Log likelihood:  -5.493061\n",
      "[17:22:55] < General >   Log likelihood:  -5.493061 Gradient norm:      2e+01\n",
      "[17:22:55] < General >   Log likelihood:  -5.473675 Gradient norm:      2e+01\n",
      "[17:22:55] < Detailed >  f=  5.473675 relgrad=   3.4 delta= 0.002 ++\n",
      "[17:22:55] < General >   Log likelihood:  -5.438633 Gradient norm:      2e+01\n",
      "[17:22:55] < Detailed >  f=  5.438633 relgrad=     3 delta= 0.004 ++\n",
      "[17:22:55] < General >   Log likelihood:  -5.383858 Gradient norm:      1e+01\n",
      "[17:22:55] < Detailed >  f=  5.383858 relgrad=   2.1 delta= 0.008 ++\n",
      "[17:22:55] < General >   Log likelihood:  -5.383858 Gradient norm:      1e+01\n",
      "[17:22:55] < General >   Results saved in file biogemeModelDefaultName~00.html\n",
      "[17:22:55] < General >   Results saved in file biogemeModelDefaultName~00.pickle\n"
     ]
    },
    {
     "data": {
      "text/html": [
       "<div>\n",
       "<style scoped>\n",
       "    .dataframe tbody tr th:only-of-type {\n",
       "        vertical-align: middle;\n",
       "    }\n",
       "\n",
       "    .dataframe tbody tr th {\n",
       "        vertical-align: top;\n",
       "    }\n",
       "\n",
       "    .dataframe thead th {\n",
       "        text-align: right;\n",
       "    }\n",
       "</style>\n",
       "<table border=\"1\" class=\"dataframe\">\n",
       "  <thead>\n",
       "    <tr style=\"text-align: right;\">\n",
       "      <th></th>\n",
       "      <th>Value</th>\n",
       "      <th>Std err</th>\n",
       "      <th>t-test</th>\n",
       "      <th>p-value</th>\n",
       "      <th>Rob. Std err</th>\n",
       "      <th>Rob. t-test</th>\n",
       "      <th>Rob. p-value</th>\n",
       "    </tr>\n",
       "  </thead>\n",
       "  <tbody>\n",
       "    <tr>\n",
       "      <th>beta1</th>\n",
       "      <td>0.000053</td>\n",
       "      <td>0.348093</td>\n",
       "      <td>0.000151</td>\n",
       "      <td>0.99988</td>\n",
       "      <td>0.308910</td>\n",
       "      <td>0.000170</td>\n",
       "      <td>0.999864</td>\n",
       "    </tr>\n",
       "    <tr>\n",
       "      <th>beta2</th>\n",
       "      <td>0.007000</td>\n",
       "      <td>0.032583</td>\n",
       "      <td>0.214830</td>\n",
       "      <td>0.82990</td>\n",
       "      <td>0.030019</td>\n",
       "      <td>0.233173</td>\n",
       "      <td>0.815627</td>\n",
       "    </tr>\n",
       "  </tbody>\n",
       "</table>\n",
       "</div>"
      ],
      "text/plain": [
       "          Value   Std err    t-test  p-value  Rob. Std err  Rob. t-test  \\\n",
       "beta1  0.000053  0.348093  0.000151  0.99988      0.308910     0.000170   \n",
       "beta2  0.007000  0.032583  0.214830  0.82990      0.030019     0.233173   \n",
       "\n",
       "       Rob. p-value  \n",
       "beta1      0.999864  \n",
       "beta2      0.815627  "
      ]
     },
     "execution_count": 30,
     "metadata": {},
     "output_type": "execute_result"
    }
   ],
   "source": [
    "results = trBiogeme.estimate(algorithm=opt.newtonTrustRegionForBiogeme,algoParameters={'dogleg':False,'radius':0.001,'maxiter':3})\n",
    "results.getEstimatedParameters()"
   ]
  },
  {
   "cell_type": "code",
   "execution_count": 31,
   "metadata": {},
   "outputs": [
    {
     "name": "stdout",
     "output_type": "stream",
     "text": [
      "nit=3 nfev=3: Maximum number of iterations reached: 3\n"
     ]
    }
   ],
   "source": [
    "print(f\"nit={results.data.numberOfIterations} nfev={results.data.numberOfFunctionEval}: {results.data.optimizationMessage}\")"
   ]
  },
  {
   "cell_type": "markdown",
   "metadata": {},
   "source": [
    "Changing the requested precision\n"
   ]
  },
  {
   "cell_type": "code",
   "execution_count": 32,
   "metadata": {},
   "outputs": [
    {
     "name": "stdout",
     "output_type": "stream",
     "text": [
      "[17:22:55] < General >   Log likelihood:  -5.493061\n",
      "[17:22:55] < General >   Log likelihood:  -5.493061 Gradient norm:      2e+01\n",
      "[17:22:55] < General >   Log likelihood:  -5.271161 Gradient norm:        0.8\n",
      "[17:22:55] < Detailed >  f=  5.271161 relgrad=  0.14 delta= 2e+02 ++\n",
      "[17:22:55] < General >   Log likelihood:  -5.266802 Gradient norm:       0.08\n",
      "[17:22:55] < Detailed >  f=  5.266802 relgrad= 0.015 delta= 4e+02 ++\n",
      "[17:22:55] < General >   Log likelihood:  -5.266802 Gradient norm:       0.08\n",
      "[17:22:55] < General >   Results saved in file biogemeModelDefaultName~01.html\n",
      "[17:22:55] < General >   Results saved in file biogemeModelDefaultName~01.pickle\n"
     ]
    },
    {
     "data": {
      "text/html": [
       "<div>\n",
       "<style scoped>\n",
       "    .dataframe tbody tr th:only-of-type {\n",
       "        vertical-align: middle;\n",
       "    }\n",
       "\n",
       "    .dataframe tbody tr th {\n",
       "        vertical-align: top;\n",
       "    }\n",
       "\n",
       "    .dataframe thead th {\n",
       "        text-align: right;\n",
       "    }\n",
       "</style>\n",
       "<table border=\"1\" class=\"dataframe\">\n",
       "  <thead>\n",
       "    <tr style=\"text-align: right;\">\n",
       "      <th></th>\n",
       "      <th>Value</th>\n",
       "      <th>Std err</th>\n",
       "      <th>t-test</th>\n",
       "      <th>p-value</th>\n",
       "      <th>Rob. Std err</th>\n",
       "      <th>Rob. t-test</th>\n",
       "      <th>Rob. p-value</th>\n",
       "    </tr>\n",
       "  </thead>\n",
       "  <tbody>\n",
       "    <tr>\n",
       "      <th>beta1</th>\n",
       "      <td>0.144317</td>\n",
       "      <td>0.390742</td>\n",
       "      <td>0.369340</td>\n",
       "      <td>0.711874</td>\n",
       "      <td>0.365691</td>\n",
       "      <td>0.394641</td>\n",
       "      <td>0.693108</td>\n",
       "    </tr>\n",
       "    <tr>\n",
       "      <th>beta2</th>\n",
       "      <td>0.023428</td>\n",
       "      <td>0.036930</td>\n",
       "      <td>0.634377</td>\n",
       "      <td>0.525835</td>\n",
       "      <td>0.034256</td>\n",
       "      <td>0.683887</td>\n",
       "      <td>0.494047</td>\n",
       "    </tr>\n",
       "  </tbody>\n",
       "</table>\n",
       "</div>"
      ],
      "text/plain": [
       "          Value   Std err    t-test   p-value  Rob. Std err  Rob. t-test  \\\n",
       "beta1  0.144317  0.390742  0.369340  0.711874      0.365691     0.394641   \n",
       "beta2  0.023428  0.036930  0.634377  0.525835      0.034256     0.683887   \n",
       "\n",
       "       Rob. p-value  \n",
       "beta1      0.693108  \n",
       "beta2      0.494047  "
      ]
     },
     "execution_count": 32,
     "metadata": {},
     "output_type": "execute_result"
    }
   ],
   "source": [
    "results = trBiogeme.estimate(algorithm=opt.newtonTrustRegionForBiogeme,algoParameters={'tolerance':0.1})\n",
    "results.getEstimatedParameters()"
   ]
  },
  {
   "cell_type": "code",
   "execution_count": 33,
   "metadata": {},
   "outputs": [
    {
     "name": "stdout",
     "output_type": "stream",
     "text": [
      "nit=2 nfev=2: Relative gradient = 0.015380029144207524 <= 0.1\n"
     ]
    }
   ],
   "source": [
    "print(f\"nit={results.data.numberOfIterations} nfev={results.data.numberOfFunctionEval}: {results.data.optimizationMessage}\")"
   ]
  },
  {
   "cell_type": "code",
   "execution_count": null,
   "metadata": {},
   "outputs": [],
   "source": []
  }
 ],
 "metadata": {
  "kernelspec": {
   "display_name": "Python 3",
   "language": "python",
   "name": "python3"
  },
  "language_info": {
   "codemirror_mode": {
    "name": "ipython",
    "version": 3
   },
   "file_extension": ".py",
   "mimetype": "text/x-python",
   "name": "python",
   "nbconvert_exporter": "python",
   "pygments_lexer": "ipython3",
   "version": "3.7.4"
  }
 },
 "nbformat": 4,
 "nbformat_minor": 2
}
