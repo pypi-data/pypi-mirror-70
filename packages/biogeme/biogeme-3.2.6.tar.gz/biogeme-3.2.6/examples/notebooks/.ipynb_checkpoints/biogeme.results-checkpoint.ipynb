{
 "cells": [
  {
   "cell_type": "markdown",
   "metadata": {},
   "source": [
    "# Module biogeme.results"
   ]
  },
  {
   "cell_type": "markdown",
   "metadata": {},
   "source": [
    "## Examples of use of each function"
   ]
  },
  {
   "cell_type": "markdown",
   "metadata": {},
   "source": [
    "This webpage is for programmers who need examples of use of the functions of the class. The examples are designed to illustrate the syntax. They do not correspond to any meaningful model. For examples of models, visit  [biogeme.epfl.ch](http://biogeme.epfl.ch)."
   ]
  },
  {
   "cell_type": "code",
   "execution_count": 1,
   "metadata": {},
   "outputs": [
    {
     "name": "stdout",
     "output_type": "stream",
     "text": [
      "2020-04-29 16:34:11.954207\n"
     ]
    }
   ],
   "source": [
    "import datetime\n",
    "print(datetime.datetime.now())"
   ]
  },
  {
   "cell_type": "code",
   "execution_count": 2,
   "metadata": {},
   "outputs": [
    {
     "name": "stdout",
     "output_type": "stream",
     "text": [
      "biogeme 3.2.6a [2020-04-29]\n",
      "Version entirely written in Python\n",
      "Home page: http://biogeme.epfl.ch\n",
      "Submit questions to https://groups.google.com/d/forum/biogeme\n",
      "Michel Bierlaire, Transport and Mobility Laboratory, Ecole Polytechnique Fédérale de Lausanne (EPFL)\n",
      "\n"
     ]
    }
   ],
   "source": [
    "import biogeme.version as ver\n",
    "print(ver.getText())"
   ]
  },
  {
   "cell_type": "code",
   "execution_count": 3,
   "metadata": {},
   "outputs": [],
   "source": [
    "import numpy as np\n",
    "import pandas as pd"
   ]
  },
  {
   "cell_type": "code",
   "execution_count": 4,
   "metadata": {},
   "outputs": [],
   "source": [
    "import biogeme.biogeme as bio\n",
    "import biogeme.database as db\n",
    "import biogeme.results as res\n",
    "from biogeme.expressions import Beta, Variable, exp"
   ]
  },
  {
   "cell_type": "markdown",
   "metadata": {},
   "source": [
    "##  Definition of a database"
   ]
  },
  {
   "cell_type": "code",
   "execution_count": 5,
   "metadata": {},
   "outputs": [],
   "source": [
    "df = pd.DataFrame({'Person': [1, 1, 1, 2, 2],\n",
    "                   'Exclude': [0, 0, 1, 0, 1],\n",
    "                   'Variable1': [1, 2, 3, 4, 5],\n",
    "                   'Variable2': [10, 20, 30,40, 50],\n",
    "                   'Choice': [1, 2, 3, 1, 2],\n",
    "                   'Av1': [0, 1, 1, 1, 1],\n",
    "                   'Av2': [1, 1, 1, 1, 1],\n",
    "                   'Av3': [0, 1, 1, 1, 1]})\n",
    "myData = db.Database('test', df)"
   ]
  },
  {
   "cell_type": "markdown",
   "metadata": {},
   "source": [
    "## Definition of various expressions"
   ]
  },
  {
   "cell_type": "code",
   "execution_count": 6,
   "metadata": {},
   "outputs": [],
   "source": [
    "Variable1 = Variable('Variable1')\n",
    "Variable2 = Variable('Variable2')\n",
    "beta1 = Beta('beta1', -1.0, -3, 3, 0)\n",
    "beta2 = Beta('beta2', 2.0, -3, 10, 0)\n",
    "likelihood = -beta1**2 * Variable1 - exp(beta2 * beta1) * \\\n",
    "    Variable2 - beta2**4\n",
    "simul = beta1 / Variable1 + beta2 / Variable2\n",
    "dictOfExpressions = {'loglike':likelihood,\n",
    "                     'beta1':beta1,\n",
    "                     'simul':simul}"
   ]
  },
  {
   "cell_type": "markdown",
   "metadata": {},
   "source": [
    "## Creation of the BIOGEME object"
   ]
  },
  {
   "cell_type": "code",
   "execution_count": 7,
   "metadata": {},
   "outputs": [
    {
     "name": "stdout",
     "output_type": "stream",
     "text": [
      "\n",
      "Results for model simpleExample\n",
      "Output file (HTML):\t\t\tsimpleExample~81.html\n",
      "Nbr of parameters:\t\t2\n",
      "Sample size:\t\t\t5\n",
      "Excluded data:\t\t\t0\n",
      "Init log likelihood:\t\t-115.3003\n",
      "Final log likelihood:\t\t-67.06549\n",
      "Likelihood ratio test:\t\t96.4696\n",
      "Rho square:\t\t\t0.418\n",
      "Rho bar square:\t\t\t0.401\n",
      "Akaike Information Criterion:\t138.131\n",
      "Bayesian Information Criterion:\t137.3499\n",
      "Final gradient norm:\t\t1.152097e-07\n",
      "beta1          : -1.27[0.115 -11.1 0][0.0137 -92.8 0][0.0196 -64.8 0]\n",
      "beta2          : 1.25[0.0848 14.7 0][0.0591 21.1 0][0.0872 14.3 0]\n",
      "('beta2', 'beta1'):\t0.00167\t0.171\t19.3\t0\t0.000811\t1\t55.6\t0\n",
      "\n"
     ]
    }
   ],
   "source": [
    "myBiogeme = bio.BIOGEME(myData, dictOfExpressions)\n",
    "myBiogeme.modelName = 'simpleExample'\n",
    "results = myBiogeme.estimate(bootstrap=10)\n",
    "print(results)"
   ]
  },
  {
   "cell_type": "markdown",
   "metadata": {},
   "source": [
    "Dump results on a file"
   ]
  },
  {
   "cell_type": "code",
   "execution_count": 8,
   "metadata": {},
   "outputs": [
    {
     "name": "stdout",
     "output_type": "stream",
     "text": [
      "simpleExample~89.pickle\n"
     ]
    }
   ],
   "source": [
    "f = results.writePickle()\n",
    "print(f)"
   ]
  },
  {
   "cell_type": "markdown",
   "metadata": {},
   "source": [
    "Results can be imported from a file previously generated"
   ]
  },
  {
   "cell_type": "code",
   "execution_count": 9,
   "metadata": {},
   "outputs": [
    {
     "name": "stdout",
     "output_type": "stream",
     "text": [
      "\n",
      "Results for model simpleExample\n",
      "Output file (HTML):\t\t\tsimpleExample~81.html\n",
      "Nbr of parameters:\t\t2\n",
      "Sample size:\t\t\t5\n",
      "Excluded data:\t\t\t0\n",
      "Init log likelihood:\t\t-115.3003\n",
      "Final log likelihood:\t\t-67.06549\n",
      "Likelihood ratio test:\t\t96.4696\n",
      "Rho square:\t\t\t0.418\n",
      "Rho bar square:\t\t\t0.401\n",
      "Akaike Information Criterion:\t138.131\n",
      "Bayesian Information Criterion:\t137.3499\n",
      "Final gradient norm:\t\t1.152097e-07\n",
      "beta1          : -1.27[0.115 -11.1 0][0.0137 -92.8 0][0.0196 -64.8 0]\n",
      "beta2          : 1.25[0.0848 14.7 0][0.0591 21.1 0][0.0872 14.3 0]\n",
      "('beta2', 'beta1'):\t0.00167\t0.171\t19.3\t0\t0.000811\t1\t55.6\t0\n",
      "\n"
     ]
    }
   ],
   "source": [
    "readResults = res.bioResults(pickleFile=f)\n",
    "print(readResults)"
   ]
  },
  {
   "cell_type": "markdown",
   "metadata": {},
   "source": [
    "Results can be formatted in LaTeX"
   ]
  },
  {
   "cell_type": "code",
   "execution_count": 10,
   "metadata": {},
   "outputs": [
    {
     "name": "stdout",
     "output_type": "stream",
     "text": [
      "%% This file is designed to be included into a LaTeX document\n",
      "%% See http://www.latex-project.org/ for information about LaTeX\n",
      "%% simpleExample - Report from biogeme 3.2.6a [2020-04-29]\n",
      "%% biogeme 3.2.6a [2020-04-29]\n",
      "%% Version entirely written in Python\n",
      "%% Home page: http://biogeme.epfl.ch\n",
      "%% Submit questions to https://groups.google.com/d/forum/biogeme\n",
      "%% Michel Bierlaire, Transport and Mobility Laboratory, Ecole Polytechnique Fédérale de Lausanne (EPFL)\n",
      "\n",
      "%% This file has automatically been generated on 2020-04-29 16:34:12.575583</p>\n",
      "\n",
      "%%Database name: test\n",
      "\n",
      "%% General statistics\n",
      "\\section{General statistics}\n",
      "\\begin{tabular}{ll}\n",
      "Number of estimated parameters & 2 \\\\\n",
      "Sample size & 5 \\\\\n",
      "Excluded observations & 0 \\\\\n",
      "Init log likelihood & -115.3003 \\\\\n",
      "Final log likelihood & -67.06549 \\\\\n",
      "Likelihood ratio test for the init. model & 96.4696 \\\\\n",
      "Rho-square for the init. model & 0.418 \\\\\n",
      "Rho-square-bar for the init. model & 0.401 \\\\\n",
      "Akaike Information Criterion & 138.131 \\\\\n",
      "Bayesian Information Criterion & 137.3499 \\\\\n",
      "Final gradient norm & 1.1521E-07 \\\\\n",
      "Bootstrapping time & 0:00:00.029916 \\\\\n",
      "Nbr of threads & 8 \\\\\n",
      "Algorithm & \\verb$Newton with trust region for simple bound constraints$ \\\\\n",
      "Relative projected gradient & \\verb$1.2470362942158704e-09$ \\\\\n",
      "Number of iterations & \\verb$4$ \\\\\n",
      "Number of function evaluations & \\verb$13$ \\\\\n",
      "Number of gradient evaluations & \\verb$5$ \\\\\n",
      "Number of hessian evaluations & \\verb$5$ \\\\\n",
      "Cause of termination & \\verb$Relative gradient = 1.2470362942158704e-09 <= 6.06273418136464e-06$ \\\\\n",
      "Optimization time & \\verb$0:00:00.005132$ \\\\\n",
      "\\end{tabular}\n",
      "\n",
      "%%Parameter estimates\n",
      "\\section{Parameter estimates}\n",
      "\\begin{tabular}{lrrrrrrrrrr}\n",
      "\\toprule\n",
      "{} &  Value &  Std err &  t-test &  p-value &  Rob. Std err &  Rob. t-test &  Rob. p-value &  Bootstrap[10] Std err &  Bootstrap t-test &  Bootstrap p-value \\\\\n",
      "\\midrule\n",
      "beta1 &  -1.27 &    0.115 &   -11.1 &      0.0 &        0.0137 &        -92.8 &           0.0 &                 0.0196 &             -64.8 &                0.0 \\\\\n",
      "beta2 &   1.25 &   0.0848 &    14.7 &      0.0 &        0.0591 &         21.1 &           0.0 &                 0.0872 &              14.3 &                0.0 \\\\\n",
      "\\bottomrule\n",
      "\\end{tabular}\n",
      "\n",
      "%%Correlation\n",
      "\\section{Correlation}\n",
      "\\begin{tabular}{lrrrrrrrrrrrr}\n",
      "\\toprule\n",
      "{} &  Covariance &  Correlation &  t-test &  p-value &  Rob. cov. &  Rob. corr. &  Rob. t-test &  Rob. p-value &  Boot. cov. &  Boot. corr. &  Boot. t-test &  Boot. p-value \\\\\n",
      "\\midrule\n",
      "beta2-beta1 &     0.00167 &        0.171 &    19.3 &      0.0 &   0.000811 &         1.0 &         55.6 &           0.0 &     0.00171 &          1.0 &          37.4 &            0.0 \\\\\n",
      "\\bottomrule\n",
      "\\end{tabular}\n",
      "\n"
     ]
    }
   ],
   "source": [
    "print(readResults.getLaTeX())"
   ]
  },
  {
   "cell_type": "markdown",
   "metadata": {},
   "source": [
    "Results can be formatted in HTML"
   ]
  },
  {
   "cell_type": "code",
   "execution_count": 11,
   "metadata": {},
   "outputs": [
    {
     "name": "stdout",
     "output_type": "stream",
     "text": [
      "<html>\n",
      "<head>\n",
      "<script src=\"http://transp-or.epfl.ch/biogeme/sorttable.js\"></script>\n",
      "<meta http-equiv=\"Content-Type\" content=\"text/html; charset=utf-8\" />\n",
      "<title>simpleExample - Report from biogeme 3.2.6a [2020-04-29]</title>\n",
      "<meta name=\"keywords\" content=\"biogeme, discrete choice, random utility\">\n",
      "<meta name=\"description\" content=\"Report from biogeme 3.2.6a [2020-04-29]\">\n",
      "<meta name=\"author\" content=\"{bv.author}\">\n",
      "<style type=text/css>\n",
      ".biostyle\n",
      "\t{font-size:10.0pt;\n",
      "\tfont-weight:400;\n",
      "\tfont-style:normal;\n",
      "\tfont-family:Courier;}\n",
      ".boundstyle\n",
      "\t{font-size:10.0pt;\n",
      "\tfont-weight:400;\n",
      "\tfont-style:normal;\n",
      "\tfont-family:Courier;\n",
      "        color:red}\n",
      "</style>\n",
      "</head>\n",
      "<body bgcolor=\"#ffffff\">\n",
      "<p>biogeme 3.2.6a [2020-04-29]</p>\n",
      "<p><a href=\"https://www.python.org/\" target=\"_blank\">Python</a> package</p>\n",
      "<p>Home page: <a href=\"http://biogeme.epfl.ch\" target=\"_blank\">http://biogeme.epfl.ch</a></p>\n",
      "<p>Submit questions to <a href=\"https://groups.google.com/d/forum/biogeme\" target=\"_blank\">https://groups.google.com/d/forum/biogeme</a></p>\n",
      "<p><a href=\"http://people.epfl.ch/michel.bierlaire\">Michel Bierlaire</a>, <a href=\"http://transp-or.epfl.ch\">Transport and Mobility Laboratory</a>, <a href=\"http://www.epfl.ch\">Ecole Polytechnique F&#233;d&#233;rale de Lausanne (EPFL)</a></p>\n",
      "<p>This file has automatically been generated on 2020-04-29 16:34:12.612228</p>\n",
      "<p>If you drag this HTML file into the Calc application of <a href=\"http://www.openoffice.org/\" target=\"_blank\">OpenOffice</a>, or the spreadsheet of <a href=\"https://www.libreoffice.org/\" target=\"_blank\">LibreOffice</a>, you will be able to perform additional calculations.</p>\n",
      "<table>\n",
      "<tr class=biostyle><td align=right><strong>Report file</strong>:\t</td><td>simpleExample~81.html</td></tr>\n",
      "<tr class=biostyle><td align=right><strong>Database name</strong>:\t</td><td>test</td></tr>\n",
      "</table>\n",
      "<h1>Estimation report</h1>\n",
      "<table border=\"0\">\n",
      "<tr class=biostyle><td align=right ><strong>Number of estimated parameters</strong>: </td> <td>2</td></tr>\n",
      "<tr class=biostyle><td align=right ><strong>Sample size</strong>: </td> <td>5</td></tr>\n",
      "<tr class=biostyle><td align=right ><strong>Excluded observations</strong>: </td> <td>0</td></tr>\n",
      "<tr class=biostyle><td align=right ><strong>Init log likelihood</strong>: </td> <td>-115.3003</td></tr>\n",
      "<tr class=biostyle><td align=right ><strong>Final log likelihood</strong>: </td> <td>-67.06549</td></tr>\n",
      "<tr class=biostyle><td align=right ><strong>Likelihood ratio test for the init. model</strong>: </td> <td>96.4696</td></tr>\n",
      "<tr class=biostyle><td align=right ><strong>Rho-square for the init. model</strong>: </td> <td>0.418</td></tr>\n",
      "<tr class=biostyle><td align=right ><strong>Rho-square-bar for the init. model</strong>: </td> <td>0.401</td></tr>\n",
      "<tr class=biostyle><td align=right ><strong>Akaike Information Criterion</strong>: </td> <td>138.131</td></tr>\n",
      "<tr class=biostyle><td align=right ><strong>Bayesian Information Criterion</strong>: </td> <td>137.3499</td></tr>\n",
      "<tr class=biostyle><td align=right ><strong>Final gradient norm</strong>: </td> <td>1.1521E-07</td></tr>\n",
      "<tr class=biostyle><td align=right ><strong>Bootstrapping time</strong>: </td> <td>0:00:00.029916</td></tr>\n",
      "<tr class=biostyle><td align=right ><strong>Nbr of threads</strong>: </td> <td>8</td></tr>\n",
      "<tr class=biostyle><td align=right ><strong>Algorithm</strong>: </td> <td>Newton with trust region for simple bound constraints</td></tr>\n",
      "<tr class=biostyle><td align=right ><strong>Relative projected gradient</strong>: </td> <td>1.2470362942158704e-09</td></tr>\n",
      "<tr class=biostyle><td align=right ><strong>Number of iterations</strong>: </td> <td>4</td></tr>\n",
      "<tr class=biostyle><td align=right ><strong>Number of function evaluations</strong>: </td> <td>13</td></tr>\n",
      "<tr class=biostyle><td align=right ><strong>Number of gradient evaluations</strong>: </td> <td>5</td></tr>\n",
      "<tr class=biostyle><td align=right ><strong>Number of hessian evaluations</strong>: </td> <td>5</td></tr>\n",
      "<tr class=biostyle><td align=right ><strong>Cause of termination</strong>: </td> <td>Relative gradient = 1.2470362942158704e-09 <= 6.06273418136464e-06</td></tr>\n",
      "<tr class=biostyle><td align=right ><strong>Optimization time</strong>: </td> <td>0:00:00.005132</td></tr>\n",
      "</table>\n",
      "<h1>Estimated parameters</h1>\n",
      "<p><font size=\"-1>Click on the headers of the columns to sort the table  [<a href=\"http://www.kryogenix.org/code/browser/sorttable/\" target=\"_blank\">Credits</a>]</font></p>\n",
      "<table border=\"1\" class=\"sortable\">\n",
      "<tr class=biostyle><th>Name</th><th>Value</th><th>Std err</th><th>t-test</th><th>p-value</th><th>Rob. Std err</th><th>Rob. t-test</th><th>Rob. p-value</th><th>Bootstrap[10] Std err</th><th>Bootstrap t-test</th><th>Bootstrap p-value</th></tr>\n",
      "<tr class=biostyle><td>beta1</td><td>-1.27</td><td>0.115</td><td>-11.1</td><td>0</td><td>0.0137</td><td>-92.8</td><td>0</td><td>0.0196</td><td>-64.8</td><td>0</td></tr>\n",
      "<tr class=biostyle><td>beta2</td><td>1.25</td><td>0.0848</td><td>14.7</td><td>0</td><td>0.0591</td><td>21.1</td><td>0</td><td>0.0872</td><td>14.3</td><td>0</td></tr>\n",
      "</table>\n",
      "<h2>Correlation of coefficients</h2>\n",
      "<p><font size=\"-1\">Click on the headers of the columns to sort the table [<a href=\"http://www.kryogenix.org/code/browser/sorttable/\" target=\"_blank\">Credits</a>]</font></p>\n",
      "<table border=\"1\" class=\"sortable\">\n",
      "<tr class=biostyle><th>Coefficient1</th><th>Coefficient2</th><th>Covariance</th><th>Correlation</th><th>t-test</th><th>p-value</th><th>Rob. cov.</th><th>Rob. corr.</th><th>Rob. t-test</th><th>Rob. p-value</th><th>Boot. cov.</th><th>Boot. corr.</th><th>Boot. t-test</th><th>Boot. p-value</th></tr>\n",
      "<tr class=biostyle><td>beta2</td><td>beta1</td><td>0.00167</td><td>0.171</td><td>19.3</td><td>0</td><td>0.000811</td><td>1</td><td>55.6</td><td>0</td><td>0.00171</td><td>1</td><td>37.4</td><td>0</td></tr>\n",
      "</table>\n",
      "<p>Smallest eigenvalue: 73.054</p>\n",
      "<p>Smallest singular value: 73.054</p>\n",
      "</html>\n"
     ]
    }
   ],
   "source": [
    "print(readResults.getHtml())"
   ]
  },
  {
   "cell_type": "markdown",
   "metadata": {},
   "source": [
    "General statistics, including a suggested format."
   ]
  },
  {
   "cell_type": "code",
   "execution_count": 12,
   "metadata": {},
   "outputs": [
    {
     "data": {
      "text/plain": [
       "{'Number of estimated parameters': (2, ''),\n",
       " 'Sample size': (5, ''),\n",
       " 'Excluded observations': (0, ''),\n",
       " 'Init log likelihood': (-115.30029248549191, '.7g'),\n",
       " 'Final log likelihood': (-67.06549047946355, '.7g'),\n",
       " 'Likelihood ratio test for the init. model': (96.46960401205672, '.7g'),\n",
       " 'Rho-square for the init. model': (0.4183406734384276, '.3g'),\n",
       " 'Rho-square-bar for the init. model': (0.40099466366788294, '.3g'),\n",
       " 'Akaike Information Criterion': (138.1309809589271, '.7g'),\n",
       " 'Bayesian Information Criterion': (137.3498567837953, '.7g'),\n",
       " 'Final gradient norm': (1.1520974391720638e-07, '.4E'),\n",
       " 'Bootstrapping time': (datetime.timedelta(microseconds=29916), ''),\n",
       " 'Nbr of threads': (8, '')}"
      ]
     },
     "execution_count": 12,
     "metadata": {},
     "output_type": "execute_result"
    }
   ],
   "source": [
    "statistics = readResults.getGeneralStatistics()\n",
    "statistics"
   ]
  },
  {
   "cell_type": "markdown",
   "metadata": {},
   "source": [
    "The suggested format can be used as follows"
   ]
  },
  {
   "cell_type": "code",
   "execution_count": 22,
   "metadata": {},
   "outputs": [
    {
     "name": "stdout",
     "output_type": "stream",
     "text": [
      "Number of estimated parameters:\t2\n",
      "Sample size:\t5\n",
      "Excluded observations:\t0\n",
      "Init log likelihood:\t-115.3003\n",
      "Final log likelihood:\t-67.06549\n",
      "Likelihood ratio test for the init. model:\t96.4696\n",
      "Rho-square for the init. model:\t0.418\n",
      "Rho-square-bar for the init. model:\t0.401\n",
      "Akaike Information Criterion:\t138.131\n",
      "Bayesian Information Criterion:\t137.3499\n",
      "Final gradient norm:\t1.1521E-07\n",
      "Bootstrapping time:\t0:00:00.029916\n",
      "Nbr of threads:\t8\n"
     ]
    }
   ],
   "source": [
    "for k, (v, p) in statistics.items():\n",
    "    print(f'{k}:\\t{v:{p}}')"
   ]
  },
  {
   "cell_type": "markdown",
   "metadata": {},
   "source": [
    "Estimated parameters as pandas dataframe"
   ]
  },
  {
   "cell_type": "code",
   "execution_count": 14,
   "metadata": {},
   "outputs": [
    {
     "data": {
      "text/html": [
       "<div>\n",
       "<style scoped>\n",
       "    .dataframe tbody tr th:only-of-type {\n",
       "        vertical-align: middle;\n",
       "    }\n",
       "\n",
       "    .dataframe tbody tr th {\n",
       "        vertical-align: top;\n",
       "    }\n",
       "\n",
       "    .dataframe thead th {\n",
       "        text-align: right;\n",
       "    }\n",
       "</style>\n",
       "<table border=\"1\" class=\"dataframe\">\n",
       "  <thead>\n",
       "    <tr style=\"text-align: right;\">\n",
       "      <th></th>\n",
       "      <th>Value</th>\n",
       "      <th>Std err</th>\n",
       "      <th>t-test</th>\n",
       "      <th>p-value</th>\n",
       "      <th>Rob. Std err</th>\n",
       "      <th>Rob. t-test</th>\n",
       "      <th>Rob. p-value</th>\n",
       "      <th>Bootstrap[10] Std err</th>\n",
       "      <th>Bootstrap t-test</th>\n",
       "      <th>Bootstrap p-value</th>\n",
       "    </tr>\n",
       "  </thead>\n",
       "  <tbody>\n",
       "    <tr>\n",
       "      <th>beta1</th>\n",
       "      <td>-1.273264</td>\n",
       "      <td>0.115144</td>\n",
       "      <td>-11.057997</td>\n",
       "      <td>0.0</td>\n",
       "      <td>0.013724</td>\n",
       "      <td>-92.776664</td>\n",
       "      <td>0.0</td>\n",
       "      <td>0.019642</td>\n",
       "      <td>-64.825107</td>\n",
       "      <td>0.0</td>\n",
       "    </tr>\n",
       "    <tr>\n",
       "      <th>beta2</th>\n",
       "      <td>1.248769</td>\n",
       "      <td>0.084830</td>\n",
       "      <td>14.720836</td>\n",
       "      <td>0.0</td>\n",
       "      <td>0.059086</td>\n",
       "      <td>21.134794</td>\n",
       "      <td>0.0</td>\n",
       "      <td>0.087151</td>\n",
       "      <td>14.328852</td>\n",
       "      <td>0.0</td>\n",
       "    </tr>\n",
       "  </tbody>\n",
       "</table>\n",
       "</div>"
      ],
      "text/plain": [
       "          Value   Std err     t-test  p-value  Rob. Std err  Rob. t-test  \\\n",
       "beta1 -1.273264  0.115144 -11.057997      0.0      0.013724   -92.776664   \n",
       "beta2  1.248769  0.084830  14.720836      0.0      0.059086    21.134794   \n",
       "\n",
       "       Rob. p-value  Bootstrap[10] Std err  Bootstrap t-test  \\\n",
       "beta1           0.0               0.019642        -64.825107   \n",
       "beta2           0.0               0.087151         14.328852   \n",
       "\n",
       "       Bootstrap p-value  \n",
       "beta1                0.0  \n",
       "beta2                0.0  "
      ]
     },
     "execution_count": 14,
     "metadata": {},
     "output_type": "execute_result"
    }
   ],
   "source": [
    "readResults.getEstimatedParameters()"
   ]
  },
  {
   "cell_type": "markdown",
   "metadata": {},
   "source": [
    "Correlation results"
   ]
  },
  {
   "cell_type": "code",
   "execution_count": 15,
   "metadata": {},
   "outputs": [
    {
     "data": {
      "text/html": [
       "<div>\n",
       "<style scoped>\n",
       "    .dataframe tbody tr th:only-of-type {\n",
       "        vertical-align: middle;\n",
       "    }\n",
       "\n",
       "    .dataframe tbody tr th {\n",
       "        vertical-align: top;\n",
       "    }\n",
       "\n",
       "    .dataframe thead th {\n",
       "        text-align: right;\n",
       "    }\n",
       "</style>\n",
       "<table border=\"1\" class=\"dataframe\">\n",
       "  <thead>\n",
       "    <tr style=\"text-align: right;\">\n",
       "      <th></th>\n",
       "      <th>Covariance</th>\n",
       "      <th>Correlation</th>\n",
       "      <th>t-test</th>\n",
       "      <th>p-value</th>\n",
       "      <th>Rob. cov.</th>\n",
       "      <th>Rob. corr.</th>\n",
       "      <th>Rob. t-test</th>\n",
       "      <th>Rob. p-value</th>\n",
       "      <th>Boot. cov.</th>\n",
       "      <th>Boot. corr.</th>\n",
       "      <th>Boot. t-test</th>\n",
       "      <th>Boot. p-value</th>\n",
       "    </tr>\n",
       "  </thead>\n",
       "  <tbody>\n",
       "    <tr>\n",
       "      <th>beta2-beta1</th>\n",
       "      <td>0.001671</td>\n",
       "      <td>0.171121</td>\n",
       "      <td>19.280039</td>\n",
       "      <td>0.0</td>\n",
       "      <td>0.000811</td>\n",
       "      <td>1.0</td>\n",
       "      <td>55.597975</td>\n",
       "      <td>0.0</td>\n",
       "      <td>0.001711</td>\n",
       "      <td>0.999759</td>\n",
       "      <td>37.355013</td>\n",
       "      <td>0.0</td>\n",
       "    </tr>\n",
       "  </tbody>\n",
       "</table>\n",
       "</div>"
      ],
      "text/plain": [
       "             Covariance  Correlation     t-test  p-value  Rob. cov.  \\\n",
       "beta2-beta1    0.001671     0.171121  19.280039      0.0   0.000811   \n",
       "\n",
       "             Rob. corr.  Rob. t-test  Rob. p-value  Boot. cov.  Boot. corr.  \\\n",
       "beta2-beta1         1.0    55.597975           0.0    0.001711     0.999759   \n",
       "\n",
       "             Boot. t-test  Boot. p-value  \n",
       "beta2-beta1     37.355013            0.0  "
      ]
     },
     "execution_count": 15,
     "metadata": {},
     "output_type": "execute_result"
    }
   ],
   "source": [
    "readResults.getCorrelationResults()"
   ]
  },
  {
   "cell_type": "markdown",
   "metadata": {},
   "source": [
    "Obtain the values of the parameters"
   ]
  },
  {
   "cell_type": "code",
   "execution_count": 16,
   "metadata": {},
   "outputs": [
    {
     "data": {
      "text/plain": [
       "{'beta1': -1.273263987213694, 'beta2': 1.2487688099301162}"
      ]
     },
     "execution_count": 16,
     "metadata": {},
     "output_type": "execute_result"
    }
   ],
   "source": [
    "readResults.getBetaValues()"
   ]
  },
  {
   "cell_type": "code",
   "execution_count": 17,
   "metadata": {},
   "outputs": [
    {
     "data": {
      "text/plain": [
       "{'beta2': 1.2487688099301162}"
      ]
     },
     "execution_count": 17,
     "metadata": {},
     "output_type": "execute_result"
    }
   ],
   "source": [
    "readResults.getBetaValues(myBetas=['beta2'])"
   ]
  },
  {
   "cell_type": "markdown",
   "metadata": {},
   "source": [
    "Variance-covariance matrix (Rao-Cramer)"
   ]
  },
  {
   "cell_type": "code",
   "execution_count": 18,
   "metadata": {},
   "outputs": [
    {
     "data": {
      "text/html": [
       "<div>\n",
       "<style scoped>\n",
       "    .dataframe tbody tr th:only-of-type {\n",
       "        vertical-align: middle;\n",
       "    }\n",
       "\n",
       "    .dataframe tbody tr th {\n",
       "        vertical-align: top;\n",
       "    }\n",
       "\n",
       "    .dataframe thead th {\n",
       "        text-align: right;\n",
       "    }\n",
       "</style>\n",
       "<table border=\"1\" class=\"dataframe\">\n",
       "  <thead>\n",
       "    <tr style=\"text-align: right;\">\n",
       "      <th></th>\n",
       "      <th>beta1</th>\n",
       "      <th>beta2</th>\n",
       "    </tr>\n",
       "  </thead>\n",
       "  <tbody>\n",
       "    <tr>\n",
       "      <th>beta1</th>\n",
       "      <td>0.0132582</td>\n",
       "      <td>0.00167146</td>\n",
       "    </tr>\n",
       "    <tr>\n",
       "      <th>beta2</th>\n",
       "      <td>0.00167146</td>\n",
       "      <td>0.00719613</td>\n",
       "    </tr>\n",
       "  </tbody>\n",
       "</table>\n",
       "</div>"
      ],
      "text/plain": [
       "            beta1       beta2\n",
       "beta1   0.0132582  0.00167146\n",
       "beta2  0.00167146  0.00719613"
      ]
     },
     "execution_count": 18,
     "metadata": {},
     "output_type": "execute_result"
    }
   ],
   "source": [
    "readResults.getVarCovar()"
   ]
  },
  {
   "cell_type": "markdown",
   "metadata": {},
   "source": [
    "Variance-covariance matrix (robust)"
   ]
  },
  {
   "cell_type": "code",
   "execution_count": 19,
   "metadata": {},
   "outputs": [
    {
     "data": {
      "text/html": [
       "<div>\n",
       "<style scoped>\n",
       "    .dataframe tbody tr th:only-of-type {\n",
       "        vertical-align: middle;\n",
       "    }\n",
       "\n",
       "    .dataframe tbody tr th {\n",
       "        vertical-align: top;\n",
       "    }\n",
       "\n",
       "    .dataframe thead th {\n",
       "        text-align: right;\n",
       "    }\n",
       "</style>\n",
       "<table border=\"1\" class=\"dataframe\">\n",
       "  <thead>\n",
       "    <tr style=\"text-align: right;\">\n",
       "      <th></th>\n",
       "      <th>beta1</th>\n",
       "      <th>beta2</th>\n",
       "    </tr>\n",
       "  </thead>\n",
       "  <tbody>\n",
       "    <tr>\n",
       "      <th>beta1</th>\n",
       "      <td>0.000188347</td>\n",
       "      <td>0.000810893</td>\n",
       "    </tr>\n",
       "    <tr>\n",
       "      <th>beta2</th>\n",
       "      <td>0.000810893</td>\n",
       "      <td>0.00349115</td>\n",
       "    </tr>\n",
       "  </tbody>\n",
       "</table>\n",
       "</div>"
      ],
      "text/plain": [
       "             beta1        beta2\n",
       "beta1  0.000188347  0.000810893\n",
       "beta2  0.000810893   0.00349115"
      ]
     },
     "execution_count": 19,
     "metadata": {},
     "output_type": "execute_result"
    }
   ],
   "source": [
    "readResults.getRobustVarCovar()"
   ]
  },
  {
   "cell_type": "markdown",
   "metadata": {},
   "source": [
    "Variance-covaraince matrix (bootstrap)"
   ]
  },
  {
   "cell_type": "code",
   "execution_count": 20,
   "metadata": {},
   "outputs": [
    {
     "data": {
      "text/html": [
       "<div>\n",
       "<style scoped>\n",
       "    .dataframe tbody tr th:only-of-type {\n",
       "        vertical-align: middle;\n",
       "    }\n",
       "\n",
       "    .dataframe tbody tr th {\n",
       "        vertical-align: top;\n",
       "    }\n",
       "\n",
       "    .dataframe thead th {\n",
       "        text-align: right;\n",
       "    }\n",
       "</style>\n",
       "<table border=\"1\" class=\"dataframe\">\n",
       "  <thead>\n",
       "    <tr style=\"text-align: right;\">\n",
       "      <th></th>\n",
       "      <th>beta1</th>\n",
       "      <th>beta2</th>\n",
       "    </tr>\n",
       "  </thead>\n",
       "  <tbody>\n",
       "    <tr>\n",
       "      <th>beta1</th>\n",
       "      <td>0.00038579</td>\n",
       "      <td>0.00171136</td>\n",
       "    </tr>\n",
       "    <tr>\n",
       "      <th>beta2</th>\n",
       "      <td>0.00171136</td>\n",
       "      <td>0.00759524</td>\n",
       "    </tr>\n",
       "  </tbody>\n",
       "</table>\n",
       "</div>"
      ],
      "text/plain": [
       "            beta1       beta2\n",
       "beta1  0.00038579  0.00171136\n",
       "beta2  0.00171136  0.00759524"
      ]
     },
     "execution_count": 20,
     "metadata": {},
     "output_type": "execute_result"
    }
   ],
   "source": [
    "readResults.getBootstrapVarCovar()"
   ]
  },
  {
   "cell_type": "markdown",
   "metadata": {},
   "source": [
    "The vector of maximum likelihood estimates follows a multivariate normal distribution. We can draw from that distribution to perform sensitivity analysis. It consists in calculating any indicator generated by the model for each draw, and investigate the empirical distribution. "
   ]
  },
  {
   "cell_type": "code",
   "execution_count": 23,
   "metadata": {},
   "outputs": [
    {
     "data": {
      "text/plain": [
       "array([[-1.27314585,  1.24927742],\n",
       "       [-1.29739897,  1.14486025],\n",
       "       [-1.27415457,  1.24493455],\n",
       "       [-1.26515592,  1.28367654],\n",
       "       [-1.28982442,  1.17747104],\n",
       "       [-1.26397078,  1.28877894],\n",
       "       [-1.25788349,  1.31498662],\n",
       "       [-1.27828603,  1.22714736],\n",
       "       [-1.2659111 ,  1.28042525],\n",
       "       [-1.26948521,  1.2650376 ]])"
      ]
     },
     "execution_count": 23,
     "metadata": {},
     "output_type": "execute_result"
    }
   ],
   "source": [
    "readResults.getBetasForSensitivityAnalysis(['beta1', 'beta2'],\n",
    "                                           size=10)"
   ]
  }
 ],
 "metadata": {
  "kernelspec": {
   "display_name": "Python 3",
   "language": "python",
   "name": "python3"
  },
  "language_info": {
   "codemirror_mode": {
    "name": "ipython",
    "version": 3
   },
   "file_extension": ".py",
   "mimetype": "text/x-python",
   "name": "python",
   "nbconvert_exporter": "python",
   "pygments_lexer": "ipython3",
   "version": "3.8.0"
  }
 },
 "nbformat": 4,
 "nbformat_minor": 2
}
