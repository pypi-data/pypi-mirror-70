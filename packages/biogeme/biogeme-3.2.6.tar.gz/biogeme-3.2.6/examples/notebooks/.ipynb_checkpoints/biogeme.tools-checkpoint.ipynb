{
 "cells": [
  {
   "cell_type": "markdown",
   "metadata": {},
   "source": [
    "# module tools: examples of use of each function"
   ]
  },
  {
   "cell_type": "markdown",
   "metadata": {},
   "source": [
    "This webpage is for programmers who need examples of use of the functions of the class. The examples are designed to illustrate the syntax. They do not correspond to any meaningful model. For examples of models, visit  [biogeme.epfl.ch](http://biogeme.epfl.ch)."
   ]
  },
  {
   "cell_type": "code",
   "execution_count": 1,
   "metadata": {},
   "outputs": [
    {
     "name": "stdout",
     "output_type": "stream",
     "text": [
      "2019-09-11 17:24:30.102007\n"
     ]
    }
   ],
   "source": [
    "import datetime\n",
    "print(datetime.datetime.now())"
   ]
  },
  {
   "cell_type": "code",
   "execution_count": 2,
   "metadata": {},
   "outputs": [
    {
     "name": "stdout",
     "output_type": "stream",
     "text": [
      "biogeme 3.2.1 [September 7, 2019]\n",
      "Version entirely written in Python\n",
      "Home page: http://biogeme.epfl.ch\n",
      "Submit questions to https://groups.google.com/d/forum/biogeme\n",
      "Michel Bierlaire, Transport and Mobility Laboratory, Ecole Polytechnique Fédérale de Lausanne (EPFL)\n",
      "\n"
     ]
    }
   ],
   "source": [
    "import biogeme.version as ver\n",
    "print(ver.getText())"
   ]
  },
  {
   "cell_type": "code",
   "execution_count": 3,
   "metadata": {},
   "outputs": [],
   "source": [
    "import numpy as np\n",
    "import biogeme.tools as tools\n",
    "import biogeme.messaging as msg"
   ]
  },
  {
   "cell_type": "markdown",
   "metadata": {},
   "source": [
    "Define a function and its derivatives: $$f = \\log(x_0) + \\exp(x_1),$$ $$g = \\left( \\begin{array}{c} \\frac{1}{x_0} \\\\ \\exp(x_1)\\end{array}\\right),$$ $$h=\\left( \\begin{array}{cc} -\\frac{1}{x_0^2} & 0 \\\\ 0 & \\exp(x_1)\\end{array}\\right).$$"
   ]
  },
  {
   "cell_type": "code",
   "execution_count": 4,
   "metadata": {},
   "outputs": [],
   "source": [
    "def myFunction(x):\n",
    "    f = np.log(x[0]) + np.exp(x[1])\n",
    "    g = np.empty(2)\n",
    "    g[0] = 1.0 / x[0]\n",
    "    g[1] = np.exp(x[1])\n",
    "    H = np.empty((2,2))\n",
    "    H[0,0] = - 1.0 / x[0]**2\n",
    "    H[0,1] = 0.0\n",
    "    H[1,0] = 0.0\n",
    "    H[1,1] = np.exp(x[1])\n",
    "    return f,g,H"
   ]
  },
  {
   "cell_type": "markdown",
   "metadata": {},
   "source": [
    "Evaluate the function at the point $$x = \\left( \\begin{array}{c}1 \\\\ 1 \\end{array}\\right).$$"
   ]
  },
  {
   "cell_type": "code",
   "execution_count": 5,
   "metadata": {},
   "outputs": [],
   "source": [
    "x = np.array([1.1,1.1])\n",
    "f,g,H = myFunction(x)"
   ]
  },
  {
   "cell_type": "code",
   "execution_count": 6,
   "metadata": {},
   "outputs": [
    {
     "data": {
      "text/plain": [
       "3.099476203750758"
      ]
     },
     "execution_count": 6,
     "metadata": {},
     "output_type": "execute_result"
    }
   ],
   "source": [
    "f"
   ]
  },
  {
   "cell_type": "code",
   "execution_count": 7,
   "metadata": {},
   "outputs": [
    {
     "data": {
      "text/plain": [
       "array([0.90909091, 3.00416602])"
      ]
     },
     "execution_count": 7,
     "metadata": {},
     "output_type": "execute_result"
    }
   ],
   "source": [
    "g"
   ]
  },
  {
   "cell_type": "code",
   "execution_count": 8,
   "metadata": {},
   "outputs": [
    {
     "data": {
      "text/plain": [
       "array([[-0.82644628,  0.        ],\n",
       "       [ 0.        ,  3.00416602]])"
      ]
     },
     "execution_count": 8,
     "metadata": {},
     "output_type": "execute_result"
    }
   ],
   "source": [
    "H"
   ]
  },
  {
   "cell_type": "markdown",
   "metadata": {},
   "source": [
    "Calculates an approximation of the gradient by finite differences."
   ]
  },
  {
   "cell_type": "code",
   "execution_count": 9,
   "metadata": {},
   "outputs": [],
   "source": [
    "g_fd = tools.findiff_g(myFunction,x)"
   ]
  },
  {
   "cell_type": "code",
   "execution_count": 10,
   "metadata": {},
   "outputs": [
    {
     "data": {
      "text/plain": [
       "array([0.90909087, 3.00416619])"
      ]
     },
     "execution_count": 10,
     "metadata": {},
     "output_type": "execute_result"
    }
   ],
   "source": [
    "g_fd"
   ]
  },
  {
   "cell_type": "markdown",
   "metadata": {},
   "source": [
    "Check the precision of the approximation"
   ]
  },
  {
   "cell_type": "code",
   "execution_count": 11,
   "metadata": {},
   "outputs": [
    {
     "data": {
      "text/plain": [
       "array([ 4.18595454e-08, -1.64594663e-07])"
      ]
     },
     "execution_count": 11,
     "metadata": {},
     "output_type": "execute_result"
    }
   ],
   "source": [
    "g-g_fd"
   ]
  },
  {
   "cell_type": "markdown",
   "metadata": {},
   "source": [
    "Calculates an approximation of the Hessian by finite differences."
   ]
  },
  {
   "cell_type": "code",
   "execution_count": 12,
   "metadata": {},
   "outputs": [],
   "source": [
    "H_fd = tools.findiff_H(myFunction,x)"
   ]
  },
  {
   "cell_type": "code",
   "execution_count": 13,
   "metadata": {},
   "outputs": [
    {
     "data": {
      "text/plain": [
       "array([[-0.8264462 ,  0.        ],\n",
       "       [ 0.        ,  3.00416619]])"
      ]
     },
     "execution_count": 13,
     "metadata": {},
     "output_type": "execute_result"
    }
   ],
   "source": [
    "H_fd"
   ]
  },
  {
   "cell_type": "markdown",
   "metadata": {},
   "source": [
    "Check the precision of the approximation"
   ]
  },
  {
   "cell_type": "code",
   "execution_count": 14,
   "metadata": {},
   "outputs": [
    {
     "data": {
      "text/plain": [
       "array([[-8.26465610e-08,  0.00000000e+00],\n",
       "       [ 0.00000000e+00, -1.64594663e-07]])"
      ]
     },
     "execution_count": 14,
     "metadata": {},
     "output_type": "execute_result"
    }
   ],
   "source": [
    "H-H_fd"
   ]
  },
  {
   "cell_type": "markdown",
   "metadata": {},
   "source": [
    "There is a function that checks the analytical derivatives by comparing them to their finite difference approximation."
   ]
  },
  {
   "cell_type": "code",
   "execution_count": 15,
   "metadata": {},
   "outputs": [
    {
     "name": "stdout",
     "output_type": "stream",
     "text": [
      "[17:24:30] < Detailed >  x\t\tGradient\tFinDiff\t\tDifference\n",
      "[17:24:30] < Detailed >  x[0]           \t+9.090909E-01\t+9.090909E-01\t+4.185955E-08\n",
      "[17:24:30] < Detailed >  x[1]           \t+3.004166E+00\t+3.004166E+00\t-1.645947E-07\n",
      "[17:24:30] < Detailed >  Row\t\tCol\t\tHessian\tFinDiff\t\tDifference\n",
      "[17:24:30] < Detailed >  x[0]           \tx[0]           \t-8.264463E-01\t-8.264462E-01\t-8.264656E-08\n",
      "[17:24:30] < Detailed >  x[0]           \tx[1]           \t+0.000000E+00\t+0.000000E+00\t+0.000000E+00\n",
      "[17:24:30] < Detailed >  x[1]           \tx[0]           \t+0.000000E+00\t+0.000000E+00\t+0.000000E+00\n",
      "[17:24:30] < Detailed >  x[1]           \tx[1]           \t+3.004166E+00\t+3.004166E+00\t-1.645947E-07\n"
     ]
    }
   ],
   "source": [
    "logger = msg.bioMessage(screenLevel=3)\n",
    "f,g,h,gdiff,hdiff = tools.checkDerivatives(myFunction,x,names=None,logg=True)"
   ]
  },
  {
   "cell_type": "markdown",
   "metadata": {},
   "source": [
    "To help reading the reporting, it is possible to give names to variables."
   ]
  },
  {
   "cell_type": "code",
   "execution_count": 16,
   "metadata": {},
   "outputs": [
    {
     "name": "stdout",
     "output_type": "stream",
     "text": [
      "[17:24:30] < Detailed >  x\t\tGradient\tFinDiff\t\tDifference\n",
      "[17:24:30] < Detailed >  First          \t+9.090909E-01\t+9.090909E-01\t+4.185955E-08\n",
      "[17:24:30] < Detailed >  Second         \t+3.004166E+00\t+3.004166E+00\t-1.645947E-07\n",
      "[17:24:30] < Detailed >  Row\t\tCol\t\tHessian\tFinDiff\t\tDifference\n",
      "[17:24:30] < Detailed >  First          \tFirst          \t-8.264463E-01\t-8.264462E-01\t-8.264656E-08\n",
      "[17:24:30] < Detailed >  First          \tSecond         \t+0.000000E+00\t+0.000000E+00\t+0.000000E+00\n",
      "[17:24:30] < Detailed >  Second         \tFirst          \t+0.000000E+00\t+0.000000E+00\t+0.000000E+00\n",
      "[17:24:30] < Detailed >  Second         \tSecond         \t+3.004166E+00\t+3.004166E+00\t-1.645947E-07\n"
     ]
    }
   ],
   "source": [
    "f,g,h,gdiff,hdiff = tools.checkDerivatives(myFunction,x,names=['First','Second'],logg=True)"
   ]
  },
  {
   "cell_type": "code",
   "execution_count": 17,
   "metadata": {},
   "outputs": [
    {
     "data": {
      "text/plain": [
       "array([ 4.18595454e-08, -1.64594663e-07])"
      ]
     },
     "execution_count": 17,
     "metadata": {},
     "output_type": "execute_result"
    }
   ],
   "source": [
    "gdiff"
   ]
  },
  {
   "cell_type": "code",
   "execution_count": 18,
   "metadata": {},
   "outputs": [
    {
     "data": {
      "text/plain": [
       "array([[-8.26465610e-08,  0.00000000e+00],\n",
       "       [ 0.00000000e+00, -1.64594663e-07]])"
      ]
     },
     "execution_count": 18,
     "metadata": {},
     "output_type": "execute_result"
    }
   ],
   "source": [
    "hdiff"
   ]
  },
  {
   "cell_type": "markdown",
   "metadata": {},
   "source": [
    "# Prime numbers"
   ]
  },
  {
   "cell_type": "markdown",
   "metadata": {},
   "source": [
    "Calculate prime numbers lesser or equal to an upper bound"
   ]
  },
  {
   "cell_type": "code",
   "execution_count": 19,
   "metadata": {},
   "outputs": [],
   "source": [
    "myprimes = tools.calculatePrimeNumbers(10)"
   ]
  },
  {
   "cell_type": "code",
   "execution_count": 20,
   "metadata": {},
   "outputs": [
    {
     "data": {
      "text/plain": [
       "[2, 3, 5, 7]"
      ]
     },
     "execution_count": 20,
     "metadata": {},
     "output_type": "execute_result"
    }
   ],
   "source": [
    "myprimes"
   ]
  },
  {
   "cell_type": "code",
   "execution_count": 21,
   "metadata": {},
   "outputs": [],
   "source": [
    "myprimes = tools.calculatePrimeNumbers(100)"
   ]
  },
  {
   "cell_type": "code",
   "execution_count": 22,
   "metadata": {},
   "outputs": [
    {
     "data": {
      "text/plain": [
       "[2,\n",
       " 3,\n",
       " 5,\n",
       " 7,\n",
       " 11,\n",
       " 13,\n",
       " 17,\n",
       " 19,\n",
       " 23,\n",
       " 29,\n",
       " 31,\n",
       " 37,\n",
       " 41,\n",
       " 43,\n",
       " 47,\n",
       " 53,\n",
       " 59,\n",
       " 61,\n",
       " 67,\n",
       " 71,\n",
       " 73,\n",
       " 79,\n",
       " 83,\n",
       " 89,\n",
       " 97]"
      ]
     },
     "execution_count": 22,
     "metadata": {},
     "output_type": "execute_result"
    }
   ],
   "source": [
    "myprimes"
   ]
  },
  {
   "cell_type": "markdown",
   "metadata": {},
   "source": [
    "Calculate a given number of prime numbers"
   ]
  },
  {
   "cell_type": "code",
   "execution_count": 23,
   "metadata": {},
   "outputs": [
    {
     "data": {
      "text/plain": [
       "[2, 3, 5, 7, 11, 13, 17]"
      ]
     },
     "execution_count": 23,
     "metadata": {},
     "output_type": "execute_result"
    }
   ],
   "source": [
    "myprimes = tools.getPrimeNumbers(7)\n",
    "myprimes"
   ]
  }
 ],
 "metadata": {
  "kernelspec": {
   "display_name": "Python 3",
   "language": "python",
   "name": "python3"
  },
  "language_info": {
   "codemirror_mode": {
    "name": "ipython",
    "version": 3
   },
   "file_extension": ".py",
   "mimetype": "text/x-python",
   "name": "python",
   "nbconvert_exporter": "python",
   "pygments_lexer": "ipython3",
   "version": "3.7.4"
  }
 },
 "nbformat": 4,
 "nbformat_minor": 2
}
