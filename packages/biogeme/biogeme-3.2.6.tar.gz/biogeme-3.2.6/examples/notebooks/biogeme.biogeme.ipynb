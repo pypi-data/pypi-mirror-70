{
 "cells": [
  {
   "cell_type": "markdown",
   "metadata": {},
   "source": [
    "# Module biogeme.biogeme "
   ]
  },
  {
   "cell_type": "markdown",
   "metadata": {},
   "source": [
    "## Examples of use of each function"
   ]
  },
  {
   "cell_type": "markdown",
   "metadata": {},
   "source": [
    "This webpage is for programmers who need examples of use of the functions of the module. The examples are designed to illustrate the syntax. They do not correspond to any meaningful model. For examples of models, visit  [biogeme.epfl.ch](http://biogeme.epfl.ch)."
   ]
  },
  {
   "cell_type": "code",
   "execution_count": 1,
   "metadata": {},
   "outputs": [
    {
     "name": "stdout",
     "output_type": "stream",
     "text": [
      "2020-06-03 09:55:38.814782\n"
     ]
    }
   ],
   "source": [
    "import datetime\n",
    "print(datetime.datetime.now())"
   ]
  },
  {
   "cell_type": "code",
   "execution_count": 2,
   "metadata": {},
   "outputs": [
    {
     "name": "stdout",
     "output_type": "stream",
     "text": [
      "biogeme 3.2.6 [2020-06-03]\n",
      "Version entirely written in Python\n",
      "Home page: http://biogeme.epfl.ch\n",
      "Submit questions to https://groups.google.com/d/forum/biogeme\n",
      "Michel Bierlaire, Transport and Mobility Laboratory, Ecole Polytechnique Fédérale de Lausanne (EPFL)\n",
      "\n"
     ]
    }
   ],
   "source": [
    "import biogeme.version as ver\n",
    "print(ver.getText())"
   ]
  },
  {
   "cell_type": "code",
   "execution_count": 3,
   "metadata": {},
   "outputs": [],
   "source": [
    "import biogeme.biogeme as bio\n",
    "import biogeme.database as db\n",
    "import pandas as pd\n",
    "import numpy as np\n",
    "from biogeme.expressions import Beta, Variable, exp"
   ]
  },
  {
   "cell_type": "markdown",
   "metadata": {},
   "source": [
    "Define the verbosity of Biogeme"
   ]
  },
  {
   "cell_type": "code",
   "execution_count": 4,
   "metadata": {},
   "outputs": [],
   "source": [
    "import biogeme.messaging as msg\n",
    "logger = msg.bioMessage()\n",
    "logger.setDetailed()"
   ]
  },
  {
   "cell_type": "markdown",
   "metadata": {},
   "source": [
    "##  Definition of a database"
   ]
  },
  {
   "cell_type": "code",
   "execution_count": 5,
   "metadata": {},
   "outputs": [],
   "source": [
    "df = pd.DataFrame({'Person':[1,1,1,2,2],\n",
    "                   'Exclude':[0,0,1,0,1],\n",
    "                   'Variable1':[1,2,3,4,5],\n",
    "                   'Variable2':[10,20,30,40,50],\n",
    "                   'Choice':[1,2,3,1,2],\n",
    "                   'Av1':[0,1,1,1,1],\n",
    "                   'Av2':[1,1,1,1,1],\n",
    "                   'Av3':[0,1,1,1,1]})\n",
    "myData = db.Database('test', df)"
   ]
  },
  {
   "cell_type": "markdown",
   "metadata": {},
   "source": [
    "## Definition of various expressions"
   ]
  },
  {
   "cell_type": "code",
   "execution_count": 6,
   "metadata": {},
   "outputs": [],
   "source": [
    "Variable1=Variable('Variable1')\n",
    "Variable2=Variable('Variable2')\n",
    "beta1 = Beta('beta1', -1.0, -3, 3, 0)\n",
    "beta2 = Beta('beta2', 2.0, -3, 10, 0)\n",
    "likelihood = -beta1**2 * Variable1 - exp(beta2 * beta1) \\\n",
    "    * Variable2 - beta2**4\n",
    "simul = beta1 / Variable1 + beta2 / Variable2\n",
    "dictOfExpressions = {'loglike': likelihood, \n",
    "                     'beta1': beta1,\n",
    "                     'simul': simul}"
   ]
  },
  {
   "cell_type": "markdown",
   "metadata": {},
   "source": [
    "## Creation of the BIOGEME object"
   ]
  },
  {
   "cell_type": "code",
   "execution_count": 7,
   "metadata": {},
   "outputs": [
    {
     "name": "stdout",
     "output_type": "stream",
     "text": [
      "[09:55:40] < General >   Remove 6 unused variables from the database as only 2 are used.\n",
      "[09:55:40] < Detailed >  It is suggested to scale the following variables.\n",
      "[09:55:40] < Detailed >  Multiply Variable2 by\t0.01 because the largest (abs) value is\t50\n",
      "[09:55:40] < Detailed >  To remove this feature, set the parametersuggestScales to False when creating theBIOGEME object.\n",
      "simpleExample: database [test]{'loglike': ((((-(beta1(-1.0) ** `2`)) * Variable1) - (exp((beta2(2.0) * beta1(-1.0))) * Variable2)) - (beta2(2.0) ** `4`)), 'beta1': beta1(-1.0), 'simul': ((beta1(-1.0) / Variable1) + (beta2(2.0) / Variable2))}\n",
      "simpleExample: database [test]{'loglike': ((((-(beta1(-1.0) ** `2`)) * Variable1) - (exp((beta2(2.0) * beta1(-1.0))) * Variable2)) - (beta2(2.0) ** `4`)), 'beta1': beta1(-1.0), 'simul': ((beta1(-1.0) / Variable1) + (beta2(2.0) / Variable2))}\n"
     ]
    }
   ],
   "source": [
    "myBiogeme = bio.BIOGEME(myData, dictOfExpressions)\n",
    "myBiogeme.modelName = 'simpleExample'\n",
    "print(myBiogeme)"
   ]
  },
  {
   "cell_type": "markdown",
   "metadata": {},
   "source": [
    "Note that, by default, Biogeme removes the unused variables from the database to optimize space."
   ]
  },
  {
   "cell_type": "code",
   "execution_count": 8,
   "metadata": {},
   "outputs": [
    {
     "data": {
      "text/plain": [
       "Index(['Person', 'Exclude', 'Variable1', 'Variable2', 'Choice', 'Av1', 'Av2',\n",
       "       'Av3'],\n",
       "      dtype='object')"
      ]
     },
     "execution_count": 8,
     "metadata": {},
     "output_type": "execute_result"
    }
   ],
   "source": [
    "myBiogeme.database.data.columns"
   ]
  },
  {
   "cell_type": "markdown",
   "metadata": {},
   "source": [
    "## calculateInitLikelihood"
   ]
  },
  {
   "cell_type": "code",
   "execution_count": 9,
   "metadata": {},
   "outputs": [
    {
     "name": "stdout",
     "output_type": "stream",
     "text": [
      "[09:55:40] < Detailed >  Log likelihood (N = 5):  -115.3003\n"
     ]
    },
    {
     "data": {
      "text/plain": [
       "-115.30029248549191"
      ]
     },
     "execution_count": 9,
     "metadata": {},
     "output_type": "execute_result"
    }
   ],
   "source": [
    "myBiogeme.calculateInitLikelihood()"
   ]
  },
  {
   "cell_type": "markdown",
   "metadata": {},
   "source": [
    "## calculateLikelihood"
   ]
  },
  {
   "cell_type": "code",
   "execution_count": 10,
   "metadata": {},
   "outputs": [
    {
     "name": "stdout",
     "output_type": "stream",
     "text": [
      "[0.0, 3.0]\n"
     ]
    }
   ],
   "source": [
    "x = myBiogeme.betaInitValues\n",
    "xplus = [v + 1 for v in x]\n",
    "print(xplus)"
   ]
  },
  {
   "cell_type": "code",
   "execution_count": 11,
   "metadata": {},
   "outputs": [
    {
     "name": "stdout",
     "output_type": "stream",
     "text": [
      "[09:55:40] < Detailed >  Log likelihood (N = 5):       -555\n"
     ]
    },
    {
     "data": {
      "text/plain": [
       "-111.0"
      ]
     },
     "execution_count": 11,
     "metadata": {},
     "output_type": "execute_result"
    }
   ],
   "source": [
    "myBiogeme.calculateLikelihood(xplus, scaled=True)"
   ]
  },
  {
   "cell_type": "markdown",
   "metadata": {},
   "source": [
    "It is possible to calculate the likelihood based only on a sample of the data"
   ]
  },
  {
   "cell_type": "code",
   "execution_count": 12,
   "metadata": {},
   "outputs": [
    {
     "name": "stdout",
     "output_type": "stream",
     "text": [
      "[09:55:40] < Detailed >  Use 50.0% of the data.\n",
      "[09:55:40] < Detailed >  Log likelihood (N = 2):       -222\n"
     ]
    },
    {
     "data": {
      "text/plain": [
       "-111.0"
      ]
     },
     "execution_count": 12,
     "metadata": {},
     "output_type": "execute_result"
    }
   ],
   "source": [
    "myBiogeme.calculateLikelihood(xplus, scaled=True, batch=0.5)"
   ]
  },
  {
   "cell_type": "code",
   "execution_count": 13,
   "metadata": {},
   "outputs": [
    {
     "data": {
      "text/html": [
       "<div>\n",
       "<style scoped>\n",
       "    .dataframe tbody tr th:only-of-type {\n",
       "        vertical-align: middle;\n",
       "    }\n",
       "\n",
       "    .dataframe tbody tr th {\n",
       "        vertical-align: top;\n",
       "    }\n",
       "\n",
       "    .dataframe thead th {\n",
       "        text-align: right;\n",
       "    }\n",
       "</style>\n",
       "<table border=\"1\" class=\"dataframe\">\n",
       "  <thead>\n",
       "    <tr style=\"text-align: right;\">\n",
       "      <th></th>\n",
       "      <th>Person</th>\n",
       "      <th>Exclude</th>\n",
       "      <th>Variable1</th>\n",
       "      <th>Variable2</th>\n",
       "      <th>Choice</th>\n",
       "      <th>Av1</th>\n",
       "      <th>Av2</th>\n",
       "      <th>Av3</th>\n",
       "    </tr>\n",
       "  </thead>\n",
       "  <tbody>\n",
       "    <tr>\n",
       "      <th>0</th>\n",
       "      <td>1</td>\n",
       "      <td>0</td>\n",
       "      <td>1</td>\n",
       "      <td>10</td>\n",
       "      <td>1</td>\n",
       "      <td>0</td>\n",
       "      <td>1</td>\n",
       "      <td>0</td>\n",
       "    </tr>\n",
       "    <tr>\n",
       "      <th>4</th>\n",
       "      <td>2</td>\n",
       "      <td>1</td>\n",
       "      <td>5</td>\n",
       "      <td>50</td>\n",
       "      <td>2</td>\n",
       "      <td>1</td>\n",
       "      <td>1</td>\n",
       "      <td>1</td>\n",
       "    </tr>\n",
       "  </tbody>\n",
       "</table>\n",
       "</div>"
      ],
      "text/plain": [
       "   Person  Exclude  Variable1  Variable2  Choice  Av1  Av2  Av3\n",
       "0       1        0          1         10       1    0    1    0\n",
       "4       2        1          5         50       2    1    1    1"
      ]
     },
     "execution_count": 13,
     "metadata": {},
     "output_type": "execute_result"
    }
   ],
   "source": [
    "myBiogeme.database.data"
   ]
  },
  {
   "cell_type": "code",
   "execution_count": 14,
   "metadata": {},
   "outputs": [
    {
     "name": "stdout",
     "output_type": "stream",
     "text": [
      "[09:55:40] < Detailed >  Use 60.0% of the data.\n",
      "[09:55:40] < Detailed >  Log likelihood (N = 3):       -303\n"
     ]
    },
    {
     "data": {
      "text/plain": [
       "-101.0"
      ]
     },
     "execution_count": 14,
     "metadata": {},
     "output_type": "execute_result"
    }
   ],
   "source": [
    "myBiogeme.calculateLikelihood(xplus, scaled=True, batch=0.6)"
   ]
  },
  {
   "cell_type": "code",
   "execution_count": 15,
   "metadata": {},
   "outputs": [
    {
     "data": {
      "text/html": [
       "<div>\n",
       "<style scoped>\n",
       "    .dataframe tbody tr th:only-of-type {\n",
       "        vertical-align: middle;\n",
       "    }\n",
       "\n",
       "    .dataframe tbody tr th {\n",
       "        vertical-align: top;\n",
       "    }\n",
       "\n",
       "    .dataframe thead th {\n",
       "        text-align: right;\n",
       "    }\n",
       "</style>\n",
       "<table border=\"1\" class=\"dataframe\">\n",
       "  <thead>\n",
       "    <tr style=\"text-align: right;\">\n",
       "      <th></th>\n",
       "      <th>Person</th>\n",
       "      <th>Exclude</th>\n",
       "      <th>Variable1</th>\n",
       "      <th>Variable2</th>\n",
       "      <th>Choice</th>\n",
       "      <th>Av1</th>\n",
       "      <th>Av2</th>\n",
       "      <th>Av3</th>\n",
       "    </tr>\n",
       "  </thead>\n",
       "  <tbody>\n",
       "    <tr>\n",
       "      <th>2</th>\n",
       "      <td>1</td>\n",
       "      <td>1</td>\n",
       "      <td>3</td>\n",
       "      <td>30</td>\n",
       "      <td>3</td>\n",
       "      <td>1</td>\n",
       "      <td>1</td>\n",
       "      <td>1</td>\n",
       "    </tr>\n",
       "    <tr>\n",
       "      <th>0</th>\n",
       "      <td>1</td>\n",
       "      <td>0</td>\n",
       "      <td>1</td>\n",
       "      <td>10</td>\n",
       "      <td>1</td>\n",
       "      <td>0</td>\n",
       "      <td>1</td>\n",
       "      <td>0</td>\n",
       "    </tr>\n",
       "    <tr>\n",
       "      <th>1</th>\n",
       "      <td>1</td>\n",
       "      <td>0</td>\n",
       "      <td>2</td>\n",
       "      <td>20</td>\n",
       "      <td>2</td>\n",
       "      <td>1</td>\n",
       "      <td>1</td>\n",
       "      <td>1</td>\n",
       "    </tr>\n",
       "  </tbody>\n",
       "</table>\n",
       "</div>"
      ],
      "text/plain": [
       "   Person  Exclude  Variable1  Variable2  Choice  Av1  Av2  Av3\n",
       "2       1        1          3         30       3    1    1    1\n",
       "0       1        0          1         10       1    0    1    0\n",
       "1       1        0          2         20       2    1    1    1"
      ]
     },
     "execution_count": 15,
     "metadata": {},
     "output_type": "execute_result"
    }
   ],
   "source": [
    "myBiogeme.database.data"
   ]
  },
  {
   "cell_type": "markdown",
   "metadata": {},
   "source": [
    "By default, each observation has the same probability to be selected in the sample. It is possible to define the selection probability to be proportional to the values of a column of the database, using the parameter 'weights'. "
   ]
  },
  {
   "cell_type": "code",
   "execution_count": 16,
   "metadata": {},
   "outputs": [
    {
     "name": "stdout",
     "output_type": "stream",
     "text": [
      "[09:55:40] < Detailed >  Use 60.0% of the data.\n",
      "[09:55:40] < Detailed >  Log likelihood (N = 3):       -353\n"
     ]
    },
    {
     "data": {
      "text/plain": [
       "-117.66666666666667"
      ]
     },
     "execution_count": 16,
     "metadata": {},
     "output_type": "execute_result"
    }
   ],
   "source": [
    "myBiogeme.columnForBatchSamplingWeights = 'Variable2'\n",
    "myBiogeme.calculateLikelihood(xplus, scaled=True, batch=0.6)"
   ]
  },
  {
   "cell_type": "code",
   "execution_count": 17,
   "metadata": {},
   "outputs": [
    {
     "data": {
      "text/html": [
       "<div>\n",
       "<style scoped>\n",
       "    .dataframe tbody tr th:only-of-type {\n",
       "        vertical-align: middle;\n",
       "    }\n",
       "\n",
       "    .dataframe tbody tr th {\n",
       "        vertical-align: top;\n",
       "    }\n",
       "\n",
       "    .dataframe thead th {\n",
       "        text-align: right;\n",
       "    }\n",
       "</style>\n",
       "<table border=\"1\" class=\"dataframe\">\n",
       "  <thead>\n",
       "    <tr style=\"text-align: right;\">\n",
       "      <th></th>\n",
       "      <th>Person</th>\n",
       "      <th>Exclude</th>\n",
       "      <th>Variable1</th>\n",
       "      <th>Variable2</th>\n",
       "      <th>Choice</th>\n",
       "      <th>Av1</th>\n",
       "      <th>Av2</th>\n",
       "      <th>Av3</th>\n",
       "    </tr>\n",
       "  </thead>\n",
       "  <tbody>\n",
       "    <tr>\n",
       "      <th>1</th>\n",
       "      <td>1</td>\n",
       "      <td>0</td>\n",
       "      <td>2</td>\n",
       "      <td>20</td>\n",
       "      <td>2</td>\n",
       "      <td>1</td>\n",
       "      <td>1</td>\n",
       "      <td>1</td>\n",
       "    </tr>\n",
       "    <tr>\n",
       "      <th>4</th>\n",
       "      <td>2</td>\n",
       "      <td>1</td>\n",
       "      <td>5</td>\n",
       "      <td>50</td>\n",
       "      <td>2</td>\n",
       "      <td>1</td>\n",
       "      <td>1</td>\n",
       "      <td>1</td>\n",
       "    </tr>\n",
       "    <tr>\n",
       "      <th>3</th>\n",
       "      <td>2</td>\n",
       "      <td>0</td>\n",
       "      <td>4</td>\n",
       "      <td>40</td>\n",
       "      <td>1</td>\n",
       "      <td>1</td>\n",
       "      <td>1</td>\n",
       "      <td>1</td>\n",
       "    </tr>\n",
       "  </tbody>\n",
       "</table>\n",
       "</div>"
      ],
      "text/plain": [
       "   Person  Exclude  Variable1  Variable2  Choice  Av1  Av2  Av3\n",
       "1       1        0          2         20       2    1    1    1\n",
       "4       2        1          5         50       2    1    1    1\n",
       "3       2        0          4         40       1    1    1    1"
      ]
     },
     "execution_count": 17,
     "metadata": {},
     "output_type": "execute_result"
    }
   ],
   "source": [
    "myBiogeme.database.data"
   ]
  },
  {
   "cell_type": "markdown",
   "metadata": {},
   "source": [
    "## calculateLikelihoodAndDerivatives"
   ]
  },
  {
   "cell_type": "code",
   "execution_count": 18,
   "metadata": {},
   "outputs": [
    {
     "name": "stdout",
     "output_type": "stream",
     "text": [
      "[09:55:40] < General >   Log likelihood (N = 5):       -555 Gradient norm:      7e+02 Hessian norm:       1e+03 BHHH norm:       1e+05\n",
      "f = -111.0\n",
      "g = [ -90. -108.]\n",
      "h = [[-270.  -30.]\n",
      " [ -30. -108.]]\n",
      "bhhh = [[ 9900.  9720.]\n",
      " [ 9720. 11664.]]\n"
     ]
    }
   ],
   "source": [
    "f, g, h, bhhh = myBiogeme.\\\n",
    "    calculateLikelihoodAndDerivatives(xplus,\n",
    "                                      scaled=True,\n",
    "                                      hessian=True,\n",
    "                                      bhhh=True)\n",
    "print(f'f = {f}')\n",
    "print(f'g = {g}')\n",
    "print(f'h = {h}')\n",
    "print(f'bhhh = {bhhh}')"
   ]
  },
  {
   "cell_type": "markdown",
   "metadata": {},
   "source": [
    "Now the unscaled version"
   ]
  },
  {
   "cell_type": "code",
   "execution_count": 19,
   "metadata": {},
   "outputs": [
    {
     "name": "stdout",
     "output_type": "stream",
     "text": [
      "[09:55:40] < General >   Log likelihood (N = 5):       -555 Gradient norm:      7e+02 Hessian norm:       1e+03 BHHH norm:       1e+05\n",
      "f = -555.0\n",
      "g = [-450. -540.]\n",
      "h = [[-1350.  -150.]\n",
      " [ -150.  -540.]]\n",
      "bhhh = [[49500. 48600.]\n",
      " [48600. 58320.]]\n"
     ]
    }
   ],
   "source": [
    "f, g, h, bhhh = myBiogeme.\\\n",
    "    calculateLikelihoodAndDerivatives(xplus,\n",
    "                                      scaled=False,\n",
    "                                      hessian=True,\n",
    "                                      bhhh=True)\n",
    "print(f'f = {f}')\n",
    "print(f'g = {g}')\n",
    "print(f'h = {h}')\n",
    "print(f'bhhh = {bhhh}')"
   ]
  },
  {
   "cell_type": "markdown",
   "metadata": {},
   "source": [
    "Using only a sample of the data"
   ]
  },
  {
   "cell_type": "code",
   "execution_count": 20,
   "metadata": {},
   "outputs": [
    {
     "name": "stdout",
     "output_type": "stream",
     "text": [
      "[09:55:40] < Detailed >  Use 50.0% of the data.\n",
      "[09:55:40] < General >   Log likelihood (N = 2):       -222 Gradient norm:      3e+02 Hessian norm:       6e+02 BHHH norm:       4e+04\n",
      "f = -111.0\n",
      "g = [ -90. -108.]\n",
      "h = [[-270.  -30.]\n",
      " [ -30. -108.]]\n",
      "bhhh = [[ 9000.  9720.]\n",
      " [ 9720. 11664.]]\n"
     ]
    }
   ],
   "source": [
    "f, g, h, bhhh = myBiogeme.\\\n",
    "    calculateLikelihoodAndDerivatives(xplus,\n",
    "                                      scaled=True,\n",
    "                                      batch=0.5,\n",
    "                                      hessian=True,\n",
    "                                      bhhh=True)\n",
    "print(f'f = {f}')\n",
    "print(f'g = {g}')\n",
    "print(f'h = {h}')\n",
    "print(f'bhhh = {bhhh}')"
   ]
  },
  {
   "cell_type": "markdown",
   "metadata": {},
   "source": [
    "## likelihoodFiniteDifferenceHessian"
   ]
  },
  {
   "cell_type": "code",
   "execution_count": 21,
   "metadata": {},
   "outputs": [
    {
     "name": "stdout",
     "output_type": "stream",
     "text": [
      "[09:55:40] < General >   Log likelihood (N = 5):       -555 Gradient norm:      7e+02  \n",
      "[09:55:40] < General >   Log likelihood (N = 5):       -555 Gradient norm:      7e+02  \n",
      "[09:55:40] < General >   Log likelihood (N = 5):  -555.0002 Gradient norm:      7e+02  \n"
     ]
    },
    {
     "data": {
      "text/plain": [
       "array([[-1380.00020229,  -150.        ],\n",
       "       [ -150.0000451 ,  -540.00005396]])"
      ]
     },
     "execution_count": 21,
     "metadata": {},
     "output_type": "execute_result"
    }
   ],
   "source": [
    "myBiogeme.likelihoodFiniteDifferenceHessian(xplus)"
   ]
  },
  {
   "cell_type": "markdown",
   "metadata": {},
   "source": [
    "## checkDerivatives"
   ]
  },
  {
   "cell_type": "code",
   "execution_count": 22,
   "metadata": {},
   "outputs": [
    {
     "name": "stdout",
     "output_type": "stream",
     "text": [
      "[09:55:40] < General >   Log likelihood (N = 5):  -115.3003 Gradient norm:      1e+02 Hessian norm:       3e+02 \n",
      "[09:55:40] < General >   Log likelihood (N = 5):  -115.3003 Gradient norm:      1e+02 Hessian norm:       3e+02 \n",
      "[09:55:40] < General >   Log likelihood (N = 5):  -115.3003 Gradient norm:      1e+02 Hessian norm:       3e+02 \n",
      "[09:55:40] < General >   Log likelihood (N = 5):  -115.3003 Gradient norm:      1e+02 Hessian norm:       3e+02 \n",
      "[09:55:40] < Detailed >  x\t\tGradient\tFinDiff\t\tDifference\n",
      "[09:55:40] < Detailed >  beta1          \t-1.060058E+01\t-1.060058E+01\t-5.427932E-06\n",
      "[09:55:40] < Detailed >  beta2          \t-1.396997E+02\t-1.396997E+02\t+2.608000E-05\n",
      "[09:55:40] < General >   Log likelihood (N = 5):  -115.3003 Gradient norm:      1e+02 Hessian norm:       3e+02 \n",
      "[09:55:40] < General >   Log likelihood (N = 5):  -115.3003 Gradient norm:      1e+02 Hessian norm:       3e+02 \n",
      "[09:55:40] < General >   Log likelihood (N = 5):  -115.3003 Gradient norm:      1e+02 Hessian norm:       3e+02 \n",
      "[09:55:40] < Detailed >  Row\t\tCol\t\tHessian\tFinDiff\t\tDifference\n",
      "[09:55:40] < Detailed >  beta1          \tbeta1          \t-1.112012E+02\t-1.112012E+02\t-8.045522E-06\n",
      "[09:55:40] < Detailed >  beta1          \tbeta2          \t+2.030029E+01\t+2.030029E+01\t+7.365980E-09\n",
      "[09:55:40] < Detailed >  beta2          \tbeta1          \t+2.030029E+01\t+2.030029E+01\t-1.613879E-07\n",
      "[09:55:40] < Detailed >  beta2          \tbeta2          \t-2.603003E+02\t-2.603003E+02\t+2.229281E-05\n"
     ]
    }
   ],
   "source": [
    "f, g, h, gdiff, hdiff = myBiogeme.checkDerivatives(verbose=True)"
   ]
  },
  {
   "cell_type": "code",
   "execution_count": 23,
   "metadata": {},
   "outputs": [
    {
     "name": "stdout",
     "output_type": "stream",
     "text": [
      "f = -115.30029248549191\n",
      "g = [ -10.60058497 -139.69970751]\n",
      "h = [[-111.20116994   20.30029249]\n",
      " [  20.30029249 -260.30029249]]\n",
      "gdiff = [-5.42793187e-06  2.60800035e-05]\n",
      "hdiff = [[-8.04552172e-06  7.36597983e-09]\n",
      " [-1.61387920e-07  2.22928137e-05]]\n"
     ]
    },
    {
     "data": {
      "text/plain": [
       "array([[-8.04552172e-06,  7.36597983e-09],\n",
       "       [-1.61387920e-07,  2.22928137e-05]])"
      ]
     },
     "execution_count": 23,
     "metadata": {},
     "output_type": "execute_result"
    }
   ],
   "source": [
    "print(f'f = {f}')\n",
    "print(f'g = {g}')\n",
    "print(f'h = {h}')\n",
    "print(f'gdiff = {gdiff}')\n",
    "print(f'hdiff = {hdiff}')\n",
    "hdiff"
   ]
  },
  {
   "cell_type": "markdown",
   "metadata": {},
   "source": [
    "## estimate"
   ]
  },
  {
   "cell_type": "markdown",
   "metadata": {},
   "source": [
    "During estimation, it is possible to save intermediate results, in case the estimation must be interrupted. "
   ]
  },
  {
   "cell_type": "code",
   "execution_count": 24,
   "metadata": {},
   "outputs": [
    {
     "name": "stdout",
     "output_type": "stream",
     "text": [
      "[09:55:40] < Detailed >  Log likelihood (N = 5):  -115.3003\n",
      "[09:55:40] < Detailed >  ** Optimization: BFGS with trust region for simple bounds\n",
      "[09:55:40] < General >   Log likelihood (N = 5):  -115.3003 Gradient norm:      1e+02  \n",
      "[09:55:40] < Detailed >  Log likelihood (N = 5):  -85.30029\n",
      "[09:55:40] < General >   Log likelihood (N = 5):  -85.30029 Gradient norm:      4e+01  \n",
      "[09:55:40] < Detailed >  1 f=  17.06006 projected rel. grad.=  0.43 delta=     1 rho=  0.21 +\n",
      "[09:55:40] < Detailed >  Log likelihood (N = 5):  -88.49387\n",
      "[09:55:40] < Detailed >  2 f=  17.06006 projected rel. grad.=  0.43 delta=   0.5 rho=  -0.1 -\n",
      "[09:55:40] < Detailed >  Log likelihood (N = 5):  -71.59478\n",
      "[09:55:40] < General >   Log likelihood (N = 5):  -71.59478 Gradient norm:      3e+01  \n",
      "[09:55:40] < Detailed >  3 f=  14.31896 projected rel. grad.=  0.24 delta=   0.5 rho=  0.76 +\n",
      "[09:55:40] < Detailed >  Log likelihood (N = 5):  -72.68032\n",
      "[09:55:40] < Detailed >  4 f=  14.31896 projected rel. grad.=  0.24 delta=  0.25 rho=-0.085 -\n",
      "[09:55:40] < Detailed >  Log likelihood (N = 5):  -67.11496\n",
      "[09:55:40] < General >   Log likelihood (N = 5):  -67.11496 Gradient norm:          3  \n",
      "[09:55:40] < Detailed >  5 f=  13.42299 projected rel. grad.= 0.032 delta=  0.25 rho=  0.56 +\n",
      "[09:55:40] < Detailed >  Log likelihood (N = 5):  -67.06607\n",
      "[09:55:40] < General >   Log likelihood (N = 5):  -67.06607 Gradient norm:        0.3  \n",
      "[09:55:40] < Detailed >  6 f=  13.41321 projected rel. grad.=0.0032 delta=   0.5 rho=  0.92 ++\n",
      "[09:55:40] < Detailed >  Log likelihood (N = 5):  -67.06581\n",
      "[09:55:40] < General >   Log likelihood (N = 5):  -67.06581 Gradient norm:        0.3  \n",
      "[09:55:40] < Detailed >  7 f=  13.41316 projected rel. grad.=0.0023 delta=   0.5 rho=   0.3 +\n",
      "[09:55:40] < Detailed >  Log likelihood (N = 5):  -67.06549\n",
      "[09:55:40] < General >   Log likelihood (N = 5):  -67.06549 Gradient norm:       0.03  \n",
      "[09:55:40] < Detailed >  8 f=   13.4131 projected rel. grad.=0.00036 delta=     1 rho=  0.94 ++\n",
      "[09:55:40] < Detailed >  Log likelihood (N = 5):  -67.06549\n",
      "[09:55:40] < General >   Log likelihood (N = 5):  -67.06549 Gradient norm:      0.004  \n",
      "[09:55:40] < Detailed >  9 f=   13.4131 projected rel. grad.=3.2e-05 delta=     1 rho=  0.88 +\n",
      "[09:55:40] < Detailed >  Log likelihood (N = 5):  -67.06549\n",
      "[09:55:40] < General >   Log likelihood (N = 5):  -67.06549 Gradient norm:      8e-05  \n",
      "[09:55:40] < Detailed >  10 f=   13.4131 projected rel. grad.=7.8e-07 delta=     2 rho=  0.99 ++\n",
      "[09:55:40] < Detailed >  Proportion of Hessian calculation: 0.0%\n",
      "[09:55:40] < General >   Log likelihood (N = 5):  -67.06549 Gradient norm:      8e-05 Hessian norm:       2e+02 BHHH norm:       7e+01\n",
      "[09:55:40] < General >   Re-estimate the model 10 times for bootstrapping\n",
      "[09:55:40] < General >   Results saved in file simpleExample.html\n",
      "[09:55:40] < General >   Results saved in file simpleExample.pickle\n"
     ]
    }
   ],
   "source": [
    "results = myBiogeme.estimate(bootstrap=10, saveIterations=True)"
   ]
  },
  {
   "cell_type": "code",
   "execution_count": 25,
   "metadata": {},
   "outputs": [
    {
     "data": {
      "text/html": [
       "<div>\n",
       "<style scoped>\n",
       "    .dataframe tbody tr th:only-of-type {\n",
       "        vertical-align: middle;\n",
       "    }\n",
       "\n",
       "    .dataframe tbody tr th {\n",
       "        vertical-align: top;\n",
       "    }\n",
       "\n",
       "    .dataframe thead th {\n",
       "        text-align: right;\n",
       "    }\n",
       "</style>\n",
       "<table border=\"1\" class=\"dataframe\">\n",
       "  <thead>\n",
       "    <tr style=\"text-align: right;\">\n",
       "      <th></th>\n",
       "      <th>Value</th>\n",
       "      <th>Std err</th>\n",
       "      <th>t-test</th>\n",
       "      <th>p-value</th>\n",
       "      <th>Rob. Std err</th>\n",
       "      <th>Rob. t-test</th>\n",
       "      <th>Rob. p-value</th>\n",
       "      <th>Bootstrap[10] Std err</th>\n",
       "      <th>Bootstrap t-test</th>\n",
       "      <th>Bootstrap p-value</th>\n",
       "    </tr>\n",
       "  </thead>\n",
       "  <tbody>\n",
       "    <tr>\n",
       "      <th>beta1</th>\n",
       "      <td>-1.273263</td>\n",
       "      <td>0.115144</td>\n",
       "      <td>-11.057993</td>\n",
       "      <td>0.0</td>\n",
       "      <td>0.013724</td>\n",
       "      <td>-92.778009</td>\n",
       "      <td>0.0</td>\n",
       "      <td>0.008758</td>\n",
       "      <td>-145.386570</td>\n",
       "      <td>0.0</td>\n",
       "    </tr>\n",
       "    <tr>\n",
       "      <th>beta2</th>\n",
       "      <td>1.248769</td>\n",
       "      <td>0.084830</td>\n",
       "      <td>14.720833</td>\n",
       "      <td>0.0</td>\n",
       "      <td>0.059086</td>\n",
       "      <td>21.134787</td>\n",
       "      <td>0.0</td>\n",
       "      <td>0.037993</td>\n",
       "      <td>32.868254</td>\n",
       "      <td>0.0</td>\n",
       "    </tr>\n",
       "  </tbody>\n",
       "</table>\n",
       "</div>"
      ],
      "text/plain": [
       "          Value   Std err     t-test  p-value  Rob. Std err  Rob. t-test  \\\n",
       "beta1 -1.273263  0.115144 -11.057993      0.0      0.013724   -92.778009   \n",
       "beta2  1.248769  0.084830  14.720833      0.0      0.059086    21.134787   \n",
       "\n",
       "       Rob. p-value  Bootstrap[10] Std err  Bootstrap t-test  \\\n",
       "beta1           0.0               0.008758       -145.386570   \n",
       "beta2           0.0               0.037993         32.868254   \n",
       "\n",
       "       Bootstrap p-value  \n",
       "beta1                0.0  \n",
       "beta2                0.0  "
      ]
     },
     "execution_count": 25,
     "metadata": {},
     "output_type": "execute_result"
    }
   ],
   "source": [
    "results.getEstimatedParameters()"
   ]
  },
  {
   "cell_type": "markdown",
   "metadata": {},
   "source": [
    "The values of the intermediate results saved can be retrieved as follows. "
   ]
  },
  {
   "cell_type": "markdown",
   "metadata": {},
   "source": [
    "Formula before"
   ]
  },
  {
   "cell_type": "code",
   "execution_count": 26,
   "metadata": {},
   "outputs": [
    {
     "data": {
      "text/plain": [
       "((((-(beta1(-1.0) ** `2`)) * Variable1) - (exp((beta2(2.0) * beta1(-1.0))) * Variable2)) - (beta2(2.0) ** `4`))"
      ]
     },
     "execution_count": 26,
     "metadata": {},
     "output_type": "execute_result"
    }
   ],
   "source": [
    "myBiogeme.loglike"
   ]
  },
  {
   "cell_type": "markdown",
   "metadata": {},
   "source": [
    "Retrieving the values"
   ]
  },
  {
   "cell_type": "code",
   "execution_count": 27,
   "metadata": {},
   "outputs": [
    {
     "name": "stdout",
     "output_type": "stream",
     "text": [
      "[09:55:40] < Detailed >  Parameter values restored from __savedIterations.txt\n"
     ]
    },
    {
     "data": {
      "text/plain": [
       "((((-(beta1(-1.2925578840958771) ** `2`)) * Variable1) - (exp((beta2(1.1643222545676006) * beta1(-1.2925578840958771))) * Variable2)) - (beta2(1.1643222545676006) ** `4`))"
      ]
     },
     "execution_count": 27,
     "metadata": {},
     "output_type": "execute_result"
    }
   ],
   "source": [
    "myBiogeme.loadSavedIteration()\n",
    "myBiogeme.loglike"
   ]
  },
  {
   "cell_type": "markdown",
   "metadata": {},
   "source": [
    "A file name can be given. If the file does not exist, the statement is ignored. "
   ]
  },
  {
   "cell_type": "code",
   "execution_count": 28,
   "metadata": {},
   "outputs": [
    {
     "name": "stdout",
     "output_type": "stream",
     "text": [
      "[09:55:40] < Warning >   Cannot read file fileThatDoesNotExist.txt. Statement is ignored.\n"
     ]
    }
   ],
   "source": [
    "myBiogeme.loadSavedIteration(filename='fileThatDoesNotExist.txt')"
   ]
  },
  {
   "cell_type": "markdown",
   "metadata": {},
   "source": [
    "## simulate"
   ]
  },
  {
   "cell_type": "markdown",
   "metadata": {},
   "source": [
    "Simulate with the default values for the parameters"
   ]
  },
  {
   "cell_type": "code",
   "execution_count": 29,
   "metadata": {},
   "outputs": [
    {
     "data": {
      "text/html": [
       "<div>\n",
       "<style scoped>\n",
       "    .dataframe tbody tr th:only-of-type {\n",
       "        vertical-align: middle;\n",
       "    }\n",
       "\n",
       "    .dataframe tbody tr th {\n",
       "        vertical-align: top;\n",
       "    }\n",
       "\n",
       "    .dataframe thead th {\n",
       "        text-align: right;\n",
       "    }\n",
       "</style>\n",
       "<table border=\"1\" class=\"dataframe\">\n",
       "  <thead>\n",
       "    <tr style=\"text-align: right;\">\n",
       "      <th></th>\n",
       "      <th>loglike</th>\n",
       "      <th>beta1</th>\n",
       "      <th>simul</th>\n",
       "    </tr>\n",
       "  </thead>\n",
       "  <tbody>\n",
       "    <tr>\n",
       "      <th>0</th>\n",
       "      <td>-5.728758</td>\n",
       "      <td>-1.292558</td>\n",
       "      <td>-1.176126</td>\n",
       "    </tr>\n",
       "    <tr>\n",
       "      <th>1</th>\n",
       "      <td>-9.619739</td>\n",
       "      <td>-1.292558</td>\n",
       "      <td>-0.588063</td>\n",
       "    </tr>\n",
       "    <tr>\n",
       "      <th>2</th>\n",
       "      <td>-13.510720</td>\n",
       "      <td>-1.292558</td>\n",
       "      <td>-0.392042</td>\n",
       "    </tr>\n",
       "    <tr>\n",
       "      <th>3</th>\n",
       "      <td>-17.401702</td>\n",
       "      <td>-1.292558</td>\n",
       "      <td>-0.294031</td>\n",
       "    </tr>\n",
       "    <tr>\n",
       "      <th>4</th>\n",
       "      <td>-21.292683</td>\n",
       "      <td>-1.292558</td>\n",
       "      <td>-0.235225</td>\n",
       "    </tr>\n",
       "  </tbody>\n",
       "</table>\n",
       "</div>"
      ],
      "text/plain": [
       "     loglike     beta1     simul\n",
       "0  -5.728758 -1.292558 -1.176126\n",
       "1  -9.619739 -1.292558 -0.588063\n",
       "2 -13.510720 -1.292558 -0.392042\n",
       "3 -17.401702 -1.292558 -0.294031\n",
       "4 -21.292683 -1.292558 -0.235225"
      ]
     },
     "execution_count": 29,
     "metadata": {},
     "output_type": "execute_result"
    }
   ],
   "source": [
    "simulationWithDefaultBetas = myBiogeme.simulate()\n",
    "simulationWithDefaultBetas"
   ]
  },
  {
   "cell_type": "markdown",
   "metadata": {},
   "source": [
    "Simulate with the estimated values for the parameters"
   ]
  },
  {
   "cell_type": "code",
   "execution_count": 30,
   "metadata": {},
   "outputs": [
    {
     "name": "stdout",
     "output_type": "stream",
     "text": [
      "{'beta1': -1.2732631104451704, 'beta2': 1.248768684068648}\n"
     ]
    },
    {
     "data": {
      "text/html": [
       "<div>\n",
       "<style scoped>\n",
       "    .dataframe tbody tr th:only-of-type {\n",
       "        vertical-align: middle;\n",
       "    }\n",
       "\n",
       "    .dataframe tbody tr th {\n",
       "        vertical-align: top;\n",
       "    }\n",
       "\n",
       "    .dataframe thead th {\n",
       "        text-align: right;\n",
       "    }\n",
       "</style>\n",
       "<table border=\"1\" class=\"dataframe\">\n",
       "  <thead>\n",
       "    <tr style=\"text-align: right;\">\n",
       "      <th></th>\n",
       "      <th>loglike</th>\n",
       "      <th>beta1</th>\n",
       "      <th>simul</th>\n",
       "    </tr>\n",
       "  </thead>\n",
       "  <tbody>\n",
       "    <tr>\n",
       "      <th>0</th>\n",
       "      <td>-6.092233</td>\n",
       "      <td>-1.273263</td>\n",
       "      <td>-1.148386</td>\n",
       "    </tr>\n",
       "    <tr>\n",
       "      <th>1</th>\n",
       "      <td>-9.752666</td>\n",
       "      <td>-1.273263</td>\n",
       "      <td>-0.574193</td>\n",
       "    </tr>\n",
       "    <tr>\n",
       "      <th>2</th>\n",
       "      <td>-13.413098</td>\n",
       "      <td>-1.273263</td>\n",
       "      <td>-0.382795</td>\n",
       "    </tr>\n",
       "    <tr>\n",
       "      <th>3</th>\n",
       "      <td>-17.073531</td>\n",
       "      <td>-1.273263</td>\n",
       "      <td>-0.287097</td>\n",
       "    </tr>\n",
       "    <tr>\n",
       "      <th>4</th>\n",
       "      <td>-20.733963</td>\n",
       "      <td>-1.273263</td>\n",
       "      <td>-0.229677</td>\n",
       "    </tr>\n",
       "  </tbody>\n",
       "</table>\n",
       "</div>"
      ],
      "text/plain": [
       "     loglike     beta1     simul\n",
       "0  -6.092233 -1.273263 -1.148386\n",
       "1  -9.752666 -1.273263 -0.574193\n",
       "2 -13.413098 -1.273263 -0.382795\n",
       "3 -17.073531 -1.273263 -0.287097\n",
       "4 -20.733963 -1.273263 -0.229677"
      ]
     },
     "execution_count": 30,
     "metadata": {},
     "output_type": "execute_result"
    }
   ],
   "source": [
    "print(results.getBetaValues())\n",
    "simulationWithEstimatedBetas =\\\n",
    "    myBiogeme.simulate(results.getBetaValues())\n",
    "simulationWithEstimatedBetas"
   ]
  },
  {
   "cell_type": "markdown",
   "metadata": {},
   "source": [
    "## confidenceIntervals"
   ]
  },
  {
   "cell_type": "code",
   "execution_count": 31,
   "metadata": {},
   "outputs": [
    {
     "data": {
      "text/html": [
       "<div>\n",
       "<style scoped>\n",
       "    .dataframe tbody tr th:only-of-type {\n",
       "        vertical-align: middle;\n",
       "    }\n",
       "\n",
       "    .dataframe tbody tr th {\n",
       "        vertical-align: top;\n",
       "    }\n",
       "\n",
       "    .dataframe thead th {\n",
       "        text-align: right;\n",
       "    }\n",
       "</style>\n",
       "<table border=\"1\" class=\"dataframe\">\n",
       "  <thead>\n",
       "    <tr style=\"text-align: right;\">\n",
       "      <th></th>\n",
       "      <th>loglike</th>\n",
       "      <th>beta1</th>\n",
       "      <th>simul</th>\n",
       "    </tr>\n",
       "  </thead>\n",
       "  <tbody>\n",
       "    <tr>\n",
       "      <th>0</th>\n",
       "      <td>-6.827964</td>\n",
       "      <td>-1.296711</td>\n",
       "      <td>-1.181929</td>\n",
       "    </tr>\n",
       "    <tr>\n",
       "      <th>1</th>\n",
       "      <td>-10.212145</td>\n",
       "      <td>-1.296711</td>\n",
       "      <td>-0.590964</td>\n",
       "    </tr>\n",
       "    <tr>\n",
       "      <th>2</th>\n",
       "      <td>-13.681666</td>\n",
       "      <td>-1.296711</td>\n",
       "      <td>-0.393976</td>\n",
       "    </tr>\n",
       "    <tr>\n",
       "      <th>3</th>\n",
       "      <td>-17.491057</td>\n",
       "      <td>-1.296711</td>\n",
       "      <td>-0.295482</td>\n",
       "    </tr>\n",
       "    <tr>\n",
       "      <th>4</th>\n",
       "      <td>-21.429878</td>\n",
       "      <td>-1.296711</td>\n",
       "      <td>-0.236386</td>\n",
       "    </tr>\n",
       "  </tbody>\n",
       "</table>\n",
       "</div>"
      ],
      "text/plain": [
       "     loglike     beta1     simul\n",
       "0  -6.827964 -1.296711 -1.181929\n",
       "1 -10.212145 -1.296711 -0.590964\n",
       "2 -13.681666 -1.296711 -0.393976\n",
       "3 -17.491057 -1.296711 -0.295482\n",
       "4 -21.429878 -1.296711 -0.236386"
      ]
     },
     "execution_count": 31,
     "metadata": {},
     "output_type": "execute_result"
    }
   ],
   "source": [
    "drawsFromBetas =\\\n",
    "    results.getBetasForSensitivityAnalysis(myBiogeme.freeBetaNames)\n",
    "left, right = myBiogeme.confidenceIntervals(drawsFromBetas)\n",
    "left"
   ]
  },
  {
   "cell_type": "code",
   "execution_count": 32,
   "metadata": {},
   "outputs": [
    {
     "data": {
      "text/html": [
       "<div>\n",
       "<style scoped>\n",
       "    .dataframe tbody tr th:only-of-type {\n",
       "        vertical-align: middle;\n",
       "    }\n",
       "\n",
       "    .dataframe tbody tr th {\n",
       "        vertical-align: top;\n",
       "    }\n",
       "\n",
       "    .dataframe thead th {\n",
       "        text-align: right;\n",
       "    }\n",
       "</style>\n",
       "<table border=\"1\" class=\"dataframe\">\n",
       "  <thead>\n",
       "    <tr style=\"text-align: right;\">\n",
       "      <th></th>\n",
       "      <th>loglike</th>\n",
       "      <th>beta1</th>\n",
       "      <th>simul</th>\n",
       "    </tr>\n",
       "  </thead>\n",
       "  <tbody>\n",
       "    <tr>\n",
       "      <th>0</th>\n",
       "      <td>-5.674594</td>\n",
       "      <td>-1.246905</td>\n",
       "      <td>-1.110680</td>\n",
       "    </tr>\n",
       "    <tr>\n",
       "      <th>1</th>\n",
       "      <td>-9.615192</td>\n",
       "      <td>-1.246905</td>\n",
       "      <td>-0.555340</td>\n",
       "    </tr>\n",
       "    <tr>\n",
       "      <th>2</th>\n",
       "      <td>-13.413484</td>\n",
       "      <td>-1.246905</td>\n",
       "      <td>-0.370227</td>\n",
       "    </tr>\n",
       "    <tr>\n",
       "      <th>3</th>\n",
       "      <td>-16.967242</td>\n",
       "      <td>-1.246905</td>\n",
       "      <td>-0.277670</td>\n",
       "    </tr>\n",
       "    <tr>\n",
       "      <th>4</th>\n",
       "      <td>-20.364691</td>\n",
       "      <td>-1.246905</td>\n",
       "      <td>-0.222136</td>\n",
       "    </tr>\n",
       "  </tbody>\n",
       "</table>\n",
       "</div>"
      ],
      "text/plain": [
       "     loglike     beta1     simul\n",
       "0  -5.674594 -1.246905 -1.110680\n",
       "1  -9.615192 -1.246905 -0.555340\n",
       "2 -13.413484 -1.246905 -0.370227\n",
       "3 -16.967242 -1.246905 -0.277670\n",
       "4 -20.364691 -1.246905 -0.222136"
      ]
     },
     "execution_count": 32,
     "metadata": {},
     "output_type": "execute_result"
    }
   ],
   "source": [
    "right"
   ]
  },
  {
   "cell_type": "markdown",
   "metadata": {},
   "source": [
    "## validate"
   ]
  },
  {
   "cell_type": "markdown",
   "metadata": {},
   "source": [
    "The validation consists in organizing the data into several slices of about the same size, randomly defined. \n",
    "Each slide is considered as a validation dataset. The model is then re-estimated using all the data except the slice, and the estimated model is applied on the validation set (i.e. the slice). The value of the log likelihood for each observation in the validation set is reported in a dataframe. As this is done for each slice, the output is a list of dataframes, each corresponding to one of these exercises.   "
   ]
  },
  {
   "cell_type": "code",
   "execution_count": 33,
   "metadata": {},
   "outputs": [
    {
     "data": {
      "text/plain": [
       "[   Loglikelihood\n",
       " 4     -21.292683\n",
       " 3     -17.401702\n",
       " 1      -9.619739,\n",
       "    Loglikelihood\n",
       " 0      -5.728758\n",
       " 2     -13.510720]"
      ]
     },
     "execution_count": 33,
     "metadata": {},
     "output_type": "execute_result"
    }
   ],
   "source": [
    "logger.setSilent()\n",
    "validationResults = myBiogeme.validate(results, slices = 2)\n",
    "validationResults"
   ]
  },
  {
   "cell_type": "code",
   "execution_count": null,
   "metadata": {},
   "outputs": [],
   "source": []
  }
 ],
 "metadata": {
  "kernelspec": {
   "display_name": "Python 3",
   "language": "python",
   "name": "python3"
  },
  "language_info": {
   "codemirror_mode": {
    "name": "ipython",
    "version": 3
   },
   "file_extension": ".py",
   "mimetype": "text/x-python",
   "name": "python",
   "nbconvert_exporter": "python",
   "pygments_lexer": "ipython3",
   "version": "3.8.2"
  }
 },
 "nbformat": 4,
 "nbformat_minor": 2
}
