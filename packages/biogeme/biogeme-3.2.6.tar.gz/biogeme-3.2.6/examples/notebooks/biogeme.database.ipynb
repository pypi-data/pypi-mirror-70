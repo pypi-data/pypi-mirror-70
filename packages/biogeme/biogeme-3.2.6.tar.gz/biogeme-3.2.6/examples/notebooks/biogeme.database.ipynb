{
 "cells": [
  {
   "cell_type": "markdown",
   "metadata": {},
   "source": [
    "# Module biogeme.database"
   ]
  },
  {
   "cell_type": "markdown",
   "metadata": {},
   "source": [
    "## Examples of use of each function"
   ]
  },
  {
   "cell_type": "markdown",
   "metadata": {},
   "source": [
    "This webpage is for programmers who need examples of use of the functions of the class. The examples are designed to illustrate the syntax. They do not correspond to any meaningful model. For examples of models, visit  [biogeme.epfl.ch](http://biogeme.epfl.ch)."
   ]
  },
  {
   "cell_type": "code",
   "execution_count": 1,
   "metadata": {},
   "outputs": [
    {
     "name": "stdout",
     "output_type": "stream",
     "text": [
      "2020-06-04 18:11:41.480594\n"
     ]
    }
   ],
   "source": [
    "import datetime\n",
    "print(datetime.datetime.now())"
   ]
  },
  {
   "cell_type": "code",
   "execution_count": 2,
   "metadata": {},
   "outputs": [
    {
     "name": "stdout",
     "output_type": "stream",
     "text": [
      "biogeme 3.2.6 [2020-06-04]\n",
      "Version entirely written in Python\n",
      "Home page: http://biogeme.epfl.ch\n",
      "Submit questions to https://groups.google.com/d/forum/biogeme\n",
      "Michel Bierlaire, Transport and Mobility Laboratory, Ecole Polytechnique Fédérale de Lausanne (EPFL)\n",
      "\n"
     ]
    }
   ],
   "source": [
    "import biogeme.version as ver\n",
    "print(ver.getText())"
   ]
  },
  {
   "cell_type": "code",
   "execution_count": 3,
   "metadata": {},
   "outputs": [],
   "source": [
    "import pandas as pd\n",
    "import numpy as np"
   ]
  },
  {
   "cell_type": "code",
   "execution_count": 4,
   "metadata": {},
   "outputs": [],
   "source": [
    "import biogeme.database as db\n",
    "from biogeme.expressions import Variable, exp, bioDraws"
   ]
  },
  {
   "cell_type": "markdown",
   "metadata": {},
   "source": [
    "We set the seed so that the outcome of random operations is always the same."
   ]
  },
  {
   "cell_type": "code",
   "execution_count": 5,
   "metadata": {},
   "outputs": [],
   "source": [
    "np.random.seed(90267) "
   ]
  },
  {
   "cell_type": "markdown",
   "metadata": {},
   "source": [
    "## Create a database from a pandas data frame"
   ]
  },
  {
   "cell_type": "code",
   "execution_count": 6,
   "metadata": {
    "scrolled": true
   },
   "outputs": [
    {
     "name": "stdout",
     "output_type": "stream",
     "text": [
      "biogeme database test:\n",
      "   Person  Exclude  Variable1  Variable2  Choice  Av1  Av2  Av3\n",
      "0       1        0          1         10       1    0    1    0\n",
      "1       1        0          2         20       2    1    1    1\n",
      "2       1        1          3         30       3    1    1    1\n",
      "3       2        0          4         40       1    1    1    1\n",
      "4       2        1          5         50       2    1    1    1\n"
     ]
    }
   ],
   "source": [
    "df = pd.DataFrame({'Person':[1,1,1,2,2],\n",
    "                   'Exclude':[0,0,1,0,1],\n",
    "                   'Variable1':[1,2,3,4,5],\n",
    "                   'Variable2':[10,20,30,40,50],\n",
    "                   'Choice':[1,2,3,1,2],\n",
    "                   'Av1':[0,1,1,1,1],\n",
    "                   'Av2':[1,1,1,1,1],\n",
    "                   'Av3':[0,1,1,1,1]})\n",
    "myData = db.Database('test', df)\n",
    "print(myData)"
   ]
  },
  {
   "cell_type": "markdown",
   "metadata": {},
   "source": [
    "## valuesFromDatabase"
   ]
  },
  {
   "cell_type": "markdown",
   "metadata": {},
   "source": [
    "Evaluates an expression for each entry of the database.\n",
    "\n",
    "        Args:\n",
    "           expression: object of type biogeme.expressions. \n",
    "\n",
    "        Returns: \n",
    "           numpy series, long as the number of entries in the\n",
    "           database, containing the calculated quantities."
   ]
  },
  {
   "cell_type": "code",
   "execution_count": 7,
   "metadata": {},
   "outputs": [
    {
     "name": "stdout",
     "output_type": "stream",
     "text": [
      "0    11\n",
      "1    22\n",
      "2    33\n",
      "3    44\n",
      "4    55\n",
      "dtype: int64\n"
     ]
    }
   ],
   "source": [
    "Variable1 = Variable('Variable1')\n",
    "Variable2 = Variable('Variable2')\n",
    "expr = Variable1 + Variable2\n",
    "result = myData.valuesFromDatabase(expr)\n",
    "print(result)"
   ]
  },
  {
   "cell_type": "markdown",
   "metadata": {},
   "source": [
    "## checkAvailabilityOfChosenAlt"
   ]
  },
  {
   "cell_type": "markdown",
   "metadata": {},
   "source": [
    "Check if the chosen alternative is available for each entry in the database.\n",
    "\n",
    "        Args: \n",
    "            avail: list of biogeme.expressions to evaluate the\n",
    "            availability conditions for each alternative.\n",
    "            choice: biogeme.expressions to evaluate the chosen\n",
    "            alternative.\n",
    "                \n",
    "        Returns:\n",
    "           numpy series of bool, long as the number of entries \n",
    "           in the database, containing True is the chosen \n",
    "           alternative is available, False otherwise.\n"
   ]
  },
  {
   "cell_type": "code",
   "execution_count": 8,
   "metadata": {},
   "outputs": [
    {
     "name": "stdout",
     "output_type": "stream",
     "text": [
      "0    False\n",
      "1     True\n",
      "2     True\n",
      "3     True\n",
      "4     True\n",
      "dtype: bool\n"
     ]
    }
   ],
   "source": [
    "Av1 = Variable('Av1')\n",
    "Av2 = Variable('Av2')\n",
    "Av3 = Variable('Av3')\n",
    "Choice = Variable('Choice')\n",
    "avail = {1: Av1, 2: Av2, 3: Av3}\n",
    "result = myData.checkAvailabilityOfChosenAlt(avail, Choice)\n",
    "print(result)"
   ]
  },
  {
   "cell_type": "markdown",
   "metadata": {},
   "source": [
    "## sumFromDatabase"
   ]
  },
  {
   "cell_type": "markdown",
   "metadata": {},
   "source": [
    "Calculates the value of an expression for each entry in the database, and retturns the sum.\n",
    "\n",
    "        Args:\n",
    "            expression: object of type biogeme.expressions \n",
    "            \n",
    "        Returns:\n",
    "            Sum of the expressions over the database.\n"
   ]
  },
  {
   "cell_type": "code",
   "execution_count": 9,
   "metadata": {},
   "outputs": [
    {
     "name": "stdout",
     "output_type": "stream",
     "text": [
      "50.0\n"
     ]
    }
   ],
   "source": [
    "Variable1 = Variable('Variable1')\n",
    "Variable2 = Variable('Variable2')\n",
    "expression = Variable2 / Variable1\n",
    "result = myData.sumFromDatabase(expression)\n",
    "print(result)"
   ]
  },
  {
   "cell_type": "markdown",
   "metadata": {},
   "source": [
    "## Suggest scaling"
   ]
  },
  {
   "cell_type": "markdown",
   "metadata": {},
   "source": [
    "Suggest a scaling of the variables in the database \n",
    "           \n",
    "    Returns: \n",
    "\n",
    "        A Pandas dataframe where each row contains the name of\n",
    "        the variable and the suggested scale s. Ideally, the column\n",
    "        should be multiplied by s. If the suggested scaling is 1.0,\n",
    "        10 or 0.1, it is not reported. \n"
   ]
  },
  {
   "cell_type": "code",
   "execution_count": 10,
   "metadata": {},
   "outputs": [
    {
     "data": {
      "text/html": [
       "<div>\n",
       "<style scoped>\n",
       "    .dataframe tbody tr th:only-of-type {\n",
       "        vertical-align: middle;\n",
       "    }\n",
       "\n",
       "    .dataframe tbody tr th {\n",
       "        vertical-align: top;\n",
       "    }\n",
       "\n",
       "    .dataframe thead th {\n",
       "        text-align: right;\n",
       "    }\n",
       "</style>\n",
       "<table border=\"1\" class=\"dataframe\">\n",
       "  <thead>\n",
       "    <tr style=\"text-align: right;\">\n",
       "      <th></th>\n",
       "      <th>Column</th>\n",
       "      <th>Scale</th>\n",
       "      <th>Largest</th>\n",
       "    </tr>\n",
       "  </thead>\n",
       "  <tbody>\n",
       "    <tr>\n",
       "      <th>3</th>\n",
       "      <td>Variable2</td>\n",
       "      <td>0.01</td>\n",
       "      <td>50</td>\n",
       "    </tr>\n",
       "  </tbody>\n",
       "</table>\n",
       "</div>"
      ],
      "text/plain": [
       "      Column  Scale  Largest\n",
       "3  Variable2   0.01       50"
      ]
     },
     "execution_count": 10,
     "metadata": {},
     "output_type": "execute_result"
    }
   ],
   "source": [
    "myData.suggestScaling()"
   ]
  },
  {
   "cell_type": "markdown",
   "metadata": {},
   "source": [
    "## scaleColumn"
   ]
  },
  {
   "cell_type": "markdown",
   "metadata": {},
   "source": [
    "Divide an entire column by a scale value\n",
    "\n",
    "           Args:\n",
    "              column: name of the column\n",
    "\n",
    "              scale: value of the scale. All values of the \n",
    "              column will be multiplied by that scale.\n"
   ]
  },
  {
   "cell_type": "code",
   "execution_count": 11,
   "metadata": {},
   "outputs": [
    {
     "data": {
      "text/html": [
       "<div>\n",
       "<style scoped>\n",
       "    .dataframe tbody tr th:only-of-type {\n",
       "        vertical-align: middle;\n",
       "    }\n",
       "\n",
       "    .dataframe tbody tr th {\n",
       "        vertical-align: top;\n",
       "    }\n",
       "\n",
       "    .dataframe thead th {\n",
       "        text-align: right;\n",
       "    }\n",
       "</style>\n",
       "<table border=\"1\" class=\"dataframe\">\n",
       "  <thead>\n",
       "    <tr style=\"text-align: right;\">\n",
       "      <th></th>\n",
       "      <th>Person</th>\n",
       "      <th>Exclude</th>\n",
       "      <th>Variable1</th>\n",
       "      <th>Variable2</th>\n",
       "      <th>Choice</th>\n",
       "      <th>Av1</th>\n",
       "      <th>Av2</th>\n",
       "      <th>Av3</th>\n",
       "    </tr>\n",
       "  </thead>\n",
       "  <tbody>\n",
       "    <tr>\n",
       "      <th>0</th>\n",
       "      <td>1</td>\n",
       "      <td>0</td>\n",
       "      <td>1</td>\n",
       "      <td>10</td>\n",
       "      <td>1</td>\n",
       "      <td>0</td>\n",
       "      <td>1</td>\n",
       "      <td>0</td>\n",
       "    </tr>\n",
       "    <tr>\n",
       "      <th>1</th>\n",
       "      <td>1</td>\n",
       "      <td>0</td>\n",
       "      <td>2</td>\n",
       "      <td>20</td>\n",
       "      <td>2</td>\n",
       "      <td>1</td>\n",
       "      <td>1</td>\n",
       "      <td>1</td>\n",
       "    </tr>\n",
       "    <tr>\n",
       "      <th>2</th>\n",
       "      <td>1</td>\n",
       "      <td>1</td>\n",
       "      <td>3</td>\n",
       "      <td>30</td>\n",
       "      <td>3</td>\n",
       "      <td>1</td>\n",
       "      <td>1</td>\n",
       "      <td>1</td>\n",
       "    </tr>\n",
       "    <tr>\n",
       "      <th>3</th>\n",
       "      <td>2</td>\n",
       "      <td>0</td>\n",
       "      <td>4</td>\n",
       "      <td>40</td>\n",
       "      <td>1</td>\n",
       "      <td>1</td>\n",
       "      <td>1</td>\n",
       "      <td>1</td>\n",
       "    </tr>\n",
       "    <tr>\n",
       "      <th>4</th>\n",
       "      <td>2</td>\n",
       "      <td>1</td>\n",
       "      <td>5</td>\n",
       "      <td>50</td>\n",
       "      <td>2</td>\n",
       "      <td>1</td>\n",
       "      <td>1</td>\n",
       "      <td>1</td>\n",
       "    </tr>\n",
       "  </tbody>\n",
       "</table>\n",
       "</div>"
      ],
      "text/plain": [
       "   Person  Exclude  Variable1  Variable2  Choice  Av1  Av2  Av3\n",
       "0       1        0          1         10       1    0    1    0\n",
       "1       1        0          2         20       2    1    1    1\n",
       "2       1        1          3         30       3    1    1    1\n",
       "3       2        0          4         40       1    1    1    1\n",
       "4       2        1          5         50       2    1    1    1"
      ]
     },
     "execution_count": 11,
     "metadata": {},
     "output_type": "execute_result"
    }
   ],
   "source": [
    "myData.data"
   ]
  },
  {
   "cell_type": "code",
   "execution_count": 12,
   "metadata": {},
   "outputs": [],
   "source": [
    "myData.scaleColumn('Variable2', 0.01)"
   ]
  },
  {
   "cell_type": "code",
   "execution_count": 13,
   "metadata": {},
   "outputs": [
    {
     "data": {
      "text/html": [
       "<div>\n",
       "<style scoped>\n",
       "    .dataframe tbody tr th:only-of-type {\n",
       "        vertical-align: middle;\n",
       "    }\n",
       "\n",
       "    .dataframe tbody tr th {\n",
       "        vertical-align: top;\n",
       "    }\n",
       "\n",
       "    .dataframe thead th {\n",
       "        text-align: right;\n",
       "    }\n",
       "</style>\n",
       "<table border=\"1\" class=\"dataframe\">\n",
       "  <thead>\n",
       "    <tr style=\"text-align: right;\">\n",
       "      <th></th>\n",
       "      <th>Person</th>\n",
       "      <th>Exclude</th>\n",
       "      <th>Variable1</th>\n",
       "      <th>Variable2</th>\n",
       "      <th>Choice</th>\n",
       "      <th>Av1</th>\n",
       "      <th>Av2</th>\n",
       "      <th>Av3</th>\n",
       "    </tr>\n",
       "  </thead>\n",
       "  <tbody>\n",
       "    <tr>\n",
       "      <th>0</th>\n",
       "      <td>1</td>\n",
       "      <td>0</td>\n",
       "      <td>1</td>\n",
       "      <td>0.1</td>\n",
       "      <td>1</td>\n",
       "      <td>0</td>\n",
       "      <td>1</td>\n",
       "      <td>0</td>\n",
       "    </tr>\n",
       "    <tr>\n",
       "      <th>1</th>\n",
       "      <td>1</td>\n",
       "      <td>0</td>\n",
       "      <td>2</td>\n",
       "      <td>0.2</td>\n",
       "      <td>2</td>\n",
       "      <td>1</td>\n",
       "      <td>1</td>\n",
       "      <td>1</td>\n",
       "    </tr>\n",
       "    <tr>\n",
       "      <th>2</th>\n",
       "      <td>1</td>\n",
       "      <td>1</td>\n",
       "      <td>3</td>\n",
       "      <td>0.3</td>\n",
       "      <td>3</td>\n",
       "      <td>1</td>\n",
       "      <td>1</td>\n",
       "      <td>1</td>\n",
       "    </tr>\n",
       "    <tr>\n",
       "      <th>3</th>\n",
       "      <td>2</td>\n",
       "      <td>0</td>\n",
       "      <td>4</td>\n",
       "      <td>0.4</td>\n",
       "      <td>1</td>\n",
       "      <td>1</td>\n",
       "      <td>1</td>\n",
       "      <td>1</td>\n",
       "    </tr>\n",
       "    <tr>\n",
       "      <th>4</th>\n",
       "      <td>2</td>\n",
       "      <td>1</td>\n",
       "      <td>5</td>\n",
       "      <td>0.5</td>\n",
       "      <td>2</td>\n",
       "      <td>1</td>\n",
       "      <td>1</td>\n",
       "      <td>1</td>\n",
       "    </tr>\n",
       "  </tbody>\n",
       "</table>\n",
       "</div>"
      ],
      "text/plain": [
       "   Person  Exclude  Variable1  Variable2  Choice  Av1  Av2  Av3\n",
       "0       1        0          1        0.1       1    0    1    0\n",
       "1       1        0          2        0.2       2    1    1    1\n",
       "2       1        1          3        0.3       3    1    1    1\n",
       "3       2        0          4        0.4       1    1    1    1\n",
       "4       2        1          5        0.5       2    1    1    1"
      ]
     },
     "execution_count": 13,
     "metadata": {},
     "output_type": "execute_result"
    }
   ],
   "source": [
    "myData.data"
   ]
  },
  {
   "cell_type": "markdown",
   "metadata": {},
   "source": [
    "## addColumn"
   ]
  },
  {
   "cell_type": "markdown",
   "metadata": {},
   "source": [
    "Add a new column in the database, calculated from an expression.\n",
    "\n",
    "        Args:\n",
    "           expression: object of type biogeme.expressions \n",
    "           describing the expression to evaluate\n",
    "           column: name of the column to add.\n",
    "\n",
    "        Returns:\n",
    "           nothing\n",
    "\n",
    "        Raises:\n",
    "              ValueError: if the column name already exists."
   ]
  },
  {
   "cell_type": "code",
   "execution_count": 14,
   "metadata": {},
   "outputs": [
    {
     "name": "stdout",
     "output_type": "stream",
     "text": [
      "[0.1, 0.4, 0.8999999999999999, 1.6, 2.5]\n"
     ]
    }
   ],
   "source": [
    "Variable1 = Variable('Variable1')\n",
    "Variable2 = Variable('Variable2')\n",
    "expression = exp(0.5 * Variable2) / Variable1\n",
    "expression = Variable2 * Variable1\n",
    "result = myData.addColumn(expression, 'NewVariable')\n",
    "print(myData.data['NewVariable'].tolist())"
   ]
  },
  {
   "cell_type": "code",
   "execution_count": 15,
   "metadata": {},
   "outputs": [
    {
     "data": {
      "text/html": [
       "<div>\n",
       "<style scoped>\n",
       "    .dataframe tbody tr th:only-of-type {\n",
       "        vertical-align: middle;\n",
       "    }\n",
       "\n",
       "    .dataframe tbody tr th {\n",
       "        vertical-align: top;\n",
       "    }\n",
       "\n",
       "    .dataframe thead th {\n",
       "        text-align: right;\n",
       "    }\n",
       "</style>\n",
       "<table border=\"1\" class=\"dataframe\">\n",
       "  <thead>\n",
       "    <tr style=\"text-align: right;\">\n",
       "      <th></th>\n",
       "      <th>Person</th>\n",
       "      <th>Exclude</th>\n",
       "      <th>Variable1</th>\n",
       "      <th>Variable2</th>\n",
       "      <th>Choice</th>\n",
       "      <th>Av1</th>\n",
       "      <th>Av2</th>\n",
       "      <th>Av3</th>\n",
       "      <th>NewVariable</th>\n",
       "    </tr>\n",
       "  </thead>\n",
       "  <tbody>\n",
       "    <tr>\n",
       "      <th>0</th>\n",
       "      <td>1</td>\n",
       "      <td>0</td>\n",
       "      <td>1</td>\n",
       "      <td>0.1</td>\n",
       "      <td>1</td>\n",
       "      <td>0</td>\n",
       "      <td>1</td>\n",
       "      <td>0</td>\n",
       "      <td>0.1</td>\n",
       "    </tr>\n",
       "    <tr>\n",
       "      <th>1</th>\n",
       "      <td>1</td>\n",
       "      <td>0</td>\n",
       "      <td>2</td>\n",
       "      <td>0.2</td>\n",
       "      <td>2</td>\n",
       "      <td>1</td>\n",
       "      <td>1</td>\n",
       "      <td>1</td>\n",
       "      <td>0.4</td>\n",
       "    </tr>\n",
       "    <tr>\n",
       "      <th>2</th>\n",
       "      <td>1</td>\n",
       "      <td>1</td>\n",
       "      <td>3</td>\n",
       "      <td>0.3</td>\n",
       "      <td>3</td>\n",
       "      <td>1</td>\n",
       "      <td>1</td>\n",
       "      <td>1</td>\n",
       "      <td>0.9</td>\n",
       "    </tr>\n",
       "    <tr>\n",
       "      <th>3</th>\n",
       "      <td>2</td>\n",
       "      <td>0</td>\n",
       "      <td>4</td>\n",
       "      <td>0.4</td>\n",
       "      <td>1</td>\n",
       "      <td>1</td>\n",
       "      <td>1</td>\n",
       "      <td>1</td>\n",
       "      <td>1.6</td>\n",
       "    </tr>\n",
       "    <tr>\n",
       "      <th>4</th>\n",
       "      <td>2</td>\n",
       "      <td>1</td>\n",
       "      <td>5</td>\n",
       "      <td>0.5</td>\n",
       "      <td>2</td>\n",
       "      <td>1</td>\n",
       "      <td>1</td>\n",
       "      <td>1</td>\n",
       "      <td>2.5</td>\n",
       "    </tr>\n",
       "  </tbody>\n",
       "</table>\n",
       "</div>"
      ],
      "text/plain": [
       "   Person  Exclude  Variable1  Variable2  Choice  Av1  Av2  Av3  NewVariable\n",
       "0       1        0          1        0.1       1    0    1    0          0.1\n",
       "1       1        0          2        0.2       2    1    1    1          0.4\n",
       "2       1        1          3        0.3       3    1    1    1          0.9\n",
       "3       2        0          4        0.4       1    1    1    1          1.6\n",
       "4       2        1          5        0.5       2    1    1    1          2.5"
      ]
     },
     "execution_count": 15,
     "metadata": {},
     "output_type": "execute_result"
    }
   ],
   "source": [
    "myData.data"
   ]
  },
  {
   "cell_type": "markdown",
   "metadata": {},
   "source": [
    "## split"
   ]
  },
  {
   "cell_type": "markdown",
   "metadata": {},
   "source": [
    "Shuffle the data, and split the data into slices. For each slide, an estimation and a validation sets are generated. The validation set is the slice itself. The estimation set is the rest of the data. "
   ]
  },
  {
   "cell_type": "code",
   "execution_count": 17,
   "metadata": {},
   "outputs": [
    {
     "name": "stdout",
     "output_type": "stream",
     "text": [
      "==========\n",
      "Estimation:\n",
      "<class 'pandas.core.frame.DataFrame'>\n",
      "   Person  Exclude  Variable1  Variable2  Choice  Av1  Av2  Av3  NewVariable\n",
      "0       1        0          1        0.1       1    0    1    0          0.1\n",
      "3       2        0          4        0.4       1    1    1    1          1.6\n",
      "4       2        1          5        0.5       2    1    1    1          2.5\n",
      "Validation:\n",
      "   Person  Exclude  Variable1  Variable2  Choice  Av1  Av2  Av3  NewVariable\n",
      "1       1        0          2        0.2       2    1    1    1          0.4\n",
      "2       1        1          3        0.3       3    1    1    1          0.9\n",
      "==========\n",
      "Estimation:\n",
      "<class 'pandas.core.frame.DataFrame'>\n",
      "   Person  Exclude  Variable1  Variable2  Choice  Av1  Av2  Av3  NewVariable\n",
      "1       1        0          2        0.2       2    1    1    1          0.4\n",
      "2       1        1          3        0.3       3    1    1    1          0.9\n",
      "4       2        1          5        0.5       2    1    1    1          2.5\n",
      "Validation:\n",
      "   Person  Exclude  Variable1  Variable2  Choice  Av1  Av2  Av3  NewVariable\n",
      "0       1        0          1        0.1       1    0    1    0          0.1\n",
      "3       2        0          4        0.4       1    1    1    1          1.6\n",
      "==========\n",
      "Estimation:\n",
      "<class 'pandas.core.frame.DataFrame'>\n",
      "   Person  Exclude  Variable1  Variable2  Choice  Av1  Av2  Av3  NewVariable\n",
      "1       1        0          2        0.2       2    1    1    1          0.4\n",
      "2       1        1          3        0.3       3    1    1    1          0.9\n",
      "0       1        0          1        0.1       1    0    1    0          0.1\n",
      "3       2        0          4        0.4       1    1    1    1          1.6\n",
      "Validation:\n",
      "   Person  Exclude  Variable1  Variable2  Choice  Av1  Av2  Av3  NewVariable\n",
      "4       2        1          5        0.5       2    1    1    1          2.5\n"
     ]
    }
   ],
   "source": [
    "dataSets = myData.split(3)\n",
    "for i in dataSets:\n",
    "    print(\"==========\")\n",
    "    print(\"Estimation:\")\n",
    "    print(type(i[0]))\n",
    "    print(i[0])\n",
    "    print(\"Validation:\")\n",
    "    print(i[1])"
   ]
  },
  {
   "cell_type": "markdown",
   "metadata": {},
   "source": [
    "## count"
   ]
  },
  {
   "cell_type": "markdown",
   "metadata": {},
   "source": [
    "Counts the number of observations that have a specific value in a given column.\n",
    "\n",
    "        Args:\n",
    "            columnName: name of the column.\n",
    "            value: value that is seeked.\n",
    "\n",
    "        Returns: \n",
    "            Number of times that the value appears in the column.\n"
   ]
  },
  {
   "cell_type": "markdown",
   "metadata": {},
   "source": [
    "Here, count the number of entries for individual 1."
   ]
  },
  {
   "cell_type": "code",
   "execution_count": null,
   "metadata": {},
   "outputs": [],
   "source": [
    "myData.count('Person',1)"
   ]
  },
  {
   "cell_type": "markdown",
   "metadata": {},
   "source": [
    "## remove"
   ]
  },
  {
   "cell_type": "markdown",
   "metadata": {},
   "source": [
    "Removes from the database all entries such that the value of the expression is not 0. \n",
    "        \n",
    "        Args:\n",
    "           expression: object of type biogeme.expressions \n",
    "           describing the expression to evaluate\n",
    "        Returns:\n",
    "           Nothing."
   ]
  },
  {
   "cell_type": "code",
   "execution_count": null,
   "metadata": {},
   "outputs": [],
   "source": [
    "Exclude = Variable('Exclude')\n",
    "myData.remove(Exclude)\n",
    "myData.data"
   ]
  },
  {
   "cell_type": "markdown",
   "metadata": {},
   "source": [
    "## dumpOnFile"
   ]
  },
  {
   "cell_type": "markdown",
   "metadata": {},
   "source": [
    "Dumps the database in a CSV formatted file.\n",
    "\n",
    "        Returns:  name of the file"
   ]
  },
  {
   "cell_type": "code",
   "execution_count": null,
   "metadata": {},
   "outputs": [],
   "source": [
    "myData.dumpOnFile()"
   ]
  },
  {
   "cell_type": "code",
   "execution_count": null,
   "metadata": {},
   "outputs": [],
   "source": [
    "%%bash\n",
    "cat test_dumped.dat"
   ]
  },
  {
   "cell_type": "markdown",
   "metadata": {},
   "source": [
    "## generateDraws"
   ]
  },
  {
   "cell_type": "markdown",
   "metadata": {},
   "source": [
    "Generate draws for each variable.\n",
    "        \n",
    "        Args:\n",
    "             types:\n",
    "                 A dict indexed by the names of the variables,\n",
    "                 describing the types of draws. Each of them can be a\n",
    "                 native type or any type defined by the function\n",
    "                 database.setRandomNumberGenerators\n",
    "\n",
    "             names: \n",
    "                 the list of names of the variables that require\n",
    "                 draws to be generated.\n",
    "             numberOfDraws: \n",
    "                 number of draws to generate.\n",
    "\n",
    "        Returns: \n",
    "             a 3-dimensional table with draws. The 3 dimensions are\n",
    "              1. number of individuals\n",
    "              2. number of draws\n",
    "              3. number of variables\n"
   ]
  },
  {
   "cell_type": "markdown",
   "metadata": {},
   "source": [
    "List native types and their description"
   ]
  },
  {
   "cell_type": "code",
   "execution_count": null,
   "metadata": {},
   "outputs": [],
   "source": [
    "myData.descriptionOfNativeDraws()"
   ]
  },
  {
   "cell_type": "code",
   "execution_count": null,
   "metadata": {},
   "outputs": [],
   "source": [
    "randomDraws1 = bioDraws('randomDraws1', 'NORMAL_MLHS_ANTI')\n",
    "randomDraws2 = bioDraws('randomDraws2', 'UNIFORM_MLHS_ANTI')\n",
    "randomDraws3 = bioDraws('randomDraws3', 'UNIFORMSYM_MLHS_ANTI')"
   ]
  },
  {
   "cell_type": "markdown",
   "metadata": {},
   "source": [
    "We build an expression that involves the three random variables"
   ]
  },
  {
   "cell_type": "code",
   "execution_count": null,
   "metadata": {},
   "outputs": [],
   "source": [
    "x = randomDraws1 + randomDraws2 + randomDraws3\n",
    "types = x.dictOfDraws()\n",
    "print(types)"
   ]
  },
  {
   "cell_type": "code",
   "execution_count": null,
   "metadata": {},
   "outputs": [],
   "source": [
    "theDrawsTable = myData.generateDraws(types,                         \n",
    "                                     ['randomDraws1',\n",
    "                                      'randomDraws2',\n",
    "                                      'randomDraws3'],\n",
    "                                     10)\n",
    "theDrawsTable"
   ]
  },
  {
   "cell_type": "markdown",
   "metadata": {},
   "source": [
    "## setRandomNumberGenerators"
   ]
  },
  {
   "cell_type": "markdown",
   "metadata": {},
   "source": [
    "Defines user-defined random numbers generators.\n",
    "        \n",
    "        Args:\n",
    "\n",
    "           rng: a dictionary of generators. The keys of the\n",
    "           dictionary\n",
    "           characterize the name of the generators, and must be\n",
    "           different from the pre-defined generators in Biogeme:\n",
    "           NORMAL, UNIFORM and UNIFORMSYM. The elements of the\n",
    "           dictionary are functions that take two arguments: the\n",
    "           number of series to generate (typically, the size of the\n",
    "           database), and the number of draws per series.\n",
    " \n",
    "        Returns: \n",
    "             nothing."
   ]
  },
  {
   "cell_type": "markdown",
   "metadata": {},
   "source": [
    "We first define functions returning draws, given the number of observations, and the number of draws"
   ]
  },
  {
   "cell_type": "code",
   "execution_count": null,
   "metadata": {},
   "outputs": [],
   "source": [
    "def logNormalDraws(sampleSize, numberOfDraws):\n",
    "    return np.exp(np.random.randn(sampleSize, numberOfDraws))\n",
    "\n",
    "def exponentialDraws(sampleSize, numberOfDraws):\n",
    "    return -1.0 * np.log(np.random.rand(sampleSize, numberOfDraws))"
   ]
  },
  {
   "cell_type": "markdown",
   "metadata": {},
   "source": [
    "We associate these functions with a name"
   ]
  },
  {
   "cell_type": "code",
   "execution_count": null,
   "metadata": {},
   "outputs": [],
   "source": [
    "dict = {'LOGNORMAL': (logNormalDraws, \n",
    "                      'Draws from lognormal distribution'), \n",
    "        'EXP': (exponentialDraws,\n",
    "                'Draws from exponential distributions')}\n",
    "myData.setRandomNumberGenerators(dict)"
   ]
  },
  {
   "cell_type": "markdown",
   "metadata": {},
   "source": [
    "We can now generate draws from these distributions"
   ]
  },
  {
   "cell_type": "code",
   "execution_count": null,
   "metadata": {},
   "outputs": [],
   "source": [
    "randomDraws1 = bioDraws('randomDraws1', 'LOGNORMAL')\n",
    "randomDraws2 = bioDraws('randomDraws2', 'EXP')\n",
    "x = randomDraws1 + randomDraws2\n",
    "types = x.dictOfDraws()\n",
    "theDrawsTable = myData.generateDraws(types,\n",
    "                                     ['randomDraws1',\n",
    "                                      'randomDraws2'],\n",
    "                                     10)\n",
    "print(theDrawsTable)"
   ]
  },
  {
   "cell_type": "markdown",
   "metadata": {},
   "source": [
    "## sampleWithReplacement"
   ]
  },
  {
   "cell_type": "markdown",
   "metadata": {},
   "source": [
    "Extract a random sample from the database, with replacement. Useful for bootstrapping. \n",
    "        Args:\n",
    "            size: size of the sample. If None, a sample of the same size as the database will be generated.\n",
    "\n",
    "        Returns:\n",
    "            pandas dataframe with the sample.\n"
   ]
  },
  {
   "cell_type": "code",
   "execution_count": null,
   "metadata": {},
   "outputs": [],
   "source": [
    "myData.sampleWithReplacement()"
   ]
  },
  {
   "cell_type": "code",
   "execution_count": null,
   "metadata": {},
   "outputs": [],
   "source": [
    "myData.sampleWithReplacement(6)"
   ]
  },
  {
   "cell_type": "markdown",
   "metadata": {},
   "source": [
    "## panel"
   ]
  },
  {
   "cell_type": "markdown",
   "metadata": {},
   "source": [
    "Defines the data as panel data\n",
    "\n",
    "        Args:\n",
    "           columnName: name of the columns that identifies\n",
    "           individuals.\n"
   ]
  },
  {
   "cell_type": "code",
   "execution_count": null,
   "metadata": {},
   "outputs": [],
   "source": [
    "myPanelData = db.Database('test', df)"
   ]
  },
  {
   "cell_type": "markdown",
   "metadata": {},
   "source": [
    "Data is not considered panel yet"
   ]
  },
  {
   "cell_type": "code",
   "execution_count": null,
   "metadata": {},
   "outputs": [],
   "source": [
    "myPanelData.isPanel()"
   ]
  },
  {
   "cell_type": "code",
   "execution_count": null,
   "metadata": {},
   "outputs": [],
   "source": [
    "myPanelData.panel('Person')"
   ]
  },
  {
   "cell_type": "markdown",
   "metadata": {},
   "source": [
    "Now it is panel"
   ]
  },
  {
   "cell_type": "code",
   "execution_count": null,
   "metadata": {},
   "outputs": [],
   "source": [
    "print(myPanelData.isPanel())"
   ]
  },
  {
   "cell_type": "code",
   "execution_count": null,
   "metadata": {},
   "outputs": [],
   "source": [
    "print(myPanelData)"
   ]
  },
  {
   "cell_type": "markdown",
   "metadata": {},
   "source": [
    "When draws are generated for panel data, a set of draws is generated per person, not per observation."
   ]
  },
  {
   "cell_type": "code",
   "execution_count": null,
   "metadata": {},
   "outputs": [],
   "source": [
    "randomDraws1 = bioDraws('randomDraws1', 'NORMAL')\n",
    "randomDraws2 = bioDraws('randomDraws2', 'UNIFORM_HALTON3')"
   ]
  },
  {
   "cell_type": "markdown",
   "metadata": {},
   "source": [
    "We build an expression that involves the two random variables"
   ]
  },
  {
   "cell_type": "code",
   "execution_count": null,
   "metadata": {},
   "outputs": [],
   "source": [
    "x = randomDraws1 + randomDraws2\n",
    "types = x.dictOfDraws()\n",
    "theDrawsTable = myPanelData.generateDraws(types,\n",
    "                                          ['randomDraws1',\n",
    "                                           'randomDraws2'],\n",
    "                                          10)\n",
    "print(theDrawsTable)"
   ]
  },
  {
   "cell_type": "markdown",
   "metadata": {},
   "source": [
    "## getNumberOfObservations"
   ]
  },
  {
   "cell_type": "markdown",
   "metadata": {},
   "source": [
    "Reports the number of observations in the database. Note that it returns the same value, irrespectively if the database contains panel data or not.  \n",
    "\n",
    "        Returns:\n",
    "            Number of observations.\n",
    "\n",
    "        See:  getSampleSize()\n"
   ]
  },
  {
   "cell_type": "code",
   "execution_count": null,
   "metadata": {},
   "outputs": [],
   "source": [
    "myData.getNumberOfObservations()"
   ]
  },
  {
   "cell_type": "code",
   "execution_count": null,
   "metadata": {},
   "outputs": [],
   "source": [
    "myPanelData.getNumberOfObservations()"
   ]
  },
  {
   "cell_type": "markdown",
   "metadata": {},
   "source": [
    "## getSampleSize"
   ]
  },
  {
   "cell_type": "markdown",
   "metadata": {},
   "source": [
    "Reports the size of the sample. If the data is cross-sectional, it\n",
    "        is the number of observations in the database. If the data is panel,\n",
    "        it is the number of individuals.\n",
    "\n",
    "        Returns: \n",
    "           Sample size.\n",
    "\n",
    "        See: getNumberOfObservations()\n"
   ]
  },
  {
   "cell_type": "code",
   "execution_count": null,
   "metadata": {},
   "outputs": [],
   "source": [
    "myData.getSampleSize()"
   ]
  },
  {
   "cell_type": "code",
   "execution_count": null,
   "metadata": {},
   "outputs": [],
   "source": [
    "myPanelData.getSampleSize()"
   ]
  },
  {
   "cell_type": "markdown",
   "metadata": {},
   "source": [
    "## sampleIndividualMapWithReplacement"
   ]
  },
  {
   "cell_type": "markdown",
   "metadata": {},
   "source": [
    "Extract a random sample of the individual map from a panel data database, with replacement. Useful for bootstrapping. \n",
    "\n",
    "        Args:\n",
    "            size: size of the sample. If None, a sample of the same\n",
    "            size as the database will be generated.\n",
    "\n",
    "        Returns:\n",
    "            pandas dataframe with the sample.\n"
   ]
  },
  {
   "cell_type": "code",
   "execution_count": null,
   "metadata": {},
   "outputs": [],
   "source": [
    "myPanelData.sampleIndividualMapWithReplacement(10)"
   ]
  },
  {
   "cell_type": "markdown",
   "metadata": {},
   "source": [
    "## sampleWithoutReplacement"
   ]
  },
  {
   "cell_type": "markdown",
   "metadata": {},
   "source": [
    "It is possible as well to sample without replacement. This is typically useful for stochastic algorithms that use only part of the database. "
   ]
  },
  {
   "cell_type": "code",
   "execution_count": null,
   "metadata": {},
   "outputs": [],
   "source": [
    "df = pd.DataFrame({'Person': [1, 1, 1, 2, 2],\n",
    "                   'Exclude': [0, 0, 1, 0, 1],\n",
    "                   'Variable1': [1, 2, 3, 4, 5],\n",
    "                   'Variable2': [10, 20, 30, 40, 50],\n",
    "                   'Choice': [1, 2, 3, 1, 2],\n",
    "                   'Av1': [0, 1, 1, 1, 1],\n",
    "                   'Av2': [1, 1, 1, 1, 1],\n",
    "                   'Av3': [0, 1, 1, 1, 1],\n",
    "                   'Weight': [1, 5, 1, 1, 5]})\n",
    "myData = db.Database('test', df)\n",
    "myData.data"
   ]
  },
  {
   "cell_type": "code",
   "execution_count": null,
   "metadata": {},
   "outputs": [],
   "source": [
    "myData.data.Choice.value_counts()"
   ]
  },
  {
   "cell_type": "code",
   "execution_count": null,
   "metadata": {},
   "outputs": [],
   "source": [
    "myData.sampleWithoutReplacement(0.7)\n",
    "myData.data"
   ]
  },
  {
   "cell_type": "code",
   "execution_count": null,
   "metadata": {},
   "outputs": [],
   "source": [
    "myData.data.Choice.value_counts()"
   ]
  },
  {
   "cell_type": "markdown",
   "metadata": {},
   "source": [
    "The sampling does not have to be uniform. Here, we oversample data corresponding to Choice = 2"
   ]
  },
  {
   "cell_type": "code",
   "execution_count": null,
   "metadata": {},
   "outputs": [],
   "source": [
    "myData.sampleWithoutReplacement(0.7, 'Weight')\n",
    "myData.data"
   ]
  },
  {
   "cell_type": "code",
   "execution_count": null,
   "metadata": {},
   "outputs": [],
   "source": [
    "myData.data.Choice.value_counts()"
   ]
  }
 ],
 "metadata": {
  "kernelspec": {
   "display_name": "Python 3",
   "language": "python",
   "name": "python3"
  },
  "language_info": {
   "codemirror_mode": {
    "name": "ipython",
    "version": 3
   },
   "file_extension": ".py",
   "mimetype": "text/x-python",
   "name": "python",
   "nbconvert_exporter": "python",
   "pygments_lexer": "ipython3",
   "version": "3.8.2"
  }
 },
 "nbformat": 4,
 "nbformat_minor": 2
}
