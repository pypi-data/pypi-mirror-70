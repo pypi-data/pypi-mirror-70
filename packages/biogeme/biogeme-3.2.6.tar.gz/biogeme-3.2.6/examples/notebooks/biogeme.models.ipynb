{
 "cells": [
  {
   "cell_type": "markdown",
   "metadata": {},
   "source": [
    "#  biogeme.models: "
   ]
  },
  {
   "cell_type": "markdown",
   "metadata": {},
   "source": [
    "## Examples of use"
   ]
  },
  {
   "cell_type": "markdown",
   "metadata": {},
   "source": [
    "This webpage is for programmers who need examples of use of the functions of the module. The examples are designed to illustrate the syntax. They do not correspond to any meaningful model. For examples of models, visit  [biogeme.epfl.ch](http://biogeme.epfl.ch)."
   ]
  },
  {
   "cell_type": "code",
   "execution_count": 1,
   "metadata": {},
   "outputs": [
    {
     "name": "stdout",
     "output_type": "stream",
     "text": [
      "2020-06-03 09:58:00.056731\n"
     ]
    }
   ],
   "source": [
    "import datetime\n",
    "print(datetime.datetime.now())"
   ]
  },
  {
   "cell_type": "code",
   "execution_count": 2,
   "metadata": {},
   "outputs": [
    {
     "name": "stdout",
     "output_type": "stream",
     "text": [
      "biogeme 3.2.6 [2020-06-03]\n",
      "Version entirely written in Python\n",
      "Home page: http://biogeme.epfl.ch\n",
      "Submit questions to https://groups.google.com/d/forum/biogeme\n",
      "Michel Bierlaire, Transport and Mobility Laboratory, Ecole Polytechnique Fédérale de Lausanne (EPFL)\n",
      "\n"
     ]
    }
   ],
   "source": [
    "import biogeme.version as ver\n",
    "print(ver.getText())"
   ]
  },
  {
   "cell_type": "code",
   "execution_count": 3,
   "metadata": {},
   "outputs": [],
   "source": [
    "import numpy as np\n",
    "import pandas as pd\n",
    "import matplotlib.pyplot as plt"
   ]
  },
  {
   "cell_type": "code",
   "execution_count": 4,
   "metadata": {},
   "outputs": [],
   "source": [
    "import biogeme.database as db\n",
    "import biogeme.models as models\n",
    "from biogeme.expressions import Variable, Beta"
   ]
  },
  {
   "cell_type": "markdown",
   "metadata": {},
   "source": [
    "## Definition of a database"
   ]
  },
  {
   "cell_type": "code",
   "execution_count": 5,
   "metadata": {},
   "outputs": [],
   "source": [
    "df = pd.DataFrame({'Person': [1, 1, 1, 2, 2],\n",
    "                   'Exclude': [0, 0, 1, 0, 1],\n",
    "                   'Variable1': [1, 2, 3, 4, 5],\n",
    "                   'Variable2': [10, 20, 30, 40, 50],\n",
    "                   'Choice': [1, 2, 3, 1, 2],\n",
    "                   'Av1': [0, 1, 1, 1, 1],\n",
    "                   'Av2': [1, 1, 0, 1, 1],\n",
    "                   'Av3': [0, 1, 1, 1, 0]})\n",
    "myData = db.Database('test', df)"
   ]
  },
  {
   "cell_type": "markdown",
   "metadata": {},
   "source": [
    "## Piecewise linear specification"
   ]
  },
  {
   "cell_type": "markdown",
   "metadata": {},
   "source": [
    "A piecewise linear specification (sometimes called 'spline') is a continuous but not differentiable function of the variable. It is defined based on thresholds. Between two thresholds, the function is linear. And the slope is changing after each threshold.\n",
    "Consider a variable $t$ and an interval $[a,a+b]$. We define a new variable \n",
    "$$\n",
    "x_{[a,b]}(t) = \\max(0,\\min(t-a,b)) =\n",
    "\\left\\{\n",
    "  \\begin{array}{ll}\n",
    " 0 & \\text{if } t < a, \\\\\n",
    " t-a & \\text{if } a \\leq t < a+b, \\\\\n",
    " b  & \\text{otherwise}.\n",
    "  \\end{array}\n",
    "\\right.\n",
    "$$\n",
    "For each interval $]-\\infty,a]$, we have\n",
    "$$\n",
    "x_{]-\\infty,a]}(t) = \\min(t,a) = \\left\\{\n",
    "  \\begin{array}{ll}\n",
    " t & \\text{if } t < a, \\\\\n",
    " a  & \\text{otherwise}.\n",
    "  \\end{array}\n",
    "\\right..\n",
    "$$\n",
    "For each interval $[a,+\\infty[$, we have\n",
    "$$\n",
    "x_{]-\\infty,a]}(t) = \\max(0,t-a) = \\left\\{\n",
    "  \\begin{array}{ll}\n",
    " 0& \\text{if } t < a, \\\\\n",
    " t-a  & \\text{otherwise}.\n",
    "  \\end{array}\n",
    "\\right..\n",
    "$$\n",
    "If we consider a series of threshold $$\\alpha_1 < \\alpha_2 < \\ldots <\\alpha_K,$$ the piecewise linear transform of variable $t$ is \n",
    "$$ \\sum_{k=1}^{K-1} \\beta_k x_{[\\alpha_k,\\alpha_{k+1}]},$$\n",
    "where $\\beta_k$ is the slope of the linear function in interval $[\\alpha_k,\\alpha_{k+1}]$.\n",
    " "
   ]
  },
  {
   "cell_type": "markdown",
   "metadata": {},
   "source": [
    "The next statement generates the variables, given the thresholds. A 'None' is equivalent to $\\infty$, and can only appear first (and it means $-\\infty$) or last (and it means $+\\infty$)."
   ]
  },
  {
   "cell_type": "code",
   "execution_count": 6,
   "metadata": {},
   "outputs": [
    {
     "name": "stdout",
     "output_type": "stream",
     "text": [
      "[bioMin(x, `90`), bioMax(`0`, bioMin((x - `90`), `90`)), bioMax(`0`, bioMin((x - `180`), `90`)), bioMax(`0`, (x - `270`))]\n"
     ]
    }
   ],
   "source": [
    "x = Variable('x')\n",
    "thresholds = [None, 90, 180, 270, None]\n",
    "variables = models.piecewiseVariables(x, thresholds)\n",
    "print(variables)"
   ]
  },
  {
   "cell_type": "markdown",
   "metadata": {},
   "source": [
    "The next statement automatically generates the formula, including the Beta parameters, that are initialized to zero. "
   ]
  },
  {
   "cell_type": "code",
   "execution_count": 7,
   "metadata": {},
   "outputs": [
    {
     "name": "stdout",
     "output_type": "stream",
     "text": [
      "bioMultSum((beta_x_lessthan_90(0) * bioMin(x, `90`)), (beta_x_90_180(0) * bioMax(`0`, bioMin((x - `90`), `90`))), (beta_x_180_270(0) * bioMax(`0`, bioMin((x - `180`), `90`))), (beta_x_270_more(0) * bioMax(`0`, (x - `270`))))\n"
     ]
    }
   ],
   "source": [
    "formula = models.piecewiseFormula(x, thresholds)\n",
    "print(formula)"
   ]
  },
  {
   "cell_type": "markdown",
   "metadata": {},
   "source": [
    "It is also possible to initialize the Beta parameters with other values. "
   ]
  },
  {
   "cell_type": "code",
   "execution_count": 8,
   "metadata": {},
   "outputs": [
    {
     "name": "stdout",
     "output_type": "stream",
     "text": [
      "bioMultSum((beta_x_lessthan_90(-0.016806308) * bioMin(x, `90`)), (beta_x_90_180(-0.010491137) * bioMax(`0`, bioMin((x - `90`), `90`))), (beta_x_180_270(-0.002012234) * bioMax(`0`, bioMin((x - `180`), `90`))), (beta_x_270_more(-0.002012234) * bioMax(`0`, (x - `270`))))\n"
     ]
    }
   ],
   "source": [
    "betas = [-0.016806308, -0.010491137, -0.002012234, -0.020051303]\n",
    "formula = models.piecewiseFormula(x, thresholds, betas)\n",
    "print(formula)"
   ]
  },
  {
   "cell_type": "markdown",
   "metadata": {},
   "source": [
    "We provide a plot of a piecewise linear specification."
   ]
  },
  {
   "cell_type": "code",
   "execution_count": 9,
   "metadata": {},
   "outputs": [
    {
     "data": {
      "text/plain": [
       "[<matplotlib.lines.Line2D at 0x119da65e0>]"
      ]
     },
     "execution_count": 9,
     "metadata": {},
     "output_type": "execute_result"
    },
    {
     "data": {
      "image/png": "[encoded data removed]",
      "text/plain": [
       "<Figure size 432x288 with 1 Axes>"
      ]
     },
     "metadata": {
      "needs_background": "light"
     },
     "output_type": "display_data"
    }
   ],
   "source": [
    "X = np.arange(0, 300, 0.1)\n",
    "Y = [models.piecewiseFunction(x,\n",
    "                              thresholds,[-0.016806308,\n",
    "                                          -0.010491137,\n",
    "                                          -0.002012234,\n",
    "                                          -0.020051303]) \n",
    "     for x in X]\n",
    "plt.plot(X,Y)"
   ]
  },
  {
   "cell_type": "markdown",
   "metadata": {},
   "source": [
    "## Logit"
   ]
  },
  {
   "cell_type": "code",
   "execution_count": 10,
   "metadata": {},
   "outputs": [],
   "source": [
    "V = {1: Variable('Variable1'), 2: 0.1, 3: -0.1} \n",
    "av = {1: Variable('Av1'), \n",
    "      2: Variable('Av2'), \n",
    "      3: Variable('Av3')}"
   ]
  },
  {
   "cell_type": "markdown",
   "metadata": {},
   "source": [
    "Calculation of the (log of the) logit for the three alternatives, based on their availability."
   ]
  },
  {
   "cell_type": "markdown",
   "metadata": {},
   "source": [
    "Alternative 1"
   ]
  },
  {
   "cell_type": "code",
   "execution_count": 11,
   "metadata": {},
   "outputs": [
    {
     "data": {
      "text/plain": [
       "[0.0,\n",
       " 0.786148041622905,\n",
       " 0.9568927451203795,\n",
       " 0.964492603287176,\n",
       " 0.9926084586447854]"
      ]
     },
     "execution_count": 11,
     "metadata": {},
     "output_type": "execute_result"
    }
   ],
   "source": [
    "p1 = models.logit(V, av, 1)\n",
    "p1.getValue_c(myData)"
   ]
  },
  {
   "cell_type": "code",
   "execution_count": 12,
   "metadata": {},
   "outputs": [
    {
     "data": {
      "text/plain": [
       "[-inf,\n",
       " -0.24061015616746673,\n",
       " -0.044063967874339305,\n",
       " -0.03615311562669721,\n",
       " -0.007418994159700709]"
      ]
     },
     "execution_count": 12,
     "metadata": {},
     "output_type": "execute_result"
    }
   ],
   "source": [
    "p1 = models.loglogit(V, av, 1)\n",
    "p1.getValue_c(myData)"
   ]
  },
  {
   "cell_type": "markdown",
   "metadata": {},
   "source": [
    "Alternative 2"
   ]
  },
  {
   "cell_type": "code",
   "execution_count": 13,
   "metadata": {},
   "outputs": [
    {
     "data": {
      "text/plain": [
       "[1.0, 0.11758307726532896, 0.0, 0.019523173894964156, 0.007391541355214817]"
      ]
     },
     "execution_count": 13,
     "metadata": {},
     "output_type": "execute_result"
    }
   ],
   "source": [
    "p2 = models.logit(V, av, 2)\n",
    "p2.getValue_c(myData)"
   ]
  },
  {
   "cell_type": "code",
   "execution_count": 14,
   "metadata": {},
   "outputs": [
    {
     "data": {
      "text/plain": [
       "[0.0, -2.1406101546773506, -inf, -3.936153114136581, -4.907418992669585]"
      ]
     },
     "execution_count": 14,
     "metadata": {},
     "output_type": "execute_result"
    }
   ],
   "source": [
    "p2 = models.loglogit(V, av, 2)\n",
    "p2.getValue_c(myData)"
   ]
  },
  {
   "cell_type": "markdown",
   "metadata": {},
   "source": [
    "Alternative 3"
   ]
  },
  {
   "cell_type": "code",
   "execution_count": 15,
   "metadata": {},
   "outputs": [
    {
     "data": {
      "text/plain": [
       "[0.0, 0.09626888111176568, 0.043107254879620284, 0.015984222817859703, 0.0]"
      ]
     },
     "execution_count": 15,
     "metadata": {},
     "output_type": "execute_result"
    }
   ],
   "source": [
    "p3 = models.logit(V,av,3)\n",
    "p3.getValue_c(myData)"
   ]
  },
  {
   "cell_type": "code",
   "execution_count": 16,
   "metadata": {},
   "outputs": [
    {
     "data": {
      "text/plain": [
       "[-inf, -2.340610157657583, -3.1440639693644554, -4.136153117116813, -inf]"
      ]
     },
     "execution_count": 16,
     "metadata": {},
     "output_type": "execute_result"
    }
   ],
   "source": [
    "p3 = models.loglogit(V,av,3)\n",
    "p3.getValue_c(myData)"
   ]
  },
  {
   "cell_type": "markdown",
   "metadata": {},
   "source": [
    "Calculation of the log of the logit for the three alternatives, **assuming that they are all available**."
   ]
  },
  {
   "cell_type": "markdown",
   "metadata": {},
   "source": [
    "Alternative 1"
   ]
  },
  {
   "cell_type": "code",
   "execution_count": 17,
   "metadata": {},
   "outputs": [
    {
     "data": {
      "text/plain": [
       "[0.5748974224669351,\n",
       " 0.786148041622905,\n",
       " 0.9090310597545885,\n",
       " 0.964492603287176,\n",
       " 0.9866376411916378]"
      ]
     },
     "execution_count": 17,
     "metadata": {},
     "output_type": "execute_result"
    }
   ],
   "source": [
    "pa1 = models.logit(V, av=None, i=1)\n",
    "pa1.getValue_c(myData)"
   ]
  },
  {
   "cell_type": "code",
   "execution_count": 18,
   "metadata": {},
   "outputs": [
    {
     "data": {
      "text/plain": [
       "[-0.5535636498088721,\n",
       " -0.24061015616746673,\n",
       " -0.09537601624144809,\n",
       " -0.03615311562669721,\n",
       " -0.01345243847602795]"
      ]
     },
     "execution_count": 18,
     "metadata": {},
     "output_type": "execute_result"
    }
   ],
   "source": [
    "pa1 = models.loglogit(V, av=None, i=1)\n",
    "pa1.getValue_c(myData)"
   ]
  },
  {
   "cell_type": "markdown",
   "metadata": {},
   "source": [
    "Alternative 2"
   ]
  },
  {
   "cell_type": "code",
   "execution_count": 19,
   "metadata": {},
   "outputs": [
    {
     "data": {
      "text/plain": [
       "[0.2337358497864228,\n",
       " 0.11758307726532896,\n",
       " 0.05001781611351815,\n",
       " 0.019523173894964156,\n",
       " 0.007347079166982375]"
      ]
     },
     "execution_count": 19,
     "metadata": {},
     "output_type": "execute_result"
    }
   ],
   "source": [
    "pa2 = models.logit(V, av=None, i=2)\n",
    "pa2.getValue_c(myData)"
   ]
  },
  {
   "cell_type": "code",
   "execution_count": 20,
   "metadata": {},
   "outputs": [
    {
     "data": {
      "text/plain": [
       "[-1.453563648318756,\n",
       " -2.1406101546773506,\n",
       " -2.995376014751332,\n",
       " -3.936153114136581,\n",
       " -4.913452436985912]"
      ]
     },
     "execution_count": 20,
     "metadata": {},
     "output_type": "execute_result"
    }
   ],
   "source": [
    "pa2 = models.loglogit(V,av=None,i=2)\n",
    "pa2.getValue_c(myData)"
   ]
  },
  {
   "cell_type": "markdown",
   "metadata": {},
   "source": [
    "Alternative 3"
   ]
  },
  {
   "cell_type": "code",
   "execution_count": 21,
   "metadata": {},
   "outputs": [
    {
     "data": {
      "text/plain": [
       "[0.1913667277466427,\n",
       " 0.09626888111176568,\n",
       " 0.04095112413189287,\n",
       " 0.015984222817859703,\n",
       " 0.006015279641380101]"
      ]
     },
     "execution_count": 21,
     "metadata": {},
     "output_type": "execute_result"
    }
   ],
   "source": [
    "pa3 = models.logit(V, av=None, i=3)\n",
    "pa3.getValue_c(myData)"
   ]
  },
  {
   "cell_type": "code",
   "execution_count": 22,
   "metadata": {},
   "outputs": [
    {
     "data": {
      "text/plain": [
       "[-1.6535636512989882,\n",
       " -2.340610157657583,\n",
       " -3.195376017731564,\n",
       " -4.136153117116813,\n",
       " -5.113452439966144]"
      ]
     },
     "execution_count": 22,
     "metadata": {},
     "output_type": "execute_result"
    }
   ],
   "source": [
    "pa3 = models.loglogit(V, av=None, i=3)\n",
    "pa3.getValue_c(myData)"
   ]
  },
  {
   "cell_type": "markdown",
   "metadata": {},
   "source": [
    "## Boxcox transform"
   ]
  },
  {
   "cell_type": "markdown",
   "metadata": {},
   "source": [
    "The Box-Cox transform of a variable $x$ is defined as $$B(x,\\ell) = \\frac{x^{\\ell}-1}{\\ell},$$ where $\\ell > 0$ is a parameter that can be estimated from data.  It has the property that $$\\lim_{\\ell \\to 0} B(x,\\ell)=\\log(x).$$"
   ]
  },
  {
   "cell_type": "code",
   "execution_count": 23,
   "metadata": {},
   "outputs": [
    {
     "data": {
      "text/plain": [
       "(((Variable1 ** `4`) - `1.0`) / `4`)"
      ]
     },
     "execution_count": 23,
     "metadata": {},
     "output_type": "execute_result"
    }
   ],
   "source": [
    "x = Variable('Variable1')\n",
    "models.boxcox(x, 4)"
   ]
  },
  {
   "cell_type": "code",
   "execution_count": 24,
   "metadata": {},
   "outputs": [
    {
     "data": {
      "text/plain": [
       "log(Variable1)"
      ]
     },
     "execution_count": 24,
     "metadata": {},
     "output_type": "execute_result"
    }
   ],
   "source": [
    "x = Variable('Variable1')\n",
    "models.boxcox(x, 0)"
   ]
  },
  {
   "cell_type": "code",
   "execution_count": 25,
   "metadata": {},
   "outputs": [
    {
     "name": "stdout",
     "output_type": "stream",
     "text": [
      "{{0:(((Variable1 ** Variable2) - `1.0`) / Variable2), 1:log(Variable1)}[(Variable2 < `1.4901161193847656e-08`)]\n"
     ]
    }
   ],
   "source": [
    "l = Variable('Variable2')\n",
    "e = models.boxcox(x, l)\n",
    "print(e)"
   ]
  },
  {
   "cell_type": "code",
   "execution_count": 26,
   "metadata": {},
   "outputs": [
    {
     "data": {
      "text/plain": [
       "[0.0,\n",
       " 52428.75,\n",
       " 6863037736488.267,\n",
       " 3.022314549036573e+22,\n",
       " 1.7763568394002505e+33]"
      ]
     },
     "execution_count": 26,
     "metadata": {},
     "output_type": "execute_result"
    }
   ],
   "source": [
    "e.getValue_c(myData)"
   ]
  },
  {
   "cell_type": "markdown",
   "metadata": {},
   "source": [
    "We numerically illustrate  that, when $\\lambda$ goes to 0, the BoxCox transform of $x$ converges to the log of $x$."
   ]
  },
  {
   "cell_type": "code",
   "execution_count": 27,
   "metadata": {},
   "outputs": [
    {
     "name": "stdout",
     "output_type": "stream",
     "text": [
      "ell=l0^(-1): 1.16123 - 1.09861 = 0.0626195\n",
      "ell=l0^(-2): 1.10467 - 1.09861 = 0.00605691\n",
      "ell=l0^(-3): 1.09922 - 1.09861 = 0.000603696\n",
      "ell=l0^(-4): 1.09867 - 1.09861 = 6.03497e-05\n",
      "ell=l0^(-5): 1.09862 - 1.09861 = 6.03476e-06\n",
      "ell=l0^(-6): 1.09861 - 1.09861 = 6.03546e-07\n",
      "ell=l0^(-7): 1.09861 - 1.09861 = 6.13131e-08\n",
      "ell=l0^(-8): 1.09861 - 1.09861 = 0\n",
      "ell=l0^(-9): 1.09861 - 1.09861 = 0\n",
      "ell=l0^(-10): 1.09861 - 1.09861 = 0\n",
      "ell=l0^(-11): 1.09861 - 1.09861 = 0\n",
      "ell=l0^(-12): 1.09861 - 1.09861 = 0\n",
      "ell=l0^(-13): 1.09861 - 1.09861 = 0\n",
      "ell=l0^(-14): 1.09861 - 1.09861 = 0\n",
      "ell=l0^(-15): 1.09861 - 1.09861 = 0\n"
     ]
    }
   ],
   "source": [
    "for ell in range(1, 16):\n",
    "    print(f'ell=l0^(-{ell}): {models.boxcox(3, 10**-ell):.6g} - {np.log(3):.6g} = {models.boxcox(3, 10** -ell) - np.log(3):.6g}')\n"
   ]
  },
  {
   "cell_type": "markdown",
   "metadata": {},
   "source": [
    "## MEV models"
   ]
  },
  {
   "cell_type": "markdown",
   "metadata": {},
   "source": [
    "MEV models are defined as $$\\frac{e^{V_i + \\ln G_i(e^{V_1},\\ldots,e^{V_J})}}{\\sum_j e^{V_j + \\ln G_j(e^{V_1},\\ldots,e^{V_J})}},$$ where $G$ is a generating function, and\n",
    " $$G_i=\\frac{\\partial G}{\\partial y_i}(e^{V_1},\\ldots,e^{V_J})$$"
   ]
  },
  {
   "cell_type": "markdown",
   "metadata": {},
   "source": [
    "### Nested logit model"
   ]
  },
  {
   "cell_type": "markdown",
   "metadata": {},
   "source": [
    "The $G$ function for the nested logit model is defined such that $$G_i=\\frac{\\partial G}{\\partial y_i}(e^{V_1},\\ldots,e^{V_J}) = \\mu e^{(\\mu_m-1)V_i} \\left(\\sum_{i=1}^{J_m} e^{\\mu_m V_i}\\right)^{\\frac{\\mu}{\\mu_m}-1},$$ where the choice set is partitioned into $J_m$ nests, each associated with a parameter $\\mu_m$, and $\\mu$ is the scale parameter. The condition is $0 \\leq \\mu \\leq \\mu_m$ must be verified. In general, $\\mu$ is normalized to 1.0.   "
   ]
  },
  {
   "cell_type": "markdown",
   "metadata": {},
   "source": [
    "This is an example with 5 alternatives. Nest A contains alternatives 1, 2 and 4, and is associated with a scale parameter $\\mu_A=1.2$. Nest B contains alternatives 3 and 5, and is associated with a scale parameter $\\mu_B=2.3$. "
   ]
  },
  {
   "cell_type": "code",
   "execution_count": 28,
   "metadata": {},
   "outputs": [],
   "source": [
    "V = {1: Variable('Variable1'), 2: 0.1, 3: -0.1, 4: -0.2, 5: 0.2}\n",
    "av = {1: 1, 2: 0, 3: 1, 4: 1, 5: 1}\n",
    "nestA = 1.2, [1, 2, 4]\n",
    "nestB = 2.3, [3, 5]"
   ]
  },
  {
   "cell_type": "code",
   "execution_count": 29,
   "metadata": {},
   "outputs": [
    {
     "data": {
      "text/plain": [
       "[0.5578902807433072,\n",
       " 0.7868463084429763,\n",
       " 0.9138115025822288,\n",
       " 0.9678685668603005,\n",
       " 0.9883631800048074]"
      ]
     },
     "execution_count": 29,
     "metadata": {},
     "output_type": "execute_result"
    }
   ],
   "source": [
    "p1 = models.nested(V,\n",
    "                   availability=av, \n",
    "                   nests=(nestA, nestB),\n",
    "                   choice=1)\n",
    "p1.getValue_c(myData)"
   ]
  },
  {
   "cell_type": "markdown",
   "metadata": {},
   "source": [
    "If all the alternatives are available, define the availability dictionary as None."
   ]
  },
  {
   "cell_type": "code",
   "execution_count": 30,
   "metadata": {},
   "outputs": [
    {
     "data": {
      "text/plain": [
       "[0.4640404743246681,\n",
       " 0.7266195584511863,\n",
       " 0.8885046327706988,\n",
       " 0.9592159992110431,\n",
       " 0.9856361499787969]"
      ]
     },
     "execution_count": 30,
     "metadata": {},
     "output_type": "execute_result"
    }
   ],
   "source": [
    "p1 = models.nested(V,\n",
    "                   availability=None,\n",
    "                   nests=(nestA, nestB),\n",
    "                   choice=1)\n",
    "p1.getValue_c(myData)"
   ]
  },
  {
   "cell_type": "markdown",
   "metadata": {},
   "source": [
    "The syntax is similar to obtain the log of the probability. "
   ]
  },
  {
   "cell_type": "code",
   "execution_count": 31,
   "metadata": {},
   "outputs": [
    {
     "data": {
      "text/plain": [
       "[-0.5835929654272203,\n",
       " -0.2397223375101296,\n",
       " -0.09013096229569495,\n",
       " -0.032658978961111806,\n",
       " -0.011705057681341557]"
      ]
     },
     "execution_count": 31,
     "metadata": {},
     "output_type": "execute_result"
    }
   ],
   "source": [
    "p2 = models.lognested(V,\n",
    "                      availability=av,\n",
    "                      nests=(nestA, nestB),\n",
    "                      choice=1)\n",
    "p2.getValue_c(myData)"
   ]
  },
  {
   "cell_type": "code",
   "execution_count": 32,
   "metadata": {},
   "outputs": [
    {
     "data": {
      "text/plain": [
       "[-0.767783501412131,\n",
       " -0.3193522417879944,\n",
       " -0.11821541725279872,\n",
       " -0.041638995663314304,\n",
       " -0.014468008731436832]"
      ]
     },
     "execution_count": 32,
     "metadata": {},
     "output_type": "execute_result"
    }
   ],
   "source": [
    "p2 = models.lognested(V,\n",
    "                      availability=None,\n",
    "                      nests=(nestA, nestB),\n",
    "                      choice=1)\n",
    "p2.getValue_c(myData)"
   ]
  },
  {
   "cell_type": "markdown",
   "metadata": {},
   "source": [
    "If the value of the parameter $\\mu$ is not 1, there is another function to call. Note that, for the sake of computational efficiency, it is not verified by the code if the condition $$0 \\leq \\mu \\leq \\mu_m$$ is valid."
   ]
  },
  {
   "cell_type": "code",
   "execution_count": 33,
   "metadata": {},
   "outputs": [
    {
     "data": {
      "text/plain": [
       "[0.571515982233625,\n",
       " 0.8064339470846187,\n",
       " 0.9281474313936063,\n",
       " 0.9755474984955133,\n",
       " 0.991929502399578]"
      ]
     },
     "execution_count": 33,
     "metadata": {},
     "output_type": "execute_result"
    }
   ],
   "source": [
    "p1 = models.nestedMevMu(V,\n",
    "                        availability=av,\n",
    "                        nests=(nestA, nestB),\n",
    "                        choice=1,\n",
    "                        mu=1.1)\n",
    "p1.getValue_c(myData)"
   ]
  },
  {
   "cell_type": "code",
   "execution_count": 34,
   "metadata": {},
   "outputs": [
    {
     "data": {
      "text/plain": [
       "[0.4762357879291408,\n",
       " 0.7442702929692306,\n",
       " 0.9022330455719387,\n",
       " 0.9667826523447208,\n",
       " 0.9891858426536316]"
      ]
     },
     "execution_count": 34,
     "metadata": {},
     "output_type": "execute_result"
    }
   ],
   "source": [
    "p1 = models.nestedMevMu(V,\n",
    "                        availability=None,\n",
    "                        nests=(nestA, nestB),\n",
    "                        choice=1,\n",
    "                        mu=1.1)\n",
    "p1.getValue_c(myData)"
   ]
  },
  {
   "cell_type": "code",
   "execution_count": 35,
   "metadata": {},
   "outputs": [
    {
     "data": {
      "text/plain": [
       "[-0.5594628307251295,\n",
       " -0.21513328547194988,\n",
       " -0.07456468877823053,\n",
       " -0.024756428668673003,\n",
       " -0.00810324035203891]"
      ]
     },
     "execution_count": 35,
     "metadata": {},
     "output_type": "execute_result"
    }
   ],
   "source": [
    "p1 = models.lognestedMevMu(V,\n",
    "                           availability=av,\n",
    "                           nests=(nestA, nestB),\n",
    "                           choice=1,\n",
    "                           mu=1.1)\n",
    "p1.getValue_c(myData)"
   ]
  },
  {
   "cell_type": "code",
   "execution_count": 36,
   "metadata": {},
   "outputs": [
    {
     "data": {
      "text/plain": [
       "[-0.7418421946050984,\n",
       " -0.295351013123768,\n",
       " -0.10288242691101068,\n",
       " -0.033781573689133815,\n",
       " -0.010873055352343286]"
      ]
     },
     "execution_count": 36,
     "metadata": {},
     "output_type": "execute_result"
    }
   ],
   "source": [
    "p1 = models.lognestedMevMu(V,\n",
    "                           availability=None,\n",
    "                           nests=(nestA, nestB),\n",
    "                           choice=1,\n",
    "                           mu=1.1)\n",
    "p1.getValue_c(myData)"
   ]
  },
  {
   "cell_type": "markdown",
   "metadata": {},
   "source": [
    "The validity of the nested structure can be verified."
   ]
  },
  {
   "cell_type": "code",
   "execution_count": 37,
   "metadata": {},
   "outputs": [],
   "source": [
    "isValid, msg = models.checkValidityNestedLogit(V, (nestA, nestB))"
   ]
  },
  {
   "cell_type": "code",
   "execution_count": 38,
   "metadata": {},
   "outputs": [
    {
     "data": {
      "text/plain": [
       "True"
      ]
     },
     "execution_count": 38,
     "metadata": {},
     "output_type": "execute_result"
    }
   ],
   "source": [
    "isValid"
   ]
  },
  {
   "cell_type": "code",
   "execution_count": 39,
   "metadata": {},
   "outputs": [
    {
     "name": "stdout",
     "output_type": "stream",
     "text": [
      "The nested logit model is based on a partition. \n"
     ]
    }
   ],
   "source": [
    "print(msg)"
   ]
  },
  {
   "cell_type": "markdown",
   "metadata": {},
   "source": [
    "If one alternative does not belong to any nest..."
   ]
  },
  {
   "cell_type": "code",
   "execution_count": 40,
   "metadata": {},
   "outputs": [],
   "source": [
    "nestA = 1.2, [1, 4]\n",
    "nestB = 2.3, [3, 5]\n",
    "isValid, msg = models.checkValidityNestedLogit(V, (nestA, nestB))"
   ]
  },
  {
   "cell_type": "code",
   "execution_count": 41,
   "metadata": {},
   "outputs": [
    {
     "data": {
      "text/plain": [
       "False"
      ]
     },
     "execution_count": 41,
     "metadata": {},
     "output_type": "execute_result"
    }
   ],
   "source": [
    "isValid"
   ]
  },
  {
   "cell_type": "code",
   "execution_count": 42,
   "metadata": {},
   "outputs": [
    {
     "name": "stdout",
     "output_type": "stream",
     "text": [
      "Alternative(s) in the choice set, but not in any nest: {2}\n",
      "\n"
     ]
    }
   ],
   "source": [
    "print(msg)"
   ]
  },
  {
   "cell_type": "markdown",
   "metadata": {},
   "source": [
    "If an alternative belongs to two nests"
   ]
  },
  {
   "cell_type": "code",
   "execution_count": 43,
   "metadata": {},
   "outputs": [],
   "source": [
    "nestA = 1.2, [1, 2, 3, 4]\n",
    "nestB = 2.3, [3, 5]\n",
    "isValid, msg = models.checkValidityNestedLogit(V,(nestA,nestB))"
   ]
  },
  {
   "cell_type": "code",
   "execution_count": 44,
   "metadata": {},
   "outputs": [
    {
     "data": {
      "text/plain": [
       "False"
      ]
     },
     "execution_count": 44,
     "metadata": {},
     "output_type": "execute_result"
    }
   ],
   "source": [
    "isValid"
   ]
  },
  {
   "cell_type": "code",
   "execution_count": 45,
   "metadata": {},
   "outputs": [
    {
     "name": "stdout",
     "output_type": "stream",
     "text": [
      "Two nests contain the following alternative(s): {3}\n",
      "Two nests contain the following alternative(s): {3}\n",
      "\n"
     ]
    }
   ],
   "source": [
    "print(msg)"
   ]
  },
  {
   "cell_type": "markdown",
   "metadata": {},
   "source": [
    "### Cross-nested logit model"
   ]
  },
  {
   "cell_type": "markdown",
   "metadata": {},
   "source": [
    "The $G$ function for the cross nested logit model is defined such that $$G_i=\\frac{\\partial G}{\\partial y_i}(e^{V_1},\\ldots,e^{V_J}) = \\mu  \\sum_{m=1}^{M} \\alpha_{im}^{\\frac{\\mu_m}{\\mu}} e^{(\\mu_m-1) V_i}\\left( \\sum_{j=1}^{J} \\alpha_{jm}^{\\frac{\\mu_m}{\\mu}} e^{\\mu_m V_j} \\right)^{\\frac{\\mu}{\\mu_m}-1},$$\n",
    "where each nest $m$ is associated with a parameter $\\mu_m$ and, for each alternative $i$, a parameter $\\alpha_{im} \\geq 0$ that captures the degree of membership of alternative $i$ to nest $m$. $\\mu$ is the scale parameter. For each alternative $i$, there must be at least one nest $m$ such that $\\alpha_{im}>0$. The condition is $0 \\leq \\mu \\leq \\mu_m$ must be also verified. In general, $\\mu$ is normalized to 1.0.   "
   ]
  },
  {
   "cell_type": "markdown",
   "metadata": {},
   "source": [
    "This is an example with 5 alternatives and two nests.\n",
    "\n",
    "- Alt. 1 belongs to nest A.\n",
    "- Alt. 2 belongs to nest A.\n",
    "- Alt. 3 belongs to both nest A (50%) and nest B (50%).\n",
    "- Alt. 4 belongs to nest B.\n",
    "- Alt. 5 belongs to nest B."
   ]
  },
  {
   "cell_type": "code",
   "execution_count": 46,
   "metadata": {},
   "outputs": [],
   "source": [
    "V = {1: Variable('Variable1'), 2: 0.1, 3: -0.1, 4: -0.2, 5: 0.2}\n",
    "av = {1: 1, 2: 0, 3: 1, 4: 1, 5: 1}\n",
    "alphaA = {1: 1, 2: 1, 3: 0.5, 4: 0, 5: 0}\n",
    "alphaB = {1: 0, 2: 0, 3: 0.5, 4: 1, 5: 1}\n",
    "nestA = 1.2, alphaA\n",
    "nestB = 2.3, alphaB"
   ]
  },
  {
   "cell_type": "code",
   "execution_count": 47,
   "metadata": {},
   "outputs": [
    {
     "data": {
      "text/plain": [
       "[0.6016107584485123,\n",
       " 0.8108041306905538,\n",
       " 0.9231765502321484,\n",
       " 0.9709891867942788,\n",
       " 0.9893390254981359]"
      ]
     },
     "execution_count": 47,
     "metadata": {},
     "output_type": "execute_result"
    }
   ],
   "source": [
    "p1 = models.cnl(V,\n",
    "                availability=av,\n",
    "                nests=(nestA, nestB),\n",
    "                choice=1)\n",
    "p1.getValue_c(myData)"
   ]
  },
  {
   "cell_type": "markdown",
   "metadata": {},
   "source": [
    "If all the alternatives are available, define the availability dictionary as None."
   ]
  },
  {
   "cell_type": "code",
   "execution_count": 48,
   "metadata": {},
   "outputs": [
    {
     "data": {
      "text/plain": [
       "[0.4934592795712728,\n",
       " 0.7469558260955984,\n",
       " 0.897353160521319,\n",
       " 0.9622808946939261,\n",
       " 0.9866066131596022]"
      ]
     },
     "execution_count": 48,
     "metadata": {},
     "output_type": "execute_result"
    }
   ],
   "source": [
    "p1 = models.cnl(V,\n",
    "                availability=None,\n",
    "                nests=(nestA, nestB),\n",
    "                choice=1)\n",
    "p1.getValue_c(myData)"
   ]
  },
  {
   "cell_type": "markdown",
   "metadata": {},
   "source": [
    "If the value of the parameter $\\mu$ is not 1, there is another function to call. Note that, for the sake of computational efficiency, it is not verified by the code if the condition $$0 \\leq \\mu \\leq \\mu_m$$ is verified."
   ]
  },
  {
   "cell_type": "code",
   "execution_count": 49,
   "metadata": {},
   "outputs": [
    {
     "data": {
      "text/plain": [
       "[0.6110353981400448,\n",
       " 0.8286540022678524,\n",
       " 0.9367570385747355,\n",
       " 0.9783775241112526,\n",
       " 0.9928053581656079]"
      ]
     },
     "execution_count": 49,
     "metadata": {},
     "output_type": "execute_result"
    }
   ],
   "source": [
    "p1 = models.cnlmu(V,\n",
    "                  availability=av,\n",
    "                  nests=(nestA, nestB),\n",
    "                  choice=1,\n",
    "                  mu=1.1)\n",
    "p1.getValue_c(myData)"
   ]
  },
  {
   "cell_type": "code",
   "execution_count": 50,
   "metadata": {},
   "outputs": [
    {
     "data": {
      "text/plain": [
       "[0.5031397449964665,\n",
       " 0.7631318370685222,\n",
       " 0.9103649098609138,\n",
       " 0.9695618814330564,\n",
       " 0.9900568500377006]"
      ]
     },
     "execution_count": 50,
     "metadata": {},
     "output_type": "execute_result"
    }
   ],
   "source": [
    "p1 = models.cnlmu(V,\n",
    "                  availability=None,\n",
    "                  nests=(nestA, nestB),\n",
    "                  choice=1,\n",
    "                  mu=1.1)\n",
    "p1.getValue_c(myData)"
   ]
  },
  {
   "cell_type": "markdown",
   "metadata": {},
   "source": [
    "If the sample is endogenous, a correstion must be included in the model, as proposed by [Bierlaire, Bolduc and McFadden (2008)](http://dx.doi.org/10.1016/j.trb.2007.09.003).\n",
    "In this case, the generating function must first be defined, and the MEV model with correction is then called. "
   ]
  },
  {
   "cell_type": "code",
   "execution_count": 51,
   "metadata": {},
   "outputs": [
    {
     "data": {
      "text/plain": [
       "{1: log(bioMultSum(((`1.0` * exp((`0.19999999999999996` * Variable1))) * (bioMultSum((`1.0` * exp((`1.2` * Variable1))), (`0.0` * exp(`0.12`)), (`0.43527528164806206` * exp(`-0.12`)), (`0.0` * exp(`-0.24`)), (`0.0` * exp(`0.24`))) ** `-0.16666666666666663`)), ((`0.0` * exp((`1.2999999999999998` * Variable1))) * (bioMultSum((`0.0` * exp((`2.3` * Variable1))), (`0.0` * exp(`0.22999999999999998`)), (`0.2030630990890589` * exp(`-0.22999999999999998`)), (`1.0` * exp(`-0.45999999999999996`)), (`1.0` * exp(`0.45999999999999996`))) ** `-0.5652173913043478`)))),\n",
       " 2: log(bioMultSum(((`1.0` * exp(`0.019999999999999997`)) * (bioMultSum((`1.0` * exp((`1.2` * Variable1))), (`0.0` * exp(`0.12`)), (`0.43527528164806206` * exp(`-0.12`)), (`0.0` * exp(`-0.24`)), (`0.0` * exp(`0.24`))) ** `-0.16666666666666663`)), ((`0.0` * exp(`0.12999999999999998`)) * (bioMultSum((`0.0` * exp((`2.3` * Variable1))), (`0.0` * exp(`0.22999999999999998`)), (`0.2030630990890589` * exp(`-0.22999999999999998`)), (`1.0` * exp(`-0.45999999999999996`)), (`1.0` * exp(`0.45999999999999996`))) ** `-0.5652173913043478`)))),\n",
       " 3: log(bioMultSum(((`0.43527528164806206` * exp(`-0.019999999999999997`)) * (bioMultSum((`1.0` * exp((`1.2` * Variable1))), (`0.0` * exp(`0.12`)), (`0.43527528164806206` * exp(`-0.12`)), (`0.0` * exp(`-0.24`)), (`0.0` * exp(`0.24`))) ** `-0.16666666666666663`)), ((`0.2030630990890589` * exp(`-0.12999999999999998`)) * (bioMultSum((`0.0` * exp((`2.3` * Variable1))), (`0.0` * exp(`0.22999999999999998`)), (`0.2030630990890589` * exp(`-0.22999999999999998`)), (`1.0` * exp(`-0.45999999999999996`)), (`1.0` * exp(`0.45999999999999996`))) ** `-0.5652173913043478`)))),\n",
       " 4: log(bioMultSum(((`0.0` * exp(`-0.039999999999999994`)) * (bioMultSum((`1.0` * exp((`1.2` * Variable1))), (`0.0` * exp(`0.12`)), (`0.43527528164806206` * exp(`-0.12`)), (`0.0` * exp(`-0.24`)), (`0.0` * exp(`0.24`))) ** `-0.16666666666666663`)), ((`1.0` * exp(`-0.25999999999999995`)) * (bioMultSum((`0.0` * exp((`2.3` * Variable1))), (`0.0` * exp(`0.22999999999999998`)), (`0.2030630990890589` * exp(`-0.22999999999999998`)), (`1.0` * exp(`-0.45999999999999996`)), (`1.0` * exp(`0.45999999999999996`))) ** `-0.5652173913043478`)))),\n",
       " 5: log(bioMultSum(((`0.0` * exp(`0.039999999999999994`)) * (bioMultSum((`1.0` * exp((`1.2` * Variable1))), (`0.0` * exp(`0.12`)), (`0.43527528164806206` * exp(`-0.12`)), (`0.0` * exp(`-0.24`)), (`0.0` * exp(`0.24`))) ** `-0.16666666666666663`)), ((`1.0` * exp(`0.25999999999999995`)) * (bioMultSum((`0.0` * exp((`2.3` * Variable1))), (`0.0` * exp(`0.22999999999999998`)), (`0.2030630990890589` * exp(`-0.22999999999999998`)), (`1.0` * exp(`-0.45999999999999996`)), (`1.0` * exp(`0.45999999999999996`))) ** `-0.5652173913043478`))))}"
      ]
     },
     "execution_count": 51,
     "metadata": {},
     "output_type": "execute_result"
    }
   ],
   "source": [
    "logGi = models.getMevForCrossNested(V,\n",
    "                                    availability=av,\n",
    "                                    nests=(nestA, nestB))\n",
    "logGi"
   ]
  },
  {
   "cell_type": "code",
   "execution_count": 52,
   "metadata": {},
   "outputs": [
    {
     "data": {
      "text/plain": [
       "[0.5746072240749459,\n",
       " 0.7941580542348711,\n",
       " 0.9158433919531815,\n",
       " 0.9682229374475843,\n",
       " 0.9883533124960259]"
      ]
     },
     "execution_count": 52,
     "metadata": {},
     "output_type": "execute_result"
    }
   ],
   "source": [
    "correction = {1: -0.1, 2: 0.1, 3: 0.2, 4: -0.2, 5: 0}\n",
    "p1 = models.mev_endogenousSampling(V, \n",
    "                                   logGi, \n",
    "                                   av, \n",
    "                                   correction, \n",
    "                                   choice=1) \n",
    "p1.getValue_c(myData)"
   ]
  },
  {
   "cell_type": "code",
   "execution_count": 53,
   "metadata": {},
   "outputs": [
    {
     "data": {
      "text/plain": [
       "[-0.5540685601613919,\n",
       " -0.2304727767957555,\n",
       " -0.08790989840838126,\n",
       " -0.03229291094164832,\n",
       " -0.011715041418330685]"
      ]
     },
     "execution_count": 53,
     "metadata": {},
     "output_type": "execute_result"
    }
   ],
   "source": [
    "correction = {1: -0.1, 2: 0.1, 3: 0.2, 4: -0.2, 5: 0}\n",
    "p1 = models.logmev_endogenousSampling(V,\n",
    "                                      logGi,\n",
    "                                      av,\n",
    "                                      correction,\n",
    "                                      choice=1) \n",
    "p1.getValue_c(myData)"
   ]
  },
  {
   "cell_type": "code",
   "execution_count": 54,
   "metadata": {},
   "outputs": [
    {
     "data": {
      "text/plain": [
       "[0.46401513036213726,\n",
       " 0.7224778913810144,\n",
       " 0.8853333953129141,\n",
       " 0.957713686118543,\n",
       " 0.9850300164944686]"
      ]
     },
     "execution_count": 54,
     "metadata": {},
     "output_type": "execute_result"
    }
   ],
   "source": [
    "correction = {1: -0.1, 2: 0.1, 3: 0.2, 4: -0.2, 5: 0}\n",
    "p1 = models.mev_endogenousSampling(V,\n",
    "                                   logGi,\n",
    "                                   av=None,\n",
    "                                   correction=correction,\n",
    "                                   choice=1) \n",
    "p1.getValue_c(myData)"
   ]
  },
  {
   "cell_type": "code",
   "execution_count": 55,
   "metadata": {},
   "outputs": [
    {
     "data": {
      "text/plain": [
       "[-0.7678381187484398,\n",
       " -0.32506845962843034,\n",
       " -0.12179098704686808,\n",
       " -0.04320641194526775,\n",
       " -0.01508316467591353]"
      ]
     },
     "execution_count": 55,
     "metadata": {},
     "output_type": "execute_result"
    }
   ],
   "source": [
    "correction = {1: -0.1, 2: 0.1, 3: 0.2, 4: -0.2, 5: 0}\n",
    "p1 = models.logmev_endogenousSampling(V,\n",
    "                                      logGi,\n",
    "                                      av=None,\n",
    "                                      correction=correction,\n",
    "                                      choice=1) \n",
    "p1.getValue_c(myData)"
   ]
  },
  {
   "cell_type": "markdown",
   "metadata": {},
   "source": [
    "### The MEV generating function for the following models are available."
   ]
  },
  {
   "cell_type": "markdown",
   "metadata": {},
   "source": [
    "Nested logit model"
   ]
  },
  {
   "cell_type": "code",
   "execution_count": 56,
   "metadata": {},
   "outputs": [],
   "source": [
    "V = {1: Variable('Variable1'), 2: 0.1, 3: -0.1, 4: -0.2, 5: 0.2 }\n",
    "av = {1: 1, 2: 0, 3: 1, 4: 1, 5: 1}\n",
    "nestA = Beta('muA', 1.2, 1.0, None, 0), [1, 2, 4]\n",
    "nestB = Beta('muB', 2.3, 1.0, None, 0), [3, 5]"
   ]
  },
  {
   "cell_type": "code",
   "execution_count": 57,
   "metadata": {},
   "outputs": [
    {
     "data": {
      "text/plain": [
       "{1: (((muA(1.2) - `1.0`) * Variable1) + (((`1.0` / muA(1.2)) - `1.0`) * log(bioMultSum(exp((muA(1.2) * Variable1)), exp((muA(1.2) * `0.1`)), exp((muA(1.2) * `-0.2`)))))),\n",
       " 2: (((muA(1.2) - `1.0`) * `0.1`) + (((`1.0` / muA(1.2)) - `1.0`) * log(bioMultSum(exp((muA(1.2) * Variable1)), exp((muA(1.2) * `0.1`)), exp((muA(1.2) * `-0.2`)))))),\n",
       " 4: (((muA(1.2) - `1.0`) * `-0.2`) + (((`1.0` / muA(1.2)) - `1.0`) * log(bioMultSum(exp((muA(1.2) * Variable1)), exp((muA(1.2) * `0.1`)), exp((muA(1.2) * `-0.2`)))))),\n",
       " 3: (((muB(2.3) - `1.0`) * `-0.1`) + (((`1.0` / muB(2.3)) - `1.0`) * log(bioMultSum(exp((muB(2.3) * `-0.1`)), exp((muB(2.3) * `0.2`)))))),\n",
       " 5: (((muB(2.3) - `1.0`) * `0.2`) + (((`1.0` / muB(2.3)) - `1.0`) * log(bioMultSum(exp((muB(2.3) * `-0.1`)), exp((muB(2.3) * `0.2`))))))}"
      ]
     },
     "execution_count": 57,
     "metadata": {},
     "output_type": "execute_result"
    }
   ],
   "source": [
    "logGi = models.getMevForNested(V,\n",
    "                               availability=None,\n",
    "                               nests=(nestA, nestB))\n",
    "logGi"
   ]
  },
  {
   "cell_type": "markdown",
   "metadata": {},
   "source": [
    "And with the $\\mu$ parameter"
   ]
  },
  {
   "cell_type": "code",
   "execution_count": 58,
   "metadata": {},
   "outputs": [
    {
     "data": {
      "text/plain": [
       "{1: ((log(`1.1`) + ((muA(1.2) - `1.0`) * Variable1)) + (((`1.1` / muA(1.2)) - `1.0`) * log(bioMultSum(exp((muA(1.2) * Variable1)), exp((muA(1.2) * `0.1`)), exp((muA(1.2) * `-0.2`)))))),\n",
       " 2: ((log(`1.1`) + ((muA(1.2) - `1.0`) * `0.1`)) + (((`1.1` / muA(1.2)) - `1.0`) * log(bioMultSum(exp((muA(1.2) * Variable1)), exp((muA(1.2) * `0.1`)), exp((muA(1.2) * `-0.2`)))))),\n",
       " 4: ((log(`1.1`) + ((muA(1.2) - `1.0`) * `-0.2`)) + (((`1.1` / muA(1.2)) - `1.0`) * log(bioMultSum(exp((muA(1.2) * Variable1)), exp((muA(1.2) * `0.1`)), exp((muA(1.2) * `-0.2`)))))),\n",
       " 3: ((log(`1.1`) + ((muB(2.3) - `1.0`) * `-0.1`)) + (((`1.1` / muB(2.3)) - `1.0`) * log(bioMultSum(exp((muB(2.3) * `-0.1`)), exp((muB(2.3) * `0.2`)))))),\n",
       " 5: ((log(`1.1`) + ((muB(2.3) - `1.0`) * `0.2`)) + (((`1.1` / muB(2.3)) - `1.0`) * log(bioMultSum(exp((muB(2.3) * `-0.1`)), exp((muB(2.3) * `0.2`))))))}"
      ]
     },
     "execution_count": 58,
     "metadata": {},
     "output_type": "execute_result"
    }
   ],
   "source": [
    "logGi = models.getMevForNestedMu(V,\n",
    "                                 availability=None,\n",
    "                                 nests=(nestA, nestB),\n",
    "                                 mu=1.1)\n",
    "logGi"
   ]
  },
  {
   "cell_type": "markdown",
   "metadata": {},
   "source": [
    "Cross nested logit model"
   ]
  },
  {
   "cell_type": "code",
   "execution_count": 59,
   "metadata": {},
   "outputs": [],
   "source": [
    "V = {1: Variable('Variable1'), 2: 0.1, 3: -0.1, 4: -0.2, 5: 0.2 }\n",
    "av = {1: 1, 2: 0, 3: 1, 4: 1, 5: 1}\n",
    "alphaA = {1: 1, 2: 1, 3: 0.5, 4: 0, 5: 0}\n",
    "alphaB = {1: 0, 2: 0, 3: 0.5, 4: 1, 5: 1}\n",
    "nestA = Beta('muA', 1.2, 1.0, None, 0), alphaA\n",
    "nestB = Beta('muB', 2.3, 1.0, None,0), alphaB"
   ]
  },
  {
   "cell_type": "code",
   "execution_count": 60,
   "metadata": {},
   "outputs": [
    {
     "data": {
      "text/plain": [
       "{1: log(bioMultSum((((`1` ** muA(1.2)) * exp(((muA(1.2) - `1`) * Variable1))) * (bioMultSum(((`1` ** muA(1.2)) * exp((muA(1.2) * Variable1))), ((`1` ** muA(1.2)) * exp((muA(1.2) * `0.1`))), ((`0.5` ** muA(1.2)) * exp((muA(1.2) * `-0.1`))), ((`0` ** muA(1.2)) * exp((muA(1.2) * `-0.2`))), ((`0` ** muA(1.2)) * exp((muA(1.2) * `0.2`)))) ** ((`1.0` / muA(1.2)) - `1.0`))), (((`0` ** muB(2.3)) * exp(((muB(2.3) - `1`) * Variable1))) * (bioMultSum(((`0` ** muB(2.3)) * exp((muB(2.3) * Variable1))), ((`0` ** muB(2.3)) * exp((muB(2.3) * `0.1`))), ((`0.5` ** muB(2.3)) * exp((muB(2.3) * `-0.1`))), ((`1` ** muB(2.3)) * exp((muB(2.3) * `-0.2`))), ((`1` ** muB(2.3)) * exp((muB(2.3) * `0.2`)))) ** ((`1.0` / muB(2.3)) - `1.0`))))),\n",
       " 2: log(bioMultSum((((`1` ** muA(1.2)) * exp(((muA(1.2) - `1`) * `0.1`))) * (bioMultSum(((`1` ** muA(1.2)) * exp((muA(1.2) * Variable1))), ((`1` ** muA(1.2)) * exp((muA(1.2) * `0.1`))), ((`0.5` ** muA(1.2)) * exp((muA(1.2) * `-0.1`))), ((`0` ** muA(1.2)) * exp((muA(1.2) * `-0.2`))), ((`0` ** muA(1.2)) * exp((muA(1.2) * `0.2`)))) ** ((`1.0` / muA(1.2)) - `1.0`))), (((`0` ** muB(2.3)) * exp(((muB(2.3) - `1`) * `0.1`))) * (bioMultSum(((`0` ** muB(2.3)) * exp((muB(2.3) * Variable1))), ((`0` ** muB(2.3)) * exp((muB(2.3) * `0.1`))), ((`0.5` ** muB(2.3)) * exp((muB(2.3) * `-0.1`))), ((`1` ** muB(2.3)) * exp((muB(2.3) * `-0.2`))), ((`1` ** muB(2.3)) * exp((muB(2.3) * `0.2`)))) ** ((`1.0` / muB(2.3)) - `1.0`))))),\n",
       " 3: log(bioMultSum((((`0.5` ** muA(1.2)) * exp(((muA(1.2) - `1`) * `-0.1`))) * (bioMultSum(((`1` ** muA(1.2)) * exp((muA(1.2) * Variable1))), ((`1` ** muA(1.2)) * exp((muA(1.2) * `0.1`))), ((`0.5` ** muA(1.2)) * exp((muA(1.2) * `-0.1`))), ((`0` ** muA(1.2)) * exp((muA(1.2) * `-0.2`))), ((`0` ** muA(1.2)) * exp((muA(1.2) * `0.2`)))) ** ((`1.0` / muA(1.2)) - `1.0`))), (((`0.5` ** muB(2.3)) * exp(((muB(2.3) - `1`) * `-0.1`))) * (bioMultSum(((`0` ** muB(2.3)) * exp((muB(2.3) * Variable1))), ((`0` ** muB(2.3)) * exp((muB(2.3) * `0.1`))), ((`0.5` ** muB(2.3)) * exp((muB(2.3) * `-0.1`))), ((`1` ** muB(2.3)) * exp((muB(2.3) * `-0.2`))), ((`1` ** muB(2.3)) * exp((muB(2.3) * `0.2`)))) ** ((`1.0` / muB(2.3)) - `1.0`))))),\n",
       " 4: log(bioMultSum((((`0` ** muA(1.2)) * exp(((muA(1.2) - `1`) * `-0.2`))) * (bioMultSum(((`1` ** muA(1.2)) * exp((muA(1.2) * Variable1))), ((`1` ** muA(1.2)) * exp((muA(1.2) * `0.1`))), ((`0.5` ** muA(1.2)) * exp((muA(1.2) * `-0.1`))), ((`0` ** muA(1.2)) * exp((muA(1.2) * `-0.2`))), ((`0` ** muA(1.2)) * exp((muA(1.2) * `0.2`)))) ** ((`1.0` / muA(1.2)) - `1.0`))), (((`1` ** muB(2.3)) * exp(((muB(2.3) - `1`) * `-0.2`))) * (bioMultSum(((`0` ** muB(2.3)) * exp((muB(2.3) * Variable1))), ((`0` ** muB(2.3)) * exp((muB(2.3) * `0.1`))), ((`0.5` ** muB(2.3)) * exp((muB(2.3) * `-0.1`))), ((`1` ** muB(2.3)) * exp((muB(2.3) * `-0.2`))), ((`1` ** muB(2.3)) * exp((muB(2.3) * `0.2`)))) ** ((`1.0` / muB(2.3)) - `1.0`))))),\n",
       " 5: log(bioMultSum((((`0` ** muA(1.2)) * exp(((muA(1.2) - `1`) * `0.2`))) * (bioMultSum(((`1` ** muA(1.2)) * exp((muA(1.2) * Variable1))), ((`1` ** muA(1.2)) * exp((muA(1.2) * `0.1`))), ((`0.5` ** muA(1.2)) * exp((muA(1.2) * `-0.1`))), ((`0` ** muA(1.2)) * exp((muA(1.2) * `-0.2`))), ((`0` ** muA(1.2)) * exp((muA(1.2) * `0.2`)))) ** ((`1.0` / muA(1.2)) - `1.0`))), (((`1` ** muB(2.3)) * exp(((muB(2.3) - `1`) * `0.2`))) * (bioMultSum(((`0` ** muB(2.3)) * exp((muB(2.3) * Variable1))), ((`0` ** muB(2.3)) * exp((muB(2.3) * `0.1`))), ((`0.5` ** muB(2.3)) * exp((muB(2.3) * `-0.1`))), ((`1` ** muB(2.3)) * exp((muB(2.3) * `-0.2`))), ((`1` ** muB(2.3)) * exp((muB(2.3) * `0.2`)))) ** ((`1.0` / muB(2.3)) - `1.0`)))))}"
      ]
     },
     "execution_count": 60,
     "metadata": {},
     "output_type": "execute_result"
    }
   ],
   "source": [
    "logGi = models.getMevForCrossNested(V,\n",
    "                                    availability=None,\n",
    "                                    nests=(nestA, nestB))\n",
    "logGi"
   ]
  },
  {
   "cell_type": "markdown",
   "metadata": {},
   "source": [
    "Cross nested logit model with $\\mu$ parameter"
   ]
  },
  {
   "cell_type": "code",
   "execution_count": 61,
   "metadata": {},
   "outputs": [
    {
     "data": {
      "text/plain": [
       "{1: log((`1.1` * bioMultSum((((`1` ** (muA(1.2) / `1.1`)) * exp(((muA(1.2) - `1`) * Variable1))) * (bioMultSum(((`1` ** (muA(1.2) / `1.1`)) * exp((muA(1.2) * Variable1))), ((`1` ** (muA(1.2) / `1.1`)) * exp((muA(1.2) * `0.1`))), ((`0.5` ** (muA(1.2) / `1.1`)) * exp((muA(1.2) * `-0.1`))), ((`0` ** (muA(1.2) / `1.1`)) * exp((muA(1.2) * `-0.2`))), ((`0` ** (muA(1.2) / `1.1`)) * exp((muA(1.2) * `0.2`)))) ** ((`1.1` / muA(1.2)) - `1.0`))), (((`0` ** (muB(2.3) / `1.1`)) * exp(((muB(2.3) - `1`) * Variable1))) * (bioMultSum(((`0` ** (muB(2.3) / `1.1`)) * exp((muB(2.3) * Variable1))), ((`0` ** (muB(2.3) / `1.1`)) * exp((muB(2.3) * `0.1`))), ((`0.5` ** (muB(2.3) / `1.1`)) * exp((muB(2.3) * `-0.1`))), ((`1` ** (muB(2.3) / `1.1`)) * exp((muB(2.3) * `-0.2`))), ((`1` ** (muB(2.3) / `1.1`)) * exp((muB(2.3) * `0.2`)))) ** ((`1.1` / muB(2.3)) - `1.0`)))))),\n",
       " 2: log((`1.1` * bioMultSum((((`1` ** (muA(1.2) / `1.1`)) * exp(((muA(1.2) - `1`) * `0.1`))) * (bioMultSum(((`1` ** (muA(1.2) / `1.1`)) * exp((muA(1.2) * Variable1))), ((`1` ** (muA(1.2) / `1.1`)) * exp((muA(1.2) * `0.1`))), ((`0.5` ** (muA(1.2) / `1.1`)) * exp((muA(1.2) * `-0.1`))), ((`0` ** (muA(1.2) / `1.1`)) * exp((muA(1.2) * `-0.2`))), ((`0` ** (muA(1.2) / `1.1`)) * exp((muA(1.2) * `0.2`)))) ** ((`1.1` / muA(1.2)) - `1.0`))), (((`0` ** (muB(2.3) / `1.1`)) * exp(((muB(2.3) - `1`) * `0.1`))) * (bioMultSum(((`0` ** (muB(2.3) / `1.1`)) * exp((muB(2.3) * Variable1))), ((`0` ** (muB(2.3) / `1.1`)) * exp((muB(2.3) * `0.1`))), ((`0.5` ** (muB(2.3) / `1.1`)) * exp((muB(2.3) * `-0.1`))), ((`1` ** (muB(2.3) / `1.1`)) * exp((muB(2.3) * `-0.2`))), ((`1` ** (muB(2.3) / `1.1`)) * exp((muB(2.3) * `0.2`)))) ** ((`1.1` / muB(2.3)) - `1.0`)))))),\n",
       " 3: log((`1.1` * bioMultSum((((`0.5` ** (muA(1.2) / `1.1`)) * exp(((muA(1.2) - `1`) * `-0.1`))) * (bioMultSum(((`1` ** (muA(1.2) / `1.1`)) * exp((muA(1.2) * Variable1))), ((`1` ** (muA(1.2) / `1.1`)) * exp((muA(1.2) * `0.1`))), ((`0.5` ** (muA(1.2) / `1.1`)) * exp((muA(1.2) * `-0.1`))), ((`0` ** (muA(1.2) / `1.1`)) * exp((muA(1.2) * `-0.2`))), ((`0` ** (muA(1.2) / `1.1`)) * exp((muA(1.2) * `0.2`)))) ** ((`1.1` / muA(1.2)) - `1.0`))), (((`0.5` ** (muB(2.3) / `1.1`)) * exp(((muB(2.3) - `1`) * `-0.1`))) * (bioMultSum(((`0` ** (muB(2.3) / `1.1`)) * exp((muB(2.3) * Variable1))), ((`0` ** (muB(2.3) / `1.1`)) * exp((muB(2.3) * `0.1`))), ((`0.5` ** (muB(2.3) / `1.1`)) * exp((muB(2.3) * `-0.1`))), ((`1` ** (muB(2.3) / `1.1`)) * exp((muB(2.3) * `-0.2`))), ((`1` ** (muB(2.3) / `1.1`)) * exp((muB(2.3) * `0.2`)))) ** ((`1.1` / muB(2.3)) - `1.0`)))))),\n",
       " 4: log((`1.1` * bioMultSum((((`0` ** (muA(1.2) / `1.1`)) * exp(((muA(1.2) - `1`) * `-0.2`))) * (bioMultSum(((`1` ** (muA(1.2) / `1.1`)) * exp((muA(1.2) * Variable1))), ((`1` ** (muA(1.2) / `1.1`)) * exp((muA(1.2) * `0.1`))), ((`0.5` ** (muA(1.2) / `1.1`)) * exp((muA(1.2) * `-0.1`))), ((`0` ** (muA(1.2) / `1.1`)) * exp((muA(1.2) * `-0.2`))), ((`0` ** (muA(1.2) / `1.1`)) * exp((muA(1.2) * `0.2`)))) ** ((`1.1` / muA(1.2)) - `1.0`))), (((`1` ** (muB(2.3) / `1.1`)) * exp(((muB(2.3) - `1`) * `-0.2`))) * (bioMultSum(((`0` ** (muB(2.3) / `1.1`)) * exp((muB(2.3) * Variable1))), ((`0` ** (muB(2.3) / `1.1`)) * exp((muB(2.3) * `0.1`))), ((`0.5` ** (muB(2.3) / `1.1`)) * exp((muB(2.3) * `-0.1`))), ((`1` ** (muB(2.3) / `1.1`)) * exp((muB(2.3) * `-0.2`))), ((`1` ** (muB(2.3) / `1.1`)) * exp((muB(2.3) * `0.2`)))) ** ((`1.1` / muB(2.3)) - `1.0`)))))),\n",
       " 5: log((`1.1` * bioMultSum((((`0` ** (muA(1.2) / `1.1`)) * exp(((muA(1.2) - `1`) * `0.2`))) * (bioMultSum(((`1` ** (muA(1.2) / `1.1`)) * exp((muA(1.2) * Variable1))), ((`1` ** (muA(1.2) / `1.1`)) * exp((muA(1.2) * `0.1`))), ((`0.5` ** (muA(1.2) / `1.1`)) * exp((muA(1.2) * `-0.1`))), ((`0` ** (muA(1.2) / `1.1`)) * exp((muA(1.2) * `-0.2`))), ((`0` ** (muA(1.2) / `1.1`)) * exp((muA(1.2) * `0.2`)))) ** ((`1.1` / muA(1.2)) - `1.0`))), (((`1` ** (muB(2.3) / `1.1`)) * exp(((muB(2.3) - `1`) * `0.2`))) * (bioMultSum(((`0` ** (muB(2.3) / `1.1`)) * exp((muB(2.3) * Variable1))), ((`0` ** (muB(2.3) / `1.1`)) * exp((muB(2.3) * `0.1`))), ((`0.5` ** (muB(2.3) / `1.1`)) * exp((muB(2.3) * `-0.1`))), ((`1` ** (muB(2.3) / `1.1`)) * exp((muB(2.3) * `-0.2`))), ((`1` ** (muB(2.3) / `1.1`)) * exp((muB(2.3) * `0.2`)))) ** ((`1.1` / muB(2.3)) - `1.0`))))))}"
      ]
     },
     "execution_count": 61,
     "metadata": {},
     "output_type": "execute_result"
    }
   ],
   "source": [
    "logGi = models.getMevForCrossNestedMu(V,\n",
    "                                      availability=None,\n",
    "                                      nests=(nestA, nestB),\n",
    "                                      mu=1.1)\n",
    "logGi"
   ]
  }
 ],
 "metadata": {
  "kernelspec": {
   "display_name": "Python 3",
   "language": "python",
   "name": "python3"
  },
  "language_info": {
   "codemirror_mode": {
    "name": "ipython",
    "version": 3
   },
   "file_extension": ".py",
   "mimetype": "text/x-python",
   "name": "python",
   "nbconvert_exporter": "python",
   "pygments_lexer": "ipython3",
   "version": "3.8.2"
  }
 },
 "nbformat": 4,
 "nbformat_minor": 2
}
