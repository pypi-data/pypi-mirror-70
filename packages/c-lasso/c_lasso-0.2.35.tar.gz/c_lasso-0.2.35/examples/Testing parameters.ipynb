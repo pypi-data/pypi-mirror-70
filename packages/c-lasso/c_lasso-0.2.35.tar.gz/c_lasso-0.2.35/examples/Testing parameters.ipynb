{
 "cells": [
  {
   "cell_type": "code",
   "execution_count": 1,
   "metadata": {},
   "outputs": [
    {
     "ename": "NameError",
     "evalue": "name 'Non' is not defined",
     "output_type": "error",
     "traceback": [
      "\u001b[0;31m---------------------------------------------------------------------------\u001b[0m",
      "\u001b[0;31mNameError\u001b[0m                                 Traceback (most recent call last)",
      "\u001b[0;32m<ipython-input-1-d3b8380c5d6a>\u001b[0m in \u001b[0;36m<module>\u001b[0;34m\u001b[0m\n\u001b[1;32m      1\u001b[0m \u001b[0;31m#import sys\u001b[0m\u001b[0;34m\u001b[0m\u001b[0;34m\u001b[0m\u001b[0;34m\u001b[0m\u001b[0m\n\u001b[1;32m      2\u001b[0m \u001b[0;31m#!{sys.executable} -m pip install --upgrade c-lasso\u001b[0m\u001b[0;34m\u001b[0m\u001b[0;34m\u001b[0m\u001b[0;34m\u001b[0m\u001b[0m\n\u001b[0;32m----> 3\u001b[0;31m \u001b[0;32mfrom\u001b[0m \u001b[0mclasso\u001b[0m \u001b[0;32mimport\u001b[0m \u001b[0;34m*\u001b[0m\u001b[0;34m\u001b[0m\u001b[0;34m\u001b[0m\u001b[0m\n\u001b[0m\u001b[1;32m      4\u001b[0m \u001b[0;32mimport\u001b[0m \u001b[0mzarr\u001b[0m\u001b[0;34m\u001b[0m\u001b[0;34m\u001b[0m\u001b[0m\n\u001b[1;32m      5\u001b[0m \u001b[0;32mimport\u001b[0m \u001b[0mnumpy\u001b[0m \u001b[0;32mas\u001b[0m \u001b[0mnp\u001b[0m\u001b[0;34m\u001b[0m\u001b[0;34m\u001b[0m\u001b[0m\n",
      "\u001b[0;32m~/anaconda3/lib/python3.6/site-packages/classo/__init__.py\u001b[0m in \u001b[0;36m<module>\u001b[0;34m\u001b[0m\n\u001b[1;32m      2\u001b[0m \u001b[0;32mfrom\u001b[0m \u001b[0;34m.\u001b[0m\u001b[0mcompact_func\u001b[0m \u001b[0;32mimport\u001b[0m \u001b[0mClasso\u001b[0m\u001b[0;34m,\u001b[0m \u001b[0mpathlasso\u001b[0m\u001b[0;34m\u001b[0m\u001b[0;34m\u001b[0m\u001b[0m\n\u001b[1;32m      3\u001b[0m \u001b[0;32mfrom\u001b[0m \u001b[0;34m.\u001b[0m\u001b[0mcross_validation\u001b[0m \u001b[0;32mimport\u001b[0m \u001b[0mCV\u001b[0m\u001b[0;34m\u001b[0m\u001b[0;34m\u001b[0m\u001b[0m\n\u001b[0;32m----> 4\u001b[0;31m \u001b[0;32mfrom\u001b[0m \u001b[0;34m.\u001b[0m\u001b[0mstability_selection\u001b[0m \u001b[0;32mimport\u001b[0m \u001b[0mstability\u001b[0m\u001b[0;34m\u001b[0m\u001b[0;34m\u001b[0m\u001b[0m\n\u001b[0m\u001b[1;32m      5\u001b[0m \u001b[0;32mfrom\u001b[0m \u001b[0;34m.\u001b[0m\u001b[0msolver\u001b[0m \u001b[0;32mimport\u001b[0m \u001b[0mclasso_problem\u001b[0m\u001b[0;34m,\u001b[0m \u001b[0mclasso_data\u001b[0m\u001b[0;34m\u001b[0m\u001b[0;34m\u001b[0m\u001b[0m\n",
      "\u001b[0;32m~/anaconda3/lib/python3.6/site-packages/classo/stability_selection.py\u001b[0m in \u001b[0;36m<module>\u001b[0;34m\u001b[0m\n\u001b[1;32m     26\u001b[0m               \u001b[0mformulation\u001b[0m \u001b[0;34m=\u001b[0m \u001b[0;34m'LS'\u001b[0m\u001b[0;34m,\u001b[0m \u001b[0mseed\u001b[0m \u001b[0;34m=\u001b[0m \u001b[0;36m1\u001b[0m\u001b[0;34m,\u001b[0m \u001b[0mrho\u001b[0m\u001b[0;34m=\u001b[0m\u001b[0;36m1.345\u001b[0m\u001b[0;34m,\u001b[0m\u001b[0;34m\u001b[0m\u001b[0;34m\u001b[0m\u001b[0m\n\u001b[1;32m     27\u001b[0m               \u001b[0mrho_classification\u001b[0m\u001b[0;34m=\u001b[0m\u001b[0;34m-\u001b[0m\u001b[0;36m1.\u001b[0m\u001b[0;34m,\u001b[0m\u001b[0;34m\u001b[0m\u001b[0;34m\u001b[0m\u001b[0m\n\u001b[0;32m---> 28\u001b[0;31m               true_lam = False, e=1., w=Non, intercept=False):\n\u001b[0m\u001b[1;32m     29\u001b[0m \u001b[0;34m\u001b[0m\u001b[0m\n\u001b[1;32m     30\u001b[0m \u001b[0;34m\u001b[0m\u001b[0m\n",
      "\u001b[0;31mNameError\u001b[0m: name 'Non' is not defined"
     ]
    }
   ],
   "source": [
    "#import sys\n",
    "#!{sys.executable} -m pip install --upgrade c-lasso \n",
    "from classo import *\n",
    "import zarr\n",
    "import numpy as np\n",
    "import matplotlib.pyplot as plt\n",
    "from copy import deepcopy"
   ]
  },
  {
   "cell_type": "markdown",
   "metadata": {
    "heading_collapsed": true
   },
   "source": [
    "## Data "
   ]
  },
  {
   "cell_type": "code",
   "execution_count": null,
   "metadata": {
    "hidden": true
   },
   "outputs": [],
   "source": [
    "m,d,d_nonzero,k,sigma =150,100,5,1,0.5\n",
    "(X,C,y),sol = random_data(m,d,d_nonzero,k,sigma,zerosum=False,seed=None)\n",
    "plt.bar(range(len(sol)),sol)\n",
    "plt.show()\n",
    "\n",
    "np.arange(len(sol))[sol !=0.]"
   ]
  },
  {
   "cell_type": "code",
   "execution_count": null,
   "metadata": {
    "hidden": true
   },
   "outputs": [],
   "source": [
    "print(\"lambdamax = \", max(abs(X.T.dot(y))))"
   ]
  },
  {
   "cell_type": "markdown",
   "metadata": {
    "heading_collapsed": true
   },
   "source": [
    "## Problems"
   ]
  },
  {
   "cell_type": "code",
   "execution_count": null,
   "metadata": {
    "hidden": true
   },
   "outputs": [],
   "source": [
    "problem = classo_problem(X,y,C=C)\n",
    "problem.model_selection.PATH = True\n",
    "problem.model_selection.CV = True\n",
    "problem.model_selection.StabSel = True\n",
    "problem.model_selection.LAMfixed = True\n",
    "\n",
    "problem.formulation.w = np.array([2.]*40+ [1.]*(d-40))\n",
    "\n",
    "problem1 = deepcopy(problem)\n",
    "problem2 = deepcopy(problem)\n",
    "problem3 = deepcopy(problem)"
   ]
  },
  {
   "cell_type": "markdown",
   "metadata": {
    "heading_collapsed": true,
    "hidden": true
   },
   "source": [
    "### Path "
   ]
  },
  {
   "cell_type": "code",
   "execution_count": null,
   "metadata": {
    "hidden": true
   },
   "outputs": [],
   "source": [
    "param = problem1.model_selection.PATHparameters\n",
    "param.numerical_method = ' '\n",
    "param.n_active = 20\n",
    "param.lambdas = np.linspace(1.,1e-3,50)"
   ]
  },
  {
   "cell_type": "code",
   "execution_count": null,
   "metadata": {
    "hidden": true
   },
   "outputs": [],
   "source": [
    "param = problem2.model_selection.PATHparameters\n",
    "param.numerical_method = 'P-PDS'\n",
    "param.n_active = 0\n",
    "param.lambdas = np.linspace(1.,1e-1,50)"
   ]
  },
  {
   "cell_type": "code",
   "execution_count": null,
   "metadata": {
    "hidden": true
   },
   "outputs": [],
   "source": [
    "param = problem3.model_selection.PATHparameters\n",
    "param.numerical_method = 'DR'\n",
    "param.n_active = 0\n",
    "param.lambdas = np.linspace(1.,1e-1,20)"
   ]
  },
  {
   "cell_type": "markdown",
   "metadata": {
    "heading_collapsed": true,
    "hidden": true
   },
   "source": [
    "### Cross validation "
   ]
  },
  {
   "cell_type": "code",
   "execution_count": null,
   "metadata": {
    "hidden": true
   },
   "outputs": [],
   "source": [
    "param = problem1.model_selection.CVparameters\n",
    "param.seed = None\n",
    "param.numerical_method = ' '\n",
    "param.Nsubset = 5\n",
    "param.oneSE = True\n",
    "param.lambdas = np.linspace(1.,1e-3,80)"
   ]
  },
  {
   "cell_type": "code",
   "execution_count": null,
   "metadata": {
    "hidden": true
   },
   "outputs": [],
   "source": [
    "param = problem2.model_selection.CVparameters\n",
    "param.seed = None\n",
    "param.numerical_method = ' '\n",
    "param.Nsubset = 7\n",
    "param.oneSE = False\n",
    "param.lambdas = np.linspace(1.,1e-3,80)"
   ]
  },
  {
   "cell_type": "code",
   "execution_count": null,
   "metadata": {
    "hidden": true
   },
   "outputs": [],
   "source": [
    "param = problem3.model_selection.CVparameters\n",
    "param.seed = 2\n",
    "param.numerical_method = 'P-PDS'\n",
    "param.Nsubset = 3\n",
    "param.oneSE = True\n",
    "param.lambdas = np.linspace(1.,1e-1,20)"
   ]
  },
  {
   "cell_type": "markdown",
   "metadata": {
    "heading_collapsed": true,
    "hidden": true
   },
   "source": [
    "### Stability Selection"
   ]
  },
  {
   "cell_type": "code",
   "execution_count": null,
   "metadata": {
    "hidden": true
   },
   "outputs": [],
   "source": [
    "param = problem1.model_selection.StabSelparameters\n",
    "param.seed = None\n",
    "param.numerical_method = ' '\n",
    "param.method = 'first'\n",
    "param.B = 50\n",
    "param.q = 10\n",
    "param.percent_nS = 0.5\n",
    "param.lamin = 0.01\n",
    "param.hd = False\n",
    "param.lam = 'theoretical'\n",
    "param.true_lam = True\n",
    "param.threshold = 0.7 \n",
    "param.threshold_label = 0.2"
   ]
  },
  {
   "cell_type": "code",
   "execution_count": null,
   "metadata": {
    "hidden": true
   },
   "outputs": [],
   "source": [
    "param = problem2.model_selection.StabSelparameters\n",
    "param.seed = None\n",
    "param.numerical_method = ' '\n",
    "param.method = 'max'\n",
    "param.B = 70\n",
    "param.q = 20\n",
    "param.percent_nS = 0.8\n",
    "param.lamin = 0.01\n",
    "param.hd = False\n",
    "param.lam = 'theoretical'\n",
    "param.true_lam = True\n",
    "param.threshold = 0.5 \n",
    "param.threshold_label = 0.2"
   ]
  },
  {
   "cell_type": "code",
   "execution_count": null,
   "metadata": {
    "hidden": true
   },
   "outputs": [],
   "source": [
    "param = problem3.model_selection.StabSelparameters\n",
    "param.seed = None\n",
    "param.numerical_method = ' '\n",
    "param.method = 'lam'\n",
    "param.B = 50\n",
    "param.q = 1000\n",
    "param.percent_nS = 0.4\n",
    "param.lamin = 1.\n",
    "param.hd = False\n",
    "param.lam = 'theoretical'\n",
    "param.true_lam = True\n",
    "param.threshold = 0.8\n",
    "param.threshold_label = 0.2"
   ]
  },
  {
   "cell_type": "markdown",
   "metadata": {
    "heading_collapsed": true,
    "hidden": true
   },
   "source": [
    "### Lambda fixed "
   ]
  },
  {
   "cell_type": "code",
   "execution_count": null,
   "metadata": {
    "hidden": true
   },
   "outputs": [],
   "source": [
    "param = problem1.model_selection.LAMfixedparameters\n",
    "param.numerical_method = 'P-PDS'\n",
    "param.lam = 'theoretical'\n",
    "param.true_lam = True"
   ]
  },
  {
   "cell_type": "code",
   "execution_count": null,
   "metadata": {
    "hidden": true
   },
   "outputs": [],
   "source": [
    "param = problem2.model_selection.LAMfixedparameters\n",
    "param.numerical_method = 'DR'\n",
    "param.lam = 0.1\n",
    "param.true_lam = False"
   ]
  },
  {
   "cell_type": "code",
   "execution_count": null,
   "metadata": {
    "hidden": true
   },
   "outputs": [],
   "source": [
    "param = problem3.model_selection.LAMfixedparameters\n",
    "param.numerical_method = ' '\n",
    "param.lam = 0.\n",
    "param.true_lam = True"
   ]
  },
  {
   "cell_type": "markdown",
   "metadata": {
    "heading_collapsed": true
   },
   "source": [
    "## R1"
   ]
  },
  {
   "cell_type": "code",
   "execution_count": null,
   "metadata": {
    "hidden": true
   },
   "outputs": [],
   "source": [
    "problem1.formulation.concomitant = False\n",
    "problem1.formulation.huber = False\n",
    "problem1.formulation.classification = False\n",
    "\n",
    "problem2.formulation.concomitant = False\n",
    "problem2.formulation.huber = False\n",
    "problem2.formulation.classification = False\n",
    "\n",
    "problem3.formulation.concomitant = False\n",
    "problem3.formulation.huber = False\n",
    "problem3.formulation.classification = False"
   ]
  },
  {
   "cell_type": "code",
   "execution_count": null,
   "metadata": {
    "hidden": true,
    "scrolled": true
   },
   "outputs": [],
   "source": [
    "problem1.solve()\n",
    "print(problem1)\n",
    "problem1.solution.CV.graphic(ratio_mse_max = 10.)\n",
    "print(problem1.solution)\n",
    "\n",
    "problem2.solve()\n",
    "print(problem2)\n",
    "problem2.solution.CV.graphic(ratio_mse_max = 10.)\n",
    "print(problem2.solution)\n",
    "\n",
    "\n",
    "problem3.solve()\n",
    "print(problem3)\n",
    "problem3.solution.CV.graphic(ratio_mse_max = 10.)\n",
    "print(problem3.solution)\n"
   ]
  },
  {
   "cell_type": "markdown",
   "metadata": {
    "heading_collapsed": true
   },
   "source": [
    "## Reset the numerical methods "
   ]
  },
  {
   "cell_type": "code",
   "execution_count": null,
   "metadata": {
    "hidden": true
   },
   "outputs": [],
   "source": [
    "problem1.model_selection.PATHparameters.numerical_method = ' '\n",
    "problem2.model_selection.PATHparameters.numerical_method = 'P-PDS'\n",
    "problem3.model_selection.PATHparameters.numerical_method = 'DR'\n",
    "\n",
    "problem1.model_selection.CVparameters.numerical_method = ' '\n",
    "problem2.model_selection.CVparameters.numerical_method = ' '\n",
    "problem3.model_selection.CVparameters.numerical_method = 'P-PDS' \n",
    "\n",
    "problem1.model_selection.StabSelparameters.numerical_method = ' '\n",
    "problem2.model_selection.StabSelparameters.numerical_method = ' '\n",
    "problem3.model_selection.StabSelparameters.numerical_method = ' '\n",
    "\n",
    "problem3.model_selection.StabSelparameters.lam = 'theoretical'\n",
    "\n",
    "problem1.model_selection.LAMfixedparameters.numerical_method = 'P-PDS'\n",
    "problem2.model_selection.LAMfixedparameters.numerical_method = 'DR'\n",
    "problem3.model_selection.LAMfixedparameters.numerical_method = 'Path-Alg'\n",
    "\n",
    "problem1.model_selection.LAMfixedparameters.lam = 'theoretical'"
   ]
  },
  {
   "cell_type": "markdown",
   "metadata": {
    "heading_collapsed": true
   },
   "source": [
    "## R2"
   ]
  },
  {
   "cell_type": "code",
   "execution_count": null,
   "metadata": {
    "hidden": true
   },
   "outputs": [],
   "source": [
    "problem1.formulation.concomitant = False\n",
    "problem1.formulation.huber = True\n",
    "problem1.formulation.classification = False\n",
    "\n",
    "problem2.formulation.concomitant = False\n",
    "problem2.formulation.huber = True\n",
    "problem2.formulation.classification = False\n",
    "\n",
    "problem3.formulation.concomitant = False\n",
    "problem3.formulation.huber = True\n",
    "problem3.formulation.classification = False"
   ]
  },
  {
   "cell_type": "code",
   "execution_count": null,
   "metadata": {
    "hidden": true,
    "scrolled": true
   },
   "outputs": [],
   "source": [
    "problem1.solve()\n",
    "print(problem1)\n",
    "problem1.solution.CV.graphic(ratio_mse_max = 10.)\n",
    "print(problem1.solution)\n",
    "\n",
    "\n",
    "problem2.solve()\n",
    "print(problem2)\n",
    "problem2.solution.CV.graphic(ratio_mse_max = 10.)\n",
    "print(problem2.solution)\n",
    "\n",
    "\n",
    "problem3.solve()\n",
    "print(problem3)\n",
    "problem3.solution.CV.graphic(ratio_mse_max = 10.)\n",
    "print(problem3.solution)\n"
   ]
  },
  {
   "cell_type": "markdown",
   "metadata": {
    "heading_collapsed": true
   },
   "source": [
    "## Reset the numerical methods "
   ]
  },
  {
   "cell_type": "code",
   "execution_count": null,
   "metadata": {
    "hidden": true
   },
   "outputs": [],
   "source": [
    "problem1.model_selection.PATHparameters.numerical_method = ' '\n",
    "problem2.model_selection.PATHparameters.numerical_method = 'P-PDS'\n",
    "problem3.model_selection.PATHparameters.numerical_method = 'DR'\n",
    "\n",
    "problem1.model_selection.CVparameters.numerical_method = ' '\n",
    "problem2.model_selection.CVparameters.numerical_method = ' '\n",
    "problem3.model_selection.CVparameters.numerical_method = 'P-PDS' \n",
    "\n",
    "problem1.model_selection.StabSelparameters.numerical_method = ' '\n",
    "problem2.model_selection.StabSelparameters.numerical_method = ' '\n",
    "problem3.model_selection.StabSelparameters.numerical_method = ' '\n",
    "\n",
    "problem3.model_selection.StabSelparameters.lam = 'theoretical'\n",
    "\n",
    "problem1.model_selection.LAMfixedparameters.numerical_method = 'P-PDS'\n",
    "problem2.model_selection.LAMfixedparameters.numerical_method = 'DR'\n",
    "problem3.model_selection.LAMfixedparameters.numerical_method = 'Path-Alg'\n",
    "\n",
    "problem1.model_selection.LAMfixedparameters.lam = 'theoretical'\n",
    "\n",
    "\n",
    "problem1.formulation.e = ' '\n",
    "problem2.formulation.e = ' '\n",
    "problem3.formulation.e = ' '\n"
   ]
  },
  {
   "cell_type": "markdown",
   "metadata": {},
   "source": [
    "## R3"
   ]
  },
  {
   "cell_type": "code",
   "execution_count": null,
   "metadata": {},
   "outputs": [],
   "source": [
    "problem1.formulation.concomitant = True\n",
    "problem1.formulation.huber = False\n",
    "problem1.formulation.classification = False\n",
    "\n",
    "problem2.formulation.concomitant = True\n",
    "problem2.formulation.huber = False\n",
    "problem2.formulation.classification = False\n",
    "\n",
    "problem3.formulation.concomitant = True\n",
    "problem3.formulation.huber = False\n",
    "problem3.formulation.classification = False"
   ]
  },
  {
   "cell_type": "code",
   "execution_count": null,
   "metadata": {
    "scrolled": true
   },
   "outputs": [],
   "source": [
    "problem1.solve()\n",
    "print(problem1)\n",
    "problem1.solution.CV.graphic(ratio_mse_max = 10.)\n",
    "print(problem1.solution)\n",
    "\n",
    "\n",
    "problem2.solve()\n",
    "print(problem2)\n",
    "problem2.solution.CV.graphic(ratio_mse_max = 10.)\n",
    "print(problem2.solution)\n",
    "\n",
    "\n",
    "problem3.solve()\n",
    "print(problem3)\n",
    "problem3.solution.CV.graphic(ratio_mse_max = 10.)\n",
    "print(problem3.solution)\n"
   ]
  },
  {
   "cell_type": "markdown",
   "metadata": {
    "heading_collapsed": true
   },
   "source": [
    "## Reset the numerical methods "
   ]
  },
  {
   "cell_type": "code",
   "execution_count": null,
   "metadata": {
    "hidden": true
   },
   "outputs": [],
   "source": [
    "problem1.model_selection.PATHparameters.numerical_method = ' '\n",
    "problem2.model_selection.PATHparameters.numerical_method = 'P-PDS'\n",
    "problem3.model_selection.PATHparameters.numerical_method = 'DR'\n",
    "\n",
    "problem1.model_selection.CVparameters.numerical_method = ' '\n",
    "problem2.model_selection.CVparameters.numerical_method = ' '\n",
    "problem3.model_selection.CVparameters.numerical_method = 'P-PDS' \n",
    "\n",
    "problem1.model_selection.StabSelparameters.numerical_method = ' '\n",
    "problem2.model_selection.StabSelparameters.numerical_method = ' '\n",
    "problem3.model_selection.StabSelparameters.numerical_method = ' '\n",
    "\n",
    "problem3.model_selection.StabSelparameters.lam = 'theoretical'\n",
    "\n",
    "problem1.model_selection.LAMfixedparameters.numerical_method = 'P-PDS'\n",
    "problem2.model_selection.LAMfixedparameters.numerical_method = 'DR'\n",
    "problem3.model_selection.LAMfixedparameters.numerical_method = 'Path-Alg'\n",
    "\n",
    "problem1.model_selection.LAMfixedparameters.lam = 'theoretical'\n",
    "\n",
    "problem1.formulation.e = ' '\n",
    "problem2.formulation.e = ' '\n",
    "problem3.formulation.e = ' '"
   ]
  },
  {
   "cell_type": "markdown",
   "metadata": {},
   "source": [
    "## R4"
   ]
  },
  {
   "cell_type": "code",
   "execution_count": null,
   "metadata": {},
   "outputs": [],
   "source": [
    "problem1.formulation.concomitant = True\n",
    "problem1.formulation.huber = True\n",
    "problem1.formulation.classification = False\n",
    "\n",
    "problem2.formulation.concomitant = True\n",
    "problem2.formulation.huber = True\n",
    "problem2.formulation.classification = False\n",
    "\n",
    "problem3.formulation.concomitant = True\n",
    "problem3.formulation.huber = True\n",
    "problem3.formulation.classification = False"
   ]
  },
  {
   "cell_type": "code",
   "execution_count": null,
   "metadata": {
    "scrolled": true
   },
   "outputs": [],
   "source": [
    "problem1.solve()\n",
    "print(problem1)\n",
    "problem1.solution.CV.graphic(ratio_mse_max = 10.)\n",
    "print(problem1.solution)\n",
    "\n",
    "\n",
    "problem2.solve()\n",
    "print(problem2)\n",
    "problem2.solution.CV.graphic(ratio_mse_max = 10.)\n",
    "print(problem2.solution)\n",
    "\n",
    "\n",
    "problem3.solve()\n",
    "print(problem3)\n",
    "problem3.solution.CV.graphic(ratio_mse_max = 10.)\n",
    "print(problem3.solution)\n"
   ]
  },
  {
   "cell_type": "markdown",
   "metadata": {
    "heading_collapsed": true
   },
   "source": [
    "## Reset the numerical methods "
   ]
  },
  {
   "cell_type": "code",
   "execution_count": null,
   "metadata": {
    "hidden": true
   },
   "outputs": [],
   "source": [
    "problem1.model_selection.PATHparameters.numerical_method = ' '\n",
    "problem2.model_selection.PATHparameters.numerical_method = 'P-PDS'\n",
    "problem3.model_selection.PATHparameters.numerical_method = 'DR'\n",
    "\n",
    "problem1.model_selection.CVparameters.numerical_method = ' '\n",
    "problem2.model_selection.CVparameters.numerical_method = ' '\n",
    "problem3.model_selection.CVparameters.numerical_method = 'P-PDS' \n",
    "\n",
    "problem1.model_selection.StabSelparameters.numerical_method = ' '\n",
    "problem2.model_selection.StabSelparameters.numerical_method = ' '\n",
    "problem3.model_selection.StabSelparameters.numerical_method = ' '\n",
    "\n",
    "problem3.model_selection.StabSelparameters.lam = 'theoretical'\n",
    "\n",
    "problem1.model_selection.LAMfixedparameters.numerical_method = 'P-PDS'\n",
    "problem2.model_selection.LAMfixedparameters.numerical_method = 'DR'\n",
    "problem3.model_selection.LAMfixedparameters.numerical_method = 'Path-Alg'\n",
    "\n",
    "problem1.model_selection.LAMfixedparameters.lam = 'theoretical'"
   ]
  },
  {
   "cell_type": "markdown",
   "metadata": {
    "heading_collapsed": true
   },
   "source": [
    "## C1"
   ]
  },
  {
   "cell_type": "code",
   "execution_count": null,
   "metadata": {
    "hidden": true
   },
   "outputs": [],
   "source": [
    "problem1.formulation.concomitant = False\n",
    "problem1.formulation.huber = False\n",
    "problem1.formulation.classification = True\n",
    "problem1.data.y = np.sign(problem1.data.y)\n",
    "\n",
    "problem2.formulation.concomitant = False\n",
    "problem2.formulation.huber = False\n",
    "problem2.formulation.classification = True\n",
    "problem2.data.y = np.sign(problem2.data.y)\n",
    "\n",
    "problem3.formulation.concomitant = False\n",
    "problem3.formulation.huber = False\n",
    "problem3.formulation.classification = True\n",
    "problem3.data.y = np.sign(problem3.data.y)"
   ]
  },
  {
   "cell_type": "code",
   "execution_count": null,
   "metadata": {
    "hidden": true
   },
   "outputs": [],
   "source": [
    "problem1.solve()\n",
    "print(problem1)\n",
    "problem1.solution.CV.graphic(ratio_mse_max = 10.)\n",
    "print(problem1.solution)\n",
    "\n",
    "\n",
    "problem2.solve()\n",
    "print(problem2)\n",
    "problem2.solution.CV.graphic(ratio_mse_max = 10.)\n",
    "print(problem2.solution)\n",
    "\n",
    "\n",
    "problem3.solve()\n",
    "print(problem3)\n",
    "problem3.solution.CV.graphic(ratio_mse_max = 10.)\n",
    "print(problem3.solution)\n"
   ]
  },
  {
   "cell_type": "markdown",
   "metadata": {
    "heading_collapsed": true
   },
   "source": [
    "## Reset the numerical methods "
   ]
  },
  {
   "cell_type": "code",
   "execution_count": null,
   "metadata": {
    "hidden": true
   },
   "outputs": [],
   "source": [
    "problem1.model_selection.PATHparameters.numerical_method = ' '\n",
    "problem2.model_selection.PATHparameters.numerical_method = 'P-PDS'\n",
    "problem3.model_selection.PATHparameters.numerical_method = 'DR'\n",
    "\n",
    "problem1.model_selection.CVparameters.numerical_method = ' '\n",
    "problem2.model_selection.CVparameters.numerical_method = ' '\n",
    "problem3.model_selection.CVparameters.numerical_method = 'P-PDS' \n",
    "\n",
    "problem1.model_selection.StabSelparameters.numerical_method = ' '\n",
    "problem2.model_selection.StabSelparameters.numerical_method = ' '\n",
    "problem3.model_selection.StabSelparameters.numerical_method = ' '\n",
    "\n",
    "problem3.model_selection.StabSelparameters.lam = 'theoretical'\n",
    "\n",
    "problem1.model_selection.LAMfixedparameters.numerical_method = 'P-PDS'\n",
    "problem2.model_selection.LAMfixedparameters.numerical_method = 'DR'\n",
    "problem3.model_selection.LAMfixedparameters.numerical_method = 'Path-Alg'\n",
    "\n",
    "problem1.model_selection.LAMfixedparameters.lam = 'theoretical'"
   ]
  },
  {
   "cell_type": "markdown",
   "metadata": {},
   "source": [
    "## C2"
   ]
  },
  {
   "cell_type": "code",
   "execution_count": null,
   "metadata": {},
   "outputs": [],
   "source": [
    "problem1.formulation.concomitant = False\n",
    "problem1.formulation.huber = True\n",
    "problem1.formulation.classification = True\n",
    "\n",
    "problem2.formulation.concomitant = False\n",
    "problem2.formulation.huber = True\n",
    "problem2.formulation.classification = True\n",
    "\n",
    "problem3.formulation.concomitant = False\n",
    "problem3.formulation.huber = True\n",
    "problem3.formulation.classification = True"
   ]
  },
  {
   "cell_type": "code",
   "execution_count": null,
   "metadata": {
    "scrolled": true
   },
   "outputs": [],
   "source": [
    "problem1.solve()\n",
    "print(problem1)\n",
    "problem1.solution.CV.graphic(ratio_mse_max = 10.)\n",
    "print(problem1.solution)\n",
    "\n",
    "\n",
    "problem2.solve()\n",
    "print(problem2)\n",
    "problem2.solution.CV.graphic(ratio_mse_max = 10.)\n",
    "print(problem2.solution)\n",
    "\n",
    "\n",
    "problem3.solve()\n",
    "print(problem3)\n",
    "problem3.solution.CV.graphic(ratio_mse_max = 10.)\n",
    "print(problem3.solution)"
   ]
  }
 ],
 "metadata": {
  "kernelspec": {
   "display_name": "Python 3",
   "language": "python",
   "name": "python3"
  },
  "language_info": {
   "codemirror_mode": {
    "name": "ipython",
    "version": 3
   },
   "file_extension": ".py",
   "mimetype": "text/x-python",
   "name": "python",
   "nbconvert_exporter": "python",
   "pygments_lexer": "ipython3",
   "version": "3.6.8"
  }
 },
 "nbformat": 4,
 "nbformat_minor": 2
}
