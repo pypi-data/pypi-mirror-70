{
 "cells": [
  {
   "cell_type": "markdown",
   "metadata": {},
   "source": [
    "# Introduction \n",
    "Demonstrating widget two-way communication."
   ]
  },
  {
   "cell_type": "code",
   "execution_count": 1,
   "metadata": {},
   "outputs": [
    {
     "name": "stdout",
     "output_type": "stream",
     "text": [
      ">> clustergrammer2 backend version 0.13.1\n",
      "initialize meta_cet False\n"
     ]
    }
   ],
   "source": [
    "import ipywidgets as widgets\n",
    "from clustergrammer2 import net\n",
    "import json\n",
    "import pandas as pd\n",
    "df = {}"
   ]
  },
  {
   "cell_type": "markdown",
   "metadata": {},
   "source": [
    "### Make DataFrame"
   ]
  },
  {
   "cell_type": "code",
   "execution_count": 2,
   "metadata": {},
   "outputs": [
    {
     "data": {
      "text/plain": [
       "(38, 29)"
      ]
     },
     "execution_count": 2,
     "metadata": {},
     "output_type": "execute_result"
    }
   ],
   "source": [
    "df['clean'] = pd.read_csv('rc_two_cat_clean.csv', index_col=0)\n",
    "df['meta_col'] = pd.read_csv('meta_col.csv', index_col=0)\n",
    "df['clean'].shape"
   ]
  },
  {
   "cell_type": "code",
   "execution_count": 3,
   "metadata": {},
   "outputs": [
    {
     "data": {
      "text/html": [
       "<div>\n",
       "<style scoped>\n",
       "    .dataframe tbody tr th:only-of-type {\n",
       "        vertical-align: middle;\n",
       "    }\n",
       "\n",
       "    .dataframe tbody tr th {\n",
       "        vertical-align: top;\n",
       "    }\n",
       "\n",
       "    .dataframe thead th {\n",
       "        text-align: right;\n",
       "    }\n",
       "</style>\n",
       "<table border=\"1\" class=\"dataframe\">\n",
       "  <thead>\n",
       "    <tr style=\"text-align: right;\">\n",
       "      <th></th>\n",
       "      <th>color</th>\n",
       "    </tr>\n",
       "  </thead>\n",
       "  <tbody>\n",
       "    <tr>\n",
       "      <th>Cat</th>\n",
       "      <td>red</td>\n",
       "    </tr>\n",
       "    <tr>\n",
       "      <th>Dog</th>\n",
       "      <td>yellow</td>\n",
       "    </tr>\n",
       "    <tr>\n",
       "      <th>Shark</th>\n",
       "      <td>black</td>\n",
       "    </tr>\n",
       "    <tr>\n",
       "      <th>Snake</th>\n",
       "      <td>blue</td>\n",
       "    </tr>\n",
       "    <tr>\n",
       "      <th>Lizard</th>\n",
       "      <td>green</td>\n",
       "    </tr>\n",
       "  </tbody>\n",
       "</table>\n",
       "</div>"
      ],
      "text/plain": [
       "         color\n",
       "Cat        red\n",
       "Dog     yellow\n",
       "Shark    black\n",
       "Snake     blue\n",
       "Lizard   green"
      ]
     },
     "execution_count": 3,
     "metadata": {},
     "output_type": "execute_result"
    }
   ],
   "source": [
    "df['meta_cat_col'] = pd.DataFrame()\n",
    "df['meta_cat_col'].loc['Cat', 'color'] = 'red'\n",
    "df['meta_cat_col'].loc['Dog', 'color'] = 'yellow'\n",
    "df['meta_cat_col'].loc['Shark', 'color'] = 'black'\n",
    "df['meta_cat_col'].loc['Snake', 'color'] = 'blue'\n",
    "df['meta_cat_col'].loc['Lizard', 'color'] = 'green'\n",
    "df['meta_cat_col']"
   ]
  },
  {
   "cell_type": "code",
   "execution_count": 4,
   "metadata": {},
   "outputs": [
    {
     "data": {
      "application/vnd.jupyter.widget-view+json": {
       "model_id": "2d2dcea3d6574fed8c19abd4fd89987f",
       "version_major": 2,
       "version_minor": 0
      },
      "text/plain": [
       "ExampleWidget(network='{\"row_nodes\": [{\"name\": \"CDK4\", \"ini\": 38, \"clust\": 14, \"rank\": 30, \"rankvar\": 20}, {\"n…"
      ]
     },
     "metadata": {},
     "output_type": "display_data"
    }
   ],
   "source": [
    "net.load_df(df['clean'], meta_col=df['meta_col'], col_cats=['Category', 'Gender'])\n",
    "net.set_manual_category(col='Category', preferred_cats=df['meta_cat_col'])\n",
    "net.widget()"
   ]
  },
  {
   "cell_type": "code",
   "execution_count": 5,
   "metadata": {},
   "outputs": [],
   "source": [
    "net.get_manual_category()"
   ]
  },
  {
   "cell_type": "code",
   "execution_count": 8,
   "metadata": {},
   "outputs": [
    {
     "data": {
      "text/plain": [
       "Snake    7\n",
       "four     6\n",
       "five     6\n",
       "Shark    4\n",
       "two      4\n",
       "three    2\n",
       "Name: Category, dtype: int64"
      ]
     },
     "execution_count": 8,
     "metadata": {},
     "output_type": "execute_result"
    }
   ],
   "source": [
    "df['meta_col']['Category'].value_counts()"
   ]
  },
  {
   "cell_type": "markdown",
   "metadata": {},
   "source": [
    "# Downsample Example"
   ]
  },
  {
   "cell_type": "code",
   "execution_count": 12,
   "metadata": {
    "scrolled": false
   },
   "outputs": [
    {
     "data": {
      "application/vnd.jupyter.widget-view+json": {
       "model_id": "d5d3d86426d84bcf83d3d2044d086f10",
       "version_major": 2,
       "version_minor": 0
      },
      "text/plain": [
       "ExampleWidget(network='{\"row_nodes\": [{\"name\": \"CDK4\", \"ini\": 38, \"clust\": 24, \"rank\": 31, \"rankvar\": 33}, {\"n…"
      ]
     },
     "metadata": {},
     "output_type": "display_data"
    }
   ],
   "source": [
    "net.load_df(df['clean'], meta_col=df['meta_col'], col_cats=['Gender', 'Category'])\n",
    "net.downsample(axis='col', num_samples=5, random_state=99, ds_name='DS-Clusters', ds_cluster_name='default')\n",
    "net.set_manual_category(col='Gender')\n",
    "net.widget()"
   ]
  },
  {
   "cell_type": "code",
   "execution_count": 13,
   "metadata": {},
   "outputs": [],
   "source": [
    "net.get_manual_category()"
   ]
  },
  {
   "cell_type": "code",
   "execution_count": 15,
   "metadata": {},
   "outputs": [
    {
     "data": {
      "text/html": [
       "<div>\n",
       "<style scoped>\n",
       "    .dataframe tbody tr th:only-of-type {\n",
       "        vertical-align: middle;\n",
       "    }\n",
       "\n",
       "    .dataframe tbody tr th {\n",
       "        vertical-align: top;\n",
       "    }\n",
       "\n",
       "    .dataframe thead th {\n",
       "        text-align: right;\n",
       "    }\n",
       "</style>\n",
       "<table border=\"1\" class=\"dataframe\">\n",
       "  <thead>\n",
       "    <tr style=\"text-align: right;\">\n",
       "      <th></th>\n",
       "      <th>Gender</th>\n",
       "      <th>Category</th>\n",
       "      <th>number in clust</th>\n",
       "    </tr>\n",
       "  </thead>\n",
       "  <tbody>\n",
       "    <tr>\n",
       "      <th>default-1</th>\n",
       "      <td>New Gender</td>\n",
       "      <td>Shark</td>\n",
       "      <td>15</td>\n",
       "    </tr>\n",
       "    <tr>\n",
       "      <th>default-2</th>\n",
       "      <td>Male</td>\n",
       "      <td>Snake</td>\n",
       "      <td>11</td>\n",
       "    </tr>\n",
       "    <tr>\n",
       "      <th>default-3</th>\n",
       "      <td>Female</td>\n",
       "      <td>Snake</td>\n",
       "      <td>1</td>\n",
       "    </tr>\n",
       "    <tr>\n",
       "      <th>default-4</th>\n",
       "      <td>Male</td>\n",
       "      <td>five</td>\n",
       "      <td>1</td>\n",
       "    </tr>\n",
       "    <tr>\n",
       "      <th>default-5</th>\n",
       "      <td>Female</td>\n",
       "      <td>Snake</td>\n",
       "      <td>1</td>\n",
       "    </tr>\n",
       "  </tbody>\n",
       "</table>\n",
       "</div>"
      ],
      "text/plain": [
       "               Gender Category number in clust\n",
       "default-1  New Gender    Shark              15\n",
       "default-2        Male    Snake              11\n",
       "default-3      Female    Snake               1\n",
       "default-4        Male     five               1\n",
       "default-5      Female    Snake               1"
      ]
     },
     "execution_count": 15,
     "metadata": {},
     "output_type": "execute_result"
    }
   ],
   "source": [
    "df['meta_ds_col'] = net.meta_ds_col\n",
    "df['meta_ds_col']"
   ]
  },
  {
   "cell_type": "code",
   "execution_count": 18,
   "metadata": {},
   "outputs": [
    {
     "data": {
      "text/html": [
       "<div>\n",
       "<style scoped>\n",
       "    .dataframe tbody tr th:only-of-type {\n",
       "        vertical-align: middle;\n",
       "    }\n",
       "\n",
       "    .dataframe tbody tr th {\n",
       "        vertical-align: top;\n",
       "    }\n",
       "\n",
       "    .dataframe thead th {\n",
       "        text-align: right;\n",
       "    }\n",
       "</style>\n",
       "<table border=\"1\" class=\"dataframe\">\n",
       "  <thead>\n",
       "    <tr style=\"text-align: right;\">\n",
       "      <th></th>\n",
       "      <th>Category</th>\n",
       "      <th>Gender</th>\n",
       "      <th>DS-Clusters</th>\n",
       "    </tr>\n",
       "  </thead>\n",
       "  <tbody>\n",
       "    <tr>\n",
       "      <th>H1650</th>\n",
       "      <td>two</td>\n",
       "      <td>Male</td>\n",
       "      <td>default-2</td>\n",
       "    </tr>\n",
       "    <tr>\n",
       "      <th>H23</th>\n",
       "      <td>two</td>\n",
       "      <td>New Gender</td>\n",
       "      <td>default-1</td>\n",
       "    </tr>\n",
       "    <tr>\n",
       "      <th>CAL-12T</th>\n",
       "      <td>two</td>\n",
       "      <td>Male</td>\n",
       "      <td>default-2</td>\n",
       "    </tr>\n",
       "    <tr>\n",
       "      <th>H358</th>\n",
       "      <td>Snake</td>\n",
       "      <td>Male</td>\n",
       "      <td>default-2</td>\n",
       "    </tr>\n",
       "    <tr>\n",
       "      <th>H1975</th>\n",
       "      <td>Snake</td>\n",
       "      <td>Female</td>\n",
       "      <td>default-5</td>\n",
       "    </tr>\n",
       "    <tr>\n",
       "      <th>HCC15</th>\n",
       "      <td>two</td>\n",
       "      <td>New Gender</td>\n",
       "      <td>default-1</td>\n",
       "    </tr>\n",
       "    <tr>\n",
       "      <th>H1355</th>\n",
       "      <td>three</td>\n",
       "      <td>New Gender</td>\n",
       "      <td>default-1</td>\n",
       "    </tr>\n",
       "    <tr>\n",
       "      <th>HCC827</th>\n",
       "      <td>Snake</td>\n",
       "      <td>Female</td>\n",
       "      <td>default-3</td>\n",
       "    </tr>\n",
       "    <tr>\n",
       "      <th>H2405</th>\n",
       "      <td>five</td>\n",
       "      <td>Male</td>\n",
       "      <td>default-2</td>\n",
       "    </tr>\n",
       "    <tr>\n",
       "      <th>HCC78</th>\n",
       "      <td>five</td>\n",
       "      <td>Male</td>\n",
       "      <td>default-4</td>\n",
       "    </tr>\n",
       "    <tr>\n",
       "      <th>H1666</th>\n",
       "      <td>four</td>\n",
       "      <td>New Gender</td>\n",
       "      <td>default-1</td>\n",
       "    </tr>\n",
       "    <tr>\n",
       "      <th>H661</th>\n",
       "      <td>five</td>\n",
       "      <td>Male</td>\n",
       "      <td>default-2</td>\n",
       "    </tr>\n",
       "    <tr>\n",
       "      <th>H838</th>\n",
       "      <td>five</td>\n",
       "      <td>New Gender</td>\n",
       "      <td>default-1</td>\n",
       "    </tr>\n",
       "    <tr>\n",
       "      <th>H1703</th>\n",
       "      <td>five</td>\n",
       "      <td>New Gender</td>\n",
       "      <td>default-1</td>\n",
       "    </tr>\n",
       "    <tr>\n",
       "      <th>CALU-3</th>\n",
       "      <td>four</td>\n",
       "      <td>Male</td>\n",
       "      <td>default-2</td>\n",
       "    </tr>\n",
       "    <tr>\n",
       "      <th>H2342</th>\n",
       "      <td>four</td>\n",
       "      <td>New Gender</td>\n",
       "      <td>default-1</td>\n",
       "    </tr>\n",
       "    <tr>\n",
       "      <th>H2228</th>\n",
       "      <td>Snake</td>\n",
       "      <td>Male</td>\n",
       "      <td>default-2</td>\n",
       "    </tr>\n",
       "    <tr>\n",
       "      <th>H1299</th>\n",
       "      <td>three</td>\n",
       "      <td>New Gender</td>\n",
       "      <td>default-1</td>\n",
       "    </tr>\n",
       "    <tr>\n",
       "      <th>H1792</th>\n",
       "      <td>Shark</td>\n",
       "      <td>New Gender</td>\n",
       "      <td>default-1</td>\n",
       "    </tr>\n",
       "    <tr>\n",
       "      <th>H460</th>\n",
       "      <td>Shark</td>\n",
       "      <td>New Gender</td>\n",
       "      <td>default-1</td>\n",
       "    </tr>\n",
       "    <tr>\n",
       "      <th>H2106</th>\n",
       "      <td>four</td>\n",
       "      <td>Male</td>\n",
       "      <td>default-2</td>\n",
       "    </tr>\n",
       "    <tr>\n",
       "      <th>H441</th>\n",
       "      <td>Snake</td>\n",
       "      <td>Male</td>\n",
       "      <td>default-2</td>\n",
       "    </tr>\n",
       "    <tr>\n",
       "      <th>H1944</th>\n",
       "      <td>Shark</td>\n",
       "      <td>New Gender</td>\n",
       "      <td>default-1</td>\n",
       "    </tr>\n",
       "    <tr>\n",
       "      <th>H1437</th>\n",
       "      <td>four</td>\n",
       "      <td>New Gender</td>\n",
       "      <td>default-1</td>\n",
       "    </tr>\n",
       "    <tr>\n",
       "      <th>H1734</th>\n",
       "      <td>Snake</td>\n",
       "      <td>Male</td>\n",
       "      <td>default-2</td>\n",
       "    </tr>\n",
       "    <tr>\n",
       "      <th>LOU-NH91</th>\n",
       "      <td>five</td>\n",
       "      <td>New Gender</td>\n",
       "      <td>default-1</td>\n",
       "    </tr>\n",
       "    <tr>\n",
       "      <th>HCC44</th>\n",
       "      <td>four</td>\n",
       "      <td>New Gender</td>\n",
       "      <td>default-1</td>\n",
       "    </tr>\n",
       "    <tr>\n",
       "      <th>A549</th>\n",
       "      <td>Shark</td>\n",
       "      <td>New Gender</td>\n",
       "      <td>default-1</td>\n",
       "    </tr>\n",
       "    <tr>\n",
       "      <th>H1781</th>\n",
       "      <td>Snake</td>\n",
       "      <td>Male</td>\n",
       "      <td>default-2</td>\n",
       "    </tr>\n",
       "  </tbody>\n",
       "</table>\n",
       "</div>"
      ],
      "text/plain": [
       "         Category      Gender DS-Clusters\n",
       "H1650         two        Male   default-2\n",
       "H23           two  New Gender   default-1\n",
       "CAL-12T       two        Male   default-2\n",
       "H358        Snake        Male   default-2\n",
       "H1975       Snake      Female   default-5\n",
       "HCC15         two  New Gender   default-1\n",
       "H1355       three  New Gender   default-1\n",
       "HCC827      Snake      Female   default-3\n",
       "H2405        five        Male   default-2\n",
       "HCC78        five        Male   default-4\n",
       "H1666        four  New Gender   default-1\n",
       "H661         five        Male   default-2\n",
       "H838         five  New Gender   default-1\n",
       "H1703        five  New Gender   default-1\n",
       "CALU-3       four        Male   default-2\n",
       "H2342        four  New Gender   default-1\n",
       "H2228       Snake        Male   default-2\n",
       "H1299       three  New Gender   default-1\n",
       "H1792       Shark  New Gender   default-1\n",
       "H460        Shark  New Gender   default-1\n",
       "H2106        four        Male   default-2\n",
       "H441        Snake        Male   default-2\n",
       "H1944       Shark  New Gender   default-1\n",
       "H1437        four  New Gender   default-1\n",
       "H1734       Snake        Male   default-2\n",
       "LOU-NH91     five  New Gender   default-1\n",
       "HCC44        four  New Gender   default-1\n",
       "A549        Shark  New Gender   default-1\n",
       "H1781       Snake        Male   default-2"
      ]
     },
     "execution_count": 18,
     "metadata": {},
     "output_type": "execute_result"
    }
   ],
   "source": [
    "df['meta_col']"
   ]
  },
  {
   "cell_type": "code",
   "execution_count": 17,
   "metadata": {},
   "outputs": [
    {
     "data": {
      "text/html": [
       "<div>\n",
       "<style scoped>\n",
       "    .dataframe tbody tr th:only-of-type {\n",
       "        vertical-align: middle;\n",
       "    }\n",
       "\n",
       "    .dataframe tbody tr th {\n",
       "        vertical-align: top;\n",
       "    }\n",
       "\n",
       "    .dataframe thead th {\n",
       "        text-align: right;\n",
       "    }\n",
       "</style>\n",
       "<table border=\"1\" class=\"dataframe\">\n",
       "  <thead>\n",
       "    <tr style=\"text-align: right;\">\n",
       "      <th></th>\n",
       "      <th>default-1</th>\n",
       "      <th>default-2</th>\n",
       "      <th>default-3</th>\n",
       "      <th>default-4</th>\n",
       "      <th>default-5</th>\n",
       "    </tr>\n",
       "  </thead>\n",
       "  <tbody>\n",
       "    <tr>\n",
       "      <th>CDK4</th>\n",
       "      <td>0.372840</td>\n",
       "      <td>0.114200</td>\n",
       "      <td>4.240885</td>\n",
       "      <td>-0.981457</td>\n",
       "      <td>0.933286</td>\n",
       "    </tr>\n",
       "    <tr>\n",
       "      <th>LMTK3</th>\n",
       "      <td>0.122854</td>\n",
       "      <td>0.650017</td>\n",
       "      <td>-0.240496</td>\n",
       "      <td>1.149619</td>\n",
       "      <td>0.355815</td>\n",
       "    </tr>\n",
       "    <tr>\n",
       "      <th>LRRK2</th>\n",
       "      <td>0.265920</td>\n",
       "      <td>-0.484974</td>\n",
       "      <td>-0.517105</td>\n",
       "      <td>0.810660</td>\n",
       "      <td>-0.680761</td>\n",
       "    </tr>\n",
       "    <tr>\n",
       "      <th>UHMK1</th>\n",
       "      <td>0.489737</td>\n",
       "      <td>-0.036591</td>\n",
       "      <td>-0.166288</td>\n",
       "      <td>0.399448</td>\n",
       "      <td>1.537664</td>\n",
       "    </tr>\n",
       "    <tr>\n",
       "      <th>EGFR</th>\n",
       "      <td>0.324206</td>\n",
       "      <td>0.268258</td>\n",
       "      <td>3.557296</td>\n",
       "      <td>-0.012362</td>\n",
       "      <td>0.781819</td>\n",
       "    </tr>\n",
       "  </tbody>\n",
       "</table>\n",
       "</div>"
      ],
      "text/plain": [
       "       default-1  default-2  default-3  default-4  default-5\n",
       "CDK4    0.372840   0.114200   4.240885  -0.981457   0.933286\n",
       "LMTK3   0.122854   0.650017  -0.240496   1.149619   0.355815\n",
       "LRRK2   0.265920  -0.484974  -0.517105   0.810660  -0.680761\n",
       "UHMK1   0.489737  -0.036591  -0.166288   0.399448   1.537664\n",
       "EGFR    0.324206   0.268258   3.557296  -0.012362   0.781819"
      ]
     },
     "execution_count": 17,
     "metadata": {},
     "output_type": "execute_result"
    }
   ],
   "source": [
    "df['ds'] = net.export_df()\n",
    "df['ds'].head()"
   ]
  },
  {
   "cell_type": "markdown",
   "metadata": {},
   "source": [
    "# Start with Downsampled Data"
   ]
  },
  {
   "cell_type": "code",
   "execution_count": 20,
   "metadata": {},
   "outputs": [
    {
     "data": {
      "application/vnd.jupyter.widget-view+json": {
       "model_id": "082182fb13d34171a963207541df7c9e",
       "version_major": 2,
       "version_minor": 0
      },
      "text/plain": [
       "ExampleWidget(network='{\"row_nodes\": [{\"name\": \"CDK4\", \"ini\": 38, \"clust\": 24, \"rank\": 31, \"rankvar\": 33}, {\"n…"
      ]
     },
     "metadata": {},
     "output_type": "display_data"
    }
   ],
   "source": [
    "net.load_df(df['ds'], meta_col=df['meta_col'], \n",
    "            is_downsampled=True, meta_ds_col=df['meta_ds_col'], \n",
    "            col_cats=['Category', 'Gender', 'number in clust'])\n",
    "\n",
    "net.set_manual_category(col='Category', preferred_cats=df['meta_cat_col'])\n",
    "net.widget()"
   ]
  },
  {
   "cell_type": "code",
   "execution_count": 21,
   "metadata": {},
   "outputs": [],
   "source": [
    "net.get_manual_category()"
   ]
  },
  {
   "cell_type": "code",
   "execution_count": 22,
   "metadata": {},
   "outputs": [
    {
     "data": {
      "text/html": [
       "<div>\n",
       "<style scoped>\n",
       "    .dataframe tbody tr th:only-of-type {\n",
       "        vertical-align: middle;\n",
       "    }\n",
       "\n",
       "    .dataframe tbody tr th {\n",
       "        vertical-align: top;\n",
       "    }\n",
       "\n",
       "    .dataframe thead th {\n",
       "        text-align: right;\n",
       "    }\n",
       "</style>\n",
       "<table border=\"1\" class=\"dataframe\">\n",
       "  <thead>\n",
       "    <tr style=\"text-align: right;\">\n",
       "      <th></th>\n",
       "      <th>Gender</th>\n",
       "      <th>Category</th>\n",
       "      <th>number in clust</th>\n",
       "    </tr>\n",
       "  </thead>\n",
       "  <tbody>\n",
       "    <tr>\n",
       "      <th>default-1</th>\n",
       "      <td>New Gender</td>\n",
       "      <td>Shark</td>\n",
       "      <td>15</td>\n",
       "    </tr>\n",
       "    <tr>\n",
       "      <th>default-2</th>\n",
       "      <td>Male</td>\n",
       "      <td>New Category</td>\n",
       "      <td>11</td>\n",
       "    </tr>\n",
       "    <tr>\n",
       "      <th>default-3</th>\n",
       "      <td>Female</td>\n",
       "      <td>New Category</td>\n",
       "      <td>1</td>\n",
       "    </tr>\n",
       "    <tr>\n",
       "      <th>default-4</th>\n",
       "      <td>Male</td>\n",
       "      <td>New Category</td>\n",
       "      <td>1</td>\n",
       "    </tr>\n",
       "    <tr>\n",
       "      <th>default-5</th>\n",
       "      <td>Female</td>\n",
       "      <td>Snake</td>\n",
       "      <td>1</td>\n",
       "    </tr>\n",
       "  </tbody>\n",
       "</table>\n",
       "</div>"
      ],
      "text/plain": [
       "               Gender      Category number in clust\n",
       "default-1  New Gender         Shark              15\n",
       "default-2        Male  New Category              11\n",
       "default-3      Female  New Category               1\n",
       "default-4        Male  New Category               1\n",
       "default-5      Female         Snake               1"
      ]
     },
     "execution_count": 22,
     "metadata": {},
     "output_type": "execute_result"
    }
   ],
   "source": [
    "df['meta_ds_col']"
   ]
  },
  {
   "cell_type": "code",
   "execution_count": 23,
   "metadata": {},
   "outputs": [
    {
     "data": {
      "text/html": [
       "<div>\n",
       "<style scoped>\n",
       "    .dataframe tbody tr th:only-of-type {\n",
       "        vertical-align: middle;\n",
       "    }\n",
       "\n",
       "    .dataframe tbody tr th {\n",
       "        vertical-align: top;\n",
       "    }\n",
       "\n",
       "    .dataframe thead th {\n",
       "        text-align: right;\n",
       "    }\n",
       "</style>\n",
       "<table border=\"1\" class=\"dataframe\">\n",
       "  <thead>\n",
       "    <tr style=\"text-align: right;\">\n",
       "      <th></th>\n",
       "      <th>Category</th>\n",
       "      <th>Gender</th>\n",
       "      <th>DS-Clusters</th>\n",
       "    </tr>\n",
       "  </thead>\n",
       "  <tbody>\n",
       "    <tr>\n",
       "      <th>H1650</th>\n",
       "      <td>New Category</td>\n",
       "      <td>Male</td>\n",
       "      <td>default-2</td>\n",
       "    </tr>\n",
       "    <tr>\n",
       "      <th>H23</th>\n",
       "      <td>Shark</td>\n",
       "      <td>New Gender</td>\n",
       "      <td>default-1</td>\n",
       "    </tr>\n",
       "    <tr>\n",
       "      <th>CAL-12T</th>\n",
       "      <td>New Category</td>\n",
       "      <td>Male</td>\n",
       "      <td>default-2</td>\n",
       "    </tr>\n",
       "    <tr>\n",
       "      <th>H358</th>\n",
       "      <td>New Category</td>\n",
       "      <td>Male</td>\n",
       "      <td>default-2</td>\n",
       "    </tr>\n",
       "    <tr>\n",
       "      <th>H1975</th>\n",
       "      <td>Snake</td>\n",
       "      <td>Female</td>\n",
       "      <td>default-5</td>\n",
       "    </tr>\n",
       "    <tr>\n",
       "      <th>HCC15</th>\n",
       "      <td>Shark</td>\n",
       "      <td>New Gender</td>\n",
       "      <td>default-1</td>\n",
       "    </tr>\n",
       "    <tr>\n",
       "      <th>H1355</th>\n",
       "      <td>Shark</td>\n",
       "      <td>New Gender</td>\n",
       "      <td>default-1</td>\n",
       "    </tr>\n",
       "    <tr>\n",
       "      <th>HCC827</th>\n",
       "      <td>New Category</td>\n",
       "      <td>Female</td>\n",
       "      <td>default-3</td>\n",
       "    </tr>\n",
       "    <tr>\n",
       "      <th>H2405</th>\n",
       "      <td>New Category</td>\n",
       "      <td>Male</td>\n",
       "      <td>default-2</td>\n",
       "    </tr>\n",
       "    <tr>\n",
       "      <th>HCC78</th>\n",
       "      <td>New Category</td>\n",
       "      <td>Male</td>\n",
       "      <td>default-4</td>\n",
       "    </tr>\n",
       "    <tr>\n",
       "      <th>H1666</th>\n",
       "      <td>Shark</td>\n",
       "      <td>New Gender</td>\n",
       "      <td>default-1</td>\n",
       "    </tr>\n",
       "    <tr>\n",
       "      <th>H661</th>\n",
       "      <td>New Category</td>\n",
       "      <td>Male</td>\n",
       "      <td>default-2</td>\n",
       "    </tr>\n",
       "    <tr>\n",
       "      <th>H838</th>\n",
       "      <td>Shark</td>\n",
       "      <td>New Gender</td>\n",
       "      <td>default-1</td>\n",
       "    </tr>\n",
       "    <tr>\n",
       "      <th>H1703</th>\n",
       "      <td>Shark</td>\n",
       "      <td>New Gender</td>\n",
       "      <td>default-1</td>\n",
       "    </tr>\n",
       "    <tr>\n",
       "      <th>CALU-3</th>\n",
       "      <td>New Category</td>\n",
       "      <td>Male</td>\n",
       "      <td>default-2</td>\n",
       "    </tr>\n",
       "    <tr>\n",
       "      <th>H2342</th>\n",
       "      <td>Shark</td>\n",
       "      <td>New Gender</td>\n",
       "      <td>default-1</td>\n",
       "    </tr>\n",
       "    <tr>\n",
       "      <th>H2228</th>\n",
       "      <td>New Category</td>\n",
       "      <td>Male</td>\n",
       "      <td>default-2</td>\n",
       "    </tr>\n",
       "    <tr>\n",
       "      <th>H1299</th>\n",
       "      <td>Shark</td>\n",
       "      <td>New Gender</td>\n",
       "      <td>default-1</td>\n",
       "    </tr>\n",
       "    <tr>\n",
       "      <th>H1792</th>\n",
       "      <td>Shark</td>\n",
       "      <td>New Gender</td>\n",
       "      <td>default-1</td>\n",
       "    </tr>\n",
       "    <tr>\n",
       "      <th>H460</th>\n",
       "      <td>Shark</td>\n",
       "      <td>New Gender</td>\n",
       "      <td>default-1</td>\n",
       "    </tr>\n",
       "    <tr>\n",
       "      <th>H2106</th>\n",
       "      <td>New Category</td>\n",
       "      <td>Male</td>\n",
       "      <td>default-2</td>\n",
       "    </tr>\n",
       "    <tr>\n",
       "      <th>H441</th>\n",
       "      <td>New Category</td>\n",
       "      <td>Male</td>\n",
       "      <td>default-2</td>\n",
       "    </tr>\n",
       "    <tr>\n",
       "      <th>H1944</th>\n",
       "      <td>Shark</td>\n",
       "      <td>New Gender</td>\n",
       "      <td>default-1</td>\n",
       "    </tr>\n",
       "    <tr>\n",
       "      <th>H1437</th>\n",
       "      <td>Shark</td>\n",
       "      <td>New Gender</td>\n",
       "      <td>default-1</td>\n",
       "    </tr>\n",
       "    <tr>\n",
       "      <th>H1734</th>\n",
       "      <td>New Category</td>\n",
       "      <td>Male</td>\n",
       "      <td>default-2</td>\n",
       "    </tr>\n",
       "    <tr>\n",
       "      <th>LOU-NH91</th>\n",
       "      <td>Shark</td>\n",
       "      <td>New Gender</td>\n",
       "      <td>default-1</td>\n",
       "    </tr>\n",
       "    <tr>\n",
       "      <th>HCC44</th>\n",
       "      <td>Shark</td>\n",
       "      <td>New Gender</td>\n",
       "      <td>default-1</td>\n",
       "    </tr>\n",
       "    <tr>\n",
       "      <th>A549</th>\n",
       "      <td>Shark</td>\n",
       "      <td>New Gender</td>\n",
       "      <td>default-1</td>\n",
       "    </tr>\n",
       "    <tr>\n",
       "      <th>H1781</th>\n",
       "      <td>New Category</td>\n",
       "      <td>Male</td>\n",
       "      <td>default-2</td>\n",
       "    </tr>\n",
       "  </tbody>\n",
       "</table>\n",
       "</div>"
      ],
      "text/plain": [
       "              Category      Gender DS-Clusters\n",
       "H1650     New Category        Male   default-2\n",
       "H23              Shark  New Gender   default-1\n",
       "CAL-12T   New Category        Male   default-2\n",
       "H358      New Category        Male   default-2\n",
       "H1975            Snake      Female   default-5\n",
       "HCC15            Shark  New Gender   default-1\n",
       "H1355            Shark  New Gender   default-1\n",
       "HCC827    New Category      Female   default-3\n",
       "H2405     New Category        Male   default-2\n",
       "HCC78     New Category        Male   default-4\n",
       "H1666            Shark  New Gender   default-1\n",
       "H661      New Category        Male   default-2\n",
       "H838             Shark  New Gender   default-1\n",
       "H1703            Shark  New Gender   default-1\n",
       "CALU-3    New Category        Male   default-2\n",
       "H2342            Shark  New Gender   default-1\n",
       "H2228     New Category        Male   default-2\n",
       "H1299            Shark  New Gender   default-1\n",
       "H1792            Shark  New Gender   default-1\n",
       "H460             Shark  New Gender   default-1\n",
       "H2106     New Category        Male   default-2\n",
       "H441      New Category        Male   default-2\n",
       "H1944            Shark  New Gender   default-1\n",
       "H1437            Shark  New Gender   default-1\n",
       "H1734     New Category        Male   default-2\n",
       "LOU-NH91         Shark  New Gender   default-1\n",
       "HCC44            Shark  New Gender   default-1\n",
       "A549             Shark  New Gender   default-1\n",
       "H1781     New Category        Male   default-2"
      ]
     },
     "execution_count": 23,
     "metadata": {},
     "output_type": "execute_result"
    }
   ],
   "source": [
    "df['meta_col']"
   ]
  },
  {
   "cell_type": "markdown",
   "metadata": {},
   "source": [
    "### Load Subset of Cells to Relabel"
   ]
  },
  {
   "cell_type": "code",
   "execution_count": 24,
   "metadata": {},
   "outputs": [
    {
     "data": {
      "text/plain": [
       "['default-2', 'default-3', 'default-4']"
      ]
     },
     "execution_count": 24,
     "metadata": {},
     "output_type": "execute_result"
    }
   ],
   "source": [
    "keep_clusters = df['meta_ds_col'][df['meta_ds_col']['Category'] == 'New Category'].index.tolist()\n",
    "keep_clusters"
   ]
  },
  {
   "cell_type": "code",
   "execution_count": 25,
   "metadata": {},
   "outputs": [
    {
     "data": {
      "application/vnd.jupyter.widget-view+json": {
       "model_id": "db9c38a907784ae89237d140a103ad8d",
       "version_major": 2,
       "version_minor": 0
      },
      "text/plain": [
       "ExampleWidget(network='{\"row_nodes\": [{\"name\": \"CDK4\", \"ini\": 38, \"clust\": 34, \"rank\": 31, \"rankvar\": 34}, {\"n…"
      ]
     },
     "metadata": {},
     "output_type": "display_data"
    }
   ],
   "source": [
    "net.load_df(df['ds'][keep_clusters], meta_col=df['meta_col'],\n",
    "            is_downsampled=True, meta_ds_col=df['meta_ds_col'], \n",
    "            col_cats=['Category', 'Gender', 'number in clust'])\n",
    "\n",
    "net.set_manual_category(col='Category', preferred_cats=df['meta_cat_col'])\n",
    "net.widget()"
   ]
  },
  {
   "cell_type": "code",
   "execution_count": 26,
   "metadata": {},
   "outputs": [],
   "source": [
    "net.get_manual_category()"
   ]
  },
  {
   "cell_type": "code",
   "execution_count": 27,
   "metadata": {},
   "outputs": [
    {
     "data": {
      "text/html": [
       "<div>\n",
       "<style scoped>\n",
       "    .dataframe tbody tr th:only-of-type {\n",
       "        vertical-align: middle;\n",
       "    }\n",
       "\n",
       "    .dataframe tbody tr th {\n",
       "        vertical-align: top;\n",
       "    }\n",
       "\n",
       "    .dataframe thead th {\n",
       "        text-align: right;\n",
       "    }\n",
       "</style>\n",
       "<table border=\"1\" class=\"dataframe\">\n",
       "  <thead>\n",
       "    <tr style=\"text-align: right;\">\n",
       "      <th></th>\n",
       "      <th>Gender</th>\n",
       "      <th>Category</th>\n",
       "      <th>number in clust</th>\n",
       "    </tr>\n",
       "  </thead>\n",
       "  <tbody>\n",
       "    <tr>\n",
       "      <th>default-1</th>\n",
       "      <td>New Gender</td>\n",
       "      <td>Shark</td>\n",
       "      <td>15</td>\n",
       "    </tr>\n",
       "    <tr>\n",
       "      <th>default-2</th>\n",
       "      <td>Male</td>\n",
       "      <td>Cat</td>\n",
       "      <td>11</td>\n",
       "    </tr>\n",
       "    <tr>\n",
       "      <th>default-3</th>\n",
       "      <td>Female</td>\n",
       "      <td>New Category</td>\n",
       "      <td>1</td>\n",
       "    </tr>\n",
       "    <tr>\n",
       "      <th>default-4</th>\n",
       "      <td>Male</td>\n",
       "      <td>New Category</td>\n",
       "      <td>1</td>\n",
       "    </tr>\n",
       "    <tr>\n",
       "      <th>default-5</th>\n",
       "      <td>Female</td>\n",
       "      <td>Snake</td>\n",
       "      <td>1</td>\n",
       "    </tr>\n",
       "  </tbody>\n",
       "</table>\n",
       "</div>"
      ],
      "text/plain": [
       "               Gender      Category number in clust\n",
       "default-1  New Gender         Shark              15\n",
       "default-2        Male           Cat              11\n",
       "default-3      Female  New Category               1\n",
       "default-4        Male  New Category               1\n",
       "default-5      Female         Snake               1"
      ]
     },
     "execution_count": 27,
     "metadata": {},
     "output_type": "execute_result"
    }
   ],
   "source": [
    "df['meta_ds_col']"
   ]
  },
  {
   "cell_type": "code",
   "execution_count": 28,
   "metadata": {},
   "outputs": [
    {
     "data": {
      "text/html": [
       "<div>\n",
       "<style scoped>\n",
       "    .dataframe tbody tr th:only-of-type {\n",
       "        vertical-align: middle;\n",
       "    }\n",
       "\n",
       "    .dataframe tbody tr th {\n",
       "        vertical-align: top;\n",
       "    }\n",
       "\n",
       "    .dataframe thead th {\n",
       "        text-align: right;\n",
       "    }\n",
       "</style>\n",
       "<table border=\"1\" class=\"dataframe\">\n",
       "  <thead>\n",
       "    <tr style=\"text-align: right;\">\n",
       "      <th></th>\n",
       "      <th>Category</th>\n",
       "      <th>Gender</th>\n",
       "      <th>DS-Clusters</th>\n",
       "    </tr>\n",
       "  </thead>\n",
       "  <tbody>\n",
       "    <tr>\n",
       "      <th>H1650</th>\n",
       "      <td>Cat</td>\n",
       "      <td>Male</td>\n",
       "      <td>default-2</td>\n",
       "    </tr>\n",
       "    <tr>\n",
       "      <th>H23</th>\n",
       "      <td>Shark</td>\n",
       "      <td>New Gender</td>\n",
       "      <td>default-1</td>\n",
       "    </tr>\n",
       "    <tr>\n",
       "      <th>CAL-12T</th>\n",
       "      <td>Cat</td>\n",
       "      <td>Male</td>\n",
       "      <td>default-2</td>\n",
       "    </tr>\n",
       "    <tr>\n",
       "      <th>H358</th>\n",
       "      <td>Cat</td>\n",
       "      <td>Male</td>\n",
       "      <td>default-2</td>\n",
       "    </tr>\n",
       "    <tr>\n",
       "      <th>H1975</th>\n",
       "      <td>Snake</td>\n",
       "      <td>Female</td>\n",
       "      <td>default-5</td>\n",
       "    </tr>\n",
       "    <tr>\n",
       "      <th>HCC15</th>\n",
       "      <td>Shark</td>\n",
       "      <td>New Gender</td>\n",
       "      <td>default-1</td>\n",
       "    </tr>\n",
       "    <tr>\n",
       "      <th>H1355</th>\n",
       "      <td>Shark</td>\n",
       "      <td>New Gender</td>\n",
       "      <td>default-1</td>\n",
       "    </tr>\n",
       "    <tr>\n",
       "      <th>HCC827</th>\n",
       "      <td>New Category</td>\n",
       "      <td>Female</td>\n",
       "      <td>default-3</td>\n",
       "    </tr>\n",
       "    <tr>\n",
       "      <th>H2405</th>\n",
       "      <td>Cat</td>\n",
       "      <td>Male</td>\n",
       "      <td>default-2</td>\n",
       "    </tr>\n",
       "    <tr>\n",
       "      <th>HCC78</th>\n",
       "      <td>New Category</td>\n",
       "      <td>Male</td>\n",
       "      <td>default-4</td>\n",
       "    </tr>\n",
       "    <tr>\n",
       "      <th>H1666</th>\n",
       "      <td>Shark</td>\n",
       "      <td>New Gender</td>\n",
       "      <td>default-1</td>\n",
       "    </tr>\n",
       "    <tr>\n",
       "      <th>H661</th>\n",
       "      <td>Cat</td>\n",
       "      <td>Male</td>\n",
       "      <td>default-2</td>\n",
       "    </tr>\n",
       "    <tr>\n",
       "      <th>H838</th>\n",
       "      <td>Shark</td>\n",
       "      <td>New Gender</td>\n",
       "      <td>default-1</td>\n",
       "    </tr>\n",
       "    <tr>\n",
       "      <th>H1703</th>\n",
       "      <td>Shark</td>\n",
       "      <td>New Gender</td>\n",
       "      <td>default-1</td>\n",
       "    </tr>\n",
       "    <tr>\n",
       "      <th>CALU-3</th>\n",
       "      <td>Cat</td>\n",
       "      <td>Male</td>\n",
       "      <td>default-2</td>\n",
       "    </tr>\n",
       "    <tr>\n",
       "      <th>H2342</th>\n",
       "      <td>Shark</td>\n",
       "      <td>New Gender</td>\n",
       "      <td>default-1</td>\n",
       "    </tr>\n",
       "    <tr>\n",
       "      <th>H2228</th>\n",
       "      <td>Cat</td>\n",
       "      <td>Male</td>\n",
       "      <td>default-2</td>\n",
       "    </tr>\n",
       "    <tr>\n",
       "      <th>H1299</th>\n",
       "      <td>Shark</td>\n",
       "      <td>New Gender</td>\n",
       "      <td>default-1</td>\n",
       "    </tr>\n",
       "    <tr>\n",
       "      <th>H1792</th>\n",
       "      <td>Shark</td>\n",
       "      <td>New Gender</td>\n",
       "      <td>default-1</td>\n",
       "    </tr>\n",
       "    <tr>\n",
       "      <th>H460</th>\n",
       "      <td>Shark</td>\n",
       "      <td>New Gender</td>\n",
       "      <td>default-1</td>\n",
       "    </tr>\n",
       "    <tr>\n",
       "      <th>H2106</th>\n",
       "      <td>Cat</td>\n",
       "      <td>Male</td>\n",
       "      <td>default-2</td>\n",
       "    </tr>\n",
       "    <tr>\n",
       "      <th>H441</th>\n",
       "      <td>Cat</td>\n",
       "      <td>Male</td>\n",
       "      <td>default-2</td>\n",
       "    </tr>\n",
       "    <tr>\n",
       "      <th>H1944</th>\n",
       "      <td>Shark</td>\n",
       "      <td>New Gender</td>\n",
       "      <td>default-1</td>\n",
       "    </tr>\n",
       "    <tr>\n",
       "      <th>H1437</th>\n",
       "      <td>Shark</td>\n",
       "      <td>New Gender</td>\n",
       "      <td>default-1</td>\n",
       "    </tr>\n",
       "    <tr>\n",
       "      <th>H1734</th>\n",
       "      <td>Cat</td>\n",
       "      <td>Male</td>\n",
       "      <td>default-2</td>\n",
       "    </tr>\n",
       "    <tr>\n",
       "      <th>LOU-NH91</th>\n",
       "      <td>Shark</td>\n",
       "      <td>New Gender</td>\n",
       "      <td>default-1</td>\n",
       "    </tr>\n",
       "    <tr>\n",
       "      <th>HCC44</th>\n",
       "      <td>Shark</td>\n",
       "      <td>New Gender</td>\n",
       "      <td>default-1</td>\n",
       "    </tr>\n",
       "    <tr>\n",
       "      <th>A549</th>\n",
       "      <td>Shark</td>\n",
       "      <td>New Gender</td>\n",
       "      <td>default-1</td>\n",
       "    </tr>\n",
       "    <tr>\n",
       "      <th>H1781</th>\n",
       "      <td>Cat</td>\n",
       "      <td>Male</td>\n",
       "      <td>default-2</td>\n",
       "    </tr>\n",
       "  </tbody>\n",
       "</table>\n",
       "</div>"
      ],
      "text/plain": [
       "              Category      Gender DS-Clusters\n",
       "H1650              Cat        Male   default-2\n",
       "H23              Shark  New Gender   default-1\n",
       "CAL-12T            Cat        Male   default-2\n",
       "H358               Cat        Male   default-2\n",
       "H1975            Snake      Female   default-5\n",
       "HCC15            Shark  New Gender   default-1\n",
       "H1355            Shark  New Gender   default-1\n",
       "HCC827    New Category      Female   default-3\n",
       "H2405              Cat        Male   default-2\n",
       "HCC78     New Category        Male   default-4\n",
       "H1666            Shark  New Gender   default-1\n",
       "H661               Cat        Male   default-2\n",
       "H838             Shark  New Gender   default-1\n",
       "H1703            Shark  New Gender   default-1\n",
       "CALU-3             Cat        Male   default-2\n",
       "H2342            Shark  New Gender   default-1\n",
       "H2228              Cat        Male   default-2\n",
       "H1299            Shark  New Gender   default-1\n",
       "H1792            Shark  New Gender   default-1\n",
       "H460             Shark  New Gender   default-1\n",
       "H2106              Cat        Male   default-2\n",
       "H441               Cat        Male   default-2\n",
       "H1944            Shark  New Gender   default-1\n",
       "H1437            Shark  New Gender   default-1\n",
       "H1734              Cat        Male   default-2\n",
       "LOU-NH91         Shark  New Gender   default-1\n",
       "HCC44            Shark  New Gender   default-1\n",
       "A549             Shark  New Gender   default-1\n",
       "H1781              Cat        Male   default-2"
      ]
     },
     "execution_count": 28,
     "metadata": {},
     "output_type": "execute_result"
    }
   ],
   "source": [
    "df['meta_col']"
   ]
  },
  {
   "cell_type": "code",
   "execution_count": null,
   "metadata": {},
   "outputs": [],
   "source": [
    "# df['meta_col']['Granular Cell Type'] = df['meta_col']['Category']"
   ]
  },
  {
   "cell_type": "code",
   "execution_count": null,
   "metadata": {},
   "outputs": [],
   "source": [
    "# df['meta_col'].to_csv('meta_col_v2.csv')"
   ]
  },
  {
   "cell_type": "code",
   "execution_count": null,
   "metadata": {},
   "outputs": [],
   "source": []
  },
  {
   "cell_type": "code",
   "execution_count": null,
   "metadata": {},
   "outputs": [],
   "source": []
  },
  {
   "cell_type": "code",
   "execution_count": null,
   "metadata": {},
   "outputs": [],
   "source": []
  },
  {
   "cell_type": "code",
   "execution_count": null,
   "metadata": {},
   "outputs": [],
   "source": [
    "# # net.load_df(df['clean'], meta_col=df['meta_col'], meta_row=df['meta_row'], col_cats=['Gender', 'Category'])\n",
    "# net.load_df(df['ini'])\n",
    "# # net.downsample(axis='col', num_samples=5, random_state=99)\n",
    "# # net.set_manual_category(col='Gender')\n",
    "# # net.widget()"
   ]
  },
  {
   "cell_type": "code",
   "execution_count": null,
   "metadata": {},
   "outputs": [],
   "source": []
  },
  {
   "cell_type": "code",
   "execution_count": null,
   "metadata": {},
   "outputs": [],
   "source": [
    "# new_tuples = [x for x in cols]\n",
    "# new_tuples"
   ]
  },
  {
   "cell_type": "code",
   "execution_count": null,
   "metadata": {},
   "outputs": [],
   "source": [
    "# a = widgets.Text()\n",
    "# display(a)\n",
    "# mylink = widgets.jslink((a, 'value'), (net.widget_instance, 'value'))"
   ]
  },
  {
   "cell_type": "code",
   "execution_count": null,
   "metadata": {},
   "outputs": [],
   "source": [
    "# net.load_df(df['ini'])\n",
    "# net.cluster(sim_mat=True)\n",
    "# net.widget('sim_col')"
   ]
  },
  {
   "cell_type": "code",
   "execution_count": null,
   "metadata": {},
   "outputs": [],
   "source": [
    "# # destroy-viz \n",
    "# net.widget_instance.value = 'destroy-viz'"
   ]
  },
  {
   "cell_type": "markdown",
   "metadata": {},
   "source": [
    "### Random Matrix Example"
   ]
  },
  {
   "cell_type": "code",
   "execution_count": null,
   "metadata": {},
   "outputs": [],
   "source": [
    "# import numpy as np\n",
    "# import pandas as pd\n",
    "\n",
    "# # generate random matrix\n",
    "# num_rows = 100\n",
    "# num_cols = 100\n",
    "# np.random.seed(seed=100)\n",
    "# mat = np.random.rand(num_rows, num_cols)\n",
    "\n",
    "# # make row and col labels\n",
    "# rows = range(num_rows)\n",
    "# cols = range(num_cols)\n",
    "# rows = [str(i) for i in rows]\n",
    "# cols = [str(i) for i in cols]\n",
    "\n",
    "# # make dataframe \n",
    "# df['rand'] = pd.DataFrame(data=mat, columns=cols, index=rows)"
   ]
  },
  {
   "cell_type": "code",
   "execution_count": null,
   "metadata": {},
   "outputs": [],
   "source": [
    "# net.load_df(df['rand'])\n",
    "# net.widget()"
   ]
  },
  {
   "cell_type": "code",
   "execution_count": null,
   "metadata": {},
   "outputs": [],
   "source": []
  }
 ],
 "metadata": {
  "kernelspec": {
   "display_name": "Python 3",
   "language": "python",
   "name": "python3"
  },
  "language_info": {
   "codemirror_mode": {
    "name": "ipython",
    "version": 3
   },
   "file_extension": ".py",
   "mimetype": "text/x-python",
   "name": "python",
   "nbconvert_exporter": "python",
   "pygments_lexer": "ipython3",
   "version": "3.6.5"
  },
  "widgets": {
   "application/vnd.jupyter.widget-state+json": {
    "state": {
     "5378b9aa213e45359dae3430d5902286": {
      "model_module": "@jupyter-widgets/controls",
      "model_module_version": "1.5.0",
      "model_name": "TextModel",
      "state": {
       "layout": "IPY_MODEL_fdaefa734607402497280e2282a2f371",
       "style": "IPY_MODEL_f80779fabb804e64985001b96c7c7f71",
       "value": "col-cat-0 -> Category: five"
      }
     },
     "55bdd8653fe6437f951af10952419ed6": {
      "model_module": "@jupyter-widgets/base",
      "model_module_version": "1.2.0",
      "model_name": "LayoutModel",
      "state": {}
     },
     "7abe84e2c5934c888242b62d7937b9b2": {
      "model_module": "@jupyter-widgets/controls",
      "model_module_version": "1.5.0",
      "model_name": "LinkModel",
      "state": {
       "source": [
        "IPY_MODEL_5378b9aa213e45359dae3430d5902286",
        "value"
       ],
       "target": [
        "IPY_MODEL_92607433eb15404bbb31b3aa572b10ff",
        "value"
       ]
      }
     },
     "92607433eb15404bbb31b3aa572b10ff": {
      "model_module": "clustergrammer2",
      "model_module_version": "^0.5.19",
      "model_name": "ExampleModel",
      "state": {
       "_model_module_version": "^0.5.19",
       "_view_module_version": "^0.5.19",
       "layout": "IPY_MODEL_55bdd8653fe6437f951af10952419ed6",
       "mat_string": "ini_mat_string",
       "network": "{\"row_nodes\": [{\"name\": \"Gene: CDK4\", \"ini\": 38, \"clust\": 14, \"rank\": 30, \"rankvar\": 20, \"cat-0\": \"Gene Type: Interesting\", \"cat_0_index\": 0, \"group\": [10.0, 9.0, 8.0, 5.0, 5.0, 3.0, 1.0, 1.0, 1.0, 1.0, 1.0]}, {\"name\": \"Gene: LMTK3\", \"ini\": 37, \"clust\": 20, \"rank\": 28, \"rankvar\": 24, \"cat-0\": \"Gene Type: Not Interesting\", \"cat_0_index\": 17, \"group\": [21.0, 20.0, 19.0, 13.0, 11.0, 5.0, 1.0, 1.0, 1.0, 1.0, 1.0]}, {\"name\": \"Gene: LRRK2\", \"ini\": 36, \"clust\": 26, \"rank\": 9, \"rankvar\": 10, \"cat-0\": \"Gene Type: Not Interesting\", \"cat_0_index\": 18, \"group\": [26.0, 25.0, 22.0, 16.0, 13.0, 6.0, 1.0, 1.0, 1.0, 1.0, 1.0]}, {\"name\": \"Gene: UHMK1\", \"ini\": 35, \"clust\": 25, \"rank\": 26, \"rankvar\": 14, \"cat-0\": \"Gene Type: Not Interesting\", \"cat_0_index\": 19, \"group\": [28.0, 27.0, 24.0, 18.0, 14.0, 6.0, 1.0, 1.0, 1.0, 1.0, 1.0]}, {\"name\": \"Gene: EGFR\", \"ini\": 34, \"clust\": 13, \"rank\": 33, \"rankvar\": 7, \"cat-0\": \"Gene Type: Interesting\", \"cat_0_index\": 1, \"group\": [12.0, 11.0, 10.0, 5.0, 5.0, 3.0, 1.0, 1.0, 1.0, 1.0, 1.0]}, {\"name\": \"Gene: STK32A\", \"ini\": 33, \"clust\": 32, \"rank\": 36, \"rankvar\": 32, \"cat-0\": \"Gene Type: Interesting\", \"cat_0_index\": 2, \"group\": [33.0, 32.0, 29.0, 22.0, 17.0, 8.0, 1.0, 1.0, 1.0, 1.0, 1.0]}, {\"name\": \"Gene: NRK\", \"ini\": 32, \"clust\": 15, \"rank\": 35, \"rankvar\": 33, \"cat-0\": \"Gene Type: Interesting\", \"cat_0_index\": 3, \"group\": [11.0, 10.0, 9.0, 5.0, 5.0, 3.0, 1.0, 1.0, 1.0, 1.0, 1.0]}, {\"name\": \"Gene: ERBB2\", \"ini\": 31, \"clust\": 34, \"rank\": 24, \"rankvar\": 9, \"cat-0\": \"Gene Type: Not Interesting\", \"cat_0_index\": 20, \"group\": [35.0, 34.0, 31.0, 23.0, 18.0, 8.0, 1.0, 1.0, 1.0, 1.0, 1.0]}, {\"name\": \"Gene: ERBB4\", \"ini\": 30, \"clust\": 30, \"rank\": 6, \"rankvar\": 2, \"cat-0\": \"Gene Type: Not Interesting\", \"cat_0_index\": 21, \"group\": [31.0, 30.0, 27.0, 20.0, 16.0, 7.0, 1.0, 1.0, 1.0, 1.0, 1.0]}, {\"name\": \"Gene: AAK1\", \"ini\": 29, \"clust\": 36, \"rank\": 18, \"rankvar\": 8, \"cat-0\": \"Gene Type: Not Interesting\", \"cat_0_index\": 22, \"group\": [37.0, 36.0, 33.0, 25.0, 19.0, 8.0, 1.0, 1.0, 1.0, 1.0, 1.0]}, {\"name\": \"Gene: SRPK3\", \"ini\": 28, \"clust\": 4, \"rank\": 8, \"rankvar\": 15, \"cat-0\": \"Gene Type: Not Interesting\", \"cat_0_index\": 23, \"group\": [1.0, 1.0, 1.0, 1.0, 1.0, 1.0, 1.0, 1.0, 1.0, 1.0, 1.0]}, {\"name\": \"Gene: STK39\", \"ini\": 27, \"clust\": 35, \"rank\": 7, \"rankvar\": 4, \"cat-0\": \"Gene Type: Interesting\", \"cat_0_index\": 4, \"group\": [36.0, 35.0, 32.0, 24.0, 18.0, 8.0, 1.0, 1.0, 1.0, 1.0, 1.0]}, {\"name\": \"Gene: GRK4\", \"ini\": 26, \"clust\": 3, \"rank\": 1, \"rankvar\": 3, \"cat-0\": \"Gene Type: Not Interesting\", \"cat_0_index\": 24, \"group\": [3.0, 2.0, 1.0, 1.0, 1.0, 1.0, 1.0, 1.0, 1.0, 1.0, 1.0]}, {\"name\": \"Gene: TBK1\", \"ini\": 25, \"clust\": 12, \"rank\": 34, \"rankvar\": 26, \"cat-0\": \"Gene Type: Not Interesting\", \"cat_0_index\": 25, \"group\": [13.0, 12.0, 11.0, 6.0, 5.0, 3.0, 1.0, 1.0, 1.0, 1.0, 1.0]}, {\"name\": \"Gene: INSRR\", \"ini\": 24, \"clust\": 23, \"rank\": 13, \"rankvar\": 5, \"cat-0\": \"Gene Type: Not Interesting\", \"cat_0_index\": 26, \"group\": [23.0, 22.0, 20.0, 14.0, 12.0, 6.0, 1.0, 1.0, 1.0, 1.0, 1.0]}, {\"name\": \"Gene: IRAK1\", \"ini\": 23, \"clust\": 11, \"rank\": 20, \"rankvar\": 30, \"cat-0\": \"Gene Type: Interesting\", \"cat_0_index\": 5, \"group\": [14.0, 13.0, 12.0, 7.0, 6.0, 3.0, 1.0, 1.0, 1.0, 1.0, 1.0]}, {\"name\": \"Gene: KDR\", \"ini\": 22, \"clust\": 33, \"rank\": 19, \"rankvar\": 11, \"cat-0\": \"Gene Type: Not Interesting\", \"cat_0_index\": 27, \"group\": [34.0, 33.0, 30.0, 22.0, 17.0, 8.0, 1.0, 1.0, 1.0, 1.0, 1.0]}, {\"name\": \"Gene: NPR1\", \"ini\": 21, \"clust\": 16, \"rank\": 27, \"rankvar\": 29, \"cat-0\": \"Gene Type: Interesting\", \"cat_0_index\": 6, \"group\": [20.0, 19.0, 18.0, 12.0, 10.0, 4.0, 1.0, 1.0, 1.0, 1.0, 1.0]}, {\"name\": \"Gene: PAK3\", \"ini\": 20, \"clust\": 9, \"rank\": 11, \"rankvar\": 12, \"cat-0\": \"Gene Type: Not Interesting\", \"cat_0_index\": 28, \"group\": [16.0, 15.0, 14.0, 9.0, 8.0, 3.0, 1.0, 1.0, 1.0, 1.0, 1.0]}, {\"name\": \"Gene: PDGFRA\", \"ini\": 19, \"clust\": 7, \"rank\": 2, \"rankvar\": 0, \"cat-0\": \"Gene Type: Interesting\", \"cat_0_index\": 7, \"group\": [7.0, 6.0, 5.0, 3.0, 3.0, 2.0, 1.0, 1.0, 1.0, 1.0, 1.0]}, {\"name\": \"Gene: PDK4\", \"ini\": 18, \"clust\": 24, \"rank\": 22, \"rankvar\": 22, \"cat-0\": \"Gene Type: Not Interesting\", \"cat_0_index\": 29, \"group\": [24.0, 23.0, 20.0, 14.0, 12.0, 6.0, 1.0, 1.0, 1.0, 1.0, 1.0]}, {\"name\": \"Gene: ULK4\", \"ini\": 17, \"clust\": 28, \"rank\": 16, \"rankvar\": 19, \"cat-0\": \"Gene Type: Interesting\", \"cat_0_index\": 8, \"group\": [29.0, 28.0, 25.0, 19.0, 15.0, 7.0, 1.0, 1.0, 1.0, 1.0, 1.0]}, {\"name\": \"Gene: PRKCE\", \"ini\": 16, \"clust\": 21, \"rank\": 14, \"rankvar\": 1, \"cat-0\": \"Gene Type: Not Interesting\", \"cat_0_index\": 30, \"group\": [22.0, 21.0, 19.0, 13.0, 11.0, 5.0, 1.0, 1.0, 1.0, 1.0, 1.0]}, {\"name\": \"Gene: PRKG2\", \"ini\": 15, \"clust\": 2, \"rank\": 25, \"rankvar\": 18, \"cat-0\": \"Gene Type: Not Interesting\", \"cat_0_index\": 31, \"group\": [4.0, 3.0, 2.0, 1.0, 1.0, 1.0, 1.0, 1.0, 1.0, 1.0, 1.0]}, {\"name\": \"Gene: MAPK4\", \"ini\": 14, \"clust\": 18, \"rank\": 10, \"rankvar\": 16, \"cat-0\": \"Gene Type: Interesting\", \"cat_0_index\": 9, \"group\": [17.0, 16.0, 15.0, 10.0, 9.0, 4.0, 1.0, 1.0, 1.0, 1.0, 1.0]}, {\"name\": \"Gene: MAPK11\", \"ini\": 13, \"clust\": 8, \"rank\": 17, \"rankvar\": 34, \"cat-0\": \"Gene Type: Interesting\", \"cat_0_index\": 10, \"group\": [8.0, 7.0, 6.0, 3.0, 3.0, 2.0, 1.0, 1.0, 1.0, 1.0, 1.0]}, {\"name\": \"Gene: STK31\", \"ini\": 12, \"clust\": 31, \"rank\": 37, \"rankvar\": 31, \"cat-0\": \"Gene Type: Interesting\", \"cat_0_index\": 11, \"group\": [32.0, 31.0, 28.0, 21.0, 16.0, 7.0, 1.0, 1.0, 1.0, 1.0, 1.0]}, {\"name\": \"Gene: GRK1\", \"ini\": 11, \"clust\": 19, \"rank\": 15, \"rankvar\": 23, \"cat-0\": \"Gene Type: Not Interesting\", \"cat_0_index\": 32, \"group\": [18.0, 17.0, 16.0, 10.0, 9.0, 4.0, 1.0, 1.0, 1.0, 1.0, 1.0]}, {\"name\": \"Gene: ROS1\", \"ini\": 10, \"clust\": 37, \"rank\": 31, \"rankvar\": 37, \"cat-0\": \"Gene Type: Interesting\", \"cat_0_index\": 12, \"group\": [38.0, 37.0, 34.0, 26.0, 20.0, 8.0, 1.0, 1.0, 1.0, 1.0, 1.0]}, {\"name\": \"Gene: MAP2K4\", \"ini\": 9, \"clust\": 10, \"rank\": 23, \"rankvar\": 28, \"cat-0\": \"Gene Type: Interesting\", \"cat_0_index\": 13, \"group\": [15.0, 14.0, 13.0, 8.0, 7.0, 3.0, 1.0, 1.0, 1.0, 1.0, 1.0]}, {\"name\": \"Gene: SRC\", \"ini\": 8, \"clust\": 27, \"rank\": 21, \"rankvar\": 21, \"cat-0\": \"Gene Type: Interesting\", \"cat_0_index\": 14, \"group\": [27.0, 26.0, 23.0, 17.0, 13.0, 6.0, 1.0, 1.0, 1.0, 1.0, 1.0]}, {\"name\": \"Gene: TGFBR1\", \"ini\": 7, \"clust\": 17, \"rank\": 12, \"rankvar\": 13, \"cat-0\": \"Gene Type: Interesting\", \"cat_0_index\": 15, \"group\": [19.0, 18.0, 17.0, 11.0, 9.0, 4.0, 1.0, 1.0, 1.0, 1.0, 1.0]}, {\"name\": \"Gene: CAMK2B\", \"ini\": 6, \"clust\": 5, \"rank\": 3, \"rankvar\": 17, \"cat-0\": \"Gene Type: Not Interesting\", \"cat_0_index\": 33, \"group\": [2.0, 1.0, 1.0, 1.0, 1.0, 1.0, 1.0, 1.0, 1.0, 1.0, 1.0]}, {\"name\": \"Gene: STK24\", \"ini\": 5, \"clust\": 6, \"rank\": 0, \"rankvar\": 36, \"cat-0\": \"Gene Type: Interesting\", \"cat_0_index\": 16, \"group\": [9.0, 8.0, 7.0, 4.0, 4.0, 2.0, 1.0, 1.0, 1.0, 1.0, 1.0]}, {\"name\": \"Gene: DCLK3\", \"ini\": 4, \"clust\": 1, \"rank\": 5, \"rankvar\": 25, \"cat-0\": \"Gene Type: Not Interesting\", \"cat_0_index\": 34, \"group\": [5.0, 4.0, 3.0, 1.0, 1.0, 1.0, 1.0, 1.0, 1.0, 1.0, 1.0]}, {\"name\": \"Gene: LATS1\", \"ini\": 3, \"clust\": 22, \"rank\": 29, \"rankvar\": 27, \"cat-0\": \"Gene Type: Not Interesting\", \"cat_0_index\": 35, \"group\": [25.0, 24.0, 21.0, 15.0, 12.0, 6.0, 1.0, 1.0, 1.0, 1.0, 1.0]}, {\"name\": \"Gene: NEK9\", \"ini\": 2, \"clust\": 0, \"rank\": 4, \"rankvar\": 6, \"cat-0\": \"Gene Type: Not Interesting\", \"cat_0_index\": 36, \"group\": [6.0, 5.0, 4.0, 2.0, 2.0, 1.0, 1.0, 1.0, 1.0, 1.0, 1.0]}, {\"name\": \"Gene: MYLK3\", \"ini\": 1, \"clust\": 29, \"rank\": 32, \"rankvar\": 35, \"cat-0\": \"Gene Type: Not Interesting\", \"cat_0_index\": 37, \"group\": [30.0, 29.0, 26.0, 19.0, 15.0, 7.0, 1.0, 1.0, 1.0, 1.0, 1.0]}], \"col_nodes\": [{\"name\": \"Cell Line: H1650\", \"ini\": 29, \"clust\": 12, \"rank\": 6, \"rankvar\": 4, \"cat-0\": \"Category: two\", \"cat_0_index\": 24, \"cat-1\": \"Gender: Male\", \"cat_1_index\": 10, \"group\": [15.0, 15.0, 15.0, 15.0, 12.0, 10.0, 5.0, 2.0, 1.0, 1.0, 1.0]}, {\"name\": \"Cell Line: H23\", \"ini\": 28, \"clust\": 2, \"rank\": 17, \"rankvar\": 8, \"cat-0\": \"Category: two\", \"cat_0_index\": 25, \"cat-1\": \"Gender: Male\", \"cat_1_index\": 11, \"group\": [1.0, 1.0, 1.0, 1.0, 1.0, 1.0, 1.0, 1.0, 1.0, 1.0, 1.0]}, {\"name\": \"Cell Line: CAL-12T\", \"ini\": 27, \"clust\": 4, \"rank\": 10, \"rankvar\": 19, \"cat-0\": \"Category: two\", \"cat_0_index\": 26, \"cat-1\": \"Gender: Male\", \"cat_1_index\": 12, \"group\": [6.0, 6.0, 6.0, 6.0, 5.0, 4.0, 2.0, 1.0, 1.0, 1.0, 1.0]}, {\"name\": \"Cell Line: H358\", \"ini\": 26, \"clust\": 25, \"rank\": 4, \"rankvar\": 0, \"cat-0\": \"Category: one\", \"cat_0_index\": 13, \"cat-1\": \"Gender: Male\", \"cat_1_index\": 13, \"group\": [27.0, 27.0, 27.0, 26.0, 20.0, 15.0, 8.0, 4.0, 1.0, 1.0, 1.0]}, {\"name\": \"Cell Line: H1975\", \"ini\": 25, \"clust\": 22, \"rank\": 0, \"rankvar\": 24, \"cat-0\": \"Category: two\", \"cat_0_index\": 27, \"cat-1\": \"Gender: Female\", \"cat_1_index\": 0, \"group\": [28.0, 28.0, 28.0, 27.0, 21.0, 16.0, 9.0, 4.0, 1.0, 1.0, 1.0]}, {\"name\": \"Cell Line: HCC15\", \"ini\": 24, \"clust\": 1, \"rank\": 24, \"rankvar\": 20, \"cat-0\": \"Category: two\", \"cat_0_index\": 28, \"cat-1\": \"Gender: Male\", \"cat_1_index\": 14, \"group\": [3.0, 3.0, 3.0, 3.0, 3.0, 2.0, 1.0, 1.0, 1.0, 1.0, 1.0]}, {\"name\": \"Cell Line: H1355\", \"ini\": 23, \"clust\": 5, \"rank\": 9, \"rankvar\": 6, \"cat-0\": \"Category: three\", \"cat_0_index\": 19, \"cat-1\": \"Gender: Male\", \"cat_1_index\": 15, \"group\": [4.0, 4.0, 4.0, 4.0, 4.0, 3.0, 2.0, 1.0, 1.0, 1.0, 1.0]}, {\"name\": \"Cell Line: HCC827\", \"ini\": 22, \"clust\": 23, \"rank\": 28, \"rankvar\": 25, \"cat-0\": \"Category: one\", \"cat_0_index\": 14, \"cat-1\": \"Gender: Female\", \"cat_1_index\": 1, \"group\": [22.0, 22.0, 22.0, 22.0, 18.0, 14.0, 8.0, 4.0, 1.0, 1.0, 1.0]}, {\"name\": \"Cell Line: H2405\", \"ini\": 21, \"clust\": 20, \"rank\": 1, \"rankvar\": 12, \"cat-0\": \"Category: five\", \"cat_0_index\": 0, \"cat-1\": \"Gender: Male\", \"cat_1_index\": 16, \"group\": [19.0, 19.0, 19.0, 19.0, 15.0, 12.0, 7.0, 4.0, 1.0, 1.0, 1.0]}, {\"name\": \"Cell Line: HCC78\", \"ini\": 20, \"clust\": 21, \"rank\": 25, \"rankvar\": 27, \"cat-0\": \"Category: five\", \"cat_0_index\": 1, \"cat-1\": \"Gender: Male\", \"cat_1_index\": 17, \"group\": [20.0, 20.0, 20.0, 20.0, 16.0, 12.0, 7.0, 4.0, 1.0, 1.0, 1.0]}, {\"name\": \"Cell Line: H1666\", \"ini\": 19, \"clust\": 7, \"rank\": 18, \"rankvar\": 15, \"cat-0\": \"Category: four\", \"cat_0_index\": 6, \"cat-1\": \"Gender: Female\", \"cat_1_index\": 2, \"group\": [11.0, 11.0, 11.0, 11.0, 9.0, 8.0, 4.0, 1.0, 1.0, 1.0, 1.0]}, {\"name\": \"Cell Line: H661\", \"ini\": 18, \"clust\": 16, \"rank\": 3, \"rankvar\": 26, \"cat-0\": \"Category: five\", \"cat_0_index\": 2, \"cat-1\": \"Gender: Male\", \"cat_1_index\": 18, \"group\": [18.0, 18.0, 18.0, 18.0, 14.0, 11.0, 6.0, 3.0, 1.0, 1.0, 1.0]}, {\"name\": \"Cell Line: H838\", \"ini\": 17, \"clust\": 17, \"rank\": 7, \"rankvar\": 23, \"cat-0\": \"Category: five\", \"cat_0_index\": 3, \"cat-1\": \"Gender: Male\", \"cat_1_index\": 19, \"group\": [16.0, 16.0, 16.0, 16.0, 13.0, 11.0, 6.0, 3.0, 1.0, 1.0, 1.0]}, {\"name\": \"Cell Line: H1703\", \"ini\": 16, \"clust\": 14, \"rank\": 11, \"rankvar\": 21, \"cat-0\": \"Category: five\", \"cat_0_index\": 4, \"cat-1\": \"Gender: Male\", \"cat_1_index\": 20, \"group\": [12.0, 12.0, 12.0, 12.0, 10.0, 9.0, 5.0, 2.0, 1.0, 1.0, 1.0]}, {\"name\": \"Cell Line: CALU-3\", \"ini\": 15, \"clust\": 19, \"rank\": 8, \"rankvar\": 7, \"cat-0\": \"Category: four\", \"cat_0_index\": 7, \"cat-1\": \"Gender: Male\", \"cat_1_index\": 21, \"group\": [21.0, 21.0, 21.0, 21.0, 17.0, 13.0, 7.0, 4.0, 1.0, 1.0, 1.0]}, {\"name\": \"Cell Line: H2342\", \"ini\": 14, \"clust\": 18, \"rank\": 26, \"rankvar\": 22, \"cat-0\": \"Category: four\", \"cat_0_index\": 8, \"cat-1\": \"Gender: Female\", \"cat_1_index\": 3, \"group\": [17.0, 17.0, 17.0, 17.0, 13.0, 11.0, 6.0, 3.0, 1.0, 1.0, 1.0]}, {\"name\": \"Cell Line: H2228\", \"ini\": 13, \"clust\": 26, \"rank\": 2, \"rankvar\": 5, \"cat-0\": \"Category: one\", \"cat_0_index\": 15, \"cat-1\": \"Gender: Female\", \"cat_1_index\": 4, \"group\": [26.0, 26.0, 26.0, 25.0, 19.0, 15.0, 8.0, 4.0, 1.0, 1.0, 1.0]}, {\"name\": \"Cell Line: H1299\", \"ini\": 12, \"clust\": 15, \"rank\": 12, \"rankvar\": 1, \"cat-0\": \"Category: three\", \"cat_0_index\": 20, \"cat-1\": \"Gender: Male\", \"cat_1_index\": 22, \"group\": [13.0, 13.0, 13.0, 13.0, 10.0, 9.0, 5.0, 2.0, 1.0, 1.0, 1.0]}, {\"name\": \"Cell Line: H1792\", \"ini\": 11, \"clust\": 10, \"rank\": 20, \"rankvar\": 9, \"cat-0\": \"Category: three\", \"cat_0_index\": 21, \"cat-1\": \"Gender: Male\", \"cat_1_index\": 23, \"group\": [9.0, 9.0, 9.0, 9.0, 7.0, 6.0, 3.0, 1.0, 1.0, 1.0, 1.0]}, {\"name\": \"Cell Line: H460\", \"ini\": 10, \"clust\": 11, \"rank\": 5, \"rankvar\": 11, \"cat-0\": \"Category: three\", \"cat_0_index\": 22, \"cat-1\": \"Gender: Male\", \"cat_1_index\": 24, \"group\": [10.0, 10.0, 10.0, 10.0, 8.0, 7.0, 3.0, 1.0, 1.0, 1.0, 1.0]}, {\"name\": \"Cell Line: H2106\", \"ini\": 9, \"clust\": 0, \"rank\": 22, \"rankvar\": 28, \"cat-0\": \"Category: four\", \"cat_0_index\": 9, \"cat-1\": \"Gender: Male\", \"cat_1_index\": 25, \"group\": [29.0, 29.0, 29.0, 28.0, 22.0, 17.0, 10.0, 5.0, 2.0, 1.0, 1.0]}, {\"name\": \"Cell Line: H441\", \"ini\": 8, \"clust\": 27, \"rank\": 27, \"rankvar\": 14, \"cat-0\": \"Category: one\", \"cat_0_index\": 16, \"cat-1\": \"Gender: Male\", \"cat_1_index\": 26, \"group\": [24.0, 24.0, 24.0, 24.0, 19.0, 15.0, 8.0, 4.0, 1.0, 1.0, 1.0]}, {\"name\": \"Cell Line: H1944\", \"ini\": 7, \"clust\": 8, \"rank\": 23, \"rankvar\": 10, \"cat-0\": \"Category: three\", \"cat_0_index\": 23, \"cat-1\": \"Gender: Female\", \"cat_1_index\": 5, \"group\": [7.0, 7.0, 7.0, 7.0, 6.0, 5.0, 3.0, 1.0, 1.0, 1.0, 1.0]}, {\"name\": \"Cell Line: H1437\", \"ini\": 6, \"clust\": 6, \"rank\": 16, \"rankvar\": 17, \"cat-0\": \"Category: four\", \"cat_0_index\": 10, \"cat-1\": \"Gender: Male\", \"cat_1_index\": 27, \"group\": [5.0, 5.0, 5.0, 5.0, 4.0, 3.0, 2.0, 1.0, 1.0, 1.0, 1.0]}, {\"name\": \"Cell Line: H1734\", \"ini\": 5, \"clust\": 24, \"rank\": 19, \"rankvar\": 18, \"cat-0\": \"Category: one\", \"cat_0_index\": 17, \"cat-1\": \"Gender: Female\", \"cat_1_index\": 6, \"group\": [23.0, 23.0, 23.0, 23.0, 18.0, 14.0, 8.0, 4.0, 1.0, 1.0, 1.0]}, {\"name\": \"Cell Line: LOU-NH91\", \"ini\": 4, \"clust\": 13, \"rank\": 15, \"rankvar\": 16, \"cat-0\": \"Category: five\", \"cat_0_index\": 5, \"cat-1\": \"Gender: Female\", \"cat_1_index\": 7, \"group\": [14.0, 14.0, 14.0, 14.0, 11.0, 9.0, 5.0, 2.0, 1.0, 1.0, 1.0]}, {\"name\": \"Cell Line: HCC44\", \"ini\": 3, \"clust\": 3, \"rank\": 14, \"rankvar\": 2, \"cat-0\": \"Category: four\", \"cat_0_index\": 11, \"cat-1\": \"Gender: Female\", \"cat_1_index\": 8, \"group\": [2.0, 2.0, 2.0, 2.0, 2.0, 1.0, 1.0, 1.0, 1.0, 1.0, 1.0]}, {\"name\": \"Cell Line: A549\", \"ini\": 2, \"clust\": 9, \"rank\": 21, \"rankvar\": 3, \"cat-0\": \"Category: four\", \"cat_0_index\": 12, \"cat-1\": \"Gender: Male\", \"cat_1_index\": 28, \"group\": [8.0, 8.0, 8.0, 8.0, 6.0, 5.0, 3.0, 1.0, 1.0, 1.0, 1.0]}, {\"name\": \"Cell Line: H1781\", \"ini\": 1, \"clust\": 28, \"rank\": 13, \"rankvar\": 13, \"cat-0\": \"Category: one\", \"cat_0_index\": 18, \"cat-1\": \"Gender: Female\", \"cat_1_index\": 9, \"group\": [25.0, 25.0, 25.0, 24.0, 19.0, 15.0, 8.0, 4.0, 1.0, 1.0, 1.0]}], \"links\": [], \"mat\": [[-0.792803571, 0.527687127, 0.000622536, 0.356722594, 0.933286088, -0.131728538, 0.8084519440000001, 4.240884801, -0.5402313910000001, -0.981456952, -0.84689892, -0.25279592100000003, 0.114189581, -0.06649884, 0.149218809, 1.351263924, 0.6458672120000001, 0.60561098, 3.232454573, 0.342634572, -0.43091232399999996, -0.40590567, 0.199563989, -1.122536294, 2.2103345709999997, 0.405126315, -0.08976315900000001, 0.405126315, 0.340012773], [0.17762054, -0.016061488999999998, 5.422113832999999, 1.307039675, 0.355814985, 0.27690499399999996, 0.483153915, -0.24049582100000003, 1.336445996, 1.149618502, 0.361412978, -0.380518938, -0.21354100399999998, -0.471938639, -0.620858723, -0.163637058, -0.487256142, -0.029569687999999997, -0.23205777800000002, -0.6690369389999999, -0.44924169799999997, 1.1589304059999999, 0.5119620220000001, 2.370834155, 0.262893885, -0.513128895, -0.501210068, 0.43927756100000004, -0.342460508], [-0.6978761509999999, -0.555610265, -0.36049755899999997, -0.460236731, -0.6807606970000001, -0.169463518, 1.715708875, -0.5171048229999999, 0.18498770899999997, 0.8106597, -0.440334448, -0.621052026, -0.08680335800000001, -0.753966225, -0.401972037, -0.562086752, -0.560644597, 0.542301381, -0.382639145, -0.37785352299999997, -0.713472923, -0.37760936799999995, 4.308904581, -0.638131949, -0.556114063, -0.318145763, -0.489582714, 1.6773765269999998, -0.6827904640000001], [0.8505465179999999, -0.263279907, 0.179253031, 0.39864672100000004, 1.537663802, 0.505291411, 0.902366491, -0.16628803, 0.6307305639999999, 0.39944828299999996, 0.8471713670000001, -0.442268094, 0.44368676, 1.552969029, 1.110283483, -0.326698072, -0.40526737399999996, 0.663747183, 0.42447003299999997, 0.283221899, -4.243973921, 0.718315578, 1.747343933, -1.020927175, 0.305028514, 1.47174613, 0.048902278, -0.255283556, 0.5482245729999999], [1.412416216, 0.018987506, 0.902251622, -0.17813747, 0.781819022, 0.211815895, -0.023427175, 3.557295952, 1.1737835559999998, -0.012362163999999998, 0.769782484, -0.681031743, -1.0473753890000002, 0.652065499, 0.17231669100000002, 2.072433469, 1.135709377, -0.169977181, 0.881067136, -0.486159025, -1.451838026, 0.371237737, -0.581665325, -0.126356157, 0.24100472399999998, 1.06526919, 0.974531796, 0.668645091, 0.05696489], [-0.388039665, -0.5926266139999999, -0.24413651, 0.740364734, 3.023348415, -0.433985412, -0.6301244570000001, 1.156531983, 0.433696213, 3.84950782, -0.22542574199999998, -0.656106808, -0.311953357, -0.397450226, 1.0440255379999999, -0.247816912, 3.640524345, -0.59251039, 0.514666245, -0.45396994, 1.649737631, 3.366020313, -0.430502237, -0.295312303, 2.824551497, -0.014275115, -0.410477794, -0.22971778399999998, 3.7098286160000002], [1.408537135, -0.017369325, -0.36712796200000003, 0.313253548, -0.16288686, 0.027411933, -0.281351556, 5.8138464889999995, -0.16170658400000001, 0.472386752, -0.33979584, 0.669956625, -0.2596391, -0.386601295, -0.293654593, 4.390499721, -0.420942214, -0.402955154, -0.346809494, -0.222725132, 0.36849943, 1.49303248, -0.34174718, -0.343420451, 5.2848086069999995, -0.358156896, -0.222931558, -0.40139116700000005, -0.412478715], [0.9066424059999999, -0.6847714229999999, 0.015261253999999998, 0.16056792, 0.36500211299999996, -0.564392699, 0.16907282699999998, -0.035192496000000004, -0.031210405, 0.447742443, 0.544075103, 0.280008477, -0.066278222, -0.225814318, 4.103496507, 1.2196915659999998, -0.24502200100000002, -0.681552658, -0.304817333, -0.511212295, -1.100056017, 1.335983295, -0.500561544, 0.721259819, 0.284747072, 0.232812724, -0.796930101, -0.156381455, 1.503853721], [-0.45290705200000003, -0.392790536, -0.374173515, -0.527418493, -0.32010333399999996, -0.560657219, -0.31284750899999997, -0.463903623, -0.304652329, -0.30897114, -0.331935876, 4.098930821000001, -0.413942149, -0.5014189170000001, 1.256164876, -0.12356019, -0.425577927, -0.36998588, -0.054684881, -0.484730631, -0.419739472, -0.432412432, 0.143245619, -0.266932489, -0.34086030700000003, -0.231847291, -0.448292539, -0.42868169, -0.615936889], [3.579051735, 0.92330807, -0.651094367, 0.952743833, -0.212733397, 0.006074527, -0.121038246, 0.083769063, -0.7226782140000001, 1.669410989, -0.247600883, -0.284623649, -0.687716717, -0.320883885, -0.93370415, -0.309230053, 0.544870152, 0.824029397, -0.087291924, -0.973905867, -0.308282983, 0.8221457040000001, -0.72904308, -0.08886573099999999, -0.29848499, -0.451367112, -1.134040733, 0.379230443, 1.491612577], [-0.582761335, -0.706379425, 0.36431330100000003, -0.483011414, -0.71307719, -0.048548064, -0.527944549, 0.337501769, -0.656781635, -0.323318624, -0.432950623, -0.414799098, -1.02570516, -0.861415433, 0.11344713099999999, -0.110117735, -0.493510825, 0.148841502, -0.341096914, -0.373760525, 5.16013802, -0.20490693199999999, -0.46557486299999995, -0.17040549100000002, 0.046286803, -0.100887639, 0.936150906, -0.15980844, -0.846857677], [-0.58688791, -0.186685902, -3.51852921, 0.25062883399999997, -0.477773537, -0.62381107, -0.92202388, -0.55383453, 0.018847867, 1.2676445570000001, 0.243732055, -0.233528273, 0.07072635599999999, -0.256360198, 1.7410016069999998, 0.16824737899999997, -0.24597429899999998, 0.014972758999999999, -0.537623787, 0.259364957, 1.303190492, 1.0432080240000001, -1.0210949459999998, -0.09744421199999999, -0.6792905929999999, 0.132592576, -0.440607517, -0.21005684, 0.651311995], [-0.693639785, -0.357559299, -0.903861262, -0.8104502790000001, 0.293775461, 1.012469252, -0.10446230000000001, -0.573757161, -0.629467998, -1.1311389379999999, -0.401984075, -0.672554564, -1.1827919740000001, -1.00138041, -1.020216093, -0.43779921299999996, -0.10378360199999999, -0.38756592799999995, 0.38647177200000005, -0.524742175, 3.6270702480000003, -0.846550806, -0.473736661, 0.443388919, 0.7661352570000001, 0.193683015, -0.614757268, -0.382906171, -0.8644104109999999], [0.327203594, 0.857319301, -1.3973565959999998, -0.226683585, -0.986051455, 0.438343505, 0.095527129, 5.598772307999999, 0.5350257970000001, -0.057479225, -0.089086932, -0.47329101100000004, 2.070252907, 0.201409888, 1.1347281329999999, 0.095734104, 0.22916067, 0.566649702, 1.011889663, 0.9023425559999999, 0.7355103040000001, -0.493538517, 3.1769186019999998, 0.49004573700000004, -0.693495689, -0.18370487800000002, -0.182356844, 0.7447287690000001, -0.31106439199999997], [0.331108191, -0.46797839700000005, 0.6811123290000001, -1.195914121, -0.538461957, 3.616542204, 0.094919881, 0.527357553, -0.16047831199999998, -0.940444939, -1.025689676, 0.053722044000000004, 0.081275611, -0.616337936, -0.48042057, 0.6209033820000001, -0.7237930640000001, -0.759642991, -0.7449007440000001, -0.43363819, -0.8049298490000001, 0.429022269, 0.765012989, 0.400356525, 0.20774184899999998, 1.4743730080000002, 0.888734282, 0.38771558100000003, -0.623678298], [0.14118383699999998, 0.788608352, 0.51421388, 0.528255597, 0.906234597, 0.050158065, -0.8433413820000001, 1.44384296, -0.253699343, 0.562537497, -0.505923659, -6.621630156, -1.253907087, 0.947883556, 0.394657662, 0.613122698, -0.223205762, 0.9053737359999999, 0.679301554, 0.8597892220000001, -0.022354553, 1.0467260520000001, 0.194471, 0.35991283399999996, -0.8063482340000001, 1.5866198759999999, 0.31198582399999997, 0.544470027, 1.479598537], [-0.5243099489999999, -0.285994749, -0.484871681, 0.176655189, -0.139711627, -0.35297839700000005, -0.19252985399999997, -0.601257973, -0.42732342700000003, 0.459403791, -0.38300100000000004, -0.571316753, -0.387982572, -0.35394511799999995, -0.24031472, -0.305685522, 0.456864915, -0.134886653, 2.136583182, -0.463127859, -0.6004083929999999, 4.430955918, -0.374772774, -0.206853106, 1.756104521, 0.8328872890000001, -0.314392176, -0.31373742, 0.49342028299999996], [0.509592174, 0.464774315, 0.275495704, -0.01882253, -0.005537792, -0.457197866, 3.408253083, -0.43040764299999995, -0.754186082, -0.836530855, -0.277053957, -0.54257843, 0.8504395770000001, -0.298981449, -0.16939480899999998, 0.254783369, -0.427821755, -0.1389465, 0.618069135, 1.926349897, -0.305399918, -0.535939215, -0.07866166599999999, 6.267854465, -0.57293844, -0.302168609, 0.72307512, 0.611863003, -0.2145995], [-0.554447111, -0.145753485, 0.019807701, -0.634915727, -0.49376688700000004, -0.587644968, -0.22371499600000003, 1.3850494759999998, -0.346100755, 0.25453660899999997, 0.057887318, -0.593081366, -0.47065185, -0.753944095, -0.044570503, -0.33459763600000003, 0.33958778799999995, -0.135201173, -0.111896921, 4.913848539, -0.542750046, -0.27783299, -0.689097582, -0.21668800600000002, 1.127699857, 0.03588747, -0.070416156, -0.553268062, -0.9774276890000001], [-0.530831743, -0.260873607, -0.461134617, -0.38905618799999997, -0.512555424, -0.513202268, -0.33755039700000006, -0.449953768, -0.184845421, -0.565880657, -0.37635620200000003, -0.28526610399999996, -0.5705058789999999, 3.598950655, -0.477052971, -0.364449691, -0.648917127, -0.390363086, 1.117877995, -0.464086586, -0.456431016, -0.571010056, -0.456668794, -0.58230495, -0.426192704, -0.411161613, -0.455618608, -0.297498019, -0.47141323], [-0.6432463310000001, 0.052021433, -0.7350066259999999, 0.041068843, -0.062094125, 5.477714716, 1.256686967, -0.136401851, 0.5772668710000001, -0.60002565, 0.087671916, -0.5609597789999999, -0.56490393, -0.629261602, -0.214226487, 0.09929963, -0.095715004, -0.632856345, 1.09320354, 0.38697641899999996, -0.374720076, -0.564957229, 1.680895489, 0.508498891, 0.916604247, -0.607497709, 0.58989289, -0.12276483699999999, -0.533651064], [-0.693868027, 0.57619653, -0.488541037, -0.60094858, 1.139598497, -0.024286993, -0.28819455899999996, -0.499250839, 0.103697413, -1.044716157, -1.02427507, 3.0230034439999995, 3.859028873, 0.7429784420000001, -0.35272281899999997, 0.069205383, -1.117741919, 0.651553716, -0.364768511, -0.5472691, -0.735728719, -0.623797671, -0.105370633, -0.13943154900000002, -0.055372648, 0.774449831, 0.538987341, 0.35514519, -1.45386407], [0.006531886, 0.564826732, 3.6953185239999997, 0.316255033, -0.268737774, 0.936461505, 0.22915170000000004, 0.649579007, -0.330103595, -0.504534505, 0.264729237, -0.977228043, 0.493632169, -0.401821398, -0.28623177899999996, 0.14337127800000002, -0.360231532, 0.34076271700000005, 0.6331625120000001, -0.710530502, -1.334690191, 0.158108045, -0.347820435, -0.07449706099999999, -0.970507716, -0.26479443, -0.298648517, -0.10090872, -0.11742112], [-0.185695405, -0.173758799, 0.084357105, 1.826502656, 0.00816719, -1.102148634, 0.29900253600000004, 0.458848186, 0.292508806, 0.110508201, 0.083592283, -0.49433306299999996, -0.117947546, -0.539712481, -0.106334279, -0.403083002, -0.789473381, 1.041787363, 1.70041072, -0.293951867, 4.8395247580000005, 1.015480815, 0.841188534, -0.620389764, -0.565583764, -0.262366184, 0.226425315, -0.048000565, 1.126249373], [0.184462349, -0.526037871, 0.432087272, -0.882311913, 0.246356093, 0.8587545209999999, 0.052858019000000006, -1.118340603, -0.8469488159999999, -0.778824075, 3.525192777, -1.8727450069999998, -0.779756435, -1.0396393990000001, -0.59333431, 0.40215600700000004, -1.387426464, -0.145435051, -0.46497243, -0.22106446100000002, -0.861483648, 0.125415634, -0.19184911600000001, 2.3744602969999997, -0.74142144, 0.7654394, 1.029796862, 0.03307866, 0.44066582], [1.760301448, -0.912259652, -1.1633458890000001, -0.965891664, -0.7951534140000001, -0.616300339, -1.360743997, -1.448291877, -0.024088935, -1.188868793, -0.229906845, 2.1814891430000003, -1.154435684, 6.28292787, -0.303782002, -0.165568925, -1.126153349, 1.678721355, -1.683560793, -0.864063548, -0.025445472, 1.8909462190000002, 0.667805988, -0.625764381, -1.0633403129999999, 3.222816803, -0.0013596189999999998, -0.20366175600000003, 0.187669924], [-0.07364355, -0.103789279, -0.17130483600000002, 0.351910065, 0.63677969, -0.136732984, 0.356830815, 3.8891158239999997, 0.645442526, 1.3663589180000002, 0.995319244, 5.608685402000001, 1.101919141, -0.554900568, 0.087820649, 0.061305127, 1.931275557, -0.692417574, -0.481807702, -0.16288735, -0.538298189, 2.440412245, 0.804274605, -0.605526195, 1.788457016, -0.37652092200000004, 0.35819202, 0.164487781, 3.719306763], [-0.7515267409999999, 0.49762292, -0.142534658, -0.882124083, -1.151282849, 2.307907188, -0.12032085, -0.35126953200000005, -1.526178564, -0.7532684279999999, 3.600861739, -1.223995853, -0.607229424, -0.027417898, 0.190161632, 0.6105504079999999, 0.149796331, -0.122879865, 0.247865963, -0.40483370799999996, 0.736929754, -0.9442750679999999, -0.078919294, 0.661648005, -0.24494877899999998, 3.051534602, -0.10736522800000001, 0.367536408, -1.5179858240000002], [-0.31236414, 0.7012570890000001, 0.47520812, -0.585297054, -0.122694283, -0.8668751370000001, 0.367939523, -0.481103706, 2.072237711, 10.29186436, 1.298805701, -0.6281759170000001, -0.173084375, -0.02710755, 0.35516907299999995, 0.470456905, 0.121400231, 0.37492460200000005, -0.27830734100000004, -0.553746266, -0.935156558, -0.042420295999999996, -0.479479902, -0.332400886, -0.7100170109999999, 1.873931755, 0.20455442899999998, -0.32315246, 0.18757252100000002], [0.11931136, 0.593670684, 0.48915277100000004, 0.841683345, 1.064673748, 0.095113499, 1.050152022, 1.8914884269999999, -5.5283552, 0.64306832, -1.100026181, 0.765710935, 1.165406655, 0.30638633, -1.3658942619999999, 0.635492291, -0.37779861600000003, 0.521665309, -0.6084974329999999, 0.398484128, -0.988354968, 1.36349214, 1.36269783, -0.112291585, -0.262719995, 0.503524059, 0.498006014, 1.525942005, 0.339189212], [-0.294263824, -0.618071649, -0.252534114, -0.78660676, -0.228026664, 0.977860794, -1.200449832, -0.22037931, -0.240489906, -0.201675468, 1.47598938, -0.557000568, -0.502553204, -0.437501309, 0.966927023, 0.37967009700000004, 0.048795579000000006, 0.25062286899999997, 2.9610247139999997, 2.299033235, -1.210659274, 0.418655141, 1.161954005, -0.15700654, -1.2541429370000001, -0.574558055, -0.662438275, 3.702617515, -0.35302723], [-0.000863802, 0.735638383, -0.680289747, 0.040925842999999996, 0.359330228, -1.587400295, -1.041686081, 0.071551408, -0.168322665, -1.3773033080000001, 3.6045390889999998, -0.004601068, 1.527568732, -0.30015470699999997, -0.7861355090000001, -0.138050924, -0.366480418, -0.7969702059999999, -0.030155544, 0.8031000559999999, 0.6831455609999999, -0.900708154, 0.15251077, 0.140092011, 0.37681542100000004, -1.214319621, 1.326197465, 1.5230702790000001, -1.312001824], [-0.27673681899999997, -0.426080887, -0.160160461, -0.8900327709999999, -0.437405434, 0.143897214, -0.573425958, -0.48641938100000004, -0.536963482, -0.657041002, -0.47334541799999996, -0.23747527899999998, -0.669396538, -0.559435302, 0.038953301, 0.033709721, -0.343587801, -0.513218087, -0.5923033129999999, -0.431221835, 5.339202897, -0.49377858700000005, -0.645000361, -0.47798486700000004, -0.401579746, -0.621782124, -0.24939462699999998, -0.303365249, -0.922343302], [-0.31807579, -0.8141108090000001, 0.6465451879999999, 0.26837169, -9.425120961000001, -1.073853473, -2.049589626, -0.34692102399999997, 0.9972831809999999, 0.30061925300000003, -0.543103864, -1.150792172, -2.283061167, -0.162802216, -1.053859713, -1.377541743, -0.288349474, -0.922266884, -1.123953091, -0.7629538929999999, -0.6873571479999999, 0.28991073, 0.317576672, -0.345565515, 0.541683, 0.009754099, 0.73792006, -0.6242717520000001, 0.10053254699999999], [-0.670177714, 3.2245335010000002, 0.145509552, 0.107432319, -1.1204927390000001, 0.288890539, 1.5495459180000002, -0.342665051, -0.017402855, -0.42000224399999997, -0.36138745299999997, -1.264272075, -0.794507765, -0.619944678, -0.338767802, -0.14852947800000002, -1.078879645, 0.130939014, -1.3078153129999999, -1.818798474, 3.683694337, 0.920647357, -0.847056974, -0.34379849799999995, -1.21552566, -0.8538453340000001, -0.357215055, -0.043911541, -0.955847309], [-0.695252888, 4.299877134, -0.175587126, -0.061022137000000004, -0.391646018, 3.3854510380000002, 0.345114288, -0.505734993, -0.482953864, -0.081815586, -0.928486879, 0.976209137, 0.09902148699999999, 2.494690556, -1.0887427790000002, 0.43717475100000003, -0.507169467, 2.028724319, -0.507954247, 0.14350628099999999, -1.19702953, 0.610379518, 0.095879151, -0.6631187270000001, 0.50821984, -0.741815419, 2.38531026, 0.354750355, 0.658437634], [-0.337849025, -0.535265918, 0.8031604590000001, 0.275911465, 0.981343049, -0.748451144, -0.092431408, -0.32647710399999996, -0.38124391700000004, -0.575343824, -0.63351617, -0.380961411, -1.7206161969999998, -0.85605361, -0.5809503739999999, 0.37329311600000004, 0.9054908859999999, 0.135705555, 1.1077806559999999, -0.545183144, 0.475561701, 0.016687596000000002, -0.172178219, 0.585186686, -0.40480014, -3.997318149, 0.711029765, -0.470884061, 0.354386296], [-0.36817321700000005, 0.209192446, 0.266317555, -0.100656799, -0.33679171799999996, -0.060827204, -0.199021599, -0.765882671, -0.071476548, -0.44027029999999995, -0.35486840000000003, 3.468121376, 5.8537267139999996, -0.465135408, 0.074434692, 7.085199705, -0.399050575, -0.334999773, -0.623071147, -0.40623083299999996, 0.9390581159999999, -0.269533885, 0.11795050300000001, 0.1975473, -0.365407931, -0.056856473, 0.0019832120000000003, 0.08160995900000001, -0.603299855]], \"cat_colors\": {\"row\": {\"cat-0\": {\"Gene Type: Interesting\": \"#393b79\", \"Gene Type: Not Interesting\": \"#eee\"}}, \"col\": {\"cat-0\": {\"Category: five\": \"#ff7f0e\", \"Category: four\": \"#98df8a\", \"Category: one\": \"#404040\", \"Category: three\": \"#c5b0d5\", \"Category: two\": \"#1f77b4\"}, \"cat-1\": {\"Gender: Female\": \"#ff9896\", \"Gender: Male\": \"#8c564b\"}}}, \"views\": []}",
       "value": "col-cat-0 -> Category: five"
      }
     },
     "f80779fabb804e64985001b96c7c7f71": {
      "model_module": "@jupyter-widgets/controls",
      "model_module_version": "1.5.0",
      "model_name": "DescriptionStyleModel",
      "state": {
       "description_width": ""
      }
     },
     "fdaefa734607402497280e2282a2f371": {
      "model_module": "@jupyter-widgets/base",
      "model_module_version": "1.2.0",
      "model_name": "LayoutModel",
      "state": {}
     }
    },
    "version_major": 2,
    "version_minor": 0
   }
  }
 },
 "nbformat": 4,
 "nbformat_minor": 4
}
