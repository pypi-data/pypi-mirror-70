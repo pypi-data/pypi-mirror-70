{
  "cells": [
    {
      "cell_type": "code",
      "execution_count": null,
      "metadata": {
        "collapsed": false
      },
      "outputs": [],
      "source": [
        "%matplotlib inline"
      ]
    },
    {
      "cell_type": "markdown",
      "metadata": {},
      "source": [
        "\nLabeled Dataset\n^^^^^^^^^^^^^^^\n"
      ]
    },
    {
      "cell_type": "markdown",
      "metadata": {},
      "source": [
        "The CSD model also supports labeled dimensions. In the following example, we\npresent a mixed `linear` and `labeled` two-dimensional dataset representing\nthe population of the country as a function of time. The dataset is\nobtained from `The World Bank <https://data.worldbank.org/indicator/SP.POP.TOTL?view=chart>`_.\n\nImport the `csdmpy` model and load the dataset.\n\n"
      ]
    },
    {
      "cell_type": "code",
      "execution_count": null,
      "metadata": {
        "collapsed": false
      },
      "outputs": [],
      "source": [
        "import csdmpy as cp\n\nfilename = \"https://osu.box.com/shared/static/e81to3izj5yv5m7mjq9xw7gmqez2blto.csdf\"\nlabeled_data = cp.load(filename)"
      ]
    },
    {
      "cell_type": "markdown",
      "metadata": {},
      "source": [
        "The tuple of dimension and dependent variable objects from ``labeled_data`` instance\nare\n\n"
      ]
    },
    {
      "cell_type": "code",
      "execution_count": null,
      "metadata": {
        "collapsed": false
      },
      "outputs": [],
      "source": [
        "x = labeled_data.dimensions\ny = labeled_data.dependent_variables"
      ]
    },
    {
      "cell_type": "markdown",
      "metadata": {},
      "source": [
        "Since one of the dimensions is a `labeled` dimension, let's make use of the\n:attr:`~csdmpy.Dimension.type` attribute of the dimension instances\nto find out which dimension is `labeled`.\n\n"
      ]
    },
    {
      "cell_type": "code",
      "execution_count": null,
      "metadata": {
        "collapsed": false
      },
      "outputs": [],
      "source": [
        "x[0].type"
      ]
    },
    {
      "cell_type": "code",
      "execution_count": null,
      "metadata": {
        "collapsed": false
      },
      "outputs": [],
      "source": [
        "x[1].type"
      ]
    },
    {
      "cell_type": "markdown",
      "metadata": {},
      "source": [
        "Here, the second dimension is the `labeled` dimension with [#f1]_\n\n"
      ]
    },
    {
      "cell_type": "code",
      "execution_count": null,
      "metadata": {
        "collapsed": false
      },
      "outputs": [],
      "source": [
        "x[1].count"
      ]
    },
    {
      "cell_type": "markdown",
      "metadata": {},
      "source": [
        "labels, where the first five labels are\n\n"
      ]
    },
    {
      "cell_type": "code",
      "execution_count": null,
      "metadata": {
        "collapsed": false
      },
      "outputs": [],
      "source": [
        "print(x[1].labels[:5])"
      ]
    },
    {
      "cell_type": "markdown",
      "metadata": {},
      "source": [
        "<div class=\"alert alert-info\"><h4>Note</h4><p>For labeled dimensions, the :attr:`~csdmpy.Dimension.coordinates`\n    attribute is an alias of the :attr:`~csdmpy.Dimension.labels`\n    attribute.</p></div>\n\n"
      ]
    },
    {
      "cell_type": "code",
      "execution_count": null,
      "metadata": {
        "collapsed": false
      },
      "outputs": [],
      "source": [
        "print(x[1].coordinates[:5])"
      ]
    },
    {
      "cell_type": "markdown",
      "metadata": {},
      "source": [
        "The coordinates along the first dimension, viewed up to the first ten\npoints, are\n\n"
      ]
    },
    {
      "cell_type": "code",
      "execution_count": null,
      "metadata": {
        "collapsed": false
      },
      "outputs": [],
      "source": [
        "print(x[0].coordinates[:10])"
      ]
    },
    {
      "cell_type": "markdown",
      "metadata": {},
      "source": [
        "**Plotting the dataset**\n\nYou may plot this dataset however you like. Here, we use a bar graph to\nrepresent the population of countries in the year 2017. The data\ncorresponding to this year is a cross-section of the dependent variable\nat index 57 along the ``x[0]`` dimension.\n\n"
      ]
    },
    {
      "cell_type": "code",
      "execution_count": null,
      "metadata": {
        "collapsed": false
      },
      "outputs": [],
      "source": [
        "print(x[0].coordinates[57])"
      ]
    },
    {
      "cell_type": "markdown",
      "metadata": {},
      "source": [
        "To keep the plot simple, we only plot the first 20 country labels along\nthe ``x[1]`` dimension.\n\n"
      ]
    },
    {
      "cell_type": "code",
      "execution_count": null,
      "metadata": {
        "collapsed": false
      },
      "outputs": [],
      "source": [
        "import matplotlib.pyplot as plt\nimport numpy as np\n\nx_data = x[1].coordinates[:20]\nx_pos = np.arange(20)\ny_data = y[0].components[0][:20, 57]\n\nplt.bar(x_data, y_data, align=\"center\", alpha=0.5)\nplt.xticks(x_pos, x_data, rotation=90)\nplt.ylabel(y[0].axis_label[0])\nplt.yscale(\"log\")\nplt.title(y[0].name)\nplt.tight_layout()\nplt.show()"
      ]
    },
    {
      "cell_type": "markdown",
      "metadata": {},
      "source": [
        ".. rubric:: Footnotes\n\n.. [#f1] In the CSD model, the attribute count is only valid for the\n         `linearDimension_uml`. In `csdmpy`, however, the\n         :attr:`~csdmpy.Dimension.count` attribute is valid for all\n         dimension objects and returns an integer with the number of grid\n         points along the dimension.\n\n"
      ]
    }
  ],
  "metadata": {
    "kernelspec": {
      "display_name": "Python 3",
      "language": "python",
      "name": "python3"
    },
    "language_info": {
      "codemirror_mode": {
        "name": "ipython",
        "version": 3
      },
      "file_extension": ".py",
      "mimetype": "text/x-python",
      "name": "python",
      "nbconvert_exporter": "python",
      "pygments_lexer": "ipython3",
      "version": "3.7.7"
    }
  },
  "nbformat": 4,
  "nbformat_minor": 0
}