{
  "cells": [
    {
      "cell_type": "code",
      "execution_count": null,
      "metadata": {
        "collapsed": false
      },
      "outputs": [],
      "source": [
        "%matplotlib inline"
      ]
    },
    {
      "cell_type": "markdown",
      "metadata": {},
      "source": [
        "\nAstronomy, 2D{1,1,1} dataset (Creating image composition)\n^^^^^^^^^^^^^^^^^^^^^^^^^^^^^^^^^^^^^^^^^^^^^^^^^^^^^^^^^\n"
      ]
    },
    {
      "cell_type": "code",
      "execution_count": null,
      "metadata": {
        "collapsed": false
      },
      "outputs": [],
      "source": [
        ""
      ]
    },
    {
      "cell_type": "markdown",
      "metadata": {},
      "source": [
        "More often, the images in astronomy are a composition of datasets measured\nat different wavelengths over an area of the sky. In this example, we\nillustrate the use of the CSDM file-format, and `csdmpy` module, beyond just\nreading a CSDM-compliant file. We'll use these datasets, and compose an image,\nusing Numpy arrays.\nThe following example is the data from the `Eagle Nebula` acquired at three\ndifferent wavelengths and serialized as a CSDM compliant file.\n\nImport the `csdmpy` model and load the dataset.\n\n"
      ]
    },
    {
      "cell_type": "code",
      "execution_count": null,
      "metadata": {
        "collapsed": false
      },
      "outputs": [],
      "source": [
        "import csdmpy as cp\n\nfilename = \"https://osu.box.com/shared/static/of3wmoxcqungkp6ndbplnbxtgu6jaahh.csdf\"\neagle_nebula = cp.load(filename)"
      ]
    },
    {
      "cell_type": "markdown",
      "metadata": {},
      "source": [
        "Let's get the tuple of dimension and dependent variable objects from\nthe ``eagle_nebula`` instance.\n\n"
      ]
    },
    {
      "cell_type": "code",
      "execution_count": null,
      "metadata": {
        "collapsed": false
      },
      "outputs": [],
      "source": [
        "x = eagle_nebula.dimensions\ny = eagle_nebula.dependent_variables"
      ]
    },
    {
      "cell_type": "markdown",
      "metadata": {},
      "source": [
        "Before we compose an image, let's take a look at the individual\ndependent variables from the dataset. The three dependent variables correspond\nto signal acquisition at 502 nm, 656 nm, and 673 nm, respectively. This\ninformation is also listed in the\n:attr:`~csdmpy.DependentVariable.name` attribute of the\nrespective dependent variable instances,\n\n"
      ]
    },
    {
      "cell_type": "code",
      "execution_count": null,
      "metadata": {
        "collapsed": false
      },
      "outputs": [],
      "source": [
        "y[0].name"
      ]
    },
    {
      "cell_type": "code",
      "execution_count": null,
      "metadata": {
        "collapsed": false
      },
      "outputs": [],
      "source": [
        "y[1].name"
      ]
    },
    {
      "cell_type": "code",
      "execution_count": null,
      "metadata": {
        "collapsed": false
      },
      "outputs": [],
      "source": [
        "y[2].name"
      ]
    },
    {
      "cell_type": "markdown",
      "metadata": {},
      "source": [
        "We use the following script to plot the dependent variables.\n\n"
      ]
    },
    {
      "cell_type": "code",
      "execution_count": null,
      "metadata": {
        "collapsed": false
      },
      "outputs": [],
      "source": [
        "import matplotlib.pyplot as plt\n\n\ndef plot_scalar(yx):\n\n    # Set the extents of the image plot.\n    extent = [\n        x[0].coordinates[0].value,\n        x[0].coordinates[-1].value,\n        x[1].coordinates[0].value,\n        x[1].coordinates[-1].value,\n    ]\n\n    # Add the image plot.\n    y0 = yx.components[0]\n    y0 = y0 / y0.max()\n    im = plt.imshow(y0, origin=\"lower\", extent=extent, cmap=\"bone\", vmax=0.1)\n\n    # Add a colorbar.\n    cbar = plt.gca().figure.colorbar(im)\n    cbar.ax.set_ylabel(yx.axis_label[0])\n\n    # Set up the axes label and figure title.\n    plt.xlabel(x[0].axis_label)\n    plt.ylabel(x[1].axis_label)\n    plt.title(yx.name)\n\n    # Set up the grid lines.\n    plt.grid(color=\"k\", linestyle=\"--\", linewidth=0.5)\n\n    plt.tight_layout()\n    plt.show()"
      ]
    },
    {
      "cell_type": "markdown",
      "metadata": {},
      "source": [
        "Let's plot the dependent variables, first dependent variable,\n\n"
      ]
    },
    {
      "cell_type": "code",
      "execution_count": null,
      "metadata": {
        "collapsed": false
      },
      "outputs": [],
      "source": [
        "plot_scalar(y[0])"
      ]
    },
    {
      "cell_type": "markdown",
      "metadata": {},
      "source": [
        "second dependent variable, and\n\n"
      ]
    },
    {
      "cell_type": "code",
      "execution_count": null,
      "metadata": {
        "collapsed": false
      },
      "outputs": [],
      "source": [
        "plot_scalar(y[1])"
      ]
    },
    {
      "cell_type": "markdown",
      "metadata": {},
      "source": [
        "the third dependent variable.\n\n"
      ]
    },
    {
      "cell_type": "code",
      "execution_count": null,
      "metadata": {
        "collapsed": false
      },
      "outputs": [],
      "source": [
        "plot_scalar(y[2])"
      ]
    },
    {
      "cell_type": "markdown",
      "metadata": {},
      "source": [
        "Image composition\n*****************\n\n"
      ]
    },
    {
      "cell_type": "code",
      "execution_count": null,
      "metadata": {
        "collapsed": false
      },
      "outputs": [],
      "source": [
        "import numpy as np"
      ]
    },
    {
      "cell_type": "markdown",
      "metadata": {},
      "source": [
        "For the image composition, we assign the dependent variable at index zero as\nthe blue channel, index one as the green channel, and index two as the red\nchannel of an RGB image. Start with creating an empty array to hold the RGB\ndataset.\n\n"
      ]
    },
    {
      "cell_type": "code",
      "execution_count": null,
      "metadata": {
        "collapsed": false
      },
      "outputs": [],
      "source": [
        "shape = y[0].components[0].shape + (3,)\nimage = np.empty(shape, dtype=np.float64)"
      ]
    },
    {
      "cell_type": "markdown",
      "metadata": {},
      "source": [
        "Here, ``image`` is the variable we use for storing the composition. Add\nthe respective dependent variables to the designated color channel in the\n``image`` array,\n\n"
      ]
    },
    {
      "cell_type": "code",
      "execution_count": null,
      "metadata": {
        "collapsed": false
      },
      "outputs": [],
      "source": [
        "image[..., 0] = y[2].components[0] / y[2].components[0].max()  # red channel\nimage[..., 1] = y[1].components[0] / y[1].components[0].max()  # green channel\nimage[..., 2] = y[0].components[0] / y[0].components[0].max()  # blue channel"
      ]
    },
    {
      "cell_type": "markdown",
      "metadata": {},
      "source": [
        "Following the intensity plot of the individual dependent variables, see the\nabove figures, it is evident that the component intensity from ``y[1]`` and,\ntherefore, the green channel dominates the other two. If we\nplot the ``image`` data, the image will be saturated with green intensity. To\nattain a color-balanced image, we arbitrarily scale the intensities from the\nthree channels. You may choose any scaling factor. Each scaling factor will\nproduce a different composition. In this example, we use the following,\n\n"
      ]
    },
    {
      "cell_type": "code",
      "execution_count": null,
      "metadata": {
        "collapsed": false
      },
      "outputs": [],
      "source": [
        "image[..., 0] = np.clip(image[..., 0] * 65.0, 0, 1)  # red channel\nimage[..., 1] = np.clip(image[..., 1] * 7.50, 0, 1)  # green channel\nimage[..., 2] = np.clip(image[..., 2] * 75.0, 0, 1)  # blue channel"
      ]
    },
    {
      "cell_type": "markdown",
      "metadata": {},
      "source": [
        "Now to plot this composition.\n\n"
      ]
    },
    {
      "cell_type": "code",
      "execution_count": null,
      "metadata": {
        "collapsed": false
      },
      "outputs": [],
      "source": [
        "# Set the extents of the image plot.\nextent = [\n    x[0].coordinates[0].value,\n    x[0].coordinates[-1].value,\n    x[1].coordinates[0].value,\n    x[1].coordinates[-1].value,\n]\n\n# add figure\nplt.imshow(image, origin=\"lower\", extent=extent)\n\nplt.xlabel(x[0].axis_label)\nplt.ylabel(x[1].axis_label)\nplt.title(\"composition\")\n\nplt.tight_layout()\nplt.show()"
      ]
    }
  ],
  "metadata": {
    "kernelspec": {
      "display_name": "Python 3",
      "language": "python",
      "name": "python3"
    },
    "language_info": {
      "codemirror_mode": {
        "name": "ipython",
        "version": 3
      },
      "file_extension": ".py",
      "mimetype": "text/x-python",
      "name": "python",
      "nbconvert_exporter": "python",
      "pygments_lexer": "ipython3",
      "version": "3.7.7"
    }
  },
  "nbformat": 4,
  "nbformat_minor": 0
}