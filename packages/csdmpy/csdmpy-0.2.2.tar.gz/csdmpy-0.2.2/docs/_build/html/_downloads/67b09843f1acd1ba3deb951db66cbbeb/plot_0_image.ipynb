{
  "cells": [
    {
      "cell_type": "code",
      "execution_count": null,
      "metadata": {
        "collapsed": false
      },
      "outputs": [],
      "source": [
        "%matplotlib inline"
      ]
    },
    {
      "cell_type": "markdown",
      "metadata": {},
      "source": [
        "\nImage, 2D{3} datasets\n^^^^^^^^^^^^^^^^^^^^^\n"
      ]
    },
    {
      "cell_type": "markdown",
      "metadata": {},
      "source": [
        "The 2D{3} dataset is two dimensional, $d=2$, with\na single three-component dependent variable, $p=3$.\nA common example from this subset is perhaps the RGB image dataset.\nAn RGB image dataset has two spatial dimensions and one dependent\nvariable with three components corresponding to the red, green, and blue color\nintensities.\n\nThe following is an example of an RGB image dataset.\n\n"
      ]
    },
    {
      "cell_type": "code",
      "execution_count": null,
      "metadata": {
        "collapsed": false
      },
      "outputs": [],
      "source": [
        "import csdmpy as cp\n\nfilename = \"https://osu.box.com/shared/static/vdxdaitsa9dq45x8nk7l7h25qrw2baxt.csdf\"\nImageData = cp.load(filename)\nprint(ImageData.data_structure)"
      ]
    },
    {
      "cell_type": "markdown",
      "metadata": {},
      "source": [
        "The tuple of the dimension and dependent variable instances from\n``ImageData`` instance are\n\n"
      ]
    },
    {
      "cell_type": "code",
      "execution_count": null,
      "metadata": {
        "collapsed": false
      },
      "outputs": [],
      "source": [
        "x = ImageData.dimensions\ny = ImageData.dependent_variables"
      ]
    },
    {
      "cell_type": "markdown",
      "metadata": {},
      "source": [
        "respectively. There are two dimensions, and the coordinates along each\ndimension are\n\n"
      ]
    },
    {
      "cell_type": "code",
      "execution_count": null,
      "metadata": {
        "collapsed": false
      },
      "outputs": [],
      "source": [
        "print(\"x0 =\", x[0].coordinates[:10])"
      ]
    },
    {
      "cell_type": "code",
      "execution_count": null,
      "metadata": {
        "collapsed": false
      },
      "outputs": [],
      "source": [
        "print(\"x1 =\", x[1].coordinates[:10])"
      ]
    },
    {
      "cell_type": "markdown",
      "metadata": {},
      "source": [
        "respectively, where only first ten coordinates along each dimension is displayed.\n\n"
      ]
    },
    {
      "cell_type": "markdown",
      "metadata": {},
      "source": [
        "The dependent variable is the image data, as also seen from the\n:attr:`~csdmpy.DependentVariable.quantity_type` attribute\nof the corresponding `dv_api` instance.\n\n"
      ]
    },
    {
      "cell_type": "code",
      "execution_count": null,
      "metadata": {
        "collapsed": false
      },
      "outputs": [],
      "source": [
        "print(y[0].quantity_type)"
      ]
    },
    {
      "cell_type": "markdown",
      "metadata": {},
      "source": [
        "From the value `pixel_3`, `pixel` indicates a pixel data, while `3`\nindicates the number of pixel components.\n\n"
      ]
    },
    {
      "cell_type": "markdown",
      "metadata": {},
      "source": [
        "As usual, the components of the dependent variable are accessed through\nthe :attr:`~csdmpy.DependentVariable.components` attribute.\nTo access the individual components, use the appropriate array indexing.\nFor example,\n\n"
      ]
    },
    {
      "cell_type": "code",
      "execution_count": null,
      "metadata": {
        "collapsed": false
      },
      "outputs": [],
      "source": [
        "print(y[0].components[0])"
      ]
    },
    {
      "cell_type": "markdown",
      "metadata": {},
      "source": [
        "will return an array with the first component of all data values. In this case,\nthe components correspond to the red color intensity, also indicated by the\ncorresponding component label. The label corresponding to\nthe component array is accessed through the\n:attr:`~csdmpy.DependentVariable.component_labels`\nattribute with appropriate indexing, that is\n\n"
      ]
    },
    {
      "cell_type": "code",
      "execution_count": null,
      "metadata": {
        "collapsed": false
      },
      "outputs": [],
      "source": [
        "print(y[0].component_labels[0])"
      ]
    },
    {
      "cell_type": "markdown",
      "metadata": {},
      "source": [
        "To avoid displaying larger output, as an example, we print the shape of\neach component array (using Numpy array's `shape` attribute) for the three\ncomponents along with their respective labels.\n\n"
      ]
    },
    {
      "cell_type": "code",
      "execution_count": null,
      "metadata": {
        "collapsed": false
      },
      "outputs": [],
      "source": [
        "print(y[0].component_labels[0], y[0].components[0].shape)"
      ]
    },
    {
      "cell_type": "code",
      "execution_count": null,
      "metadata": {
        "collapsed": false
      },
      "outputs": [],
      "source": [
        "print(y[0].component_labels[1], y[0].components[1].shape)"
      ]
    },
    {
      "cell_type": "code",
      "execution_count": null,
      "metadata": {
        "collapsed": false
      },
      "outputs": [],
      "source": [
        "print(y[0].component_labels[2], y[0].components[2].shape)"
      ]
    },
    {
      "cell_type": "markdown",
      "metadata": {},
      "source": [
        "The shape (768, 1024) corresponds to the number of points from the each\ndimension instances.\n\n"
      ]
    },
    {
      "cell_type": "markdown",
      "metadata": {},
      "source": [
        "<div class=\"alert alert-info\"><h4>Note</h4><p>In this example, since there is only one dependent variable, the index\n        of `y` is set to zero, which is ``y[0]``. The indices for the\n        :attr:`~csdmpy.DependentVariable.components` and the\n        :attr:`~csdmpy.DependentVariable.component_labels`,\n        on the other hand, spans through the number of components.</p></div>\n\n"
      ]
    },
    {
      "cell_type": "markdown",
      "metadata": {},
      "source": [
        "Now, to visualize the dataset as an RGB image,\n\n"
      ]
    },
    {
      "cell_type": "code",
      "execution_count": null,
      "metadata": {
        "collapsed": false
      },
      "outputs": [],
      "source": [
        "import matplotlib.pyplot as plt\n\ncp.plot(ImageData)\nplt.tight_layout()\nplt.show()"
      ]
    }
  ],
  "metadata": {
    "kernelspec": {
      "display_name": "Python 3",
      "language": "python",
      "name": "python3"
    },
    "language_info": {
      "codemirror_mode": {
        "name": "ipython",
        "version": 3
      },
      "file_extension": ".py",
      "mimetype": "text/x-python",
      "name": "python",
      "nbconvert_exporter": "python",
      "pygments_lexer": "ipython3",
      "version": "3.7.7"
    }
  },
  "nbformat": 4,
  "nbformat_minor": 0
}