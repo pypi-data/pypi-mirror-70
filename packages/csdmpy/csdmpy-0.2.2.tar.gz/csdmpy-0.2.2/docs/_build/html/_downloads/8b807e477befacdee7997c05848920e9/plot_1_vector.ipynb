{
  "cells": [
    {
      "cell_type": "code",
      "execution_count": null,
      "metadata": {
        "collapsed": false
      },
      "outputs": [],
      "source": [
        "%matplotlib inline"
      ]
    },
    {
      "cell_type": "markdown",
      "metadata": {},
      "source": [
        "\nVector, 2D{2} dataset\n^^^^^^^^^^^^^^^^^^^^^\n"
      ]
    },
    {
      "cell_type": "markdown",
      "metadata": {},
      "source": [
        "The 2D{2} datasets are two-dimensional, $d=2$,\nwith one two-component dependent variable, $p=2$.\nThe following is an example of a simulated electric field vector dataset of a\ndipole as a function of two linearly sampled spatial dimensions.\n\n"
      ]
    },
    {
      "cell_type": "code",
      "execution_count": null,
      "metadata": {
        "collapsed": false
      },
      "outputs": [],
      "source": [
        "import csdmpy as cp\n\nfilename = \"https://osu.box.com/shared/static/iobasl6fx1z7rds3ovamrwueek8ver5o.csdf\"\nvector_data = cp.load(filename)\nprint(vector_data.data_structure)"
      ]
    },
    {
      "cell_type": "markdown",
      "metadata": {},
      "source": [
        "The tuple of the dimension and dependent variable instances from this example\nare\n\n"
      ]
    },
    {
      "cell_type": "code",
      "execution_count": null,
      "metadata": {
        "collapsed": false
      },
      "outputs": [],
      "source": [
        "x = vector_data.dimensions\ny = vector_data.dependent_variables"
      ]
    },
    {
      "cell_type": "markdown",
      "metadata": {},
      "source": [
        "with the respective coordinates (viewed only up to five values), as\n\n"
      ]
    },
    {
      "cell_type": "code",
      "execution_count": null,
      "metadata": {
        "collapsed": false
      },
      "outputs": [],
      "source": [
        "print(x[0].coordinates[:5])"
      ]
    },
    {
      "cell_type": "code",
      "execution_count": null,
      "metadata": {
        "collapsed": false
      },
      "outputs": [],
      "source": [
        "print(x[1].coordinates[:5])"
      ]
    },
    {
      "cell_type": "markdown",
      "metadata": {},
      "source": [
        "The components of the dependent variable are vector components as seen\nfrom the :attr:`~csdmpy.DependentVariable.quantity_type`\nattribute of the corresponding dependent variable instance.\n\n"
      ]
    },
    {
      "cell_type": "code",
      "execution_count": null,
      "metadata": {
        "collapsed": false
      },
      "outputs": [],
      "source": [
        "print(y[0].quantity_type)"
      ]
    },
    {
      "cell_type": "markdown",
      "metadata": {},
      "source": [
        "**Visualizing the dataset**\n\nLet's visualize the vector data using the *streamplot* method\nfrom the matplotlib package. Before we could visualize, however, there\nis an initial processing step. We use the Numpy library for processing.\n\n"
      ]
    },
    {
      "cell_type": "code",
      "execution_count": null,
      "metadata": {
        "collapsed": false
      },
      "outputs": [],
      "source": [
        "import numpy as np\n\nX, Y = np.meshgrid(x[0].coordinates, x[1].coordinates)  # (x, y) coordinate pairs\nU, V = y[0].components[0], y[0].components[1]  # U and V are the components\nR = np.sqrt(U ** 2 + V ** 2)  # The magnitude of the vector\nR /= R.min()  # Scaled magnitude of the vector\nRlog = np.log10(R)  # Scaled magnitude of the vector on a log scale"
      ]
    },
    {
      "cell_type": "markdown",
      "metadata": {},
      "source": [
        "In the above steps, we calculate the X-Y grid points along with a\nscaled magnitude of the vector dataset. The magnitude is scaled such that the\nminimum value is one. Next, calculate the log of the scaled magnitude to\nvisualize the intensity on a logarithmic scale.\n\n"
      ]
    },
    {
      "cell_type": "markdown",
      "metadata": {},
      "source": [
        "And now, the streamplot vector plot\n\n"
      ]
    },
    {
      "cell_type": "code",
      "execution_count": null,
      "metadata": {
        "collapsed": false
      },
      "outputs": [],
      "source": [
        "import matplotlib.pyplot as plt\n\nplt.streamplot(\n    X.value, Y.value, U, V, density=1, linewidth=Rlog, color=Rlog, cmap=\"viridis\"\n)\n\nplt.xlim([x[0].coordinates[0].value, x[0].coordinates[-1].value])\nplt.ylim([x[1].coordinates[0].value, x[1].coordinates[-1].value])\n\n# Set axes labels and figure title.\nplt.xlabel(x[0].axis_label)\nplt.ylabel(x[1].axis_label)\nplt.title(y[0].name)\n\n# Set grid lines.\nplt.grid(color=\"gray\", linestyle=\"--\", linewidth=0.5)\n\nplt.tight_layout()\nplt.show()"
      ]
    }
  ],
  "metadata": {
    "kernelspec": {
      "display_name": "Python 3",
      "language": "python",
      "name": "python3"
    },
    "language_info": {
      "codemirror_mode": {
        "name": "ipython",
        "version": 3
      },
      "file_extension": ".py",
      "mimetype": "text/x-python",
      "name": "python",
      "nbconvert_exporter": "python",
      "pygments_lexer": "ipython3",
      "version": "3.7.7"
    }
  },
  "nbformat": 4,
  "nbformat_minor": 0
}