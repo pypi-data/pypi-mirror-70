{
  "cells": [
    {
      "cell_type": "code",
      "execution_count": null,
      "metadata": {
        "collapsed": false
      },
      "outputs": [],
      "source": [
        "%matplotlib inline"
      ]
    },
    {
      "cell_type": "markdown",
      "metadata": {},
      "source": [
        "\nLinear and Monotonic dimensions\n-------------------------------\n"
      ]
    },
    {
      "cell_type": "markdown",
      "metadata": {},
      "source": [
        "In the following example, we illustrate how one can covert a Numpy array into\na CSDM object. Start by importing the Numpy and csdmpy libraries.\n\n"
      ]
    },
    {
      "cell_type": "code",
      "execution_count": null,
      "metadata": {
        "collapsed": false
      },
      "outputs": [],
      "source": [
        "import matplotlib.pyplot as plt\nimport numpy as np\n\nimport csdmpy as cp"
      ]
    },
    {
      "cell_type": "markdown",
      "metadata": {},
      "source": [
        "Let's generate a 2D NumPy array of random numbers as our dataset.\n\n"
      ]
    },
    {
      "cell_type": "code",
      "execution_count": null,
      "metadata": {
        "collapsed": false
      },
      "outputs": [],
      "source": [
        "data = np.random.rand(8192).reshape(32, 256)"
      ]
    },
    {
      "cell_type": "markdown",
      "metadata": {},
      "source": [
        "To convert this array into a csdm object, use the :meth:`~csdmpy.as_csdm`\nmethod,\n\n"
      ]
    },
    {
      "cell_type": "code",
      "execution_count": null,
      "metadata": {
        "collapsed": false
      },
      "outputs": [],
      "source": [
        "data_csdm = cp.as_csdm(data)\nprint(data_csdm.dimensions)"
      ]
    },
    {
      "cell_type": "markdown",
      "metadata": {},
      "source": [
        "This generates a 2D{1} dataset, that is, a two-dimensional dataset with a\nsingle one-component dependent variable. The two dimensions are, by default,\nset as the LinearDimensions of the unit interval.\n\nYou may set the proper dimensions by generating the appropriate Dimension\nobjects and replacing the default dimensions in the ``data_csdm`` object.\n\n"
      ]
    },
    {
      "cell_type": "code",
      "execution_count": null,
      "metadata": {
        "collapsed": false
      },
      "outputs": [],
      "source": [
        "d0 = cp.LinearDimension(\n    count=256, increment=\"15.23 \u00b5s\", coordinates_offset=\"-1.95 ms\", label=\"t1\"\n)"
      ]
    },
    {
      "cell_type": "markdown",
      "metadata": {},
      "source": [
        "Here, ``d0`` is a LinearDimension with 256 points and 15.23 \u00b5s increment. You\nmay similarly set the second dimension as a LinearDimension, however, in this\nexample, let's set it as a MonotonicDimension.\n\n\n"
      ]
    },
    {
      "cell_type": "code",
      "execution_count": null,
      "metadata": {
        "collapsed": false
      },
      "outputs": [],
      "source": [
        "array = 10 ** (np.arange(32) / 8)\nd1 = cp.as_dimension(array, unit=\"\u00b5s\", label=\"t2\")"
      ]
    },
    {
      "cell_type": "markdown",
      "metadata": {},
      "source": [
        "The variable ``array`` is a NumPy array that is uniformly sampled on a log\nscale. To convert this array into a Dimension object, we use the\n:meth:`~csdmpy.as_dimension` method.\n\nNow, replace the dimension objects in ``data_csdm`` with the new ones.\n\n"
      ]
    },
    {
      "cell_type": "code",
      "execution_count": null,
      "metadata": {
        "collapsed": false
      },
      "outputs": [],
      "source": [
        "data_csdm.dimensions[0] = d0\ndata_csdm.dimensions[1] = d1"
      ]
    },
    {
      "cell_type": "code",
      "execution_count": null,
      "metadata": {
        "collapsed": false
      },
      "outputs": [],
      "source": [
        "print(data_csdm.dimensions)"
      ]
    },
    {
      "cell_type": "markdown",
      "metadata": {},
      "source": [
        "Plot of the dataset.\n\n"
      ]
    },
    {
      "cell_type": "code",
      "execution_count": null,
      "metadata": {
        "collapsed": false
      },
      "outputs": [],
      "source": [
        "plt.figure(figsize=(6, 4))\ncp.plot(data_csdm)\nplt.tight_layout()\nplt.show()"
      ]
    },
    {
      "cell_type": "markdown",
      "metadata": {},
      "source": [
        "To serialize the file, use the save method.\n\n"
      ]
    },
    {
      "cell_type": "code",
      "execution_count": null,
      "metadata": {
        "collapsed": false
      },
      "outputs": [],
      "source": [
        "data_csdm.save(\"filename.csdf\")"
      ]
    }
  ],
  "metadata": {
    "kernelspec": {
      "display_name": "Python 3",
      "language": "python",
      "name": "python3"
    },
    "language_info": {
      "codemirror_mode": {
        "name": "ipython",
        "version": 3
      },
      "file_extension": ".py",
      "mimetype": "text/x-python",
      "name": "python",
      "nbconvert_exporter": "python",
      "pygments_lexer": "ipython3",
      "version": "3.7.7"
    }
  },
  "nbformat": 4,
  "nbformat_minor": 0
}