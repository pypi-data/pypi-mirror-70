{
  "cells": [
    {
      "cell_type": "code",
      "execution_count": null,
      "metadata": {
        "collapsed": false
      },
      "outputs": [],
      "source": [
        "%matplotlib inline"
      ]
    },
    {
      "cell_type": "markdown",
      "metadata": {},
      "source": [
        "\nScatter, 0D{1,1} dataset\n^^^^^^^^^^^^^^^^^^^^^^^^\n"
      ]
    },
    {
      "cell_type": "markdown",
      "metadata": {},
      "source": [
        "We start with a 0D{1,1} correlated dataset, that is, a dataset\nwithout a coordinate grid. A 0D{1,1} dataset has no dimensions, d = 0, and\ntwo single-component dependent variables.\nIn the following example [#f3]_, the two `correlated` dependent variables are\nthe $^{29}\\text{Si}$ - $^{29}\\text{Si}$ nuclear spin couplings,\n$^2J$, across a Si-O-Si linkage, and the `s`-character product on the\nO and two Si along the Si-O bond across the Si-O-Si linkage.\n\nLet's import the dataset.\n\n"
      ]
    },
    {
      "cell_type": "code",
      "execution_count": null,
      "metadata": {
        "collapsed": false
      },
      "outputs": [],
      "source": [
        "import csdmpy as cp\n\nfilename = \"https://osu.box.com/shared/static/h1nxth6gs94fthfmvip5vchp3zh4zd6o.csdf\"\nzero_d_dataset = cp.load(filename)"
      ]
    },
    {
      "cell_type": "markdown",
      "metadata": {},
      "source": [
        "Since the dataset has no dimensions, the value of the\n:attr:`~csdmpy.CSDM.dimensions` attribute of the :attr:`~csdmpy.CSDM`\nclass is an empty tuple,\n\n"
      ]
    },
    {
      "cell_type": "code",
      "execution_count": null,
      "metadata": {
        "collapsed": false
      },
      "outputs": [],
      "source": [
        "print(zero_d_dataset.dimensions)"
      ]
    },
    {
      "cell_type": "markdown",
      "metadata": {},
      "source": [
        "The :attr:`~csdmpy.CSDM.dependent_variables` attribute, however, holds\ntwo dependent-variable objects. The data structure from the two dependent\nvariables is\n\n"
      ]
    },
    {
      "cell_type": "code",
      "execution_count": null,
      "metadata": {
        "collapsed": false
      },
      "outputs": [],
      "source": [
        "print(zero_d_dataset.dependent_variables[0].data_structure)"
      ]
    },
    {
      "cell_type": "markdown",
      "metadata": {},
      "source": [
        "and\n\n"
      ]
    },
    {
      "cell_type": "code",
      "execution_count": null,
      "metadata": {
        "collapsed": false
      },
      "outputs": [],
      "source": [
        "print(zero_d_dataset.dependent_variables[1].data_structure)"
      ]
    },
    {
      "cell_type": "markdown",
      "metadata": {},
      "source": [
        "respectively.\n\n"
      ]
    },
    {
      "cell_type": "markdown",
      "metadata": {},
      "source": [
        "**Visualizing the dataset**\n\nThe correlation plot of the dependent-variables from the dataset is\nshown below.\n\n"
      ]
    },
    {
      "cell_type": "code",
      "execution_count": null,
      "metadata": {
        "collapsed": false
      },
      "outputs": [],
      "source": [
        "import matplotlib.pyplot as plt\n\ny0 = zero_d_dataset.dependent_variables[0]\ny1 = zero_d_dataset.dependent_variables[1]\n\nplt.scatter(y1.components[0], y0.components[0], s=2, c=\"k\")\nplt.xlabel(y1.axis_label[0])\nplt.ylabel(y0.axis_label[0])\nplt.tight_layout()\nplt.show()"
      ]
    },
    {
      "cell_type": "markdown",
      "metadata": {},
      "source": [
        ".. rubric:: Citation\n\n.. [#f3]\n      Srivastava DJ, Florian P, Baltisberger JH, Grandinetti PJ. Correlating geminal\n      couplings to structure in framework silicates. Phys Chem Chem Phys. 2018;20:562\u2013571.\n      DOI:10.1039/C7CP06486A\n\n"
      ]
    }
  ],
  "metadata": {
    "kernelspec": {
      "display_name": "Python 3",
      "language": "python",
      "name": "python3"
    },
    "language_info": {
      "codemirror_mode": {
        "name": "ipython",
        "version": 3
      },
      "file_extension": ".py",
      "mimetype": "text/x-python",
      "name": "python",
      "nbconvert_exporter": "python",
      "pygments_lexer": "ipython3",
      "version": "3.7.7"
    }
  },
  "nbformat": 4,
  "nbformat_minor": 0
}