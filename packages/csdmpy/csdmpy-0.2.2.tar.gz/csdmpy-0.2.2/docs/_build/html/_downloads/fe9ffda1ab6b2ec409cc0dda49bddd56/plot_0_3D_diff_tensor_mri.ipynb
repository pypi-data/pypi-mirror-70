{
  "cells": [
    {
      "cell_type": "code",
      "execution_count": null,
      "metadata": {
        "collapsed": false
      },
      "outputs": [],
      "source": [
        "%matplotlib inline"
      ]
    },
    {
      "cell_type": "markdown",
      "metadata": {},
      "source": [
        "\nDiffusion tensor MRI, 3D{6} dataset\n^^^^^^^^^^^^^^^^^^^^^^^^^^^^^^^^^^^\n"
      ]
    },
    {
      "cell_type": "markdown",
      "metadata": {},
      "source": [
        "The following is an example of a 3D{6} diffusion tensor MRI dataset with three\nspatial dimensions, $d=3$, and one, $p=1$, dependent-variable\nwith six components. For illustration, we have reduced the size of the dataset.\nThe complete diffusion tensor MRI dataset, in the CSDM format, is available\n`online <https://osu.box.com/shared/static/i7pwedo7sjabzr9qfn5q2gnjffqabp0p.csdf>`_.\nThe original dataset [#f1]_ is also available.\n\nLet's import the CSDM data-file and look at its data structure.\n\n"
      ]
    },
    {
      "cell_type": "code",
      "execution_count": null,
      "metadata": {
        "collapsed": false
      },
      "outputs": [],
      "source": [
        "import csdmpy as cp\n\nfilename = \"https://osu.box.com/shared/static/x5d1hgqjgo01wguyzwbv6e256erxejtx.csdf\"\ndiff_mri = cp.load(filename)"
      ]
    },
    {
      "cell_type": "markdown",
      "metadata": {},
      "source": [
        "There are three linear dimensions in this dataset, corresponding to the x, y, and z\nspatial dimensions,\n\n"
      ]
    },
    {
      "cell_type": "code",
      "execution_count": null,
      "metadata": {
        "collapsed": false
      },
      "outputs": [],
      "source": [
        "x = diff_mri.dimensions\nprint(x[0].label, x[1].label, x[2].label)"
      ]
    },
    {
      "cell_type": "markdown",
      "metadata": {},
      "source": [
        "and one six-component dependent variables holding the diffusion tensor components.\nBecause the diffusion tensor is a symmetric second-rank tensor, we only need six\ntensor components. The components of the tensor are ordered as\n\n"
      ]
    },
    {
      "cell_type": "code",
      "execution_count": null,
      "metadata": {
        "collapsed": false
      },
      "outputs": [],
      "source": [
        "y = diff_mri.dependent_variables\nprint(y[0].component_labels)"
      ]
    },
    {
      "cell_type": "markdown",
      "metadata": {},
      "source": [
        "The symmetric matrix information is also found with the\n:attr:`~csdmpy.DependentVariable.quantity_type` attribute,\n\n"
      ]
    },
    {
      "cell_type": "code",
      "execution_count": null,
      "metadata": {
        "collapsed": false
      },
      "outputs": [],
      "source": [
        "y[0].quantity_type"
      ]
    },
    {
      "cell_type": "markdown",
      "metadata": {},
      "source": [
        "which implies a 3x3 symmetric matrix.\n\n"
      ]
    },
    {
      "cell_type": "markdown",
      "metadata": {},
      "source": [
        "**Visualize the dataset**\n\nIn the following, we visualize the isotropic diffusion coefficient, that is, the\naverage of the $d_{xx}$, $d_{yy}$, and $d_{zz}$ tensor components.\nSince it's a three-dimensional dataset, we'll visualize the projections onto the\nthree dimensions.\n\n"
      ]
    },
    {
      "cell_type": "code",
      "execution_count": null,
      "metadata": {
        "collapsed": false
      },
      "outputs": [],
      "source": [
        "# the isotropic diffusion coefficient.\n# component at index 0 = dxx\n# component at index 3 = dyy\n# component at index 5 = dzz\nisotropic_diffusion = (y[0].components[0] + y[0].components[3] + y[0].components[5]) / 3"
      ]
    },
    {
      "cell_type": "markdown",
      "metadata": {},
      "source": [
        "In the following, we use certain features of the csdmpy module.\nPlease refer to `generating_csdm_objects` for  further details.\n\n"
      ]
    },
    {
      "cell_type": "code",
      "execution_count": null,
      "metadata": {
        "collapsed": false
      },
      "outputs": [],
      "source": [
        "# Create a new csdm object from the isotropic diffusion coefficient array.\nnew_csdm = cp.as_csdm(isotropic_diffusion, quantity_type=\"scalar\")\n\n# Add the dimensions from `diff_mri` object to the `new_csdm` object.\nfor i, dim in enumerate(x):\n    new_csdm.dimensions[i] = dim"
      ]
    },
    {
      "cell_type": "markdown",
      "metadata": {},
      "source": [
        "Now, we can plot the projections of the isotropic diffusion coefficients along\nthe respective dimensions as\n\n"
      ]
    },
    {
      "cell_type": "code",
      "execution_count": null,
      "metadata": {
        "collapsed": false
      },
      "outputs": [],
      "source": [
        "import matplotlib.pyplot as plt\n\n# projection along the x-axis.\nplt.figure(figsize=(5, 4))\ncp.plot(new_csdm.sum(axis=0), cmap=\"gray_r\", origin=\"upper\")\nplt.tight_layout()\nplt.show()"
      ]
    },
    {
      "cell_type": "code",
      "execution_count": null,
      "metadata": {
        "collapsed": false
      },
      "outputs": [],
      "source": [
        "# projection along the y-axis.\nplt.figure(figsize=(5, 4))\ncp.plot(new_csdm.sum(axis=1), cmap=\"gray_r\", origin=\"upper\")\nplt.tight_layout()\nplt.show()"
      ]
    },
    {
      "cell_type": "code",
      "execution_count": null,
      "metadata": {
        "collapsed": false
      },
      "outputs": [],
      "source": [
        "# projection along the z-axis.\nplt.figure(figsize=(5, 4))\ncp.plot(new_csdm.sum(axis=2), cmap=\"gray_r\", origin=\"upper\")\nplt.tight_layout()\nplt.show()"
      ]
    },
    {
      "cell_type": "markdown",
      "metadata": {},
      "source": [
        ".. rubric:: Citation\n\n.. [#f1] Diffusion tensor MRI `dataset <http://www.sci.utah.edu/~gk/DTI-data/>`_; 2000.\n\n"
      ]
    }
  ],
  "metadata": {
    "kernelspec": {
      "display_name": "Python 3",
      "language": "python",
      "name": "python3"
    },
    "language_info": {
      "codemirror_mode": {
        "name": "ipython",
        "version": 3
      },
      "file_extension": ".py",
      "mimetype": "text/x-python",
      "name": "python",
      "nbconvert_exporter": "python",
      "pygments_lexer": "ipython3",
      "version": "3.7.7"
    }
  },
  "nbformat": 4,
  "nbformat_minor": 0
}