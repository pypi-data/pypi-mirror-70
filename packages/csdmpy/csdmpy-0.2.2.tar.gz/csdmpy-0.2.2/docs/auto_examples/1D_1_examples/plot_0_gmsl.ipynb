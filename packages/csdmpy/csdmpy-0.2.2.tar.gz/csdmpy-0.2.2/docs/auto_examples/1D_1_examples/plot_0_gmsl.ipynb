{
  "cells": [
    {
      "cell_type": "code",
      "execution_count": null,
      "metadata": {
        "collapsed": false
      },
      "outputs": [],
      "source": [
        "%matplotlib inline"
      ]
    },
    {
      "cell_type": "markdown",
      "metadata": {},
      "source": [
        "\nGlobal Mean Sea Level rise dataset\n^^^^^^^^^^^^^^^^^^^^^^^^^^^^^^^^^^\n"
      ]
    },
    {
      "cell_type": "markdown",
      "metadata": {},
      "source": [
        "The following dataset is the Global Mean Sea Level (GMSL) rise from the late\n19th to the Early 21st Century [#f0]_. The\n`original dataset <http://www.cmar.csiro.au/sealevel/sl_data_cmar.html>`_ was\ndownloaded as a CSV file and subsequently converted to the CSD model format.\n\nLet's import this file.\n\n"
      ]
    },
    {
      "cell_type": "code",
      "execution_count": null,
      "metadata": {
        "collapsed": false
      },
      "outputs": [],
      "source": [
        "import csdmpy as cp\n\nfilename = \"https://osu.box.com/shared/static/vetjm3cndxdps05ijvv603ajth3jocck.csdf\"\nsea_level = cp.load(filename)"
      ]
    },
    {
      "cell_type": "markdown",
      "metadata": {},
      "source": [
        "The variable `filename` is a string with the address to the `.csdf` file.\nThe :meth:`~csdmpy.load` method of the `csdmpy` module reads the\nfile and returns an instance of the `csdm_api` class, in\nthis case, as a variable ``sea_level``. For a quick preview of the data\nstructure, use the :attr:`~csdmpy.CSDM.data_structure` attribute of this\ninstance.\n\n"
      ]
    },
    {
      "cell_type": "code",
      "execution_count": null,
      "metadata": {
        "collapsed": false
      },
      "outputs": [],
      "source": [
        "print(sea_level.data_structure)"
      ]
    },
    {
      "cell_type": "markdown",
      "metadata": {},
      "source": [
        "<div class=\"alert alert-danger\"><h4>Warning</h4><p>The serialized string from the :attr:`~csdmpy.CSDM.data_structure`\n    attribute is not the same as the JSON serialization on the file.\n    This attribute is only intended for a quick preview of the data\n    structure and avoids displaying large datasets. Do not use\n    the value of this attribute to save the data to the file. Instead, use the\n    :meth:`~csdmpy.CSDM.save` method of the `CSDM <csdm_api>`\n    class.</p></div>\n\n"
      ]
    },
    {
      "cell_type": "markdown",
      "metadata": {},
      "source": [
        "The tuple of the dimensions and dependent variables, from this example, are\n\n"
      ]
    },
    {
      "cell_type": "code",
      "execution_count": null,
      "metadata": {
        "collapsed": false
      },
      "outputs": [],
      "source": [
        "x = sea_level.dimensions\ny = sea_level.dependent_variables"
      ]
    },
    {
      "cell_type": "markdown",
      "metadata": {},
      "source": [
        "respectively. The coordinates along the dimension and the\ncomponent of the dependent variable are\n\n"
      ]
    },
    {
      "cell_type": "code",
      "execution_count": null,
      "metadata": {
        "collapsed": false
      },
      "outputs": [],
      "source": [
        "print(x[0].coordinates)"
      ]
    },
    {
      "cell_type": "markdown",
      "metadata": {},
      "source": [
        "and\n\n"
      ]
    },
    {
      "cell_type": "code",
      "execution_count": null,
      "metadata": {
        "collapsed": false
      },
      "outputs": [],
      "source": [
        "print(y[0].components[0])"
      ]
    },
    {
      "cell_type": "markdown",
      "metadata": {},
      "source": [
        "respectively.\n\n"
      ]
    },
    {
      "cell_type": "markdown",
      "metadata": {},
      "source": [
        "**Plotting the data**\n\n<div class=\"alert alert-info\"><h4>Note</h4><p>The following code is only for illustrative purposes. The users may use\n    any plotting library to visualize their datasets.</p></div>\n\n"
      ]
    },
    {
      "cell_type": "code",
      "execution_count": null,
      "metadata": {
        "collapsed": false
      },
      "outputs": [],
      "source": [
        "import matplotlib.pyplot as plt\n\nplt.figure(figsize=(6, 4))\ncp.plot(sea_level)\nplt.tight_layout()\nplt.show()"
      ]
    },
    {
      "cell_type": "markdown",
      "metadata": {},
      "source": [
        "The following is a quick description of the above code. Within the code, we\nmake use of the csdm instance's attributes in addition to the matplotlib\nfunctions. The first line is an import call for the matplotlib functions.\nThe following line generates a plot of the coordinates along the\ndimension verse the component of the dependent variable.\nThe next line sets the x-range. For labeling the axes,\nuse the :attr:`~csdmpy.Dimension.axis_label` attribute\nof both dimension and dependent variable instances. For the figure title,\nuse the :attr:`~csdmpy.DependentVariable.name` attribute\nof the dependent variable instance. The next statement adds the grid lines.\nFor additional information, refer to `Matplotlib <https://matplotlib.org>`_\ndocumentation.\n\n"
      ]
    },
    {
      "cell_type": "markdown",
      "metadata": {},
      "source": [
        ".. seealso::\n    `getting_started`\n\n\n"
      ]
    },
    {
      "cell_type": "markdown",
      "metadata": {},
      "source": [
        ".. rubric:: Citation\n\n.. [#f0] Church JA, White NJ. Sea-Level Rise from the Late 19th to the Early 21st Century.\n         Surveys in Geophysics. 2011;32:585\u2013602. DOI:10.1007/s10712-011-9119-1\n\n"
      ]
    }
  ],
  "metadata": {
    "kernelspec": {
      "display_name": "Python 3",
      "language": "python",
      "name": "python3"
    },
    "language_info": {
      "codemirror_mode": {
        "name": "ipython",
        "version": 3
      },
      "file_extension": ".py",
      "mimetype": "text/x-python",
      "name": "python",
      "nbconvert_exporter": "python",
      "pygments_lexer": "ipython3",
      "version": "3.7.7"
    }
  },
  "nbformat": 4,
  "nbformat_minor": 0
}