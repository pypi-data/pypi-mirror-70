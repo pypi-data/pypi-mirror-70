{
  "cells": [
    {
      "cell_type": "code",
      "execution_count": null,
      "metadata": {
        "collapsed": false
      },
      "outputs": [],
      "source": [
        "%matplotlib inline"
      ]
    },
    {
      "cell_type": "markdown",
      "metadata": {},
      "source": [
        "\nNuclear Magnetic Resonance (NMR) dataset\n^^^^^^^^^^^^^^^^^^^^^^^^^^^^^^^^^^^^^^^^\n"
      ]
    },
    {
      "cell_type": "markdown",
      "metadata": {},
      "source": [
        "The following dataset is a $^{13}\\mathrm{C}$ time-domain NMR Bloch decay\nsignal of ethanol.\nLet's load this data file and take a quick look at its data\nstructure. We follow the steps described in the previous example.\n\n"
      ]
    },
    {
      "cell_type": "code",
      "execution_count": null,
      "metadata": {
        "collapsed": false
      },
      "outputs": [],
      "source": [
        "import matplotlib.pyplot as plt\n\nimport csdmpy as cp\n\nfilename = \"https://osu.box.com/shared/static/2e4fqm8n8bh4i5wgrinbwcavafa8x7y1.csdf\"\nNMR_data = cp.load(filename)\nprint(NMR_data.data_structure)"
      ]
    },
    {
      "cell_type": "markdown",
      "metadata": {},
      "source": [
        "This particular example illustrates two additional attributes of the CSD model,\nnamely, the :attr:`~csdmpy.CSDM.geographic_coordinate` and\n:attr:`~csdmpy.CSDM.tags`. The `geographic_coordinate` described the\nlocation where the CSDM file was last serialized. You may access this\nattribute through,\n\n"
      ]
    },
    {
      "cell_type": "code",
      "execution_count": null,
      "metadata": {
        "collapsed": false
      },
      "outputs": [],
      "source": [
        "NMR_data.geographic_coordinate"
      ]
    },
    {
      "cell_type": "markdown",
      "metadata": {},
      "source": [
        "The `tags` attribute is a list of keywords that best describe the dataset.\nThe `tags` attribute is accessed through,\n\n"
      ]
    },
    {
      "cell_type": "code",
      "execution_count": null,
      "metadata": {
        "collapsed": false
      },
      "outputs": [],
      "source": [
        "NMR_data.tags"
      ]
    },
    {
      "cell_type": "markdown",
      "metadata": {},
      "source": [
        "You may add additional tags, if so desired, using the `append`\nmethod of python's list class, for example,\n\n"
      ]
    },
    {
      "cell_type": "code",
      "execution_count": null,
      "metadata": {
        "collapsed": false
      },
      "outputs": [],
      "source": [
        "NMR_data.tags.append(\"Bloch decay\")\nNMR_data.tags"
      ]
    },
    {
      "cell_type": "markdown",
      "metadata": {},
      "source": [
        "The coordinates along the dimension are\n\n"
      ]
    },
    {
      "cell_type": "code",
      "execution_count": null,
      "metadata": {
        "collapsed": false
      },
      "outputs": [],
      "source": [
        "x = NMR_data.dimensions\nx0 = x[0].coordinates\nprint(x0)"
      ]
    },
    {
      "cell_type": "markdown",
      "metadata": {},
      "source": [
        "Unlike the previous example, the data structure of an NMR measurement is\na complex-valued dependent variable. The numeric type of the components from\na dependent variable is accessed through the\n:attr:`~csdmpy.DependentVariable.numeric_type` attribute.\n\n"
      ]
    },
    {
      "cell_type": "code",
      "execution_count": null,
      "metadata": {
        "collapsed": false
      },
      "outputs": [],
      "source": [
        "y = NMR_data.dependent_variables\nprint(y[0].numeric_type)"
      ]
    },
    {
      "cell_type": "markdown",
      "metadata": {},
      "source": [
        "**Visualizing the dataset**\n\nIn the previous example, we illustrated a matplotlib script for plotting 1D data.\nHere, we use the csdmpy :meth:`~csdmpy.plot` method, which is a supplementary method\nfor plotting 1D and 2D datasets only.\n\n"
      ]
    },
    {
      "cell_type": "code",
      "execution_count": null,
      "metadata": {
        "collapsed": false
      },
      "outputs": [],
      "source": [
        "plt.figure(figsize=(6, 4))\ncp.plot(NMR_data.real)\nplt.tight_layout()\nplt.show()"
      ]
    },
    {
      "cell_type": "markdown",
      "metadata": {},
      "source": [
        "**Reciprocal dimension object**\n\nWhen closely observing the dimension instance of `NMR_data`,\n\n"
      ]
    },
    {
      "cell_type": "code",
      "execution_count": null,
      "metadata": {
        "collapsed": false
      },
      "outputs": [],
      "source": [
        "print(x[0].data_structure)"
      ]
    },
    {
      "cell_type": "markdown",
      "metadata": {},
      "source": [
        "notice, there is a reciprocal keyword. The\n:attr:`~csdmpy.Dimension.reciprocal` attribute is useful for datasets\nthat frequently transform to a reciprocal domain, such as the NMR dataset.\nThe value of the reciprocal attribute is the reciprocal object, which contains metadata\nfor describing the reciprocal coordinates, such as the `coordinates_offset`,\n`origin_offset` of the reciprocal dimension.\n\nYou may perform a fourier transform to visualize the NMR spectrum. Use the\n:meth:`~csdmpy.CSDM.fft` method on the csdm object ``NMR_data`` as follows\n\n"
      ]
    },
    {
      "cell_type": "code",
      "execution_count": null,
      "metadata": {
        "collapsed": false
      },
      "outputs": [],
      "source": [
        "fft_NMR_data = NMR_data.fft()\n\n# plot of the time domain data.\nplt.figure(figsize=(6, 4))\ncp.plot(fft_NMR_data.real)\nplt.tight_layout()\nplt.show()"
      ]
    },
    {
      "cell_type": "markdown",
      "metadata": {},
      "source": [
        "To return to time domain signal, use the :meth:`~csdmpy.CSDM.fft` method on the\n``fft_NMR_data`` object,\n\n"
      ]
    },
    {
      "cell_type": "code",
      "execution_count": null,
      "metadata": {
        "collapsed": false
      },
      "outputs": [],
      "source": [
        "NMR_data_2 = fft_NMR_data.fft()\n\n# plot of the frequency domain data.\nplt.figure(figsize=(6, 4))\ncp.plot(NMR_data_2.real)\nplt.tight_layout()\nplt.show()"
      ]
    }
  ],
  "metadata": {
    "kernelspec": {
      "display_name": "Python 3",
      "language": "python",
      "name": "python3"
    },
    "language_info": {
      "codemirror_mode": {
        "name": "ipython",
        "version": 3
      },
      "file_extension": ".py",
      "mimetype": "text/x-python",
      "name": "python",
      "nbconvert_exporter": "python",
      "pygments_lexer": "ipython3",
      "version": "3.7.7"
    }
  },
  "nbformat": 4,
  "nbformat_minor": 0
}