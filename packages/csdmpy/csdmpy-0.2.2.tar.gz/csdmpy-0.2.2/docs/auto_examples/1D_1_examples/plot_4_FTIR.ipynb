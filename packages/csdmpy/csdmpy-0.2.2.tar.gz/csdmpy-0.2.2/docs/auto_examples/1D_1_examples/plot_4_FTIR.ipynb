{
  "cells": [
    {
      "cell_type": "code",
      "execution_count": null,
      "metadata": {
        "collapsed": false
      },
      "outputs": [],
      "source": [
        "%matplotlib inline"
      ]
    },
    {
      "cell_type": "markdown",
      "metadata": {},
      "source": [
        "\nFourier Transform Infrared Spectroscopy (FTIR) dataset\n^^^^^^^^^^^^^^^^^^^^^^^^^^^^^^^^^^^^^^^^^^^^^^^^^^^^^^\n"
      ]
    },
    {
      "cell_type": "markdown",
      "metadata": {},
      "source": [
        "The following\n`FTIR dataset <http://wwwchem.uwimona.edu.jm/spectra/index.html>`_,\nwas obtained as a JCAMP-DX file, and subsequently converted to the CSD model\nfile-format. The data structure of the FTIR dataset follows,\n\n"
      ]
    },
    {
      "cell_type": "code",
      "execution_count": null,
      "metadata": {
        "collapsed": false
      },
      "outputs": [],
      "source": [
        "import matplotlib.pyplot as plt\n\nimport csdmpy as cp\n\nfilename = \"https://osu.box.com/shared/static/0iw0egupb1hkulkbdq4hagzzhkbvqjkv.csdf\"\nFTIR_data = cp.load(filename)\nprint(FTIR_data.data_structure)"
      ]
    },
    {
      "cell_type": "markdown",
      "metadata": {},
      "source": [
        "and the corresponding plot.\n\n"
      ]
    },
    {
      "cell_type": "code",
      "execution_count": null,
      "metadata": {
        "collapsed": false
      },
      "outputs": [],
      "source": [
        "plt.figure(figsize=(6, 4))\ncp.plot(FTIR_data, reverse_axis=[True])\nplt.tight_layout()\nplt.show()"
      ]
    },
    {
      "cell_type": "markdown",
      "metadata": {},
      "source": [
        "Because, FTIR spectrum is conventionally displayed on a reverse axis, an\noptional `reverse_axis` argument is provided to the :meth:`~csdmpy.plot` method.\nIts value is an order list of boolean, corresponding to the order of the\ndimensions.\n\n"
      ]
    }
  ],
  "metadata": {
    "kernelspec": {
      "display_name": "Python 3",
      "language": "python",
      "name": "python3"
    },
    "language_info": {
      "codemirror_mode": {
        "name": "ipython",
        "version": 3
      },
      "file_extension": ".py",
      "mimetype": "text/x-python",
      "name": "python",
      "nbconvert_exporter": "python",
      "pygments_lexer": "ipython3",
      "version": "3.7.7"
    }
  },
  "nbformat": 4,
  "nbformat_minor": 0
}