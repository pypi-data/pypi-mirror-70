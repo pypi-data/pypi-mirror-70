{
  "cells": [
    {
      "cell_type": "code",
      "execution_count": null,
      "metadata": {
        "collapsed": false
      },
      "outputs": [],
      "source": [
        "%matplotlib inline"
      ]
    },
    {
      "cell_type": "markdown",
      "metadata": {},
      "source": [
        "\nAstronomy dataset\n^^^^^^^^^^^^^^^^^\n"
      ]
    },
    {
      "cell_type": "markdown",
      "metadata": {},
      "source": [
        "The following dataset is a new observation of the Bubble Nebula\nacquired by\n`The Hubble Heritage Team <https://archive.stsci.edu/prepds/heritage/bubble/introduction.html>`_,\nin February 2016. The original dataset was obtained in the FITS format\nand subsequently converted to the CSD model file-format. For the convenience of\nillustration, we have downsampled the original dataset.\n\nLet's load the `.csdfe` file and look at its data structure.\n\n"
      ]
    },
    {
      "cell_type": "code",
      "execution_count": null,
      "metadata": {
        "collapsed": false
      },
      "outputs": [],
      "source": [
        "import matplotlib.pyplot as plt\n\nimport csdmpy as cp\n\nfilename = \"https://osu.box.com/shared/static/0p3o1ga1kqno4dk4sooi1rbk29pbs3mm.csdf\"\nbubble_nebula = cp.load(filename)\nprint(bubble_nebula.data_structure)"
      ]
    },
    {
      "cell_type": "markdown",
      "metadata": {},
      "source": [
        "Here, the variable ``bubble_nebula`` is an instance of the `csdm_api`\nclass. From the data structure, one finds two dimensions, labeled as\n*Right Ascension* and *Declination*, and one single-component dependent\nvariable named *Bubble Nebula, 656nm*.\n\n"
      ]
    },
    {
      "cell_type": "markdown",
      "metadata": {},
      "source": [
        "Let's get the tuple of the dimension and dependent variable instances from\nthe ``bubble_nebula`` instance following,\n\n"
      ]
    },
    {
      "cell_type": "code",
      "execution_count": null,
      "metadata": {
        "collapsed": false
      },
      "outputs": [],
      "source": [
        "x = bubble_nebula.dimensions\ny = bubble_nebula.dependent_variables"
      ]
    },
    {
      "cell_type": "markdown",
      "metadata": {},
      "source": [
        "There are two dimension instances in ``x``. Let's look\nat the coordinates along each dimension, using the\n:attr:`~csdmpy.Dimension.coordinates` attribute of the\nrespective instances.\n\n"
      ]
    },
    {
      "cell_type": "code",
      "execution_count": null,
      "metadata": {
        "collapsed": false
      },
      "outputs": [],
      "source": [
        "print(x[0].coordinates[:10])"
      ]
    },
    {
      "cell_type": "code",
      "execution_count": null,
      "metadata": {
        "collapsed": false
      },
      "outputs": [],
      "source": [
        "print(x[1].coordinates[:10])"
      ]
    },
    {
      "cell_type": "markdown",
      "metadata": {},
      "source": [
        "Here, we only print the first ten coordinates along the respective dimensions.\n\n"
      ]
    },
    {
      "cell_type": "markdown",
      "metadata": {},
      "source": [
        "The component of the dependent variable is accessed through the\n:attr:`~csdmpy.DependentVariable.components` attribute.\n\n"
      ]
    },
    {
      "cell_type": "code",
      "execution_count": null,
      "metadata": {
        "collapsed": false
      },
      "outputs": [],
      "source": [
        "y00 = y[0].components[0]"
      ]
    },
    {
      "cell_type": "markdown",
      "metadata": {},
      "source": [
        "**Visualize the dataset**\n\n"
      ]
    },
    {
      "cell_type": "code",
      "execution_count": null,
      "metadata": {
        "collapsed": false
      },
      "outputs": [],
      "source": [
        "from matplotlib.colors import LogNorm\n\nplt.figure(figsize=(6, 4))\ncp.plot(bubble_nebula, norm=LogNorm(vmin=7.5e-3, clip=True))\nplt.tight_layout()\nplt.show()"
      ]
    },
    {
      "cell_type": "markdown",
      "metadata": {},
      "source": [
        "<div class=\"alert alert-info\"><h4>Note</h4><p>For 2D{1} datasets, the :meth:`~csdmpy.plot` method utilizes the matplotlib `imshow`\n  method to render figures. Any additional arguments provided to the :meth:`~csdmpy.plot`\n  method becomes the arguments for the matplotlib `imshow` method. In the above\n  example, the argument `norm` is the argument for the `imshow` method.</p></div>\n\n"
      ]
    }
  ],
  "metadata": {
    "kernelspec": {
      "display_name": "Python 3",
      "language": "python",
      "name": "python3"
    },
    "language_info": {
      "codemirror_mode": {
        "name": "ipython",
        "version": 3
      },
      "file_extension": ".py",
      "mimetype": "text/x-python",
      "name": "python",
      "nbconvert_exporter": "python",
      "pygments_lexer": "ipython3",
      "version": "3.7.7"
    }
  },
  "nbformat": 4,
  "nbformat_minor": 0
}