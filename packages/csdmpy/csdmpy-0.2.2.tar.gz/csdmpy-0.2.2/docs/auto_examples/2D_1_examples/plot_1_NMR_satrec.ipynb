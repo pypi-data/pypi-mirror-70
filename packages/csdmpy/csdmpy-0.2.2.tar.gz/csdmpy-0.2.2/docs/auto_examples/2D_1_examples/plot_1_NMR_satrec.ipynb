{
  "cells": [
    {
      "cell_type": "code",
      "execution_count": null,
      "metadata": {
        "collapsed": false
      },
      "outputs": [],
      "source": [
        "%matplotlib inline"
      ]
    },
    {
      "cell_type": "markdown",
      "metadata": {},
      "source": [
        "\nNuclear Magnetic Resonance (NMR) dataset\n^^^^^^^^^^^^^^^^^^^^^^^^^^^^^^^^^^^^^^^^\n"
      ]
    },
    {
      "cell_type": "markdown",
      "metadata": {},
      "source": [
        "The following example is a $^{29}\\mathrm{Si}$ NMR time-domain\nsaturation recovery measurement of a highly siliceous zeolite ZSM-12.\nUsually, the spin recovery measurements are acquired over a rectilinear grid\nwhere the measurements along one of the dimensions are non-uniform and span several\norders of magnitude. In this example, we illustrate the use of `monotonic`\ndimensions for describing such datasets.\n\nLet's load the file.\n\n"
      ]
    },
    {
      "cell_type": "code",
      "execution_count": null,
      "metadata": {
        "collapsed": false
      },
      "outputs": [],
      "source": [
        "import csdmpy as cp\n\nfilename = \"https://osu.box.com/shared/static/27yrgdaubtb4wqj5adbavp2u16c2h7k8.csdf\"\nNMR_2D_data = cp.load(filename)\nprint(NMR_2D_data.description)"
      ]
    },
    {
      "cell_type": "markdown",
      "metadata": {},
      "source": [
        "The tuples of the dimension and dependent variable instances from the\n``NMR_2D_data`` instance are\n\n"
      ]
    },
    {
      "cell_type": "code",
      "execution_count": null,
      "metadata": {
        "collapsed": false
      },
      "outputs": [],
      "source": [
        "x = NMR_2D_data.dimensions\ny = NMR_2D_data.dependent_variables"
      ]
    },
    {
      "cell_type": "markdown",
      "metadata": {},
      "source": [
        "respectively. There are two dimension instances in this example with respective\ndimension data structures as\n\n"
      ]
    },
    {
      "cell_type": "code",
      "execution_count": null,
      "metadata": {
        "collapsed": false
      },
      "outputs": [],
      "source": [
        "print(x[0].data_structure)"
      ]
    },
    {
      "cell_type": "markdown",
      "metadata": {},
      "source": [
        "and\n\n"
      ]
    },
    {
      "cell_type": "code",
      "execution_count": null,
      "metadata": {
        "collapsed": false
      },
      "outputs": [],
      "source": [
        "print(x[1].data_structure)"
      ]
    },
    {
      "cell_type": "markdown",
      "metadata": {},
      "source": [
        "respectively. The first dimension is uniformly spaced, as indicated by the\n`linear` subtype, while the second dimension is non-linear and monotonically\nsampled. The coordinates along the respective dimensions are\n\n"
      ]
    },
    {
      "cell_type": "code",
      "execution_count": null,
      "metadata": {
        "collapsed": false
      },
      "outputs": [],
      "source": [
        "x0 = x[0].coordinates\nprint(x0)"
      ]
    },
    {
      "cell_type": "code",
      "execution_count": null,
      "metadata": {
        "collapsed": false
      },
      "outputs": [],
      "source": [
        "x1 = x[1].coordinates\nprint(x1)"
      ]
    },
    {
      "cell_type": "markdown",
      "metadata": {},
      "source": [
        "Notice, the unit of ``x0`` is in microseconds. It might be convenient to\nconvert the unit to milliseconds. To do so, use the\n:meth:`~csdmpy.Dimension.to` method of the respective\n`dim_api` instance as follows,\n\n"
      ]
    },
    {
      "cell_type": "code",
      "execution_count": null,
      "metadata": {
        "collapsed": false
      },
      "outputs": [],
      "source": [
        "x[0].to(\"ms\")\nx0 = x[0].coordinates\nprint(x0)"
      ]
    },
    {
      "cell_type": "markdown",
      "metadata": {},
      "source": [
        "As before, the components of the dependent variable are accessed using the\n:attr:`~csdmpy.DependentVariable.components` attribute.\n\n"
      ]
    },
    {
      "cell_type": "code",
      "execution_count": null,
      "metadata": {
        "collapsed": false
      },
      "outputs": [],
      "source": [
        "y00 = y[0].components[0]"
      ]
    },
    {
      "cell_type": "markdown",
      "metadata": {},
      "source": [
        "**Visualize the dataset**\n\nThe :meth:`~csdmpy.plot` method is a very basic supplementary function for\nquick visualization of 1D and 2D datasets. You may use this function to plot\nthe data from this example, however, we use the following script to\nvisualize the data with projections onto the respective dimensions.\n\n"
      ]
    },
    {
      "cell_type": "code",
      "execution_count": null,
      "metadata": {
        "collapsed": false
      },
      "outputs": [],
      "source": [
        "import matplotlib.pyplot as plt\nfrom matplotlib.image import NonUniformImage\nimport numpy as np\n\n# Set the extents of the image.\n# To set the independent variable coordinates at the center of each image\n# pixel, subtract and add half the sampling interval from the first\n# and the last coordinate, respectively, of the linearly sampled\n# dimension, i.e., x0.\nsi = x[0].increment\nextent = (\n    (x0[0] - 0.5 * si).to(\"ms\").value,\n    (x0[-1] + 0.5 * si).to(\"ms\").value,\n    x1[0].value,\n    x1[-1].value,\n)\n\n# Create a 2x2 subplot grid. The subplot at the lower-left corner is for\n# the image intensity plot. The subplots at the top-left and bottom-right\n# are for the data slice at the horizontal and vertical cross-section,\n# respectively. The subplot at the top-right corner is empty.\nfig, axi = plt.subplots(\n    2, 2, gridspec_kw={\"width_ratios\": [4, 1], \"height_ratios\": [1, 4]}\n)\n\n# The image subplot quadrant.\n# Add an image over a rectilinear grid. Here, only the real part of the\n# data values is used.\nax = axi[1, 0]\nim = NonUniformImage(ax, interpolation=\"nearest\", extent=extent, cmap=\"bone_r\")\nim.set_data(x0, x1, y00.real / y00.real.max())\n\n# Add the colorbar and the component label.\ncbar = fig.colorbar(im)\ncbar.ax.set_ylabel(y[0].axis_label[0])\n\n# Set up the grid lines.\nax.images.append(im)\nfor i in range(x1.size):\n    ax.plot(x0, np.ones(x0.size) * x1[i], \"k--\", linewidth=0.5)\nax.grid(axis=\"x\", color=\"k\", linestyle=\"--\", linewidth=0.5, which=\"both\")\n\n# Setup the axes, add the axes labels, and the figure title.\nax.set_xlim([extent[0], extent[1]])\nax.set_ylim([extent[2], extent[3]])\nax.set_xlabel(x[0].axis_label)\nax.set_ylabel(x[1].axis_label)\nax.set_title(y[0].name)\n\n# Add the horizontal data slice to the top-left subplot.\nax0 = axi[0, 0]\ntop = y00[-1].real\nax0.plot(x0, top, \"k\", linewidth=0.5)\nax0.set_xlim([extent[0], extent[1]])\nax0.set_ylim([top.min(), top.max()])\nax0.axis(\"off\")\n\n# Add the vertical data slice to the bottom-right subplot.\nax1 = axi[1, 1]\nright = y00[:, 513].real\nax1.plot(right, x1, \"k\", linewidth=0.5)\nax1.set_ylim([extent[2], extent[3]])\nax1.set_xlim([right.min(), right.max()])\nax1.axis(\"off\")\n\n# Turn off the axis system for the top-right subplot.\naxi[0, 1].axis(\"off\")\n\nplt.tight_layout(pad=0.0, w_pad=0.0, h_pad=0.0)\nplt.subplots_adjust(wspace=0.025, hspace=0.05)\nplt.show()"
      ]
    }
  ],
  "metadata": {
    "kernelspec": {
      "display_name": "Python 3",
      "language": "python",
      "name": "python3"
    },
    "language_info": {
      "codemirror_mode": {
        "name": "ipython",
        "version": 3
      },
      "file_extension": ".py",
      "mimetype": "text/x-python",
      "name": "python",
      "nbconvert_exporter": "python",
      "pygments_lexer": "ipython3",
      "version": "3.7.7"
    }
  },
  "nbformat": 4,
  "nbformat_minor": 0
}