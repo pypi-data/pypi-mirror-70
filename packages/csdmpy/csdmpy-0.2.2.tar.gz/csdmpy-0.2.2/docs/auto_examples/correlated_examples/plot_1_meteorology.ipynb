{
  "cells": [
    {
      "cell_type": "code",
      "execution_count": null,
      "metadata": {
        "collapsed": false
      },
      "outputs": [],
      "source": [
        "%matplotlib inline"
      ]
    },
    {
      "cell_type": "markdown",
      "metadata": {},
      "source": [
        "\nMeteorological, 2D{1,1,2,1,1} dataset\n^^^^^^^^^^^^^^^^^^^^^^^^^^^^^^^^^^^^^\n"
      ]
    },
    {
      "cell_type": "code",
      "execution_count": null,
      "metadata": {
        "collapsed": false
      },
      "outputs": [],
      "source": [
        ""
      ]
    },
    {
      "cell_type": "markdown",
      "metadata": {},
      "source": [
        "The following dataset is obtained from `NOAA/NCEP Global Forecast System (GFS) Atmospheric Model\n<https://coastwatch.pfeg.noaa.gov/erddap/griddap/NCEP_Global_Best.graph?ugrd10m[(2017-09-17T12:00:00Z)][(-4.5):(52.0)][(275.0):(331.5)]&.draw=surface&.vars=longitude%7Clatitude%7Cugrd10m&.colorBar=%7C%7C%7C%7C%7C&.bgColor=0xffccccff>`_\nand subsequently converted to the CSD model file-format.\nThe dataset consists of two spatial dimensions describing the geographical\ncoordinates of the earth surface and five dependent variables with\n1) surface temperature, 2) air temperature at 2 m, 3) relative humidity,\n4) air pressure at sea level as the four `scalar` quantity_type dependent\nvariables, and 5) wind velocity as the two-component `vector`, quantity_type\ndependent variable.\n\nLet's import the `csdmpy` module and load this dataset.\n\n"
      ]
    },
    {
      "cell_type": "code",
      "execution_count": null,
      "metadata": {
        "collapsed": false
      },
      "outputs": [],
      "source": [
        "import csdmpy as cp\n\nfilename = \"https://osu.box.com/shared/static/6uhrtdxfisl4a14x9pndyze2mv414zyg.csdf\"\nmulti_dataset = cp.load(filename)"
      ]
    },
    {
      "cell_type": "markdown",
      "metadata": {},
      "source": [
        "The tuple of dimension and dependent variable objects from\n``multi_dataset`` instance are\n\n"
      ]
    },
    {
      "cell_type": "code",
      "execution_count": null,
      "metadata": {
        "collapsed": false
      },
      "outputs": [],
      "source": [
        "x = multi_dataset.dimensions\ny = multi_dataset.dependent_variables"
      ]
    },
    {
      "cell_type": "markdown",
      "metadata": {},
      "source": [
        "The dataset contains two dimension objects representing the `longitude` and\n`latitude` of the earth's surface. The labels along thee respective dimensions are\n\n"
      ]
    },
    {
      "cell_type": "code",
      "execution_count": null,
      "metadata": {
        "collapsed": false
      },
      "outputs": [],
      "source": [
        "x[0].label"
      ]
    },
    {
      "cell_type": "code",
      "execution_count": null,
      "metadata": {
        "collapsed": false
      },
      "outputs": [],
      "source": [
        "x[1].label"
      ]
    },
    {
      "cell_type": "markdown",
      "metadata": {},
      "source": [
        "There are a total of five dependent variables stored in this dataset. The first\ndependent variable is the surface air temperature. The data structure of this\ndependent variable is\n\n"
      ]
    },
    {
      "cell_type": "code",
      "execution_count": null,
      "metadata": {
        "collapsed": false
      },
      "outputs": [],
      "source": [
        "print(y[0].data_structure)"
      ]
    },
    {
      "cell_type": "markdown",
      "metadata": {},
      "source": [
        "If you have followed all previous examples, the above data structure should\nbe self-explanatory.\n\n"
      ]
    },
    {
      "cell_type": "markdown",
      "metadata": {},
      "source": [
        "We will use the following snippet to plot the dependent variables of scalar\n`quantity_type`.\n\n"
      ]
    },
    {
      "cell_type": "code",
      "execution_count": null,
      "metadata": {
        "collapsed": false
      },
      "outputs": [],
      "source": [
        "import numpy as np\nimport matplotlib.pyplot as plt\nfrom mpl_toolkits.axes_grid1 import make_axes_locatable\n\n\ndef plot_scalar(yx):\n    fig, ax = plt.subplots(1, 1, figsize=(6, 3))\n\n    # Set the extents of the image plot.\n    extent = [\n        x[0].coordinates[0].value,\n        x[0].coordinates[-1].value,\n        x[1].coordinates[0].value,\n        x[1].coordinates[-1].value,\n    ]\n\n    # Add the image plot.\n    im = ax.imshow(yx.components[0], origin=\"lower\", extent=extent, cmap=\"coolwarm\")\n\n    # Add a colorbar.\n    divider = make_axes_locatable(ax)\n    cax = divider.append_axes(\"right\", size=\"5%\", pad=0.05)\n    cbar = fig.colorbar(im, cax)\n    cbar.ax.set_ylabel(yx.axis_label[0])\n\n    # Set up the axes label and figure title.\n    ax.set_xlabel(x[0].axis_label)\n    ax.set_ylabel(x[1].axis_label)\n    ax.set_title(yx.name)\n\n    # Set up the grid lines.\n    ax.grid(color=\"k\", linestyle=\"--\", linewidth=0.5)\n\n    plt.tight_layout()\n    plt.show()"
      ]
    },
    {
      "cell_type": "markdown",
      "metadata": {},
      "source": [
        "Now to plot the data from the dependent variable.\n\n"
      ]
    },
    {
      "cell_type": "code",
      "execution_count": null,
      "metadata": {
        "collapsed": false
      },
      "outputs": [],
      "source": [
        "plot_scalar(y[0])"
      ]
    },
    {
      "cell_type": "markdown",
      "metadata": {},
      "source": [
        "Similarly, other dependent variables with their respective plots are\n\n"
      ]
    },
    {
      "cell_type": "code",
      "execution_count": null,
      "metadata": {
        "collapsed": false
      },
      "outputs": [],
      "source": [
        "y[1].name"
      ]
    },
    {
      "cell_type": "code",
      "execution_count": null,
      "metadata": {
        "collapsed": false
      },
      "outputs": [],
      "source": [
        "plot_scalar(y[1])"
      ]
    },
    {
      "cell_type": "code",
      "execution_count": null,
      "metadata": {
        "collapsed": false
      },
      "outputs": [],
      "source": [
        "y[3].name"
      ]
    },
    {
      "cell_type": "code",
      "execution_count": null,
      "metadata": {
        "collapsed": false
      },
      "outputs": [],
      "source": [
        "plot_scalar(y[3])"
      ]
    },
    {
      "cell_type": "code",
      "execution_count": null,
      "metadata": {
        "collapsed": false
      },
      "outputs": [],
      "source": [
        "y[4].name"
      ]
    },
    {
      "cell_type": "code",
      "execution_count": null,
      "metadata": {
        "collapsed": false
      },
      "outputs": [],
      "source": [
        "plot_scalar(y[4])"
      ]
    },
    {
      "cell_type": "markdown",
      "metadata": {},
      "source": [
        "Notice, we skipped the dependent variable at index two. The reason is that\nthis particular dependent variable is a vector dataset,\n\n"
      ]
    },
    {
      "cell_type": "code",
      "execution_count": null,
      "metadata": {
        "collapsed": false
      },
      "outputs": [],
      "source": [
        "y[2].quantity_type"
      ]
    },
    {
      "cell_type": "code",
      "execution_count": null,
      "metadata": {
        "collapsed": false
      },
      "outputs": [],
      "source": [
        "y[2].name"
      ]
    },
    {
      "cell_type": "markdown",
      "metadata": {},
      "source": [
        "which represents the wind velocity, and requires a vector visualization\nroutine. To visualize the vector data, we use the matplotlib quiver plot.\n\n"
      ]
    },
    {
      "cell_type": "code",
      "execution_count": null,
      "metadata": {
        "collapsed": false
      },
      "outputs": [],
      "source": [
        "def plot_vector(yx):\n    fig, ax = plt.subplots(1, 1, figsize=(6, 3))\n    magnitude = np.sqrt(yx.components[0] ** 2 + yx.components[1] ** 2)\n\n    cf = ax.quiver(\n        x[0].coordinates,\n        x[1].coordinates,\n        yx.components[0],\n        yx.components[1],\n        magnitude,\n        pivot=\"middle\",\n        cmap=\"inferno\",\n    )\n    divider = make_axes_locatable(ax)\n    cax = divider.append_axes(\"right\", size=\"5%\", pad=0.05)\n    cbar = fig.colorbar(cf, cax)\n    cbar.ax.set_ylabel(yx.name + \" / \" + str(yx.unit))\n\n    ax.set_xlim([x[0].coordinates[0].value, x[0].coordinates[-1].value])\n    ax.set_ylim([x[1].coordinates[0].value, x[1].coordinates[-1].value])\n\n    # Set axes labels and figure title.\n    ax.set_xlabel(x[0].axis_label)\n    ax.set_ylabel(x[1].axis_label)\n    ax.set_title(yx.name)\n\n    # Set grid lines.\n    ax.grid(color=\"gray\", linestyle=\"--\", linewidth=0.5)\n\n    plt.tight_layout()\n    plt.show()"
      ]
    },
    {
      "cell_type": "code",
      "execution_count": null,
      "metadata": {
        "collapsed": false
      },
      "outputs": [],
      "source": [
        "plot_vector(y[2])"
      ]
    }
  ],
  "metadata": {
    "kernelspec": {
      "display_name": "Python 3",
      "language": "python",
      "name": "python3"
    },
    "language_info": {
      "codemirror_mode": {
        "name": "ipython",
        "version": 3
      },
      "file_extension": ".py",
      "mimetype": "text/x-python",
      "name": "python",
      "nbconvert_exporter": "python",
      "pygments_lexer": "ipython3",
      "version": "3.7.7"
    }
  },
  "nbformat": 4,
  "nbformat_minor": 0
}