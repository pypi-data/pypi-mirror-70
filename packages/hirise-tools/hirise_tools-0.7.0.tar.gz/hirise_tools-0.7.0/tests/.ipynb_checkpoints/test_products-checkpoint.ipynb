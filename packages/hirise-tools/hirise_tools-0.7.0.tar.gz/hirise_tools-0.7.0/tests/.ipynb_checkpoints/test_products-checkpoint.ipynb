{
 "cells": [
  {
   "cell_type": "markdown",
   "metadata": {
    "toc": "true"
   },
   "source": [
    "# Table of Contents\n",
    " <p><div class=\"lev1 toc-item\"><a href=\"#PRODUCT_ID\" data-toc-modified-id=\"PRODUCT_ID-1\"><span class=\"toc-item-num\">1&nbsp;&nbsp;</span>PRODUCT_ID</a></div><div class=\"lev1 toc-item\"><a href=\"#SOURCE_PRODUCT_ID\" data-toc-modified-id=\"SOURCE_PRODUCT_ID-2\"><span class=\"toc-item-num\">2&nbsp;&nbsp;</span>SOURCE_PRODUCT_ID</a></div><div class=\"lev1 toc-item\"><a href=\"#HiRISE_URL\" data-toc-modified-id=\"HiRISE_URL-3\"><span class=\"toc-item-num\">3&nbsp;&nbsp;</span>HiRISE_URL</a></div><div class=\"lev1 toc-item\"><a href=\"#others\" data-toc-modified-id=\"others-4\"><span class=\"toc-item-num\">4&nbsp;&nbsp;</span>others</a></div>"
   ]
  },
  {
   "cell_type": "code",
   "execution_count": 1,
   "metadata": {
    "ExecuteTime": {
     "end_time": "2017-06-15T17:47:32.504651Z",
     "start_time": "2017-06-15T17:47:32.452553Z"
    }
   },
   "outputs": [],
   "source": [
    "# setup \n",
    "from hirise_tools import products as prod\n",
    "\n",
    "obsid = prod.OBSERVATION_ID('PSP_003072_0985')"
   ]
  },
  {
   "cell_type": "code",
   "execution_count": 2,
   "metadata": {
    "ExecuteTime": {
     "end_time": "2017-06-15T17:47:32.581960Z",
     "start_time": "2017-06-15T17:47:32.530906Z"
    }
   },
   "outputs": [],
   "source": [
    "# test orbit number\n",
    "assert obsid.orbit == '003072'"
   ]
  },
  {
   "cell_type": "code",
   "execution_count": 3,
   "metadata": {
    "ExecuteTime": {
     "end_time": "2017-06-15T17:47:33.779549Z",
     "start_time": "2017-06-15T17:47:33.749348Z"
    }
   },
   "outputs": [],
   "source": [
    "# test setting orbit property\n",
    "obsid.orbit = 4080\n",
    "assert obsid.orbit == '004080'"
   ]
  },
  {
   "cell_type": "code",
   "execution_count": 4,
   "metadata": {
    "ExecuteTime": {
     "end_time": "2017-06-15T17:47:34.526591Z",
     "start_time": "2017-06-15T17:47:34.498869Z"
    }
   },
   "outputs": [],
   "source": [
    "# test repr\n",
    "assert obsid.__repr__() == 'PSP_004080_0985'"
   ]
  },
  {
   "cell_type": "code",
   "execution_count": 5,
   "metadata": {
    "ExecuteTime": {
     "end_time": "2017-06-15T17:47:35.343590Z",
     "start_time": "2017-06-15T17:47:35.309104Z"
    }
   },
   "outputs": [],
   "source": [
    "# test targetcode\n",
    "assert obsid.targetcode == '0985'"
   ]
  },
  {
   "cell_type": "code",
   "execution_count": 6,
   "metadata": {
    "ExecuteTime": {
     "end_time": "2017-06-15T17:47:38.520866Z",
     "start_time": "2017-06-15T17:47:38.489259Z"
    }
   },
   "outputs": [],
   "source": [
    "# test setting targetcode property\n",
    "obsid.targetcode = '0980'\n",
    "assert obsid.targetcode == '0980'\n",
    "assert obsid.__repr__() == 'PSP_004080_0980'"
   ]
  },
  {
   "cell_type": "code",
   "execution_count": 7,
   "metadata": {
    "ExecuteTime": {
     "end_time": "2017-06-15T17:47:39.601821Z",
     "start_time": "2017-06-15T17:47:39.570669Z"
    }
   },
   "outputs": [],
   "source": [
    "# test phase\n",
    "assert obsid.phase == 'PSP'"
   ]
  },
  {
   "cell_type": "code",
   "execution_count": 8,
   "metadata": {
    "ExecuteTime": {
     "end_time": "2017-06-15T17:47:41.355806Z",
     "start_time": "2017-06-15T17:47:41.318919Z"
    }
   },
   "outputs": [],
   "source": [
    "# test upper orbit folder\n",
    "assert obsid.get_upper_orbit_folder() == 'ORB_004000_004099'"
   ]
  },
  {
   "cell_type": "code",
   "execution_count": 9,
   "metadata": {
    "ExecuteTime": {
     "end_time": "2017-06-15T17:47:41.980909Z",
     "start_time": "2017-06-15T17:47:41.950378Z"
    }
   },
   "outputs": [],
   "source": [
    "# test storage path stem\n",
    "assert obsid.storage_path_stem == 'PSP/ORB_004000_004099/PSP_004080_0980'"
   ]
  },
  {
   "cell_type": "markdown",
   "metadata": {},
   "source": [
    "# PRODUCT_ID"
   ]
  },
  {
   "cell_type": "code",
   "execution_count": 10,
   "metadata": {
    "ExecuteTime": {
     "end_time": "2017-06-15T17:47:43.603081Z",
     "start_time": "2017-06-15T17:47:43.572420Z"
    }
   },
   "outputs": [
    {
     "data": {
      "text/plain": [
       "PSP_003072_0985_None"
      ]
     },
     "execution_count": 10,
     "metadata": {},
     "output_type": "execute_result"
    }
   ],
   "source": [
    "pid = prod.PRODUCT_ID('PSP_003072_0985')\n",
    "pid"
   ]
  },
  {
   "cell_type": "code",
   "execution_count": 11,
   "metadata": {
    "ExecuteTime": {
     "end_time": "2017-06-15T17:47:44.211295Z",
     "start_time": "2017-06-15T17:47:44.183299Z"
    }
   },
   "outputs": [
    {
     "data": {
      "text/plain": [
       "PSP_003072_0985_RED"
      ]
     },
     "execution_count": 11,
     "metadata": {},
     "output_type": "execute_result"
    }
   ],
   "source": [
    "pid.kind = 'RED'\n",
    "pid"
   ]
  },
  {
   "cell_type": "code",
   "execution_count": 12,
   "metadata": {
    "ExecuteTime": {
     "end_time": "2017-06-15T17:47:44.767449Z",
     "start_time": "2017-06-15T17:47:44.736710Z"
    }
   },
   "outputs": [
    {
     "data": {
      "text/plain": [
       "'PSP_003072_0985_RED'"
      ]
     },
     "execution_count": 12,
     "metadata": {},
     "output_type": "execute_result"
    }
   ],
   "source": [
    "pid.s"
   ]
  },
  {
   "cell_type": "code",
   "execution_count": 13,
   "metadata": {
    "ExecuteTime": {
     "end_time": "2017-06-15T17:47:45.154009Z",
     "start_time": "2017-06-15T17:47:45.125862Z"
    }
   },
   "outputs": [
    {
     "data": {
      "text/plain": [
       "'PSP/ORB_003000_003099/PSP_003072_0985/PSP_003072_0985_RED'"
      ]
     },
     "execution_count": 13,
     "metadata": {},
     "output_type": "execute_result"
    }
   ],
   "source": [
    "pid.storage_stem"
   ]
  },
  {
   "cell_type": "code",
   "execution_count": 14,
   "metadata": {
    "ExecuteTime": {
     "end_time": "2017-06-15T17:47:45.626866Z",
     "start_time": "2017-06-15T17:47:45.598788Z"
    }
   },
   "outputs": [
    {
     "data": {
      "text/plain": [
       "'PSP_003072_0985_RED.LBL'"
      ]
     },
     "execution_count": 14,
     "metadata": {},
     "output_type": "execute_result"
    }
   ],
   "source": [
    "pid.label_fname"
   ]
  },
  {
   "cell_type": "code",
   "execution_count": 15,
   "metadata": {
    "ExecuteTime": {
     "end_time": "2017-06-15T17:47:46.071327Z",
     "start_time": "2017-06-15T17:47:46.036784Z"
    }
   },
   "outputs": [
    {
     "data": {
      "text/plain": [
       "'RDR/PSP/ORB_003000_003099/PSP_003072_0985/PSP_003072_0985_RED.LBL'"
      ]
     },
     "execution_count": 15,
     "metadata": {},
     "output_type": "execute_result"
    }
   ],
   "source": [
    "pid.label_path"
   ]
  },
  {
   "cell_type": "code",
   "execution_count": 16,
   "metadata": {
    "ExecuteTime": {
     "end_time": "2017-06-15T17:47:46.590947Z",
     "start_time": "2017-06-15T17:47:46.559687Z"
    }
   },
   "outputs": [
    {
     "data": {
      "text/plain": [
       "'PSP_003072_0985_RED.JP2'"
      ]
     },
     "execution_count": 16,
     "metadata": {},
     "output_type": "execute_result"
    }
   ],
   "source": [
    "pid.jp2_fname"
   ]
  },
  {
   "cell_type": "code",
   "execution_count": 17,
   "metadata": {
    "ExecuteTime": {
     "end_time": "2017-06-15T17:47:47.428062Z",
     "start_time": "2017-06-15T17:47:47.396118Z"
    }
   },
   "outputs": [
    {
     "data": {
      "text/plain": [
       "'RDR/PSP/ORB_003000_003099/PSP_003072_0985/PSP_003072_0985_RED.JP2'"
      ]
     },
     "execution_count": 17,
     "metadata": {},
     "output_type": "execute_result"
    }
   ],
   "source": [
    "pid.jp2_path"
   ]
  },
  {
   "cell_type": "code",
   "execution_count": 18,
   "metadata": {
    "ExecuteTime": {
     "end_time": "2017-06-15T17:47:48.937389Z",
     "start_time": "2017-06-15T17:47:48.872313Z"
    },
    "scrolled": false
   },
   "outputs": [
    {
     "name": "stdout",
     "output_type": "stream",
     "text": [
      "_kind :\n",
      "RED\n",
      "\n",
      "abrowse_path :\n",
      "EXTRAS/RDR/PSP/ORB_003000_003099/PSP_003072_0985/PSP_003072_0985_RED.abrowse.jpg\n",
      "\n",
      "browse_path :\n",
      "EXTRAS/RDR/PSP/ORB_003000_003099/PSP_003072_0985/PSP_003072_0985_RED.browse.jpg\n",
      "\n",
      "edr_storage_stem :\n",
      "EDR/PSP/ORB_003000_003099/PSP_003072_0985/PSP_003072_0985_RED\n",
      "\n",
      "from_path :\n",
      "<bound method PRODUCT_ID.from_path of <class 'hirise_tools.products.PRODUCT_ID'>>\n",
      "\n",
      "jp2_fname :\n",
      "PSP_003072_0985_RED.JP2\n",
      "\n",
      "jp2_path :\n",
      "RDR/PSP/ORB_003000_003099/PSP_003072_0985/PSP_003072_0985_RED.JP2\n",
      "\n",
      "kind :\n",
      "RED\n",
      "\n",
      "kinds :\n",
      "['RED', 'BG', 'IR', 'COLOR', 'IRB', 'MIRB', 'MRGB', 'RGB']\n",
      "\n",
      "label_fname :\n",
      "PSP_003072_0985_RED.LBL\n",
      "\n",
      "label_path :\n",
      "RDR/PSP/ORB_003000_003099/PSP_003072_0985/PSP_003072_0985_RED.LBL\n",
      "\n",
      "label_url :\n",
      "https://hirise-pds.lpl.arizona.edu/PDS/RDR/PSP/ORB_003000_003099/PSP_003072_0985/PSP_003072_0985_RED.LBL\n",
      "\n",
      "nomap_browse_path :\n",
      "EXTRAS/RDR/PSP/ORB_003000_003099/PSP_003072_0985/PSP_003072_0985_RED.NOMAP.browse.jpg\n",
      "\n",
      "nomap_jp2_path :\n",
      "RDR/EXTRAS/PSP/ORB_003000_003099/PSP_003072_0985/PSP_003072_0985_RED.NOMAP.JP2\n",
      "\n",
      "nomap_thumbnail_path :\n",
      "EXTRAS/RDR/PSP/ORB_003000_003099/PSP_003072_0985/PSP_003072_0985_RED.NOMAP.thumb.jpg\n",
      "\n",
      "obsid :\n",
      "PSP_003072_0985\n",
      "\n",
      "quicklook_path :\n",
      "EXTRAS/RDR/PSP/ORB_003000_003099/PSP_003072_0985/PSP_003072_0985_RED.QLOOK.JP2\n",
      "\n",
      "s :\n",
      "PSP_003072_0985_RED\n",
      "\n",
      "storage_stem :\n",
      "PSP/ORB_003000_003099/PSP_003072_0985/PSP_003072_0985_RED\n",
      "\n",
      "thumbnail_path :\n",
      "EXTRAS/RDR/PSP/ORB_003000_003099/PSP_003072_0985/PSP_003072_0985_RED.thumb.jpg\n",
      "\n"
     ]
    }
   ],
   "source": [
    "for item in dir(pid):\n",
    "    if not item.startswith('__'):\n",
    "        print(item,':')\n",
    "        print(getattr(pid, item))\n",
    "        print()"
   ]
  },
  {
   "cell_type": "markdown",
   "metadata": {},
   "source": [
    "# SOURCE_PRODUCT_ID"
   ]
  },
  {
   "cell_type": "code",
   "execution_count": 19,
   "metadata": {
    "ExecuteTime": {
     "end_time": "2017-06-15T17:47:50.415018Z",
     "start_time": "2017-06-15T17:47:50.383373Z"
    }
   },
   "outputs": [
    {
     "data": {
      "text/plain": [
       "SOURCE_PRODUCT_ID: PSP_003092_0985_RED4_0"
      ]
     },
     "execution_count": 19,
     "metadata": {},
     "output_type": "execute_result"
    }
   ],
   "source": [
    "spid = prod.SOURCE_PRODUCT_ID('PSP_003092_0985_RED4_0')\n",
    "spid"
   ]
  },
  {
   "cell_type": "code",
   "execution_count": 20,
   "metadata": {
    "ExecuteTime": {
     "end_time": "2017-06-15T17:47:50.992879Z",
     "start_time": "2017-06-15T17:47:50.965075Z"
    },
    "collapsed": true
   },
   "outputs": [],
   "source": [
    "spid.channel = 1"
   ]
  },
  {
   "cell_type": "code",
   "execution_count": 21,
   "metadata": {
    "ExecuteTime": {
     "end_time": "2017-06-15T17:47:51.629613Z",
     "start_time": "2017-06-15T17:47:51.595905Z"
    }
   },
   "outputs": [
    {
     "data": {
      "text/plain": [
       "SOURCE_PRODUCT_ID: PSP_003092_0985_RED4_1"
      ]
     },
     "execution_count": 21,
     "metadata": {},
     "output_type": "execute_result"
    }
   ],
   "source": [
    "spid"
   ]
  },
  {
   "cell_type": "code",
   "execution_count": 22,
   "metadata": {
    "ExecuteTime": {
     "end_time": "2017-06-15T17:47:52.562259Z",
     "start_time": "2017-06-15T17:47:52.535014Z"
    }
   },
   "outputs": [
    {
     "data": {
      "text/plain": [
       "'RED4'"
      ]
     },
     "execution_count": 22,
     "metadata": {},
     "output_type": "execute_result"
    }
   ],
   "source": [
    "spid.ccd"
   ]
  },
  {
   "cell_type": "code",
   "execution_count": 23,
   "metadata": {
    "ExecuteTime": {
     "end_time": "2017-06-15T17:47:53.640317Z",
     "start_time": "2017-06-15T17:47:53.370852Z"
    }
   },
   "outputs": [
    {
     "name": "stdout",
     "output_type": "stream",
     "text": [
      "_ccd :\n",
      "RED4\n",
      "\n",
      "_channel :\n",
      "1\n",
      "\n",
      "_parse_ccd :\n",
      "<bound method SOURCE_PRODUCT_ID._parse_ccd of SOURCE_PRODUCT_ID: PSP_003092_0985_RED4_1>\n",
      "\n",
      "bg_ccds :\n",
      "['BG12', 'BG13']\n",
      "\n",
      "ccd :\n",
      "RED4\n",
      "\n",
      "ccdno :\n",
      "4\n",
      "\n",
      "ccds :\n",
      "['RED0', 'RED1', 'RED2', 'RED3', 'RED4', 'RED5', 'RED6', 'RED7', 'RED8', 'RED9', 'IR10', 'IR11', 'BG12', 'BG13']\n",
      "\n",
      "channel :\n",
      "1\n",
      "\n",
      "color :\n",
      "RED\n",
      "\n",
      "download :\n",
      "<bound method SOURCE_PRODUCT_ID.download of SOURCE_PRODUCT_ID: PSP_003092_0985_RED4_1>\n",
      "\n",
      "fname :\n",
      "PSP_003092_0985_RED4_1.IMG\n",
      "\n",
      "fpath :\n",
      "EDR/PSP/ORB_003000_003099/PSP_003092_0985/PSP_003092_0985_RED4_1.IMG\n",
      "\n",
      "furl :\n",
      "https://hirise-pds.lpl.arizona.edu/PDS/EDR/PSP/ORB_003000_003099/PSP_003092_0985/PSP_003092_0985_RED4_1.IMG\n",
      "\n",
      "ir_ccds :\n",
      "['IR10', 'IR11']\n",
      "\n",
      "local_cube :\n"
     ]
    },
    {
     "ename": "TypeError",
     "evalue": "unsupported operand type(s) for /: 'NoneType' and 'str'",
     "output_type": "error",
     "traceback": [
      "\u001b[0;31m---------------------------------------------------------------------------\u001b[0m",
      "\u001b[0;31mTypeError\u001b[0m                                 Traceback (most recent call last)",
      "\u001b[0;32m<ipython-input-23-c32cc707b698>\u001b[0m in \u001b[0;36m<module>\u001b[0;34m()\u001b[0m\n\u001b[1;32m      2\u001b[0m     \u001b[0;32mif\u001b[0m \u001b[0;32mnot\u001b[0m \u001b[0mi\u001b[0m\u001b[0;34m.\u001b[0m\u001b[0mstartswith\u001b[0m\u001b[0;34m(\u001b[0m\u001b[0;34m'__'\u001b[0m\u001b[0;34m)\u001b[0m\u001b[0;34m:\u001b[0m\u001b[0;34m\u001b[0m\u001b[0m\n\u001b[1;32m      3\u001b[0m         \u001b[0mprint\u001b[0m\u001b[0;34m(\u001b[0m\u001b[0mi\u001b[0m\u001b[0;34m,\u001b[0m\u001b[0;34m':'\u001b[0m\u001b[0;34m)\u001b[0m\u001b[0;34m\u001b[0m\u001b[0m\n\u001b[0;32m----> 4\u001b[0;31m         \u001b[0mprint\u001b[0m\u001b[0;34m(\u001b[0m\u001b[0mgetattr\u001b[0m\u001b[0;34m(\u001b[0m\u001b[0mspid\u001b[0m\u001b[0;34m,\u001b[0m \u001b[0mi\u001b[0m\u001b[0;34m)\u001b[0m\u001b[0;34m)\u001b[0m\u001b[0;34m\u001b[0m\u001b[0m\n\u001b[0m\u001b[1;32m      5\u001b[0m         \u001b[0mprint\u001b[0m\u001b[0;34m(\u001b[0m\u001b[0;34m)\u001b[0m\u001b[0;34m\u001b[0m\u001b[0m\n",
      "\u001b[0;32m~/Dropbox/src/hirise_tools/hirise_tools/products.py\u001b[0m in \u001b[0;36mlocal_cube\u001b[0;34m(self)\u001b[0m\n\u001b[1;32m    345\u001b[0m     \u001b[0;34m@\u001b[0m\u001b[0mproperty\u001b[0m\u001b[0;34m\u001b[0m\u001b[0m\n\u001b[1;32m    346\u001b[0m     \u001b[0;32mdef\u001b[0m \u001b[0mlocal_cube\u001b[0m\u001b[0;34m(\u001b[0m\u001b[0mself\u001b[0m\u001b[0;34m)\u001b[0m\u001b[0;34m:\u001b[0m\u001b[0;34m\u001b[0m\u001b[0m\n\u001b[0;32m--> 347\u001b[0;31m         \u001b[0;32mreturn\u001b[0m \u001b[0mself\u001b[0m\u001b[0;34m.\u001b[0m\u001b[0mlocal_path\u001b[0m\u001b[0;34m.\u001b[0m\u001b[0mwith_suffix\u001b[0m\u001b[0;34m(\u001b[0m\u001b[0;34m'.cub'\u001b[0m\u001b[0;34m)\u001b[0m\u001b[0;34m\u001b[0m\u001b[0m\n\u001b[0m\u001b[1;32m    348\u001b[0m \u001b[0;34m\u001b[0m\u001b[0m\n\u001b[1;32m    349\u001b[0m     \u001b[0;34m@\u001b[0m\u001b[0mproperty\u001b[0m\u001b[0;34m\u001b[0m\u001b[0m\n",
      "\u001b[0;32m~/Dropbox/src/hirise_tools/hirise_tools/products.py\u001b[0m in \u001b[0;36mlocal_path\u001b[0;34m(self)\u001b[0m\n\u001b[1;32m    362\u001b[0m     \u001b[0;34m@\u001b[0m\u001b[0mproperty\u001b[0m\u001b[0;34m\u001b[0m\u001b[0m\n\u001b[1;32m    363\u001b[0m     \u001b[0;32mdef\u001b[0m \u001b[0mlocal_path\u001b[0m\u001b[0;34m(\u001b[0m\u001b[0mself\u001b[0m\u001b[0;34m)\u001b[0m\u001b[0;34m:\u001b[0m\u001b[0;34m\u001b[0m\u001b[0m\n\u001b[0;32m--> 364\u001b[0;31m         \u001b[0msavepath\u001b[0m \u001b[0;34m=\u001b[0m \u001b[0mself\u001b[0m\u001b[0;34m.\u001b[0m\u001b[0msaveroot\u001b[0m \u001b[0;34m/\u001b[0m \u001b[0mstr\u001b[0m\u001b[0;34m(\u001b[0m\u001b[0mself\u001b[0m\u001b[0;34m.\u001b[0m\u001b[0mobsid\u001b[0m\u001b[0;34m)\u001b[0m \u001b[0;34m/\u001b[0m \u001b[0mself\u001b[0m\u001b[0;34m.\u001b[0m\u001b[0mfname\u001b[0m\u001b[0;34m\u001b[0m\u001b[0m\n\u001b[0m\u001b[1;32m    365\u001b[0m         \u001b[0;32mreturn\u001b[0m \u001b[0msavepath\u001b[0m\u001b[0;34m\u001b[0m\u001b[0m\n\u001b[1;32m    366\u001b[0m \u001b[0;34m\u001b[0m\u001b[0m\n",
      "\u001b[0;31mTypeError\u001b[0m: unsupported operand type(s) for /: 'NoneType' and 'str'"
     ]
    }
   ],
   "source": [
    "for i in dir(spid):\n",
    "    if not i.startswith('__'):\n",
    "        print(i,':')\n",
    "        print(getattr(spid, i))\n",
    "        print()"
   ]
  },
  {
   "cell_type": "markdown",
   "metadata": {},
   "source": [
    "http://hirise-pds.lpl.arizona.edu/PDS/EDR/PSP/ORB_003000_003099/PSP_003092_0985/PSP_003092_0985_RED4_0.IMG"
   ]
  },
  {
   "cell_type": "code",
   "execution_count": 24,
   "metadata": {
    "ExecuteTime": {
     "end_time": "2017-06-15T17:47:55.419168Z",
     "start_time": "2017-06-15T17:47:55.387946Z"
    }
   },
   "outputs": [
    {
     "data": {
      "text/plain": [
       "'PSP/ORB_003000_003099/PSP_003092_0985/PSP_003092_0985_RED'"
      ]
     },
     "execution_count": 24,
     "metadata": {},
     "output_type": "execute_result"
    }
   ],
   "source": [
    "spid.pid.storage_stem"
   ]
  },
  {
   "cell_type": "code",
   "execution_count": 25,
   "metadata": {
    "ExecuteTime": {
     "end_time": "2017-06-15T17:47:55.884010Z",
     "start_time": "2017-06-15T17:47:55.852210Z"
    }
   },
   "outputs": [
    {
     "data": {
      "text/plain": [
       "'EDR/PSP/ORB_003000_003099/PSP_003092_0985/PSP_003092_0985_RED'"
      ]
     },
     "execution_count": 25,
     "metadata": {},
     "output_type": "execute_result"
    }
   ],
   "source": [
    "spid.pid.edr_storage_stem"
   ]
  },
  {
   "cell_type": "code",
   "execution_count": 26,
   "metadata": {
    "ExecuteTime": {
     "end_time": "2017-06-15T17:47:56.283211Z",
     "start_time": "2017-06-15T17:47:56.249139Z"
    }
   },
   "outputs": [
    {
     "data": {
      "text/plain": [
       "PosixPath('EDR/PSP/ORB_003000_003099/PSP_003092_0985/PSP_003092_0985_RED4_1.IMG')"
      ]
     },
     "execution_count": 26,
     "metadata": {},
     "output_type": "execute_result"
    }
   ],
   "source": [
    "spid.fpath"
   ]
  },
  {
   "cell_type": "markdown",
   "metadata": {},
   "source": [
    "# HiRISE_URL"
   ]
  },
  {
   "cell_type": "code",
   "execution_count": 27,
   "metadata": {
    "ExecuteTime": {
     "end_time": "2017-06-15T17:47:57.380974Z",
     "start_time": "2017-06-15T17:47:57.341585Z"
    }
   },
   "outputs": [
    {
     "data": {
      "text/plain": [
       "'https://hirise-pds.lpl.arizona.edu/PDS/EDR/PSP/ORB_003000_003099/PSP_003092_0985/PSP_003092_0985_RED4_1.IMG'"
      ]
     },
     "execution_count": 27,
     "metadata": {},
     "output_type": "execute_result"
    }
   ],
   "source": [
    "hiurl = prod.HiRISE_URL(spid.fpath)\n",
    "hiurl.url"
   ]
  },
  {
   "cell_type": "code",
   "execution_count": 28,
   "metadata": {
    "ExecuteTime": {
     "end_time": "2017-06-15T17:47:58.106761Z",
     "start_time": "2017-06-15T17:47:58.075665Z"
    }
   },
   "outputs": [
    {
     "data": {
      "text/plain": [
       "'/PDS/EDR/PSP/ORB_003000_003099/PSP_003092_0985/PSP_003092_0985_RED4_1.IMG'"
      ]
     },
     "execution_count": 28,
     "metadata": {},
     "output_type": "execute_result"
    }
   ],
   "source": [
    "hiurl.path"
   ]
  },
  {
   "cell_type": "markdown",
   "metadata": {},
   "source": [
    "# others"
   ]
  },
  {
   "cell_type": "code",
   "execution_count": 29,
   "metadata": {
    "ExecuteTime": {
     "end_time": "2017-06-15T17:48:13.032252Z",
     "start_time": "2017-06-15T17:48:13.001764Z"
    }
   },
   "outputs": [
    {
     "data": {
      "text/plain": [
       "'RDR/PSP/ORB_003000_003099/PSP_003072_0985/PSP_003072_0985_RED.LBL'"
      ]
     },
     "execution_count": 29,
     "metadata": {},
     "output_type": "execute_result"
    }
   ],
   "source": [
    "pid.label_path"
   ]
  },
  {
   "cell_type": "code",
   "execution_count": 30,
   "metadata": {
    "ExecuteTime": {
     "end_time": "2017-06-15T17:48:13.478431Z",
     "start_time": "2017-06-15T17:48:13.446232Z"
    }
   },
   "outputs": [
    {
     "data": {
      "text/plain": [
       "PSP_003072_0985"
      ]
     },
     "execution_count": 30,
     "metadata": {},
     "output_type": "execute_result"
    }
   ],
   "source": [
    "pid.obsid"
   ]
  },
  {
   "cell_type": "code",
   "execution_count": 31,
   "metadata": {
    "ExecuteTime": {
     "end_time": "2017-06-15T17:48:14.007360Z",
     "start_time": "2017-06-15T17:48:13.977271Z"
    }
   },
   "outputs": [
    {
     "data": {
      "text/plain": [
       "PSP_003072_0985_RED"
      ]
     },
     "execution_count": 31,
     "metadata": {},
     "output_type": "execute_result"
    }
   ],
   "source": [
    "pid"
   ]
  },
  {
   "cell_type": "code",
   "execution_count": 32,
   "metadata": {
    "ExecuteTime": {
     "end_time": "2017-06-15T17:48:14.681272Z",
     "start_time": "2017-06-15T17:48:14.649181Z"
    }
   },
   "outputs": [
    {
     "data": {
      "text/plain": [
       "'https://hirise-pds.lpl.arizona.edu/PDS/EDR/PSP/ORB_003000_003099/PSP_003072_0985/PSP_003072_0985_RED4_1.IMG'"
      ]
     },
     "execution_count": 32,
     "metadata": {},
     "output_type": "execute_result"
    }
   ],
   "source": [
    "prod.RED_PRODUCT_ID(pid.obsid.s, 4, 1).furl"
   ]
  },
  {
   "cell_type": "code",
   "execution_count": 33,
   "metadata": {
    "ExecuteTime": {
     "end_time": "2017-06-15T17:48:15.721801Z",
     "start_time": "2017-06-15T17:48:15.690247Z"
    }
   },
   "outputs": [
    {
     "data": {
      "text/plain": [
       "RED_PRODUCT_ID: PSP_003072_0985_RED4_1"
      ]
     },
     "execution_count": 33,
     "metadata": {},
     "output_type": "execute_result"
    }
   ],
   "source": [
    "prod.RED_PRODUCT_ID(pid.obsid.s, 4,1)"
   ]
  },
  {
   "cell_type": "code",
   "execution_count": 34,
   "metadata": {
    "ExecuteTime": {
     "end_time": "2017-06-15T17:48:16.243119Z",
     "start_time": "2017-06-15T17:48:16.210475Z"
    },
    "collapsed": true
   },
   "outputs": [],
   "source": [
    "from hirise_tools import downloads"
   ]
  },
  {
   "cell_type": "code",
   "execution_count": 35,
   "metadata": {
    "ExecuteTime": {
     "end_time": "2017-06-15T17:48:22.008099Z",
     "start_time": "2017-06-15T17:48:16.949560Z"
    }
   },
   "outputs": [
    {
     "name": "stdout",
     "output_type": "stream",
     "text": [
      "Downloading\n",
      " https://hirise-pds.lpl.arizona.edu/PDS/EDR/PSP/ORB_003000_003099/PSP_003092_0985/PSP_003092_0985_RED4_0.IMG \n",
      "to\n",
      " /Users/klay6683/Dropbox/data/hirise/PSP_003092_0985/PSP_003092_0985_RED4_0.IMG\n"
     ]
    },
    {
     "data": {
      "text/plain": [
       "PosixPath('/Users/klay6683/Dropbox/data/hirise/PSP_003092_0985/PSP_003092_0985_RED4_0.IMG')"
      ]
     },
     "execution_count": 35,
     "metadata": {},
     "output_type": "execute_result"
    }
   ],
   "source": [
    "obsid = 'PSP_003092_0985'\n",
    "downloads.download_RED_product(obsid, 4, 0)"
   ]
  },
  {
   "cell_type": "code",
   "execution_count": 36,
   "metadata": {
    "ExecuteTime": {
     "end_time": "2017-06-15T17:48:22.049876Z",
     "start_time": "2017-06-15T17:48:22.015360Z"
    },
    "collapsed": true
   },
   "outputs": [],
   "source": [
    "red_pid = prod.RED_PRODUCT_ID(pid.obsid.s, 4,1)"
   ]
  },
  {
   "cell_type": "code",
   "execution_count": 37,
   "metadata": {
    "ExecuteTime": {
     "end_time": "2017-06-15T17:48:31.249633Z",
     "start_time": "2017-06-15T17:48:31.218819Z"
    }
   },
   "outputs": [
    {
     "data": {
      "text/plain": [
       "'PSP_003072_0985_RED4_1.IMG'"
      ]
     },
     "execution_count": 37,
     "metadata": {},
     "output_type": "execute_result"
    }
   ],
   "source": [
    "red_pid.fname"
   ]
  },
  {
   "cell_type": "code",
   "execution_count": 38,
   "metadata": {
    "ExecuteTime": {
     "end_time": "2017-06-15T17:48:32.125742Z",
     "start_time": "2017-06-15T17:48:32.087758Z"
    }
   },
   "outputs": [
    {
     "data": {
      "text/plain": [
       "PSP_003072_0985_RED"
      ]
     },
     "execution_count": 38,
     "metadata": {},
     "output_type": "execute_result"
    }
   ],
   "source": [
    "pid"
   ]
  },
  {
   "cell_type": "code",
   "execution_count": 39,
   "metadata": {
    "ExecuteTime": {
     "end_time": "2017-06-15T17:48:32.772178Z",
     "start_time": "2017-06-15T17:48:32.737521Z"
    }
   },
   "outputs": [
    {
     "name": "stdout",
     "output_type": "stream",
     "text": [
      "PSP_003092_0985_RED4_0.cub\n",
      "PSP_003092_0985_RED4_0.cub\n",
      "PSP_003092_0985_RED5_0.cub\n",
      "PSP_003092_0985_RED5_0.cub\n"
     ]
    }
   ],
   "source": [
    "name = obsid + '_RED'\n",
    "channels = [4, 5]\n",
    "ccds = [0, 1]\n",
    "\n",
    "for channel in channels:\n",
    "    for ccd in ccds:\n",
    "        print(f'{name}{channel}_0.cub')"
   ]
  },
  {
   "cell_type": "code",
   "execution_count": 40,
   "metadata": {
    "ExecuteTime": {
     "end_time": "2017-06-15T17:48:35.670750Z",
     "start_time": "2017-06-15T17:48:35.641041Z"
    }
   },
   "outputs": [],
   "source": [
    "sid = prod.RED_PRODUCT_ID(obsid, 4,0)"
   ]
  },
  {
   "cell_type": "code",
   "execution_count": 41,
   "metadata": {
    "ExecuteTime": {
     "end_time": "2017-06-15T17:48:36.294751Z",
     "start_time": "2017-06-15T17:48:36.265475Z"
    }
   },
   "outputs": [
    {
     "data": {
      "text/plain": [
       "'https://hirise-pds.lpl.arizona.edu/PDS/RDR/PSP/ORB_003000_003099/PSP_003092_0985/PSP_003092_0985_RED.LBL'"
      ]
     },
     "execution_count": 41,
     "metadata": {},
     "output_type": "execute_result"
    }
   ],
   "source": [
    "sid.pid.label_url"
   ]
  },
  {
   "cell_type": "code",
   "execution_count": null,
   "metadata": {
    "collapsed": true
   },
   "outputs": [],
   "source": []
  }
 ],
 "metadata": {
  "kernelspec": {
   "display_name": "Python [conda env:stable]",
   "language": "python",
   "name": "conda-env-stable-py"
  },
  "language_info": {
   "codemirror_mode": {
    "name": "ipython",
    "version": 3
   },
   "file_extension": ".py",
   "mimetype": "text/x-python",
   "name": "python",
   "nbconvert_exporter": "python",
   "pygments_lexer": "ipython3",
   "version": "3.6.1"
  },
  "toc": {
   "colors": {
    "hover_highlight": "#DAA520",
    "navigate_num": "#000000",
    "navigate_text": "#333333",
    "running_highlight": "#FF0000",
    "selected_highlight": "#FFD700",
    "sidebar_border": "#EEEEEE",
    "wrapper_background": "#FFFFFF"
   },
   "moveMenuLeft": true,
   "nav_menu": {
    "height": "84px",
    "width": "252px"
   },
   "navigate_menu": true,
   "number_sections": false,
   "sideBar": false,
   "threshold": 4,
   "toc_cell": true,
   "toc_section_display": "block",
   "toc_window_display": true,
   "widenNotebook": false
  }
 },
 "nbformat": 4,
 "nbformat_minor": 1
}
