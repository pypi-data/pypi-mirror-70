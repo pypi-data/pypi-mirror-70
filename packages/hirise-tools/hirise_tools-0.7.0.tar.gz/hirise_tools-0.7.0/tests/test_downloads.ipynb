{
 "cells": [
  {
   "cell_type": "markdown",
   "metadata": {
    "toc": "true"
   },
   "source": [
    "# Table of Contents\n",
    " <p>"
   ]
  },
  {
   "cell_type": "code",
   "execution_count": 1,
   "metadata": {
    "ExecuteTime": {
     "end_time": "2017-06-15T17:40:07.288434Z",
     "start_time": "2017-06-15T17:40:07.211866Z"
    },
    "collapsed": true
   },
   "outputs": [],
   "source": [
    "from pyrise import downloads as dl"
   ]
  },
  {
   "cell_type": "code",
   "execution_count": 2,
   "metadata": {
    "ExecuteTime": {
     "end_time": "2017-06-15T17:40:09.393012Z",
     "start_time": "2017-06-15T17:40:09.356546Z"
    },
    "collapsed": true
   },
   "outputs": [],
   "source": [
    "obsid = 'PSP_003092_0985'"
   ]
  },
  {
   "cell_type": "code",
   "execution_count": 3,
   "metadata": {
    "ExecuteTime": {
     "end_time": "2017-06-15T17:40:10.513069Z",
     "start_time": "2017-06-15T17:40:10.289182Z"
    }
   },
   "outputs": [
    {
     "name": "stdout",
     "output_type": "stream",
     "text": [
      "Downloading\n",
      " https://hirise-pds.lpl.arizona.edu/PDS/RDR/PSP/ORB_003000_003099/PSP_003092_0985/PSP_003092_0985_RED.LBL to\n",
      " /Users/klay6683/Dropbox/data/hirise/labels/PSP_003092_0985_RED.LBL\n"
     ]
    }
   ],
   "source": [
    "dl.get_rdr_red_label(obsid)"
   ]
  },
  {
   "cell_type": "code",
   "execution_count": 5,
   "metadata": {},
   "outputs": [
    {
     "name": "stdout",
     "output_type": "stream",
     "text": [
      "Downloading\n",
      " http://hirise-pds.lpl.arizona.edu/PDS/EDR/PSP/ORB_003000_003099/PSP_003092_0985/PSP_003092_0985_RED4_0.IMG to\n",
      " /Users/klay6683/Dropbox/data/hirise/testdir/PSP_003092_0985_RED4_0.IMG\n"
     ]
    },
    {
     "data": {
      "text/plain": [
       "PosixPath('/Users/klay6683/Dropbox/data/hirise/testdir/PSP_003092_0985_RED4_0.IMG')"
      ]
     },
     "execution_count": 5,
     "metadata": {},
     "output_type": "execute_result"
    }
   ],
   "source": [
    "dl.download_RED_product(obsid, 4, 0, 'testdir')"
   ]
  },
  {
   "cell_type": "code",
   "execution_count": null,
   "metadata": {
    "collapsed": true
   },
   "outputs": [],
   "source": []
  }
 ],
 "metadata": {
  "kernelspec": {
   "display_name": "Python [conda env:stable]",
   "language": "python",
   "name": "conda-env-stable-py"
  },
  "language_info": {
   "codemirror_mode": {
    "name": "ipython",
    "version": 3
   },
   "file_extension": ".py",
   "mimetype": "text/x-python",
   "name": "python",
   "nbconvert_exporter": "python",
   "pygments_lexer": "ipython3",
   "version": "3.6.1"
  },
  "toc": {
   "colors": {
    "hover_highlight": "#DAA520",
    "navigate_num": "#000000",
    "navigate_text": "#333333",
    "running_highlight": "#FF0000",
    "selected_highlight": "#FFD700",
    "sidebar_border": "#EEEEEE",
    "wrapper_background": "#FFFFFF"
   },
   "moveMenuLeft": true,
   "nav_menu": {
    "height": "12px",
    "width": "252px"
   },
   "navigate_menu": true,
   "number_sections": false,
   "sideBar": false,
   "threshold": 4,
   "toc_cell": true,
   "toc_section_display": "block",
   "toc_window_display": true,
   "widenNotebook": false
  }
 },
 "nbformat": 4,
 "nbformat_minor": 1
}
