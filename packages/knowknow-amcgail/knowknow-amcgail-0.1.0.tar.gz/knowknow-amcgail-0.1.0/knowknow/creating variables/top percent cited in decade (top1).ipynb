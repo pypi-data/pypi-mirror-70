{
 "cells": [
  {
   "cell_type": "code",
   "execution_count": 1,
   "metadata": {
    "execution": {
     "iopub.execute_input": "2020-06-01T18:03:30.200832Z",
     "iopub.status.busy": "2020-06-01T18:03:30.198837Z",
     "iopub.status.idle": "2020-06-01T18:03:31.203226Z",
     "shell.execute_reply": "2020-06-01T18:03:31.203226Z"
    },
    "papermill": {
     "duration": 1.018347,
     "end_time": "2020-06-01T18:03:31.203226",
     "exception": false,
     "start_time": "2020-06-01T18:03:30.184879",
     "status": "completed"
    },
    "tags": []
   },
   "outputs": [],
   "source": [
    "import sys; sys.path.append(_dh[0].split(\"knowknow\")[0])\n",
    "from knowknow import *"
   ]
  },
  {
   "cell_type": "code",
   "execution_count": 2,
   "metadata": {
    "execution": {
     "iopub.execute_input": "2020-06-01T18:03:31.231152Z",
     "iopub.status.busy": "2020-06-01T18:03:31.231152Z",
     "iopub.status.idle": "2020-06-01T18:03:31.237135Z",
     "shell.execute_reply": "2020-06-01T18:03:31.237135Z"
    },
    "papermill": {
     "duration": 0.020943,
     "end_time": "2020-06-01T18:03:31.237135",
     "exception": false,
     "start_time": "2020-06-01T18:03:31.216192",
     "status": "completed"
    },
    "tags": []
   },
   "outputs": [
    {
     "data": {
      "text/markdown": [
       "# Zooming in on the top 1%"
      ],
      "text/plain": [
       "<IPython.core.display.Markdown object>"
      ]
     },
     "metadata": {},
     "output_type": "display_data"
    },
    {
     "data": {
      "text/markdown": [
       "I would like to look at the most successful cited authors, cited works, and cited terms. Unfortunately, this isn't so simple. There has been a dramatic increase in the supply of citations over the last 100 years, so the group with the most total citations would be skewed towards the citation preferences of recent papers. In order to account for this bias,\n",
       "I choose among items cited by articles published in each decade 1940-1950, 1941-1951, 1942-1952, all the way to 1980-1990. In each of these decades I determine which were the top-cited 1%. The set of all these top 1%s, from all these decade spans, comprise the 1% I will study in this paper."
      ],
      "text/plain": [
       "<IPython.core.display.Markdown object>"
      ]
     },
     "metadata": {},
     "output_type": "display_data"
    },
    {
     "data": {
      "text/markdown": [],
      "text/plain": [
       "<IPython.core.display.Markdown object>"
      ]
     },
     "metadata": {},
     "output_type": "display_data"
    }
   ],
   "source": [
    "showdocs(\"top1\")"
   ]
  },
  {
   "cell_type": "markdown",
   "metadata": {
    "papermill": {
     "duration": 0.013962,
     "end_time": "2020-06-01T18:03:31.263066",
     "exception": false,
     "start_time": "2020-06-01T18:03:31.249104",
     "status": "completed"
    },
    "tags": []
   },
   "source": [
    "# User Parameters\n",
    "\n",
    "Just pick the database `database_name` and the type of count atom you want to analyze (e.g. `\"ta\"` for cited author, `\"c\"` for cited work, etc.)\n",
    "\n",
    "Note that `\"t\"` is only available for `jstor` databases"
   ]
  },
  {
   "cell_type": "code",
   "execution_count": 3,
   "metadata": {
    "execution": {
     "iopub.execute_input": "2020-06-01T18:03:31.291989Z",
     "iopub.status.busy": "2020-06-01T18:03:31.290992Z",
     "iopub.status.idle": "2020-06-01T18:03:31.293983Z",
     "shell.execute_reply": "2020-06-01T18:03:31.293983Z"
    },
    "papermill": {
     "duration": 0.017942,
     "end_time": "2020-06-01T18:03:31.293983",
     "exception": false,
     "start_time": "2020-06-01T18:03:31.276041",
     "status": "completed"
    },
    "tags": [
     "parameters"
    ]
   },
   "outputs": [],
   "source": [
    "database_name = 'sociology-wos'\n",
    "ctype = 'ta'\n",
    "top_percentile = 0.01"
   ]
  },
  {
   "cell_type": "code",
   "execution_count": 4,
   "metadata": {
    "execution": {
     "iopub.execute_input": "2020-06-01T18:03:31.321925Z",
     "iopub.status.busy": "2020-06-01T18:03:31.321925Z",
     "iopub.status.idle": "2020-06-01T18:03:31.324917Z",
     "shell.execute_reply": "2020-06-01T18:03:31.324917Z"
    },
    "papermill": {
     "duration": 0.017968,
     "end_time": "2020-06-01T18:03:31.324917",
     "exception": false,
     "start_time": "2020-06-01T18:03:31.306949",
     "status": "completed"
    },
    "tags": [
     "injected-parameters"
    ]
   },
   "outputs": [],
   "source": [
    "# Parameters\n",
    "database_name = \"sociology-wos\"\n",
    "ctype = \"fa\"\n"
   ]
  },
  {
   "cell_type": "markdown",
   "metadata": {
    "papermill": {
     "duration": 0.012966,
     "end_time": "2020-06-01T18:03:31.351845",
     "exception": false,
     "start_time": "2020-06-01T18:03:31.338879",
     "status": "completed"
    },
    "tags": []
   },
   "source": [
    "# Load data"
   ]
  },
  {
   "cell_type": "code",
   "execution_count": 5,
   "metadata": {
    "execution": {
     "iopub.execute_input": "2020-06-01T18:03:31.413701Z",
     "iopub.status.busy": "2020-06-01T18:03:31.412704Z",
     "iopub.status.idle": "2020-06-01T18:03:31.934309Z",
     "shell.execute_reply": "2020-06-01T18:03:31.934309Z"
    },
    "papermill": {
     "duration": 0.536565,
     "end_time": "2020-06-01T18:03:31.934309",
     "exception": false,
     "start_time": "2020-06-01T18:03:31.397744",
     "status": "completed"
    },
    "tags": []
   },
   "outputs": [
    {
     "name": "stdout",
     "output_type": "stream",
     "text": [
      "Loaded keys: dict_keys(['fa.fy'])\n",
      "Available keys: ['a', 'c', 'c.c', 'c.fj', 'c.fy', 'c.fy.j', 'fa', 'fa.c', 'fa.fj', 'fa.fj.fy', 'fa.fy', 'fj', 'fj.fy', 'fj.ta', 'fj.ty', 'fy', 'fy.ta', 'fy.ty', 'ta', 'ty', 'ty.ty']\n"
     ]
    }
   ],
   "source": [
    "cysum = load_variable(\"%s.%s.ysum\" % (database_name,ctype))\n",
    "cits = get_cnt(\"%s.doc\" % database_name, [comb(ctype,'fy')])"
   ]
  },
  {
   "cell_type": "code",
   "execution_count": 6,
   "metadata": {
    "execution": {
     "iopub.execute_input": "2020-06-01T18:03:31.965226Z",
     "iopub.status.busy": "2020-06-01T18:03:31.963231Z",
     "iopub.status.idle": "2020-06-01T18:03:31.968218Z",
     "shell.execute_reply": "2020-06-01T18:03:31.968218Z"
    },
    "papermill": {
     "duration": 0.018949,
     "end_time": "2020-06-01T18:03:31.968218",
     "exception": false,
     "start_time": "2020-06-01T18:03:31.949269",
     "status": "completed"
    },
    "tags": []
   },
   "outputs": [
    {
     "data": {
      "text/plain": [
       "False"
      ]
     },
     "execution_count": 6,
     "metadata": {},
     "output_type": "execute_result"
    }
   ],
   "source": [
    "any(\"-\" in x for x in cysum)"
   ]
  },
  {
   "cell_type": "markdown",
   "metadata": {
    "papermill": {
     "duration": 0.013968,
     "end_time": "2020-06-01T18:03:31.995151",
     "exception": false,
     "start_time": "2020-06-01T18:03:31.981183",
     "status": "completed"
    },
    "tags": []
   },
   "source": [
    "# loop through all the decades!"
   ]
  },
  {
   "cell_type": "code",
   "execution_count": 7,
   "metadata": {
    "execution": {
     "iopub.execute_input": "2020-06-01T18:03:32.045039Z",
     "iopub.status.busy": "2020-06-01T18:03:32.039055Z",
     "iopub.status.idle": "2020-06-01T18:03:33.017437Z",
     "shell.execute_reply": "2020-06-01T18:03:33.018435Z"
    },
    "papermill": {
     "duration": 1.009327,
     "end_time": "2020-06-01T18:03:33.018435",
     "exception": false,
     "start_time": "2020-06-01T18:03:32.009108",
     "status": "completed"
    },
    "tags": []
   },
   "outputs": [
    {
     "name": "stdout",
     "output_type": "stream",
     "text": [
      "5376 total entries\n",
      "7 /560 in the top 1.0% in 1940,1950 (7 total accumulated)\n",
      "8 /628 in the top 1.0% in 1941,1951 (9 total accumulated)\n",
      "10 /699 in the top 1.0% in 1942,1952 (12 total accumulated)\n",
      "8 /766 in the top 1.0% in 1943,1953 (14 total accumulated)\n"
     ]
    },
    {
     "name": "stdout",
     "output_type": "stream",
     "text": [
      "12 /831 in the top 1.0% in 1944,1954 (18 total accumulated)\n",
      "12 /906 in the top 1.0% in 1945,1955 (21 total accumulated)\n",
      "13 /968 in the top 1.0% in 1946,1956 (23 total accumulated)\n",
      "14 /1065 in the top 1.0% in 1947,1957 (25 total accumulated)\n",
      "15 /1153 in the top 1.0% in 1948,1958 (27 total accumulated)\n"
     ]
    },
    {
     "name": "stdout",
     "output_type": "stream",
     "text": [
      "20 /1250 in the top 1.0% in 1949,1959 (32 total accumulated)\n",
      "24 /1362 in the top 1.0% in 1950,1960 (37 total accumulated)\n",
      "16 /1488 in the top 1.0% in 1951,1961 (37 total accumulated)\n",
      "19 /1580 in the top 1.0% in 1952,1962 (42 total accumulated)\n",
      "19 /1683 in the top 1.0% in 1953,1963 (45 total accumulated)\n"
     ]
    },
    {
     "name": "stdout",
     "output_type": "stream",
     "text": [
      "22 /1801 in the top 1.0% in 1954,1964 (49 total accumulated)\n",
      "34 /1895 in the top 1.0% in 1955,1965 (60 total accumulated)\n",
      "22 /2133 in the top 1.0% in 1956,1966 (60 total accumulated)\n",
      "24 /2300 in the top 1.0% in 1957,1967 (63 total accumulated)\n"
     ]
    },
    {
     "name": "stdout",
     "output_type": "stream",
     "text": [
      "24 /2382 in the top 1.0% in 1958,1968 (65 total accumulated)\n",
      "34 /2683 in the top 1.0% in 1959,1969 (74 total accumulated)\n",
      "36 /2982 in the top 1.0% in 1960,1970 (80 total accumulated)\n",
      "38 /3333 in the top 1.0% in 1961,1971 (87 total accumulated)\n",
      "41 /3616 in the top 1.0% in 1962,1972 (90 total accumulated)\n",
      "47 /3898 in the top 1.0% in 1963,1973 (98 total accumulated)\n"
     ]
    },
    {
     "name": "stdout",
     "output_type": "stream",
     "text": [
      "78 /4254 in the top 1.0% in 1964,1974 (128 total accumulated)\n",
      "52 /4635 in the top 1.0% in 1965,1975 (130 total accumulated)\n",
      "54 /5083 in the top 1.0% in 1966,1976 (141 total accumulated)\n"
     ]
    },
    {
     "name": "stdout",
     "output_type": "stream",
     "text": [
      "61 /5493 in the top 1.0% in 1967,1977 (153 total accumulated)\n",
      "84 /6021 in the top 1.0% in 1968,1978 (174 total accumulated)\n",
      "69 /6525 in the top 1.0% in 1969,1979 (182 total accumulated)\n",
      "82 /7009 in the top 1.0% in 1970,1980 (192 total accumulated)\n",
      "89 /7381 in the top 1.0% in 1971,1981 (203 total accumulated)\n",
      "98 /7779 in the top 1.0% in 1972,1982 (215 total accumulated)\n"
     ]
    },
    {
     "name": "stdout",
     "output_type": "stream",
     "text": [
      "105 /8169 in the top 1.0% in 1973,1983 (231 total accumulated)\n",
      "119 /8580 in the top 1.0% in 1974,1984 (252 total accumulated)\n"
     ]
    },
    {
     "name": "stdout",
     "output_type": "stream",
     "text": [
      "90 /8925 in the top 1.0% in 1975,1985 (256 total accumulated)\n",
      "99 /9276 in the top 1.0% in 1976,1986 (268 total accumulated)\n",
      "108 /9629 in the top 1.0% in 1977,1987 (280 total accumulated)\n",
      "105 /9985 in the top 1.0% in 1978,1988 (289 total accumulated)\n",
      "114 /10316 in the top 1.0% in 1979,1989 (309 total accumulated)\n",
      "116 /10630 in the top 1.0% in 1980,1990 (321 total accumulated)\n"
     ]
    },
    {
     "name": "stdout",
     "output_type": "stream",
     "text": [
      "(222, 42)\n"
     ]
    }
   ],
   "source": [
    "all_tops = set()\n",
    "\n",
    "print(\"%s total entries\" % len(cysum))\n",
    "\n",
    "\n",
    "# ranges loop from 1940-1950 to 1980-1990, in 1-year increments\n",
    "for RANGE_START, RANGE_END in zip( \n",
    "    range(1940,1980+1,1),\n",
    "    range(1950,1990+1,1),\n",
    "):\n",
    "    \n",
    "    # create a copy of cysum\n",
    "    cysum_copy = {k:dict(v) for k,v in cysum.items()}\n",
    "\n",
    "    count_in_range = defaultdict(int)\n",
    "    for cross, count in cits[comb(ctype,'fy')].items():\n",
    "        if RANGE_END >= cross.fy >= RANGE_START:\n",
    "            count_in_range[ getattr(cross, ctype) ] += count\n",
    "            \n",
    "    counts = list(count_in_range.values())\n",
    "    if not len(counts):\n",
    "        print(\"Skipping %s\" % RANGE_START)\n",
    "        continue\n",
    "        \n",
    "    q99 = np.quantile(np.array( counts ), 1-top_percentile)\n",
    "    top1 = {k for k in count_in_range if count_in_range[k]>=q99}\n",
    "    all_tops.update(top1)\n",
    "    \n",
    "    print(\"%s /%s in the top %0.1f%% in %s,%s (%s total accumulated)\" % (\n",
    "        len(top1),\n",
    "        len(count_in_range),\n",
    "        top_percentile*100,\n",
    "        RANGE_START, RANGE_END,\n",
    "        len(all_tops)\n",
    "    ))\n",
    "\n",
    "    \n",
    "alldf = pd.DataFrame.from_records([\n",
    "    c\n",
    "    for name, c in cysum.items()\n",
    "    if name in all_tops\n",
    "])\n",
    "\n",
    "alldf.fillna(value=np.nan, inplace=True)\n",
    "\n",
    "print(alldf.shape)"
   ]
  },
  {
   "cell_type": "code",
   "execution_count": 8,
   "metadata": {
    "execution": {
     "iopub.execute_input": "2020-06-01T18:03:33.052317Z",
     "iopub.status.busy": "2020-06-01T18:03:33.051320Z",
     "iopub.status.idle": "2020-06-01T18:03:33.054312Z",
     "shell.execute_reply": "2020-06-01T18:03:33.054312Z"
    },
    "papermill": {
     "duration": 0.019946,
     "end_time": "2020-06-01T18:03:33.054312",
     "exception": false,
     "start_time": "2020-06-01T18:03:33.034366",
     "status": "completed"
    },
    "tags": []
   },
   "outputs": [
    {
     "data": {
      "text/plain": [
       "(222, 42)"
      ]
     },
     "execution_count": 8,
     "metadata": {},
     "output_type": "execute_result"
    }
   ],
   "source": [
    "alldf.shape"
   ]
  },
  {
   "cell_type": "code",
   "execution_count": 9,
   "metadata": {
    "execution": {
     "iopub.execute_input": "2020-06-01T18:03:33.095230Z",
     "iopub.status.busy": "2020-06-01T18:03:33.086226Z",
     "iopub.status.idle": "2020-06-01T18:03:33.104178Z",
     "shell.execute_reply": "2020-06-01T18:03:33.104178Z"
    },
    "papermill": {
     "duration": 0.034907,
     "end_time": "2020-06-01T18:03:33.104178",
     "exception": false,
     "start_time": "2020-06-01T18:03:33.069271",
     "status": "completed"
    },
    "tags": []
   },
   "outputs": [
    {
     "data": {
      "text/html": [
       "<div>\n",
       "<style scoped>\n",
       "    .dataframe tbody tr th:only-of-type {\n",
       "        vertical-align: middle;\n",
       "    }\n",
       "\n",
       "    .dataframe tbody tr th {\n",
       "        vertical-align: top;\n",
       "    }\n",
       "\n",
       "    .dataframe thead th {\n",
       "        text-align: right;\n",
       "    }\n",
       "</style>\n",
       "<table border=\"1\" class=\"dataframe\">\n",
       "  <thead>\n",
       "    <tr style=\"text-align: right;\">\n",
       "      <th></th>\n",
       "      <th>rebirth_5_6</th>\n",
       "      <th>rebirth_2_20</th>\n",
       "      <th>maxcount</th>\n",
       "      <th>rebirth_5_4</th>\n",
       "      <th>rebirth_5_5</th>\n",
       "      <th>total</th>\n",
       "      <th>rebirth_5_8</th>\n",
       "      <th>rebirth_1_10</th>\n",
       "      <th>death_1</th>\n",
       "      <th>rebirth_2_5</th>\n",
       "      <th>...</th>\n",
       "      <th>maxpropy</th>\n",
       "      <th>totalprop</th>\n",
       "      <th>rebirth_2_10</th>\n",
       "      <th>rebirth_5_0</th>\n",
       "      <th>rebirth_1_20</th>\n",
       "      <th>rebirth_5_9</th>\n",
       "      <th>rebirth_0_20</th>\n",
       "      <th>first</th>\n",
       "      <th>rebirth_5_7</th>\n",
       "      <th>rebirth_1_3</th>\n",
       "    </tr>\n",
       "  </thead>\n",
       "  <tbody>\n",
       "    <tr>\n",
       "      <th>4</th>\n",
       "      <td>NaN</td>\n",
       "      <td>NaN</td>\n",
       "      <td>5</td>\n",
       "      <td>NaN</td>\n",
       "      <td>NaN</td>\n",
       "      <td>89</td>\n",
       "      <td>NaN</td>\n",
       "      <td>NaN</td>\n",
       "      <td>NaN</td>\n",
       "      <td>NaN</td>\n",
       "      <td>...</td>\n",
       "      <td>1966</td>\n",
       "      <td>0.079724</td>\n",
       "      <td>NaN</td>\n",
       "      <td>NaN</td>\n",
       "      <td>NaN</td>\n",
       "      <td>NaN</td>\n",
       "      <td>NaN</td>\n",
       "      <td>1965</td>\n",
       "      <td>NaN</td>\n",
       "      <td>NaN</td>\n",
       "    </tr>\n",
       "    <tr>\n",
       "      <th>8</th>\n",
       "      <td>NaN</td>\n",
       "      <td>NaN</td>\n",
       "      <td>5</td>\n",
       "      <td>NaN</td>\n",
       "      <td>NaN</td>\n",
       "      <td>86</td>\n",
       "      <td>NaN</td>\n",
       "      <td>NaN</td>\n",
       "      <td>NaN</td>\n",
       "      <td>NaN</td>\n",
       "      <td>...</td>\n",
       "      <td>1979</td>\n",
       "      <td>0.061659</td>\n",
       "      <td>NaN</td>\n",
       "      <td>NaN</td>\n",
       "      <td>NaN</td>\n",
       "      <td>NaN</td>\n",
       "      <td>NaN</td>\n",
       "      <td>1973</td>\n",
       "      <td>NaN</td>\n",
       "      <td>NaN</td>\n",
       "    </tr>\n",
       "    <tr>\n",
       "      <th>2</th>\n",
       "      <td>NaN</td>\n",
       "      <td>NaN</td>\n",
       "      <td>4</td>\n",
       "      <td>NaN</td>\n",
       "      <td>NaN</td>\n",
       "      <td>72</td>\n",
       "      <td>NaN</td>\n",
       "      <td>NaN</td>\n",
       "      <td>NaN</td>\n",
       "      <td>NaN</td>\n",
       "      <td>...</td>\n",
       "      <td>1991</td>\n",
       "      <td>0.046492</td>\n",
       "      <td>NaN</td>\n",
       "      <td>NaN</td>\n",
       "      <td>NaN</td>\n",
       "      <td>NaN</td>\n",
       "      <td>NaN</td>\n",
       "      <td>1979</td>\n",
       "      <td>NaN</td>\n",
       "      <td>NaN</td>\n",
       "    </tr>\n",
       "    <tr>\n",
       "      <th>28</th>\n",
       "      <td>NaN</td>\n",
       "      <td>NaN</td>\n",
       "      <td>7</td>\n",
       "      <td>NaN</td>\n",
       "      <td>NaN</td>\n",
       "      <td>68</td>\n",
       "      <td>NaN</td>\n",
       "      <td>NaN</td>\n",
       "      <td>NaN</td>\n",
       "      <td>NaN</td>\n",
       "      <td>...</td>\n",
       "      <td>1973</td>\n",
       "      <td>0.042180</td>\n",
       "      <td>NaN</td>\n",
       "      <td>NaN</td>\n",
       "      <td>NaN</td>\n",
       "      <td>NaN</td>\n",
       "      <td>NaN</td>\n",
       "      <td>1972</td>\n",
       "      <td>NaN</td>\n",
       "      <td>NaN</td>\n",
       "    </tr>\n",
       "    <tr>\n",
       "      <th>80</th>\n",
       "      <td>NaN</td>\n",
       "      <td>NaN</td>\n",
       "      <td>4</td>\n",
       "      <td>NaN</td>\n",
       "      <td>NaN</td>\n",
       "      <td>65</td>\n",
       "      <td>NaN</td>\n",
       "      <td>NaN</td>\n",
       "      <td>NaN</td>\n",
       "      <td>NaN</td>\n",
       "      <td>...</td>\n",
       "      <td>1976</td>\n",
       "      <td>0.053456</td>\n",
       "      <td>NaN</td>\n",
       "      <td>NaN</td>\n",
       "      <td>NaN</td>\n",
       "      <td>NaN</td>\n",
       "      <td>NaN</td>\n",
       "      <td>1966</td>\n",
       "      <td>NaN</td>\n",
       "      <td>NaN</td>\n",
       "    </tr>\n",
       "  </tbody>\n",
       "</table>\n",
       "<p>5 rows × 42 columns</p>\n",
       "</div>"
      ],
      "text/plain": [
       "    rebirth_5_6  rebirth_2_20  maxcount  rebirth_5_4  rebirth_5_5  total  \\\n",
       "4           NaN           NaN         5          NaN          NaN     89   \n",
       "8           NaN           NaN         5          NaN          NaN     86   \n",
       "2           NaN           NaN         4          NaN          NaN     72   \n",
       "28          NaN           NaN         7          NaN          NaN     68   \n",
       "80          NaN           NaN         4          NaN          NaN     65   \n",
       "\n",
       "    rebirth_5_8  rebirth_1_10  death_1  rebirth_2_5  ...  maxpropy  totalprop  \\\n",
       "4           NaN           NaN      NaN          NaN  ...      1966   0.079724   \n",
       "8           NaN           NaN      NaN          NaN  ...      1979   0.061659   \n",
       "2           NaN           NaN      NaN          NaN  ...      1991   0.046492   \n",
       "28          NaN           NaN      NaN          NaN  ...      1973   0.042180   \n",
       "80          NaN           NaN      NaN          NaN  ...      1976   0.053456   \n",
       "\n",
       "    rebirth_2_10  rebirth_5_0 rebirth_1_20  rebirth_5_9  rebirth_0_20  first  \\\n",
       "4            NaN          NaN          NaN          NaN           NaN   1965   \n",
       "8            NaN          NaN          NaN          NaN           NaN   1973   \n",
       "2            NaN          NaN          NaN          NaN           NaN   1979   \n",
       "28           NaN          NaN          NaN          NaN           NaN   1972   \n",
       "80           NaN          NaN          NaN          NaN           NaN   1966   \n",
       "\n",
       "    rebirth_5_7  rebirth_1_3  \n",
       "4           NaN          NaN  \n",
       "8           NaN          NaN  \n",
       "2           NaN          NaN  \n",
       "28          NaN          NaN  \n",
       "80          NaN          NaN  \n",
       "\n",
       "[5 rows x 42 columns]"
      ]
     },
     "execution_count": 9,
     "metadata": {},
     "output_type": "execute_result"
    }
   ],
   "source": [
    "alldf.sort_values(\"total\", ascending=False).head()"
   ]
  },
  {
   "cell_type": "code",
   "execution_count": 10,
   "metadata": {
    "execution": {
     "iopub.execute_input": "2020-06-01T18:03:33.168183Z",
     "iopub.status.busy": "2020-06-01T18:03:33.167186Z",
     "iopub.status.idle": "2020-06-01T18:03:33.171179Z",
     "shell.execute_reply": "2020-06-01T18:03:33.171179Z"
    },
    "papermill": {
     "duration": 0.051044,
     "end_time": "2020-06-01T18:03:33.171179",
     "exception": false,
     "start_time": "2020-06-01T18:03:33.120135",
     "status": "completed"
    },
    "tags": []
   },
   "outputs": [],
   "source": [
    "save_variable(\"%s.%s.top1\" % (database_name,ctype), alldf)"
   ]
  },
  {
   "cell_type": "code",
   "execution_count": 11,
   "metadata": {
    "execution": {
     "iopub.execute_input": "2020-06-01T18:03:33.207079Z",
     "iopub.status.busy": "2020-06-01T18:03:33.206082Z",
     "iopub.status.idle": "2020-06-01T18:03:33.209073Z",
     "shell.execute_reply": "2020-06-01T18:03:33.209073Z"
    },
    "jupyter": {
     "source_hidden": true
    },
    "papermill": {
     "duration": 0.020943,
     "end_time": "2020-06-01T18:03:33.209073",
     "exception": false,
     "start_time": "2020-06-01T18:03:33.188130",
     "status": "completed"
    },
    "tags": []
   },
   "outputs": [],
   "source": [
    "save_variable(\"%s.%s.top1\" % (database_name,ctype), alldf)"
   ]
  }
 ],
 "metadata": {
  "kernelspec": {
   "display_name": "Python 3",
   "language": "python",
   "name": "python3"
  },
  "language_info": {
   "codemirror_mode": {
    "name": "ipython",
    "version": 3
   },
   "file_extension": ".py",
   "mimetype": "text/x-python",
   "name": "python",
   "nbconvert_exporter": "python",
   "pygments_lexer": "ipython3",
   "version": "3.7.5"
  },
  "papermill": {
   "duration": 4.392815,
   "end_time": "2020-06-01T18:03:33.341136",
   "environment_variables": {},
   "exception": null,
   "input_path": "G:\\My Drive\\projects\\qualitative analysis of literature\\post 5-12-2020\\git repository _ citation-deaths\\knowknow\\creating variables\\top percent cited in decade (top1).ipynb",
   "output_path": "G:\\My Drive\\projects\\qualitative analysis of literature\\post 5-12-2020\\git repository _ citation-deaths\\knowknow\\creating variables\\top percent cited in decade (top1).ipynb",
   "parameters": {
    "ctype": "fa",
    "database_name": "sociology-wos"
   },
   "start_time": "2020-06-01T18:03:28.948321",
   "version": "2.1.1"
  }
 },
 "nbformat": 4,
 "nbformat_minor": 4
}