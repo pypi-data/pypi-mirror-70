{
 "cells": [
  {
   "cell_type": "markdown",
   "metadata": {},
   "source": [
    "# The Meta Executor\n",
    "\n",
    "This Jupyter notebook is able to run other notebooks.\n",
    "When it runs them, it will NOT overwrite what was in the notebook, but it will update the outputs.\n",
    "These all function to save databases, tables, or figures.\n",
    "So, hypothetically, you could run all analyses without seeing the notebooks that ran them, and peruse the results in the `all_figures.ipynb` or `all_tables.ipynb` notebooks.\n",
    "\n",
    "This notebook is also where I have centralized high-level documentation.\n",
    "To edit documentation, see the `documentation.yaml` file."
   ]
  },
  {
   "cell_type": "markdown",
   "metadata": {},
   "source": [
    "# todos\n",
    "\n",
    "+ fix the term consolidation. I want the top 30000 \"terms\" -- cooccurrences between words \n",
    "    + in terms of frequency\n",
    "    + in terms of chi2 non-independence with central citations\n",
    "    + in terms of chi2 with each other (use cortext)\n",
    "+ export demographic tables\n",
    "+ journal trends figure\n",
    "+ export figure with different kinds of deaths, consolidate multiple figures into \"bigdeaths\""
   ]
  },
  {
   "cell_type": "code",
   "execution_count": 2,
   "metadata": {},
   "outputs": [],
   "source": [
    "import sys; sys.path.append(_dh[0].split(\"knowknow\")[0])\n",
    "from knowknow import *"
   ]
  },
  {
   "cell_type": "code",
   "execution_count": 3,
   "metadata": {},
   "outputs": [],
   "source": [
    "import papermill as pm"
   ]
  },
  {
   "cell_type": "code",
   "execution_count": 4,
   "metadata": {},
   "outputs": [],
   "source": [
    "if True:\n",
    "    import logging\n",
    "    logging.basicConfig()\n",
    "    logging.getLogger().setLevel(logging.INFO)"
   ]
  },
  {
   "cell_type": "code",
   "execution_count": 4,
   "metadata": {},
   "outputs": [
    {
     "data": {
      "text/markdown": [
       "# Counting coocurrences"
      ],
      "text/plain": [
       "<IPython.core.display.Markdown object>"
      ]
     },
     "metadata": {},
     "output_type": "display_data"
    },
    {
     "data": {
      "text/markdown": [
       "Cultural phenomena are rich in meaning and context. Moreover, the meaning and context are what we care about, so stripping that would be a disservice. \"Consider Geertz:\"\n",
       "> Not only is the semantic structure of the figure a good deal more complex than it appears on the surface, but an analysis of that structure forces one into tracing a multiplicity of referential connections between it and social reality, so that the final picture is one of a configuration of dissimilar meanings out of whose interworking both the expressive power and the rhetorical force of the final symbol derive. (Geertz [1955] 1973, Chapter 8 Ideology as a Cultural System, p. 213)\n",
       "\n",
       "The way people understanding their world shape their action, and understandings are heterogeneous in any community, woven into a complex web of interacting pieces and parts. Understandings are constantly evolving, shifting with every conversation or Breaking News. Any quantitative technique for studying meaning must be able to capture the relational structure of cultural objects, their temporal dynamics, or it cannot be meaning.\n",
       "\n",
       "These considerations motivate how I have designed the data structure and code for this project. My attention to \"cooccurrences\" in what follows is an application of Levi Martin and Lee's (2018) formal approach to meaning. They develop the symbolic formalism I use below, as well as showing several general analytic strategies for inductive, ground-up meaning-making from count data. This approach is quite general, useful for many applications.\n",
       "\n",
       "The process is rather simple, I count cooccurrences between various attributes. For each document, for each citation in that document, I increment a dozen counters, depending on attributes of the citation, paper, journal, or author. This counting process is done once, and can be used as a compressed form of the dataset for all further analyses. In the terminology of Levi Martin and Lee, I am constructing \"hypergraphs\", and I will use their notation in what follows. For example $[c*fy]$ indicates the dataset which maps from $(c, fy) \\to count$.\n",
       "$c$ is the name of the cited work. $fy$ is the publication year of the article which made the citation. $count$ is the number of citations which are at the intersection of these properties.\n",
       "\n",
       "+ $[c]$ the number of citations each document receives\n",
       "+ $[c*fj]$ the number of citations each document receives from each journal's articles\n",
       "+ $[c*fy]$ the number of citations each document receives from each year's articles\n",
       "+ $[fj]$ the number of citations from each journal\n",
       "+ $[fj*fy]$ the number of citations in each journal in each year\n",
       "+ $[t]$ cited term total counts\n",
       "+ $[fy*t]$ cited term time series\n",
       "+ term cooccurrence with citation and journal ($[c*t]$ and [fj*t]$)\n",
       "+ \"author\" counts, the number of citations by each author ($[a]$ $[a*c]$ $[a*j*y]$)\n",
       "+ [c*c]$, the cooccurrence network between citations\n",
       "+ the death of citations can be studied using the $[c*fy]$ hypergraph\n",
       "+ $[c*fj*t]$ could be used for analyzing differential associations of $c$ to $t$ across publication venues\n",
       "+ $[ta*ta]$, $[fa*fa]$, $[t*t]$ and $[c*c]$ open the door to network-scientific methods"
      ],
      "text/plain": [
       "<IPython.core.display.Markdown object>"
      ]
     },
     "metadata": {},
     "output_type": "display_data"
    },
    {
     "data": {
      "text/markdown": [
       "# References\n",
       "\n",
       "\n",
       "\n",
       "+ Martin, John Levi, and Monica Lee. 2018. “A Formal Approach to Meaning.” Poetics 68(February):10–17.\n",
       "+ Geertz, Clifford. 1973. The Interpretation of Cultures. New York: Basic Books, Inc."
      ],
      "text/plain": [
       "<IPython.core.display.Markdown object>"
      ]
     },
     "metadata": {},
     "output_type": "display_data"
    }
   ],
   "source": [
    "showdocs(\"counter\")"
   ]
  },
  {
   "cell_type": "code",
   "execution_count": null,
   "metadata": {},
   "outputs": [],
   "source": [
    "# JSTOR counter\n",
    "\n",
    "if False:\n",
    "    jstor = Path(_dh[0]).joinpath('creating variables','jstor counter (cnt).ipynb')\n",
    "    pm.execute_notebook(\n",
    "        str(jstor),\n",
    "        str(jstor),\n",
    "        parameters = {},\n",
    "        nest_asyncio=True\n",
    "    )"
   ]
  },
  {
   "cell_type": "code",
   "execution_count": null,
   "metadata": {},
   "outputs": [],
   "source": [
    "# WOS counter\n",
    "\n",
    "if False:\n",
    "    wos = Path(_dh[0]).joinpath('creating variables','web of science counter (cnt).ipynb')\n",
    "    pm.execute_notebook(\n",
    "        str(wos),\n",
    "        str(wos),\n",
    "        parameters = {},\n",
    "        nest_asyncio=True\n",
    "    )"
   ]
  },
  {
   "cell_type": "code",
   "execution_count": 8,
   "metadata": {},
   "outputs": [
    {
     "data": {
      "text/markdown": [
       "# Zooming in on the top 1%\n",
       "\n",
       "I would like to look at the most successful cited authors, cited works, and cited terms. Unfortunately, this isn't so simple. There has been a dramatic increase in the supply of citations over the last 100 years, so the group with the most total citations would be skewed towards the citation preferences of recent papers. In order to account for this bias,\n",
       "\n",
       "I choose among items cited by articles published in each decade 1940-1950, 1941-1951, 1942-1952, all the way to 1980-1990. In each of these decades I determine which were the top-cited 1%. The set of all these top 1%s, from all these decade spans, comprise the 1% I will study in this paper."
      ],
      "text/plain": [
       "<IPython.core.display.Markdown object>"
      ]
     },
     "metadata": {},
     "output_type": "display_data"
    }
   ],
   "source": [
    "showdocs(\"top1\")"
   ]
  },
  {
   "cell_type": "code",
   "execution_count": 28,
   "metadata": {},
   "outputs": [
    {
     "name": "stderr",
     "output_type": "stream",
     "text": [
      "INFO:papermill:Input Notebook:  G:\\My Drive\\projects\\qualitative analysis of literature\\post 5-12-2020\\git repository _ citation-deaths\\knowknow\\creating variables\\top percent cited in decade (top1).ipynb\n",
      "INFO:papermill:Output Notebook: G:\\My Drive\\projects\\qualitative analysis of literature\\post 5-12-2020\\git repository _ citation-deaths\\knowknow\\creating variables\\top percent cited in decade (top1).ipynb\n"
     ]
    },
    {
     "data": {
      "application/vnd.jupyter.widget-view+json": {
       "model_id": "a3d2768f0fa346bf80c186c2b1d41153",
       "version_major": 2,
       "version_minor": 0
      },
      "text/plain": [
       "HBox(children=(FloatProgress(value=0.0, description='Executing', max=14.0, style=ProgressStyle(description_wid…"
      ]
     },
     "metadata": {},
     "output_type": "display_data"
    },
    {
     "name": "stderr",
     "output_type": "stream",
     "text": [
      "INFO:papermill:Executing notebook with kernel: python3\n",
      "INFO:papermill:Input Notebook:  G:\\My Drive\\projects\\qualitative analysis of literature\\post 5-12-2020\\git repository _ citation-deaths\\knowknow\\creating variables\\top percent cited in decade (top1).ipynb\n",
      "INFO:papermill:Output Notebook: G:\\My Drive\\projects\\qualitative analysis of literature\\post 5-12-2020\\git repository _ citation-deaths\\knowknow\\creating variables\\top percent cited in decade (top1).ipynb\n"
     ]
    },
    {
     "name": "stdout",
     "output_type": "stream",
     "text": [
      "\n"
     ]
    },
    {
     "data": {
      "application/vnd.jupyter.widget-view+json": {
       "model_id": "90a738132599432f8f251906ef000b3f",
       "version_major": 2,
       "version_minor": 0
      },
      "text/plain": [
       "HBox(children=(FloatProgress(value=0.0, description='Executing', max=14.0, style=ProgressStyle(description_wid…"
      ]
     },
     "metadata": {},
     "output_type": "display_data"
    },
    {
     "name": "stderr",
     "output_type": "stream",
     "text": [
      "INFO:papermill:Executing notebook with kernel: python3\n",
      "INFO:papermill:Input Notebook:  G:\\My Drive\\projects\\qualitative analysis of literature\\post 5-12-2020\\git repository _ citation-deaths\\knowknow\\creating variables\\top percent cited in decade (top1).ipynb\n",
      "INFO:papermill:Output Notebook: G:\\My Drive\\projects\\qualitative analysis of literature\\post 5-12-2020\\git repository _ citation-deaths\\knowknow\\creating variables\\top percent cited in decade (top1).ipynb\n"
     ]
    },
    {
     "name": "stdout",
     "output_type": "stream",
     "text": [
      "\n"
     ]
    },
    {
     "data": {
      "application/vnd.jupyter.widget-view+json": {
       "model_id": "f0da9712255a4adbbe754ddccf0df090",
       "version_major": 2,
       "version_minor": 0
      },
      "text/plain": [
       "HBox(children=(FloatProgress(value=0.0, description='Executing', max=14.0, style=ProgressStyle(description_wid…"
      ]
     },
     "metadata": {},
     "output_type": "display_data"
    },
    {
     "name": "stderr",
     "output_type": "stream",
     "text": [
      "INFO:papermill:Executing notebook with kernel: python3\n"
     ]
    },
    {
     "name": "stdout",
     "output_type": "stream",
     "text": [
      "\n"
     ]
    }
   ],
   "source": [
    "# top1\n",
    "ys = Path(_dh[0]).joinpath('creating variables','top percent cited in decade (top1).ipynb')\n",
    "\n",
    "settings = [\n",
    "    {\"database_name\":\"sociology-wos\",\"ctype\":'c'},\n",
    "    {\"database_name\":\"sociology-wos\",\"ctype\":'ta'},\n",
    "    {\"database_name\":\"sociology-wos\",\"ctype\":'fa'},\n",
    "    #{\"database_name\":\"sociology-jstor-basicall\",\"ctype\":'t', }\n",
    "]\n",
    "\n",
    "for sett in settings:\n",
    "    pm.execute_notebook(\n",
    "        str(ys),\n",
    "        str(ys),\n",
    "        parameters = sett,\n",
    "        nest_asyncio=True\n",
    "    )"
   ]
  },
  {
   "cell_type": "code",
   "execution_count": 31,
   "metadata": {},
   "outputs": [
    {
     "name": "stderr",
     "output_type": "stream",
     "text": [
      "INFO:papermill:Input Notebook:  G:\\My Drive\\projects\\qualitative analysis of literature\\post 5-12-2020\\git repository _ citation-deaths\\knowknow\\creating variables\\ysum - computing temporal summaries.ipynb\n",
      "INFO:papermill:Output Notebook: G:\\My Drive\\projects\\qualitative analysis of literature\\post 5-12-2020\\git repository _ citation-deaths\\knowknow\\creating variables\\ysum - computing temporal summaries.ipynb\n",
      "INFO:papermill:Executing notebook with kernel: python3\n",
      "INFO:papermill:Executing Cell 1---------------------------------------\n",
      "INFO:papermill:Ending Cell 1------------------------------------------\n",
      "INFO:papermill:Executing Cell 2---------------------------------------\n",
      "INFO:papermill:Ending Cell 2------------------------------------------\n",
      "INFO:papermill:Executing Cell 3---------------------------------------\n",
      "INFO:papermill:Ending Cell 3------------------------------------------\n",
      "INFO:papermill:Executing Cell 4---------------------------------------\n",
      "INFO:papermill:Ending Cell 4------------------------------------------\n",
      "INFO:papermill:Executing Cell 5---------------------------------------\n",
      "INFO:papermill:Ending Cell 5------------------------------------------\n",
      "INFO:papermill:Executing Cell 6---------------------------------------\n",
      "INFO:papermill:Pubyears loaded for 111731 entries\n",
      "\n",
      "INFO:papermill:Ending Cell 6------------------------------------------\n",
      "INFO:papermill:Executing Cell 7---------------------------------------\n",
      "INFO:papermill:Ending Cell 7------------------------------------------\n",
      "INFO:papermill:Executing Cell 8---------------------------------------\n",
      "INFO:papermill:Ending Cell 8------------------------------------------\n",
      "INFO:papermill:Executing Cell 9---------------------------------------\n",
      "INFO:papermill:Ending Cell 9------------------------------------------\n",
      "INFO:papermill:Executing Cell 10--------------------------------------\n",
      "INFO:papermill:Ending Cell 10-----------------------------------------\n",
      "INFO:papermill:Executing Cell 11--------------------------------------\n",
      "INFO:papermill:Loaded keys: dict_keys(['ffa.fy', 'fy', 'ffa'])\n",
      "Available keys: ['a', 'c', 'c.c', 'c.fj', 'c.fy', 'c.fy.j', 'fa', 'fa.c', 'fa.fj', 'fa.fj.fy', 'fa.fy', 'ffa', 'ffa.c', 'ffa.fj', 'ffa.fy', 'fj', 'fj.fy', 'fj.ta', 'fj.ty', 'fy', 'fy.ta', 'fy.ty', 'ta', 'ty', 'ty.ty']\n",
      "\n",
      "INFO:papermill:Ending Cell 11-----------------------------------------\n",
      "INFO:papermill:Executing Cell 12--------------------------------------\n",
      "INFO:papermill:Ending Cell 12-----------------------------------------\n",
      "INFO:papermill:Executing Cell 13--------------------------------------\n",
      "INFO:papermill:Ending Cell 13-----------------------------------------\n",
      "INFO:papermill:Executing Cell 14--------------------------------------\n",
      "INFO:papermill:Ending Cell 14-----------------------------------------\n",
      "INFO:papermill:Executing Cell 15--------------------------------------\n",
      "INFO:papermill:Ending Cell 15-----------------------------------------\n",
      "INFO:papermill:Executing Cell 16--------------------------------------\n",
      "INFO:papermill:Ending Cell 16-----------------------------------------\n",
      "INFO:papermill:Executing Cell 17--------------------------------------\n",
      "INFO:papermill:Ending Cell 17-----------------------------------------\n",
      "INFO:papermill:Executing Cell 18--------------------------------------\n",
      "INFO:papermill:Ending Cell 18-----------------------------------------\n",
      "INFO:papermill:Executing Cell 19--------------------------------------\n",
      "INFO:papermill:Ending Cell 19-----------------------------------------\n",
      "INFO:papermill:Executing Cell 20--------------------------------------\n",
      "INFO:papermill:Ending Cell 20-----------------------------------------\n",
      "INFO:papermill:Executing Cell 21--------------------------------------\n",
      "INFO:papermill:Ending Cell 21-----------------------------------------\n",
      "INFO:papermill:Executing Cell 22--------------------------------------\n",
      "INFO:papermill:Ending Cell 22-----------------------------------------\n",
      "INFO:papermill:Executing Cell 23--------------------------------------\n",
      "INFO:papermill:Ending Cell 23-----------------------------------------\n",
      "INFO:papermill:Executing Cell 24--------------------------------------\n",
      "INFO:papermill:Ending Cell 24-----------------------------------------\n",
      "INFO:papermill:Executing Cell 25--------------------------------------\n",
      "INFO:papermill:Ending Cell 25-----------------------------------------\n",
      "INFO:papermill:Executing Cell 26--------------------------------------\n",
      "INFO:papermill:Processing database 'sociology-wos'\n",
      "Item 0\n",
      "defaultdict(<class 'int'>, {})\n",
      "\n",
      "INFO:papermill:Item 5000\n",
      "\n",
      "INFO:papermill:Item 10000\n",
      "Item 15000\n",
      "\n",
      "INFO:papermill:Item 20000\n",
      "\n",
      "INFO:papermill:Item 25000\n",
      "\n",
      "INFO:papermill:Item 30000\n",
      "\n",
      "INFO:papermill:Item 35000\n",
      "\n",
      "INFO:papermill:Ending Cell 26-----------------------------------------\n",
      "INFO:papermill:Executing Cell 27--------------------------------------\n",
      "INFO:papermill:Ending Cell 27-----------------------------------------\n",
      "INFO:papermill:Executing Cell 28--------------------------------------\n",
      "INFO:papermill:death_0 None\n",
      "death_1 None\n",
      "death_2 None\n",
      "death_3 None\n",
      "death_5 None\n",
      "first 2011\n",
      "last 2017\n",
      "maxcount 2\n",
      "maxcounty 2015\n",
      "maxprop 0.0006754474839581223\n",
      "maxpropy 2015\n",
      "name hooghe, m\n",
      "rebirth_0_10 None\n",
      "rebirth_0_20 None\n",
      "rebirth_0_3 None\n",
      "rebirth_0_5 None\n",
      "rebirth_1_10 None\n",
      "rebirth_1_20 None\n",
      "rebirth_1_3 None\n",
      "rebirth_1_5 None\n",
      "rebirth_2_10 None\n",
      "rebirth_2_20 None\n",
      "rebirth_2_3 None\n",
      "rebirth_2_5 None\n",
      "rebirth_3_10 None\n",
      "rebirth_3_20 None\n",
      "rebirth_3_3 None\n",
      "rebirth_3_5 None\n",
      "rebirth_5_10 None\n",
      "rebirth_5_20 None\n",
      "rebirth_5_3 None\n",
      "rebirth_5_5 None\n",
      "total 6\n",
      "totalprop 0.0020860875658478503\n",
      "----------------------------\n",
      "death_0 None\n",
      "death_1 None\n",
      "death_2 None\n",
      "death_3 None\n",
      "death_5 None\n",
      "first 2011\n",
      "last 2018\n",
      "maxcount 2\n",
      "maxcounty 2013\n",
      "maxprop 0.0006963788300835655\n",
      "maxpropy 2013\n",
      "name gondal, n\n",
      "rebirth_0_10 None\n",
      "rebirth_0_20 None\n",
      "rebirth_0_3 None\n",
      "rebirth_0_5 None\n",
      "rebirth_1_10 None\n",
      "rebirth_1_20 None\n",
      "rebirth_1_3 None\n",
      "rebirth_1_5 None\n",
      "rebirth_2_10 None\n",
      "rebirth_2_20 None\n",
      "rebirth_2_3 None\n",
      "rebirth_2_5 None\n",
      "rebirth_3_10 None\n",
      "rebirth_3_20 None\n",
      "rebirth_3_3 None\n",
      "rebirth_3_5 None\n",
      "rebirth_5_10 None\n",
      "rebirth_5_20 None\n",
      "rebirth_5_3 None\n",
      "rebirth_5_5 None\n",
      "total 6\n",
      "totalprop 0.00210948546559322\n",
      "----------------------------\n",
      "death_0 None\n",
      "death_1 None\n",
      "death_2 None\n",
      "death_3 None\n",
      "death_5 None\n",
      "first 1995\n",
      "last 2016\n",
      "maxcount 3\n",
      "maxcounty 2013\n",
      "maxprop 0.0010445682451253482\n",
      "maxpropy 2013\n",
      "name franzen, a\n",
      "rebirth_0_10 None\n",
      "rebirth_0_20 None\n",
      "rebirth_0_3 None\n",
      "rebirth_0_5 None\n",
      "rebirth_1_10 None\n",
      "rebirth_1_20 None\n",
      "rebirth_1_3 None\n",
      "rebirth_1_5 None\n",
      "rebirth_2_10 None\n",
      "rebirth_2_20 None\n",
      "rebirth_2_3 None\n",
      "rebirth_2_5 None\n",
      "rebirth_3_10 None\n",
      "rebirth_3_20 None\n",
      "rebirth_3_3 None\n",
      "rebirth_3_5 None\n",
      "rebirth_5_10 None\n",
      "rebirth_5_20 None\n",
      "rebirth_5_3 None\n",
      "rebirth_5_5 None\n",
      "total 11\n",
      "totalprop 0.00500903153824101\n",
      "----------------------------\n",
      "death_0 None\n",
      "death_1 None\n",
      "death_2 None\n",
      "death_3 None\n",
      "death_5 1995\n",
      "first 1978\n",
      "last 2015\n",
      "maxcount 2\n",
      "maxcounty 1990\n",
      "maxprop 0.0015048908954100827\n",
      "maxpropy 1990\n",
      "name friedkin, n\n",
      "rebirth_0_10 None\n",
      "rebirth_0_20 None\n",
      "rebirth_0_3 None\n",
      "rebirth_0_5 None\n",
      "rebirth_1_10 None\n",
      "rebirth_1_20 None\n",
      "rebirth_1_3 None\n",
      "rebirth_1_5 None\n",
      "rebirth_2_10 None\n",
      "rebirth_2_20 None\n",
      "rebirth_2_3 None\n",
      "rebirth_2_5 None\n",
      "rebirth_3_10 None\n",
      "rebirth_3_20 None\n",
      "rebirth_3_3 None\n",
      "rebirth_3_5 None\n",
      "rebirth_5_10 None\n",
      "rebirth_5_20 None\n",
      "rebirth_5_3 2009\n",
      "rebirth_5_5 2009\n",
      "total 20\n",
      "totalprop 0.014073701394404638\n",
      "----------------------------\n",
      "death_0 2000\n",
      "death_1 2000\n",
      "death_2 1994\n",
      "death_3 1994\n",
      "death_5 1990\n",
      "first 1982\n",
      "last 2019\n",
      "maxcount 2\n",
      "maxcounty 1989\n",
      "maxprop 0.001444043321299639\n",
      "maxpropy 1989\n",
      "name wallace, m\n",
      "rebirth_0_10 None\n",
      "rebirth_0_20 None\n",
      "rebirth_0_3 None\n",
      "rebirth_0_5 None\n",
      "rebirth_1_10 None\n",
      "rebirth_1_20 None\n",
      "rebirth_1_3 None\n",
      "rebirth_1_5 None\n",
      "rebirth_2_10 None\n",
      "rebirth_2_20 None\n",
      "rebirth_2_3 2011\n",
      "rebirth_2_5 None\n",
      "rebirth_3_10 None\n",
      "rebirth_3_20 None\n",
      "rebirth_3_3 2011\n",
      "rebirth_3_5 None\n",
      "rebirth_5_10 None\n",
      "rebirth_5_20 None\n",
      "rebirth_5_3 2011\n",
      "rebirth_5_5 None\n",
      "total 10\n",
      "totalprop 0.006331034301149077\n",
      "----------------------------\n",
      "death_0 None\n",
      "death_1 None\n",
      "death_2 None\n",
      "death_3 None\n",
      "death_5 None\n",
      "first 2008\n",
      "last 2019\n",
      "maxcount 2\n",
      "maxcounty 2014\n",
      "maxprop 0.0006724949562878278\n",
      "maxpropy 2014\n",
      "name pais, j\n",
      "rebirth_0_10 None\n",
      "rebirth_0_20 None\n",
      "rebirth_0_3 None\n",
      "rebirth_0_5 None\n",
      "rebirth_1_10 None\n",
      "rebirth_1_20 None\n",
      "rebirth_1_3 None\n",
      "rebirth_1_5 None\n",
      "rebirth_2_10 None\n",
      "rebirth_2_20 None\n",
      "rebirth_2_3 None\n",
      "rebirth_2_5 None\n",
      "rebirth_3_10 None\n",
      "rebirth_3_20 None\n",
      "rebirth_3_3 None\n",
      "rebirth_3_5 None\n",
      "rebirth_5_10 None\n",
      "rebirth_5_20 None\n",
      "rebirth_5_3 None\n",
      "rebirth_5_5 None\n",
      "total 7\n",
      "totalprop 0.0025622212558883807\n",
      "----------------------------\n",
      "death_0 None\n",
      "death_1 None\n",
      "death_2 None\n",
      "death_3 None\n",
      "death_5 None\n",
      "first 2000\n",
      "last 2012\n",
      "maxcount 2\n",
      "maxcounty 2011\n",
      "maxprop 0.0012062726176115801\n",
      "maxpropy 2001\n",
      "name crowder, k\n",
      "rebirth_0_10 None\n",
      "rebirth_0_20 None\n",
      "rebirth_0_3 None\n",
      "rebirth_0_5 None\n",
      "rebirth_1_10 None\n",
      "rebirth_1_20 None\n",
      "rebirth_1_3 None\n",
      "rebirth_1_5 None\n",
      "rebirth_2_10 None\n",
      "rebirth_2_20 None\n",
      "rebirth_2_3 None\n",
      "rebirth_2_5 None\n",
      "rebirth_3_10 None\n",
      "rebirth_3_20 None\n",
      "rebirth_3_3 None\n",
      "rebirth_3_5 None\n",
      "rebirth_5_10 None\n",
      "rebirth_5_20 None\n",
      "rebirth_5_3 None\n",
      "rebirth_5_5 None\n",
      "total 11\n",
      "totalprop 0.005646195842509818\n",
      "----------------------------\n",
      "death_0 None\n",
      "death_1 None\n",
      "death_2 None\n",
      "death_3 None\n",
      "death_5 None\n",
      "first 2001\n",
      "last 2015\n",
      "maxcount 3\n",
      "maxcounty 2011\n",
      "maxprop 0.0017657445556209534\n",
      "maxpropy 2007\n",
      "name alon, s\n",
      "rebirth_0_10 None\n",
      "rebirth_0_20 None\n",
      "rebirth_0_3 None\n",
      "rebirth_0_5 None\n",
      "rebirth_1_10 None\n",
      "rebirth_1_20 None\n",
      "rebirth_1_3 None\n",
      "rebirth_1_5 None\n",
      "rebirth_2_10 None\n",
      "rebirth_2_20 None\n",
      "rebirth_2_3 None\n",
      "rebirth_2_5 None\n",
      "rebirth_3_10 None\n",
      "rebirth_3_20 None\n",
      "rebirth_3_3 None\n",
      "rebirth_3_5 None\n",
      "rebirth_5_10 None\n",
      "rebirth_5_20 None\n",
      "rebirth_5_3 None\n",
      "rebirth_5_5 None\n",
      "total 12\n",
      "totalprop 0.0059347316201944856\n",
      "----------------------------\n",
      "death_0 None\n",
      "death_1 None\n",
      "death_2 None\n",
      "death_3 None\n",
      "death_5 None\n",
      "first 1998\n",
      "last 2016\n",
      "maxcount 2\n",
      "maxcounty 2005\n",
      "maxprop 0.0011813349084465446\n",
      "maxpropy 2005\n",
      "name carbonaro, w\n",
      "rebirth_0_10 None\n",
      "rebirth_0_20 None\n",
      "rebirth_0_3 None\n",
      "rebirth_0_5 None\n",
      "rebirth_1_10 None\n",
      "rebirth_1_20 None\n",
      "rebirth_1_3 None\n",
      "rebirth_1_5 None\n",
      "rebirth_2_10 None\n",
      "rebirth_2_20 None\n",
      "rebirth_2_3 None\n",
      "rebirth_2_5 None\n",
      "rebirth_3_10 None\n",
      "rebirth_3_20 None\n",
      "rebirth_3_3 None\n",
      "rebirth_3_5 None\n",
      "rebirth_5_10 None\n",
      "rebirth_5_20 None\n",
      "rebirth_5_3 None\n",
      "rebirth_5_5 None\n",
      "total 8\n",
      "totalprop 0.0039172848209811165\n",
      "----------------------------\n",
      "death_0 None\n",
      "death_1 None\n",
      "death_2 None\n",
      "death_3 None\n",
      "death_5 None\n",
      "first 1990\n",
      "last 2018\n",
      "maxcount 2\n",
      "maxcounty 2018\n",
      "maxprop 0.0014705882352941176\n",
      "maxpropy 1991\n",
      "name sherkat, d\n",
      "rebirth_0_10 None\n",
      "rebirth_0_20 None\n",
      "rebirth_0_3 None\n",
      "rebirth_0_5 None\n",
      "rebirth_1_10 None\n",
      "rebirth_1_20 None\n",
      "rebirth_1_3 None\n",
      "rebirth_1_5 None\n",
      "rebirth_2_10 None\n",
      "rebirth_2_20 None\n",
      "rebirth_2_3 None\n",
      "rebirth_2_5 None\n",
      "rebirth_3_10 None\n",
      "rebirth_3_20 None\n",
      "rebirth_3_3 None\n",
      "rebirth_3_5 None\n",
      "rebirth_5_10 None\n",
      "rebirth_5_20 None\n",
      "rebirth_5_3 None\n",
      "rebirth_5_5 None\n",
      "total 21\n",
      "totalprop 0.012290534637626072\n",
      "----------------------------\n",
      "\n",
      "INFO:papermill:Ending Cell 28-----------------------------------------\n",
      "INFO:papermill:Executing Cell 29--------------------------------------\n",
      "INFO:papermill:Ending Cell 29-----------------------------------------\n",
      "INFO:papermill:Executing Cell 30--------------------------------------\n",
      "INFO:papermill:['death_0',\n",
      " 'death_1',\n",
      " 'death_2',\n",
      " 'death_3',\n",
      " 'death_5',\n",
      " 'first',\n",
      " 'last',\n",
      " 'maxcount',\n",
      " 'maxcounty',\n",
      " 'maxprop',\n",
      " 'maxpropy',\n",
      " 'name',\n",
      " 'rebirth_0_10',\n",
      " 'rebirth_0_20',\n",
      " 'rebirth_0_3',\n",
      " 'rebirth_0_5',\n",
      " 'rebirth_1_10',\n",
      " 'rebirth_1_20',\n",
      " 'rebirth_1_3',\n",
      " 'rebirth_1_5',\n",
      " 'rebirth_2_10',\n",
      " 'rebirth_2_20',\n",
      " 'rebirth_2_3',\n",
      " 'rebirth_2_5',\n",
      " 'rebirth_3_10',\n",
      " 'rebirth_3_20',\n",
      " 'rebirth_3_3',\n",
      " 'rebirth_3_5',\n",
      " 'rebirth_5_0',\n",
      " 'rebirth_5_1',\n",
      " 'rebirth_5_10',\n",
      " 'rebirth_5_2',\n",
      " 'rebirth_5_20',\n",
      " 'rebirth_5_3',\n",
      " 'rebirth_5_4',\n",
      " 'rebirth_5_5',\n",
      " 'rebirth_5_6',\n",
      " 'rebirth_5_7',\n",
      " 'rebirth_5_8',\n",
      " 'rebirth_5_9',\n",
      " 'total',\n",
      " 'totalprop']\n",
      "INFO:papermill:Ending Cell 30-----------------------------------------\n",
      "INFO:papermill:Executing Cell 31--------------------------------------\n",
      "INFO:papermill:159\n",
      "INFO:papermill:Ending Cell 31-----------------------------------------\n",
      "INFO:papermill:Executing Cell 32--------------------------------------\n",
      "INFO:papermill:defaultdict(<class 'int'>, {'at least one citation': 39031, 'literally 1 citation. dropped.': 24226, 'passed tests pre-blacklist': 2911, 'never rise': 11894})\n",
      "\n",
      "INFO:papermill:Ending Cell 32-----------------------------------------\n",
      "INFO:papermill:Executing Cell 33--------------------------------------\n",
      "INFO:papermill:Ending Cell 33-----------------------------------------\n",
      "INFO:papermill:Executing Cell 34--------------------------------------\n",
      "INFO:papermill:Ending Cell 34-----------------------------------------\n",
      "INFO:papermill:Executing Cell 35--------------------------------------\n",
      "INFO:papermill:Ending Cell 35-----------------------------------------\n",
      "INFO:papermill:Executing Cell 36--------------------------------------\n",
      "INFO:papermill:Ending Cell 36-----------------------------------------\n",
      "INFO:papermill:Executing Cell 37--------------------------------------\n",
      "INFO:papermill:Ending Cell 37-----------------------------------------\n"
     ]
    }
   ],
   "source": [
    "# ysum\n",
    "\n",
    "ys = next(Path(_dh[0]).glob('creating variables/ysum*.ipynb'))\n",
    "\n",
    "settings = [\n",
    "    #{\"database_name\":\"sociology-wos\",\"dtype\":'c'},\n",
    "    #{\"database_name\":\"sociology-wos\",\"dtype\":'ta'},\n",
    "    #{\"database_name\":\"sociology-wos\",\"dtype\":'fa'},\n",
    "    {\"database_name\":\"sociology-wos\",\"dtype\":'ffa'},\n",
    "    #{\"database_name\":\"sociology-jstor-basicall\",\"dtype\":'t'}\n",
    "]\n",
    "\n",
    "for sett in settings:\n",
    "    pm.execute_notebook(\n",
    "        str(ys),\n",
    "        str(ys),\n",
    "        parameters = sett,\n",
    "        log_output=True,\n",
    "        progress_bar=False,\n",
    "        nest_asyncio=True\n",
    "    )"
   ]
  },
  {
   "cell_type": "markdown",
   "metadata": {},
   "source": [
    "# small analyses"
   ]
  },
  {
   "cell_type": "code",
   "execution_count": 5,
   "metadata": {},
   "outputs": [
    {
     "name": "stderr",
     "output_type": "stream",
     "text": [
      "INFO:papermill:Input Notebook:  G:\\My Drive\\projects\\qualitative analysis of literature\\post 5-12-2020\\git repository _ citation-deaths\\knowknow\\analyses\\summary of journals.ipynb\n",
      "INFO:papermill:Output Notebook: G:\\My Drive\\projects\\qualitative analysis of literature\\post 5-12-2020\\git repository _ citation-deaths\\knowknow\\analyses\\summary of journals.ipynb\n"
     ]
    },
    {
     "data": {
      "application/vnd.jupyter.widget-view+json": {
       "model_id": "dfc1efe09c0744abbbfc27ab00a14e40",
       "version_major": 2,
       "version_minor": 0
      },
      "text/plain": [
       "HBox(children=(FloatProgress(value=0.0, description='Executing', max=3.0, style=ProgressStyle(description_widt…"
      ]
     },
     "metadata": {},
     "output_type": "display_data"
    },
    {
     "name": "stderr",
     "output_type": "stream",
     "text": [
      "INFO:papermill:Executing notebook with kernel: python3\n"
     ]
    },
    {
     "name": "stdout",
     "output_type": "stream",
     "text": [
      "\n"
     ]
    }
   ],
   "source": [
    "# journal summaries\n",
    "jsum = Path(_dh[0]).joinpath('analyses','summary of journals.ipynb')\n",
    "\n",
    "pm.execute_notebook(\n",
    "    str(jsum),\n",
    "    str(jsum),\n",
    "    parameters = {},\n",
    "    nest_asyncio=True\n",
    ");"
   ]
  },
  {
   "cell_type": "code",
   "execution_count": 20,
   "metadata": {},
   "outputs": [
    {
     "name": "stderr",
     "output_type": "stream",
     "text": [
      "INFO:papermill:Input Notebook:  G:\\My Drive\\projects\\qualitative analysis of literature\\post 5-12-2020\\git repository _ citation-deaths\\knowknow\\analyses\\momentary success makes death less likely.ipynb\n",
      "INFO:papermill:Output Notebook: G:\\My Drive\\projects\\qualitative analysis of literature\\post 5-12-2020\\git repository _ citation-deaths\\knowknow\\analyses\\momentary success makes death less likely.ipynb\n"
     ]
    },
    {
     "data": {
      "application/vnd.jupyter.widget-view+json": {
       "model_id": "d1af79610e3b469b8f45bec2c52d3e8a",
       "version_major": 2,
       "version_minor": 0
      },
      "text/plain": [
       "HBox(children=(FloatProgress(value=0.0, description='Executing', max=9.0, style=ProgressStyle(description_widt…"
      ]
     },
     "metadata": {},
     "output_type": "display_data"
    },
    {
     "name": "stderr",
     "output_type": "stream",
     "text": [
      "INFO:papermill:Executing notebook with kernel: python3\n",
      "INFO:papermill:Input Notebook:  G:\\My Drive\\projects\\qualitative analysis of literature\\post 5-12-2020\\git repository _ citation-deaths\\knowknow\\analyses\\momentary success makes death less likely.ipynb\n",
      "INFO:papermill:Output Notebook: G:\\My Drive\\projects\\qualitative analysis of literature\\post 5-12-2020\\git repository _ citation-deaths\\knowknow\\analyses\\momentary success makes death less likely.ipynb\n"
     ]
    },
    {
     "name": "stdout",
     "output_type": "stream",
     "text": [
      "\n"
     ]
    },
    {
     "data": {
      "application/vnd.jupyter.widget-view+json": {
       "model_id": "09e68bed688b4b5e8dba29e0244b9faf",
       "version_major": 2,
       "version_minor": 0
      },
      "text/plain": [
       "HBox(children=(FloatProgress(value=0.0, description='Executing', max=9.0, style=ProgressStyle(description_widt…"
      ]
     },
     "metadata": {},
     "output_type": "display_data"
    },
    {
     "name": "stderr",
     "output_type": "stream",
     "text": [
      "INFO:papermill:Executing notebook with kernel: python3\n",
      "INFO:papermill:Input Notebook:  G:\\My Drive\\projects\\qualitative analysis of literature\\post 5-12-2020\\git repository _ citation-deaths\\knowknow\\analyses\\momentary success makes death less likely.ipynb\n",
      "INFO:papermill:Output Notebook: G:\\My Drive\\projects\\qualitative analysis of literature\\post 5-12-2020\\git repository _ citation-deaths\\knowknow\\analyses\\momentary success makes death less likely.ipynb\n"
     ]
    },
    {
     "name": "stdout",
     "output_type": "stream",
     "text": [
      "\n"
     ]
    },
    {
     "data": {
      "application/vnd.jupyter.widget-view+json": {
       "model_id": "9733d97d58e44ad6ab9beb841f10a651",
       "version_major": 2,
       "version_minor": 0
      },
      "text/plain": [
       "HBox(children=(FloatProgress(value=0.0, description='Executing', max=9.0, style=ProgressStyle(description_widt…"
      ]
     },
     "metadata": {},
     "output_type": "display_data"
    },
    {
     "name": "stderr",
     "output_type": "stream",
     "text": [
      "INFO:papermill:Executing notebook with kernel: python3\n"
     ]
    },
    {
     "name": "stdout",
     "output_type": "stream",
     "text": [
      "\n"
     ]
    }
   ],
   "source": [
    "# momentary success\n",
    "moment = Path(_dh[0]).joinpath('analyses','momentary success makes death less likely.ipynb')\n",
    "\n",
    "settings = [\n",
    "    {\"database_name\":\"sociology-wos\",\"dtype\":'c'},\n",
    "    {\"database_name\":\"sociology-wos\",\"dtype\":'ta'},\n",
    "    {\"database_name\":\"sociology-wos\",\"dtype\":'fa'},\n",
    "    #{\"database_name\":\"sociology-jstor\",\"dtype\":'t'}\n",
    "]\n",
    "\n",
    "for sett in settings:\n",
    "    pm.execute_notebook(\n",
    "        str(moment),\n",
    "        str(moment),\n",
    "        parameters = sett,\n",
    "        nest_asyncio=True\n",
    "    )"
   ]
  },
  {
   "cell_type": "code",
   "execution_count": 7,
   "metadata": {},
   "outputs": [
    {
     "name": "stderr",
     "output_type": "stream",
     "text": [
      "INFO:papermill:Input Notebook:  G:\\My Drive\\projects\\qualitative analysis of literature\\post 5-12-2020\\git repository _ citation-deaths\\knowknow\\analyses\\ubiquitous power-law behavior.ipynb\n",
      "INFO:papermill:Output Notebook: G:\\My Drive\\projects\\qualitative analysis of literature\\post 5-12-2020\\git repository _ citation-deaths\\knowknow\\analyses\\ubiquitous power-law behavior.ipynb\n"
     ]
    },
    {
     "data": {
      "application/vnd.jupyter.widget-view+json": {
       "model_id": "a2d189ed721c49e88c25b794b69ecfb9",
       "version_major": 2,
       "version_minor": 0
      },
      "text/plain": [
       "HBox(children=(FloatProgress(value=0.0, description='Executing', max=13.0, style=ProgressStyle(description_wid…"
      ]
     },
     "metadata": {},
     "output_type": "display_data"
    },
    {
     "name": "stderr",
     "output_type": "stream",
     "text": [
      "INFO:papermill:Executing notebook with kernel: python3\n",
      "INFO:papermill:Input Notebook:  G:\\My Drive\\projects\\qualitative analysis of literature\\post 5-12-2020\\git repository _ citation-deaths\\knowknow\\analyses\\ubiquitous power-law behavior.ipynb\n",
      "INFO:papermill:Output Notebook: G:\\My Drive\\projects\\qualitative analysis of literature\\post 5-12-2020\\git repository _ citation-deaths\\knowknow\\analyses\\ubiquitous power-law behavior.ipynb\n"
     ]
    },
    {
     "name": "stdout",
     "output_type": "stream",
     "text": [
      "\n"
     ]
    },
    {
     "data": {
      "application/vnd.jupyter.widget-view+json": {
       "model_id": "6361c395b5d844e8a92fa104abbea172",
       "version_major": 2,
       "version_minor": 0
      },
      "text/plain": [
       "HBox(children=(FloatProgress(value=0.0, description='Executing', max=13.0, style=ProgressStyle(description_wid…"
      ]
     },
     "metadata": {},
     "output_type": "display_data"
    },
    {
     "name": "stderr",
     "output_type": "stream",
     "text": [
      "INFO:papermill:Executing notebook with kernel: python3\n",
      "INFO:papermill:Input Notebook:  G:\\My Drive\\projects\\qualitative analysis of literature\\post 5-12-2020\\git repository _ citation-deaths\\knowknow\\analyses\\ubiquitous power-law behavior.ipynb\n",
      "INFO:papermill:Output Notebook: G:\\My Drive\\projects\\qualitative analysis of literature\\post 5-12-2020\\git repository _ citation-deaths\\knowknow\\analyses\\ubiquitous power-law behavior.ipynb\n"
     ]
    },
    {
     "name": "stdout",
     "output_type": "stream",
     "text": [
      "\n"
     ]
    },
    {
     "data": {
      "application/vnd.jupyter.widget-view+json": {
       "model_id": "d681609e45f14f25b9b35a8ea70fa31e",
       "version_major": 2,
       "version_minor": 0
      },
      "text/plain": [
       "HBox(children=(FloatProgress(value=0.0, description='Executing', max=13.0, style=ProgressStyle(description_wid…"
      ]
     },
     "metadata": {},
     "output_type": "display_data"
    },
    {
     "name": "stderr",
     "output_type": "stream",
     "text": [
      "INFO:papermill:Executing notebook with kernel: python3\n"
     ]
    },
    {
     "name": "stdout",
     "output_type": "stream",
     "text": [
      "\n"
     ]
    }
   ],
   "source": [
    "# ubiquitous power-law behavior\n",
    "ys = Path(_dh[0]).joinpath('analyses','ubiquitous power-law behavior.ipynb')\n",
    "\n",
    "settings = [\n",
    "    {\"database_name\":\"sociology-wos\",\"dtype\":'c'},\n",
    "    {\"database_name\":\"sociology-wos\",\"dtype\":'ta'},\n",
    "    {\"database_name\":\"sociology-jstor\",\"dtype\":'t'}\n",
    "]\n",
    "\n",
    "for sett in settings:\n",
    "    pm.execute_notebook(\n",
    "        str(ys),\n",
    "        str(ys),\n",
    "        parameters = sett,\n",
    "        nest_asyncio=True\n",
    "    )"
   ]
  },
  {
   "cell_type": "markdown",
   "metadata": {},
   "source": [
    "# Demographics"
   ]
  },
  {
   "cell_type": "code",
   "execution_count": 5,
   "metadata": {},
   "outputs": [
    {
     "name": "stderr",
     "output_type": "stream",
     "text": [
      "INFO:papermill:Input Notebook:  G:\\My Drive\\projects\\qualitative analysis of literature\\post 5-12-2020\\git repository _ citation-deaths\\knowknow\\analyses\\demographics.ipynb\n",
      "INFO:papermill:Output Notebook: G:\\My Drive\\projects\\qualitative analysis of literature\\post 5-12-2020\\git repository _ citation-deaths\\knowknow\\analyses\\demographics.ipynb\n",
      "INFO:blib2to3.pgen2.driver:Generating grammar tables from c:\\users\\amcga\\envs\\citation-deaths\\lib\\site-packages\\blib2to3\\Grammar.txt\n",
      "INFO:blib2to3.pgen2.driver:Writing grammar tables to C:\\Users\\amcga\\AppData\\Local\\black\\black\\Cache\\19.10b0\\Grammar3.7.5.final.0.pickle\n",
      "INFO:blib2to3.pgen2.driver:Writing failed: [Errno 2] No such file or directory: 'C:\\\\Users\\\\amcga\\\\AppData\\\\Local\\\\black\\\\black\\\\Cache\\\\19.10b0\\\\tmpf7bbsp_j'\n",
      "INFO:blib2to3.pgen2.driver:Generating grammar tables from c:\\users\\amcga\\envs\\citation-deaths\\lib\\site-packages\\blib2to3\\PatternGrammar.txt\n",
      "INFO:blib2to3.pgen2.driver:Writing grammar tables to C:\\Users\\amcga\\AppData\\Local\\black\\black\\Cache\\19.10b0\\PatternGrammar3.7.5.final.0.pickle\n",
      "INFO:blib2to3.pgen2.driver:Writing failed: [Errno 2] No such file or directory: 'C:\\\\Users\\\\amcga\\\\AppData\\\\Local\\\\black\\\\black\\\\Cache\\\\19.10b0\\\\tmpvpulmihs'\n"
     ]
    },
    {
     "data": {
      "application/vnd.jupyter.widget-view+json": {
       "model_id": "2525c9dd2ce24609a7ad7f1e62895261",
       "version_major": 2,
       "version_minor": 0
      },
      "text/plain": [
       "HBox(children=(FloatProgress(value=0.0, description='Executing', max=51.0, style=ProgressStyle(description_wid…"
      ]
     },
     "metadata": {},
     "output_type": "display_data"
    },
    {
     "name": "stderr",
     "output_type": "stream",
     "text": [
      "INFO:papermill:Executing notebook with kernel: python3\n",
      "INFO:papermill:Input Notebook:  G:\\My Drive\\projects\\qualitative analysis of literature\\post 5-12-2020\\git repository _ citation-deaths\\knowknow\\analyses\\demographics.ipynb\n",
      "INFO:papermill:Output Notebook: G:\\My Drive\\projects\\qualitative analysis of literature\\post 5-12-2020\\git repository _ citation-deaths\\knowknow\\analyses\\demographics.ipynb\n"
     ]
    },
    {
     "name": "stdout",
     "output_type": "stream",
     "text": [
      "\n"
     ]
    },
    {
     "data": {
      "application/vnd.jupyter.widget-view+json": {
       "model_id": "d72879d228d14e70929d2810978ed635",
       "version_major": 2,
       "version_minor": 0
      },
      "text/plain": [
       "HBox(children=(FloatProgress(value=0.0, description='Executing', max=51.0, style=ProgressStyle(description_wid…"
      ]
     },
     "metadata": {},
     "output_type": "display_data"
    },
    {
     "name": "stderr",
     "output_type": "stream",
     "text": [
      "INFO:papermill:Executing notebook with kernel: python3\n",
      "INFO:papermill:Input Notebook:  G:\\My Drive\\projects\\qualitative analysis of literature\\post 5-12-2020\\git repository _ citation-deaths\\knowknow\\analyses\\demographics.ipynb\n",
      "INFO:papermill:Output Notebook: G:\\My Drive\\projects\\qualitative analysis of literature\\post 5-12-2020\\git repository _ citation-deaths\\knowknow\\analyses\\demographics.ipynb\n"
     ]
    },
    {
     "name": "stdout",
     "output_type": "stream",
     "text": [
      "\n"
     ]
    },
    {
     "data": {
      "application/vnd.jupyter.widget-view+json": {
       "model_id": "2134ed5e30684114a694b73c7b062347",
       "version_major": 2,
       "version_minor": 0
      },
      "text/plain": [
       "HBox(children=(FloatProgress(value=0.0, description='Executing', max=51.0, style=ProgressStyle(description_wid…"
      ]
     },
     "metadata": {},
     "output_type": "display_data"
    },
    {
     "name": "stderr",
     "output_type": "stream",
     "text": [
      "INFO:papermill:Executing notebook with kernel: python3\n",
      "INFO:papermill:Input Notebook:  G:\\My Drive\\projects\\qualitative analysis of literature\\post 5-12-2020\\git repository _ citation-deaths\\knowknow\\analyses\\demographics.ipynb\n",
      "INFO:papermill:Output Notebook: G:\\My Drive\\projects\\qualitative analysis of literature\\post 5-12-2020\\git repository _ citation-deaths\\knowknow\\analyses\\demographics.ipynb\n"
     ]
    },
    {
     "name": "stdout",
     "output_type": "stream",
     "text": [
      "\n"
     ]
    },
    {
     "data": {
      "application/vnd.jupyter.widget-view+json": {
       "model_id": "b405feb4763c4a87b3288adcefed5941",
       "version_major": 2,
       "version_minor": 0
      },
      "text/plain": [
       "HBox(children=(FloatProgress(value=0.0, description='Executing', max=51.0, style=ProgressStyle(description_wid…"
      ]
     },
     "metadata": {},
     "output_type": "display_data"
    },
    {
     "name": "stderr",
     "output_type": "stream",
     "text": [
      "INFO:papermill:Executing notebook with kernel: python3\n"
     ]
    },
    {
     "name": "stdout",
     "output_type": "stream",
     "text": [
      "\n"
     ]
    }
   ],
   "source": [
    "# demographics of authors, context, etc\n",
    "\n",
    "demo = Path(_dh[0]).joinpath('analyses','demographics.ipynb')\n",
    "\n",
    "for i in [0,1,3,4]:#range(3):#[4]:#\n",
    "    pm.execute_notebook(\n",
    "        str(demo),\n",
    "        str(demo),\n",
    "        parameters = dict(setting_no=i),\n",
    "        nest_asyncio=True\n",
    "    )"
   ]
  },
  {
   "cell_type": "code",
   "execution_count": 9,
   "metadata": {},
   "outputs": [
    {
     "data": {
      "text/markdown": [
       "# Citations which were in the 1%, but have died\n",
       "\n",
       "This figure shows a random 100 of these cited works. , in the sense of death2, death3, or death5. These deaths are labeled for reference."
      ],
      "text/plain": [
       "<IPython.core.display.Markdown object>"
      ]
     },
     "metadata": {},
     "output_type": "display_data"
    }
   ],
   "source": [
    "showdocs(\"100bigc\")"
   ]
  },
  {
   "cell_type": "code",
   "execution_count": 29,
   "metadata": {},
   "outputs": [
    {
     "name": "stderr",
     "output_type": "stream",
     "text": [
      "INFO:papermill:Input Notebook:  G:\\My Drive\\projects\\qualitative analysis of literature\\post 5-12-2020\\git repository _ citation-deaths\\knowknow\\analyses\\remarkable lives and deaths.ipynb\n",
      "INFO:papermill:Output Notebook: G:\\My Drive\\projects\\qualitative analysis of literature\\post 5-12-2020\\git repository _ citation-deaths\\knowknow\\analyses\\remarkable lives and deaths.ipynb\n"
     ]
    },
    {
     "data": {
      "application/vnd.jupyter.widget-view+json": {
       "model_id": "f2ec4cad531b436b8b7a7c7d22571b7f",
       "version_major": 2,
       "version_minor": 0
      },
      "text/plain": [
       "HBox(children=(FloatProgress(value=0.0, description='Executing', max=23.0, style=ProgressStyle(description_wid…"
      ]
     },
     "metadata": {},
     "output_type": "display_data"
    },
    {
     "name": "stderr",
     "output_type": "stream",
     "text": [
      "INFO:papermill:Executing notebook with kernel: python3\n",
      "INFO:papermill:Input Notebook:  G:\\My Drive\\projects\\qualitative analysis of literature\\post 5-12-2020\\git repository _ citation-deaths\\knowknow\\analyses\\remarkable lives and deaths.ipynb\n",
      "INFO:papermill:Output Notebook: G:\\My Drive\\projects\\qualitative analysis of literature\\post 5-12-2020\\git repository _ citation-deaths\\knowknow\\analyses\\remarkable lives and deaths.ipynb\n"
     ]
    },
    {
     "name": "stdout",
     "output_type": "stream",
     "text": [
      "\n"
     ]
    },
    {
     "data": {
      "application/vnd.jupyter.widget-view+json": {
       "model_id": "b78e027fd0a44122b03427f26b7afaec",
       "version_major": 2,
       "version_minor": 0
      },
      "text/plain": [
       "HBox(children=(FloatProgress(value=0.0, description='Executing', max=23.0, style=ProgressStyle(description_wid…"
      ]
     },
     "metadata": {},
     "output_type": "display_data"
    },
    {
     "name": "stderr",
     "output_type": "stream",
     "text": [
      "INFO:papermill:Executing notebook with kernel: python3\n",
      "INFO:papermill:Input Notebook:  G:\\My Drive\\projects\\qualitative analysis of literature\\post 5-12-2020\\git repository _ citation-deaths\\knowknow\\analyses\\remarkable lives and deaths.ipynb\n",
      "INFO:papermill:Output Notebook: G:\\My Drive\\projects\\qualitative analysis of literature\\post 5-12-2020\\git repository _ citation-deaths\\knowknow\\analyses\\remarkable lives and deaths.ipynb\n"
     ]
    },
    {
     "name": "stdout",
     "output_type": "stream",
     "text": [
      "\n"
     ]
    },
    {
     "data": {
      "application/vnd.jupyter.widget-view+json": {
       "model_id": "47f79ccd57f24bd289e511bb1b7a38cf",
       "version_major": 2,
       "version_minor": 0
      },
      "text/plain": [
       "HBox(children=(FloatProgress(value=0.0, description='Executing', max=23.0, style=ProgressStyle(description_wid…"
      ]
     },
     "metadata": {},
     "output_type": "display_data"
    },
    {
     "name": "stderr",
     "output_type": "stream",
     "text": [
      "INFO:papermill:Executing notebook with kernel: python3\n"
     ]
    },
    {
     "name": "stdout",
     "output_type": "stream",
     "text": [
      "\n"
     ]
    }
   ],
   "source": [
    "# visualizations of remarkable lives and deaths\n",
    "\n",
    "viz = Path(_dh[0]).joinpath('analyses','remarkable lives and deaths.ipynb')\n",
    "\n",
    "settings = [\n",
    "    {\"database_name\":\"sociology-wos\",\"dtype\":'c',\"birth_key\":'first'},\n",
    "    {\"database_name\":\"sociology-wos\",\"dtype\":'ta',\"birth_key\":'first'},\n",
    "    {\"database_name\":\"sociology-wos\",\"dtype\":'fa',\"birth_key\":'first'}\n",
    "]\n",
    "\n",
    "for sett in settings:\n",
    "    pm.execute_notebook(\n",
    "        str(viz),\n",
    "        str(viz),\n",
    "        parameters = sett,\n",
    "        nest_asyncio=True\n",
    "    )"
   ]
  }
 ],
 "metadata": {
  "kernelspec": {
   "display_name": "Python 3",
   "language": "python",
   "name": "python3"
  },
  "language_info": {
   "codemirror_mode": {
    "name": "ipython",
    "version": 3
   },
   "file_extension": ".py",
   "mimetype": "text/x-python",
   "name": "python",
   "nbconvert_exporter": "python",
   "pygments_lexer": "ipython3",
   "version": "3.7.5"
  }
 },
 "nbformat": 4,
 "nbformat_minor": 4
}
