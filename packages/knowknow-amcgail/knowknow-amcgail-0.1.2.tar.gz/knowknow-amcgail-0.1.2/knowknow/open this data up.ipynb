{
 "cells": [
  {
   "cell_type": "code",
   "execution_count": 87,
   "metadata": {},
   "outputs": [
    {
     "name": "stdout",
     "output_type": "stream",
     "text": [
      "Obtaining dataverse from git+https://github.com/IQSS/dataverse-client-python.git#egg=dataverse\n",
      "  Cloning https://github.com/IQSS/dataverse-client-python.git to c:\\users\\amcga\\envs\\citation-deaths\\src\\dataverse\n",
      "Requirement already satisfied: bleach>=1.2.2 in c:\\users\\amcga\\envs\\citation-deaths\\lib\\site-packages (from dataverse) (3.1.5)\n",
      "Requirement already satisfied: requests>=2.2.1 in c:\\users\\amcga\\envs\\citation-deaths\\lib\\site-packages (from dataverse) (2.23.0)\n",
      "Requirement already satisfied: lxml>=3.2.5 in c:\\users\\amcga\\envs\\citation-deaths\\lib\\site-packages (from dataverse) (4.4.1)\n",
      "Requirement already satisfied: webencodings in c:\\users\\amcga\\envs\\citation-deaths\\lib\\site-packages (from bleach>=1.2.2->dataverse) (0.5.1)\n",
      "Requirement already satisfied: packaging in c:\\users\\amcga\\envs\\citation-deaths\\lib\\site-packages (from bleach>=1.2.2->dataverse) (20.3)\n",
      "Requirement already satisfied: six>=1.9.0 in c:\\users\\amcga\\envs\\citation-deaths\\lib\\site-packages (from bleach>=1.2.2->dataverse) (1.14.0)\n",
      "Requirement already satisfied: urllib3!=1.25.0,!=1.25.1,<1.26,>=1.21.1 in c:\\users\\amcga\\envs\\citation-deaths\\lib\\site-packages (from requests>=2.2.1->dataverse) (1.25.9)\n",
      "Requirement already satisfied: idna<3,>=2.5 in c:\\users\\amcga\\envs\\citation-deaths\\lib\\site-packages (from requests>=2.2.1->dataverse) (2.9)\n",
      "Requirement already satisfied: certifi>=2017.4.17 in c:\\users\\amcga\\envs\\citation-deaths\\lib\\site-packages (from requests>=2.2.1->dataverse) (2020.4.5.1)\n",
      "Requirement already satisfied: chardet<4,>=3.0.2 in c:\\users\\amcga\\envs\\citation-deaths\\lib\\site-packages (from requests>=2.2.1->dataverse) (3.0.4)\n",
      "Requirement already satisfied: pyparsing>=2.0.2 in c:\\users\\amcga\\envs\\citation-deaths\\lib\\site-packages (from packaging->bleach>=1.2.2->dataverse) (2.4.7)\n",
      "Installing collected packages: dataverse\n",
      "  Running setup.py develop for dataverse\n",
      "Successfully installed dataverse\n"
     ]
    },
    {
     "name": "stderr",
     "output_type": "stream",
     "text": [
      "  Running command git clone -q https://github.com/IQSS/dataverse-client-python.git 'c:\\users\\amcga\\envs\\citation-deaths\\src\\dataverse'\n",
      "WARNING: You are using pip version 20.1; however, version 20.1.1 is available.\n",
      "You should consider upgrading via the 'c:\\users\\amcga\\envs\\citation-deaths\\scripts\\python.exe -m pip install --upgrade pip' command.\n"
     ]
    }
   ],
   "source": [
    "!pip install -e git+https://github.com/IQSS/dataverse-client-python.git#egg=dataverse"
   ]
  },
  {
   "cell_type": "code",
   "execution_count": 1,
   "metadata": {},
   "outputs": [],
   "source": [
    "from dataverse import Connection\n",
    "\n",
    "host = 'dataverse.harvard.edu'                  # All clients >4.0 are supported\n",
    "token = '585f5536-98d4-43b3-b2b7-014055329ae1'  # Generated at /account/apitoken\n",
    "\n",
    "connection = Connection(host, token)\n",
    "# For non-https connections (e.g. local dev environment), try:\n",
    "#   connection = Connection(host, token, use_https=False)"
   ]
  },
  {
   "cell_type": "code",
   "execution_count": 2,
   "metadata": {},
   "outputs": [],
   "source": [
    "dataverse = connection.get_dataverse('harvard')"
   ]
  },
  {
   "cell_type": "code",
   "execution_count": null,
   "metadata": {},
   "outputs": [],
   "source": [
    "dataset = dataverse.get_dataset_by_doi('DOI:10.5072/FK2/ABC123')\n",
    "files = dataset.get_files('latest')"
   ]
  },
  {
   "cell_type": "code",
   "execution_count": 64,
   "metadata": {},
   "outputs": [],
   "source": [
    "import sys; sys.path.append(_dh[0].split(\"knowknow\")[0])\n",
    "from knowknow import *"
   ]
  },
  {
   "cell_type": "code",
   "execution_count": 35,
   "metadata": {},
   "outputs": [],
   "source": [
    "def list_from_osf(project='9vx4y'):\n",
    "    print(\"Looking for files in project '%s' in OSF\" % project)\n",
    "    import subprocess\n",
    "    cmd='osf -p %s list' % project\n",
    "    process = subprocess.Popen(cmd.split(), stdout=subprocess.PIPE, stderr=subprocess.PIPE)\n",
    "    out, err = process.communicate()\n",
    "    \n",
    "    def fixem(out):\n",
    "        out = out.decode('utf8').split(\"\\r\\n\")\n",
    "        for x in out:\n",
    "            x = x.strip()\n",
    "            if x == \"\":\n",
    "                continue\n",
    "            x = x.split(\"\\\\\")[1] # remove the storage format\n",
    "            x = x.split(\"/\")[-1] # remove the folder names\n",
    "            yield x\n",
    "    \n",
    "    fnames = list(fixem(out))\n",
    "    #bases = sorted(set(x.split(\"___\")[0].strip()))\n",
    "    #types = {\n",
    "    #    base: sorted(set(x.split(\"___\")[1].strip() if x.split(\"___\")[0].strip()==base))\n",
    "    #    for base in bases\n",
    "    #}\n",
    "    \n",
    "    #print(\"databases: \", bases)\n",
    "    #print(\"types: \", types)\n",
    "    \n",
    "    return fnames"
   ]
  },
  {
   "cell_type": "code",
   "execution_count": 39,
   "metadata": {},
   "outputs": [
    {
     "name": "stdout",
     "output_type": "stream",
     "text": [
      "Looking for files in project '9vx4y' in OSF\n"
     ]
    }
   ],
   "source": [
    "a = list_from_osf()"
   ]
  },
  {
   "cell_type": "code",
   "execution_count": 42,
   "metadata": {},
   "outputs": [
    {
     "name": "stdout",
     "output_type": "stream",
     "text": [
      "sociology-jstor-basicall.doc ___ c\n"
     ]
    }
   ],
   "source": [
    "print(a[-1])"
   ]
  },
  {
   "cell_type": "code",
   "execution_count": 82,
   "metadata": {},
   "outputs": [],
   "source": [
    "def getvar_osf(variable_name, project='9vx4y'):\n",
    "    print(\"Downloading 'variables/%s' from '%s'\" % (variable_name, project))\n",
    "    import os\n",
    "    os.chdir(str(Path(BASEDIR)))\n",
    "    import subprocess\n",
    "    cmd = ['osf', '-p', project, 'fetch', 'variables/%s'%variable_name, 'variables/*']\n",
    "    \n",
    "    process = subprocess.Popen(cmd, stdout=subprocess.PIPE, stderr=subprocess.PIPE)\n",
    "    out, err = process.communicate()\n",
    "    \n",
    "    if len(err.strip()) > 0:\n",
    "        raise Exception(err.decode('utf8'))\n",
    "    \n",
    "    print(\"Success!\")"
   ]
  },
  {
   "cell_type": "code",
   "execution_count": 76,
   "metadata": {},
   "outputs": [
    {
     "data": {
      "text/plain": [
       "'G:\\\\My Drive\\\\projects\\\\qualitative analysis of literature\\\\post 5-12-2020\\\\git repository _ citation-deaths\\\\knowknow\\\\variables'"
      ]
     },
     "execution_count": 76,
     "metadata": {},
     "output_type": "execute_result"
    }
   ],
   "source": [
    "%pwd"
   ]
  },
  {
   "cell_type": "code",
   "execution_count": 79,
   "metadata": {},
   "outputs": [],
   "source": [
    "def getdb_osf(database, project='9vx4y'):\n",
    "    print(\"Downloading 'variables/%s ___ *'%database' from '%s'\" % (database, project))\n",
    "    import os\n",
    "    import subprocess\n",
    "    \n",
    "    os.chdir(str(Path(BASEDIR)))\n",
    "    cmd = ['osf', '-p', project, 'fetch', 'variables/%s ___ *'%database, \"variables\"]\n",
    "    \n",
    "    process = subprocess.Popen(cmd, stdout=subprocess.PIPE, stderr=subprocess.PIPE)\n",
    "    out, err = process.communicate()\n",
    "    \n",
    "    print(\"Success!\")"
   ]
  },
  {
   "cell_type": "code",
   "execution_count": 84,
   "metadata": {},
   "outputs": [
    {
     "name": "stdout",
     "output_type": "stream",
     "text": [
      "Downloading 'variables/sociology-jstor.t.top1' from '9vx4y'\n"
     ]
    },
    {
     "ename": "KeyboardInterrupt",
     "evalue": "",
     "output_type": "error",
     "traceback": [
      "\u001b[1;31m---------------------------------------------------------------------------\u001b[0m",
      "\u001b[1;31mKeyboardInterrupt\u001b[0m                         Traceback (most recent call last)",
      "\u001b[1;32m<ipython-input-84-2223602badf1>\u001b[0m in \u001b[0;36m<module>\u001b[1;34m\u001b[0m\n\u001b[1;32m----> 1\u001b[1;33m \u001b[0mgetvar_osf\u001b[0m\u001b[1;33m(\u001b[0m\u001b[1;34m'sociology-jstor.t.top1'\u001b[0m\u001b[1;33m)\u001b[0m\u001b[1;33m\u001b[0m\u001b[1;33m\u001b[0m\u001b[0m\n\u001b[0m",
      "\u001b[1;32m<ipython-input-82-01611dc050fc>\u001b[0m in \u001b[0;36mgetvar_osf\u001b[1;34m(variable_name, project)\u001b[0m\n\u001b[0;32m      7\u001b[0m \u001b[1;33m\u001b[0m\u001b[0m\n\u001b[0;32m      8\u001b[0m     \u001b[0mprocess\u001b[0m \u001b[1;33m=\u001b[0m \u001b[0msubprocess\u001b[0m\u001b[1;33m.\u001b[0m\u001b[0mPopen\u001b[0m\u001b[1;33m(\u001b[0m\u001b[0mcmd\u001b[0m\u001b[1;33m,\u001b[0m \u001b[0mstdout\u001b[0m\u001b[1;33m=\u001b[0m\u001b[0msubprocess\u001b[0m\u001b[1;33m.\u001b[0m\u001b[0mPIPE\u001b[0m\u001b[1;33m,\u001b[0m \u001b[0mstderr\u001b[0m\u001b[1;33m=\u001b[0m\u001b[0msubprocess\u001b[0m\u001b[1;33m.\u001b[0m\u001b[0mPIPE\u001b[0m\u001b[1;33m)\u001b[0m\u001b[1;33m\u001b[0m\u001b[1;33m\u001b[0m\u001b[0m\n\u001b[1;32m----> 9\u001b[1;33m     \u001b[0mout\u001b[0m\u001b[1;33m,\u001b[0m \u001b[0merr\u001b[0m \u001b[1;33m=\u001b[0m \u001b[0mprocess\u001b[0m\u001b[1;33m.\u001b[0m\u001b[0mcommunicate\u001b[0m\u001b[1;33m(\u001b[0m\u001b[1;33m)\u001b[0m\u001b[1;33m\u001b[0m\u001b[1;33m\u001b[0m\u001b[0m\n\u001b[0m\u001b[0;32m     10\u001b[0m \u001b[1;33m\u001b[0m\u001b[0m\n\u001b[0;32m     11\u001b[0m     \u001b[1;32mif\u001b[0m \u001b[0mlen\u001b[0m\u001b[1;33m(\u001b[0m\u001b[0merr\u001b[0m\u001b[1;33m.\u001b[0m\u001b[0mstrip\u001b[0m\u001b[1;33m(\u001b[0m\u001b[1;33m)\u001b[0m\u001b[1;33m)\u001b[0m \u001b[1;33m>\u001b[0m \u001b[1;36m0\u001b[0m\u001b[1;33m:\u001b[0m\u001b[1;33m\u001b[0m\u001b[1;33m\u001b[0m\u001b[0m\n",
      "\u001b[1;32mC:\\Program Files (x86)\\Microsoft Visual Studio\\Shared\\Python37_64\\lib\\subprocess.py\u001b[0m in \u001b[0;36mcommunicate\u001b[1;34m(self, input, timeout)\u001b[0m\n\u001b[0;32m    962\u001b[0m \u001b[1;33m\u001b[0m\u001b[0m\n\u001b[0;32m    963\u001b[0m             \u001b[1;32mtry\u001b[0m\u001b[1;33m:\u001b[0m\u001b[1;33m\u001b[0m\u001b[1;33m\u001b[0m\u001b[0m\n\u001b[1;32m--> 964\u001b[1;33m                 \u001b[0mstdout\u001b[0m\u001b[1;33m,\u001b[0m \u001b[0mstderr\u001b[0m \u001b[1;33m=\u001b[0m \u001b[0mself\u001b[0m\u001b[1;33m.\u001b[0m\u001b[0m_communicate\u001b[0m\u001b[1;33m(\u001b[0m\u001b[0minput\u001b[0m\u001b[1;33m,\u001b[0m \u001b[0mendtime\u001b[0m\u001b[1;33m,\u001b[0m \u001b[0mtimeout\u001b[0m\u001b[1;33m)\u001b[0m\u001b[1;33m\u001b[0m\u001b[1;33m\u001b[0m\u001b[0m\n\u001b[0m\u001b[0;32m    965\u001b[0m             \u001b[1;32mexcept\u001b[0m \u001b[0mKeyboardInterrupt\u001b[0m\u001b[1;33m:\u001b[0m\u001b[1;33m\u001b[0m\u001b[1;33m\u001b[0m\u001b[0m\n\u001b[0;32m    966\u001b[0m                 \u001b[1;31m# https://bugs.python.org/issue25942\u001b[0m\u001b[1;33m\u001b[0m\u001b[1;33m\u001b[0m\u001b[1;33m\u001b[0m\u001b[0m\n",
      "\u001b[1;32mC:\\Program Files (x86)\\Microsoft Visual Studio\\Shared\\Python37_64\\lib\\subprocess.py\u001b[0m in \u001b[0;36m_communicate\u001b[1;34m(self, input, endtime, orig_timeout)\u001b[0m\n\u001b[0;32m   1294\u001b[0m             \u001b[1;31m# calls communicate again.\u001b[0m\u001b[1;33m\u001b[0m\u001b[1;33m\u001b[0m\u001b[1;33m\u001b[0m\u001b[0m\n\u001b[0;32m   1295\u001b[0m             \u001b[1;32mif\u001b[0m \u001b[0mself\u001b[0m\u001b[1;33m.\u001b[0m\u001b[0mstdout\u001b[0m \u001b[1;32mis\u001b[0m \u001b[1;32mnot\u001b[0m \u001b[1;32mNone\u001b[0m\u001b[1;33m:\u001b[0m\u001b[1;33m\u001b[0m\u001b[1;33m\u001b[0m\u001b[0m\n\u001b[1;32m-> 1296\u001b[1;33m                 \u001b[0mself\u001b[0m\u001b[1;33m.\u001b[0m\u001b[0mstdout_thread\u001b[0m\u001b[1;33m.\u001b[0m\u001b[0mjoin\u001b[0m\u001b[1;33m(\u001b[0m\u001b[0mself\u001b[0m\u001b[1;33m.\u001b[0m\u001b[0m_remaining_time\u001b[0m\u001b[1;33m(\u001b[0m\u001b[0mendtime\u001b[0m\u001b[1;33m)\u001b[0m\u001b[1;33m)\u001b[0m\u001b[1;33m\u001b[0m\u001b[1;33m\u001b[0m\u001b[0m\n\u001b[0m\u001b[0;32m   1297\u001b[0m                 \u001b[1;32mif\u001b[0m \u001b[0mself\u001b[0m\u001b[1;33m.\u001b[0m\u001b[0mstdout_thread\u001b[0m\u001b[1;33m.\u001b[0m\u001b[0mis_alive\u001b[0m\u001b[1;33m(\u001b[0m\u001b[1;33m)\u001b[0m\u001b[1;33m:\u001b[0m\u001b[1;33m\u001b[0m\u001b[1;33m\u001b[0m\u001b[0m\n\u001b[0;32m   1298\u001b[0m                     \u001b[1;32mraise\u001b[0m \u001b[0mTimeoutExpired\u001b[0m\u001b[1;33m(\u001b[0m\u001b[0mself\u001b[0m\u001b[1;33m.\u001b[0m\u001b[0margs\u001b[0m\u001b[1;33m,\u001b[0m \u001b[0morig_timeout\u001b[0m\u001b[1;33m)\u001b[0m\u001b[1;33m\u001b[0m\u001b[1;33m\u001b[0m\u001b[0m\n",
      "\u001b[1;32mC:\\Program Files (x86)\\Microsoft Visual Studio\\Shared\\Python37_64\\lib\\threading.py\u001b[0m in \u001b[0;36mjoin\u001b[1;34m(self, timeout)\u001b[0m\n\u001b[0;32m   1042\u001b[0m \u001b[1;33m\u001b[0m\u001b[0m\n\u001b[0;32m   1043\u001b[0m         \u001b[1;32mif\u001b[0m \u001b[0mtimeout\u001b[0m \u001b[1;32mis\u001b[0m \u001b[1;32mNone\u001b[0m\u001b[1;33m:\u001b[0m\u001b[1;33m\u001b[0m\u001b[1;33m\u001b[0m\u001b[0m\n\u001b[1;32m-> 1044\u001b[1;33m             \u001b[0mself\u001b[0m\u001b[1;33m.\u001b[0m\u001b[0m_wait_for_tstate_lock\u001b[0m\u001b[1;33m(\u001b[0m\u001b[1;33m)\u001b[0m\u001b[1;33m\u001b[0m\u001b[1;33m\u001b[0m\u001b[0m\n\u001b[0m\u001b[0;32m   1045\u001b[0m         \u001b[1;32melse\u001b[0m\u001b[1;33m:\u001b[0m\u001b[1;33m\u001b[0m\u001b[1;33m\u001b[0m\u001b[0m\n\u001b[0;32m   1046\u001b[0m             \u001b[1;31m# the behavior of a negative timeout isn't documented, but\u001b[0m\u001b[1;33m\u001b[0m\u001b[1;33m\u001b[0m\u001b[1;33m\u001b[0m\u001b[0m\n",
      "\u001b[1;32mC:\\Program Files (x86)\\Microsoft Visual Studio\\Shared\\Python37_64\\lib\\threading.py\u001b[0m in \u001b[0;36m_wait_for_tstate_lock\u001b[1;34m(self, block, timeout)\u001b[0m\n\u001b[0;32m   1058\u001b[0m         \u001b[1;32mif\u001b[0m \u001b[0mlock\u001b[0m \u001b[1;32mis\u001b[0m \u001b[1;32mNone\u001b[0m\u001b[1;33m:\u001b[0m  \u001b[1;31m# already determined that the C code is done\u001b[0m\u001b[1;33m\u001b[0m\u001b[1;33m\u001b[0m\u001b[0m\n\u001b[0;32m   1059\u001b[0m             \u001b[1;32massert\u001b[0m \u001b[0mself\u001b[0m\u001b[1;33m.\u001b[0m\u001b[0m_is_stopped\u001b[0m\u001b[1;33m\u001b[0m\u001b[1;33m\u001b[0m\u001b[0m\n\u001b[1;32m-> 1060\u001b[1;33m         \u001b[1;32melif\u001b[0m \u001b[0mlock\u001b[0m\u001b[1;33m.\u001b[0m\u001b[0macquire\u001b[0m\u001b[1;33m(\u001b[0m\u001b[0mblock\u001b[0m\u001b[1;33m,\u001b[0m \u001b[0mtimeout\u001b[0m\u001b[1;33m)\u001b[0m\u001b[1;33m:\u001b[0m\u001b[1;33m\u001b[0m\u001b[1;33m\u001b[0m\u001b[0m\n\u001b[0m\u001b[0;32m   1061\u001b[0m             \u001b[0mlock\u001b[0m\u001b[1;33m.\u001b[0m\u001b[0mrelease\u001b[0m\u001b[1;33m(\u001b[0m\u001b[1;33m)\u001b[0m\u001b[1;33m\u001b[0m\u001b[1;33m\u001b[0m\u001b[0m\n\u001b[0;32m   1062\u001b[0m             \u001b[0mself\u001b[0m\u001b[1;33m.\u001b[0m\u001b[0m_stop\u001b[0m\u001b[1;33m(\u001b[0m\u001b[1;33m)\u001b[0m\u001b[1;33m\u001b[0m\u001b[1;33m\u001b[0m\u001b[0m\n",
      "\u001b[1;31mKeyboardInterrupt\u001b[0m: "
     ]
    }
   ],
   "source": [
    "getvar_osf('sociology-jstor.t.top1')"
   ]
  },
  {
   "cell_type": "code",
   "execution_count": null,
   "metadata": {},
   "outputs": [],
   "source": [
    "def put_in_osf(project='9vx4y'):\n",
    "    cmd='osf -p %s -u amcgail2@gmail.com upload -r . variables' % project"
   ]
  },
  {
   "cell_type": "code",
   "execution_count": 5,
   "metadata": {},
   "outputs": [
    {
     "name": "stdout",
     "output_type": "stream",
     "text": [
      "G:\\My Drive\\projects\\qualitative analysis of literature\\post 5-12-2020\\git repository _ citation-deaths\\knowknow\\variables\n"
     ]
    }
   ],
   "source": [
    "%cd ..\\variables"
   ]
  },
  {
   "cell_type": "code",
   "execution_count": 9,
   "metadata": {},
   "outputs": [
    {
     "data": {
      "text/plain": [
       "'G:\\\\My Drive\\\\projects\\\\qualitative analysis of literature\\\\post 5-12-2020\\\\git repository _ citation-deaths\\\\knowknow\\\\variables'"
      ]
     },
     "execution_count": 9,
     "metadata": {},
     "output_type": "execute_result"
    }
   ],
   "source": [
    "%pwd"
   ]
  },
  {
   "cell_type": "code",
   "execution_count": null,
   "metadata": {},
   "outputs": [],
   "source": []
  },
  {
   "cell_type": "code",
   "execution_count": 6,
   "metadata": {},
   "outputs": [
    {
     "name": "stdout",
     "output_type": "stream",
     "text": [
      "^C\n"
     ]
    }
   ],
   "source": [
    "!osf init"
   ]
  },
  {
   "cell_type": "code",
   "execution_count": 7,
   "metadata": {},
   "outputs": [
    {
     "name": "stdout",
     "output_type": "stream",
     "text": [
      "env: OSF_PASSWORD=S00perperfundo\n"
     ]
    }
   ],
   "source": [
    "%env OSF_PASSWORD=S00perperfundo"
   ]
  },
  {
   "cell_type": "code",
   "execution_count": 11,
   "metadata": {},
   "outputs": [],
   "source": [
    "from osfclient.cli import upload"
   ]
  },
  {
   "cell_type": "code",
   "execution_count": 12,
   "metadata": {},
   "outputs": [
    {
     "name": "stdout",
     "output_type": "stream",
     "text": [
      " Volume in drive G is Google Drive File Stream\n",
      " Volume Serial Number is 1983-1116\n",
      "\n",
      " Directory of G:\\My Drive\\projects\\qualitative analysis of literature\\post 5-12-2020\\git repository _ citation-deaths\\knowknow\\variables\n",
      "\n",
      "06/08/2020  01:47 PM    <DIR>          .\n",
      "06/08/2020  01:35 PM    <DIR>          ..\n",
      "05/20/2020  01:03 AM    <DIR>          .ipynb_checkpoints\n",
      "05/19/2020  09:25 PM        16,321,025 sociology-jstor.cysum\n",
      "05/19/2020  09:15 PM         1,097,662 sociology-jstor.doc ___ a\n",
      "05/19/2020  09:15 PM        42,608,984 sociology-jstor.doc ___ a.c\n",
      "05/19/2020  09:15 PM         4,159,056 sociology-jstor.doc ___ a.fj.fy\n",
      "05/22/2020  09:43 PM        14,454,401 sociology-jstor.doc ___ c\n",
      "05/22/2020  09:43 PM        35,326,744 sociology-jstor.doc ___ c.c\n",
      "05/22/2020  09:43 PM        42,563,955 sociology-jstor.doc ___ c.fa\n",
      "05/22/2020  09:43 PM        33,662,327 sociology-jstor.doc ___ c.fj\n",
      "05/22/2020  09:43 PM        35,779,163 sociology-jstor.doc ___ c.fy\n",
      "05/22/2020  09:43 PM        58,770,605 sociology-jstor.doc ___ c.t\n",
      "05/22/2020  09:43 PM         1,097,496 sociology-jstor.doc ___ fa\n",
      "05/22/2020  09:43 PM         4,155,720 sociology-jstor.doc ___ fa.fj.fy\n",
      "05/22/2020  09:43 PM             1,562 sociology-jstor.doc ___ fj\n",
      "05/22/2020  09:43 PM            89,415 sociology-jstor.doc ___ fj.fy\n",
      "05/22/2020  09:43 PM         5,479,890 sociology-jstor.doc ___ fj.t\n",
      "05/22/2020  09:43 PM               637 sociology-jstor.doc ___ fy\n",
      "05/22/2020  09:43 PM         6,553,027 sociology-jstor.doc ___ fy.t\n",
      "05/22/2020  09:43 PM           178,145 sociology-jstor.doc ___ t\n",
      "05/19/2020  09:25 PM         3,987,055 sociology-jstor.included_citations\n",
      "05/26/2020  10:38 AM             1,369 sociology-jstor.included_journals\n",
      "05/19/2020  09:15 PM         1,099,259 sociology-jstor.ind ___ a\n",
      "05/19/2020  09:15 PM        42,608,984 sociology-jstor.ind ___ a.c\n",
      "05/19/2020  09:15 PM         4,159,259 sociology-jstor.ind ___ a.fj.fy\n",
      "05/22/2020  09:43 PM        14,454,516 sociology-jstor.ind ___ c\n",
      "05/22/2020  09:43 PM        35,332,587 sociology-jstor.ind ___ c.c\n",
      "05/22/2020  09:43 PM        42,563,955 sociology-jstor.ind ___ c.fa\n",
      "05/22/2020  09:43 PM        33,662,337 sociology-jstor.ind ___ c.fj\n",
      "05/22/2020  09:43 PM        35,779,163 sociology-jstor.ind ___ c.fy\n",
      "05/22/2020  09:43 PM        58,770,607 sociology-jstor.ind ___ c.t\n",
      "05/22/2020  09:43 PM         1,099,090 sociology-jstor.ind ___ fa\n",
      "05/22/2020  09:43 PM         4,155,923 sociology-jstor.ind ___ fa.fj.fy\n",
      "05/22/2020  09:43 PM             1,584 sociology-jstor.ind ___ fj\n",
      "05/22/2020  09:43 PM            90,624 sociology-jstor.ind ___ fj.fy\n",
      "05/22/2020  09:43 PM         5,480,335 sociology-jstor.ind ___ fj.t\n",
      "05/22/2020  09:43 PM               656 sociology-jstor.ind ___ fy\n",
      "05/22/2020  09:43 PM         6,553,141 sociology-jstor.ind ___ fy.t\n",
      "05/22/2020  09:43 PM           179,218 sociology-jstor.ind ___ t\n",
      "05/24/2020  03:25 PM             9,255 sociology-jstor.t.top1\n",
      "05/25/2020  01:32 AM           544,492 sociology-jstor.t.ysum\n",
      "05/19/2020  09:40 PM           181,107 sociology-jstor.top1\n",
      "05/21/2020  08:28 PM           286,045 sociology-jstor.tysum\n",
      "05/25/2020  03:49 PM         4,270,279 sociology-jstor-basicall.doc ___ c\n",
      "05/25/2020  03:50 PM        35,333,873 sociology-jstor-basicall.doc ___ c.c\n",
      "05/25/2020  03:50 PM        41,757,719 sociology-jstor-basicall.doc ___ c.c.fy\n",
      "05/25/2020  03:50 PM        42,567,375 sociology-jstor-basicall.doc ___ c.fa\n",
      "05/25/2020  03:50 PM        19,820,901 sociology-jstor-basicall.doc ___ c.fj\n",
      "05/25/2020  03:50 PM        22,696,881 sociology-jstor-basicall.doc ___ c.fy\n",
      "05/25/2020  03:49 PM         1,321,470 sociology-jstor-basicall.doc ___ fa\n",
      "05/25/2020  03:50 PM         4,155,253 sociology-jstor-basicall.doc ___ fa.fj.fy\n",
      "05/25/2020  03:49 PM             1,561 sociology-jstor-basicall.doc ___ fj\n",
      "05/25/2020  03:49 PM            86,949 sociology-jstor-basicall.doc ___ fj.fy\n",
      "05/25/2020  03:50 PM         6,072,193 sociology-jstor-basicall.doc ___ fj.t\n",
      "05/25/2020  03:49 PM               575 sociology-jstor-basicall.doc ___ fy\n",
      "05/25/2020  03:50 PM         7,507,041 sociology-jstor-basicall.doc ___ fy.t\n",
      "05/25/2020  03:49 PM           148,492 sociology-jstor-basicall.doc ___ t\n",
      "05/25/2020  03:51 PM         4,270,394 sociology-jstor-basicall.ind ___ c\n",
      "05/25/2020  03:51 PM        35,339,716 sociology-jstor-basicall.ind ___ c.c\n",
      "05/25/2020  03:51 PM        41,763,540 sociology-jstor-basicall.ind ___ c.c.fy\n",
      "05/25/2020  03:51 PM        42,567,375 sociology-jstor-basicall.ind ___ c.fa\n",
      "05/25/2020  03:51 PM        19,820,911 sociology-jstor-basicall.ind ___ c.fj\n",
      "05/25/2020  03:51 PM        22,696,881 sociology-jstor-basicall.ind ___ c.fy\n",
      "05/25/2020  03:51 PM         1,323,064 sociology-jstor-basicall.ind ___ fa\n",
      "05/25/2020  03:51 PM         4,155,456 sociology-jstor-basicall.ind ___ fa.fj.fy\n",
      "05/25/2020  03:51 PM             1,574 sociology-jstor-basicall.ind ___ fj\n",
      "05/25/2020  03:51 PM            88,001 sociology-jstor-basicall.ind ___ fj.fy\n",
      "05/25/2020  03:51 PM         6,081,926 sociology-jstor-basicall.ind ___ fj.t\n",
      "05/25/2020  03:51 PM               586 sociology-jstor-basicall.ind ___ fy\n",
      "05/25/2020  03:51 PM         7,512,908 sociology-jstor-basicall.ind ___ fy.t\n",
      "05/25/2020  03:51 PM           148,798 sociology-jstor-basicall.ind ___ t\n",
      "05/25/2020  04:03 PM            83,037 sociology-jstor-basicall.t.top1\n",
      "05/25/2020  04:22 PM           497,834 sociology-jstor-basicall.t.ysum\n",
      "06/01/2020  02:03 PM           140,449 sociology-wos.c.top1\n",
      "06/01/2020  02:01 PM        23,696,014 sociology-wos.c.ysum\n",
      "06/08/2020  01:47 PM        24,501,432 sociology-wos.doc - c.fa - sparse\n",
      "06/08/2020  01:42 PM        11,630,895 sociology-wos.doc - c.fy - sparse\n",
      "05/27/2020  01:41 PM                 6 sociology-wos.doc ___ a\n",
      "06/04/2020  03:42 PM         5,357,389 sociology-wos.doc ___ c\n",
      "06/04/2020  03:42 PM         3,427,063 sociology-wos.doc ___ c.c\n",
      "06/04/2020  03:42 PM        17,892,840 sociology-wos.doc ___ c.fj\n",
      "06/04/2020  03:42 PM        16,668,797 sociology-wos.doc ___ c.fy\n",
      "06/04/2020  03:42 PM        32,201,165 sociology-wos.doc ___ c.fy.j\n",
      "06/04/2020  03:42 PM         1,335,423 sociology-wos.doc ___ fa\n",
      "06/04/2020  03:42 PM        47,014,569 sociology-wos.doc ___ fa.c\n",
      "06/04/2020  03:42 PM         5,505,482 sociology-wos.doc ___ fa.fj\n",
      "05/31/2020  01:00 PM         7,707,926 sociology-wos.doc ___ fa.fj.fy\n",
      "06/04/2020  03:42 PM         4,059,576 sociology-wos.doc ___ fa.fy\n",
      "06/04/2020  03:42 PM           851,294 sociology-wos.doc ___ ffa\n",
      "06/04/2020  03:42 PM        27,863,159 sociology-wos.doc ___ ffa.c\n",
      "06/04/2020  03:42 PM         4,055,570 sociology-wos.doc ___ ffa.fj\n",
      "06/04/2020  03:42 PM         2,424,702 sociology-wos.doc ___ ffa.fy\n",
      "06/04/2020  03:42 PM             2,507 sociology-wos.doc ___ fj\n",
      "06/04/2020  03:42 PM           153,609 sociology-wos.doc ___ fj.fy\n",
      "06/04/2020  03:42 PM        13,300,191 sociology-wos.doc ___ fj.ta\n",
      "06/04/2020  03:42 PM           265,092 sociology-wos.doc ___ fj.ty\n",
      "06/04/2020  03:42 PM               618 sociology-wos.doc ___ fy\n",
      "06/04/2020  03:42 PM        12,740,519 sociology-wos.doc ___ fy.ta\n",
      "06/04/2020  03:42 PM            93,621 sociology-wos.doc ___ fy.ty\n",
      "06/04/2020  03:42 PM           967,741 sociology-wos.doc ___ ta\n",
      "06/04/2020  03:42 PM             1,102 sociology-wos.doc ___ ty\n",
      "06/04/2020  03:42 PM           136,555 sociology-wos.doc ___ ty.ty\n",
      "06/01/2020  02:03 PM            79,118 sociology-wos.fa.top1\n",
      "06/01/2020  02:02 PM         1,008,295 sociology-wos.fa.ysum\n",
      "06/04/2020  03:43 PM           549,464 sociology-wos.ffa.ysum\n",
      "06/04/2020  03:43 PM            56,046 sociology-wos.included_citations\n",
      "05/29/2020  11:03 AM             2,291 sociology-wos.included_journals\n",
      "06/04/2020  03:42 PM         5,357,393 sociology-wos.ind ___ c\n",
      "06/04/2020  03:42 PM         3,427,070 sociology-wos.ind ___ c.c\n",
      "06/04/2020  03:42 PM        47,014,569 sociology-wos.ind ___ c.fa\n",
      "06/04/2020  03:42 PM        27,863,159 sociology-wos.ind ___ c.ffa\n",
      "06/04/2020  03:42 PM        17,892,843 sociology-wos.ind ___ c.fj\n",
      "06/04/2020  03:42 PM        16,668,797 sociology-wos.ind ___ c.fy\n",
      "06/04/2020  03:42 PM        32,201,165 sociology-wos.ind ___ c.fy.j\n",
      "06/04/2020  03:42 PM         1,336,972 sociology-wos.ind ___ fa\n",
      "06/04/2020  03:42 PM         5,505,712 sociology-wos.ind ___ fa.fj\n",
      "05/31/2020  01:00 PM         7,707,926 sociology-wos.ind ___ fa.fj.fy\n",
      "06/04/2020  03:42 PM         4,059,580 sociology-wos.ind ___ fa.fy\n",
      "06/04/2020  03:42 PM           851,918 sociology-wos.ind ___ ffa\n",
      "06/04/2020  03:42 PM         4,055,622 sociology-wos.ind ___ ffa.fj\n",
      "06/04/2020  03:42 PM         2,424,702 sociology-wos.ind ___ ffa.fy\n",
      "06/04/2020  03:42 PM             2,511 sociology-wos.ind ___ fj\n",
      "06/04/2020  03:42 PM           155,385 sociology-wos.ind ___ fj.fy\n",
      "06/04/2020  03:42 PM        13,300,273 sociology-wos.ind ___ fj.ta\n",
      "06/04/2020  03:42 PM           265,894 sociology-wos.ind ___ fj.ty\n",
      "06/04/2020  03:42 PM               639 sociology-wos.ind ___ fy\n",
      "06/04/2020  03:42 PM        12,740,530 sociology-wos.ind ___ fy.ta\n",
      "06/04/2020  03:42 PM            93,761 sociology-wos.ind ___ fy.ty\n",
      "06/04/2020  03:42 PM           967,939 sociology-wos.ind ___ ta\n",
      "06/04/2020  03:42 PM             1,102 sociology-wos.ind ___ ty\n",
      "06/04/2020  03:42 PM           136,737 sociology-wos.ind ___ ty.ty\n",
      "06/04/2020  03:42 PM         5,468,877 sociology-wos.pubyears\n",
      "06/01/2020  02:03 PM            57,447 sociology-wos.ta.top1\n",
      "06/01/2020  02:02 PM         7,639,907 sociology-wos.ta.ysum\n",
      "05/31/2020  12:46 PM        14,029,016 sociology-wos-all.c.ysum\n",
      "05/31/2020  12:34 PM        79,218,111 sociology-wos-all.doc ___ c\n",
      "05/31/2020  12:34 PM         8,933,725 sociology-wos-all.doc ___ c.c\n",
      "05/31/2020  12:34 PM             2,507 sociology-wos-all.doc ___ fj\n",
      "05/31/2020  12:34 PM           154,304 sociology-wos-all.doc ___ fj.fy\n",
      "05/31/2020  12:34 PM               675 sociology-wos-all.doc ___ fy\n",
      "05/31/2020  12:34 PM             1,280 sociology-wos-all.doc ___ ty\n",
      "05/31/2020  12:34 PM           152,587 sociology-wos-all.doc ___ ty.ty\n",
      "05/31/2020  12:50 PM         5,739,910 sociology-wos-all.groups\n",
      "05/29/2020  11:03 AM             2,349 sociology-wos-all.included_journals\n",
      "05/31/2020  12:34 PM        79,218,114 sociology-wos-all.ind ___ c\n",
      "05/31/2020  12:34 PM         8,933,859 sociology-wos-all.ind ___ c.c\n",
      "05/31/2020  12:34 PM             2,541 sociology-wos-all.ind ___ fj\n",
      "05/31/2020  12:34 PM           157,362 sociology-wos-all.ind ___ fj.fy\n",
      "05/31/2020  12:34 PM               743 sociology-wos-all.ind ___ fy\n",
      "05/31/2020  12:34 PM             1,334 sociology-wos-all.ind ___ ty\n",
      "05/31/2020  12:34 PM           153,762 sociology-wos-all.ind ___ ty.ty\n",
      "05/31/2020  12:34 PM        80,904,384 sociology-wos-all.pubyears\n",
      "             150 File(s)  1,725,888,451 bytes\n",
      "               3 Dir(s)  38,688,899,072 bytes free\n"
     ]
    }
   ],
   "source": [
    "%ls"
   ]
  },
  {
   "cell_type": "code",
   "execution_count": 14,
   "metadata": {},
   "outputs": [],
   "source": [
    "!osf -p 9vx4y -u amcgail2@gmail.com upload -r . variables"
   ]
  }
 ],
 "metadata": {
  "kernelspec": {
   "display_name": "Python 3",
   "language": "python",
   "name": "python3"
  },
  "language_info": {
   "name": ""
  }
 },
 "nbformat": 4,
 "nbformat_minor": 4
}
