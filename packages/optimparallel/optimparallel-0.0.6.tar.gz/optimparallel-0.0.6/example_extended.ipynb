{
 "cells": [
  {
   "cell_type": "markdown",
   "metadata": {},
   "source": [
    "# optimparallel: A Python Package Providing a Parallel Version of the L-BFGS-B Optimization Method\n",
    "_By Florian Geber, Lewis Blake_\n",
    "\n",
    "The Python package __optimparallel__ provides a parallel version of the L-BFGS-B optimization method of [`scipy.optimize.minimize()`](https://docs.scipy.org/doc/scipy/reference/generated/scipy.optimize.minimize.html). For an objective function with an execution time of more than 0.1 seconds and $p$ parameters the optimization speed increases by up to factor $1+p$ when no analytic gradient is specified and $1+p$ processor cores with sufficient memory are available. \n",
    "\n",
    "The purpose of this jupyter notebook is to illustrate the usage of __optimparallel__. Note that __optimparallel__ is the Python version of the R package [_optimParallel_](https://cran.r-project.org/package=optimParallel). The following examples are similar to the examples from [this](https://doi.org/10.32614/RJ-2019-030) R Journal article.\n",
    "<br>\n",
    "\n",
    "## `minimize_parallel()` by examples\n",
    "\n",
    "The main function of the `optimparallel` package is `minimize_parallel()`, which has the same usage and output as `scipy.optimize.minimize()`, but evaluates the objective function $fun()$ and its gradient $jac()$ in parallel. For illustration, consider $2 \\times 10^7$ samples from a normal distribution with mean $\\mu=5$ and standard deviation $\\sigma = 2$. "
   ]
  },
  {
   "cell_type": "code",
   "execution_count": 1,
   "metadata": {},
   "outputs": [],
   "source": [
    "# disable possible multithreading from the \n",
    "# OPENBLAS and MKL linear algebra backends\n",
    "import os\n",
    "os.environ['OPENBLAS_NUM_THREADS'] = '1' \n",
    "os.environ['MKL_NUM_THREADS'] = '1'\n",
    "\n",
    "import numpy as np\n",
    "import scipy as sp\n",
    "from scipy import stats\n",
    "mu, sigma = 5, 2\n",
    "x = np.random.normal(loc=mu, scale=sigma, size=np.int(2e7))"
   ]
  },
  {
   "cell_type": "markdown",
   "metadata": {},
   "source": [
    "We define the following negative log-likelihood and use `scipy.optimize.minimize()` to estimate the parameters $\\mu$ and $\\sigma$."
   ]
  },
  {
   "cell_type": "code",
   "execution_count": 2,
   "metadata": {},
   "outputs": [
    {
     "name": "stdout",
     "output_type": "stream",
     "text": [
      "CPU times: user 1.01 s, sys: 184 ms, total: 1.2 s\n",
      "Wall time: 1.22 s\n"
     ]
    },
    {
     "data": {
      "text/plain": [
       "218402590.037768"
      ]
     },
     "execution_count": 2,
     "metadata": {},
     "output_type": "execute_result"
    }
   ],
   "source": [
    "%%time\n",
    "def negll(par, x):\n",
    "    return -np.sum(sp.stats.norm.logpdf(x=x, loc=par[0], scale=par[1]))\n",
    "negll(par=np.array([1,1]), x=x)"
   ]
  },
  {
   "cell_type": "code",
   "execution_count": 3,
   "metadata": {},
   "outputs": [
    {
     "name": "stdout",
     "output_type": "stream",
     "text": [
      "[5.00026365 2.00006946]\n",
      "CPU times: user 48.6 s, sys: 13.1 s, total: 1min 1s\n",
      "Wall time: 1min 1s\n"
     ]
    }
   ],
   "source": [
    "%%time\n",
    "o1 = sp.optimize.minimize(fun=negll, \n",
    "                          x0=np.array([1,1]), \n",
    "                          args=x,\n",
    "                          method=\"L-BFGS-B\", \n",
    "                          bounds=((-np.inf, np.inf), (0.0001, np.inf)))\n",
    "print(o1.x)"
   ]
  },
  {
   "cell_type": "markdown",
   "metadata": {},
   "source": [
    "Using `minimize_parallel()` from **optimparallel**, we can obtain the same output using 3 parallel processes to evaluate `negll()` and its gradient. "
   ]
  },
  {
   "cell_type": "code",
   "execution_count": 4,
   "metadata": {},
   "outputs": [],
   "source": [
    "from optimparallel import minimize_parallel"
   ]
  },
  {
   "cell_type": "markdown",
   "metadata": {},
   "source": [
    "By default, `minimize_parallel()` will create as many worker processes as the machine has processors. Asynchronous execution of parallel tasks is implemented with the `concurrent.futures` module."
   ]
  },
  {
   "cell_type": "code",
   "execution_count": 5,
   "metadata": {},
   "outputs": [
    {
     "name": "stdout",
     "output_type": "stream",
     "text": [
      "CPU times: user 5.84 s, sys: 9.58 s, total: 15.4 s\n",
      "Wall time: 51.1 s\n"
     ]
    },
    {
     "data": {
      "text/plain": [
       "True"
      ]
     },
     "execution_count": 5,
     "metadata": {},
     "output_type": "execute_result"
    }
   ],
   "source": [
    "%%time\n",
    "o2 = minimize_parallel(fun=negll,\n",
    "                       x0=np.array([1,1]), \n",
    "                       args=x,\n",
    "                       bounds=((-np.inf, np.inf), (0.0001, np.inf)))\n",
    "np.all(o1.x == o2.x)"
   ]
  },
  {
   "cell_type": "markdown",
   "metadata": {},
   "source": [
    "On our computer the parallel version is only slightly faster, because the evaluation time of `negll()` is relatively small. (We have chosen small evaluation times to keep the computation time of the tutorial small.) Significantly higher speed-ups than observed on this toy example are possible. In general, the reduction of the optimization time is large if the parallel overhead is small relative to the execution time of $fun()$. Hence, for this example, the reduction of the optimization time increases when the evaluation time of `negll()` is increased, e.g., by increasing the number of data points in `x`."
   ]
  },
  {
   "cell_type": "markdown",
   "metadata": {},
   "source": [
    "In addition to the arguments of `minimize()`, `minimize_parallel()` has the argument `parellel`, which takes a dictionary holding the following arguments: \n",
    "\n",
    " - **max_workers**: The maximum number of processes that can be used to execute the given calls. The value is passed to the `max_workers` argument of `concurrent.futures.ProcessPoolExecutor()`.\n",
    " - **forward**: `bool`. If `True` (default), the forward difference method is used to approximate the gradient when `jac` is `None`. If `False`, the central difference method is used, which can be more accurate.\n",
    " - **verbose**: `bool`. If `True`, additional output is printed to the console.\n",
    " - **loginfo**: `bool`. If `True`, additional log information containing the evaluated parameters as well as return values of fun and jac is returned.\n",
    " - **time**: `bool`. If `True`, a dict containing the elapsed time (seconds) and the elapsed time per step evaluation of one 'fun' call and its Jacobian) is returned.\n",
    " \n",
    "Here is an example:"
   ]
  },
  {
   "cell_type": "code",
   "execution_count": 6,
   "metadata": {},
   "outputs": [],
   "source": [
    "o3 = minimize_parallel(fun=negll,\n",
    "                       x0=np.array([1,1]), \n",
    "                       args=x,\n",
    "                       bounds=((-np.inf, np.inf), (0.0001, np.inf)),\n",
    "                       parallel={'loginfo': True, 'time': True})"
   ]
  },
  {
   "cell_type": "code",
   "execution_count": 7,
   "metadata": {},
   "outputs": [
    {
     "data": {
      "text/plain": [
       "{'elapsed': 61.307130098342896, 'step': 3.405951672130161}"
      ]
     },
     "execution_count": 7,
     "metadata": {},
     "output_type": "execute_result"
    }
   ],
   "source": [
    "# show the evaluation time \n",
    "o3.time"
   ]
  },
  {
   "cell_type": "code",
   "execution_count": 8,
   "metadata": {},
   "outputs": [
    {
     "data": {
      "text/plain": [
       "array([[5.00099512e+00, 2.00066374e+00, 4.22424075e+07],\n",
       "       [5.00025489e+00, 2.00007433e+00, 4.22424044e+07],\n",
       "       [5.00026365e+00, 2.00006946e+00, 4.22424044e+07]])"
      ]
     },
     "execution_count": 8,
     "metadata": {},
     "output_type": "execute_result"
    }
   ],
   "source": [
    "# show the three last evaluated parameters (columns 1 and 2) \n",
    "# and the corresponding 'fun' values (column 3)\n",
    "np.c_[o3.loginfo['x'][-3:], o3.loginfo['fun'][-3:]]"
   ]
  },
  {
   "cell_type": "markdown",
   "metadata": {},
   "source": [
    "The dictionary returned by `loginfo=True` can be used to visualize the optimization path."
   ]
  },
  {
   "cell_type": "code",
   "execution_count": 10,
   "metadata": {},
   "outputs": [
    {
     "data": {
      "image/png": "[encoded data removed]",
      "text/plain": [
       "<Figure size 432x288 with 1 Axes>"
      ]
     },
     "metadata": {
      "needs_background": "light"
     },
     "output_type": "display_data"
    }
   ],
   "source": [
    "import matplotlib.pyplot as plt\n",
    "x1, x2 = o3.loginfo['x'][:,0], o3.loginfo['x'][:,1]\n",
    "plt.plot(x1, x2, '-o')\n",
    "plt.plot(x1[-1:], x2[-1:], '-o', color='red', markersize=50, marker='+')\n",
    "plt.text(1.2, 1, 'start')\n",
    "plt.xlabel('$\\mu$'); plt.ylabel('$\\sigma$')\n",
    "plt.show()"
   ]
  },
  {
   "cell_type": "code",
   "execution_count": null,
   "metadata": {},
   "outputs": [],
   "source": []
  }
 ],
 "metadata": {
  "celltoolbar": "Edit Metadata",
  "kernelspec": {
   "display_name": "Python 3",
   "language": "python",
   "name": "python3"
  },
  "language_info": {
   "codemirror_mode": {
    "name": "ipython",
    "version": 3
   },
   "file_extension": ".py",
   "mimetype": "text/x-python",
   "name": "python",
   "nbconvert_exporter": "python",
   "pygments_lexer": "ipython3",
   "version": "3.7.4"
  },
  "latex_metadata": {
   "affiliation": "AMS, Colorado School of Mines, CO, USA",
   "author": "Florian Geber, Lewis Blake",
   "title": "optimparallel: A Python Package Providing a Parallel Version of the L-BFGS-B Optimization Method"
  }
 },
 "nbformat": 4,
 "nbformat_minor": 2
}
