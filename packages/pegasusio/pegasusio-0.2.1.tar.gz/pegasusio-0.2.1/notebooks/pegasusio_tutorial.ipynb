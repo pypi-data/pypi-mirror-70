{
 "cells": [
  {
   "cell_type": "markdown",
   "metadata": {},
   "source": [
    "# PegasusIO Tutorial"
   ]
  },
  {
   "cell_type": "code",
   "execution_count": 1,
   "metadata": {},
   "outputs": [],
   "source": [
    "import pegasusio as io\n",
    "import pandas as pd"
   ]
  },
  {
   "cell_type": "markdown",
   "metadata": {},
   "source": [
    "## Case 1: Read `h5ad` file\n",
    "\n",
    "We use pbmc3k h5ad file from https://cellxgene-example-data.czi.technology/pbmc3k.h5ad as demo. First, read it using PegasusIO:"
   ]
  },
  {
   "cell_type": "code",
   "execution_count": 2,
   "metadata": {},
   "outputs": [
    {
     "name": "stdout",
     "output_type": "stream",
     "text": [
      "2020-06-05 09:35:14,667 - pegasusio.readwrite - INFO - h5ad file 'pegasusio_test_cases/case1/pbmc3k.h5ad' is loaded.\n",
      "2020-06-05 09:35:14,668 - pegasusio.readwrite - INFO - Function 'read_input' finished in 0.28s.\n"
     ]
    },
    {
     "data": {
      "text/plain": [
       "MultimodalData object with 1 UnimodalData: 'hg19-rna'\n",
       "    It currently binds to UnimodalData object hg19-rna\n",
       "\n",
       "UnimodalData object with n_obs x n_vars = 2638 x 1838\n",
       "    Genome: hg19; Modality: rna\n",
       "    It contains 1 matrices: 'X'\n",
       "    It currently binds to matrix 'X' as X\n",
       "\n",
       "    obs: 'n_genes_by_counts', 'log1p_n_genes_by_counts', 'total_counts', 'log1p_total_counts', 'pct_counts_in_top_50_genes', 'pct_counts_in_top_100_genes', 'pct_counts_in_top_200_genes', 'pct_counts_in_top_500_genes', 'n_genes', 'percent_mito', 'n_counts', 'louvain', 'leiden'\n",
       "    var: 'featureid', 'n_cells_by_counts', 'mean_counts', 'log1p_mean_counts', 'pct_dropout_by_counts', 'total_counts', 'log1p_total_counts', 'n_cells', 'highly_variable', 'means', 'dispersions', 'dispersions_norm'\n",
       "    obsm: 'X_pca', 'X_umap', 'X_tsne', 'X_draw_graph_fr'\n",
       "    varm: 'PCs'\n",
       "    uns: 'draw_graph', 'leiden', 'louvain', 'neighbors', 'pca', 'genome', 'modality'"
      ]
     },
     "execution_count": 2,
     "metadata": {},
     "output_type": "execute_result"
    }
   ],
   "source": [
    "data1 = io.read_input(\"pegasusio_test_cases/case1/pbmc3k.h5ad\", genome = 'hg19')\n",
    "data1"
   ]
  },
  {
   "cell_type": "markdown",
   "metadata": {},
   "source": [
    "The gene-count matrix has 2638 cell barcodes and 1838 genes, and PegasusIO stores it as the default `UnimodalData` element within a `MultimodalData` object.\n",
    "\n",
    "We can generate SCP compatible outputs from it. These files are needed when one imports data to [Single-Cell Portal](https://singlecell.broadinstitute.org/single_cell) (SCP):"
   ]
  },
  {
   "cell_type": "code",
   "execution_count": 3,
   "metadata": {},
   "outputs": [
    {
     "name": "stdout",
     "output_type": "stream",
     "text": [
      "2020-06-05 09:35:14,721 - pegasusio.text_utils - INFO - Metadata file /Users/yy939/GitHub/pegasusio/notebooks/pegasusio_test_cases/case1/pbmc3k.scp.metadata.txt is written.\n",
      "2020-06-05 09:35:14,736 - pegasusio.text_utils - INFO - Coordinate file /Users/yy939/GitHub/pegasusio/notebooks/pegasusio_test_cases/case1/pbmc3k.scp.X_pca.coords.txt is written.\n",
      "2020-06-05 09:35:14,746 - pegasusio.text_utils - INFO - Coordinate file /Users/yy939/GitHub/pegasusio/notebooks/pegasusio_test_cases/case1/pbmc3k.scp.X_umap.coords.txt is written.\n",
      "2020-06-05 09:35:14,758 - pegasusio.text_utils - INFO - Coordinate file /Users/yy939/GitHub/pegasusio/notebooks/pegasusio_test_cases/case1/pbmc3k.scp.X_tsne.coords.txt is written.\n",
      "2020-06-05 09:35:14,774 - pegasusio.text_utils - INFO - Coordinate file /Users/yy939/GitHub/pegasusio/notebooks/pegasusio_test_cases/case1/pbmc3k.scp.X_draw_graph_fr.coords.txt is written.\n",
      "2020-06-05 09:35:14,778 - pegasusio.text_utils - INFO - Barcode file /Users/yy939/GitHub/pegasusio/notebooks/pegasusio_test_cases/case1/pbmc3k.scp.barcodes.tsv is written.\n",
      "2020-06-05 09:35:14,786 - pegasusio.text_utils - INFO - Feature file /Users/yy939/GitHub/pegasusio/notebooks/pegasusio_test_cases/case1/pbmc3k.scp.features.tsv is written.\n",
      "2020-06-05 09:35:16,179 - pegasusio.text_utils - INFO - Matrix file /Users/yy939/GitHub/pegasusio/notebooks/pegasusio_test_cases/case1/pbmc3k.scp.matrix.mtx is written.\n",
      "2020-06-05 09:35:16,180 - pegasusio.text_utils - INFO - write_scp_file is done.\n",
      "2020-06-05 09:35:16,180 - pegasusio.readwrite - INFO - scp file 'pegasusio_test_cases/case1/pbmc3k' is written.\n",
      "2020-06-05 09:35:16,181 - pegasusio.readwrite - INFO - Function 'write_output' finished in 1.50s.\n"
     ]
    }
   ],
   "source": [
    "io.write_output(data1, \"pegasusio_test_cases/case1/pbmc3k\", file_type = 'scp')"
   ]
  },
  {
   "cell_type": "markdown",
   "metadata": {},
   "source": [
    "We can also write the data in `mtx` format:"
   ]
  },
  {
   "cell_type": "code",
   "execution_count": 4,
   "metadata": {},
   "outputs": [
    {
     "name": "stdout",
     "output_type": "stream",
     "text": [
      "2020-06-05 09:35:19,647 - pegasusio.text_utils - INFO - /Users/yy939/GitHub/pegasusio/notebooks/pegasusio_test_cases/case1/pbmc3k_mtx/hg19-rna/matrix.mtx.gz is written.\n",
      "2020-06-05 09:35:19,709 - pegasusio.text_utils - INFO - barcodes.tsv.gz is written.\n",
      "2020-06-05 09:35:19,743 - pegasusio.text_utils - INFO - features.tsv.gz is written.\n",
      "2020-06-05 09:35:19,744 - pegasusio.text_utils - INFO - Mtx for hg19-rna is written.\n",
      "2020-06-05 09:35:19,744 - pegasusio.text_utils - INFO - Mtx files are written.\n",
      "2020-06-05 09:35:19,745 - pegasusio.readwrite - INFO - mtx file 'pegasusio_test_cases/case1/pbmc3k_mtx' is written.\n",
      "2020-06-05 09:35:19,745 - pegasusio.readwrite - INFO - Function 'write_output' finished in 3.56s.\n"
     ]
    }
   ],
   "source": [
    "io.write_output(data1, \"pegasusio_test_cases/case1/pbmc3k_mtx\")"
   ]
  },
  {
   "cell_type": "markdown",
   "metadata": {},
   "source": [
    "Below is to generate `loom` format output:"
   ]
  },
  {
   "cell_type": "code",
   "execution_count": 5,
   "metadata": {},
   "outputs": [
    {
     "name": "stdout",
     "output_type": "stream",
     "text": [
      "2020-06-05 09:35:21,730 - pegasusio.hdf5_utils - INFO - pegasusio_test_cases/case1/pbmc3k.loom is written.\n",
      "2020-06-05 09:35:21,730 - pegasusio.readwrite - INFO - loom file 'pegasusio_test_cases/case1/pbmc3k.loom' is written.\n",
      "2020-06-05 09:35:21,731 - pegasusio.readwrite - INFO - Function 'write_output' finished in 1.98s.\n"
     ]
    }
   ],
   "source": [
    "io.write_output(data1, \"pegasusio_test_cases/case1/pbmc3k.loom\")"
   ]
  },
  {
   "cell_type": "markdown",
   "metadata": {},
   "source": [
    "Below is to generate `zarr.zip` format output:"
   ]
  },
  {
   "cell_type": "code",
   "execution_count": 6,
   "metadata": {},
   "outputs": [
    {
     "name": "stdout",
     "output_type": "stream",
     "text": [
      "2020-06-05 09:35:21,736 - pegasusio.zarr_utils - WARNING - Detected and removed pre-existing file pegasusio_test_cases/case1/pbmc3k.zarr.zip.\n",
      "2020-06-05 09:35:21,834 - pegasusio.readwrite - INFO - zarr.zip file 'pegasusio_test_cases/case1/pbmc3k.zarr.zip' is written.\n",
      "2020-06-05 09:35:21,835 - pegasusio.readwrite - INFO - Function 'write_output' finished in 0.10s.\n"
     ]
    }
   ],
   "source": [
    "io.write_output(data1, \"pegasusio_test_cases/case1/pbmc3k.zarr.zip\")"
   ]
  },
  {
   "cell_type": "markdown",
   "metadata": {},
   "source": [
    "## Case 2: Process human and mouse mixture data with V3 chemistry\n",
    "\n",
    "We use 10X data from http://cf.10xgenomics.com/samples/cell-exp/3.0.2/1k_hgmm_v3/1k_hgmm_v3_filtered_feature_bc_matrix.h5 for the demo."
   ]
  },
  {
   "cell_type": "code",
   "execution_count": 7,
   "metadata": {},
   "outputs": [
    {
     "name": "stdout",
     "output_type": "stream",
     "text": [
      "2020-06-05 09:35:22,736 - pegasusio.readwrite - INFO - 10x file 'pegasusio_test_cases/case2/1k_hgmm_v3_filtered_feature_bc_matrix.h5' is loaded.\n",
      "2020-06-05 09:35:22,737 - pegasusio.readwrite - INFO - Function 'read_input' finished in 0.90s.\n"
     ]
    },
    {
     "data": {
      "text/plain": [
       "MultimodalData object with 2 UnimodalData: 'hg19-rna', 'mm10-rna'\n",
       "    It currently binds to UnimodalData object hg19-rna\n",
       "\n",
       "UnimodalData object with n_obs x n_vars = 1063 x 57905\n",
       "    Genome: hg19; Modality: rna\n",
       "    It contains 1 matrices: 'X'\n",
       "    It currently binds to matrix 'X' as X\n",
       "\n",
       "    obs: \n",
       "    var: 'featureid'\n",
       "    obsm: \n",
       "    varm: \n",
       "    uns: 'genome', 'modality'"
      ]
     },
     "execution_count": 7,
     "metadata": {},
     "output_type": "execute_result"
    }
   ],
   "source": [
    "data2 = io.read_input(\"pegasusio_test_cases/case2/1k_hgmm_v3_filtered_feature_bc_matrix.h5\")\n",
    "data2"
   ]
  },
  {
   "cell_type": "markdown",
   "metadata": {},
   "source": [
    "You can see that in the `MultimodalData` object `data2`, there are two `UnimodalData` elements: one with key `hg19-rna`, which is human data; the other with key `mm10-rna`, which is mouse data. And currently the default `UnimodalData` it refers to is the human data.\n",
    "\n",
    "To reset the default `UnimodalData` to mouse data, use the following method:"
   ]
  },
  {
   "cell_type": "code",
   "execution_count": 8,
   "metadata": {},
   "outputs": [
    {
     "data": {
      "text/plain": [
       "MultimodalData object with 2 UnimodalData: 'hg19-rna', 'mm10-rna'\n",
       "    It currently binds to UnimodalData object mm10-rna\n",
       "\n",
       "UnimodalData object with n_obs x n_vars = 1063 x 54232\n",
       "    Genome: mm10; Modality: rna\n",
       "    It contains 1 matrices: 'X'\n",
       "    It currently binds to matrix 'X' as X\n",
       "\n",
       "    obs: \n",
       "    var: 'featureid'\n",
       "    obsm: \n",
       "    varm: \n",
       "    uns: 'genome', 'modality'"
      ]
     },
     "execution_count": 8,
     "metadata": {},
     "output_type": "execute_result"
    }
   ],
   "source": [
    "data2.select_data('mm10-rna')\n",
    "data2"
   ]
  },
  {
   "cell_type": "markdown",
   "metadata": {},
   "source": [
    "Now `write_output` will generate output for the mouse data matrix:"
   ]
  },
  {
   "cell_type": "code",
   "execution_count": 9,
   "metadata": {},
   "outputs": [
    {
     "name": "stdout",
     "output_type": "stream",
     "text": [
      "2020-06-05 09:35:23,727 - pegasusio.readwrite - INFO - h5ad file 'pegasusio_test_cases/case2/mouse.h5ad' is written.\n",
      "2020-06-05 09:35:23,727 - pegasusio.readwrite - INFO - Function 'write_output' finished in 0.98s.\n"
     ]
    }
   ],
   "source": [
    "io.write_output(data2, \"pegasusio_test_cases/case2/mouse.h5ad\")"
   ]
  },
  {
   "cell_type": "markdown",
   "metadata": {},
   "source": [
    "## Case 3: Read different file formats\n",
    "\n",
    "PegasusIO can read data matrix in different formats. In this case, we demonstrate `csv`, `loom`, and `mtx` formats. The data we use is from https://data.humancellatlas.org/explore/projects/cddab57b-6868-4be4-806f-395ed9dd635a/m/expression-matrices."
   ]
  },
  {
   "cell_type": "code",
   "execution_count": 10,
   "metadata": {},
   "outputs": [
    {
     "name": "stdout",
     "output_type": "stream",
     "text": [
      "2020-06-05 09:35:31,824 - pegasusio.readwrite - INFO - csv file 'pegasusio_test_cases/case3/19dc248b-2e9d-4c52-8065-e681a61d1514.csv/expression.csv' is loaded.\n",
      "2020-06-05 09:35:31,825 - pegasusio.readwrite - INFO - Function 'read_input' finished in 8.09s.\n"
     ]
    },
    {
     "data": {
      "text/plain": [
       "MultimodalData object with 1 UnimodalData: 'hg19-rna'\n",
       "    It currently binds to UnimodalData object hg19-rna\n",
       "\n",
       "UnimodalData object with n_obs x n_vars = 2544 x 58347\n",
       "    Genome: hg19; Modality: rna\n",
       "    It contains 1 matrices: 'X'\n",
       "    It currently binds to matrix 'X' as X\n",
       "\n",
       "    obs: 'genes_detected', 'file_uuid', 'file_version', 'total_umis', 'emptydrops_is_cell', 'barcode', 'cell_suspension.provenance.document_id', 'specimen_from_organism.provenance.document_id', 'derived_organ_ontology', 'derived_organ_label', 'derived_organ_parts_ontology', 'derived_organ_parts_label', 'cell_suspension.genus_species.ontology', 'cell_suspension.genus_species.ontology_label', 'donor_organism.provenance.document_id', 'donor_organism.human_specific.ethnicity.ontology', 'donor_organism.human_specific.ethnicity.ontology_label', 'donor_organism.diseases.ontology', 'donor_organism.diseases.ontology_label', 'donor_organism.development_stage.ontology', 'donor_organism.development_stage.ontology_label', 'donor_organism.sex', 'donor_organism.is_living', 'specimen_from_organism.organ.ontology', 'specimen_from_organism.organ.ontology_label', 'specimen_from_organism.organ_parts.ontology', 'specimen_from_organism.organ_parts.ontology_label', 'library_preparation_protocol.provenance.document_id', 'library_preparation_protocol.input_nucleic_acid_molecule.ontology', 'library_preparation_protocol.input_nucleic_acid_molecule.ontology_label', 'library_preparation_protocol.library_construction_method.ontology', 'library_preparation_protocol.library_construction_method.ontology_label', 'library_preparation_protocol.end_bias', 'library_preparation_protocol.strand', 'project.provenance.document_id', 'project.project_core.project_short_name', 'project.project_core.project_title', 'analysis_protocol.provenance.document_id', 'dss_bundle_fqid', 'bundle_uuid', 'bundle_version', 'analysis_protocol.protocol_core.protocol_id', 'analysis_working_group_approval_status'\n",
       "    var: 'featureid', 'featuretype', 'chromosome', 'featurestart', 'featureend', 'isgene', 'genus_species'\n",
       "    obsm: \n",
       "    varm: \n",
       "    uns: 'genome', 'modality'"
      ]
     },
     "execution_count": 10,
     "metadata": {},
     "output_type": "execute_result"
    }
   ],
   "source": [
    "data3_csv = io.read_input(\"pegasusio_test_cases/case3/19dc248b-2e9d-4c52-8065-e681a61d1514.csv/expression.csv\", genome = 'hg19')\n",
    "data3_csv"
   ]
  },
  {
   "cell_type": "code",
   "execution_count": 11,
   "metadata": {},
   "outputs": [
    {
     "name": "stdout",
     "output_type": "stream",
     "text": [
      "2020-06-05 09:35:32,031 - pegasusio.text_utils - INFO - Detected mtx file in HCA DCP format.\n",
      "2020-06-05 09:35:36,287 - pegasusio.readwrite - INFO - mtx file 'pegasusio_test_cases/case3/42468c97-1c5a-4c9f-86ea-9eaa1239445a.mtx' is loaded.\n",
      "2020-06-05 09:35:36,288 - pegasusio.readwrite - INFO - Function 'read_input' finished in 4.46s.\n"
     ]
    },
    {
     "data": {
      "text/plain": [
       "MultimodalData object with 1 UnimodalData: 'hg19-rna'\n",
       "    It currently binds to UnimodalData object hg19-rna\n",
       "\n",
       "UnimodalData object with n_obs x n_vars = 2544 x 58347\n",
       "    Genome: hg19; Modality: rna\n",
       "    It contains 1 matrices: 'X'\n",
       "    It currently binds to matrix 'X' as X\n",
       "\n",
       "    obs: 'genes_detected', 'file_uuid', 'file_version', 'total_umis', 'emptydrops_is_cell', 'barcode', 'cell_suspension.provenance.document_id', 'specimen_from_organism.provenance.document_id', 'derived_organ_ontology', 'derived_organ_label', 'derived_organ_parts_ontology', 'derived_organ_parts_label', 'cell_suspension.genus_species.ontology', 'cell_suspension.genus_species.ontology_label', 'donor_organism.provenance.document_id', 'donor_organism.human_specific.ethnicity.ontology', 'donor_organism.human_specific.ethnicity.ontology_label', 'donor_organism.diseases.ontology', 'donor_organism.diseases.ontology_label', 'donor_organism.development_stage.ontology', 'donor_organism.development_stage.ontology_label', 'donor_organism.sex', 'donor_organism.is_living', 'specimen_from_organism.organ.ontology', 'specimen_from_organism.organ.ontology_label', 'specimen_from_organism.organ_parts.ontology', 'specimen_from_organism.organ_parts.ontology_label', 'library_preparation_protocol.provenance.document_id', 'library_preparation_protocol.input_nucleic_acid_molecule.ontology', 'library_preparation_protocol.input_nucleic_acid_molecule.ontology_label', 'library_preparation_protocol.library_construction_method.ontology', 'library_preparation_protocol.library_construction_method.ontology_label', 'library_preparation_protocol.end_bias', 'library_preparation_protocol.strand', 'project.provenance.document_id', 'project.project_core.project_short_name', 'project.project_core.project_title', 'analysis_protocol.provenance.document_id', 'dss_bundle_fqid', 'bundle_uuid', 'bundle_version', 'analysis_protocol.protocol_core.protocol_id', 'analysis_working_group_approval_status'\n",
       "    var: 'featureid', 'featuretype', 'chromosome', 'featurestart', 'featureend', 'isgene', 'genus_species'\n",
       "    obsm: \n",
       "    varm: \n",
       "    uns: 'genome', 'modality'"
      ]
     },
     "execution_count": 11,
     "metadata": {},
     "output_type": "execute_result"
    }
   ],
   "source": [
    "data3_mtx = io.read_input(\"pegasusio_test_cases/case3/42468c97-1c5a-4c9f-86ea-9eaa1239445a.mtx\", genome = 'hg19')\n",
    "data3_mtx"
   ]
  },
  {
   "cell_type": "code",
   "execution_count": 12,
   "metadata": {},
   "outputs": [
    {
     "name": "stdout",
     "output_type": "stream",
     "text": [
      "2020-06-05 09:35:41,315 - pegasusio.readwrite - INFO - loom file 'pegasusio_test_cases/case3/pancreas.loom' is loaded.\n",
      "2020-06-05 09:35:41,315 - pegasusio.readwrite - INFO - Function 'read_input' finished in 5.02s.\n"
     ]
    },
    {
     "data": {
      "text/plain": [
       "MultimodalData object with 1 UnimodalData: 'hg19-rna'\n",
       "    It currently binds to UnimodalData object hg19-rna\n",
       "\n",
       "UnimodalData object with n_obs x n_vars = 2544 x 58347\n",
       "    Genome: hg19; Modality: rna\n",
       "    It contains 1 matrices: 'X'\n",
       "    It currently binds to matrix 'X' as X\n",
       "\n",
       "    obs: 'analysis_protocol.protocol_core.protocol_id', 'analysis_protocol.provenance.document_id', 'analysis_working_group_approval_status', 'barcode', 'bundle_uuid', 'bundle_version', 'cell_suspension.genus_species.ontology', 'cell_suspension.genus_species.ontology_label', 'cell_suspension.provenance.document_id', 'derived_organ_label', 'derived_organ_ontology', 'derived_organ_parts_label', 'derived_organ_parts_ontology', 'donor_organism.development_stage.ontology', 'donor_organism.development_stage.ontology_label', 'donor_organism.diseases.ontology', 'donor_organism.diseases.ontology_label', 'donor_organism.human_specific.ethnicity.ontology', 'donor_organism.human_specific.ethnicity.ontology_label', 'donor_organism.is_living', 'donor_organism.provenance.document_id', 'donor_organism.sex', 'dss_bundle_fqid', 'emptydrops_is_cell', 'file_uuid', 'file_version', 'genes_detected', 'library_preparation_protocol.end_bias', 'library_preparation_protocol.input_nucleic_acid_molecule.ontology', 'library_preparation_protocol.input_nucleic_acid_molecule.ontology_label', 'library_preparation_protocol.library_construction_method.ontology', 'library_preparation_protocol.library_construction_method.ontology_label', 'library_preparation_protocol.provenance.document_id', 'library_preparation_protocol.strand', 'project.project_core.project_short_name', 'project.project_core.project_title', 'project.provenance.document_id', 'specimen_from_organism.organ.ontology', 'specimen_from_organism.organ.ontology_label', 'specimen_from_organism.organ_parts.ontology', 'specimen_from_organism.organ_parts.ontology_label', 'specimen_from_organism.provenance.document_id', 'total_umis'\n",
       "    var: 'featureid', 'chromosome', 'featureend', 'featurestart', 'featuretype', 'genus_species', 'isgene'\n",
       "    obsm: \n",
       "    varm: \n",
       "    uns: 'CreationDate', 'LOOM_SPEC_VERSION', 'last_modified', 'genome', 'modality'"
      ]
     },
     "execution_count": 12,
     "metadata": {},
     "output_type": "execute_result"
    }
   ],
   "source": [
    "data3_loom = io.read_input(\"pegasusio_test_cases/case3/pancreas.loom\", genome = 'hg19')\n",
    "data3_loom"
   ]
  },
  {
   "cell_type": "markdown",
   "metadata": {},
   "source": [
    "As mentioned above, all `data3_csv`, `data3_mtx`, and `data3_loom` are PegasusIO's `UnimodalData` objects.\n",
    "\n",
    "We can then write the object into `AnnData` h5ad format:"
   ]
  },
  {
   "cell_type": "code",
   "execution_count": 13,
   "metadata": {},
   "outputs": [
    {
     "name": "stderr",
     "output_type": "stream",
     "text": [
      "... storing 'genes_detected' as categorical\n",
      "... storing 'total_umis' as categorical\n",
      "... storing 'emptydrops_is_cell' as categorical\n",
      "... storing 'barcode' as categorical\n",
      "... storing 'specimen_from_organism.provenance.document_id' as categorical\n",
      "... storing 'derived_organ_ontology' as categorical\n",
      "... storing 'derived_organ_label' as categorical\n",
      "... storing 'derived_organ_parts_ontology' as categorical\n",
      "... storing 'derived_organ_parts_label' as categorical\n",
      "... storing 'cell_suspension.genus_species.ontology' as categorical\n",
      "... storing 'cell_suspension.genus_species.ontology_label' as categorical\n",
      "... storing 'donor_organism.provenance.document_id' as categorical\n",
      "... storing 'donor_organism.human_specific.ethnicity.ontology' as categorical\n",
      "... storing 'donor_organism.human_specific.ethnicity.ontology_label' as categorical\n",
      "... storing 'donor_organism.diseases.ontology' as categorical\n",
      "... storing 'donor_organism.diseases.ontology_label' as categorical\n",
      "... storing 'donor_organism.development_stage.ontology' as categorical\n",
      "... storing 'donor_organism.development_stage.ontology_label' as categorical\n",
      "... storing 'donor_organism.sex' as categorical\n",
      "... storing 'donor_organism.is_living' as categorical\n",
      "... storing 'specimen_from_organism.organ.ontology' as categorical\n",
      "... storing 'specimen_from_organism.organ.ontology_label' as categorical\n",
      "... storing 'specimen_from_organism.organ_parts.ontology' as categorical\n",
      "... storing 'specimen_from_organism.organ_parts.ontology_label' as categorical\n",
      "... storing 'library_preparation_protocol.provenance.document_id' as categorical\n",
      "... storing 'library_preparation_protocol.input_nucleic_acid_molecule.ontology' as categorical\n",
      "... storing 'library_preparation_protocol.input_nucleic_acid_molecule.ontology_label' as categorical\n",
      "... storing 'library_preparation_protocol.library_construction_method.ontology' as categorical\n",
      "... storing 'library_preparation_protocol.library_construction_method.ontology_label' as categorical\n",
      "... storing 'library_preparation_protocol.end_bias' as categorical\n",
      "... storing 'library_preparation_protocol.strand' as categorical\n",
      "... storing 'project.provenance.document_id' as categorical\n",
      "... storing 'project.project_core.project_short_name' as categorical\n",
      "... storing 'project.project_core.project_title' as categorical\n",
      "... storing 'bundle_version' as categorical\n",
      "... storing 'analysis_protocol.protocol_core.protocol_id' as categorical\n",
      "... storing 'analysis_working_group_approval_status' as categorical\n",
      "... storing 'featuretype' as categorical\n",
      "... storing 'chromosome' as categorical\n",
      "... storing 'featurestart' as categorical\n",
      "... storing 'featureend' as categorical\n",
      "... storing 'isgene' as categorical\n",
      "... storing 'genus_species' as categorical\n"
     ]
    },
    {
     "name": "stdout",
     "output_type": "stream",
     "text": [
      "2020-06-05 09:35:45,457 - pegasusio.readwrite - INFO - h5ad file 'pegasusio_test_cases/case3/pancreas.h5ad' is written.\n",
      "2020-06-05 09:35:45,457 - pegasusio.readwrite - INFO - Function 'write_output' finished in 4.14s.\n"
     ]
    }
   ],
   "source": [
    "io.write_output(data3_csv, \"pegasusio_test_cases/case3/pancreas.h5ad\")"
   ]
  },
  {
   "cell_type": "markdown",
   "metadata": {},
   "source": [
    "## Case 4: Process multiple `zarr` files with Scrublet scores\n",
    "\n",
    "In this case, we use two channels from human bone marrow data at https://data.humancellatlas.org/explore/projects/cc95ff89-2e68-4a08-a234-480eca21ce79: donor 1 channel 1, and donor 8 channel 8. Both channels have been processed with [Scrublet](https://github.com/AllonKleinLab/scrublet) to estimate doublet scores, and are stored in `zarr` format.\n",
    "\n",
    "First, load two files into memory:"
   ]
  },
  {
   "cell_type": "code",
   "execution_count": 14,
   "metadata": {},
   "outputs": [
    {
     "name": "stdout",
     "output_type": "stream",
     "text": [
      "2020-06-05 09:35:45,507 - pegasusio.readwrite - INFO - zarr file 'pegasusio_test_cases/case4/MantonBM1_1_dbls.zarr' is loaded.\n",
      "2020-06-05 09:35:45,508 - pegasusio.readwrite - INFO - Function 'read_input' finished in 0.05s.\n"
     ]
    },
    {
     "data": {
      "text/plain": [
       "MultimodalData object with 1 UnimodalData: 'GRCh38-rna'\n",
       "    It currently binds to UnimodalData object GRCh38-rna\n",
       "\n",
       "UnimodalData object with n_obs x n_vars = 4274 x 19360\n",
       "    Genome: GRCh38; Modality: rna\n",
       "    It contains 1 matrices: 'X'\n",
       "    It currently binds to matrix 'X' as X\n",
       "\n",
       "    obs: 'passed_qc', 'n_genes', 'n_counts', 'percent_mito', 'scrublet_scores'\n",
       "    var: 'featureid', 'n_cells', 'percent_cells', 'robust', 'highly_variable_features'\n",
       "    obsm: \n",
       "    varm: \n",
       "    uns: 'genome', 'modality', 'scrublet_stats'"
      ]
     },
     "execution_count": 14,
     "metadata": {},
     "output_type": "execute_result"
    }
   ],
   "source": [
    "data4_1 = io.read_input(\"pegasusio_test_cases/case4/MantonBM1_1_dbls.zarr\")\n",
    "data4_1"
   ]
  },
  {
   "cell_type": "code",
   "execution_count": 15,
   "metadata": {},
   "outputs": [
    {
     "name": "stdout",
     "output_type": "stream",
     "text": [
      "2020-06-05 09:35:45,562 - pegasusio.readwrite - INFO - zarr file 'pegasusio_test_cases/case4/MantonBM8_8_dbls.zarr' is loaded.\n",
      "2020-06-05 09:35:45,563 - pegasusio.readwrite - INFO - Function 'read_input' finished in 0.05s.\n"
     ]
    },
    {
     "data": {
      "text/plain": [
       "MultimodalData object with 1 UnimodalData: 'GRCh38-rna'\n",
       "    It currently binds to UnimodalData object GRCh38-rna\n",
       "\n",
       "UnimodalData object with n_obs x n_vars = 4162 x 18178\n",
       "    Genome: GRCh38; Modality: rna\n",
       "    It contains 1 matrices: 'X'\n",
       "    It currently binds to matrix 'X' as X\n",
       "\n",
       "    obs: 'passed_qc', 'n_genes', 'n_counts', 'percent_mito', 'scrublet_scores'\n",
       "    var: 'featureid', 'n_cells', 'percent_cells', 'robust', 'highly_variable_features'\n",
       "    obsm: \n",
       "    varm: \n",
       "    uns: 'genome', 'modality', 'scrublet_stats'"
      ]
     },
     "execution_count": 15,
     "metadata": {},
     "output_type": "execute_result"
    }
   ],
   "source": [
    "data4_2 = io.read_input(\"pegasusio_test_cases/case4/MantonBM8_8_dbls.zarr\")\n",
    "data4_2"
   ]
  },
  {
   "cell_type": "markdown",
   "metadata": {},
   "source": [
    "Both channels have over 4000 cell barcodes. Below are Scrublet scores of the first channel:"
   ]
  },
  {
   "cell_type": "code",
   "execution_count": 16,
   "metadata": {},
   "outputs": [
    {
     "data": {
      "text/plain": [
       "barcodekey\n",
       "AAACCTGAGCAGGTCA    0.022873\n",
       "AAACCTGCACACTGCG    0.007703\n",
       "AAACCTGCACCGGAAA    0.023813\n",
       "AAACCTGCATAGACTC    0.054320\n",
       "AAACCTGCATCGATGT    0.044107\n",
       "                      ...   \n",
       "TTTGTCAGTCCGCTGA    0.060842\n",
       "TTTGTCATCAGTCAGT    0.010380\n",
       "TTTGTCATCATGTAGC    0.005234\n",
       "TTTGTCATCCGCTGTT    0.010812\n",
       "TTTGTCATCCTCTAGC    0.012691\n",
       "Name: scrublet_scores, Length: 4274, dtype: float64"
      ]
     },
     "execution_count": 16,
     "metadata": {},
     "output_type": "execute_result"
    }
   ],
   "source": [
    "data4_1.obs['scrublet_scores']"
   ]
  },
  {
   "cell_type": "markdown",
   "metadata": {},
   "source": [
    "And its scrublet stats information can be retrieved as below:"
   ]
  },
  {
   "cell_type": "code",
   "execution_count": 17,
   "metadata": {},
   "outputs": [
    {
     "data": {
      "text/plain": [
       "{'detectable_doublet_fraction': 0.35423490875058494,\n",
       " 'detected_doublet_rate': 0.013102480112306972,\n",
       " 'overall_doublet_rate': 0.03698811096433289,\n",
       " 'threshold': 0.24325254050006934}"
      ]
     },
     "execution_count": 17,
     "metadata": {},
     "output_type": "execute_result"
    }
   ],
   "source": [
    "data4_1.uns['scrublet_stats']"
   ]
  },
  {
   "cell_type": "markdown",
   "metadata": {},
   "source": [
    "We can also aggregate two channels into one data matrix using PegasusIO's `aggregate_matrices` function. To do that, we need to first prepare a sample sheet in `csv` format:"
   ]
  },
  {
   "cell_type": "code",
   "execution_count": 18,
   "metadata": {},
   "outputs": [
    {
     "data": {
      "text/html": [
       "<div>\n",
       "<style scoped>\n",
       "    .dataframe tbody tr th:only-of-type {\n",
       "        vertical-align: middle;\n",
       "    }\n",
       "\n",
       "    .dataframe tbody tr th {\n",
       "        vertical-align: top;\n",
       "    }\n",
       "\n",
       "    .dataframe thead th {\n",
       "        text-align: right;\n",
       "    }\n",
       "</style>\n",
       "<table border=\"1\" class=\"dataframe\">\n",
       "  <thead>\n",
       "    <tr style=\"text-align: right;\">\n",
       "      <th></th>\n",
       "      <th>Sample</th>\n",
       "      <th>Location</th>\n",
       "    </tr>\n",
       "  </thead>\n",
       "  <tbody>\n",
       "    <tr>\n",
       "      <th>0</th>\n",
       "      <td>sample1</td>\n",
       "      <td>pegasusio_test_cases/case4/MantonBM1_1_dbls.zarr</td>\n",
       "    </tr>\n",
       "    <tr>\n",
       "      <th>1</th>\n",
       "      <td>sample2</td>\n",
       "      <td>pegasusio_test_cases/case4/MantonBM8_8_dbls.zarr</td>\n",
       "    </tr>\n",
       "  </tbody>\n",
       "</table>\n",
       "</div>"
      ],
      "text/plain": [
       "    Sample                                          Location\n",
       "0  sample1  pegasusio_test_cases/case4/MantonBM1_1_dbls.zarr\n",
       "1  sample2  pegasusio_test_cases/case4/MantonBM8_8_dbls.zarr"
      ]
     },
     "execution_count": 18,
     "metadata": {},
     "output_type": "execute_result"
    }
   ],
   "source": [
    "sheet4 = pd.read_csv(\"pegasusio_test_cases/case4/count_matrix.csv\")\n",
    "sheet4"
   ]
  },
  {
   "cell_type": "markdown",
   "metadata": {},
   "source": [
    "The sample sheet should have at least two columns: `Sample`, specifying sample name; `Location`, specifying location of the sample's gene-count matrix file.\n",
    "\n",
    "Then use this sample sheet for data aggregation:"
   ]
  },
  {
   "cell_type": "code",
   "execution_count": 19,
   "metadata": {},
   "outputs": [
    {
     "name": "stdout",
     "output_type": "stream",
     "text": [
      "2020-06-05 09:35:45,673 - pegasusio.readwrite - INFO - zarr file 'pegasusio_test_cases/case4/MantonBM1_1_dbls.zarr' is loaded.\n",
      "2020-06-05 09:35:45,674 - pegasusio.readwrite - INFO - Function 'read_input' finished in 0.05s.\n",
      "2020-06-05 09:35:45,725 - pegasusio.readwrite - INFO - zarr file 'pegasusio_test_cases/case4/MantonBM8_8_dbls.zarr' is loaded.\n",
      "2020-06-05 09:35:45,725 - pegasusio.readwrite - INFO - Function 'read_input' finished in 0.05s.\n",
      "2020-06-05 09:35:46,296 - pegasusio.aggr_data - INFO - Function 'aggregate' finished in 0.56s.\n",
      "2020-06-05 09:35:46,297 - pegasusio.data_aggregation - INFO - Aggregated 2 files.\n",
      "2020-06-05 09:35:46,298 - pegasusio.data_aggregation - INFO - Function 'aggregate_matrices' finished in 0.68s.\n"
     ]
    },
    {
     "data": {
      "text/plain": [
       "MultimodalData object with 1 UnimodalData: 'GRCh38-rna'\n",
       "    It currently binds to UnimodalData object GRCh38-rna\n",
       "\n",
       "UnimodalData object with n_obs x n_vars = 8436 x 20381\n",
       "    Genome: GRCh38; Modality: rna\n",
       "    It contains 1 matrices: 'X'\n",
       "    It currently binds to matrix 'X' as X\n",
       "\n",
       "    obs: 'passed_qc', 'n_genes', 'n_counts', 'percent_mito', 'scrublet_scores', 'Channel'\n",
       "    var: 'featureid'\n",
       "    obsm: \n",
       "    varm: \n",
       "    uns: 'genome', 'modality', 'var_dict', 'uns_dict'"
      ]
     },
     "execution_count": 19,
     "metadata": {},
     "output_type": "execute_result"
    }
   ],
   "source": [
    "data4 = io.aggregate_matrices(\"pegasusio_test_cases/case4/count_matrix.csv\")\n",
    "data4"
   ]
  },
  {
   "cell_type": "markdown",
   "metadata": {},
   "source": [
    "You can see that `data4` contains 8436 cells from both channels altogether."
   ]
  },
  {
   "cell_type": "markdown",
   "metadata": {},
   "source": [
    "## Case 5: Data aggregation with filtering\n",
    "\n",
    "In this case, we demonstrate aggregating data matrices with quality-control filtering settings. We use mouse lung cells from [Mouse Cell Atlas paper](https://www.ncbi.nlm.nih.gov/geo/query/acc.cgi?acc=GSE108097). In particular, we use samples \"Lung 1\", \"Lung 2\", and \"Lung 3\" from DGE format file [here](https://ftp.ncbi.nlm.nih.gov/geo/series/GSE108nnn/GSE108097/suppl/GSE108097_MCA_Figure2_BatchRemoved_dge.txt.tar.gz).\n",
    "\n",
    "Similarly as in Case 4, first prepare a sample sheet:"
   ]
  },
  {
   "cell_type": "code",
   "execution_count": 20,
   "metadata": {},
   "outputs": [
    {
     "data": {
      "text/html": [
       "<div>\n",
       "<style scoped>\n",
       "    .dataframe tbody tr th:only-of-type {\n",
       "        vertical-align: middle;\n",
       "    }\n",
       "\n",
       "    .dataframe tbody tr th {\n",
       "        vertical-align: top;\n",
       "    }\n",
       "\n",
       "    .dataframe thead th {\n",
       "        text-align: right;\n",
       "    }\n",
       "</style>\n",
       "<table border=\"1\" class=\"dataframe\">\n",
       "  <thead>\n",
       "    <tr style=\"text-align: right;\">\n",
       "      <th></th>\n",
       "      <th>Sample</th>\n",
       "      <th>Location</th>\n",
       "    </tr>\n",
       "  </thead>\n",
       "  <tbody>\n",
       "    <tr>\n",
       "      <th>0</th>\n",
       "      <td>lung1</td>\n",
       "      <td>pegasusio_test_cases/case5/Lung1_rm.batch_dge....</td>\n",
       "    </tr>\n",
       "    <tr>\n",
       "      <th>1</th>\n",
       "      <td>lung2</td>\n",
       "      <td>pegasusio_test_cases/case5/Lung2_rm.batch_dge....</td>\n",
       "    </tr>\n",
       "    <tr>\n",
       "      <th>2</th>\n",
       "      <td>lung3</td>\n",
       "      <td>pegasusio_test_cases/case5/Lung3_rm.batch_dge....</td>\n",
       "    </tr>\n",
       "  </tbody>\n",
       "</table>\n",
       "</div>"
      ],
      "text/plain": [
       "  Sample                                           Location\n",
       "0  lung1  pegasusio_test_cases/case5/Lung1_rm.batch_dge....\n",
       "1  lung2  pegasusio_test_cases/case5/Lung2_rm.batch_dge....\n",
       "2  lung3  pegasusio_test_cases/case5/Lung3_rm.batch_dge...."
      ]
     },
     "execution_count": 20,
     "metadata": {},
     "output_type": "execute_result"
    }
   ],
   "source": [
    "sheet5 = pd.read_csv(\"pegasusio_test_cases/case5/count_matrix.csv\")\n",
    "sheet5"
   ]
  },
  {
   "cell_type": "markdown",
   "metadata": {},
   "source": [
    "In details, `Location` column lists 3 files as the following:"
   ]
  },
  {
   "cell_type": "code",
   "execution_count": 21,
   "metadata": {
    "scrolled": true
   },
   "outputs": [
    {
     "name": "stdout",
     "output_type": "stream",
     "text": [
      "pegasusio_test_cases/case5/Lung1_rm.batch_dge.txt.gz\n",
      "pegasusio_test_cases/case5/Lung2_rm.batch_dge.txt.gz\n",
      "pegasusio_test_cases/case5/Lung3_rm.batch_dge.txt.gz\n"
     ]
    }
   ],
   "source": [
    "for _, row in sheet5.iterrows():\n",
    "    print(row['Location'])"
   ]
  },
  {
   "cell_type": "markdown",
   "metadata": {},
   "source": [
    "Now we can aggregate the three samples with quality-control filtering settings:"
   ]
  },
  {
   "cell_type": "code",
   "execution_count": 22,
   "metadata": {},
   "outputs": [
    {
     "name": "stdout",
     "output_type": "stream",
     "text": [
      "2020-06-05 09:35:47,452 - pegasusio.readwrite - INFO - tsv file 'pegasusio_test_cases/case5/Lung1_rm.batch_dge.txt.gz' is loaded.\n",
      "2020-06-05 09:35:47,453 - pegasusio.readwrite - INFO - Function 'read_input' finished in 1.12s.\n",
      "2020-06-05 09:35:48,050 - pegasusio.readwrite - INFO - tsv file 'pegasusio_test_cases/case5/Lung2_rm.batch_dge.txt.gz' is loaded.\n",
      "2020-06-05 09:35:48,051 - pegasusio.readwrite - INFO - Function 'read_input' finished in 0.60s.\n",
      "2020-06-05 09:35:48,146 - pegasusio.qc_utils - INFO - After filtration, 1589 out of 2835 cell barcodes are kept in UnimodalData object mm10-rna.\n",
      "2020-06-05 09:35:49,487 - pegasusio.readwrite - INFO - tsv file 'pegasusio_test_cases/case5/Lung3_rm.batch_dge.txt.gz' is loaded.\n",
      "2020-06-05 09:35:49,488 - pegasusio.readwrite - INFO - Function 'read_input' finished in 1.34s.\n",
      "2020-06-05 09:35:49,575 - pegasusio.qc_utils - INFO - After filtration, 860 out of 1796 cell barcodes are kept in UnimodalData object mm10-rna.\n",
      "2020-06-05 09:35:49,662 - pegasusio.qc_utils - INFO - After filtration, 1308 out of 4485 cell barcodes are kept in UnimodalData object mm10-rna.\n",
      "2020-06-05 09:35:49,954 - pegasusio.aggr_data - INFO - Function 'aggregate' finished in 0.29s.\n",
      "2020-06-05 09:35:49,955 - pegasusio.data_aggregation - INFO - Aggregated 3 files.\n",
      "2020-06-05 09:35:49,960 - pegasusio.data_aggregation - INFO - Function 'aggregate_matrices' finished in 3.64s.\n"
     ]
    },
    {
     "data": {
      "text/plain": [
       "MultimodalData object with 1 UnimodalData: 'mm10-rna'\n",
       "    It currently binds to UnimodalData object mm10-rna\n",
       "\n",
       "UnimodalData object with n_obs x n_vars = 3757 x 23450\n",
       "    Genome: mm10; Modality: rna\n",
       "    It contains 1 matrices: 'X'\n",
       "    It currently binds to matrix 'X' as X\n",
       "\n",
       "    obs: 'n_genes', 'n_counts', 'percent_mito', 'Channel'\n",
       "    var: \n",
       "    obsm: \n",
       "    varm: \n",
       "    uns: 'genome', 'modality'"
      ]
     },
     "execution_count": 22,
     "metadata": {},
     "output_type": "execute_result"
    }
   ],
   "source": [
    "data5 = io.aggregate_matrices(\"pegasusio_test_cases/case5/count_matrix.csv\", \n",
    "                              default_ref = 'mm10', \n",
    "                              append_sample_name = False,\n",
    "                              min_genes = 500,\n",
    "                              max_genes = 6000,\n",
    "                              mito_prefix = 'mt-',\n",
    "                              percent_mito = 20)\n",
    "data5"
   ]
  },
  {
   "cell_type": "markdown",
   "metadata": {},
   "source": [
    "We keep cells with:\n",
    "* 500 $<=$ Number of expressed genes $<$ 6000, and\n",
    "* Percent of mitochondrial genes $<=$ 20%\n",
    "\n",
    "Besides, we need to specify the name prefix of mitochondrial genes in order to calculate the second criterion.\n",
    "\n",
    "We also don't append sample name as prefix to cell barcodes after aggregation, as in this case, all the barcodes are already distinct beforehand. \n",
    "\n",
    "For details on these parameters, please see [PegasusIO documentation](https://pegasusio.readthedocs.io/en/yiming/api/pegasusio.aggregate_matrices.html#pegasusio.aggregate_matrices)."
   ]
  },
  {
   "cell_type": "markdown",
   "metadata": {},
   "source": [
    "## Case 6: Process RNA + CITE-Seq + TCR + BCR data\n",
    "\n",
    "In this case, we show how to manipulate data across different protocols/omics. We use the following data:\n",
    "* RNA + CITE-Seq: http://cf.10xgenomics.com/samples/cell-vdj/3.0.0/vdj_v1_hs_pbmc2_5gex_protein/vdj_v1_hs_pbmc2_5gex_protein_filtered_feature_bc_matrix.h5;\n",
    "* TCR: http://cf.10xgenomics.com/samples/cell-vdj/3.0.0/vdj_v1_hs_pbmc2_t/vdj_v1_hs_pbmc2_t_filtered_contig_annotations.csv;\n",
    "* BCR: http://cf.10xgenomics.com/samples/cell-vdj/3.0.0/vdj_v1_hs_pbmc2_b/vdj_v1_hs_pbmc2_b_filtered_contig_annotations.csv.\n",
    "\n",
    "First, aggregate them using the following sample sheet:"
   ]
  },
  {
   "cell_type": "code",
   "execution_count": 23,
   "metadata": {},
   "outputs": [
    {
     "data": {
      "text/html": [
       "<div>\n",
       "<style scoped>\n",
       "    .dataframe tbody tr th:only-of-type {\n",
       "        vertical-align: middle;\n",
       "    }\n",
       "\n",
       "    .dataframe tbody tr th {\n",
       "        vertical-align: top;\n",
       "    }\n",
       "\n",
       "    .dataframe thead th {\n",
       "        text-align: right;\n",
       "    }\n",
       "</style>\n",
       "<table border=\"1\" class=\"dataframe\">\n",
       "  <thead>\n",
       "    <tr style=\"text-align: right;\">\n",
       "      <th></th>\n",
       "      <th>Sample</th>\n",
       "      <th>Location</th>\n",
       "    </tr>\n",
       "  </thead>\n",
       "  <tbody>\n",
       "    <tr>\n",
       "      <th>0</th>\n",
       "      <td>health</td>\n",
       "      <td>pegasusio_test_cases/case6/vdj_v1_hs_pbmc2_5ge...</td>\n",
       "    </tr>\n",
       "    <tr>\n",
       "      <th>1</th>\n",
       "      <td>health</td>\n",
       "      <td>pegasusio_test_cases/case6/vdj_v1_hs_pbmc2_t_f...</td>\n",
       "    </tr>\n",
       "    <tr>\n",
       "      <th>2</th>\n",
       "      <td>health</td>\n",
       "      <td>pegasusio_test_cases/case6/vdj_v1_hs_pbmc2_b_f...</td>\n",
       "    </tr>\n",
       "  </tbody>\n",
       "</table>\n",
       "</div>"
      ],
      "text/plain": [
       "   Sample                                           Location\n",
       "0  health  pegasusio_test_cases/case6/vdj_v1_hs_pbmc2_5ge...\n",
       "1  health  pegasusio_test_cases/case6/vdj_v1_hs_pbmc2_t_f...\n",
       "2  health  pegasusio_test_cases/case6/vdj_v1_hs_pbmc2_b_f..."
      ]
     },
     "execution_count": 23,
     "metadata": {},
     "output_type": "execute_result"
    }
   ],
   "source": [
    "sheet6 = pd.read_csv(\"pegasusio_test_cases/case6/count_matrix.csv\")\n",
    "sheet6"
   ]
  },
  {
   "cell_type": "markdown",
   "metadata": {},
   "source": [
    "Notice that the sample names are the same this time."
   ]
  },
  {
   "cell_type": "code",
   "execution_count": 24,
   "metadata": {},
   "outputs": [
    {
     "name": "stdout",
     "output_type": "stream",
     "text": [
      "2020-06-05 09:35:50,970 - pegasusio.readwrite - INFO - 10x file 'pegasusio_test_cases/case6/vdj_v1_hs_pbmc2_5gex_protein_filtered_feature_bc_matrix.h5' is loaded.\n",
      "2020-06-05 09:35:50,970 - pegasusio.readwrite - INFO - Function 'read_input' finished in 0.98s.\n",
      "2020-06-05 09:35:51,043 - pegasusio.readwrite - INFO - csv file 'pegasusio_test_cases/case6/vdj_v1_hs_pbmc2_t_filtered_contig_annotations.csv' is loaded.\n",
      "2020-06-05 09:35:51,044 - pegasusio.readwrite - INFO - Function 'read_input' finished in 0.07s.\n",
      "2020-06-05 09:35:51,083 - pegasusio.readwrite - INFO - csv file 'pegasusio_test_cases/case6/vdj_v1_hs_pbmc2_b_filtered_contig_annotations.csv' is loaded.\n",
      "2020-06-05 09:35:51,084 - pegasusio.readwrite - INFO - Function 'read_input' finished in 0.04s.\n",
      "2020-06-05 09:35:51,137 - pegasusio.multimodal_data - INFO - After filtration, 8258 out of 8258 cell barcodes are kept in UnimodalData object GRCh38-citeseq.\n",
      "2020-06-05 09:35:51,193 - pegasusio.multimodal_data - INFO - After filtration, 2987 out of 3009 cell barcodes are kept in UnimodalData object GRCh38-tcr.\n",
      "2020-06-05 09:35:51,250 - pegasusio.multimodal_data - INFO - After filtration, 1185 out of 1202 cell barcodes are kept in UnimodalData object GRCh38-bcr.\n",
      "2020-06-05 09:35:51,459 - pegasusio.aggr_data - INFO - Function 'aggregate' finished in 0.20s.\n",
      "2020-06-05 09:35:51,460 - pegasusio.data_aggregation - INFO - Aggregated 3 files.\n",
      "2020-06-05 09:35:51,460 - pegasusio.data_aggregation - INFO - Function 'aggregate_matrices' finished in 1.47s.\n"
     ]
    },
    {
     "data": {
      "text/plain": [
       "MultimodalData object with 4 UnimodalData: 'GRCh38-citeseq', 'GRCh38-rna', 'GRCh38-tcr', 'GRCh38-bcr'\n",
       "    It currently binds to CITESeqData object GRCh38-citeseq\n",
       "\n",
       "CITESeqData object with n_obs x n_vars = 8258 x 17\n",
       "    Genome: GRCh38; Modality: citeseq\n",
       "    It contains 1 matrices: 'raw.count'\n",
       "    It currently binds to matrix 'raw.count' as X\n",
       "\n",
       "    obs: 'Channel'\n",
       "    var: 'featureid', '_control_id'\n",
       "    obsm: \n",
       "    varm: \n",
       "    uns: 'genome', 'modality', '_control_names', '_control_counts', '_obs_keys'"
      ]
     },
     "execution_count": 24,
     "metadata": {},
     "output_type": "execute_result"
    }
   ],
   "source": [
    "data6 = io.aggregate_matrices(\"pegasusio_test_cases/case6/count_matrix.csv\")\n",
    "data6"
   ]
  },
  {
   "cell_type": "markdown",
   "metadata": {},
   "source": [
    "`data6` has 4 `UnimodalData` elements: `GRCh38-citeseq` for CITE-Seq data, `GRCh38-rna` for RNA data, `GRCh38-tcr` for TCR data, and `GRCh38-bcr` for BCR data.\n",
    "\n",
    "### 6.1. CITE-Seq\n",
    "\n",
    "We first check CITE-Seq data. Its antibody control list is constructed based on information from biolegend website, as shown below:"
   ]
  },
  {
   "cell_type": "code",
   "execution_count": 25,
   "metadata": {},
   "outputs": [
    {
     "data": {
      "text/html": [
       "<div>\n",
       "<style scoped>\n",
       "    .dataframe tbody tr th:only-of-type {\n",
       "        vertical-align: middle;\n",
       "    }\n",
       "\n",
       "    .dataframe tbody tr th {\n",
       "        vertical-align: top;\n",
       "    }\n",
       "\n",
       "    .dataframe thead th {\n",
       "        text-align: right;\n",
       "    }\n",
       "</style>\n",
       "<table border=\"1\" class=\"dataframe\">\n",
       "  <thead>\n",
       "    <tr style=\"text-align: right;\">\n",
       "      <th></th>\n",
       "      <th>Antibody</th>\n",
       "      <th>Control</th>\n",
       "    </tr>\n",
       "  </thead>\n",
       "  <tbody>\n",
       "    <tr>\n",
       "      <th>0</th>\n",
       "      <td>CD3_TotalSeqC</td>\n",
       "      <td>IgG1_control_TotalSeqC</td>\n",
       "    </tr>\n",
       "    <tr>\n",
       "      <th>1</th>\n",
       "      <td>CD19_TotalSeqC</td>\n",
       "      <td>IgG1_control_TotalSeqC</td>\n",
       "    </tr>\n",
       "    <tr>\n",
       "      <th>2</th>\n",
       "      <td>CD45RA_TotalSeqC</td>\n",
       "      <td>IgG2b_control_TotalSeqC</td>\n",
       "    </tr>\n",
       "    <tr>\n",
       "      <th>3</th>\n",
       "      <td>CD4_TotalSeqC</td>\n",
       "      <td>IgG1_control_TotalSeqC</td>\n",
       "    </tr>\n",
       "    <tr>\n",
       "      <th>4</th>\n",
       "      <td>CD8a_TotalSeqC</td>\n",
       "      <td>IgG1_control_TotalSeqC</td>\n",
       "    </tr>\n",
       "    <tr>\n",
       "      <th>5</th>\n",
       "      <td>CD14_TotalSeqC</td>\n",
       "      <td>IgG2a_control_TotalSeqC</td>\n",
       "    </tr>\n",
       "    <tr>\n",
       "      <th>6</th>\n",
       "      <td>CD16_TotalSeqC</td>\n",
       "      <td>IgG1_control_TotalSeqC</td>\n",
       "    </tr>\n",
       "    <tr>\n",
       "      <th>7</th>\n",
       "      <td>CD56_TotalSeqC</td>\n",
       "      <td>IgG1_control_TotalSeqC</td>\n",
       "    </tr>\n",
       "    <tr>\n",
       "      <th>8</th>\n",
       "      <td>CD25_TotalSeqC</td>\n",
       "      <td>IgG1_control_TotalSeqC</td>\n",
       "    </tr>\n",
       "    <tr>\n",
       "      <th>9</th>\n",
       "      <td>CD45RO_TotalSeqC</td>\n",
       "      <td>IgG2a_control_TotalSeqC</td>\n",
       "    </tr>\n",
       "    <tr>\n",
       "      <th>10</th>\n",
       "      <td>PD-1_TotalSeqC</td>\n",
       "      <td>IgG1_control_TotalSeqC</td>\n",
       "    </tr>\n",
       "    <tr>\n",
       "      <th>11</th>\n",
       "      <td>TIGIT_TotalSeqC</td>\n",
       "      <td>IgG2a_control_TotalSeqC</td>\n",
       "    </tr>\n",
       "    <tr>\n",
       "      <th>12</th>\n",
       "      <td>CD127_TotalSeqC</td>\n",
       "      <td>IgG1_control_TotalSeqC</td>\n",
       "    </tr>\n",
       "    <tr>\n",
       "      <th>13</th>\n",
       "      <td>CD15_TotalSeqC</td>\n",
       "      <td>IgG1_control_TotalSeqC</td>\n",
       "    </tr>\n",
       "  </tbody>\n",
       "</table>\n",
       "</div>"
      ],
      "text/plain": [
       "            Antibody                  Control\n",
       "0      CD3_TotalSeqC   IgG1_control_TotalSeqC\n",
       "1     CD19_TotalSeqC   IgG1_control_TotalSeqC\n",
       "2   CD45RA_TotalSeqC  IgG2b_control_TotalSeqC\n",
       "3      CD4_TotalSeqC   IgG1_control_TotalSeqC\n",
       "4     CD8a_TotalSeqC   IgG1_control_TotalSeqC\n",
       "5     CD14_TotalSeqC  IgG2a_control_TotalSeqC\n",
       "6     CD16_TotalSeqC   IgG1_control_TotalSeqC\n",
       "7     CD56_TotalSeqC   IgG1_control_TotalSeqC\n",
       "8     CD25_TotalSeqC   IgG1_control_TotalSeqC\n",
       "9   CD45RO_TotalSeqC  IgG2a_control_TotalSeqC\n",
       "10    PD-1_TotalSeqC   IgG1_control_TotalSeqC\n",
       "11   TIGIT_TotalSeqC  IgG2a_control_TotalSeqC\n",
       "12   CD127_TotalSeqC   IgG1_control_TotalSeqC\n",
       "13    CD15_TotalSeqC   IgG1_control_TotalSeqC"
      ]
     },
     "execution_count": 25,
     "metadata": {},
     "output_type": "execute_result"
    }
   ],
   "source": [
    "antibody_control_sheet = pd.read_csv(\"pegasusio_test_cases/case6/antibody_control.csv\")\n",
    "antibody_control_sheet"
   ]
  },
  {
   "cell_type": "markdown",
   "metadata": {},
   "source": [
    "Now load it to CITE-Seq data:"
   ]
  },
  {
   "cell_type": "code",
   "execution_count": 26,
   "metadata": {},
   "outputs": [
    {
     "data": {
      "text/plain": [
       "MultimodalData object with 4 UnimodalData: 'GRCh38-citeseq', 'GRCh38-rna', 'GRCh38-tcr', 'GRCh38-bcr'\n",
       "    It currently binds to CITESeqData object GRCh38-citeseq\n",
       "\n",
       "CITESeqData object with n_obs x n_vars = 8258 x 14\n",
       "    Genome: GRCh38; Modality: citeseq\n",
       "    It contains 2 matrices: 'raw.count', 'arcsinh.transformed'\n",
       "    It currently binds to matrix 'arcsinh.transformed' as X\n",
       "\n",
       "    obs: 'Channel'\n",
       "    var: 'featureid', '_control_id'\n",
       "    obsm: \n",
       "    varm: \n",
       "    uns: 'genome', 'modality', '_control_names', '_control_counts', '_obs_keys'"
      ]
     },
     "execution_count": 26,
     "metadata": {},
     "output_type": "execute_result"
    }
   ],
   "source": [
    "data6.select_data('GRCh38-citeseq')\n",
    "data6.load_control_list(\"pegasusio_test_cases/case6/antibody_control.csv\")\n",
    "data6.arcsinh_transform()\n",
    "data6"
   ]
  },
  {
   "cell_type": "markdown",
   "metadata": {},
   "source": [
    "### 6.2. TCR"
   ]
  },
  {
   "cell_type": "code",
   "execution_count": 27,
   "metadata": {},
   "outputs": [
    {
     "data": {
      "text/plain": [
       "MultimodalData object with 4 UnimodalData: 'GRCh38-citeseq', 'GRCh38-rna', 'GRCh38-tcr', 'GRCh38-bcr'\n",
       "    It currently binds to VDJData object GRCh38-tcr\n",
       "\n",
       "VDJData object with n_obs x n_vars = 2987 x 50\n",
       "    Genome: GRCh38; Modality: tcr\n",
       "    It contains 10 matrices: 'high_confidence', 'length', 'reads', 'umis', 'v_gene', 'd_gene', 'j_gene', 'c_gene', 'cdr3', 'cdr3_nt'\n",
       "    It currently binds to matrix 'umis' as X\n",
       "\n",
       "    obs: 'is_cell', 'nTRA', 'nTRB', 'nTRD', 'nTRG', 'nMulti', 'Channel'\n",
       "    var: \n",
       "    obsm: \n",
       "    varm: \n",
       "    uns: 'genome', 'modality', '_v_gene', '_d_gene', '_j_gene', '_c_gene', '_cdr3', '_cdr3_nt'"
      ]
     },
     "execution_count": 27,
     "metadata": {},
     "output_type": "execute_result"
    }
   ],
   "source": [
    "data6.select_data('GRCh38-tcr')\n",
    "data6"
   ]
  },
  {
   "cell_type": "code",
   "execution_count": 28,
   "metadata": {},
   "outputs": [
    {
     "data": {
      "text/html": [
       "<div>\n",
       "<style scoped>\n",
       "    .dataframe tbody tr th:only-of-type {\n",
       "        vertical-align: middle;\n",
       "    }\n",
       "\n",
       "    .dataframe tbody tr th {\n",
       "        vertical-align: top;\n",
       "    }\n",
       "\n",
       "    .dataframe thead th {\n",
       "        text-align: right;\n",
       "    }\n",
       "</style>\n",
       "<table border=\"1\" class=\"dataframe\">\n",
       "  <thead>\n",
       "    <tr style=\"text-align: right;\">\n",
       "      <th></th>\n",
       "      <th>high_confidence</th>\n",
       "      <th>length</th>\n",
       "      <th>reads</th>\n",
       "      <th>umis</th>\n",
       "      <th>v_gene</th>\n",
       "      <th>d_gene</th>\n",
       "      <th>j_gene</th>\n",
       "      <th>c_gene</th>\n",
       "      <th>cdr3</th>\n",
       "      <th>cdr3_nt</th>\n",
       "    </tr>\n",
       "    <tr>\n",
       "      <th>barcodekey</th>\n",
       "      <th></th>\n",
       "      <th></th>\n",
       "      <th></th>\n",
       "      <th></th>\n",
       "      <th></th>\n",
       "      <th></th>\n",
       "      <th></th>\n",
       "      <th></th>\n",
       "      <th></th>\n",
       "      <th></th>\n",
       "    </tr>\n",
       "  </thead>\n",
       "  <tbody>\n",
       "    <tr>\n",
       "      <th>health-AAACCTGAGACCACGA</th>\n",
       "      <td>True</td>\n",
       "      <td>521</td>\n",
       "      <td>1569</td>\n",
       "      <td>2</td>\n",
       "      <td>TRAV1-2</td>\n",
       "      <td>None</td>\n",
       "      <td>TRAJ12</td>\n",
       "      <td>TRAC</td>\n",
       "      <td>CAVMDSSYKLIF</td>\n",
       "      <td>TGTGCTGTGATGGATAGCAGCTATAAATTGATCTTC</td>\n",
       "    </tr>\n",
       "    <tr>\n",
       "      <th>health-AAACCTGAGGCTCTTA</th>\n",
       "      <td>True</td>\n",
       "      <td>518</td>\n",
       "      <td>2019</td>\n",
       "      <td>2</td>\n",
       "      <td>TRAV1-2</td>\n",
       "      <td>None</td>\n",
       "      <td>TRAJ33</td>\n",
       "      <td>TRAC</td>\n",
       "      <td>CAVKDSNYQLIW</td>\n",
       "      <td>TGTGCTGTGAAGGATAGCAACTATCAGTTAATCTGG</td>\n",
       "    </tr>\n",
       "    <tr>\n",
       "      <th>health-AAACCTGAGTGAACGC</th>\n",
       "      <td>True</td>\n",
       "      <td>504</td>\n",
       "      <td>2665</td>\n",
       "      <td>2</td>\n",
       "      <td>TRAV1-2</td>\n",
       "      <td>None</td>\n",
       "      <td>TRAJ35</td>\n",
       "      <td>TRAC</td>\n",
       "      <td>CAVCTI</td>\n",
       "      <td>TGTGCTGTCTGTACGATA</td>\n",
       "    </tr>\n",
       "    <tr>\n",
       "      <th>health-AAACCTGAGTTGTCGT</th>\n",
       "      <td>True</td>\n",
       "      <td>557</td>\n",
       "      <td>7528</td>\n",
       "      <td>7</td>\n",
       "      <td>TRAV12-2</td>\n",
       "      <td>None</td>\n",
       "      <td>TRAJ54</td>\n",
       "      <td>TRAC</td>\n",
       "      <td>CAVNLEIQGAQKLVF</td>\n",
       "      <td>TGTGCCGTGAACCTCGAAATTCAGGGAGCCCAGAAGCTGGTATTT</td>\n",
       "    </tr>\n",
       "    <tr>\n",
       "      <th>health-AAACCTGCAAACGTGG</th>\n",
       "      <td>False</td>\n",
       "      <td>0</td>\n",
       "      <td>0</td>\n",
       "      <td>0</td>\n",
       "      <td>None</td>\n",
       "      <td>None</td>\n",
       "      <td>None</td>\n",
       "      <td>None</td>\n",
       "      <td>None</td>\n",
       "      <td>None</td>\n",
       "    </tr>\n",
       "    <tr>\n",
       "      <th>...</th>\n",
       "      <td>...</td>\n",
       "      <td>...</td>\n",
       "      <td>...</td>\n",
       "      <td>...</td>\n",
       "      <td>...</td>\n",
       "      <td>...</td>\n",
       "      <td>...</td>\n",
       "      <td>...</td>\n",
       "      <td>...</td>\n",
       "      <td>...</td>\n",
       "    </tr>\n",
       "    <tr>\n",
       "      <th>health-TTTGTCAGTTGCCTCT</th>\n",
       "      <td>True</td>\n",
       "      <td>585</td>\n",
       "      <td>5663</td>\n",
       "      <td>5</td>\n",
       "      <td>TRAV14DV4</td>\n",
       "      <td>None</td>\n",
       "      <td>TRAJ49</td>\n",
       "      <td>TRAC</td>\n",
       "      <td>CAMREAGTGNQFYF</td>\n",
       "      <td>TGTGCAATGAGAGAGGCCGGGACCGGTAACCAGTTCTATTTT</td>\n",
       "    </tr>\n",
       "    <tr>\n",
       "      <th>health-TTTGTCAGTTTAGCTG</th>\n",
       "      <td>True</td>\n",
       "      <td>486</td>\n",
       "      <td>2727</td>\n",
       "      <td>3</td>\n",
       "      <td>TRAV35</td>\n",
       "      <td>None</td>\n",
       "      <td>TRAJ7</td>\n",
       "      <td>TRAC</td>\n",
       "      <td>CAGQLCYGNNRLAF</td>\n",
       "      <td>TGTGCTGGGCAGCTCTGCTATGGGAACAACAGACTCGCTTTT</td>\n",
       "    </tr>\n",
       "    <tr>\n",
       "      <th>health-TTTGTCATCAAGGCTT</th>\n",
       "      <td>True</td>\n",
       "      <td>741</td>\n",
       "      <td>1327</td>\n",
       "      <td>3</td>\n",
       "      <td>TRAV1-2</td>\n",
       "      <td>None</td>\n",
       "      <td>TRAJ28</td>\n",
       "      <td>TRAC</td>\n",
       "      <td>CAVRSTGTGAGSYQLTF</td>\n",
       "      <td>TGTGCTGTGAGATCGACGGGGACTGGGGCTGGGAGTTACCAACTCA...</td>\n",
       "    </tr>\n",
       "    <tr>\n",
       "      <th>health-TTTGTCATCATGGTCA</th>\n",
       "      <td>True</td>\n",
       "      <td>942</td>\n",
       "      <td>5027</td>\n",
       "      <td>6</td>\n",
       "      <td>TRAV1-2</td>\n",
       "      <td>None</td>\n",
       "      <td>TRAJ33</td>\n",
       "      <td>TRAC</td>\n",
       "      <td>CAALDSNYQLIW</td>\n",
       "      <td>TGTGCTGCCCTGGATAGCAACTATCAGTTAATCTGG</td>\n",
       "    </tr>\n",
       "    <tr>\n",
       "      <th>health-TTTGTCATCTCGTTTA</th>\n",
       "      <td>True</td>\n",
       "      <td>527</td>\n",
       "      <td>4486</td>\n",
       "      <td>4</td>\n",
       "      <td>TRAV1-2</td>\n",
       "      <td>None</td>\n",
       "      <td>TRAJ33</td>\n",
       "      <td>TRAC</td>\n",
       "      <td>CAVMDSNYQLIW</td>\n",
       "      <td>TGTGCTGTGATGGATAGCAACTATCAGTTAATCTGG</td>\n",
       "    </tr>\n",
       "  </tbody>\n",
       "</table>\n",
       "<p>2987 rows × 10 columns</p>\n",
       "</div>"
      ],
      "text/plain": [
       "                         high_confidence  length  reads  umis     v_gene  \\\n",
       "barcodekey                                                                 \n",
       "health-AAACCTGAGACCACGA             True     521   1569     2    TRAV1-2   \n",
       "health-AAACCTGAGGCTCTTA             True     518   2019     2    TRAV1-2   \n",
       "health-AAACCTGAGTGAACGC             True     504   2665     2    TRAV1-2   \n",
       "health-AAACCTGAGTTGTCGT             True     557   7528     7   TRAV12-2   \n",
       "health-AAACCTGCAAACGTGG            False       0      0     0       None   \n",
       "...                                  ...     ...    ...   ...        ...   \n",
       "health-TTTGTCAGTTGCCTCT             True     585   5663     5  TRAV14DV4   \n",
       "health-TTTGTCAGTTTAGCTG             True     486   2727     3     TRAV35   \n",
       "health-TTTGTCATCAAGGCTT             True     741   1327     3    TRAV1-2   \n",
       "health-TTTGTCATCATGGTCA             True     942   5027     6    TRAV1-2   \n",
       "health-TTTGTCATCTCGTTTA             True     527   4486     4    TRAV1-2   \n",
       "\n",
       "                        d_gene  j_gene c_gene               cdr3  \\\n",
       "barcodekey                                                         \n",
       "health-AAACCTGAGACCACGA   None  TRAJ12   TRAC       CAVMDSSYKLIF   \n",
       "health-AAACCTGAGGCTCTTA   None  TRAJ33   TRAC       CAVKDSNYQLIW   \n",
       "health-AAACCTGAGTGAACGC   None  TRAJ35   TRAC             CAVCTI   \n",
       "health-AAACCTGAGTTGTCGT   None  TRAJ54   TRAC    CAVNLEIQGAQKLVF   \n",
       "health-AAACCTGCAAACGTGG   None    None   None               None   \n",
       "...                        ...     ...    ...                ...   \n",
       "health-TTTGTCAGTTGCCTCT   None  TRAJ49   TRAC     CAMREAGTGNQFYF   \n",
       "health-TTTGTCAGTTTAGCTG   None   TRAJ7   TRAC     CAGQLCYGNNRLAF   \n",
       "health-TTTGTCATCAAGGCTT   None  TRAJ28   TRAC  CAVRSTGTGAGSYQLTF   \n",
       "health-TTTGTCATCATGGTCA   None  TRAJ33   TRAC       CAALDSNYQLIW   \n",
       "health-TTTGTCATCTCGTTTA   None  TRAJ33   TRAC       CAVMDSNYQLIW   \n",
       "\n",
       "                                                                   cdr3_nt  \n",
       "barcodekey                                                                  \n",
       "health-AAACCTGAGACCACGA               TGTGCTGTGATGGATAGCAGCTATAAATTGATCTTC  \n",
       "health-AAACCTGAGGCTCTTA               TGTGCTGTGAAGGATAGCAACTATCAGTTAATCTGG  \n",
       "health-AAACCTGAGTGAACGC                                 TGTGCTGTCTGTACGATA  \n",
       "health-AAACCTGAGTTGTCGT      TGTGCCGTGAACCTCGAAATTCAGGGAGCCCAGAAGCTGGTATTT  \n",
       "health-AAACCTGCAAACGTGG                                               None  \n",
       "...                                                                    ...  \n",
       "health-TTTGTCAGTTGCCTCT         TGTGCAATGAGAGAGGCCGGGACCGGTAACCAGTTCTATTTT  \n",
       "health-TTTGTCAGTTTAGCTG         TGTGCTGGGCAGCTCTGCTATGGGAACAACAGACTCGCTTTT  \n",
       "health-TTTGTCATCAAGGCTT  TGTGCTGTGAGATCGACGGGGACTGGGGCTGGGAGTTACCAACTCA...  \n",
       "health-TTTGTCATCATGGTCA               TGTGCTGCCCTGGATAGCAACTATCAGTTAATCTGG  \n",
       "health-TTTGTCATCTCGTTTA               TGTGCTGTGATGGATAGCAACTATCAGTTAATCTGG  \n",
       "\n",
       "[2987 rows x 10 columns]"
      ]
     },
     "execution_count": 28,
     "metadata": {},
     "output_type": "execute_result"
    }
   ],
   "source": [
    "data6.get_chain('TRA')"
   ]
  },
  {
   "cell_type": "code",
   "execution_count": 29,
   "metadata": {},
   "outputs": [
    {
     "data": {
      "text/html": [
       "<div>\n",
       "<style scoped>\n",
       "    .dataframe tbody tr th:only-of-type {\n",
       "        vertical-align: middle;\n",
       "    }\n",
       "\n",
       "    .dataframe tbody tr th {\n",
       "        vertical-align: top;\n",
       "    }\n",
       "\n",
       "    .dataframe thead th {\n",
       "        text-align: right;\n",
       "    }\n",
       "</style>\n",
       "<table border=\"1\" class=\"dataframe\">\n",
       "  <thead>\n",
       "    <tr style=\"text-align: right;\">\n",
       "      <th></th>\n",
       "      <th>high_confidence</th>\n",
       "      <th>length</th>\n",
       "      <th>reads</th>\n",
       "      <th>umis</th>\n",
       "      <th>v_gene</th>\n",
       "      <th>d_gene</th>\n",
       "      <th>j_gene</th>\n",
       "      <th>c_gene</th>\n",
       "      <th>cdr3</th>\n",
       "      <th>cdr3_nt</th>\n",
       "    </tr>\n",
       "    <tr>\n",
       "      <th>barcodekey</th>\n",
       "      <th></th>\n",
       "      <th></th>\n",
       "      <th></th>\n",
       "      <th></th>\n",
       "      <th></th>\n",
       "      <th></th>\n",
       "      <th></th>\n",
       "      <th></th>\n",
       "      <th></th>\n",
       "      <th></th>\n",
       "    </tr>\n",
       "  </thead>\n",
       "  <tbody>\n",
       "    <tr>\n",
       "      <th>health-AAACCTGAGACCACGA</th>\n",
       "      <td>True</td>\n",
       "      <td>584</td>\n",
       "      <td>5238</td>\n",
       "      <td>7</td>\n",
       "      <td>TRBV6-1</td>\n",
       "      <td>TRBD2</td>\n",
       "      <td>TRBJ2-1</td>\n",
       "      <td>TRBC2</td>\n",
       "      <td>CASSGLAGGYNEQFF</td>\n",
       "      <td>TGTGCCAGCAGTGGACTAGCGGGGGGCTACAATGAGCAGTTCTTC</td>\n",
       "    </tr>\n",
       "    <tr>\n",
       "      <th>health-AAACCTGAGGCTCTTA</th>\n",
       "      <td>True</td>\n",
       "      <td>551</td>\n",
       "      <td>3846</td>\n",
       "      <td>4</td>\n",
       "      <td>TRBV6-4</td>\n",
       "      <td>TRBD2</td>\n",
       "      <td>TRBJ2-3</td>\n",
       "      <td>TRBC2</td>\n",
       "      <td>CASSGVAGGTDTQYF</td>\n",
       "      <td>TGTGCCAGCAGTGGGGTAGCGGGAGGCACAGATACGCAGTATTTT</td>\n",
       "    </tr>\n",
       "    <tr>\n",
       "      <th>health-AAACCTGAGTGAACGC</th>\n",
       "      <td>True</td>\n",
       "      <td>674</td>\n",
       "      <td>3002</td>\n",
       "      <td>6</td>\n",
       "      <td>TRBV2</td>\n",
       "      <td>TRBD1</td>\n",
       "      <td>TRBJ1-2</td>\n",
       "      <td>TRBC1</td>\n",
       "      <td>CASNQGLNYGYTF</td>\n",
       "      <td>TGTGCCAGCAATCAGGGCCTTAACTATGGCTACACCTTC</td>\n",
       "    </tr>\n",
       "    <tr>\n",
       "      <th>health-AAACCTGAGTTGTCGT</th>\n",
       "      <td>True</td>\n",
       "      <td>676</td>\n",
       "      <td>8576</td>\n",
       "      <td>10</td>\n",
       "      <td>TRBV9</td>\n",
       "      <td>TRBD1</td>\n",
       "      <td>TRBJ1-6</td>\n",
       "      <td>TRBC1</td>\n",
       "      <td>CASSATGSGSPLHF</td>\n",
       "      <td>TGTGCCAGCAGCGCTACAGGGTCGGGTTCACCCCTCCACTTT</td>\n",
       "    </tr>\n",
       "    <tr>\n",
       "      <th>health-AAACCTGCAAACGTGG</th>\n",
       "      <td>True</td>\n",
       "      <td>695</td>\n",
       "      <td>17409</td>\n",
       "      <td>24</td>\n",
       "      <td>TRBV20-1</td>\n",
       "      <td>TRBD1</td>\n",
       "      <td>TRBJ2-3</td>\n",
       "      <td>TRBC2</td>\n",
       "      <td>CSGKGGTDTQYF</td>\n",
       "      <td>TGCAGTGGAAAGGGTGGCACAGATACGCAGTATTTT</td>\n",
       "    </tr>\n",
       "    <tr>\n",
       "      <th>...</th>\n",
       "      <td>...</td>\n",
       "      <td>...</td>\n",
       "      <td>...</td>\n",
       "      <td>...</td>\n",
       "      <td>...</td>\n",
       "      <td>...</td>\n",
       "      <td>...</td>\n",
       "      <td>...</td>\n",
       "      <td>...</td>\n",
       "      <td>...</td>\n",
       "    </tr>\n",
       "    <tr>\n",
       "      <th>health-TTTGTCAGTTGCCTCT</th>\n",
       "      <td>False</td>\n",
       "      <td>0</td>\n",
       "      <td>0</td>\n",
       "      <td>0</td>\n",
       "      <td>None</td>\n",
       "      <td>None</td>\n",
       "      <td>None</td>\n",
       "      <td>None</td>\n",
       "      <td>None</td>\n",
       "      <td>None</td>\n",
       "    </tr>\n",
       "    <tr>\n",
       "      <th>health-TTTGTCAGTTTAGCTG</th>\n",
       "      <td>True</td>\n",
       "      <td>764</td>\n",
       "      <td>21059</td>\n",
       "      <td>26</td>\n",
       "      <td>TRBV4-3</td>\n",
       "      <td>TRBD2</td>\n",
       "      <td>TRBJ2-5</td>\n",
       "      <td>TRBC2</td>\n",
       "      <td>CASSQAPISGAGETQYF</td>\n",
       "      <td>TGCGCCAGCAGCCAAGCCCCAATTAGCGGGGCCGGAGAGACCCAGT...</td>\n",
       "    </tr>\n",
       "    <tr>\n",
       "      <th>health-TTTGTCATCAAGGCTT</th>\n",
       "      <td>True</td>\n",
       "      <td>521</td>\n",
       "      <td>715</td>\n",
       "      <td>2</td>\n",
       "      <td>TRBV24-1</td>\n",
       "      <td>TRBD2</td>\n",
       "      <td>TRBJ2-5</td>\n",
       "      <td>TRBC2</td>\n",
       "      <td>CATSDPTSGGSQTQYF</td>\n",
       "      <td>TGTGCCACCAGTGACCCCACTAGCGGGGGGTCGCAGACCCAGTACTTC</td>\n",
       "    </tr>\n",
       "    <tr>\n",
       "      <th>health-TTTGTCATCATGGTCA</th>\n",
       "      <td>True</td>\n",
       "      <td>527</td>\n",
       "      <td>6829</td>\n",
       "      <td>6</td>\n",
       "      <td>TRBV20-1</td>\n",
       "      <td>TRBD2</td>\n",
       "      <td>TRBJ1-1</td>\n",
       "      <td>TRBC1</td>\n",
       "      <td>CSARGDGHTEAFF</td>\n",
       "      <td>TGCAGTGCTAGAGGGGACGGACACACTGAAGCTTTCTTT</td>\n",
       "    </tr>\n",
       "    <tr>\n",
       "      <th>health-TTTGTCATCTCGTTTA</th>\n",
       "      <td>True</td>\n",
       "      <td>542</td>\n",
       "      <td>6173</td>\n",
       "      <td>8</td>\n",
       "      <td>TRBV20-1</td>\n",
       "      <td>TRBD2</td>\n",
       "      <td>TRBJ2-5</td>\n",
       "      <td>TRBC2</td>\n",
       "      <td>CSATRLGREQETQYF</td>\n",
       "      <td>TGCAGTGCTACGCGACTAGGCCGAGAACAAGAGACCCAGTACTTC</td>\n",
       "    </tr>\n",
       "  </tbody>\n",
       "</table>\n",
       "<p>2987 rows × 10 columns</p>\n",
       "</div>"
      ],
      "text/plain": [
       "                         high_confidence  length  reads  umis    v_gene  \\\n",
       "barcodekey                                                                \n",
       "health-AAACCTGAGACCACGA             True     584   5238     7   TRBV6-1   \n",
       "health-AAACCTGAGGCTCTTA             True     551   3846     4   TRBV6-4   \n",
       "health-AAACCTGAGTGAACGC             True     674   3002     6     TRBV2   \n",
       "health-AAACCTGAGTTGTCGT             True     676   8576    10     TRBV9   \n",
       "health-AAACCTGCAAACGTGG             True     695  17409    24  TRBV20-1   \n",
       "...                                  ...     ...    ...   ...       ...   \n",
       "health-TTTGTCAGTTGCCTCT            False       0      0     0      None   \n",
       "health-TTTGTCAGTTTAGCTG             True     764  21059    26   TRBV4-3   \n",
       "health-TTTGTCATCAAGGCTT             True     521    715     2  TRBV24-1   \n",
       "health-TTTGTCATCATGGTCA             True     527   6829     6  TRBV20-1   \n",
       "health-TTTGTCATCTCGTTTA             True     542   6173     8  TRBV20-1   \n",
       "\n",
       "                        d_gene   j_gene c_gene               cdr3  \\\n",
       "barcodekey                                                          \n",
       "health-AAACCTGAGACCACGA  TRBD2  TRBJ2-1  TRBC2    CASSGLAGGYNEQFF   \n",
       "health-AAACCTGAGGCTCTTA  TRBD2  TRBJ2-3  TRBC2    CASSGVAGGTDTQYF   \n",
       "health-AAACCTGAGTGAACGC  TRBD1  TRBJ1-2  TRBC1      CASNQGLNYGYTF   \n",
       "health-AAACCTGAGTTGTCGT  TRBD1  TRBJ1-6  TRBC1     CASSATGSGSPLHF   \n",
       "health-AAACCTGCAAACGTGG  TRBD1  TRBJ2-3  TRBC2       CSGKGGTDTQYF   \n",
       "...                        ...      ...    ...                ...   \n",
       "health-TTTGTCAGTTGCCTCT   None     None   None               None   \n",
       "health-TTTGTCAGTTTAGCTG  TRBD2  TRBJ2-5  TRBC2  CASSQAPISGAGETQYF   \n",
       "health-TTTGTCATCAAGGCTT  TRBD2  TRBJ2-5  TRBC2   CATSDPTSGGSQTQYF   \n",
       "health-TTTGTCATCATGGTCA  TRBD2  TRBJ1-1  TRBC1      CSARGDGHTEAFF   \n",
       "health-TTTGTCATCTCGTTTA  TRBD2  TRBJ2-5  TRBC2    CSATRLGREQETQYF   \n",
       "\n",
       "                                                                   cdr3_nt  \n",
       "barcodekey                                                                  \n",
       "health-AAACCTGAGACCACGA      TGTGCCAGCAGTGGACTAGCGGGGGGCTACAATGAGCAGTTCTTC  \n",
       "health-AAACCTGAGGCTCTTA      TGTGCCAGCAGTGGGGTAGCGGGAGGCACAGATACGCAGTATTTT  \n",
       "health-AAACCTGAGTGAACGC            TGTGCCAGCAATCAGGGCCTTAACTATGGCTACACCTTC  \n",
       "health-AAACCTGAGTTGTCGT         TGTGCCAGCAGCGCTACAGGGTCGGGTTCACCCCTCCACTTT  \n",
       "health-AAACCTGCAAACGTGG               TGCAGTGGAAAGGGTGGCACAGATACGCAGTATTTT  \n",
       "...                                                                    ...  \n",
       "health-TTTGTCAGTTGCCTCT                                               None  \n",
       "health-TTTGTCAGTTTAGCTG  TGCGCCAGCAGCCAAGCCCCAATTAGCGGGGCCGGAGAGACCCAGT...  \n",
       "health-TTTGTCATCAAGGCTT   TGTGCCACCAGTGACCCCACTAGCGGGGGGTCGCAGACCCAGTACTTC  \n",
       "health-TTTGTCATCATGGTCA            TGCAGTGCTAGAGGGGACGGACACACTGAAGCTTTCTTT  \n",
       "health-TTTGTCATCTCGTTTA      TGCAGTGCTACGCGACTAGGCCGAGAACAAGAGACCCAGTACTTC  \n",
       "\n",
       "[2987 rows x 10 columns]"
      ]
     },
     "execution_count": 29,
     "metadata": {},
     "output_type": "execute_result"
    }
   ],
   "source": [
    "data6.get_chain('TRB')"
   ]
  },
  {
   "cell_type": "markdown",
   "metadata": {},
   "source": [
    "### 6.3 BCR"
   ]
  },
  {
   "cell_type": "code",
   "execution_count": 30,
   "metadata": {},
   "outputs": [
    {
     "data": {
      "text/plain": [
       "MultimodalData object with 4 UnimodalData: 'GRCh38-citeseq', 'GRCh38-rna', 'GRCh38-tcr', 'GRCh38-bcr'\n",
       "    It currently binds to VDJData object GRCh38-bcr\n",
       "\n",
       "VDJData object with n_obs x n_vars = 1185 x 40\n",
       "    Genome: GRCh38; Modality: bcr\n",
       "    It contains 10 matrices: 'high_confidence', 'length', 'reads', 'umis', 'v_gene', 'd_gene', 'j_gene', 'c_gene', 'cdr3', 'cdr3_nt'\n",
       "    It currently binds to matrix 'umis' as X\n",
       "\n",
       "    obs: 'is_cell', 'nIGK', 'nIGL', 'nIGH', 'nMulti', 'Channel'\n",
       "    var: \n",
       "    obsm: \n",
       "    varm: \n",
       "    uns: 'genome', 'modality', '_v_gene', '_d_gene', '_j_gene', '_c_gene', '_cdr3', '_cdr3_nt'"
      ]
     },
     "execution_count": 30,
     "metadata": {},
     "output_type": "execute_result"
    }
   ],
   "source": [
    "data6.select_data('GRCh38-bcr')\n",
    "data6"
   ]
  },
  {
   "cell_type": "code",
   "execution_count": 31,
   "metadata": {},
   "outputs": [
    {
     "data": {
      "text/html": [
       "<div>\n",
       "<style scoped>\n",
       "    .dataframe tbody tr th:only-of-type {\n",
       "        vertical-align: middle;\n",
       "    }\n",
       "\n",
       "    .dataframe tbody tr th {\n",
       "        vertical-align: top;\n",
       "    }\n",
       "\n",
       "    .dataframe thead th {\n",
       "        text-align: right;\n",
       "    }\n",
       "</style>\n",
       "<table border=\"1\" class=\"dataframe\">\n",
       "  <thead>\n",
       "    <tr style=\"text-align: right;\">\n",
       "      <th></th>\n",
       "      <th>high_confidence</th>\n",
       "      <th>length</th>\n",
       "      <th>reads</th>\n",
       "      <th>umis</th>\n",
       "      <th>v_gene</th>\n",
       "      <th>d_gene</th>\n",
       "      <th>j_gene</th>\n",
       "      <th>c_gene</th>\n",
       "      <th>cdr3</th>\n",
       "      <th>cdr3_nt</th>\n",
       "    </tr>\n",
       "    <tr>\n",
       "      <th>barcodekey</th>\n",
       "      <th></th>\n",
       "      <th></th>\n",
       "      <th></th>\n",
       "      <th></th>\n",
       "      <th></th>\n",
       "      <th></th>\n",
       "      <th></th>\n",
       "      <th></th>\n",
       "      <th></th>\n",
       "      <th></th>\n",
       "    </tr>\n",
       "  </thead>\n",
       "  <tbody>\n",
       "    <tr>\n",
       "      <th>health-AAACCTGAGAGCAATT</th>\n",
       "      <td>True</td>\n",
       "      <td>626</td>\n",
       "      <td>931</td>\n",
       "      <td>7</td>\n",
       "      <td>IGKV4-1</td>\n",
       "      <td>None</td>\n",
       "      <td>IGKJ4</td>\n",
       "      <td>IGKC</td>\n",
       "      <td>CQQYYSTPLTF</td>\n",
       "      <td>TGTCAGCAGTATTATAGTACTCCTCTCACTTTC</td>\n",
       "    </tr>\n",
       "    <tr>\n",
       "      <th>health-AAAGCAACATCACAAC</th>\n",
       "      <td>True</td>\n",
       "      <td>587</td>\n",
       "      <td>1823</td>\n",
       "      <td>16</td>\n",
       "      <td>IGKV1-12</td>\n",
       "      <td>None</td>\n",
       "      <td>IGKJ2</td>\n",
       "      <td>IGKC</td>\n",
       "      <td>CQQADSPPLF</td>\n",
       "      <td>TGTCAACAGGCTGACAGTCCCCCTCTTTTT</td>\n",
       "    </tr>\n",
       "    <tr>\n",
       "      <th>health-AAAGTAGAGTGACATA</th>\n",
       "      <td>True</td>\n",
       "      <td>570</td>\n",
       "      <td>3604</td>\n",
       "      <td>35</td>\n",
       "      <td>IGKV4-1</td>\n",
       "      <td>None</td>\n",
       "      <td>IGKJ3</td>\n",
       "      <td>IGKC</td>\n",
       "      <td>CQQYYSTPFTF</td>\n",
       "      <td>TGTCAGCAATATTATAGTACTCCATTCACTTTC</td>\n",
       "    </tr>\n",
       "    <tr>\n",
       "      <th>health-AAATGCCAGTGTTGAA</th>\n",
       "      <td>True</td>\n",
       "      <td>695</td>\n",
       "      <td>12547</td>\n",
       "      <td>113</td>\n",
       "      <td>IGKV4-1</td>\n",
       "      <td>None</td>\n",
       "      <td>IGKJ1</td>\n",
       "      <td>IGKC</td>\n",
       "      <td>CQQYYSTHRTF</td>\n",
       "      <td>TGTCAGCAATATTATAGCACTCATCGGACGTTC</td>\n",
       "    </tr>\n",
       "    <tr>\n",
       "      <th>health-AAATGCCCACCGCTAG</th>\n",
       "      <td>True</td>\n",
       "      <td>671</td>\n",
       "      <td>2229</td>\n",
       "      <td>24</td>\n",
       "      <td>IGKV1D-17</td>\n",
       "      <td>None</td>\n",
       "      <td>IGKJ2</td>\n",
       "      <td>IGKC</td>\n",
       "      <td>CLQHNSYPYTF</td>\n",
       "      <td>TGTCTACAGCATAATAGTTACCCGTACACTTTT</td>\n",
       "    </tr>\n",
       "    <tr>\n",
       "      <th>...</th>\n",
       "      <td>...</td>\n",
       "      <td>...</td>\n",
       "      <td>...</td>\n",
       "      <td>...</td>\n",
       "      <td>...</td>\n",
       "      <td>...</td>\n",
       "      <td>...</td>\n",
       "      <td>...</td>\n",
       "      <td>...</td>\n",
       "      <td>...</td>\n",
       "    </tr>\n",
       "    <tr>\n",
       "      <th>health-TTTGTCAAGTCATGCT</th>\n",
       "      <td>True</td>\n",
       "      <td>671</td>\n",
       "      <td>8218</td>\n",
       "      <td>77</td>\n",
       "      <td>IGKV3-15</td>\n",
       "      <td>None</td>\n",
       "      <td>IGKJ4</td>\n",
       "      <td>IGKC</td>\n",
       "      <td>CQQYNNWPPLTF</td>\n",
       "      <td>TGTCAGCAGTATAATAACTGGCCTCCCCTCACTTTC</td>\n",
       "    </tr>\n",
       "    <tr>\n",
       "      <th>health-TTTGTCACAAACCCAT</th>\n",
       "      <td>False</td>\n",
       "      <td>0</td>\n",
       "      <td>0</td>\n",
       "      <td>0</td>\n",
       "      <td>None</td>\n",
       "      <td>None</td>\n",
       "      <td>None</td>\n",
       "      <td>None</td>\n",
       "      <td>None</td>\n",
       "      <td>None</td>\n",
       "    </tr>\n",
       "    <tr>\n",
       "      <th>health-TTTGTCACAGCTCGAC</th>\n",
       "      <td>True</td>\n",
       "      <td>677</td>\n",
       "      <td>15418</td>\n",
       "      <td>142</td>\n",
       "      <td>IGKV1-12</td>\n",
       "      <td>None</td>\n",
       "      <td>IGKJ2</td>\n",
       "      <td>IGKC</td>\n",
       "      <td>CQQARSLPYTF</td>\n",
       "      <td>TGTCAACAGGCTCGCAGCCTCCCGTACACTTTT</td>\n",
       "    </tr>\n",
       "    <tr>\n",
       "      <th>health-TTTGTCACAGTAAGAT</th>\n",
       "      <td>True</td>\n",
       "      <td>679</td>\n",
       "      <td>5729</td>\n",
       "      <td>59</td>\n",
       "      <td>IGKV2D-40</td>\n",
       "      <td>None</td>\n",
       "      <td>IGKJ2</td>\n",
       "      <td>IGKC</td>\n",
       "      <td>CMQRIEFPYTF</td>\n",
       "      <td>TGCATGCAACGTATAGAGTTCCCGTACACTTTT</td>\n",
       "    </tr>\n",
       "    <tr>\n",
       "      <th>health-TTTGTCAGTCCAGTAT</th>\n",
       "      <td>False</td>\n",
       "      <td>0</td>\n",
       "      <td>0</td>\n",
       "      <td>0</td>\n",
       "      <td>None</td>\n",
       "      <td>None</td>\n",
       "      <td>None</td>\n",
       "      <td>None</td>\n",
       "      <td>None</td>\n",
       "      <td>None</td>\n",
       "    </tr>\n",
       "  </tbody>\n",
       "</table>\n",
       "<p>1185 rows × 10 columns</p>\n",
       "</div>"
      ],
      "text/plain": [
       "                         high_confidence  length  reads  umis     v_gene  \\\n",
       "barcodekey                                                                 \n",
       "health-AAACCTGAGAGCAATT             True     626    931     7    IGKV4-1   \n",
       "health-AAAGCAACATCACAAC             True     587   1823    16   IGKV1-12   \n",
       "health-AAAGTAGAGTGACATA             True     570   3604    35    IGKV4-1   \n",
       "health-AAATGCCAGTGTTGAA             True     695  12547   113    IGKV4-1   \n",
       "health-AAATGCCCACCGCTAG             True     671   2229    24  IGKV1D-17   \n",
       "...                                  ...     ...    ...   ...        ...   \n",
       "health-TTTGTCAAGTCATGCT             True     671   8218    77   IGKV3-15   \n",
       "health-TTTGTCACAAACCCAT            False       0      0     0       None   \n",
       "health-TTTGTCACAGCTCGAC             True     677  15418   142   IGKV1-12   \n",
       "health-TTTGTCACAGTAAGAT             True     679   5729    59  IGKV2D-40   \n",
       "health-TTTGTCAGTCCAGTAT            False       0      0     0       None   \n",
       "\n",
       "                        d_gene j_gene c_gene          cdr3  \\\n",
       "barcodekey                                                   \n",
       "health-AAACCTGAGAGCAATT   None  IGKJ4   IGKC   CQQYYSTPLTF   \n",
       "health-AAAGCAACATCACAAC   None  IGKJ2   IGKC    CQQADSPPLF   \n",
       "health-AAAGTAGAGTGACATA   None  IGKJ3   IGKC   CQQYYSTPFTF   \n",
       "health-AAATGCCAGTGTTGAA   None  IGKJ1   IGKC   CQQYYSTHRTF   \n",
       "health-AAATGCCCACCGCTAG   None  IGKJ2   IGKC   CLQHNSYPYTF   \n",
       "...                        ...    ...    ...           ...   \n",
       "health-TTTGTCAAGTCATGCT   None  IGKJ4   IGKC  CQQYNNWPPLTF   \n",
       "health-TTTGTCACAAACCCAT   None   None   None          None   \n",
       "health-TTTGTCACAGCTCGAC   None  IGKJ2   IGKC   CQQARSLPYTF   \n",
       "health-TTTGTCACAGTAAGAT   None  IGKJ2   IGKC   CMQRIEFPYTF   \n",
       "health-TTTGTCAGTCCAGTAT   None   None   None          None   \n",
       "\n",
       "                                                      cdr3_nt  \n",
       "barcodekey                                                     \n",
       "health-AAACCTGAGAGCAATT     TGTCAGCAGTATTATAGTACTCCTCTCACTTTC  \n",
       "health-AAAGCAACATCACAAC        TGTCAACAGGCTGACAGTCCCCCTCTTTTT  \n",
       "health-AAAGTAGAGTGACATA     TGTCAGCAATATTATAGTACTCCATTCACTTTC  \n",
       "health-AAATGCCAGTGTTGAA     TGTCAGCAATATTATAGCACTCATCGGACGTTC  \n",
       "health-AAATGCCCACCGCTAG     TGTCTACAGCATAATAGTTACCCGTACACTTTT  \n",
       "...                                                       ...  \n",
       "health-TTTGTCAAGTCATGCT  TGTCAGCAGTATAATAACTGGCCTCCCCTCACTTTC  \n",
       "health-TTTGTCACAAACCCAT                                  None  \n",
       "health-TTTGTCACAGCTCGAC     TGTCAACAGGCTCGCAGCCTCCCGTACACTTTT  \n",
       "health-TTTGTCACAGTAAGAT     TGCATGCAACGTATAGAGTTCCCGTACACTTTT  \n",
       "health-TTTGTCAGTCCAGTAT                                  None  \n",
       "\n",
       "[1185 rows x 10 columns]"
      ]
     },
     "execution_count": 31,
     "metadata": {},
     "output_type": "execute_result"
    }
   ],
   "source": [
    "data6.get_chain('IGK')"
   ]
  },
  {
   "cell_type": "code",
   "execution_count": 32,
   "metadata": {},
   "outputs": [
    {
     "data": {
      "text/html": [
       "<div>\n",
       "<style scoped>\n",
       "    .dataframe tbody tr th:only-of-type {\n",
       "        vertical-align: middle;\n",
       "    }\n",
       "\n",
       "    .dataframe tbody tr th {\n",
       "        vertical-align: top;\n",
       "    }\n",
       "\n",
       "    .dataframe thead th {\n",
       "        text-align: right;\n",
       "    }\n",
       "</style>\n",
       "<table border=\"1\" class=\"dataframe\">\n",
       "  <thead>\n",
       "    <tr style=\"text-align: right;\">\n",
       "      <th></th>\n",
       "      <th>high_confidence</th>\n",
       "      <th>length</th>\n",
       "      <th>reads</th>\n",
       "      <th>umis</th>\n",
       "      <th>v_gene</th>\n",
       "      <th>d_gene</th>\n",
       "      <th>j_gene</th>\n",
       "      <th>c_gene</th>\n",
       "      <th>cdr3</th>\n",
       "      <th>cdr3_nt</th>\n",
       "    </tr>\n",
       "    <tr>\n",
       "      <th>barcodekey</th>\n",
       "      <th></th>\n",
       "      <th></th>\n",
       "      <th></th>\n",
       "      <th></th>\n",
       "      <th></th>\n",
       "      <th></th>\n",
       "      <th></th>\n",
       "      <th></th>\n",
       "      <th></th>\n",
       "      <th></th>\n",
       "    </tr>\n",
       "  </thead>\n",
       "  <tbody>\n",
       "    <tr>\n",
       "      <th>health-AAACCTGAGAGCAATT</th>\n",
       "      <td>True</td>\n",
       "      <td>636</td>\n",
       "      <td>569</td>\n",
       "      <td>12</td>\n",
       "      <td>IGLV2-14</td>\n",
       "      <td>None</td>\n",
       "      <td>IGLJ2</td>\n",
       "      <td>IGLC2</td>\n",
       "      <td>CSSYTSSSPLF</td>\n",
       "      <td>TGCAGCTCATATACAAGCAGCAGCCCCTTATTC</td>\n",
       "    </tr>\n",
       "    <tr>\n",
       "      <th>health-AAAGCAACATCACAAC</th>\n",
       "      <td>False</td>\n",
       "      <td>0</td>\n",
       "      <td>0</td>\n",
       "      <td>0</td>\n",
       "      <td>None</td>\n",
       "      <td>None</td>\n",
       "      <td>None</td>\n",
       "      <td>None</td>\n",
       "      <td>None</td>\n",
       "      <td>None</td>\n",
       "    </tr>\n",
       "    <tr>\n",
       "      <th>health-AAAGTAGAGTGACATA</th>\n",
       "      <td>False</td>\n",
       "      <td>0</td>\n",
       "      <td>0</td>\n",
       "      <td>0</td>\n",
       "      <td>None</td>\n",
       "      <td>None</td>\n",
       "      <td>None</td>\n",
       "      <td>None</td>\n",
       "      <td>None</td>\n",
       "      <td>None</td>\n",
       "    </tr>\n",
       "    <tr>\n",
       "      <th>health-AAATGCCAGTGTTGAA</th>\n",
       "      <td>False</td>\n",
       "      <td>0</td>\n",
       "      <td>0</td>\n",
       "      <td>0</td>\n",
       "      <td>None</td>\n",
       "      <td>None</td>\n",
       "      <td>None</td>\n",
       "      <td>None</td>\n",
       "      <td>None</td>\n",
       "      <td>None</td>\n",
       "    </tr>\n",
       "    <tr>\n",
       "      <th>health-AAATGCCCACCGCTAG</th>\n",
       "      <td>False</td>\n",
       "      <td>0</td>\n",
       "      <td>0</td>\n",
       "      <td>0</td>\n",
       "      <td>None</td>\n",
       "      <td>None</td>\n",
       "      <td>None</td>\n",
       "      <td>None</td>\n",
       "      <td>None</td>\n",
       "      <td>None</td>\n",
       "    </tr>\n",
       "    <tr>\n",
       "      <th>...</th>\n",
       "      <td>...</td>\n",
       "      <td>...</td>\n",
       "      <td>...</td>\n",
       "      <td>...</td>\n",
       "      <td>...</td>\n",
       "      <td>...</td>\n",
       "      <td>...</td>\n",
       "      <td>...</td>\n",
       "      <td>...</td>\n",
       "      <td>...</td>\n",
       "    </tr>\n",
       "    <tr>\n",
       "      <th>health-TTTGTCAAGTCATGCT</th>\n",
       "      <td>False</td>\n",
       "      <td>0</td>\n",
       "      <td>0</td>\n",
       "      <td>0</td>\n",
       "      <td>None</td>\n",
       "      <td>None</td>\n",
       "      <td>None</td>\n",
       "      <td>None</td>\n",
       "      <td>None</td>\n",
       "      <td>None</td>\n",
       "    </tr>\n",
       "    <tr>\n",
       "      <th>health-TTTGTCACAAACCCAT</th>\n",
       "      <td>True</td>\n",
       "      <td>705</td>\n",
       "      <td>3737</td>\n",
       "      <td>69</td>\n",
       "      <td>IGLV3-19</td>\n",
       "      <td>None</td>\n",
       "      <td>IGLJ2</td>\n",
       "      <td>IGLC2</td>\n",
       "      <td>CNSRDSSGNHVVF</td>\n",
       "      <td>TGTAACTCCCGGGACAGCAGTGGTAACCATGTGGTATTC</td>\n",
       "    </tr>\n",
       "    <tr>\n",
       "      <th>health-TTTGTCACAGCTCGAC</th>\n",
       "      <td>False</td>\n",
       "      <td>0</td>\n",
       "      <td>0</td>\n",
       "      <td>0</td>\n",
       "      <td>None</td>\n",
       "      <td>None</td>\n",
       "      <td>None</td>\n",
       "      <td>None</td>\n",
       "      <td>None</td>\n",
       "      <td>None</td>\n",
       "    </tr>\n",
       "    <tr>\n",
       "      <th>health-TTTGTCACAGTAAGAT</th>\n",
       "      <td>False</td>\n",
       "      <td>0</td>\n",
       "      <td>0</td>\n",
       "      <td>0</td>\n",
       "      <td>None</td>\n",
       "      <td>None</td>\n",
       "      <td>None</td>\n",
       "      <td>None</td>\n",
       "      <td>None</td>\n",
       "      <td>None</td>\n",
       "    </tr>\n",
       "    <tr>\n",
       "      <th>health-TTTGTCAGTCCAGTAT</th>\n",
       "      <td>True</td>\n",
       "      <td>674</td>\n",
       "      <td>1748</td>\n",
       "      <td>36</td>\n",
       "      <td>IGLV2-14</td>\n",
       "      <td>None</td>\n",
       "      <td>IGLJ2</td>\n",
       "      <td>IGLC2</td>\n",
       "      <td>CSSYTSSSTVF</td>\n",
       "      <td>TGCAGCTCATATACAAGCAGCAGCACGGTATTC</td>\n",
       "    </tr>\n",
       "  </tbody>\n",
       "</table>\n",
       "<p>1185 rows × 10 columns</p>\n",
       "</div>"
      ],
      "text/plain": [
       "                         high_confidence  length  reads  umis    v_gene  \\\n",
       "barcodekey                                                                \n",
       "health-AAACCTGAGAGCAATT             True     636    569    12  IGLV2-14   \n",
       "health-AAAGCAACATCACAAC            False       0      0     0      None   \n",
       "health-AAAGTAGAGTGACATA            False       0      0     0      None   \n",
       "health-AAATGCCAGTGTTGAA            False       0      0     0      None   \n",
       "health-AAATGCCCACCGCTAG            False       0      0     0      None   \n",
       "...                                  ...     ...    ...   ...       ...   \n",
       "health-TTTGTCAAGTCATGCT            False       0      0     0      None   \n",
       "health-TTTGTCACAAACCCAT             True     705   3737    69  IGLV3-19   \n",
       "health-TTTGTCACAGCTCGAC            False       0      0     0      None   \n",
       "health-TTTGTCACAGTAAGAT            False       0      0     0      None   \n",
       "health-TTTGTCAGTCCAGTAT             True     674   1748    36  IGLV2-14   \n",
       "\n",
       "                        d_gene j_gene c_gene           cdr3  \\\n",
       "barcodekey                                                    \n",
       "health-AAACCTGAGAGCAATT   None  IGLJ2  IGLC2    CSSYTSSSPLF   \n",
       "health-AAAGCAACATCACAAC   None   None   None           None   \n",
       "health-AAAGTAGAGTGACATA   None   None   None           None   \n",
       "health-AAATGCCAGTGTTGAA   None   None   None           None   \n",
       "health-AAATGCCCACCGCTAG   None   None   None           None   \n",
       "...                        ...    ...    ...            ...   \n",
       "health-TTTGTCAAGTCATGCT   None   None   None           None   \n",
       "health-TTTGTCACAAACCCAT   None  IGLJ2  IGLC2  CNSRDSSGNHVVF   \n",
       "health-TTTGTCACAGCTCGAC   None   None   None           None   \n",
       "health-TTTGTCACAGTAAGAT   None   None   None           None   \n",
       "health-TTTGTCAGTCCAGTAT   None  IGLJ2  IGLC2    CSSYTSSSTVF   \n",
       "\n",
       "                                                         cdr3_nt  \n",
       "barcodekey                                                        \n",
       "health-AAACCTGAGAGCAATT        TGCAGCTCATATACAAGCAGCAGCCCCTTATTC  \n",
       "health-AAAGCAACATCACAAC                                     None  \n",
       "health-AAAGTAGAGTGACATA                                     None  \n",
       "health-AAATGCCAGTGTTGAA                                     None  \n",
       "health-AAATGCCCACCGCTAG                                     None  \n",
       "...                                                          ...  \n",
       "health-TTTGTCAAGTCATGCT                                     None  \n",
       "health-TTTGTCACAAACCCAT  TGTAACTCCCGGGACAGCAGTGGTAACCATGTGGTATTC  \n",
       "health-TTTGTCACAGCTCGAC                                     None  \n",
       "health-TTTGTCACAGTAAGAT                                     None  \n",
       "health-TTTGTCAGTCCAGTAT        TGCAGCTCATATACAAGCAGCAGCACGGTATTC  \n",
       "\n",
       "[1185 rows x 10 columns]"
      ]
     },
     "execution_count": 32,
     "metadata": {},
     "output_type": "execute_result"
    }
   ],
   "source": [
    "data6.get_chain('IGL')"
   ]
  },
  {
   "cell_type": "code",
   "execution_count": 33,
   "metadata": {},
   "outputs": [
    {
     "data": {
      "text/html": [
       "<div>\n",
       "<style scoped>\n",
       "    .dataframe tbody tr th:only-of-type {\n",
       "        vertical-align: middle;\n",
       "    }\n",
       "\n",
       "    .dataframe tbody tr th {\n",
       "        vertical-align: top;\n",
       "    }\n",
       "\n",
       "    .dataframe thead th {\n",
       "        text-align: right;\n",
       "    }\n",
       "</style>\n",
       "<table border=\"1\" class=\"dataframe\">\n",
       "  <thead>\n",
       "    <tr style=\"text-align: right;\">\n",
       "      <th></th>\n",
       "      <th>high_confidence</th>\n",
       "      <th>length</th>\n",
       "      <th>reads</th>\n",
       "      <th>umis</th>\n",
       "      <th>v_gene</th>\n",
       "      <th>d_gene</th>\n",
       "      <th>j_gene</th>\n",
       "      <th>c_gene</th>\n",
       "      <th>cdr3</th>\n",
       "      <th>cdr3_nt</th>\n",
       "    </tr>\n",
       "    <tr>\n",
       "      <th>barcodekey</th>\n",
       "      <th></th>\n",
       "      <th></th>\n",
       "      <th></th>\n",
       "      <th></th>\n",
       "      <th></th>\n",
       "      <th></th>\n",
       "      <th></th>\n",
       "      <th></th>\n",
       "      <th></th>\n",
       "      <th></th>\n",
       "    </tr>\n",
       "  </thead>\n",
       "  <tbody>\n",
       "    <tr>\n",
       "      <th>health-AAACCTGAGAGCAATT</th>\n",
       "      <td>True</td>\n",
       "      <td>594</td>\n",
       "      <td>327</td>\n",
       "      <td>2</td>\n",
       "      <td>IGHV1-2</td>\n",
       "      <td>IGHD1-26</td>\n",
       "      <td>IGHJ4</td>\n",
       "      <td>IGHD</td>\n",
       "      <td>CARGNSGSYNRNWFFDYW</td>\n",
       "      <td>TGTGCGAGAGGCAATAGTGGGAGCTACAATCGAAATTGGTTCTTTG...</td>\n",
       "    </tr>\n",
       "    <tr>\n",
       "      <th>health-AAAGCAACATCACAAC</th>\n",
       "      <td>False</td>\n",
       "      <td>0</td>\n",
       "      <td>0</td>\n",
       "      <td>0</td>\n",
       "      <td>None</td>\n",
       "      <td>None</td>\n",
       "      <td>None</td>\n",
       "      <td>None</td>\n",
       "      <td>None</td>\n",
       "      <td>None</td>\n",
       "    </tr>\n",
       "    <tr>\n",
       "      <th>health-AAAGTAGAGTGACATA</th>\n",
       "      <td>True</td>\n",
       "      <td>652</td>\n",
       "      <td>3640</td>\n",
       "      <td>38</td>\n",
       "      <td>IGHV1-2</td>\n",
       "      <td>IGHD3-16</td>\n",
       "      <td>IGHJ5</td>\n",
       "      <td>IGHA1</td>\n",
       "      <td>CARVPGWGHNYFDPW</td>\n",
       "      <td>TGTGCGAGAGTCCCCGGTTGGGGACACAACTACTTCGACCCCTGG</td>\n",
       "    </tr>\n",
       "    <tr>\n",
       "      <th>health-AAATGCCAGTGTTGAA</th>\n",
       "      <td>True</td>\n",
       "      <td>691</td>\n",
       "      <td>2631</td>\n",
       "      <td>39</td>\n",
       "      <td>IGHV1-69-2</td>\n",
       "      <td>IGHD6-25</td>\n",
       "      <td>IGHJ4</td>\n",
       "      <td>IGHG2</td>\n",
       "      <td>CARDVPEGKAAILGYFDWW</td>\n",
       "      <td>TGTGCGAGAGATGTCCCAGAGGGAAAAGCGGCCATTTTAGGGTACT...</td>\n",
       "    </tr>\n",
       "    <tr>\n",
       "      <th>health-AAATGCCCACCGCTAG</th>\n",
       "      <td>True</td>\n",
       "      <td>521</td>\n",
       "      <td>3041</td>\n",
       "      <td>30</td>\n",
       "      <td>IGHV2-5</td>\n",
       "      <td>IGHD4-17</td>\n",
       "      <td>IGHJ4</td>\n",
       "      <td>IGHM</td>\n",
       "      <td>CAHRRYGDYDGDFDYW</td>\n",
       "      <td>TGTGCACACAGACGTTACGGTGACTACGACGGAGACTTTGACTACTGG</td>\n",
       "    </tr>\n",
       "    <tr>\n",
       "      <th>...</th>\n",
       "      <td>...</td>\n",
       "      <td>...</td>\n",
       "      <td>...</td>\n",
       "      <td>...</td>\n",
       "      <td>...</td>\n",
       "      <td>...</td>\n",
       "      <td>...</td>\n",
       "      <td>...</td>\n",
       "      <td>...</td>\n",
       "      <td>...</td>\n",
       "    </tr>\n",
       "    <tr>\n",
       "      <th>health-TTTGTCAAGTCATGCT</th>\n",
       "      <td>True</td>\n",
       "      <td>574</td>\n",
       "      <td>1161</td>\n",
       "      <td>16</td>\n",
       "      <td>IGHV3-7</td>\n",
       "      <td>IGHD4-4</td>\n",
       "      <td>IGHJ1</td>\n",
       "      <td>IGHM</td>\n",
       "      <td>CARAYFTVTTEGCFQHW</td>\n",
       "      <td>TGTGCGAGAGCTTACTTTACAGTAACTACCGAAGGATGCTTCCAGC...</td>\n",
       "    </tr>\n",
       "    <tr>\n",
       "      <th>health-TTTGTCACAAACCCAT</th>\n",
       "      <td>True</td>\n",
       "      <td>534</td>\n",
       "      <td>2474</td>\n",
       "      <td>31</td>\n",
       "      <td>IGHV4-39</td>\n",
       "      <td>IGHD6-19</td>\n",
       "      <td>IGHJ3</td>\n",
       "      <td>IGHM</td>\n",
       "      <td>CARDSSGWYADAFDIW</td>\n",
       "      <td>TGTGCGAGAGATAGCAGTGGCTGGTACGCGGATGCTTTTGATATCTGG</td>\n",
       "    </tr>\n",
       "    <tr>\n",
       "      <th>health-TTTGTCACAGCTCGAC</th>\n",
       "      <td>True</td>\n",
       "      <td>653</td>\n",
       "      <td>1886</td>\n",
       "      <td>35</td>\n",
       "      <td>IGHV1-24</td>\n",
       "      <td>IGHD4-17</td>\n",
       "      <td>IGHJ4</td>\n",
       "      <td>IGHG1</td>\n",
       "      <td>CVGQNGDYFDYW</td>\n",
       "      <td>TGTGTGGGGCAGAACGGTGACTACTTTGACTACTGG</td>\n",
       "    </tr>\n",
       "    <tr>\n",
       "      <th>health-TTTGTCACAGTAAGAT</th>\n",
       "      <td>True</td>\n",
       "      <td>587</td>\n",
       "      <td>2273</td>\n",
       "      <td>28</td>\n",
       "      <td>IGHV3-23</td>\n",
       "      <td>IGHD6-13</td>\n",
       "      <td>IGHJ4</td>\n",
       "      <td>IGHM</td>\n",
       "      <td>CAKRPDHSSSWYGRGFDYW</td>\n",
       "      <td>TGTGCGAAAAGGCCCGATCATAGCAGCAGCTGGTACGGTAGGGGTT...</td>\n",
       "    </tr>\n",
       "    <tr>\n",
       "      <th>health-TTTGTCAGTCCAGTAT</th>\n",
       "      <td>True</td>\n",
       "      <td>567</td>\n",
       "      <td>1351</td>\n",
       "      <td>14</td>\n",
       "      <td>IGHV4-31</td>\n",
       "      <td>IGHD6-6</td>\n",
       "      <td>IGHJ4</td>\n",
       "      <td>IGHM</td>\n",
       "      <td>CARDLGQLGHFDYW</td>\n",
       "      <td>TGTGCCAGAGATCTAGGGCAGCTCGGCCATTTTGACTACTGG</td>\n",
       "    </tr>\n",
       "  </tbody>\n",
       "</table>\n",
       "<p>1185 rows × 10 columns</p>\n",
       "</div>"
      ],
      "text/plain": [
       "                         high_confidence  length  reads  umis      v_gene  \\\n",
       "barcodekey                                                                  \n",
       "health-AAACCTGAGAGCAATT             True     594    327     2     IGHV1-2   \n",
       "health-AAAGCAACATCACAAC            False       0      0     0        None   \n",
       "health-AAAGTAGAGTGACATA             True     652   3640    38     IGHV1-2   \n",
       "health-AAATGCCAGTGTTGAA             True     691   2631    39  IGHV1-69-2   \n",
       "health-AAATGCCCACCGCTAG             True     521   3041    30     IGHV2-5   \n",
       "...                                  ...     ...    ...   ...         ...   \n",
       "health-TTTGTCAAGTCATGCT             True     574   1161    16     IGHV3-7   \n",
       "health-TTTGTCACAAACCCAT             True     534   2474    31    IGHV4-39   \n",
       "health-TTTGTCACAGCTCGAC             True     653   1886    35    IGHV1-24   \n",
       "health-TTTGTCACAGTAAGAT             True     587   2273    28    IGHV3-23   \n",
       "health-TTTGTCAGTCCAGTAT             True     567   1351    14    IGHV4-31   \n",
       "\n",
       "                           d_gene j_gene c_gene                 cdr3  \\\n",
       "barcodekey                                                             \n",
       "health-AAACCTGAGAGCAATT  IGHD1-26  IGHJ4   IGHD   CARGNSGSYNRNWFFDYW   \n",
       "health-AAAGCAACATCACAAC      None   None   None                 None   \n",
       "health-AAAGTAGAGTGACATA  IGHD3-16  IGHJ5  IGHA1      CARVPGWGHNYFDPW   \n",
       "health-AAATGCCAGTGTTGAA  IGHD6-25  IGHJ4  IGHG2  CARDVPEGKAAILGYFDWW   \n",
       "health-AAATGCCCACCGCTAG  IGHD4-17  IGHJ4   IGHM     CAHRRYGDYDGDFDYW   \n",
       "...                           ...    ...    ...                  ...   \n",
       "health-TTTGTCAAGTCATGCT   IGHD4-4  IGHJ1   IGHM    CARAYFTVTTEGCFQHW   \n",
       "health-TTTGTCACAAACCCAT  IGHD6-19  IGHJ3   IGHM     CARDSSGWYADAFDIW   \n",
       "health-TTTGTCACAGCTCGAC  IGHD4-17  IGHJ4  IGHG1         CVGQNGDYFDYW   \n",
       "health-TTTGTCACAGTAAGAT  IGHD6-13  IGHJ4   IGHM  CAKRPDHSSSWYGRGFDYW   \n",
       "health-TTTGTCAGTCCAGTAT   IGHD6-6  IGHJ4   IGHM       CARDLGQLGHFDYW   \n",
       "\n",
       "                                                                   cdr3_nt  \n",
       "barcodekey                                                                  \n",
       "health-AAACCTGAGAGCAATT  TGTGCGAGAGGCAATAGTGGGAGCTACAATCGAAATTGGTTCTTTG...  \n",
       "health-AAAGCAACATCACAAC                                               None  \n",
       "health-AAAGTAGAGTGACATA      TGTGCGAGAGTCCCCGGTTGGGGACACAACTACTTCGACCCCTGG  \n",
       "health-AAATGCCAGTGTTGAA  TGTGCGAGAGATGTCCCAGAGGGAAAAGCGGCCATTTTAGGGTACT...  \n",
       "health-AAATGCCCACCGCTAG   TGTGCACACAGACGTTACGGTGACTACGACGGAGACTTTGACTACTGG  \n",
       "...                                                                    ...  \n",
       "health-TTTGTCAAGTCATGCT  TGTGCGAGAGCTTACTTTACAGTAACTACCGAAGGATGCTTCCAGC...  \n",
       "health-TTTGTCACAAACCCAT   TGTGCGAGAGATAGCAGTGGCTGGTACGCGGATGCTTTTGATATCTGG  \n",
       "health-TTTGTCACAGCTCGAC               TGTGTGGGGCAGAACGGTGACTACTTTGACTACTGG  \n",
       "health-TTTGTCACAGTAAGAT  TGTGCGAAAAGGCCCGATCATAGCAGCAGCTGGTACGGTAGGGGTT...  \n",
       "health-TTTGTCAGTCCAGTAT         TGTGCCAGAGATCTAGGGCAGCTCGGCCATTTTGACTACTGG  \n",
       "\n",
       "[1185 rows x 10 columns]"
      ]
     },
     "execution_count": 33,
     "metadata": {},
     "output_type": "execute_result"
    }
   ],
   "source": [
    "data6.get_chain('IGH')"
   ]
  },
  {
   "cell_type": "markdown",
   "metadata": {},
   "source": [
    "## Case 7: Process Flow Cytometry data\n",
    "\n"
   ]
  },
  {
   "cell_type": "code",
   "execution_count": 34,
   "metadata": {},
   "outputs": [
    {
     "data": {
      "text/html": [
       "<div>\n",
       "<style scoped>\n",
       "    .dataframe tbody tr th:only-of-type {\n",
       "        vertical-align: middle;\n",
       "    }\n",
       "\n",
       "    .dataframe tbody tr th {\n",
       "        vertical-align: top;\n",
       "    }\n",
       "\n",
       "    .dataframe thead th {\n",
       "        text-align: right;\n",
       "    }\n",
       "</style>\n",
       "<table border=\"1\" class=\"dataframe\">\n",
       "  <thead>\n",
       "    <tr style=\"text-align: right;\">\n",
       "      <th></th>\n",
       "      <th>Sample</th>\n",
       "      <th>Location</th>\n",
       "    </tr>\n",
       "  </thead>\n",
       "  <tbody>\n",
       "    <tr>\n",
       "      <th>0</th>\n",
       "      <td>PBMC1</td>\n",
       "      <td>pegasusio_test_cases/case7/PBMC8_30min_patient...</td>\n",
       "    </tr>\n",
       "    <tr>\n",
       "      <th>1</th>\n",
       "      <td>PBMC2</td>\n",
       "      <td>pegasusio_test_cases/case7/PBMC8_30min_patient...</td>\n",
       "    </tr>\n",
       "    <tr>\n",
       "      <th>2</th>\n",
       "      <td>PBMC3</td>\n",
       "      <td>pegasusio_test_cases/case7/PBMC8_30min_patient...</td>\n",
       "    </tr>\n",
       "  </tbody>\n",
       "</table>\n",
       "</div>"
      ],
      "text/plain": [
       "  Sample                                           Location\n",
       "0  PBMC1  pegasusio_test_cases/case7/PBMC8_30min_patient...\n",
       "1  PBMC2  pegasusio_test_cases/case7/PBMC8_30min_patient...\n",
       "2  PBMC3  pegasusio_test_cases/case7/PBMC8_30min_patient..."
      ]
     },
     "execution_count": 34,
     "metadata": {},
     "output_type": "execute_result"
    }
   ],
   "source": [
    "sheet7 = pd.read_csv(\"pegasusio_test_cases/case7/count_matrix.csv\")\n",
    "sheet7"
   ]
  },
  {
   "cell_type": "code",
   "execution_count": 35,
   "metadata": {},
   "outputs": [
    {
     "name": "stdout",
     "output_type": "stream",
     "text": [
      "pegasusio_test_cases/case7/PBMC8_30min_patient1_Reference.fcs\n",
      "pegasusio_test_cases/case7/PBMC8_30min_patient2_Reference.fcs\n",
      "pegasusio_test_cases/case7/PBMC8_30min_patient3_Reference.fcs\n"
     ]
    }
   ],
   "source": [
    "for _, row in sheet7.iterrows():\n",
    "    print(row['Location'])"
   ]
  },
  {
   "cell_type": "code",
   "execution_count": 36,
   "metadata": {},
   "outputs": [
    {
     "name": "stdout",
     "output_type": "stream",
     "text": [
      "2020-06-05 09:35:51,708 - pegasusio.readwrite - INFO - fcs file 'pegasusio_test_cases/case7/PBMC8_30min_patient1_Reference.fcs' is loaded.\n",
      "2020-06-05 09:35:51,709 - pegasusio.readwrite - INFO - Function 'read_input' finished in 0.01s.\n",
      "2020-06-05 09:35:51,727 - pegasusio.readwrite - INFO - fcs file 'pegasusio_test_cases/case7/PBMC8_30min_patient2_Reference.fcs' is loaded.\n",
      "2020-06-05 09:35:51,727 - pegasusio.readwrite - INFO - Function 'read_input' finished in 0.02s.\n",
      "2020-06-05 09:35:51,740 - pegasusio.readwrite - INFO - fcs file 'pegasusio_test_cases/case7/PBMC8_30min_patient3_Reference.fcs' is loaded.\n",
      "2020-06-05 09:35:51,741 - pegasusio.readwrite - INFO - Function 'read_input' finished in 0.01s.\n",
      "2020-06-05 09:35:51,866 - pegasusio.aggr_data - INFO - Function 'aggregate' finished in 0.11s.\n",
      "2020-06-05 09:35:51,867 - pegasusio.data_aggregation - INFO - Aggregated 3 files.\n",
      "2020-06-05 09:35:51,868 - pegasusio.data_aggregation - INFO - Function 'aggregate_matrices' finished in 0.17s.\n"
     ]
    },
    {
     "data": {
      "text/plain": [
       "MultimodalData object with 1 UnimodalData: 'unknown-cyto'\n",
       "    It currently binds to CytoData object unknown-cyto\n",
       "\n",
       "CytoData object with n_obs x n_vars = 28898 x 35\n",
       "    Genome: unknown; Modality: cyto\n",
       "    It contains 2 matrices: 'raw.data', 'arcsinh.transformed'\n",
       "    It currently binds to matrix 'arcsinh.transformed' as X\n",
       "\n",
       "    obs: 'Channel'\n",
       "    var: 'featureid', '_control_id'\n",
       "    obsm: '_controls'\n",
       "    varm: \n",
       "    uns: 'genome', 'modality', 'uns_dict', '_control_names'"
      ]
     },
     "execution_count": 36,
     "metadata": {},
     "output_type": "execute_result"
    }
   ],
   "source": [
    "data7 = io.aggregate_matrices(\"pegasusio_test_cases/case7/count_matrix.csv\")\n",
    "data7.arcsinh_transform()\n",
    "data7"
   ]
  }
 ],
 "metadata": {
  "kernelspec": {
   "display_name": "Python 3",
   "language": "python",
   "name": "python3"
  },
  "language_info": {
   "codemirror_mode": {
    "name": "ipython",
    "version": 3
   },
   "file_extension": ".py",
   "mimetype": "text/x-python",
   "name": "python",
   "nbconvert_exporter": "python",
   "pygments_lexer": "ipython3",
   "version": "3.8.3"
  }
 },
 "nbformat": 4,
 "nbformat_minor": 4
}
