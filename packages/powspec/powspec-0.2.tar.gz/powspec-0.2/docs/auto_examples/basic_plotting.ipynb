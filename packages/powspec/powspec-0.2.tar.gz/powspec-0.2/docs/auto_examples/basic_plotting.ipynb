{
  "cells": [
    {
      "cell_type": "code",
      "execution_count": null,
      "metadata": {
        "collapsed": false
      },
      "outputs": [],
      "source": [
        "%matplotlib inline"
      ]
    },
    {
      "cell_type": "markdown",
      "metadata": {},
      "source": [
        "\n# Basic Usage of powspec\n\n"
      ]
    },
    {
      "cell_type": "code",
      "execution_count": null,
      "metadata": {
        "collapsed": false
      },
      "outputs": [],
      "source": [
        "import matplotlib.pyplot as plt\n# sphinx_gallery_thumbnail_path = '_static/demo.png'\nimport astropy.units as u\nfrom astropy.visualization import quantity_support\n\nimport numpy as np\nfrom powspec.powspec import power_spectral_density\nfrom powspec.utils.generator import gen_pkfield\n\nquantity_support()"
      ]
    },
    {
      "cell_type": "markdown",
      "metadata": {},
      "source": [
        "Create fake images\n------------------\n\nCreate a list of fake images with different P(k)\n\n\n"
      ]
    },
    {
      "cell_type": "code",
      "execution_count": null,
      "metadata": {
        "collapsed": false
      },
      "outputs": [],
      "source": [
        "res = 1 * u.arcmin\nalphas = [-1, -2, -3]\nimages = []\nfor alpha in alphas:\n    images.append(\n        gen_pkfield(npix=1024, alpha=alpha, fknee=0.1 / u.arcmin, res=res) * u.MJy\n    )"
      ]
    },
    {
      "cell_type": "markdown",
      "metadata": {},
      "source": [
        "Compute P(k)\n------------\n\nCompute power spectra of each images\n\n\n"
      ]
    },
    {
      "cell_type": "code",
      "execution_count": null,
      "metadata": {
        "collapsed": false
      },
      "outputs": [],
      "source": [
        "powspecs = []\nfor image in images:\n    powspec, k = power_spectral_density(image, res=res)\n    powspecs.append(powspec)\n\n\nk_mid = np.mean(u.Quantity([k[1:], k[:-1]]), axis=0)"
      ]
    },
    {
      "cell_type": "markdown",
      "metadata": {},
      "source": [
        "Plots\n-----\n\n"
      ]
    },
    {
      "cell_type": "code",
      "execution_count": null,
      "metadata": {
        "collapsed": false
      },
      "outputs": [],
      "source": [
        "fig = plt.figure()\ngs = fig.add_gridspec(ncols=2, nrows=len(alphas))\nax_pk = fig.add_subplot(gs[:, 0])\n\nfor i, (image, powspec, alpha) in enumerate(zip(images, powspecs, alphas)):\n\n    ax_pk.loglog(k_mid.to(u.arcmin ** -1), powspec.to(u.MJy ** 2 / u.arcmin ** 2), label=alpha)\n    ax = fig.add_subplot(gs[i, 1])\n    ax.imshow(image.value, origin=\"lower\")\n\nplt.show()"
      ]
    }
  ],
  "metadata": {
    "kernelspec": {
      "display_name": "Python 3",
      "language": "python",
      "name": "python3"
    },
    "language_info": {
      "codemirror_mode": {
        "name": "ipython",
        "version": 3
      },
      "file_extension": ".py",
      "mimetype": "text/x-python",
      "name": "python",
      "nbconvert_exporter": "python",
      "pygments_lexer": "ipython3",
      "version": "3.8.2"
    }
  },
  "nbformat": 4,
  "nbformat_minor": 0
}